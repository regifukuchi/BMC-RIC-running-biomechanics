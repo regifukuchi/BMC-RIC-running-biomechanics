{
 "cells": [
  {
   "cell_type": "markdown",
   "id": "b12e57ac",
   "metadata": {},
   "source": [
    "# RIC and RBDS debugg joint angle calculation\n",
    "\n",
    "Reginaldo K Fukuchi \n",
    "\n",
    "### Debugg angles\n",
    "Try to find the source of difference in the outputs of RIC and RBDS angles. So far the only direction that seems consistent is the Z-axis.\n",
    "\n",
    "Start by checking the foot markers and reference frame.\n",
    "\n",
    "RBDS Lab Coordinate system\n",
    "*       X - points to the driection of walking\n",
    "*       Y - points vertically upwards\n",
    "*       Z - points to the subject's right\n",
    "\n",
    "RIC the following Lab Coordinate system\n",
    "*       X - points to the subject's right\n",
    "*       Y - points vertically upwards\n",
    "*       Z - points opposite of the walking direction\n",
    "\n",
    "%% NOTE the Segment coordinate systems\n",
    "*       X - Anterior .....................................[AB / AD duction]\n",
    "*       Y - Vertically upwards ............................[Axial rotation]\n",
    "*       Z - points to the subject's right side ...[Hinge flexion extension]\n",
    "\n",
    "This NB implements the \"gait_steps.m\" Sean Osis method to detect gait events.\n",
    "# <font color='red'>PENDING</font>\n",
    "CONTINUE CHECKING LEFT SIDE. IN PRINCIPLE LEFT HIP IS NO CONSISTENT, START DEBUGGING!!"
   ]
  },
  {
   "cell_type": "code",
   "execution_count": 1,
   "id": "7f4e9cc6",
   "metadata": {},
   "outputs": [],
   "source": [
    "# Prepare environment\n",
    "import os, glob\n",
    "import numpy as np\n",
    "import pandas as pd\n",
    "import seaborn as sns\n",
    "import matplotlib.pyplot as plt\n",
    "%matplotlib inline\n",
    "\n",
    "import sys\n",
    "sys.path.insert(1, r'../functions')"
   ]
  },
  {
   "cell_type": "code",
   "execution_count": 2,
   "id": "c1214bc4-0d18-40f7-823f-218938e27d03",
   "metadata": {},
   "outputs": [],
   "source": [
    "#from ezc3d import c3d\n",
    "import parse_gait_kinematics as parse_gait\n",
    "from gait_kinematics import gait_kinematics\n",
    "from gait_steps import gait_steps\n",
    "from svdt import svdt"
   ]
  },
  {
   "cell_type": "code",
   "execution_count": 3,
   "id": "154bf62d-2d53-40de-80dc-a92f72d42fa7",
   "metadata": {},
   "outputs": [],
   "source": [
    "def cardanangles(r):\n",
    "    '''\n",
    "    %%%%%%%%%%%%%%%%%%%%%%%%%%%%%%%%%%%%%%%%%%%%%%%%%%%%%%%%%%%%%%%%%%%%%%%%%%%\n",
    "    # %   This function inputs the ROTATION matrix for a given joint\n",
    "    # %   at one point in time and uses the cardan angles sequence to\n",
    "    # %   provide the XYZ joint angles in OUT argument\n",
    "    # %\n",
    "    # %   The function uses the following  rotation matrix to calculate angles\n",
    "    # %      | CzCy-SzSySx  SzCy+CzSySx  -SyCx |\n",
    "    # %      | -SzCx        CzCx         Sx    |\n",
    "    # %      | CzSy+SzCySx  SzSy-CzCySx  CyCx  |\n",
    "    # %  INPUTS\n",
    "    # %  --------\n",
    "    # %   R (mat):    A 3x3 rotation matrix for a joint\n",
    "\n",
    "    # %  OUTPUTS\n",
    "    # %  -------\n",
    "    # %  OUT (mat):      The three (1x3) planes of rotation in radians\n",
    "    # %%%%%%%%%%%%%%%%%%%%%%%%%%%%%%%%%%%%%%%%%%%%%%%%%%%%%%%%%%%%%%%%%%%%%%%%%%%\n",
    "    # %%\n",
    "    # %   angle.L_ankle(i,:) = cardanangles(R.L_ankle(:,:,i));\n",
    "\n",
    "    # % the use of atan2 increases the stability by avoiding gimble lock in\n",
    "    # % the physiologicaly posible range of joint angles.\n",
    "    '''\n",
    "    # Prepare Python environment\n",
    "    import numpy as np\n",
    "    x = np.arctan2(r[1,2], np.sqrt(r[0,2]**2+r[2,2]**2))\n",
    "    y = np.arctan2(-r[0,2], r[2,2])\n",
    "    z = np.arctan2(-r[1,0], r[1,1])\n",
    "\n",
    "    out = np.array([x,y,z])\n",
    "\n",
    "    return out"
   ]
  },
  {
   "cell_type": "markdown",
   "id": "8e09f228-0826-4e86-ab8b-408c7323c02f",
   "metadata": {
    "tags": []
   },
   "source": [
    "### RIC data"
   ]
  },
  {
   "cell_type": "code",
   "execution_count": 4,
   "id": "e89a1b92-cc62-43e0-a2e7-a8efecf21b38",
   "metadata": {
    "tags": []
   },
   "outputs": [],
   "source": [
    "sub_id = '101679'\n",
    "trial = '20160226T120637'"
   ]
  },
  {
   "cell_type": "code",
   "execution_count": 5,
   "id": "c4b276c7-e9d1-4cf6-919d-8ff2cdaf34af",
   "metadata": {},
   "outputs": [],
   "source": [
    "figshare_dir = r'C:\\Users\\Reginaldo\\OneDrive - University of Calgary\\data\\Figshare_SciData\\new_unzip'\n",
    "# This subject and trial is the best match for speed of 3.5 m/s and age\n",
    "fn_json=os.path.join(figshare_dir, sub_id, trial+'.json')\n",
    "neutral, joints, gait, hz = parse_gait.parse_RIC(fn_json)"
   ]
  },
  {
   "cell_type": "markdown",
   "id": "c8a1bf22-8528-40ce-a62d-377b3b21aee5",
   "metadata": {},
   "source": [
    "## RBDS"
   ]
  },
  {
   "cell_type": "markdown",
   "id": "7c4312c3-c0c3-44cb-8f0e-369bb1ebc200",
   "metadata": {},
   "source": [
    "data_dir = r'C:\\Users\\Reginaldo\\Documents\\data\\CNPq\\RBDS_v2\\Figshare'\n",
    "fn_static = os.path.join(data_dir,'RBDS001static.c3d')\n",
    "fn_gait = os.path.join(data_dir,'RBDS001runT35.c3d')\n",
    "neutral, joints, gait, hz = parse_gait.parse_RBDS(fn_static, fn_gait)"
   ]
  },
  {
   "cell_type": "markdown",
   "id": "a4638917-b4e8-4ff7-824f-6e7e5c9ad0f8",
   "metadata": {
    "tags": []
   },
   "source": [
    "#### Reproduce method to calculate 3D angles\n",
    "Provide same output as gait_kinematics.m Matlab function written by Sean Osis."
   ]
  },
  {
   "cell_type": "code",
   "execution_count": 6,
   "id": "cc8f070a-dcf0-4428-9821-2443a86d0839",
   "metadata": {},
   "outputs": [],
   "source": [
    "# JOINT CENTRES\n",
    "# Thigh markers\n",
    "R_lat_knee = joints[['R_lat_knee_X','R_lat_knee_Y','R_lat_knee_Z']].values.flatten()\n",
    "R_med_knee = joints[['R_med_knee_X','R_med_knee_Y','R_med_knee_Z']].values.flatten()\n",
    "L_lat_knee = joints[['L_lat_knee_X','L_lat_knee_Y','L_lat_knee_Z']].values.flatten()\n",
    "L_med_knee = joints[['L_med_knee_X','L_med_knee_Y','L_med_knee_Z']].values.flatten()\n",
    "L_hip = joints[['L_hip_X','L_hip_Y','L_hip_Z']].values.flatten()\n",
    "R_hip = joints[['R_hip_X','R_hip_Y','R_hip_Z']].values.flatten()\n",
    "# Shank markers\n",
    "R_lat_ankle = joints[['R_lat_ankle_X','R_lat_ankle_Y','R_lat_ankle_Z']].values.flatten()\n",
    "R_med_ankle = joints[['R_med_ankle_X','R_med_ankle_Y','R_med_ankle_Z']].values.flatten()\n",
    "L_lat_ankle = joints[['L_lat_ankle_X','L_lat_ankle_Y','L_lat_ankle_Z']].values.flatten()\n",
    "L_med_ankle = joints[['L_med_ankle_X','L_med_ankle_Y','L_med_ankle_Z']].values.flatten()\n",
    "# Pelvis markers\n",
    "pelvis_1 = neutral[['pelvis_1_X','pelvis_1_Y','pelvis_1_Z']].values.flatten()\n",
    "pelvis_2 = neutral[['pelvis_2_X','pelvis_2_Y','pelvis_2_Z']].values.flatten()\n",
    "pelvis_3 = neutral[['pelvis_3_X','pelvis_3_Y','pelvis_3_Z']].values.flatten()\n",
    "pelvis_4 = neutral[['pelvis_4_X','pelvis_4_Y','pelvis_4_Z']].values.flatten()\n",
    "\n",
    "# the pelvis_jc is simply the average location of the pelvis markers\n",
    "jcPelvis = (pelvis_1+pelvis_2+pelvis_3+pelvis_4)/4\n",
    "\n",
    "# HJC\n",
    "jcL_hip = L_hip + (R_hip-L_hip)/4\n",
    "jcR_hip = R_hip + (L_hip-R_hip)/4\n",
    "# midpoint of the two knee markers\n",
    "jcL_knee = (L_lat_knee+L_med_knee)/2\n",
    "jcR_knee = (R_lat_knee+R_med_knee)/2\n",
    "# midpoint of the two ankle markers\n",
    "jcL_ankle = (L_lat_ankle+L_med_ankle)/2\n",
    "jcR_ankle = (R_med_ankle+R_lat_ankle)/2"
   ]
  },
  {
   "cell_type": "code",
   "execution_count": 7,
   "id": "03502632-b651-446f-8af1-a3051614b0dc",
   "metadata": {},
   "outputs": [
    {
     "name": "stdout",
     "output_type": "stream",
     "text": [
      "Versors of the Left foot segment from anatomical to global\n",
      "[[ 0.         -0.01809658  0.99983624]\n",
      " [ 0.          0.99983624  0.01809658]\n",
      " [-1.          0.          0.        ]]\n"
     ]
    }
   ],
   "source": [
    "## LEFT FOOT\n",
    "#% long axis of the the foot is aligned with the lab\n",
    "l_foot_x = np.array([0, 0, -1])\n",
    "\n",
    "#% vertical axis of the foot is aligned with the two markers on the heel\n",
    "#% FIRST need to identify the heel markers\n",
    "#% Combine 3 feet markers into one matrix ... can ignore the created fourth one\n",
    "L_foot = neutral[['L_foot_1_X','L_foot_1_Y','L_foot_1_Z',\n",
    "                 'L_foot_2_X','L_foot_2_Y','L_foot_2_Z',\n",
    "                 'L_foot_3_X','L_foot_3_Y','L_foot_3_Z']].values.reshape((3,3))\n",
    "\n",
    "# sort the markers from left to right\n",
    "L_foot = L_foot[L_foot[:, 0].argsort()]\n",
    "# SECOND, create a vector from the two left markers (not the lateral one)\n",
    "l_foot_temp = (L_foot[1,:]-L_foot[2,:])/np.linalg.norm(L_foot[1,:]-L_foot[2,:])\n",
    "\n",
    "#% check that it is pointing up ... and if not, flip it\n",
    "if l_foot_temp[1] < 0:\n",
    "    l_foot_temp = -l_foot_temp\n",
    "    \n",
    "#% use the temp vertical axis to create the lateral axis\n",
    "l_foot_z = np.cross(l_foot_x,l_foot_temp)/np.linalg.norm(np.cross(l_foot_x,\n",
    "                                                                  l_foot_temp))\n",
    "\n",
    "#% and create the 'vertical' axis that provides standing eversion angle\n",
    "l_foot_y = np.cross(l_foot_z,l_foot_x)/np.linalg.norm(np.cross(l_foot_z, \n",
    "                                                               l_foot_x))\n",
    "\n",
    "#% combine to create a transformation matrix from anatomical to global\n",
    "agL_foot = np.array([l_foot_x,l_foot_y,l_foot_z]).T\n",
    "print('Versors of the Left foot segment from anatomical to global')\n",
    "print(agL_foot)"
   ]
  },
  {
   "cell_type": "code",
   "execution_count": 8,
   "id": "f3676d90-fff9-43ce-8bb2-ad02ed355b20",
   "metadata": {},
   "outputs": [
    {
     "name": "stdout",
     "output_type": "stream",
     "text": [
      "Versors of the foot segment from anatomical to global\n",
      "[[ 0.         -0.10630214  0.99433387]\n",
      " [ 0.          0.99433387  0.10630214]\n",
      " [-1.          0.          0.        ]]\n"
     ]
    }
   ],
   "source": [
    "#%% RIGHT FOOT\n",
    "#% long axis of the the foot is aligned with the lab\n",
    "r_foot_x = np.array([0, 0, -1])\n",
    "\n",
    "#% vertical axis of the foot is aligned with the two markers on the heel\n",
    "#% FIRST need to identify the heel markers\n",
    "#% Combine 3 feet markers into one matrix ... can ignore the created fourth one\n",
    "R_foot = neutral[['R_foot_1_X','R_foot_1_Y','R_foot_1_Z',\n",
    "                 'R_foot_2_X','R_foot_2_Y','R_foot_2_Z',\n",
    "                 'R_foot_3_X','R_foot_3_Y','R_foot_3_Z']].values.reshape((3,3))\n",
    "\n",
    "# sort the markers from left to right\n",
    "R_foot = R_foot[R_foot[:, 0].argsort()]\n",
    "# SECOND, create a vector from the two left markers (not the lateral one)\n",
    "r_foot_temp = (R_foot[0,:]-R_foot[1,:])/np.linalg.norm(R_foot[0,:]-R_foot[1,:])\n",
    "\n",
    "#% check that it is pointing up ... and if not, flip it\n",
    "if r_foot_temp[1] < 0:\n",
    "    r_foot_temp = -r_foot_temp\n",
    "    \n",
    "#% use the temp vertical axis to create the lateral axis\n",
    "r_foot_z = np.cross(r_foot_x,r_foot_temp)/np.linalg.norm(np.cross(r_foot_x,\n",
    "                                                                  r_foot_temp))\n",
    "\n",
    "#% and create the 'vertical' axis that provides standing eversion angle\n",
    "r_foot_y = np.cross(r_foot_z,r_foot_x)/np.linalg.norm(np.cross(r_foot_z, \n",
    "                                                               r_foot_x))\n",
    "\n",
    "#% combine to create a transformation matrix from anatomical to global\n",
    "agR_foot = np.array([r_foot_x,r_foot_y,r_foot_z]).T\n",
    "print('Versors of the foot segment from anatomical to global')\n",
    "print(agR_foot)"
   ]
  },
  {
   "cell_type": "code",
   "execution_count": 9,
   "id": "09d92b3b-a6f8-4874-b32b-3bbc9ac3525d",
   "metadata": {},
   "outputs": [
    {
     "name": "stdout",
     "output_type": "stream",
     "text": [
      "Versors of the shank segment from anatomical to global\n",
      "[[-0.10862564  0.00712546  0.99405719]\n",
      " [-0.03692502  0.9992553  -0.0111977 ]\n",
      " [-0.9933967  -0.03792194 -0.10828164]]\n"
     ]
    }
   ],
   "source": [
    "#%% LEFT SHANK\n",
    "l_shank_y=(jcL_knee-jcL_ankle)/np.linalg.norm(jcL_knee-jcL_ankle); #long axis pointing up\n",
    "l_shank_temp=(L_med_ankle-L_lat_ankle)/np.linalg.norm(L_med_ankle-L_lat_ankle) #almost the hinge joing pointing to the right\n",
    "l_shank_x= np.cross(l_shank_y,l_shank_temp)/np.linalg.norm(np.cross(l_shank_y,l_shank_temp)) #Anterior axis from the cross\n",
    "l_shank_z=np.cross(l_shank_x,l_shank_y)/np.linalg.norm(np.cross(l_shank_x,l_shank_y)) #hinge axis, lateral for right\n",
    "\n",
    "# combine to create a transformation matrix from anatomical to global\n",
    "agL_shank=np.array([l_shank_x,l_shank_y,l_shank_z]).T\n",
    "print('Versors of the shank segment from anatomical to global')\n",
    "print(agL_shank)"
   ]
  },
  {
   "cell_type": "code",
   "execution_count": 10,
   "id": "839ef246-68c2-4fb1-b724-6a8c6e75aa91",
   "metadata": {},
   "outputs": [
    {
     "name": "stdout",
     "output_type": "stream",
     "text": [
      "Versors of the shank segment from anatomical to global\n",
      "[[-0.04373216 -0.00700103  0.99901876]\n",
      " [-0.05982027  0.99819957  0.00437665]\n",
      " [-0.99725074 -0.05957017 -0.04407223]]\n"
     ]
    }
   ],
   "source": [
    "#%% RIGHT SHANK\n",
    "r_shank_y=(jcR_knee-jcR_ankle)/np.linalg.norm(jcR_knee-jcR_ankle); #long axis pointing up\n",
    "r_shank_temp=(R_lat_ankle-R_med_ankle)/np.linalg.norm(R_lat_ankle-R_med_ankle) #almost the hinge joing pointing to the right\n",
    "r_shank_x= np.cross(r_shank_y,r_shank_temp)/np.linalg.norm(np.cross(r_shank_y,r_shank_temp)) #Anterior axis from the cross\n",
    "r_shank_z=np.cross(r_shank_x,r_shank_y)/np.linalg.norm(np.cross(r_shank_x,r_shank_y)) #hinge axis, lateral for right\n",
    "\n",
    "# combine to create a transformation matrix from anatomical to global\n",
    "agR_shank=np.array([r_shank_x,r_shank_y,r_shank_z]).T\n",
    "print('Versors of the shank segment from anatomical to global')\n",
    "print(agR_shank)"
   ]
  },
  {
   "cell_type": "code",
   "execution_count": 11,
   "id": "60310525-ed7d-421a-a0f7-9a1880f1aa14",
   "metadata": {},
   "outputs": [
    {
     "name": "stdout",
     "output_type": "stream",
     "text": [
      "Versors of the thigh segment from anatomical to global\n",
      "[[-0.01651715  0.09544173  0.99529798]\n",
      " [-0.0431478   0.99443843 -0.09607535]\n",
      " [-0.99893216 -0.04453181 -0.01230719]]\n"
     ]
    }
   ],
   "source": [
    "# LEFT THIGH\n",
    "l_thigh_y=(jcL_hip-jcL_knee)/np.linalg.norm(jcL_hip-jcL_knee)#long axis pointing up\n",
    "#almost the hinge joing pointing to the right from the knee joint markers\n",
    "l_thigh_temp=(L_med_knee-L_lat_knee)/np.linalg.norm(L_med_knee-L_lat_knee)\n",
    "l_thigh_x=np.cross(l_thigh_y,l_thigh_temp)/np.linalg.norm(np.cross(l_thigh_y,l_thigh_temp))\n",
    "l_thigh_z=np.cross(l_thigh_x,l_thigh_y)/np.linalg.norm(np.cross(l_thigh_x,l_thigh_y))\n",
    "\n",
    "# combine to create a transformation matrix from anatomical to global\n",
    "agL_thigh=np.array([l_thigh_x,l_thigh_y,l_thigh_z]).T\n",
    "print('Versors of the thigh segment from anatomical to global')\n",
    "print(agL_thigh)"
   ]
  },
  {
   "cell_type": "code",
   "execution_count": 12,
   "id": "8c5cb01e-2b1d-4372-889b-86e4742af7e1",
   "metadata": {},
   "outputs": [
    {
     "name": "stdout",
     "output_type": "stream",
     "text": [
      "Versors of the thigh segment from anatomical to global\n",
      "[[-0.12885724 -0.10426023  0.98616713]\n",
      " [-0.05629781  0.99362305  0.09769235]\n",
      " [-0.99006382 -0.04293068 -0.13390514]]\n"
     ]
    }
   ],
   "source": [
    "# RIGHT THIGH\n",
    "r_thigh_y=(jcR_hip-jcR_knee)/np.linalg.norm(jcR_hip-jcR_knee)#long axis pointing up\n",
    "#almost the hinge joing pointing to the right from the knee joint markers\n",
    "r_thigh_temp=(R_lat_knee-R_med_knee)/np.linalg.norm(R_lat_knee-R_med_knee)\n",
    "r_thigh_x=np.cross(r_thigh_y,r_thigh_temp)/np.linalg.norm(np.cross(r_thigh_y,r_thigh_temp))\n",
    "r_thigh_z=np.cross(r_thigh_x,r_thigh_y)/np.linalg.norm(np.cross(r_thigh_x,r_thigh_y))\n",
    "\n",
    "# combine to create a transformation matrix from anatomical to global\n",
    "agR_thigh=np.array([r_thigh_x,r_thigh_y,r_thigh_z]).T\n",
    "print('Versors of the thigh segment from anatomical to global')\n",
    "print(agR_thigh)"
   ]
  },
  {
   "cell_type": "code",
   "execution_count": 13,
   "id": "1f20a7c7-137f-4b9e-ae69-f972a10f2e93",
   "metadata": {},
   "outputs": [
    {
     "name": "stdout",
     "output_type": "stream",
     "text": [
      "Versors of the pelvis segment from anatomical to global\n",
      "[[ 0  0  1]\n",
      " [ 0  1  0]\n",
      " [-1  0  0]]\n"
     ]
    }
   ],
   "source": [
    "## PELVIS\n",
    "# since trochanters are hard to landmark, pelvis will just be orthogonal to the lab\n",
    "pelvis_x=np.array([0,0,-1])#anterior axis\n",
    "pelvis_y=np.array([0,1,0])#long axis pointing up\n",
    "pelvis_z=np.array([1,0,0])#hinge axis to the subject's right\n",
    "# combine to create a transformation matrix from anatomical to global\n",
    "ag_Pelvis=np.array([pelvis_x,pelvis_y,pelvis_z]).T\n",
    "\n",
    "print('Versors of the pelvis segment from anatomical to global')\n",
    "print(ag_Pelvis)"
   ]
  },
  {
   "cell_type": "code",
   "execution_count": 14,
   "id": "c917d33c-2e8f-4820-a149-6f84cd1117ba",
   "metadata": {},
   "outputs": [
    {
     "name": "stdout",
     "output_type": "stream",
     "text": [
      "foot markers in an ANATOMICAL COORDINATE system\n",
      "[[35.         69.7        50.9        51.86666667]\n",
      " [23.38847705 22.08688027 89.69933589 45.05823107]\n",
      " [39.52972478 -4.60105638 39.52972478 24.8194644 ]]\n",
      "Ankle joint centre in the Foot CS\n",
      "[79.38333333 54.00450338 19.58050345]\n"
     ]
    }
   ],
   "source": [
    "# %% use the transformation matrixes we just made to get the segment markers\n",
    "# % in terms of the ANATOMICAL COORDINATE system (ie if the anatomical\n",
    "# % coordinate system was located at the world orgin, where would the markers\n",
    "# % be located). this can be better understood by visualizing the vectors\n",
    "# % defining the marker location.\n",
    "# % the marker locations in this reference frame will be used with the\n",
    "# % soderkvist method as 'before' inputs.\n",
    "\n",
    "# Rename foot markers in the neutral standing trial\n",
    "L_foot_1_S = neutral[['L_foot_1_X','L_foot_1_Y','L_foot_1_Z']].values\n",
    "L_foot_2_S = neutral[['L_foot_2_X','L_foot_2_Y','L_foot_2_Z']].values\n",
    "L_foot_3_S = neutral[['L_foot_3_X','L_foot_3_Y','L_foot_3_Z']].values\n",
    "L_foot_4_S = neutral[['L_foot_4_X','L_foot_4_Y','L_foot_4_Z']].values\n",
    "\n",
    "# % the foot markers in an ANATOMICAL COORDINATE system ...\n",
    "acL_foot_1=np.dot(agL_foot.T, L_foot_1_S.T)\n",
    "acL_foot_2=np.dot(agL_foot.T, L_foot_2_S.T)\n",
    "acL_foot_3=np.dot(agL_foot.T, L_foot_3_S.T)\n",
    "acL_foot_4=np.dot(agL_foot.T, L_foot_4_S.T)\n",
    "acL_foot=np.array([acL_foot_1, acL_foot_2, acL_foot_3, acL_foot_4]).T[0,:,:]\n",
    "\n",
    "# Centroid of markers\n",
    "centroid = np.mean(acL_foot, axis=1)\n",
    "# Ankle joint centre in the Foot CS\n",
    "djcL_ankle=np.dot(agL_foot.T, jcL_ankle.T) - centroid\n",
    "\n",
    "print('foot markers in an ANATOMICAL COORDINATE system')\n",
    "print(acL_foot)\n",
    "print('Ankle joint centre in the Foot CS')\n",
    "print(djcL_ankle)"
   ]
  },
  {
   "cell_type": "code",
   "execution_count": 15,
   "id": "0064b930-cc5d-44df-b617-daa4322e35f7",
   "metadata": {},
   "outputs": [
    {
     "name": "stdout",
     "output_type": "stream",
     "text": [
      "foot markers in an ANATOMICAL COORDINATE system\n",
      "[[ 66.6         38.5         51.7         52.26666667]\n",
      " [  9.00722574  -4.30654505  56.83991846  20.51707645]\n",
      " [373.87591509 340.37078851 340.37078851 351.50601957]]\n",
      "Ankle joint centre in the Foot CS\n",
      "[ 78.98333333  47.42507852 -16.20878695]\n"
     ]
    }
   ],
   "source": [
    "# Rename foot markers in the neutral standing trial\n",
    "R_foot_1_S = neutral[['R_foot_1_X','R_foot_1_Y','R_foot_1_Z']].values\n",
    "R_foot_2_S = neutral[['R_foot_2_X','R_foot_2_Y','R_foot_2_Z']].values\n",
    "R_foot_3_S = neutral[['R_foot_3_X','R_foot_3_Y','R_foot_3_Z']].values\n",
    "R_foot_4_S = neutral[['R_foot_4_X','R_foot_4_Y','R_foot_4_Z']].values\n",
    "\n",
    "# % the foot markers in an ANATOMICAL COORDINATE system ...\n",
    "acR_foot_1=np.dot(agR_foot.T, R_foot_1_S.T)\n",
    "acR_foot_2=np.dot(agR_foot.T, R_foot_2_S.T)\n",
    "acR_foot_3=np.dot(agR_foot.T, R_foot_3_S.T)\n",
    "acR_foot_4=np.dot(agR_foot.T, R_foot_4_S.T)\n",
    "acR_foot=np.array([acR_foot_1, acR_foot_2, acR_foot_3, acR_foot_4]).T[0,:,:]\n",
    "\n",
    "# Centroid of markers\n",
    "centroid = np.mean(acR_foot, axis=1)\n",
    "# Ankle joint centre in the Foot CS\n",
    "djcR_ankle=np.dot(agR_foot.T, jcR_ankle.T) - centroid\n",
    "\n",
    "print('foot markers in an ANATOMICAL COORDINATE system')\n",
    "print(acR_foot)\n",
    "print('Ankle joint centre in the Foot CS')\n",
    "print(djcR_ankle)"
   ]
  },
  {
   "cell_type": "code",
   "execution_count": 16,
   "id": "adcf1918-5ca0-4745-b68f-0546750564b7",
   "metadata": {},
   "outputs": [
    {
     "name": "stdout",
     "output_type": "stream",
     "text": [
      "shank markers in an ANATOMICAL COORDINATE system\n",
      "[[ 4.53447240e+01  3.85928499e+01  2.85249394e+01  2.82035131e+01]\n",
      " [ 3.45990759e+02  3.85007801e+02  3.43347756e+02  4.29424663e+02]\n",
      " [-1.26147108e+01 -3.53284491e-01  3.91848972e+01  3.69232036e+01]]\n",
      "knee joint centre in the Foot CS\n",
      "[ 86.90239494 143.1220087   39.65568414]\n"
     ]
    }
   ],
   "source": [
    "# Rename LEFT shank markers in the neutral standing trial\n",
    "L_shank_1_S = neutral[['L_shank_1_X','L_shank_1_Y','L_shank_1_Z']].values\n",
    "L_shank_2_S = neutral[['L_shank_2_X','L_shank_2_Y','L_shank_2_Z']].values\n",
    "L_shank_3_S = neutral[['L_shank_3_X','L_shank_3_Y','L_shank_3_Z']].values\n",
    "L_shank_4_S = neutral[['L_shank_4_X','L_shank_4_Y','L_shank_4_Z']].values\n",
    "\n",
    "# % the shank markers in an ANATOMICAL COORDINATE system ...\n",
    "acL_shank_1=np.dot(agL_shank.T, L_shank_1_S.T)\n",
    "acL_shank_2=np.dot(agL_shank.T, L_shank_2_S.T)\n",
    "acL_shank_3=np.dot(agL_shank.T, L_shank_3_S.T)\n",
    "acL_shank_4=np.dot(agL_shank.T, L_shank_4_S.T)\n",
    "acL_shank=np.array([acL_shank_1, acL_shank_2, acL_shank_3, acL_shank_4]).T[0,:,:]\n",
    "# Centroid of markers\n",
    "centroid = np.mean(acL_shank, axis=1)\n",
    "# Knee joint centre in the Foot CS\n",
    "djcL_knee=np.dot(agL_shank.T, jcL_knee.T) - centroid\n",
    "\n",
    "print('shank markers in an ANATOMICAL COORDINATE system')\n",
    "print(acL_shank)\n",
    "print('knee joint centre in the Foot CS')\n",
    "print(djcL_knee)"
   ]
  },
  {
   "cell_type": "code",
   "execution_count": 17,
   "id": "6fa27d85-ebcc-4ef6-8333-6e934bcf8051",
   "metadata": {},
   "outputs": [
    {
     "name": "stdout",
     "output_type": "stream",
     "text": [
      "shank markers in an ANATOMICAL COORDINATE system\n",
      "[[ 33.24363906  24.59174003  32.1172021   18.04696317]\n",
      " [319.62479175 368.53356143 321.49794819 405.07236987]\n",
      " [374.55905137 365.81451642 320.36973116 351.06964023]]\n",
      "knee joint centre in the Foot CS\n",
      "[ 83.45038976 161.9498013  -20.83716472]\n"
     ]
    }
   ],
   "source": [
    "# Rename RIGHT shank markers in the neutral standing trial\n",
    "R_shank_1_S = neutral[['R_shank_1_X','R_shank_1_Y','R_shank_1_Z']].values\n",
    "R_shank_2_S = neutral[['R_shank_2_X','R_shank_2_Y','R_shank_2_Z']].values\n",
    "R_shank_3_S = neutral[['R_shank_3_X','R_shank_3_Y','R_shank_3_Z']].values\n",
    "R_shank_4_S = neutral[['R_shank_4_X','R_shank_4_Y','R_shank_4_Z']].values\n",
    "\n",
    "# % the shank markers in an ANATOMICAL COORDINATE system ...\n",
    "acR_shank_1=np.dot(agR_shank.T, R_shank_1_S.T)\n",
    "acR_shank_2=np.dot(agR_shank.T, R_shank_2_S.T)\n",
    "acR_shank_3=np.dot(agR_shank.T, R_shank_3_S.T)\n",
    "acR_shank_4=np.dot(agR_shank.T, R_shank_4_S.T)\n",
    "acR_shank=np.array([acR_shank_1, acR_shank_2, acR_shank_3, acR_shank_4]).T[0,:,:]\n",
    "# Centroid of markers\n",
    "centroid = np.mean(acR_shank, axis=1)\n",
    "# Knee joint centre in the Foot CS\n",
    "djcR_knee=np.dot(agR_shank.T, jcR_knee.T) - centroid\n",
    "\n",
    "print('shank markers in an ANATOMICAL COORDINATE system')\n",
    "print(acR_shank)\n",
    "print('knee joint centre in the Foot CS')\n",
    "print(djcR_knee)"
   ]
  },
  {
   "cell_type": "code",
   "execution_count": 18,
   "id": "4b14be13-d49f-4602-84fd-0e328a73ae43",
   "metadata": {},
   "outputs": [
    {
     "name": "stdout",
     "output_type": "stream",
     "text": [
      "thigh markers in an ANATOMICAL COORDINATE system\n",
      "[[ 40.61517246  43.74355641  35.02358507  51.54914914]\n",
      " [708.18538889 696.27373569 744.08168867 659.17189658]\n",
      " [ 15.55354415 -16.50867243  -1.74616141 -28.29409805]]\n",
      "hip joint centre in the Foot CS\n",
      "[ 81.1493046  254.73923898   5.55371649]\n"
     ]
    }
   ],
   "source": [
    "# Rename LEFT thigh markers in the neutral standing trial\n",
    "L_thigh_1_S = neutral[['L_thigh_1_X','L_thigh_1_Y','L_thigh_1_Z']].values\n",
    "L_thigh_2_S = neutral[['L_thigh_2_X','L_thigh_2_Y','L_thigh_2_Z']].values\n",
    "L_thigh_3_S = neutral[['L_thigh_3_X','L_thigh_3_Y','L_thigh_3_Z']].values\n",
    "L_thigh_4_S = neutral[['L_thigh_4_X','L_thigh_4_Y','L_thigh_4_Z']].values\n",
    "\n",
    "# % the thigh markers in an ANATOMICAL COORDINATE system ...\n",
    "acL_thigh_1=np.dot(agL_thigh.T, L_thigh_1_S.T)\n",
    "acL_thigh_2=np.dot(agL_thigh.T, L_thigh_2_S.T)\n",
    "acL_thigh_3=np.dot(agL_thigh.T, L_thigh_3_S.T)\n",
    "acL_thigh_4=np.dot(agL_thigh.T, L_thigh_4_S.T)\n",
    "acL_thigh=np.array([acL_thigh_1, acL_thigh_2, acL_thigh_3, acL_thigh_4]).T[0,:,:]\n",
    "\n",
    "# Centroid of markers\n",
    "centroid = np.mean(acL_thigh, axis=1)\n",
    "# Knee joint centre in the Foot CS\n",
    "djcL_hip=np.dot(agL_thigh.T, jcL_hip.T) - centroid\n",
    "\n",
    "print('thigh markers in an ANATOMICAL COORDINATE system')\n",
    "print(acL_thigh)\n",
    "print('hip joint centre in the Foot CS')\n",
    "print(djcL_hip)"
   ]
  },
  {
   "cell_type": "code",
   "execution_count": 19,
   "id": "28e13ba8-8cf2-4421-b598-8044169b47ac",
   "metadata": {},
   "outputs": [
    {
     "name": "stdout",
     "output_type": "stream",
     "text": [
      "thigh markers in an ANATOMICAL COORDINATE system\n",
      "[[  6.27550878   9.85948806   4.43649152  10.09991273]\n",
      " [677.71652719 666.57053202 715.01786054 629.59005066]\n",
      " [387.52814964 358.62811704 389.91321682 401.19228853]]\n",
      "hip joint centre in the Foot CS\n",
      "[ 75.93453723 251.36097081   5.16308735]\n"
     ]
    }
   ],
   "source": [
    "# Rename thigh markers in the neutral standing trial\n",
    "R_thigh_1_S = neutral[['R_thigh_1_X','R_thigh_1_Y','R_thigh_1_Z']].values\n",
    "R_thigh_2_S = neutral[['R_thigh_2_X','R_thigh_2_Y','R_thigh_2_Z']].values\n",
    "R_thigh_3_S = neutral[['R_thigh_3_X','R_thigh_3_Y','R_thigh_3_Z']].values\n",
    "R_thigh_4_S = neutral[['R_thigh_4_X','R_thigh_4_Y','R_thigh_4_Z']].values\n",
    "\n",
    "# % the thigh markers in an ANATOMICAL COORDINATE system ...\n",
    "acR_thigh_1=np.dot(agR_thigh.T, R_thigh_1_S.T)\n",
    "acR_thigh_2=np.dot(agR_thigh.T, R_thigh_2_S.T)\n",
    "acR_thigh_3=np.dot(agR_thigh.T, R_thigh_3_S.T)\n",
    "acR_thigh_4=np.dot(agR_thigh.T, R_thigh_4_S.T)\n",
    "acR_thigh=np.array([acR_thigh_1, acR_thigh_2, acR_thigh_3, acR_thigh_4]).T[0,:,:]\n",
    "\n",
    "# Centroid of markers\n",
    "centroid = np.mean(acR_thigh, axis=1)\n",
    "# Knee joint centre in the Foot CS\n",
    "djcR_hip=np.dot(agR_thigh.T, jcR_hip.T) - centroid\n",
    "\n",
    "print('thigh markers in an ANATOMICAL COORDINATE system')\n",
    "print(acR_thigh)\n",
    "print('hip joint centre in the Foot CS')\n",
    "print(djcR_hip)"
   ]
  },
  {
   "cell_type": "code",
   "execution_count": 20,
   "id": "eb7d7327-1857-401e-9946-ff90d3ee1129",
   "metadata": {},
   "outputs": [
    {
     "name": "stdout",
     "output_type": "stream",
     "text": [
      "Pelvic markers in an ANATOMICAL COORDINATE system\n",
      "[[  48.6          69.5          76.           64.7       ]\n",
      " [1031.7        1083.         1079.7        1064.8       ]\n",
      " [ 176.9         142.85        220.5         180.08333333]]\n",
      "Pelvic centroid in the Pelvic CS\n",
      "[0. 0. 0.]\n"
     ]
    }
   ],
   "source": [
    "# Rename Pelvic markers in the neutral standing trial\n",
    "pelvis_1_S = neutral[['pelvis_1_X','pelvis_1_Y','pelvis_1_Z']].values\n",
    "pelvis_2_S = neutral[['pelvis_2_X','pelvis_2_Y','pelvis_2_Z']].values\n",
    "pelvis_3_S = neutral[['pelvis_3_X','pelvis_3_Y','pelvis_3_Z']].values\n",
    "pelvis_4_S = neutral[['pelvis_4_X','pelvis_4_Y','pelvis_4_Z']].values\n",
    "\n",
    "# % the pelvis markers in an ANATOMICAL COORDINATE system ...\n",
    "ac_Pelvis_1=np.dot(ag_Pelvis.T, pelvis_1_S.T)\n",
    "ac_Pelvis_2=np.dot(ag_Pelvis.T, pelvis_2_S.T)\n",
    "ac_Pelvis_3=np.dot(ag_Pelvis.T, pelvis_3_S.T)\n",
    "ac_Pelvis_4=np.dot(ag_Pelvis.T, pelvis_4_S.T)\n",
    "ac_Pelvis=np.array([ac_Pelvis_1, ac_Pelvis_2, ac_Pelvis_3, ac_Pelvis_4]).T[0,:,:]\n",
    "\n",
    "# Centroid of markers\n",
    "centroid = np.mean(ac_Pelvis, axis=1)\n",
    "# Pelvis joint centre in the Foot CS\n",
    "djcPelvis=np.dot(ag_Pelvis.T, jcPelvis.T) - centroid\n",
    "\n",
    "print('Pelvic markers in an ANATOMICAL COORDINATE system')\n",
    "print(ac_Pelvis)\n",
    "print('Pelvic centroid in the Pelvic CS')\n",
    "print(djcPelvis)"
   ]
  },
  {
   "cell_type": "code",
   "execution_count": 21,
   "id": "95f9cd15-0c29-40af-869a-53260ec2f525",
   "metadata": {},
   "outputs": [],
   "source": [
    "# %% create the rotation matrix from segment to lab for all the segments for\n",
    "# % every time point. this uses soderkvist. the operations done on the\n",
    "# % neutral trial data only need to be done once and can be done before we\n",
    "# % load the dynamic data and are therefore outside of the loop\n",
    "\n",
    "# % calculate average marker position of the segment markers\n",
    "avg_ac_L_foot =np.mean(acL_foot,axis=1)\n",
    "avg_ac_R_foot =np.mean(acR_foot,axis=1)\n",
    "avg_ac_L_shank=np.mean(acL_shank,axis=1)\n",
    "avg_ac_R_shank=np.mean(acR_shank,axis=1)\n",
    "avg_ac_L_thigh=np.mean(acL_thigh,axis=1)\n",
    "avg_ac_R_thigh=np.mean(acR_thigh,axis=1)\n",
    "avg_ac_Pelvis =np.mean(ac_Pelvis,axis=1)\n",
    "\n",
    "# % calculate the distance from the marker posisiton to the average position\n",
    "# % neutral\n",
    "dif_ac_L_foot=np.array([acL_foot[0,:]-avg_ac_L_foot[0],\n",
    "                       acL_foot[1,:]-avg_ac_L_foot[1],\n",
    "                       acL_foot[2,:]-avg_ac_L_foot[2]])\n",
    "dif_ac_R_foot=np.array([acR_foot[0,:]-avg_ac_R_foot[0],\n",
    "                       acR_foot[1,:]-avg_ac_R_foot[1],\n",
    "                       acR_foot[2,:]-avg_ac_R_foot[2]])\n",
    "dif_ac_L_shank=np.array([acL_shank[0,:]-avg_ac_L_shank[0],\n",
    "                       acL_shank[1,:]-avg_ac_L_shank[1],\n",
    "                       acL_shank[2,:]-avg_ac_L_shank[2]])\n",
    "dif_ac_R_shank=np.array([acR_shank[0,:]-avg_ac_R_shank[0],\n",
    "                       acR_shank[1,:]-avg_ac_R_shank[1],\n",
    "                       acR_shank[2,:]-avg_ac_R_shank[2]])\n",
    "dif_ac_L_thigh=np.array([acL_thigh[0,:]-avg_ac_L_thigh[0],\n",
    "                       acL_thigh[1,:]-avg_ac_L_thigh[1],\n",
    "                       acL_thigh[2,:]-avg_ac_L_thigh[2]])\n",
    "dif_ac_R_thigh=np.array([acR_thigh[0,:]-avg_ac_R_thigh[0],\n",
    "                       acR_thigh[1,:]-avg_ac_R_thigh[1],\n",
    "                       acR_thigh[2,:]-avg_ac_R_thigh[2]])\n",
    "dif_ac_Pelvis=np.array([ac_Pelvis[0,:]-avg_ac_Pelvis[0],\n",
    "                       ac_Pelvis[1,:]-avg_ac_Pelvis[1],\n",
    "                       ac_Pelvis[2,:]-avg_ac_Pelvis[2]])"
   ]
  },
  {
   "cell_type": "code",
   "execution_count": 22,
   "id": "834e9a02-7f33-4908-bd6a-8a62134ab7ae",
   "metadata": {},
   "outputs": [],
   "source": [
    "# %% now we need the DYNAMIC walking/running data from the input argument\n",
    "# Left Foot marker positions running\n",
    "L_foot_1_R = gait.filter(like='L_foot_1', axis=1).values\n",
    "L_foot_2_R = gait.filter(like='L_foot_2', axis=1).values\n",
    "L_foot_3_R = gait.filter(like='L_foot_3', axis=1).values\n",
    "L_foot_4_R = gait.filter(like='L_foot_4', axis=1).values\n",
    "# Right Foot marker positions running\n",
    "R_foot_1_R = gait.filter(like='R_foot_1', axis=1).values\n",
    "R_foot_2_R = gait.filter(like='R_foot_2', axis=1).values\n",
    "R_foot_3_R = gait.filter(like='R_foot_3', axis=1).values\n",
    "R_foot_4_R = gait.filter(like='R_foot_4', axis=1).values\n",
    "# left Shank marker positions running\n",
    "L_shank_1_R = gait.filter(like='L_shank_1', axis=1).values\n",
    "L_shank_2_R = gait.filter(like='L_shank_2', axis=1).values\n",
    "L_shank_3_R = gait.filter(like='L_shank_3', axis=1).values\n",
    "L_shank_4_R = gait.filter(like='L_shank_4', axis=1).values\n",
    "# Right Shank marker positions running\n",
    "R_shank_1_R = gait.filter(like='R_shank_1', axis=1).values\n",
    "R_shank_2_R = gait.filter(like='R_shank_2', axis=1).values\n",
    "R_shank_3_R = gait.filter(like='R_shank_3', axis=1).values\n",
    "R_shank_4_R = gait.filter(like='R_shank_4', axis=1).values\n",
    "# left Thigh marker positions running\n",
    "L_thigh_1_R = gait.filter(like='L_thigh_1', axis=1).values\n",
    "L_thigh_2_R = gait.filter(like='L_thigh_2', axis=1).values\n",
    "L_thigh_3_R = gait.filter(like='L_thigh_3', axis=1).values\n",
    "L_thigh_4_R = gait.filter(like='L_thigh_4', axis=1).values\n",
    "# Thigh marker positions running\n",
    "R_thigh_1_R = gait.filter(like='R_thigh_1', axis=1).values\n",
    "R_thigh_2_R = gait.filter(like='R_thigh_2', axis=1).values\n",
    "R_thigh_3_R = gait.filter(like='R_thigh_3', axis=1).values\n",
    "R_thigh_4_R = gait.filter(like='R_thigh_4', axis=1).values\n",
    "# Pelvis marker positions running\n",
    "pelvis_1_R = gait.filter(like='pelvis_1', axis=1).values\n",
    "pelvis_2_R = gait.filter(like='pelvis_2', axis=1).values\n",
    "pelvis_3_R = gait.filter(like='pelvis_3', axis=1).values\n",
    "pelvis_4_R = gait.filter(like='pelvis_4', axis=1).values\n",
    "\n",
    "# % prealocating the size of these matricies that collect data in the loop\n",
    "# % to increase speed\n",
    "# RIGHT SIDE\n",
    "R_R_foot  =np.zeros(shape=(4,4, R_foot_1_R.shape[0]))\n",
    "R_R_shank =np.zeros(shape=(4,4, R_foot_1_R.shape[0]))\n",
    "R_R_thigh =np.zeros(shape=(4,4, R_foot_1_R.shape[0]))\n",
    "R_R_pelvis=np.zeros(shape=(4,4, R_foot_1_R.shape[0]))\n",
    "#pre-allaocate angles\n",
    "R_R_ankle=np.zeros(shape=(4,4, R_foot_1_R.shape[0]))\n",
    "R_R_knee =np.zeros(shape=(4,4, R_foot_1_R.shape[0]))\n",
    "R_R_hip  =np.zeros(shape=(4,4, R_foot_1_R.shape[0]))\n",
    "\n",
    "# LEFT SIDE\n",
    "R_L_foot  =np.zeros(shape=(4,4, L_foot_1_R.shape[0]))\n",
    "R_L_shank =np.zeros(shape=(4,4, L_foot_1_R.shape[0]))\n",
    "R_L_thigh =np.zeros(shape=(4,4, L_foot_1_R.shape[0]))\n",
    "R_L_pelvis=np.zeros(shape=(4,4, L_foot_1_R.shape[0]))\n",
    "#pre-allaocate angles\n",
    "R_L_ankle=np.zeros(shape=(4,4, L_foot_1_R.shape[0]))\n",
    "R_L_knee =np.zeros(shape=(4,4, L_foot_1_R.shape[0]))\n",
    "R_L_hip  =np.zeros(shape=(4,4, L_foot_1_R.shape[0]))"
   ]
  },
  {
   "cell_type": "code",
   "execution_count": 23,
   "id": "e9719a27-f9fa-49b0-875d-3fbda2e171e5",
   "metadata": {},
   "outputs": [],
   "source": [
    "# %% need to create matricies from the DYNAMIC data that has the same markers\n",
    "# % as the \" ac.L_foot \" in the same order ... matricies for use with soderqvist\n",
    "dL_foot = np.array([L_foot_1_R.T, L_foot_2_R.T, L_foot_3_R.T, L_foot_4_R.T], ndmin=3)\n",
    "dL_foot = np.transpose(dL_foot, (1,0,2))\n",
    "dR_foot = np.array([R_foot_1_R.T, R_foot_2_R.T, R_foot_3_R.T, R_foot_4_R.T], ndmin=3)\n",
    "dR_foot = np.transpose(dR_foot, (1,0,2))\n",
    "dL_shank = np.array([L_shank_1_R.T, L_shank_2_R.T, L_shank_3_R.T, L_shank_4_R.T], ndmin=3)\n",
    "dL_shank = np.transpose(dL_shank, (1,0,2))\n",
    "dR_shank = np.array([R_shank_1_R.T, R_shank_2_R.T, R_shank_3_R.T, R_shank_4_R.T], ndmin=3)\n",
    "dR_shank = np.transpose(dR_shank, (1,0,2))\n",
    "dL_thigh = np.array([L_thigh_1_R.T, L_thigh_2_R.T, L_thigh_3_R.T, L_thigh_4_R.T], ndmin=3)\n",
    "dL_thigh = np.transpose(dL_thigh, (1,0,2))\n",
    "dR_thigh = np.array([R_thigh_1_R.T, R_thigh_2_R.T, R_thigh_3_R.T, R_thigh_4_R.T], ndmin=3)\n",
    "dR_thigh = np.transpose(dR_thigh, (1,0,2))\n",
    "dPelvis = np.array([pelvis_1_R.T, pelvis_2_R.T, pelvis_3_R.T, pelvis_4_R.T], ndmin=3)\n",
    "dPelvis = np.transpose(dPelvis, (1,0,2))\n",
    "\n",
    "# calculate average position of the segment markers\n",
    "avg_dL_foot = dL_foot.mean(axis=1)\n",
    "avg_dL_foot = np.repeat(avg_dL_foot[:, np.newaxis,:], 4, axis=1)\n",
    "avg_dR_foot = dR_foot.mean(axis=1)\n",
    "avg_dR_foot = np.repeat(avg_dR_foot[:, np.newaxis,:], 4, axis=1)\n",
    "avg_dL_shank= dL_shank.mean(axis=1)\n",
    "avg_dL_shank = np.repeat(avg_dL_shank[:, np.newaxis,:], 4, axis=1)\n",
    "avg_dR_shank= dR_shank.mean(axis=1)\n",
    "avg_dR_shank = np.repeat(avg_dR_shank[:, np.newaxis,:], 4, axis=1)\n",
    "avg_dL_thigh= dL_thigh.mean(axis=1)\n",
    "avg_dL_thigh = np.repeat(avg_dL_thigh[:, np.newaxis,:], 4, axis=1)\n",
    "avg_dR_thigh= dR_thigh.mean(axis=1)\n",
    "avg_dR_thigh = np.repeat(avg_dR_thigh[:, np.newaxis,:], 4, axis=1)\n",
    "avg_dPelvis= dPelvis.mean(axis=1)\n",
    "avg_dPelvis = np.repeat(avg_dPelvis[:, np.newaxis,:], 4, axis=1)\n",
    "\n",
    "# calculate the distance from the marker posisiton to the average position\n",
    "dif_dL_foot = dL_foot - avg_dL_foot\n",
    "dif_dR_foot = dR_foot - avg_dR_foot\n",
    "dif_dL_shank= dL_shank - avg_dL_shank\n",
    "dif_dR_shank= dR_shank - avg_dR_shank\n",
    "dif_dL_thigh= dL_thigh - avg_dL_thigh\n",
    "dif_dR_thigh= dR_thigh - avg_dR_thigh\n",
    "dif_dPelvis= dPelvis - avg_dPelvis"
   ]
  },
  {
   "cell_type": "code",
   "execution_count": 24,
   "id": "fa14e11f-ac3f-44b0-a57c-742e2510f038",
   "metadata": {},
   "outputs": [],
   "source": [
    "# Repeat array to perform dot product on transposed array\n",
    "# Uncomment this if you figure out how to do without loop using \n",
    "# np.einsum('ijk,ij->ij', dif_dR_foot, dif_ac_R_foot)\n",
    "# dif_ac_R_footT = dif_ac_R_foot.T # Tranpose array\n",
    "# dif_ac_R_footT = np.repeat(dif_ac_R_footT[:,:,np.newaxis], \n",
    "#                           dif_dR_foot.shape[2], axis=2)\n",
    "\n",
    "# Preallocate angles\n",
    "angle_L_ankle = np.empty(shape=(dif_dL_foot.shape[2], 3)) * np.NaN\n",
    "angle_R_ankle = np.empty(shape=(dif_dR_foot.shape[2], 3)) * np.NaN\n",
    "angle_L_knee  = np.empty(shape=(dif_dL_foot.shape[2], 3)) * np.NaN\n",
    "angle_R_knee  = np.empty(shape=(dif_dR_foot.shape[2], 3)) * np.NaN\n",
    "angle_L_hip  = np.empty(shape=(dif_dL_foot.shape[2], 3)) * np.NaN\n",
    "angle_R_hip  = np.empty(shape=(dif_dR_foot.shape[2], 3)) * np.NaN\n",
    "angle_L_foot = np.empty(shape=(dif_dL_foot.shape[2], 3)) * np.NaN\n",
    "angle_R_foot = np.empty(shape=(dif_dR_foot.shape[2], 3)) * np.NaN\n",
    "angle_Pelvis = np.empty(shape=(dif_dR_foot.shape[2], 3)) * np.NaN\n",
    "for i in range(dif_dR_foot.shape[2]):\n",
    "    # step three of soderkvist\n",
    "    CL_foot = np.dot(dif_dL_foot[:,:,i], dif_ac_L_foot.T)\n",
    "    CR_foot = np.dot(dif_dR_foot[:,:,i], dif_ac_R_foot.T)\n",
    "    CL_shank= np.dot(dif_dL_shank[:,:,i], dif_ac_L_shank.T)\n",
    "    CR_shank= np.dot(dif_dR_shank[:,:,i], dif_ac_R_shank.T)\n",
    "    CL_thigh= np.dot(dif_dL_thigh[:,:,i], dif_ac_L_thigh.T)\n",
    "    CR_thigh= np.dot(dif_dR_thigh[:,:,i], dif_ac_R_thigh.T)\n",
    "    CPelvis= np.dot(dif_dPelvis[:,:,i], dif_ac_Pelvis.T)\n",
    "    \n",
    "    # step four singular value decomposition\n",
    "    PL_foot, TL_foot, QL_foot = np.linalg.svd(CL_foot)\n",
    "    TL_foot = np.diag(TL_foot)\n",
    "    \n",
    "    PR_foot, TR_foot, QR_foot = np.linalg.svd(CR_foot)\n",
    "    TR_foot = np.diag(TR_foot)\n",
    "\n",
    "    PL_shank, TL_shank, QL_shank = np.linalg.svd(CL_shank)\n",
    "    TL_shank = np.diag(TL_shank)\n",
    "    \n",
    "    PR_shank, TR_shank, QR_shank = np.linalg.svd(CR_shank)\n",
    "    TR_shank = np.diag(TR_shank)\n",
    "\n",
    "    PL_thigh, TL_thigh, QL_thigh = np.linalg.svd(CL_thigh)\n",
    "    TL_thigh = np.diag(TL_thigh)\n",
    "    \n",
    "    PR_thigh, TR_thigh, QR_thigh = np.linalg.svd(CR_thigh)\n",
    "    TR_thigh = np.diag(TR_thigh)\n",
    "    \n",
    "    PPelvis, TPelvis, QPelvis = np.linalg.svd(CPelvis)\n",
    "    TPelvis = np.diag(TPelvis)\n",
    "    \n",
    "    # step five - calculate a rotation matrix\n",
    "    # Foot\n",
    "    R_L_foot = np.dot(PL_foot, np.dot(np.diag([1, 1, \n",
    "                                           np.linalg.det(np.dot(PL_foot, \n",
    "                                                                QL_foot))]), \n",
    "                                  QL_foot))\n",
    "    \n",
    "    R_R_foot = np.dot(PR_foot, np.dot(np.diag([1, 1, \n",
    "                                               np.linalg.det(np.dot(PR_foot, \n",
    "                                                                    QR_foot))]), \n",
    "                                      QR_foot))\n",
    "    # Shank\n",
    "    R_L_shank = np.dot(PL_shank, np.dot(np.diag([1, 1, \n",
    "                                           np.linalg.det(np.dot(PL_shank, \n",
    "                                                                QL_shank))]), \n",
    "                                  QL_shank))\n",
    "    \n",
    "    R_R_shank = np.dot(PR_shank, np.dot(np.diag([1, 1, \n",
    "                                               np.linalg.det(np.dot(PR_shank, \n",
    "                                                                    QR_shank))]), \n",
    "                                      QR_shank))\n",
    "    \n",
    "    # Thigh\n",
    "    R_L_thigh = np.dot(PL_thigh, np.dot(np.diag([1, 1, \n",
    "                                               np.linalg.det(np.dot(PL_thigh, \n",
    "                                                                    QL_thigh))]), \n",
    "                                      QL_thigh))\n",
    "    \n",
    "    R_R_thigh = np.dot(PR_thigh, np.dot(np.diag([1, 1, \n",
    "                                               np.linalg.det(np.dot(PR_thigh, \n",
    "                                                                    QR_thigh))]), \n",
    "                                      QR_thigh))\n",
    "    \n",
    "    # Pelvis\n",
    "    R_Pelvis = np.dot(PPelvis, np.dot(np.diag([1, 1, \n",
    "                                               np.linalg.det(np.dot(PPelvis, \n",
    "                                                                    QPelvis))]), \n",
    "                                      QPelvis))\n",
    "    \n",
    "    # step six - calculate the displacement\n",
    "    dis_L_foot = avg_dL_foot[:,0,-1] - np.dot(R_L_foot, avg_ac_L_foot)\n",
    "    dis_R_foot = avg_dR_foot[:,0,-1] - np.dot(R_R_foot, avg_ac_R_foot)\n",
    "    dis_L_shank= avg_dL_shank[:,0,-1] - np.dot(R_L_shank, avg_ac_L_shank)\n",
    "    dis_R_shank= avg_dR_shank[:,0,-1] - np.dot(R_R_shank, avg_ac_R_shank)\n",
    "    dis_L_thigh= avg_dL_thigh[:,0,-1] - np.dot(R_L_thigh, avg_ac_L_thigh)\n",
    "    dis_R_thigh= avg_dR_thigh[:,0,-1] - np.dot(R_R_thigh, avg_ac_R_thigh)\n",
    "    dis_Pelvis= avg_dPelvis[:,0,-1] - np.dot(R_Pelvis, avg_ac_Pelvis)\n",
    "    \n",
    "    # combine the rotation matricies in a stack\n",
    "    RR_L_foot = np.vstack((np.hstack((R_L_foot,dis_L_foot[:,np.newaxis])),\n",
    "                      np.array([0,0,0,1], ndmin=2)))\n",
    "    RR_R_foot = np.vstack((np.hstack((R_R_foot,dis_R_foot[:,np.newaxis])),\n",
    "                      np.array([0,0,0,1], ndmin=2)))\n",
    "    RR_L_shank = np.vstack((np.hstack((R_L_shank,dis_L_shank[:,np.newaxis])),\n",
    "                          np.array([0,0,0,1], ndmin=2)))\n",
    "    RR_R_shank = np.vstack((np.hstack((R_R_shank,dis_R_shank[:,np.newaxis])),\n",
    "                          np.array([0,0,0,1], ndmin=2)))\n",
    "    RR_L_thigh = np.vstack((np.hstack((R_L_thigh,dis_L_thigh[:,np.newaxis])),\n",
    "                          np.array([0,0,0,1], ndmin=2)))\n",
    "    RR_R_thigh = np.vstack((np.hstack((R_R_thigh,dis_R_thigh[:,np.newaxis])),\n",
    "                          np.array([0,0,0,1], ndmin=2)))\n",
    "    RR_Pelvis = np.vstack((np.hstack((R_Pelvis,dis_Pelvis[:,np.newaxis])),\n",
    "                          np.array([0,0,0,1], ndmin=2)))\n",
    "    \n",
    "    \n",
    "    # %% calculate segment angles\n",
    "    #     % FOOT\n",
    "    #     % the rotation matrix of the foot to lab (R.L_foot) is simply a\n",
    "    #     % combination of the XYZ axes of the segment coordinate system unit\n",
    "    #     % vectors\n",
    "    #     %   footX_labx     footY_labx     footZ_labx\n",
    "    #     %   footX_laby     footY_laby     footZ_laby\n",
    "    #     %   footX_labz     footY_labz     footZ_labz\n",
    "    #     % so in order to calculate foot progression angle / heel whip ...\n",
    "    #     % Collect the angle of the long axis of the foot about the\n",
    "    #     % vertical axis of the foot.\n",
    "    #     % Also by projecting the foot into the sagital plane, we have\n",
    "    #     % information to determine heelstrikers or FOREFOOT strikers when\n",
    "    #     % identifying events\n",
    "\n",
    "    #     % angle of the vertical axis of the foot projected into the frontal plane\n",
    "    #     %   from a posterior view, 'vertical vector' in the first quadrant is\n",
    "    #     %   postitive and second quadrant is negative\n",
    "    #     %   . ie. inversion is negative and eversion is positive for the LEFT\n",
    "    #     % note that this is projected into the frontal plane so cross talk is\n",
    "    #     % present ... dorsi flexion with an abducted foot creates lots of \"inversion\"\n",
    "    angle_L_foot[i,0] = np.arctan(RR_L_foot[0,1]/np.sqrt(RR_L_foot[1,1]**2 + RR_L_foot[2,1]**2))\n",
    "    # angle of the long axis of the foot about the vertical axis\n",
    "    angle_L_foot[i,1] = np.arctan(-RR_L_foot[0,0]/np.sqrt(RR_L_foot[1,0]**2 + RR_L_foot[2,0]**2))\n",
    "    # and project the long axis into the sagital plane for ID of FOREFOOT\n",
    "    angle_L_foot[i,2] = np.arctan2(RR_L_foot[1,0], -R_L_foot[2,0])\n",
    "\n",
    "    #     % angle of the vertical axis of the foot projected into the frontal plane\n",
    "    #     %   from a posterior view, 'vertical vector' in the first quadrant is\n",
    "    #     %   postitive and second quadrant is negative\n",
    "    #     %   . ie. inversion is positive and eversion is negative for the RIGHT\n",
    "    \n",
    "    angle_R_foot[i,0] = np.arctan(RR_R_foot[0,1]/np.sqrt(RR_R_foot[1,1]**2 + RR_R_foot[2,1]**2))\n",
    "    # angle of the long axis of the foot about the vertical axis\n",
    "    angle_R_foot[i,1] = np.arctan(RR_R_foot[0,0]/np.sqrt(RR_R_foot[1,0]**2 + RR_R_foot[2,0]**2))\n",
    "    # and project the long axis into the sagital plane for ID of FOREFOOT\n",
    "    angle_R_foot[i,2] = np.arctan2(RR_R_foot[1,0], -R_R_foot[2,0])\n",
    "    \n",
    "    # % PELVIS\n",
    "    # % project lateral axis of pelvis\n",
    "    angle_Pelvis[i,0] = np.arctan2(RR_Pelvis[0,2],RR_Pelvis[2,2]) - np.pi/2 #into floor plane\n",
    "    angle_Pelvis[i,1] = np.arctan(RR_Pelvis[1,2]/RR_Pelvis[0,2]) #into frontal plane\n",
    "    #% and project anterior axis of pelvis\n",
    "    angle_Pelvis[i,2] = np.arctan2(RR_Pelvis[1,0],-RR_Pelvis[2,0])#into sagital plane\n",
    "\n",
    "    # %% calculate joint angles\n",
    "    # % need rotation matrix from shank to foot ...\n",
    "    # % so multiply [lab to shank] with [foot to lab]\n",
    "    R_L_ankle = np.dot(RR_L_shank.T, RR_L_foot)\n",
    "    R_R_ankle = np.dot(RR_R_shank.T, RR_R_foot)\n",
    "    R_L_knee = np.dot(RR_L_thigh.T, RR_L_shank)\n",
    "    R_R_knee = np.dot(RR_R_thigh.T, RR_R_shank)\n",
    "    R_L_hip = np.dot(RR_Pelvis.T, RR_L_thigh)\n",
    "    R_R_hip = np.dot(RR_Pelvis.T, RR_R_thigh)\n",
    "    \n",
    "    #np.set_printoptions(suppress=True)\n",
    "\n",
    "\n",
    "    # % CARDANANGLES uses this rotation matrix to calculate angles\n",
    "    #     %   | CzCy-SzSySx  SzCy+CzSySx  -SyCx |\n",
    "    #     %   | -SzCx        CzCx         Sx    |\n",
    "    #     %   | CzSy+SzCySx  SzSy-CzCySx  CyCx  |\n",
    "    angle_L_ankle[i,:] = cardanangles(R_L_ankle)\n",
    "    angle_R_ankle[i,:] = cardanangles(R_R_ankle)\n",
    "    angle_L_knee[i,:] = cardanangles(R_L_knee)\n",
    "    angle_R_knee[i,:] = cardanangles(R_R_knee)\n",
    "    angle_L_hip[i,:] = cardanangles(R_L_hip)\n",
    "    angle_R_hip[i,:] = cardanangles(R_R_hip)"
   ]
  },
  {
   "cell_type": "markdown",
   "id": "ae1ec6f2-9764-436f-b592-243089d616f3",
   "metadata": {},
   "source": [
    "## Transformation matrix from static to running"
   ]
  },
  {
   "cell_type": "code",
   "execution_count": 25,
   "id": "7647e993-08c9-4e01-9d20-f9954946b198",
   "metadata": {},
   "outputs": [],
   "source": [
    "# Right Foot segment\n",
    "Af_R = neutral.filter(like='R_foot', axis=1).values.mean(axis=0)\n",
    "Bf_R = gait.filter(like='R_foot', axis=1).values\n",
    "Rf_R, Lf_R, RMSEf_R = svdt(Af_R, Bf_R)\n",
    "# Left Foot segment\n",
    "Af_L = neutral.filter(like='L_foot', axis=1).values.mean(axis=0)\n",
    "Bf_L = gait.filter(like='L_foot', axis=1).values\n",
    "Rf_L, Lf_L, RMSEf_L = svdt(Af_L, Bf_L)"
   ]
  },
  {
   "cell_type": "code",
   "execution_count": 26,
   "id": "5656d52c-b5fc-4c7d-b2f2-7f5b78690159",
   "metadata": {},
   "outputs": [],
   "source": [
    "# Right Shank segment\n",
    "As_R = neutral.filter(like='R_shank', axis=1).values.mean(axis=0)\n",
    "Bs_R = gait.filter(like='R_shank', axis=1).values\n",
    "Rs_R, Ls_R, RMSEs_R = svdt(As_R, Bs_R)\n",
    "# Left Shank segment\n",
    "As_L = neutral.filter(like='L_shank', axis=1).values.mean(axis=0)\n",
    "Bs_L = gait.filter(like='L_shank', axis=1).values\n",
    "Rs_L, Ls_L, RMSEs_L = svdt(As_L, Bs_L)"
   ]
  },
  {
   "cell_type": "code",
   "execution_count": 27,
   "id": "f9ea9e37-9661-49a1-bc59-fe53514ecf5d",
   "metadata": {},
   "outputs": [],
   "source": [
    "# Right Thigh segment\n",
    "At_R = neutral.filter(like='R_thigh', axis=1).values.mean(axis=0)\n",
    "Bt_R = gait.filter(like='R_thigh', axis=1).values\n",
    "Rt_R, Lt_R, RMSEt_R = svdt(At_R, Bt_R)\n",
    "# Left Thigh segment\n",
    "At_L = neutral.filter(like='L_thigh', axis=1).values.mean(axis=0)\n",
    "Bt_L = gait.filter(like='L_thigh', axis=1).values\n",
    "Rt_L, Lt_L, RMSEt_L = svdt(At_L, Bt_L)"
   ]
  },
  {
   "cell_type": "code",
   "execution_count": 28,
   "id": "16e93b8c-0207-44ac-90b9-c9f7dd392a2b",
   "metadata": {},
   "outputs": [],
   "source": [
    "# Pelvic segment\n",
    "Ap = neutral.filter(like='pelvis', axis=1).values.mean(axis=0)\n",
    "Bp = gait.filter(like='pelvis', axis=1).values\n",
    "Rp, Lp, RMSEp = svdt(Ap, Bp)"
   ]
  },
  {
   "cell_type": "markdown",
   "id": "d381d2f6-cb8f-43b5-9cb3-a1a1d21ef696",
   "metadata": {},
   "source": [
    "### Define segments from scratch"
   ]
  },
  {
   "cell_type": "markdown",
   "id": "ec2cb3b8-9ff1-48a6-b987-2e22a71c8c87",
   "metadata": {},
   "source": [
    "## PELVIS SEGMENT"
   ]
  },
  {
   "cell_type": "code",
   "execution_count": 29,
   "id": "085ea741-19ab-4348-810a-4f53c41a608f",
   "metadata": {},
   "outputs": [],
   "source": [
    "def pelvisCS(pelvis_x,pelvis_y,jcPelvis):\n",
    "    ## PELVIS reference system\n",
    "    # since trochanters are hard to landmark, pelvis will just be orthogonal to the lab\n",
    "    #anterior axis\n",
    "    vp_x = (pelvis_x-jcPelvis)/np.linalg.norm(pelvis_x-jcPelvis)\n",
    "    #long axis pointing up\n",
    "    vp_y = (pelvis_y-jcPelvis)/np.linalg.norm(pelvis_y-jcPelvis)\n",
    "    #hinge axis to the subject's right\n",
    "    vp_z = np.cross(vp_x,vp_y)/np.linalg.norm(np.cross(vp_x,vp_y))\n",
    "\n",
    "    # combine to create a transformation matrix from anatomical to global\n",
    "    bp = np.array([vp_x,vp_y,vp_z])\n",
    "    \n",
    "    return bp"
   ]
  },
  {
   "cell_type": "code",
   "execution_count": 30,
   "id": "55722463-c42e-49f9-8cc7-585e00b55e69",
   "metadata": {},
   "outputs": [],
   "source": [
    "# Pelvis markers\n",
    "pelvis_1 = neutral[['pelvis_1_X','pelvis_1_Y','pelvis_1_Z']].values.flatten()\n",
    "pelvis_2 = neutral[['pelvis_2_X','pelvis_2_Y','pelvis_2_Z']].values.flatten()\n",
    "pelvis_3 = neutral[['pelvis_3_X','pelvis_3_Y','pelvis_3_Z']].values.flatten()\n",
    "pelvis_4 = neutral[['pelvis_4_X','pelvis_4_Y','pelvis_4_Z']].values.flatten()\n",
    "\n",
    "# the pelvis_jc is simply the average location of the pelvis markers\n",
    "jcPelvis = (pelvis_1+pelvis_2+pelvis_3+pelvis_4)/4\n",
    "\n",
    "# Pelvic anatomical markers\n",
    "pelvis_x_S = jcPelvis + np.array([0,0,-1])\n",
    "pelvis_y_S = jcPelvis + np.array([0,1,0])"
   ]
  },
  {
   "cell_type": "code",
   "execution_count": 31,
   "id": "5ab7a904-7665-45bb-8c0d-c547ee277335",
   "metadata": {},
   "outputs": [],
   "source": [
    "# RECONSTRUCT ANATOMICAL MARKERS USING TRANSFORMATION MATRIX\n",
    "pelvis_x_R = np.dot(Rp,pelvis_x_S) + Lp\n",
    "pelvis_y_R = np.dot(Rp,pelvis_y_S) + Lp\n",
    "jcPelvis_R = np.dot(Rp,jcPelvis) + Lp"
   ]
  },
  {
   "cell_type": "markdown",
   "id": "e44c2243-f655-4d42-8561-6b82c0d157e3",
   "metadata": {},
   "source": [
    "## THIGH segment"
   ]
  },
  {
   "cell_type": "code",
   "execution_count": 32,
   "id": "cb575816-b4d3-42c9-96f1-2894e6ea2f87",
   "metadata": {},
   "outputs": [],
   "source": [
    "def thighCS(R_lat_knee, R_med_knee, jcR_hip):\n",
    "    #%% RIGHT THIGH\n",
    "    jcR_knee = (R_lat_knee+R_med_knee)/2\n",
    "    # Segment axes\n",
    "    vt_y=(jcR_hip-jcR_knee)/np.linalg.norm(jcR_hip-jcR_knee); #long axis pointing up\n",
    "    \n",
    "    #almost the hinge joing pointing to the right\n",
    "    if R_lat_knee[0] > R_med_knee[0]: # to consider right and left side\n",
    "        vt_z_temp=(R_lat_knee-R_med_knee)/np.linalg.norm(R_lat_knee-R_med_knee) \n",
    "    else:\n",
    "        vt_z_temp=(R_med_knee-R_lat_knee)/np.linalg.norm(R_med_knee-R_lat_knee) \n",
    "\n",
    "    #Anterior axis from the cross\n",
    "    vt_x = np.cross(vt_y,vt_z_temp)/np.linalg.norm(np.cross(vt_y,vt_z_temp))\n",
    "    #hinge axis, lateral for right\n",
    "    vt_z = np.cross(vt_x,vt_y)/np.linalg.norm(np.cross(vt_x,vt_y))\n",
    "\n",
    "    #% foot reference system\n",
    "    bt = np.array([vt_x,vt_y,vt_z])\n",
    "    \n",
    "    return bt"
   ]
  },
  {
   "cell_type": "code",
   "execution_count": 33,
   "id": "a7431766-38f8-47f2-bac0-5a7e09c572f1",
   "metadata": {},
   "outputs": [],
   "source": [
    "# Thigh markers\n",
    "L_GTR = joints[['L_hip_X','L_hip_Y','L_hip_Z']].values.flatten()\n",
    "R_GTR = joints[['R_hip_X','R_hip_Y','R_hip_Z']].values.flatten()\n",
    "L_lat_knee = joints[['L_lat_knee_X','L_lat_knee_Y','L_lat_knee_Z']].values.flatten()\n",
    "R_lat_knee = joints[['R_lat_knee_X','R_lat_knee_Y','R_lat_knee_Z']].values.flatten()\n",
    "L_med_knee = joints[['L_med_knee_X','L_med_knee_Y','L_med_knee_Z']].values.flatten()\n",
    "R_med_knee = joints[['R_med_knee_X','R_med_knee_Y','R_med_knee_Z']].values.flatten()\n",
    "# HJC\n",
    "jcL_hip = L_GTR + (R_GTR-L_GTR)/4\n",
    "jcR_hip = R_GTR + (L_GTR-R_GTR)/4"
   ]
  },
  {
   "cell_type": "code",
   "execution_count": 34,
   "id": "07494263-957c-40fc-a53d-eccf664dd3cf",
   "metadata": {},
   "outputs": [],
   "source": [
    "# RECONSTRUCT ANATOMICAL MARKERS USING TRANSFORMATION MATRIX\n",
    "# Right Thigh\n",
    "RHJCr = np.dot(Rp,jcR_hip) + Lp\n",
    "RKNLr = np.dot(Rt_R,R_lat_knee) + Lt_R\n",
    "RKNMr = np.dot(Rt_R,R_med_knee) + Lt_R\n",
    "# Left Thigh\n",
    "LHJCr = np.dot(Rp,jcR_hip) + Lp\n",
    "LKNLr = np.dot(Rt_L,L_lat_knee) + Lt_L\n",
    "LKNMr = np.dot(Rt_L,L_med_knee) + Lt_L"
   ]
  },
  {
   "cell_type": "markdown",
   "id": "d8e08c36-06f6-4561-96a1-e823a747c6d5",
   "metadata": {},
   "source": [
    "## FOOT segment"
   ]
  },
  {
   "cell_type": "code",
   "execution_count": 35,
   "id": "c0993ce3-6b0c-4327-aa48-d7f80e7b2539",
   "metadata": {},
   "outputs": [],
   "source": [
    "def footCS(RHET, RHEB, RTOE):\n",
    "    # Foot reference system\n",
    "    # long axis of the the foot is aligned with the lab AP\n",
    "    vf_x = (RTOE-RHEB)/np.linalg.norm(RTOE-RHEB)\n",
    "    # SECOND, create a vector from the two left markers (not the lateral one)\n",
    "    vf_y_temp = (RHET-RHEB)/np.linalg.norm(RHET-RHEB)\n",
    "    # use the temp vertical axis to create the lateral axis\n",
    "    vf_z = np.cross(vf_x,vf_y_temp)/np.linalg.norm(np.cross(vf_x,vf_y_temp))\n",
    "    #% and create the 'vertical' axis that provides standing eversion angle\n",
    "    vf_y = np.cross(vf_z,vf_x)/np.linalg.norm(np.cross(vf_z,vf_x))\n",
    "\n",
    "    #% foot reference system\n",
    "    bf = np.array([vf_x,vf_y,vf_z])\n",
    "    \n",
    "    return bf"
   ]
  },
  {
   "cell_type": "code",
   "execution_count": 36,
   "id": "4f43f932-cd86-4464-9487-56c7e15d1e35",
   "metadata": {},
   "outputs": [],
   "source": [
    "# STATIC MARKERS\n",
    "# Left foot\n",
    "#% FIRST need to identify the heel markers\n",
    "#% Combine 3 feet markers into one matrix ... can ignore the created fourth one\n",
    "R_foot_S = neutral[['R_foot_1_X','R_foot_1_Y','R_foot_1_Z',\n",
    "                 'R_foot_2_X','R_foot_2_Y','R_foot_2_Z',\n",
    "                 'R_foot_3_X','R_foot_3_Y','R_foot_3_Z']].values.reshape((3,3))\n",
    "# indices of the sequence of most left to the most right markers\n",
    "i_ft_R = list(R_foot_S[:, 0].argsort())\n",
    "\n",
    "# Determine what is the location of the 3 foot markers\n",
    "if R_foot_S[i_ft_R[0], 1] < R_foot_S[i_ft_R[1], 1]:\n",
    "    RHEB_lbl = 'R_foot_'+str(i_ft_R[0]+1) # heel bottom\n",
    "    RHET_lbl = 'R_foot_'+str(i_ft_R[1]+1) # heel top\n",
    "else:\n",
    "    RHEB_lbl = 'R_foot_'+str(i_ft_R[1]+1) # heel bottom\n",
    "    RHET_lbl = 'R_foot_'+str(i_ft_R[0]+1) # heel top\n",
    "RHEL_lbl = 'R_foot_'+str(i_ft_R[2]+1)\n",
    "    \n",
    "RHEBs = neutral.filter(like=RHEB_lbl, axis=1).values.flatten()\n",
    "RHETs = neutral.filter(like=RHET_lbl, axis=1).values.flatten()\n",
    "RHELs = neutral.filter(like=RHEL_lbl, axis=1).values.flatten()\n",
    "RTOEs = RHEBs + np.array([0, 0, -1]) # long axis of the the foot is aligned with the lab AP"
   ]
  },
  {
   "cell_type": "code",
   "execution_count": 37,
   "id": "e4ba7fff-2fa8-4a5f-bf80-4d02671cce6b",
   "metadata": {},
   "outputs": [],
   "source": [
    "# Left foot\n",
    "#% FIRST need to identify the heel markers\n",
    "#% Combine 3 feet markers into one matrix ... can ignore the created fourth one\n",
    "L_foot_S = neutral[['L_foot_1_X','L_foot_1_Y','L_foot_1_Z',\n",
    "                 'L_foot_2_X','L_foot_2_Y','L_foot_2_Z',\n",
    "                 'L_foot_3_X','L_foot_3_Y','L_foot_3_Z']].values.reshape((3,3))\n",
    "# indices of the sequence of most left to the most right markers\n",
    "i_ft_L = list(L_foot_S[:, 0].argsort())\n",
    "\n",
    "# Determine what is the location of the 3 foot markers\n",
    "if L_foot_S[i_ft_L[1], 1] < L_foot_S[i_ft_L[2], 1]:\n",
    "    LHEB_lbl = 'L_foot_'+str(i_ft_L[1]+1) # heel bottom\n",
    "    LHET_lbl = 'L_foot_'+str(i_ft_L[2]+1) # heel top\n",
    "else:\n",
    "    LHEB_lbl = 'L_foot_'+str(i_ft_L[2]+1) # heel bottom\n",
    "    LHET_lbl = 'L_foot_'+str(i_ft_L[1]+1) # heel top\n",
    "LHEL_lbl = 'L_foot_'+str(i_ft_L[0]+1)\n",
    "    \n",
    "LHEBs = neutral.filter(like=LHEB_lbl, axis=1).values.flatten()\n",
    "LHETs = neutral.filter(like=LHET_lbl, axis=1).values.flatten()\n",
    "LHELs = neutral.filter(like=LHEL_lbl, axis=1).values.flatten()\n",
    "LTOEs = LHEBs + np.array([0, 0, -1]) # long axis of the the foot is aligned with the lab AP"
   ]
  },
  {
   "cell_type": "code",
   "execution_count": 38,
   "id": "c7ca9303-c510-47b9-86b7-a3bbb8a695e1",
   "metadata": {},
   "outputs": [],
   "source": [
    "# RECONSTRUCT ANATOMICAL MARKERS USING TRANSFORMATION MATRIX\n",
    "# Right Foot\n",
    "RHEBr = np.dot(Rf_R,RHEBs)  + Lf_R\n",
    "RHETr = np.dot(Rf_R,RHETs)  + Lf_R\n",
    "RTOEr = np.dot(Rf_R,RTOEs)  + Lf_R\n",
    "# Left Foot\n",
    "LHEBr = np.dot(Rf_L,LHEBs)  + Lf_L\n",
    "LHETr = np.dot(Rf_L,LHETs)  + Lf_L\n",
    "LTOEr = np.dot(Rf_L,LTOEs)  + Lf_L"
   ]
  },
  {
   "cell_type": "markdown",
   "id": "7167d816-d086-485d-8cbd-d646a6f88d85",
   "metadata": {},
   "source": [
    "## RIGHT SHANK segment"
   ]
  },
  {
   "cell_type": "code",
   "execution_count": 39,
   "id": "64b5ad0e-94c5-4452-ab66-d1f53dc1997a",
   "metadata": {},
   "outputs": [],
   "source": [
    "def shankCS(R_lat_knee, R_med_knee, R_lat_ankle, R_med_ankle):\n",
    "    #%% RIGHT SHANK\n",
    "\n",
    "    jcR_knee = (R_lat_knee+R_med_knee)/2 # midpoint of the two knee markers\n",
    "    jcR_ankle = (R_med_ankle+R_lat_ankle)/2 # midpoint of the two ankle markers\n",
    "\n",
    "    # Segment axes\n",
    "    vs_y=(jcR_knee-jcR_ankle)/np.linalg.norm(jcR_knee-jcR_ankle); #long axis pointing up\n",
    "    \n",
    "    #almost the hinge joing pointing to the right\n",
    "    if R_lat_ankle[0] > R_med_ankle[0]: # to consider right and left side\n",
    "        vs_z_temp=(R_lat_ankle-R_med_ankle)/np.linalg.norm(R_lat_ankle-R_med_ankle)\n",
    "    else:\n",
    "        vs_z_temp=(R_med_ankle-R_lat_ankle)/np.linalg.norm(R_med_ankle-R_lat_ankle)\n",
    "        \n",
    "    #Anterior axis from the cross\n",
    "    vs_x = np.cross(vs_y,vs_z_temp)/np.linalg.norm(np.cross(vs_y,vs_z_temp))\n",
    "    #hinge axis, lateral for right\n",
    "    vs_z = np.cross(vs_x,vs_y)/np.linalg.norm(np.cross(vs_x,vs_y))\n",
    "\n",
    "    #% foot reference system\n",
    "    bs = np.array([vs_x,vs_y,vs_z])\n",
    "    \n",
    "    return bs"
   ]
  },
  {
   "cell_type": "code",
   "execution_count": 40,
   "id": "d2b4a0ab-2b30-4848-8134-fb4c082bf755",
   "metadata": {},
   "outputs": [],
   "source": [
    "# JOINT CENTRES\n",
    "# Shank markers\n",
    "L_lat_ankle = joints[['L_lat_ankle_X','L_lat_ankle_Y','L_lat_ankle_Z']].values.flatten()\n",
    "R_lat_ankle = joints[['R_lat_ankle_X','R_lat_ankle_Y','R_lat_ankle_Z']].values.flatten()\n",
    "L_med_ankle = joints[['L_med_ankle_X','L_med_ankle_Y','L_med_ankle_Z']].values.flatten()\n",
    "R_med_ankle = joints[['R_med_ankle_X','R_med_ankle_Y','R_med_ankle_Z']].values.flatten()"
   ]
  },
  {
   "cell_type": "code",
   "execution_count": 41,
   "id": "11dda50c-78b6-48be-99bc-6a8a0b20d5fd",
   "metadata": {},
   "outputs": [],
   "source": [
    "# RECONSTRUCT ANATOMICAL MARKERS USING TRANSFORMATION MATRIX\n",
    "LMALr = np.dot(Rs_L,L_lat_ankle) + Ls_L\n",
    "RMALr = np.dot(Rs_R,R_lat_ankle) + Ls_R\n",
    "LMAMr = np.dot(Rs_L,L_med_ankle) + Ls_L\n",
    "RMAMr = np.dot(Rs_R,R_med_ankle) + Ls_R"
   ]
  },
  {
   "cell_type": "markdown",
   "id": "1c95f007-01ae-4ad4-a2a4-eb715275f9a2",
   "metadata": {},
   "source": [
    "# Calculate angles"
   ]
  },
  {
   "cell_type": "code",
   "execution_count": 42,
   "id": "d0fb82e1-025b-4eb4-a288-ad1833dcabb7",
   "metadata": {},
   "outputs": [],
   "source": [
    "LAB_virtual = np.array([[0,0,-1],[0,1,0],[1,0,0]])"
   ]
  },
  {
   "cell_type": "code",
   "execution_count": 43,
   "id": "66bfccc7-7542-459d-867c-c71409015d17",
   "metadata": {},
   "outputs": [],
   "source": [
    "L_ankle_ang, R_ankle_ang=np.empty(RHETr.shape) * np.NaN, np.empty(RHETr.shape) * np.NaN\n",
    "L_knee_ang, R_knee_ang=np.empty(RHETr.shape) * np.NaN, np.empty(RHETr.shape) * np.NaN\n",
    "L_hip_ang, R_hip_ang=np.empty(RHETr.shape) * np.NaN, np.empty(RHETr.shape) * np.NaN\n",
    "L_foot_ang, R_foot_ang=np.empty(RHETr.shape) * np.NaN, np.empty(RHETr.shape) * np.NaN\n",
    "pelvis_ang  = np.empty(RHETr.shape) * np.NaN\n",
    "for i in range(RHETr.shape[0]):\n",
    "    # Calculate angles\n",
    "    bf_L = footCS(LHETr[i,:], LHEBr[i,:], LTOEr[i,:])\n",
    "    bf_R = footCS(RHETr[i,:], RHEBr[i,:], RTOEr[i,:])\n",
    "    bs_L = shankCS(LKNLr[i,:], LKNMr[i,:], LMALr[i,:], LMAMr[i,:])\n",
    "    bs_R = shankCS(RKNLr[i,:], RKNMr[i,:], RMALr[i,:], RMAMr[i,:])\n",
    "    bt_L = thighCS(LKNLr[i,:], LKNMr[i,:], LHJCr[i,:])\n",
    "    bt_R = thighCS(RKNLr[i,:], RKNMr[i,:], RHJCr[i,:])\n",
    "    bp = pelvisCS(pelvis_x_R[i,:],pelvis_y_R[i,:],jcPelvis_R[i,:])\n",
    "    # Global to anatomical\n",
    "    bf_L_T, bs_L_T, bt_L_T, bpT  = bf_L.T, bs_L.T, bt_L.T, bp.T\n",
    "    bf_R_T, bs_R_T, bt_R_T  = bf_R.T, bs_R.T, bt_R.T \n",
    "\n",
    "    # Product between [lab to shank] and [foot to lab]\n",
    "    L_ankle_ang[i,:] = cardanangles(np.dot(bs_L, bf_L_T))\n",
    "    R_ankle_ang[i,:] = cardanangles(np.dot(bs_R, bf_R_T))\n",
    "    L_knee_ang[i,:]  = cardanangles(np.dot(bt_L, bs_L_T))\n",
    "    R_knee_ang[i,:]  = cardanangles(np.dot(bt_R, bs_R_T))\n",
    "    L_hip_ang[i,:]   = cardanangles(np.dot(bp, bt_L_T))\n",
    "    R_hip_ang[i,:]   = cardanangles(np.dot(bp, bt_R_T))\n",
    "\n",
    "    # % LEFT FOOT angles\n",
    "    L_foot_ang[i,0] = np.arctan(bf_L_T[0,1]/np.sqrt(bf_L_T[1,1]**2 + bf_L_T[2,1]**2))\n",
    "    # angle of the long axis of the foot about the vertical axis\n",
    "    L_foot_ang[i,1] = np.arctan(bf_L_T[0,0]/np.sqrt(bf_L_T[1,0]**2 + bf_L_T[2,0]**2))\n",
    "    # and project the long axis into the sagital plane for ID of FOREFOOT\n",
    "    L_foot_ang[i,2] = np.arctan2(bf_L_T[1,0], -bf_L_T[2,0])\n",
    "    \n",
    "    # % RIGHT FOOT angles\n",
    "    R_foot_ang[i,0] = np.arctan(bf_R_T[0,1]/np.sqrt(bf_R_T[1,1]**2 + bf_R_T[2,1]**2))\n",
    "    # angle of the long axis of the foot about the vertical axis\n",
    "    R_foot_ang[i,1] = np.arctan(bf_R_T[0,0]/np.sqrt(bf_R_T[1,0]**2 + bf_R_T[2,0]**2))\n",
    "    # and project the long axis into the sagital plane for ID of FOREFOOT\n",
    "    R_foot_ang[i,2] = np.arctan2(bf_R_T[1,0], -bf_R_T[2,0])\n",
    "    \n",
    "    # % PELVIS angles\n",
    "    # % project lateral axis of pelvis\n",
    "    pelvis_ang[i,0] = np.arctan2(bpT[0,2],bpT[2,2]) - np.pi/2 #into floor plane\n",
    "    pelvis_ang[i,1] = np.arctan(bpT[1,2]/bpT[0,2]) #into frontal plane\n",
    "    #% and project anterior axis of pelvis\n",
    "    pelvis_ang[i,2] = np.arctan2(bpT[1,0],-bpT[2,0])#into sagital plane"
   ]
  },
  {
   "cell_type": "code",
   "execution_count": 44,
   "id": "95834735-9be5-42b6-89fd-98340622afa4",
   "metadata": {},
   "outputs": [],
   "source": [
    "L_ankle_ang, R_ankle_ang = L_ankle_ang * (180/np.pi), R_ankle_ang * (180/np.pi)\n",
    "L_knee_ang, R_knee_ang = L_knee_ang * (180/np.pi), R_knee_ang * (180/np.pi)\n",
    "L_hip_ang, R_hip_ang = L_hip_ang * (180/np.pi), R_hip_ang * (180/np.pi)\n",
    "L_foot_ang, R_foot_ang = L_foot_ang * (180/np.pi), R_foot_ang * (180/np.pi)\n",
    "pelvis_ang = pelvis_ang * (180/np.pi)"
   ]
  },
  {
   "cell_type": "markdown",
   "id": "76cc6eb1-9f80-485f-9de9-182da4f33415",
   "metadata": {},
   "source": [
    "### Run gait_steps.py"
   ]
  },
  {
   "cell_type": "code",
   "execution_count": 45,
   "id": "5a8e965a-38b8-475b-b3b3-77f047b64608",
   "metadata": {},
   "outputs": [],
   "source": [
    "# Create dataframe column corresponding to the dataset\n",
    "joints_lbls = ['pelvis','L_foot','R_foot','L_hip','R_hip','L_knee','R_knee',\n",
    "               'L_ankle','R_ankle']\n",
    "xyz = list('XYZ')*len(joints_lbls)\n",
    "joints_lbls = [ele for ele in joints_lbls for i in range(3)]\n",
    "joints_lbls = [joints_lbls[i]+'_'+xyz[i] for i in range(len(xyz))]\n",
    "\n",
    "# Create a pandas df with angles\n",
    "angs = np.hstack([pelvis_ang, L_foot_ang, R_foot_ang, \n",
    "                  L_hip_ang, R_hip_ang, L_knee_ang, R_knee_ang, \n",
    "                  L_ankle_ang, R_ankle_ang])\n",
    "angles = pd.DataFrame(data=angs, columns=joints_lbls)"
   ]
  },
  {
   "cell_type": "code",
   "execution_count": 46,
   "id": "19046df4-6b74-46ca-9d76-7ea4a34b25ed",
   "metadata": {},
   "outputs": [],
   "source": [
    "# Get gait events\n",
    "L_TD_RIC, L_TO_RIC, R_TD_RIC, R_TO_RIC, eventsflag_RIC, label_RIC = gait_steps(neutral, gait, angles, hz)\n",
    "\n",
    "RTD_RIC, RTO_RIC = R_TD_RIC.astype(int).tolist(), R_TO_RIC.astype(int).tolist()\n",
    "LTD_RIC, LTO_RIC = L_TD_RIC.astype(int).tolist(), L_TO_RIC.astype(int).tolist()"
   ]
  },
  {
   "cell_type": "code",
   "execution_count": 47,
   "id": "5c15bb8c-8bac-4505-b40e-5118aba2d2b0",
   "metadata": {},
   "outputs": [],
   "source": [
    "tn = np.linspace(1,R_ankle_ang.shape[0],R_ankle_ang.shape[0])"
   ]
  },
  {
   "cell_type": "code",
   "execution_count": 52,
   "id": "3310042d-ca85-4e44-a720-93c94b2b7714",
   "metadata": {},
   "outputs": [],
   "source": [
    "method1 = angle_L_hip * (180/np.pi)\n",
    "method2 = L_hip_ang"
   ]
  },
  {
   "cell_type": "code",
   "execution_count": 53,
   "id": "5a868ff2-9490-44e6-ab9c-6f215962e622",
   "metadata": {},
   "outputs": [
    {
     "data": {
      "image/png": "[encoded data removed]",
      "text/plain": [
       "<Figure size 1000x600 with 3 Axes>"
      ]
     },
     "metadata": {},
     "output_type": "display_data"
    }
   ],
   "source": [
    "# RIC dataset\n",
    "fig, axs = plt.subplots(3,1, figsize=(10,6))\n",
    "fig.suptitle('RIGHT Ankle angles')\n",
    "# RIC\n",
    "for i in range(len(RTD_RIC)-1):\n",
    "    axs[0].plot(method1[:,0])\n",
    "    axs[0].plot(tn[0::5], method2[0::5,0],'o')\n",
    "    axs[0].set_ylabel('X')\n",
    "    axs[0].grid('on')\n",
    "    axs[0].set_title('RIC')\n",
    "    axs[1].plot(method1[:,1])\n",
    "    axs[1].plot(tn[0::5], method2[0::5,1],'o')\n",
    "    axs[1].set_ylabel('Y')\n",
    "    axs[1].grid('on')\n",
    "    axs[2].plot(method1[:,2])\n",
    "    axs[2].plot(tn[0::5], method2[0::5,2],'o')\n",
    "    axs[2].set_ylabel('Z')\n",
    "    axs[2].grid('on')\n",
    "plt.show()"
   ]
  },
  {
   "cell_type": "code",
   "execution_count": null,
   "id": "10b1eafb-46a0-4b89-acc0-62e60a7e074f",
   "metadata": {},
   "outputs": [],
   "source": [
    "# RIC dataset\n",
    "fig, axs = plt.subplots(3,2, figsize=(10,6))\n",
    "fig.suptitle('RIGHT Ankle angles')\n",
    "# RIC\n",
    "for i in range(len(RTD_RIC)-1):\n",
    "    axs[0,0].plot(method2[RTD_RIC[i]:RTD_RIC[i+1],0])\n",
    "    axs[0,0].set_ylabel('X')\n",
    "    axs[0,0].grid('on')\n",
    "    axs[0,0].set_title('RIC')\n",
    "    axs[1,0].plot(method2[RTD_RIC[i]:RTD_RIC[i+1],1])\n",
    "    axs[1,0].set_ylabel('Y')\n",
    "    axs[1,0].grid('on')\n",
    "    axs[2,0].plot(method2[RTD_RIC[i]:RTD_RIC[i+1],2])\n",
    "    axs[2,0].set_ylabel('Z')\n",
    "    axs[2,0].grid('on')\n",
    "    \n",
    "    axs[0,1].plot(method1[RTD_RIC[i]:RTD_RIC[i+1],0])\n",
    "    axs[0,1].set_ylabel('X')\n",
    "    axs[0,1].grid('on')\n",
    "    axs[0,1].set_title('RIC')\n",
    "    axs[1,1].plot(method1[RTD_RIC[i]:RTD_RIC[i+1],1])\n",
    "    axs[1,1].set_ylabel('Y')\n",
    "    axs[1,1].grid('on')\n",
    "    axs[2,1].plot(method1[RTD_RIC[i]:RTD_RIC[i+1],2])\n",
    "    axs[2,1].set_ylabel('Z')\n",
    "    axs[2,1].grid('on')\n",
    "plt.show()"
   ]
  },
  {
   "cell_type": "code",
   "execution_count": null,
   "id": "76d76e59-ae97-4d7d-a5a1-edad9db2b6b2",
   "metadata": {},
   "outputs": [],
   "source": []
  },
  {
   "cell_type": "markdown",
   "id": "1396aac1-8ff2-4050-8821-df4723810260",
   "metadata": {
    "tags": []
   },
   "source": []
  },
  {
   "cell_type": "code",
   "execution_count": null,
   "id": "333a1c74-8687-4585-aa68-616a5a74b1e8",
   "metadata": {},
   "outputs": [],
   "source": []
  },
  {
   "cell_type": "code",
   "execution_count": null,
   "id": "747867f1",
   "metadata": {},
   "outputs": [],
   "source": []
  }
 ],
 "metadata": {
  "kernelspec": {
   "display_name": "Python 3 (ipykernel)",
   "language": "python",
   "name": "python3"
  },
  "language_info": {
   "codemirror_mode": {
    "name": "ipython",
    "version": 3
   },
   "file_extension": ".py",
   "mimetype": "text/x-python",
   "name": "python",
   "nbconvert_exporter": "python",
   "pygments_lexer": "ipython3",
   "version": "3.9.16"
  }
 },
 "nbformat": 4,
 "nbformat_minor": 5
}
