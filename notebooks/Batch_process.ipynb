{
 "cells": [
  {
   "cell_type": "markdown",
   "id": "b12e57ac",
   "metadata": {},
   "source": [
    "# Batch process\n",
    "# PENDING\n",
    "\n",
    "Reginaldo K Fukuchi \n",
    "\n",
    "This NB batch process the subjects in the dataset RIC and RBDS\n",
    "\n",
    "RBDS Lab Coordinate system\n",
    "*       X - points to the driection of walking\n",
    "*       Y - points vertically upwards\n",
    "*       Z - points to the subject's right\n",
    "\n",
    "RIC the following Lab Coordinate system\n",
    "*       X - points to the subject's right\n",
    "*       Y - points vertically upwards\n",
    "*       Z - points opposite of the walking direction\n",
    "\n",
    "%% NOTE the Segment coordinate systems\n",
    "*       X - Anterior .....................................[AB / AD duction]\n",
    "*       Y - Vertically upwards ............................[Axial rotation]\n",
    "*       Z - points to the subject's right side ...[Hinge flexion extension]"
   ]
  },
  {
   "cell_type": "code",
   "execution_count": 1,
   "id": "7f4e9cc6",
   "metadata": {},
   "outputs": [],
   "source": [
    "# Prepare environment\n",
    "import os, glob, sys\n",
    "import numpy as np\n",
    "import pandas as pd\n",
    "import seaborn as sns\n",
    "import matplotlib.pyplot as plt\n",
    "from scipy import signal\n",
    "import scipy.io as spio\n",
    "from tqdm.notebook import tqdm\n",
    "import pingouin as pg\n",
    "\n",
    "%matplotlib inline\n",
    "\n",
    "from detecta import detect_peaks\n",
    "\n",
    "import sys\n",
    "sys.path.insert(1, r'../functions')\n",
    "\n",
    "pd.set_option(\"display.precision\", 2)"
   ]
  },
  {
   "cell_type": "code",
   "execution_count": 2,
   "id": "5529672e-06a6-4630-abb7-82d590d9d61f",
   "metadata": {},
   "outputs": [],
   "source": [
    "# File directories \n",
    "dir_data = r'../data' \n",
    "data_dir_RBDS = r'C:\\Users\\Reginaldo\\Documents\\data\\CNPq\\RBDS_v2\\Figshare'\n",
    "dir_csv_RIC   = r'C:\\Users\\Reginaldo\\OneDrive - University of Calgary\\data\\Figshare_SciData\\new_unzip'"
   ]
  },
  {
   "cell_type": "markdown",
   "id": "abd25550-ade8-41c5-adea-624678c149aa",
   "metadata": {},
   "source": [
    "## Compare datasets"
   ]
  },
  {
   "cell_type": "code",
   "execution_count": 3,
   "id": "9baf33e3-3cec-4e52-b8df-cfe12bf9c793",
   "metadata": {},
   "outputs": [],
   "source": [
    "#L_ang_RBDSall = np.load(os.path.join(dir_data, 'L_angs_RBDSall.npy'))\n",
    "R_ang_RBDSall = np.load(os.path.join(dir_data, 'R_angs_RBDSall.npy'))\n",
    "#L_ang_RICall  = np.load(os.path.join(dir_data, 'L_angs_RICall.npy'))\n",
    "R_ang_RICall  = np.load(os.path.join(dir_data, 'R_angs_RICall.npy'))"
   ]
  },
  {
   "cell_type": "markdown",
   "id": "78ce1c5a-f5a5-42f6-b8ca-548269b251ed",
   "metadata": {},
   "source": [
    "# Get the best match subject from RIC dataset to compare with RBDS subjects"
   ]
  },
  {
   "cell_type": "code",
   "execution_count": 4,
   "id": "71ff4db5-2d77-470d-93a3-f3487ba23dd3",
   "metadata": {},
   "outputs": [],
   "source": [
    "# RIC dataframe with metadata\n",
    "info_RIC = pd.read_csv(os.path.join(dir_data,'run_data_meta.csv'))"
   ]
  },
  {
   "cell_type": "code",
   "execution_count": 5,
   "id": "ad1fc597-17da-4aee-bf9e-2156a4e60052",
   "metadata": {},
   "outputs": [],
   "source": [
    "# RBDS dataframe with metadata\n",
    "info_RBDS = pd.read_csv(os.path.join(dir_data,'RBDSinfo.txt'), delimiter='\\t')\n",
    "info_RBDS.drop_duplicates(subset='Subject', inplace=True)"
   ]
  },
  {
   "cell_type": "markdown",
   "id": "5f4245eb-46fa-43f1-aa8a-4eb832bbb163",
   "metadata": {},
   "source": [
    "RBDS subjects with odd pelvic kinematics"
   ]
  },
  {
   "cell_type": "code",
   "execution_count": 6,
   "id": "604ae0b3-32ed-430f-9851-b8ba5f076376",
   "metadata": {},
   "outputs": [],
   "source": [
    "inds = list(range(R_ang_RBDSall.shape[3]))\n",
    "bad_id = [9,15,20,22] # ids of bad data\n",
    "bad_id_2 = [i+1 for i in bad_id] # add one to each element\n",
    "inds = [s for s in inds if s not in bad_id]\n",
    "# Remove subjects with bad pelvis data\n",
    "info_RBDS = info_RBDS.loc[~info_RBDS['Subject'].isin(bad_id_2)]"
   ]
  },
  {
   "cell_type": "markdown",
   "id": "2d1b465a-760e-4731-9a0b-b445b7d1fbe8",
   "metadata": {},
   "source": [
    "Exclude female subject"
   ]
  },
  {
   "cell_type": "code",
   "execution_count": 7,
   "id": "0cfb635c-18b8-42ed-bd72-67239bf8ec4a",
   "metadata": {},
   "outputs": [],
   "source": [
    "info_RBDS = info_RBDS[info_RBDS['Gender']!='F'] "
   ]
  },
  {
   "cell_type": "markdown",
   "id": "8da4ed08-aa11-4223-b922-b86dfe813495",
   "metadata": {},
   "source": [
    "Age, height and mass of the RBDS"
   ]
  },
  {
   "cell_type": "code",
   "execution_count": 8,
   "id": "605b884e-7630-4c88-8f15-5634c02b54b6",
   "metadata": {},
   "outputs": [
    {
     "data": {
      "text/html": [
       "<div>\n",
       "<style scoped>\n",
       "    .dataframe tbody tr th:only-of-type {\n",
       "        vertical-align: middle;\n",
       "    }\n",
       "\n",
       "    .dataframe tbody tr th {\n",
       "        vertical-align: top;\n",
       "    }\n",
       "\n",
       "    .dataframe thead th {\n",
       "        text-align: right;\n",
       "    }\n",
       "</style>\n",
       "<table border=\"1\" class=\"dataframe\">\n",
       "  <thead>\n",
       "    <tr style=\"text-align: right;\">\n",
       "      <th></th>\n",
       "      <th>Age</th>\n",
       "      <th>Height</th>\n",
       "      <th>Mass</th>\n",
       "    </tr>\n",
       "  </thead>\n",
       "  <tbody>\n",
       "    <tr>\n",
       "      <th>count</th>\n",
       "      <td>23.00</td>\n",
       "      <td>23.00</td>\n",
       "      <td>23.00</td>\n",
       "    </tr>\n",
       "    <tr>\n",
       "      <th>mean</th>\n",
       "      <td>34.96</td>\n",
       "      <td>176.91</td>\n",
       "      <td>70.02</td>\n",
       "    </tr>\n",
       "    <tr>\n",
       "      <th>std</th>\n",
       "      <td>6.16</td>\n",
       "      <td>6.68</td>\n",
       "      <td>7.97</td>\n",
       "    </tr>\n",
       "    <tr>\n",
       "      <th>min</th>\n",
       "      <td>22.00</td>\n",
       "      <td>162.70</td>\n",
       "      <td>57.05</td>\n",
       "    </tr>\n",
       "    <tr>\n",
       "      <th>max</th>\n",
       "      <td>51.00</td>\n",
       "      <td>187.20</td>\n",
       "      <td>82.15</td>\n",
       "    </tr>\n",
       "  </tbody>\n",
       "</table>\n",
       "</div>"
      ],
      "text/plain": [
       "         Age  Height   Mass\n",
       "count  23.00   23.00  23.00\n",
       "mean   34.96  176.91  70.02\n",
       "std     6.16    6.68   7.97\n",
       "min    22.00  162.70  57.05\n",
       "max    51.00  187.20  82.15"
      ]
     },
     "execution_count": 8,
     "metadata": {},
     "output_type": "execute_result"
    }
   ],
   "source": [
    "desc = info_RBDS[['Age','Height','Mass']].agg(['count', 'mean', 'std', 'min', 'max'])\n",
    "desc"
   ]
  },
  {
   "cell_type": "markdown",
   "id": "dd2d8ff6-6e92-425c-be96-381311d8bcc4",
   "metadata": {},
   "source": [
    "## Filter RIC data to find the best match"
   ]
  },
  {
   "cell_type": "code",
   "execution_count": 9,
   "id": "b65fcbec-2732-47b0-b50a-5db687884064",
   "metadata": {},
   "outputs": [],
   "source": [
    "# Remove female subjects\n",
    "info_RIC = info_RIC[info_RIC['Gender']=='Male']"
   ]
  },
  {
   "cell_type": "code",
   "execution_count": 10,
   "id": "19d1909e-293a-486c-9eca-32bfbaaa8bc7",
   "metadata": {},
   "outputs": [],
   "source": [
    "dev = 0.025 # 2.5%"
   ]
  },
  {
   "cell_type": "code",
   "execution_count": 11,
   "id": "90182c8a-accc-4e34-8ec1-331cccd47c96",
   "metadata": {},
   "outputs": [
    {
     "name": "stdout",
     "output_type": "stream",
     "text": [
      "Lower limit age criterion is 27.25581467236941 years\n",
      "Upper limit age criterion is 42.657228805891464 years\n"
     ]
    }
   ],
   "source": [
    "# Slightly greater SD to \n",
    "uL_age = desc['Age']['mean']+desc['Age']['std']*1.25\n",
    "lL_age = desc['Age']['mean']-desc['Age']['std']*1.25\n",
    "print('Lower limit age criterion is '+str(lL_age)+' years')\n",
    "print('Upper limit age criterion is '+str(uL_age)+' years')"
   ]
  },
  {
   "cell_type": "code",
   "execution_count": 12,
   "id": "5ca4aca1-34d7-4f74-9399-da8b45b35a89",
   "metadata": {},
   "outputs": [
    {
     "name": "stdout",
     "output_type": "stream",
     "text": [
      "Lower limit Height criterion is 170.22810080849746 cm\n",
      "Upper limit Height criterion is 183.5979861480243 cm\n"
     ]
    }
   ],
   "source": [
    "uL_ht = desc['Height']['mean']+desc['Height']['std']\n",
    "lL_ht = desc['Height']['mean']-desc['Height']['std']\n",
    "print('Lower limit Height criterion is '+str(lL_ht)+' cm')\n",
    "print('Upper limit Height criterion is '+str(uL_ht)+' cm')"
   ]
  },
  {
   "cell_type": "code",
   "execution_count": 13,
   "id": "2f3f1929-dc82-4b87-95cc-e9ac7839270f",
   "metadata": {},
   "outputs": [
    {
     "name": "stdout",
     "output_type": "stream",
     "text": [
      "Lower limit Mass criterion is 62.04652246589598 kg\n",
      "Upper limit Mass criterion is 77.98391231671275 kg\n"
     ]
    }
   ],
   "source": [
    "uL_wt = desc['Mass']['mean']+desc['Mass']['std']\n",
    "lL_wt = desc['Mass']['mean']-desc['Mass']['std']\n",
    "print('Lower limit Mass criterion is '+str(lL_wt)+' kg')\n",
    "print('Upper limit Mass criterion is '+str(uL_wt)+' kg')"
   ]
  },
  {
   "cell_type": "code",
   "execution_count": 14,
   "id": "f05ba7e6-af2a-4d7b-8859-7013129034dc",
   "metadata": {},
   "outputs": [
    {
     "name": "stdout",
     "output_type": "stream",
     "text": [
      "Lower limit run speed criterion is 2.4125 m/s\n",
      "Upper limit run speed criterion is 2.5875 m/s\n"
     ]
    }
   ],
   "source": [
    "uL_speed = 2.5 + 0.025*3.5\n",
    "lL_speed = 2.5 - 0.025*3.5\n",
    "print('Lower limit run speed criterion is '+str(lL_speed)+' m/s')\n",
    "print('Upper limit run speed criterion is '+str(uL_speed)+' m/s')"
   ]
  },
  {
   "cell_type": "code",
   "execution_count": 15,
   "id": "04947425-d044-4c5a-959e-69547eed2011",
   "metadata": {},
   "outputs": [],
   "source": [
    "speed_filt = info_RIC[(info_RIC['speed_r']<uL_speed) & (info_RIC['speed_r']>lL_speed)]\n",
    "demo_filt  = speed_filt[(speed_filt['age']>lL_age) & (speed_filt['age']<uL_age)]\n",
    "height_filt= demo_filt[(demo_filt['Height']<uL_ht) & (demo_filt['Height']>lL_ht)]"
   ]
  },
  {
   "cell_type": "markdown",
   "id": "8bc81535-ca3a-4a55-b87f-aaf504d3a129",
   "metadata": {},
   "source": [
    "Manually remove RIC subjects to match the sample of RBDS"
   ]
  },
  {
   "cell_type": "code",
   "execution_count": 16,
   "id": "174f3ac1-a37a-433e-a4ce-3db47bc32973",
   "metadata": {},
   "outputs": [],
   "source": [
    "height_filt = height_filt[height_filt['sub_id']!=101729] # age, mass and speed\n",
    "height_filt = height_filt[height_filt['sub_id']!=101141] # mass\n",
    "height_filt = height_filt[height_filt['sub_id']!=100715] # mass\n",
    "height_filt = height_filt[height_filt['sub_id']!=100769] # mass"
   ]
  },
  {
   "cell_type": "markdown",
   "id": "1ffee5a3-2949-4cf9-b94f-5b081593b43e",
   "metadata": {},
   "source": [
    "Age, height and mass of the RIC"
   ]
  },
  {
   "cell_type": "code",
   "execution_count": 17,
   "id": "8a14e478-d1d0-42fa-842f-2dda40ff863b",
   "metadata": {},
   "outputs": [
    {
     "data": {
      "text/html": [
       "<div>\n",
       "<style scoped>\n",
       "    .dataframe tbody tr th:only-of-type {\n",
       "        vertical-align: middle;\n",
       "    }\n",
       "\n",
       "    .dataframe tbody tr th {\n",
       "        vertical-align: top;\n",
       "    }\n",
       "\n",
       "    .dataframe thead th {\n",
       "        text-align: right;\n",
       "    }\n",
       "</style>\n",
       "<table border=\"1\" class=\"dataframe\">\n",
       "  <thead>\n",
       "    <tr style=\"text-align: right;\">\n",
       "      <th></th>\n",
       "      <th>age</th>\n",
       "      <th>Height</th>\n",
       "      <th>Weight</th>\n",
       "    </tr>\n",
       "  </thead>\n",
       "  <tbody>\n",
       "    <tr>\n",
       "      <th>count</th>\n",
       "      <td>23.00</td>\n",
       "      <td>23.00</td>\n",
       "      <td>23.00</td>\n",
       "    </tr>\n",
       "    <tr>\n",
       "      <th>mean</th>\n",
       "      <td>34.26</td>\n",
       "      <td>177.34</td>\n",
       "      <td>78.37</td>\n",
       "    </tr>\n",
       "    <tr>\n",
       "      <th>std</th>\n",
       "      <td>4.40</td>\n",
       "      <td>3.18</td>\n",
       "      <td>7.35</td>\n",
       "    </tr>\n",
       "    <tr>\n",
       "      <th>min</th>\n",
       "      <td>28.00</td>\n",
       "      <td>172.20</td>\n",
       "      <td>62.90</td>\n",
       "    </tr>\n",
       "    <tr>\n",
       "      <th>max</th>\n",
       "      <td>42.00</td>\n",
       "      <td>182.90</td>\n",
       "      <td>91.70</td>\n",
       "    </tr>\n",
       "  </tbody>\n",
       "</table>\n",
       "</div>"
      ],
      "text/plain": [
       "         age  Height  Weight\n",
       "count  23.00   23.00   23.00\n",
       "mean   34.26  177.34   78.37\n",
       "std     4.40    3.18    7.35\n",
       "min    28.00  172.20   62.90\n",
       "max    42.00  182.90   91.70"
      ]
     },
     "execution_count": 17,
     "metadata": {},
     "output_type": "execute_result"
    }
   ],
   "source": [
    "desc_RIC = height_filt[['age','Height','Weight']].agg(['count', 'mean', 'std', 'min', 'max'])\n",
    "desc_RIC"
   ]
  },
  {
   "cell_type": "code",
   "execution_count": 26,
   "id": "8ed8ee28-16a9-48f4-b684-c878fc12f72b",
   "metadata": {},
   "outputs": [],
   "source": [
    "# Merge datasets\n",
    "RBDS_info = info_RBDS[['Subject','FileName','Age','Height','Mass']]\n",
    "RIC_info  = height_filt[['sub_id','filename','speed_r','age','Height','Weight']]\n",
    "RIC_info  = RIC_info.rename(columns={'age': 'Age', 'Weight': 'Mass', 'speed_r':'speed'})\n",
    "RBDS_info = RBDS_info.rename(columns={'Subject': 'sub_id', 'FileName': 'filename'})"
   ]
  },
  {
   "cell_type": "code",
   "execution_count": 27,
   "id": "04f80c06-3802-4c4e-bc8c-c825972ba8f9",
   "metadata": {},
   "outputs": [],
   "source": [
    "RBDS_info['speed']=2.5"
   ]
  },
  {
   "cell_type": "code",
   "execution_count": 28,
   "id": "6205a06d-f024-42eb-aa37-6b279b42726c",
   "metadata": {},
   "outputs": [],
   "source": [
    "RBDS_info = RBDS_info[RIC_info.columns.tolist()]"
   ]
  },
  {
   "cell_type": "code",
   "execution_count": 30,
   "id": "8138feb9-9e5e-40e2-922a-e68b7cd6259a",
   "metadata": {},
   "outputs": [],
   "source": [
    "info_both = pd.concat([RBDS_info,RIC_info], axis=0)"
   ]
  },
  {
   "cell_type": "code",
   "execution_count": 32,
   "id": "d250c763-dfe2-40fb-92ef-d3cc7c3b5b82",
   "metadata": {},
   "outputs": [],
   "source": [
    "lbl_1 = ['RBDS']*RBDS_info.shape[0]\n",
    "lbl_2 = ['RIC']*RIC_info.shape[0]\n",
    "info_both['group'] = lbl_1+lbl_2"
   ]
  },
  {
   "cell_type": "code",
   "execution_count": 33,
   "id": "1b6ddd94-1409-44bb-83ea-12580ad93cc3",
   "metadata": {},
   "outputs": [],
   "source": [
    "info_both.to_csv(os.path.join(dir_data, 'info_both.csv'))"
   ]
  },
  {
   "cell_type": "code",
   "execution_count": 35,
   "id": "68995aeb-1ca4-4692-a3cc-61cadb0fd6d1",
   "metadata": {},
   "outputs": [
    {
     "data": {
      "text/plain": [
       "['sub_id', 'filename', 'speed', 'Age', 'Height', 'Mass', 'group']"
      ]
     },
     "execution_count": 35,
     "metadata": {},
     "output_type": "execute_result"
    }
   ],
   "source": [
    "info_both.columns.tolist()"
   ]
  },
  {
   "cell_type": "code",
   "execution_count": 72,
   "id": "724cf981-30b0-456b-b58f-13e141778b43",
   "metadata": {},
   "outputs": [],
   "source": [
    "def ttest(df, var, factor, levels=None, alpha=0.05):\n",
    "    \"\"\"t-test statistcs for dataframe columns using the pingouin library.\n",
    "    \"\"\"\n",
    "    stats = pd.DataFrame()\n",
    "    if levels is None:\n",
    "        levels = df[factor].unique()\n",
    "    if len(levels) != 2:\n",
    "        raise Exception('Incorrect number of levels: {}'.format(len(levels)))\n",
    "    for v in var:\n",
    "        x = df[df[factor] == levels[0]][v]\n",
    "        y = df[df[factor] == levels[1]][v]\n",
    "        stat = pg.ttest(x, y)\n",
    "        stat.index = [v]\n",
    "        stats = pd.concat([stats, stat], axis=0)\n",
    "    stats.drop(columns=['BF10', 'power'], inplace=True)\n",
    "    stats.index.name = '{}-{}'.format(*levels)\n",
    "    display(stats.style.format({'p-val': '{:.3f}'}).apply(sig_red, subset='p-val', axis=1))\n",
    "    return stats\n",
    "\n",
    "def normality(df):\n",
    "    \"\"\"Get the p-val of the normality test using the pingouin library.\n",
    "    \"\"\"\n",
    "    return pg.normality(df)['pval']\n",
    "\n",
    "def sig_red(col, alpha=0.05):\n",
    "    \"\"\"Returns string 'color: red' for `col` < `alpha`, black otherwise.\n",
    "    \"\"\"\n",
    "    is_sig = col < alpha\n",
    "    return ['color: red' if x else 'color: black' for x in is_sig]\n",
    "\n",
    "def describe(df, by, var=['count', 'mean', 'std', 'min', 'max', normality]):\n",
    "    \"\"\"Descriptive statistics for dataframe columns.\n",
    "    \"\"\"\n",
    "    x = df.groupby(by).agg(var).stack().transpose()\n",
    "    display(x.style.apply(sig_red,\n",
    "                          subset=[col for col in x.columns if col[1] == 'normality']))    \n",
    "    return x"
   ]
  },
  {
   "cell_type": "code",
   "execution_count": 73,
   "id": "69ecd77f-5bc6-4703-81d8-7844bbc74062",
   "metadata": {},
   "outputs": [
    {
     "data": {
      "text/html": [
       "<style type=\"text/css\">\n",
       "#T_6c95f_row0_col3, #T_6c95f_row0_col7, #T_6c95f_row1_col3, #T_6c95f_row1_col7, #T_6c95f_row2_col3, #T_6c95f_row2_col7 {\n",
       "  color: black;\n",
       "}\n",
       "</style>\n",
       "<table id=\"T_6c95f\">\n",
       "  <thead>\n",
       "    <tr>\n",
       "      <th class=\"index_name level0\" >group</th>\n",
       "      <th id=\"T_6c95f_level0_col0\" class=\"col_heading level0 col0\" colspan=\"4\">RBDS</th>\n",
       "      <th id=\"T_6c95f_level0_col4\" class=\"col_heading level0 col4\" colspan=\"4\">RIC</th>\n",
       "    </tr>\n",
       "    <tr>\n",
       "      <th class=\"blank level1\" >&nbsp;</th>\n",
       "      <th id=\"T_6c95f_level1_col0\" class=\"col_heading level1 col0\" >count</th>\n",
       "      <th id=\"T_6c95f_level1_col1\" class=\"col_heading level1 col1\" >mean</th>\n",
       "      <th id=\"T_6c95f_level1_col2\" class=\"col_heading level1 col2\" >std</th>\n",
       "      <th id=\"T_6c95f_level1_col3\" class=\"col_heading level1 col3\" >normality</th>\n",
       "      <th id=\"T_6c95f_level1_col4\" class=\"col_heading level1 col4\" >count</th>\n",
       "      <th id=\"T_6c95f_level1_col5\" class=\"col_heading level1 col5\" >mean</th>\n",
       "      <th id=\"T_6c95f_level1_col6\" class=\"col_heading level1 col6\" >std</th>\n",
       "      <th id=\"T_6c95f_level1_col7\" class=\"col_heading level1 col7\" >normality</th>\n",
       "    </tr>\n",
       "  </thead>\n",
       "  <tbody>\n",
       "    <tr>\n",
       "      <th id=\"T_6c95f_level0_row0\" class=\"row_heading level0 row0\" >Age</th>\n",
       "      <td id=\"T_6c95f_row0_col0\" class=\"data row0 col0\" >23.000000</td>\n",
       "      <td id=\"T_6c95f_row0_col1\" class=\"data row0 col1\" >34.956522</td>\n",
       "      <td id=\"T_6c95f_row0_col2\" class=\"data row0 col2\" >6.160566</td>\n",
       "      <td id=\"T_6c95f_row0_col3\" class=\"data row0 col3\" >0.748268</td>\n",
       "      <td id=\"T_6c95f_row0_col4\" class=\"data row0 col4\" >23.000000</td>\n",
       "      <td id=\"T_6c95f_row0_col5\" class=\"data row0 col5\" >34.260870</td>\n",
       "      <td id=\"T_6c95f_row0_col6\" class=\"data row0 col6\" >4.402658</td>\n",
       "      <td id=\"T_6c95f_row0_col7\" class=\"data row0 col7\" >0.148932</td>\n",
       "    </tr>\n",
       "    <tr>\n",
       "      <th id=\"T_6c95f_level0_row1\" class=\"row_heading level0 row1\" >Height</th>\n",
       "      <td id=\"T_6c95f_row1_col0\" class=\"data row1 col0\" >23.000000</td>\n",
       "      <td id=\"T_6c95f_row1_col1\" class=\"data row1 col1\" >176.913043</td>\n",
       "      <td id=\"T_6c95f_row1_col2\" class=\"data row1 col2\" >6.684943</td>\n",
       "      <td id=\"T_6c95f_row1_col3\" class=\"data row1 col3\" >0.197702</td>\n",
       "      <td id=\"T_6c95f_row1_col4\" class=\"data row1 col4\" >23.000000</td>\n",
       "      <td id=\"T_6c95f_row1_col5\" class=\"data row1 col5\" >177.339130</td>\n",
       "      <td id=\"T_6c95f_row1_col6\" class=\"data row1 col6\" >3.178727</td>\n",
       "      <td id=\"T_6c95f_row1_col7\" class=\"data row1 col7\" >0.185934</td>\n",
       "    </tr>\n",
       "    <tr>\n",
       "      <th id=\"T_6c95f_level0_row2\" class=\"row_heading level0 row2\" >Mass</th>\n",
       "      <td id=\"T_6c95f_row2_col0\" class=\"data row2 col0\" >23.000000</td>\n",
       "      <td id=\"T_6c95f_row2_col1\" class=\"data row2 col1\" >70.015217</td>\n",
       "      <td id=\"T_6c95f_row2_col2\" class=\"data row2 col2\" >7.968695</td>\n",
       "      <td id=\"T_6c95f_row2_col3\" class=\"data row2 col3\" >0.149924</td>\n",
       "      <td id=\"T_6c95f_row2_col4\" class=\"data row2 col4\" >23.000000</td>\n",
       "      <td id=\"T_6c95f_row2_col5\" class=\"data row2 col5\" >78.365217</td>\n",
       "      <td id=\"T_6c95f_row2_col6\" class=\"data row2 col6\" >7.348569</td>\n",
       "      <td id=\"T_6c95f_row2_col7\" class=\"data row2 col7\" >0.592423</td>\n",
       "    </tr>\n",
       "  </tbody>\n",
       "</table>\n"
      ],
      "text/plain": [
       "<pandas.io.formats.style.Styler at 0x1fe6750c490>"
      ]
     },
     "metadata": {},
     "output_type": "display_data"
    }
   ],
   "source": [
    "var = ['group', 'Age', 'Height', 'Mass']\n",
    "describe(info_both, 'group', var=['count', 'mean', 'std', normality]);"
   ]
  },
  {
   "cell_type": "code",
   "execution_count": 74,
   "id": "0c3e4594-e4a3-4402-93f0-28320a2a2b3e",
   "metadata": {},
   "outputs": [
    {
     "data": {
      "text/html": [
       "<style type=\"text/css\">\n",
       "#T_280ed_row0_col3, #T_280ed_row1_col3 {\n",
       "  color: black;\n",
       "}\n",
       "#T_280ed_row2_col3 {\n",
       "  color: red;\n",
       "}\n",
       "</style>\n",
       "<table id=\"T_280ed\">\n",
       "  <thead>\n",
       "    <tr>\n",
       "      <th class=\"blank level0\" >&nbsp;</th>\n",
       "      <th id=\"T_280ed_level0_col0\" class=\"col_heading level0 col0\" >T</th>\n",
       "      <th id=\"T_280ed_level0_col1\" class=\"col_heading level0 col1\" >dof</th>\n",
       "      <th id=\"T_280ed_level0_col2\" class=\"col_heading level0 col2\" >alternative</th>\n",
       "      <th id=\"T_280ed_level0_col3\" class=\"col_heading level0 col3\" >p-val</th>\n",
       "      <th id=\"T_280ed_level0_col4\" class=\"col_heading level0 col4\" >CI95%</th>\n",
       "      <th id=\"T_280ed_level0_col5\" class=\"col_heading level0 col5\" >cohen-d</th>\n",
       "    </tr>\n",
       "    <tr>\n",
       "      <th class=\"index_name level0\" >RBDS-RIC</th>\n",
       "      <th class=\"blank col0\" >&nbsp;</th>\n",
       "      <th class=\"blank col1\" >&nbsp;</th>\n",
       "      <th class=\"blank col2\" >&nbsp;</th>\n",
       "      <th class=\"blank col3\" >&nbsp;</th>\n",
       "      <th class=\"blank col4\" >&nbsp;</th>\n",
       "      <th class=\"blank col5\" >&nbsp;</th>\n",
       "    </tr>\n",
       "  </thead>\n",
       "  <tbody>\n",
       "    <tr>\n",
       "      <th id=\"T_280ed_level0_row0\" class=\"row_heading level0 row0\" >Age</th>\n",
       "      <td id=\"T_280ed_row0_col0\" class=\"data row0 col0\" >0.440598</td>\n",
       "      <td id=\"T_280ed_row0_col1\" class=\"data row0 col1\" >44</td>\n",
       "      <td id=\"T_280ed_row0_col2\" class=\"data row0 col2\" >two-sided</td>\n",
       "      <td id=\"T_280ed_row0_col3\" class=\"data row0 col3\" >0.662</td>\n",
       "      <td id=\"T_280ed_row0_col4\" class=\"data row0 col4\" >[-2.49  3.88]</td>\n",
       "      <td id=\"T_280ed_row0_col5\" class=\"data row0 col5\" >0.129925</td>\n",
       "    </tr>\n",
       "    <tr>\n",
       "      <th id=\"T_280ed_level0_row1\" class=\"row_heading level0 row1\" >Height</th>\n",
       "      <td id=\"T_280ed_row1_col0\" class=\"data row1 col0\" >-0.276058</td>\n",
       "      <td id=\"T_280ed_row1_col1\" class=\"data row1 col1\" >44</td>\n",
       "      <td id=\"T_280ed_row1_col2\" class=\"data row1 col2\" >two-sided</td>\n",
       "      <td id=\"T_280ed_row1_col3\" class=\"data row1 col3\" >0.784</td>\n",
       "      <td id=\"T_280ed_row1_col4\" class=\"data row1 col4\" >[-3.54  2.68]</td>\n",
       "      <td id=\"T_280ed_row1_col5\" class=\"data row1 col5\" >0.081405</td>\n",
       "    </tr>\n",
       "    <tr>\n",
       "      <th id=\"T_280ed_level0_row2\" class=\"row_heading level0 row2\" >Mass</th>\n",
       "      <td id=\"T_280ed_row2_col0\" class=\"data row2 col0\" >-3.694270</td>\n",
       "      <td id=\"T_280ed_row2_col1\" class=\"data row2 col1\" >44</td>\n",
       "      <td id=\"T_280ed_row2_col2\" class=\"data row2 col2\" >two-sided</td>\n",
       "      <td id=\"T_280ed_row2_col3\" class=\"data row2 col3\" >0.001</td>\n",
       "      <td id=\"T_280ed_row2_col4\" class=\"data row2 col4\" >[-12.91  -3.79]</td>\n",
       "      <td id=\"T_280ed_row2_col5\" class=\"data row2 col5\" >1.089381</td>\n",
       "    </tr>\n",
       "  </tbody>\n",
       "</table>\n"
      ],
      "text/plain": [
       "<pandas.io.formats.style.Styler at 0x1fe674af730>"
      ]
     },
     "metadata": {},
     "output_type": "display_data"
    }
   ],
   "source": [
    "stats = ttest(info_both, var[1:], 'group', levels=['RBDS', 'RIC'])"
   ]
  },
  {
   "cell_type": "markdown",
   "id": "0174c7e8-415f-44ac-8041-59deed785268",
   "metadata": {
    "tags": []
   },
   "source": [
    "### Import support functions"
   ]
  },
  {
   "cell_type": "code",
   "execution_count": 75,
   "id": "4e74c99a-5475-4144-b511-193eb72fd1db",
   "metadata": {},
   "outputs": [],
   "source": [
    "import parse_gait_kinematics as parse_gait\n",
    "import SCS_RIC as scs\n",
    "import jointangles3d as jang3d\n",
    "from gait_kinematics import gait_kinematics\n",
    "from gait_steps import gait_steps\n",
    "from gait3d_angles import gait3d_angles\n",
    "from critic_damp import critic_damp\n",
    "from svdt import svdt\n",
    "from tnorma import tnorma"
   ]
  },
  {
   "cell_type": "code",
   "execution_count": null,
   "id": "1231df72-ea23-4c24-a0e4-138ccb1430c4",
   "metadata": {},
   "outputs": [],
   "source": [
    "method = 'RIC'"
   ]
  },
  {
   "cell_type": "code",
   "execution_count": null,
   "id": "adfee942-5bf4-477f-8158-cb4ebb506ee8",
   "metadata": {},
   "outputs": [],
   "source": [
    "if method=='RIC':\n",
    "    # RIC list of subjects and files\n",
    "    sub_ids = height_filt['sub_id'].tolist()\n",
    "    fn_RIC  = height_filt['filename'].tolist()\n",
    "    RIC_dir = r'C:\\Users\\Reginaldo\\OneDrive - University of Calgary\\data\\Figshare_SciData\\new_unzip'\n",
    "else:\n",
    "    # RBDS\n",
    "    RBDS_dir = r'C:\\Users\\Reginaldo\\Documents\\data\\CNPq\\RBDS_v2\\Figshare'\n",
    "    fns_RBDS = glob.glob(os.path.join(RBDS_dir,'RBDS*static.c3d'))\n",
    "    sub_ids = [subs[-17:-10] for subs in fns_RBDS]"
   ]
  },
  {
   "cell_type": "markdown",
   "id": "d2f5c6ad-e0c8-443a-bcad-0179eb58c4c2",
   "metadata": {
    "tags": []
   },
   "source": [
    "#### Batch process\n",
    "* RBDS too about 8 minutes [08:07<00:00, 18.19s/it]"
   ]
  },
  {
   "cell_type": "code",
   "execution_count": null,
   "id": "42d7e28d-1b12-4d64-8b27-6d73f3300123",
   "metadata": {},
   "outputs": [],
   "source": [
    "# Import JSON files\n",
    "angsR2  = np.empty(shape=(101,15,len(sub_ids)))*np.NaN\n",
    "angsL2  = np.empty(shape=(101,15,len(sub_ids)))*np.NaN\n",
    "angsRall= np.empty(shape=(101,15,100,len(sub_ids)))*np.NaN\n",
    "angsLall= np.empty(shape=(101,15,100,len(sub_ids)))*np.NaN\n",
    "for s, subject in tqdm(enumerate(sub_ids), desc='Loading...', leave=True):\n",
    "    if method=='RIC':\n",
    "        # Running Injury Clinic data set\n",
    "        fn_json=os.path.join(RIC_dir, str(sub_ids[s]), fn_RIC[s])\n",
    "        neutral, joints, gait, hz = parse_gait.parse_RIC(fn_json)\n",
    "    else:\n",
    "        fn_static = os.path.join(RBDS_dir,subject+'static.c3d')\n",
    "        fn_gait = os.path.join(RBDS_dir,subject+'runT25.c3d')\n",
    "        neutral, joints, gait, hz = parse_gait.parse_RBDS(fn_static, fn_gait, filt=True)\n",
    "\n",
    "    # Calculate joint angles\n",
    "    virt_mkrs, angles = gait3d_angles(neutral, joints, gait)\n",
    "\n",
    "    # Convert dict in arrays\n",
    "    L_ankle_ang, R_ankle_ang = angles['L_ankle_ang'], angles['R_ankle_ang']\n",
    "    L_knee_ang, R_knee_ang = angles['L_knee_ang'], angles['R_knee_ang']\n",
    "    L_hip_ang, R_hip_ang = angles['L_hip_ang'], angles['R_hip_ang']\n",
    "    L_foot_ang, R_foot_ang = angles['L_foot_ang'], angles['R_foot_ang']\n",
    "    pelvis_ang = angles['pelvis_ang']\n",
    "\n",
    "    # Convert angles in degrees\n",
    "    L_ankle_ang, R_ankle_ang = L_ankle_ang * (180/np.pi), R_ankle_ang * (180/np.pi)\n",
    "    L_knee_ang, R_knee_ang = L_knee_ang * (180/np.pi), R_knee_ang * (180/np.pi)\n",
    "    L_hip_ang, R_hip_ang = L_hip_ang * (180/np.pi), R_hip_ang * (180/np.pi)\n",
    "    L_foot_ang, R_foot_ang = L_foot_ang * (180/np.pi), R_foot_ang * (180/np.pi)\n",
    "    pelvis_ang = pelvis_ang * (180/np.pi)\n",
    "\n",
    "    # Structure the data to be input into gait_steps\n",
    "    joints_lbls = ['pelvis','L_foot','R_foot','L_hip','R_hip','L_knee','R_knee',\n",
    "                   'L_ankle','R_ankle']\n",
    "    xyz = list('XYZ')*len(joints_lbls)\n",
    "    joints_lbls = [ele for ele in joints_lbls for i in range(3)]\n",
    "    joints_lbls = [joints_lbls[i]+'_'+xyz[i] for i in range(len(xyz))]\n",
    "\n",
    "    # Create a pandas df with angles\n",
    "    angs = np.hstack([pelvis_ang, L_foot_ang, R_foot_ang, \n",
    "                      L_hip_ang, R_hip_ang, L_knee_ang, R_knee_ang, \n",
    "                      L_ankle_ang, R_ankle_ang])\n",
    "    angles = pd.DataFrame(data=angs, columns=joints_lbls)\n",
    "\n",
    "    # Detect gait events using gait_steps.py\n",
    "    L_TD_RIC, L_TO_RIC, R_TD_RIC, R_TO_RIC, eventsflag_RIC, label_RIC = gait_steps(neutral, gait, angles, hz)\n",
    "    RTD_RIC, RTO_RIC = R_TD_RIC.astype(int).tolist(), R_TO_RIC.astype(int).tolist()\n",
    "    LTD_RIC, LTO_RIC = L_TD_RIC.astype(int).tolist(), L_TO_RIC.astype(int).tolist()\n",
    "\n",
    "    # Right side \n",
    "    anglesR = angles.loc[:, angles.columns.str.contains('|'.join(['R_', 'pelvis']))]\n",
    "    angsR = np.empty(shape=(101,anglesR.shape[1],len(RTD_RIC)-1))\n",
    "    for iR in range(len(RTD_RIC)-1):\n",
    "        angsR[:,:,iR], tn, indie = tnorma(anglesR.values[RTD_RIC[iR]:RTD_RIC[iR+1],:], \n",
    "                                          k=1, smooth=0, mask=None, show=False)\n",
    "\n",
    "    # Left side\n",
    "    anglesL = angles.loc[:, angles.columns.str.contains('|'.join(['L_', 'pelvis']))]\n",
    "    angsL = np.empty(shape=(101,anglesL.shape[1],len(LTD_RIC)-1))\n",
    "    for iL in range(len(LTD_RIC)-1):\n",
    "        angsL[:,:,iL], tn, indie = tnorma(anglesL.values[LTD_RIC[iL]:LTD_RIC[iL+1],:], \n",
    "                                          k=1, smooth=0, mask=None, show=False)\n",
    "    # Store avg of each subject\n",
    "    angsR2[:, :, s] = np.mean(angsR, axis=2)\n",
    "    angsL2[:, :, s] = np.mean(angsL, axis=2)\n",
    "    \n",
    "    # Store all gait cycles\n",
    "    angsRall[:,:,:len(RTD_RIC)-1,s] = angsR\n",
    "    angsLall[:,:,:len(LTD_RIC)-1,s] = angsL\n",
    "    #print(str(sub_ids[s])+ ' and ' + fn_RIC[s])"
   ]
  },
  {
   "cell_type": "code",
   "execution_count": null,
   "id": "003908bd-e3e5-4dbb-9c96-135249621cdf",
   "metadata": {},
   "outputs": [],
   "source": [
    "# np.save(os.path.join(dir_data, 'R_angs_'+method+'all.npy'), angsRall)\n",
    "# np.save(os.path.join(dir_data, 'L_angs_'+method+'all.npy'), angsLall)\n",
    "# np.save(os.path.join(dir_data, 'R_angs_'+method+'.npy'), angsR2)\n",
    "# np.save(os.path.join(dir_data, 'L_angs_'+method+'.npy'), angsL2)"
   ]
  },
  {
   "cell_type": "code",
   "execution_count": null,
   "id": "4251dfc8-a6eb-4b90-b2df-3cf2debb4b1c",
   "metadata": {},
   "outputs": [],
   "source": [
    "###"
   ]
  },
  {
   "cell_type": "code",
   "execution_count": null,
   "id": "40fe34cf-05e4-4a1d-ad9b-2ea86bc3d719",
   "metadata": {},
   "outputs": [],
   "source": [
    "R_ang_RBDS = np.empty(shape=(101,15,R_ang_RBDSall.shape[3])) * np.NaN\n",
    "for s in range(R_ang_RBDSall.shape[3]):\n",
    "    angs_temp_R = R_ang_RBDSall[:,:,:,s]\n",
    "    R_angs= angs_temp_R[:,~np.isnan(angs_temp_R).all(axis=0)].reshape((101,15,-1))\n",
    "    R_ang_RBDS[:,:,s] = np.median(R_angs, axis=2)"
   ]
  },
  {
   "cell_type": "code",
   "execution_count": null,
   "id": "9b1c805f-225c-4484-a503-d25e8c016f58",
   "metadata": {},
   "outputs": [],
   "source": [
    "R_ang_RIC = np.empty(shape=(101,15,R_ang_RICall.shape[3])) * np.NaN\n",
    "for s in range(R_ang_RICall.shape[3]):\n",
    "    angs_temp_R = R_ang_RICall[:,:,:,s]\n",
    "    R_angs= angs_temp_R[:,~np.isnan(angs_temp_R).all(axis=0)].reshape((101,15,-1))\n",
    "    R_ang_RIC[:,:,s] = np.median(R_angs, axis=2)"
   ]
  },
  {
   "cell_type": "markdown",
   "id": "d63153e4-2933-40fd-9abd-3ed912674a36",
   "metadata": {},
   "source": [
    "R_ang_RBDSall contain 28 subjects, so consider only the 23 subjects in the df. Address this later..."
   ]
  },
  {
   "cell_type": "code",
   "execution_count": null,
   "id": "d04e4e7d-c8ab-47e5-934d-7c70e5757b94",
   "metadata": {},
   "outputs": [],
   "source": [
    "inds = info_RBDS['Subject'].apply(lambda x: x-1).tolist() # only 23 RBDS subjects"
   ]
  },
  {
   "cell_type": "code",
   "execution_count": null,
   "id": "033ddc94-7406-4bdd-b224-6156901c50de",
   "metadata": {},
   "outputs": [],
   "source": [
    "# Consider only hip, knee and ankle\n",
    "R_ang_RBDS, R_ang_RIC = R_ang_RBDS[:,6:,inds], R_ang_RIC[:,6:,:]"
   ]
  },
  {
   "cell_type": "code",
   "execution_count": null,
   "id": "7d8701a6-28bc-4d42-be16-7d5452b6d772",
   "metadata": {},
   "outputs": [],
   "source": [
    "R_ang_RBDS.shape"
   ]
  },
  {
   "cell_type": "markdown",
   "id": "e569b6d3-f62a-40a4-854c-7e69da14ae7f",
   "metadata": {},
   "source": [
    "## Implement method of Richard Baker Schwarz\n",
    "Given that there is no reason to suspect that one set of measurements is “better” than the other, the grand mean between the services (Mjt) is actually the best estimate of the true mean."
   ]
  },
  {
   "cell_type": "code",
   "execution_count": null,
   "id": "1ace3d9f-1d10-499d-b073-f2b63e4dac63",
   "metadata": {},
   "outputs": [],
   "source": [
    "# Grand mean\n",
    "R_ang_M_both = np.empty(shape=(101,9,2)) * np.NaN \n",
    "R_ang_M_both[:,:,0] = R_ang_RBDS.mean(axis=2)\n",
    "R_ang_M_both[:,:,1] = R_ang_RIC.mean(axis=2)\n",
    "grand_M = R_ang_M_both.mean(axis=2)"
   ]
  },
  {
   "cell_type": "markdown",
   "id": "54c46c36-f56b-476c-bd6f-21a628e6a83d",
   "metadata": {},
   "source": [
    "Systematic differences were then quantified by considering the difference between the mean for each service and the grand mean."
   ]
  },
  {
   "cell_type": "code",
   "execution_count": null,
   "id": "a60f22cd-fe3d-4486-9865-3da57b6aa177",
   "metadata": {},
   "outputs": [],
   "source": [
    "RBDS2grandM = R_ang_RBDS.mean(axis=2)-grand_M\n",
    "RIC2grandM  = R_ang_RIC.mean(axis=2)-grand_M"
   ]
  },
  {
   "cell_type": "code",
   "execution_count": null,
   "id": "eaa9a717-9c78-400e-a3c4-f51ad60c9ab5",
   "metadata": {},
   "outputs": [],
   "source": [
    "RMSdelta_RBDS = np.square(RBDS2grandM)"
   ]
  },
  {
   "cell_type": "code",
   "execution_count": null,
   "id": "693f1b31-11fb-4432-86d8-9b23d90b2d55",
   "metadata": {},
   "outputs": [],
   "source": [
    "np.sqrt(np.square(RBDS2grandM).mean(axis=0))"
   ]
  },
  {
   "cell_type": "code",
   "execution_count": null,
   "id": "ed95d305-e732-435b-83fe-9edb37322aff",
   "metadata": {},
   "outputs": [],
   "source": [
    "np.sqrt(np.square(RIC2grandM).mean(axis=0))"
   ]
  },
  {
   "cell_type": "code",
   "execution_count": null,
   "id": "ccc4042c-86d5-46da-b649-e5477072dbec",
   "metadata": {},
   "outputs": [],
   "source": []
  },
  {
   "cell_type": "code",
   "execution_count": null,
   "id": "022e6b59-48d2-4595-92de-405e42e82055",
   "metadata": {},
   "outputs": [],
   "source": []
  },
  {
   "cell_type": "code",
   "execution_count": null,
   "id": "7d54f21b-454f-47e5-9910-281195c8d55b",
   "metadata": {},
   "outputs": [],
   "source": [
    "fig, axs = plt.subplots(3,3, figsize=(10,6))\n",
    "for i in range(3):\n",
    "    for j in range(3):\n",
    "        axs[i,j].plot(R_ang_M_both[:,3*i+j,0],'b')\n",
    "        axs[i,j].plot(R_ang_M_both[:,3*i+j,1],'r')\n",
    "        axs[i,j].plot(grand_M[:,3*i+j],'k--')"
   ]
  },
  {
   "cell_type": "markdown",
   "id": "0e39c57e-a5a0-44de-b172-23cdae3d0ad4",
   "metadata": {},
   "source": [
    "## RMSE"
   ]
  },
  {
   "cell_type": "code",
   "execution_count": null,
   "id": "0d55a2b0-7ca3-4436-85ab-3ce7a138126f",
   "metadata": {},
   "outputs": [],
   "source": [
    "#joints = ['pelvis','foot','hip','knee','ankle']\n",
    "joints = ['hip','knee','ankle']\n",
    "axes = ['X','Y','Z']"
   ]
  },
  {
   "cell_type": "code",
   "execution_count": null,
   "id": "b7b2f52f-723e-482c-841c-bc3a9e692cf7",
   "metadata": {},
   "outputs": [],
   "source": [
    "RMSEme = np.sqrt(np.square(np.subtract(R_ang_RBDS,R_ang_RIC)).mean(axis=2)).mean(axis=0)\n",
    "RMSEsd = np.sqrt(np.square(np.subtract(R_ang_RBDS,R_ang_RIC)).mean(axis=2)).std(axis=0)"
   ]
  },
  {
   "cell_type": "code",
   "execution_count": null,
   "id": "b2943dee-7123-467a-93b8-c4b8b0f1e5d2",
   "metadata": {},
   "outputs": [],
   "source": [
    "RMSEme"
   ]
  },
  {
   "cell_type": "code",
   "execution_count": null,
   "id": "82152809-25b5-494f-aebd-e1ca2ccead4b",
   "metadata": {},
   "outputs": [],
   "source": [
    "np.sqrt(np.square(np.subtract(R_ang_RBDS,R_ang_RIC)).mean(axis=0)).mean(axis=1)"
   ]
  },
  {
   "cell_type": "code",
   "execution_count": null,
   "id": "d96c5a8f-377f-430c-a354-7011b1da700d",
   "metadata": {},
   "outputs": [],
   "source": []
  },
  {
   "cell_type": "code",
   "execution_count": null,
   "id": "6379e0c0-8b0f-4e76-9e5b-0cf941f4a7b2",
   "metadata": {},
   "outputs": [],
   "source": [
    "# Create lists for the plot\n",
    "ang_xyz_lbls = [i+'_'+j for i in joints for j in axes]\n",
    "x_pos = np.arange(len(ang_xyz_lbls))"
   ]
  },
  {
   "cell_type": "code",
   "execution_count": null,
   "id": "99b3fdea-7fa9-4c1e-9826-021ab6db3757",
   "metadata": {},
   "outputs": [],
   "source": [
    "# Build the plot\n",
    "fig, ax = plt.subplots(1,figsize=(10,6))\n",
    "ax.bar(x_pos, RMSEme, yerr=RMSEsd, align='center', alpha=0.5, ecolor='black', \n",
    "       capsize=10, color=['r','g','b','r','g','b','r','g','b'])\n",
    "ax.set_ylabel('RMSE [deg]')\n",
    "ax.set_xticks(x_pos)\n",
    "ax.set_xticklabels(ang_xyz_lbls)\n",
    "ax.set_title('Root Mean Sq Error Values')\n",
    "ax.yaxis.grid(True)\n",
    "plt.show()"
   ]
  },
  {
   "cell_type": "code",
   "execution_count": null,
   "id": "609d9bba-4421-439e-a062-21d101276e55",
   "metadata": {},
   "outputs": [],
   "source": [
    "# Save the figure and show\n",
    "fig.savefig(os.path.join(dir_data, 'RMSe.png'), bbox_inches='tight')"
   ]
  },
  {
   "cell_type": "code",
   "execution_count": null,
   "id": "1ae1be53-cd4d-4dea-8a29-0c655856809a",
   "metadata": {},
   "outputs": [],
   "source": [
    "# Right side\n",
    "R_ang_RBDSme, R_ang_RBDSsd= np.mean(R_ang_RBDS, axis=2), np.std(R_ang_RBDS, axis=2)\n",
    "R_ang_RICme, R_ang_RICsd  = np.mean(R_ang_RIC, axis=2), np.std(R_ang_RIC, axis=2)\n",
    "# Left side\n",
    "# L_ang_RBDSme, L_ang_RBDSsd= np.mean(L_ang_RBDS, axis=2), np.std(L_ang_RBDS, axis=2)\n",
    "# L_ang_RICme, L_ang_RICsd  = np.mean(L_ang_RIC, axis=2), np.std(L_ang_RIC, axis=2)"
   ]
  },
  {
   "cell_type": "markdown",
   "id": "10b351c6-720f-46ad-a55e-d34832f395df",
   "metadata": {
    "tags": []
   },
   "source": [
    "## Plot angles"
   ]
  },
  {
   "cell_type": "code",
   "execution_count": null,
   "id": "758ee9c2-bffc-4963-a399-ce8b940feeba",
   "metadata": {},
   "outputs": [],
   "source": [
    "import spm1d"
   ]
  },
  {
   "cell_type": "code",
   "execution_count": null,
   "id": "799b0b7b-6c3c-4f3e-b3ae-64122113cddd",
   "metadata": {},
   "outputs": [],
   "source": []
  },
  {
   "cell_type": "code",
   "execution_count": null,
   "id": "0cd88daa-d222-45b8-b918-d8a862a9e23f",
   "metadata": {},
   "outputs": [],
   "source": [
    "fig, axs = plt.subplots(6,3, figsize=(15,20))\n",
    "fig.suptitle('Hip, knee and ankle angles-RIGHT')\n",
    "for j, joint in enumerate(joints):\n",
    "    for xyz, eixo in enumerate(axes):\n",
    "        #axs[j,xyz].plot(tn,angsR3[:,3*j+xyz,:])\n",
    "        axs[2*j,xyz].errorbar(tn,R_ang_RBDSme[:,3*j+xyz],R_ang_RBDSsd[:,3*j+xyz],\n",
    "                           color = [0, 0, 1, 0.5], capsize=0, errorevery=2, lw=4)\n",
    "        axs[2*j,xyz].errorbar(tn,R_ang_RICme[:,3*j+xyz],R_ang_RICsd[:,3*j+xyz],\n",
    "                           color = [1, 0, 0, 0.5], capsize=0, errorevery=2, lw=4)\n",
    "        axs[2*j,xyz].set_ylabel(joint+'_'+eixo)\n",
    "        axs[2*j,xyz].set_xlim([0,101])\n",
    "        axs[2*j,xyz].grid('on')\n",
    "        \n",
    "        # SPM calculation\n",
    "        Ymen = R_ang_RBDS[:, 3*j+xyz, :]\n",
    "        Yfem = R_ang_RIC[:, 3*j+xyz, :]\n",
    "        t_j  = spm1d.stats.ttest2(Ymen.T, Yfem.T, \n",
    "                            equal_var=False)\n",
    "        ti_j = t_j.inference(alpha=0.05, two_tailed=True, interp=True)\n",
    "        ti_j.plot(ax=axs[2*j+1,xyz])\n",
    "        ti_j.plot_threshold_label(ax=axs[2*j+1,xyz])\n",
    "        ti_j.plot_p_values(ax=axs[2*j+1,xyz], size=10, offsets=[(0,0.3)])\n",
    "        \n",
    "        if j==2:\n",
    "            axs[5,xyz].set_xlabel('Stance [%]')\n",
    "fig.legend(['RBDS','RIC'], loc='lower center', ncol=2)\n",
    "plt.show()"
   ]
  },
  {
   "cell_type": "code",
   "execution_count": null,
   "id": "662d7080-9bb8-417e-b53b-6391ae2de133",
   "metadata": {},
   "outputs": [],
   "source": [
    "#fig.savefig(os.path.join(dir_data, 'SPM_compare_plot_.png'), bbox_inches='tight')"
   ]
  },
  {
   "cell_type": "markdown",
   "id": "ac19ffd0-b577-491e-ab1f-7fce3409e39c",
   "metadata": {},
   "source": [
    "Address bad kinematics by replacing odd curves by group avg curve"
   ]
  },
  {
   "cell_type": "code",
   "execution_count": null,
   "id": "90ba1aed-49f1-4f21-b5cb-72b0ac02f00b",
   "metadata": {},
   "outputs": [],
   "source": [
    "# # Replace odd pelvic curves by the mean of acceptable curves\n",
    "# pelvis_M = np.mean(R_ang_RBDS[:,:3,inds], axis=2)\n",
    "# R_ang_RBDS[:,:3,bad_id] = np.repeat(pelvis_M[:,:,np.newaxis],len(bad_id), axis=2)\n",
    "# # Replace odd hip curves by the mean of acceptable curves\n",
    "# hip_M = np.mean(R_ang_RBDS[:,6:9,inds], axis=2)\n",
    "# R_ang_RBDS[:,6:9,bad_id] = np.repeat(hip_M[:,:,np.newaxis],len(bad_id), axis=2)"
   ]
  },
  {
   "cell_type": "markdown",
   "id": "f9671899-aecd-46fa-97c1-f10a2784dd01",
   "metadata": {},
   "source": [
    "# PENDING\n",
    "* CALCULATE RMSe\n",
    "* WRITE PAPER"
   ]
  },
  {
   "cell_type": "code",
   "execution_count": null,
   "id": "d779b19d-9ad2-48f1-b445-42e6c40727ed",
   "metadata": {},
   "outputs": [],
   "source": []
  },
  {
   "cell_type": "code",
   "execution_count": null,
   "id": "1e2a4e2e-960b-4d5f-b8de-b24239f0d19e",
   "metadata": {},
   "outputs": [],
   "source": [
    "fig, axs = plt.subplots(5,3, figsize=(10,6))\n",
    "fig.suptitle('Pelvis, Foot, hip, knee and ankle angles-RIGHT')\n",
    "for j, joint in enumerate(joints):\n",
    "    for xyz, eixo in enumerate(axes):\n",
    "        #axs[j,xyz].plot(tn,angsR3[:,3*j+xyz,:])\n",
    "        axs[j,xyz].errorbar(tn,L_ang_RBDSme[:,3*j+xyz],L_ang_RBDSsd[:,3*j+xyz],\n",
    "                           color = [0, 0, 1, 0.5], capsize=0, errorevery=2, lw=4)\n",
    "        axs[j,xyz].errorbar(tn,L_ang_RICme[:,3*j+xyz],L_ang_RICsd[:,3*j+xyz],\n",
    "                           color = [1, 0, 0, 0.5], capsize=0, errorevery=2, lw=4)\n",
    "        axs[j,xyz].set_ylabel(joint+'_'+eixo)\n",
    "        axs[j,xyz].grid('on')\n",
    "fig.legend(['RBDS','RIC'], loc='lower center', ncol=2)\n",
    "plt.show()"
   ]
  },
  {
   "cell_type": "code",
   "execution_count": null,
   "id": "a32a40d6-57c5-4b13-8134-6e96c3bbbe27",
   "metadata": {},
   "outputs": [],
   "source": [
    "fig, axs = plt.subplots(1,3, figsize=(10,6))\n",
    "fig.suptitle('Pelvis-RIGHT')\n",
    "axs[0].plot(tn,angX[:,0,:])\n",
    "axs[1].plot(tn,angX[:,1,:])\n",
    "axs[2].plot(tn,angX[:,2,:])\n",
    "#axs[0].grid('on')\n",
    "#fig.legend(['RBDS','RIC'], loc='lower center', ncol=2)\n",
    "plt.show()"
   ]
  },
  {
   "cell_type": "code",
   "execution_count": null,
   "id": "3b35cd12-73dd-4269-8c16-0b971ab25cf8",
   "metadata": {},
   "outputs": [],
   "source": []
  },
  {
   "cell_type": "code",
   "execution_count": null,
   "id": "f0a7f979-55ae-4ab4-a0c6-f375dc23d7d4",
   "metadata": {},
   "outputs": [],
   "source": []
  },
  {
   "cell_type": "code",
   "execution_count": null,
   "id": "912c4a24-5594-4da0-ab3c-dbfbd778939a",
   "metadata": {},
   "outputs": [],
   "source": [
    "fig, axs = plt.subplots(5,5, figsize=(10,15))\n",
    "fig.suptitle('Pelvis-RIGHT')\n",
    "for i in range(5):\n",
    "    for j in range(5):\n",
    "        angs_temp_R = R_ang_RBDSall[:,:3,:,inds[5*i+j]]\n",
    "        R_pelvis_ang= angs_temp_R[:,~np.isnan(angs_temp_R).all(axis=0)].reshape((101,3,-1))\n",
    "\n",
    "        # Euclidean distance\n",
    "        med_curve= np.median(R_pelvis_ang[:,0,:], axis=1)\n",
    "        avgCurve = np.repeat(med_curve.reshape((1,101)),\n",
    "                             R_pelvis_ang.shape[2], axis=0) # repeat avg curve\n",
    "        dist = np.linalg.norm(R_pelvis_ang[:,0,:].T - avgCurve, axis=1) # Euclidean distance\n",
    "        iMAXdist = np.argmax(dist) # index of max distance\n",
    "        keep_ids = np.argwhere((dist>dist.mean()+dist.std()) | (dist<dist.mean()-dist.std())).flatten().tolist()\n",
    "\n",
    "        # Plot all curves and outlier\n",
    "        axs[i,j].set_title('Subject '+str(inds[5*i+j]+1))\n",
    "        axs[i,j].plot(tn,R_pelvis_ang[:,0,keep_ids])\n",
    "        #axs[i,j].plot(tn,np.median(R_pelvis_ang[:,0,:], axis=1),'*')\n",
    "        #axs[i,j].plot(tn,R_pelvis_ang[:,0,iMAXdist],'o')"
   ]
  },
  {
   "cell_type": "markdown",
   "id": "6e9cb9ff-03ae-4041-966e-a1970df2e90a",
   "metadata": {},
   "source": [
    "Subject 10, 16 and 21 should be removed as they have odd pelvic motion"
   ]
  },
  {
   "cell_type": "code",
   "execution_count": null,
   "id": "5ef02e4c-ada1-4afc-b90f-1b7b1eb866e4",
   "metadata": {},
   "outputs": [],
   "source": []
  },
  {
   "cell_type": "code",
   "execution_count": null,
   "id": "07c80eca-2261-48e6-adab-2e0c4737fba7",
   "metadata": {},
   "outputs": [],
   "source": [
    "fig, axs = plt.subplots(1,3, figsize=(10,6))\n",
    "fig.suptitle('Pelvis-RIGHT')\n",
    "axs[0].plot(tn,R_pelvis_ang[:,0,:])\n",
    "axs[0].plot(tn,R_pelvis_ang[:,0,iMAXdist],'o')\n",
    "axs[1].plot(tn,R_pelvis_ang[:,1,:])\n",
    "axs[1].plot(tn,R_pelvis_ang[:,1,iMAXdist],'o')\n",
    "axs[2].plot(tn,R_pelvis_ang[:,2,:])\n",
    "axs[2].plot(tn,R_pelvis_ang[:,2,iMAXdist],'o')\n",
    "#axs[0].grid('on')\n",
    "#fig.legend(['RBDS','RIC'], loc='lower center', ncol=2)\n",
    "plt.show()"
   ]
  },
  {
   "cell_type": "code",
   "execution_count": null,
   "id": "b26db9e1-c6de-4c8e-81a3-45d9b64ae424",
   "metadata": {},
   "outputs": [],
   "source": []
  },
  {
   "cell_type": "code",
   "execution_count": null,
   "id": "51931ecb-243d-4792-83bf-fee97497cc69",
   "metadata": {},
   "outputs": [],
   "source": []
  },
  {
   "cell_type": "code",
   "execution_count": null,
   "id": "2956ad82-3eac-4bc2-9960-8c01a1fac951",
   "metadata": {
    "tags": []
   },
   "outputs": [],
   "source": []
  },
  {
   "cell_type": "markdown",
   "id": "ded4e6f2-d12a-4d53-9455-3954be3259f6",
   "metadata": {},
   "source": [
    "#### Add columns to help filter data"
   ]
  },
  {
   "cell_type": "code",
   "execution_count": null,
   "id": "0cc8a83c-adeb-477a-8b90-77cc3958d13d",
   "metadata": {},
   "outputs": [],
   "source": [
    "# include column gait mode to label walk and run before merging\n",
    "df_w['gait_mode']='walk'\n",
    "df_r['gait_mode']='run'"
   ]
  },
  {
   "cell_type": "code",
   "execution_count": null,
   "id": "02fc4254-8d3a-44ad-ab5a-1bdee9c16a4b",
   "metadata": {},
   "outputs": [],
   "source": [
    "# Rename speed column\n",
    "df_w.rename(columns={'speed_w': 'speed'}, inplace=True)\n",
    "df_r.rename(columns={'speed_r': 'speed'}, inplace=True)"
   ]
  },
  {
   "cell_type": "code",
   "execution_count": null,
   "id": "b17bc4c5-1151-4625-b41b-3c57627cf3ea",
   "metadata": {},
   "outputs": [],
   "source": [
    "# Merge walk and run dataframes\n",
    "df = pd.concat([df_w, df_r], axis=0, ignore_index=True)\n",
    "df.reset_index(drop=True, inplace=True)"
   ]
  },
  {
   "cell_type": "code",
   "execution_count": null,
   "id": "328ca5d0-e90b-43a2-91bc-2240cccca036",
   "metadata": {},
   "outputs": [],
   "source": [
    "# Create Age group category\n",
    "df['AgeGroup']=np.NaN\n",
    "df.loc[df['age'] <= 49, \"AgeGroup\"] = \"Young\"\n",
    "df.loc[df['age'] >= 50, \"AgeGroup\"] = \"Older\""
   ]
  },
  {
   "cell_type": "markdown",
   "id": "5a40dae9",
   "metadata": {
    "tags": []
   },
   "source": [
    "## Import data\n",
    "### RBDS"
   ]
  },
  {
   "cell_type": "code",
   "execution_count": null,
   "id": "1291b6c8-e231-4f8d-a4cc-298ac196e264",
   "metadata": {},
   "outputs": [],
   "source": [
    "fnames = glob.glob(os.path.join(data_dir, 'RBDS*.c3d'))\n",
    "fnames.sort()"
   ]
  },
  {
   "cell_type": "markdown",
   "id": "b7408a0e-ec55-41ea-80ac-0be18dbb88fd",
   "metadata": {},
   "source": [
    "Fix filenames string length because they do not have the pattern ***RBDSXXXstatic.c3d***"
   ]
  },
  {
   "cell_type": "code",
   "execution_count": null,
   "id": "a05b07e8-cf34-4ed7-b300-ecaa5bf8ba33",
   "metadata": {},
   "outputs": [],
   "source": [
    "# Find files\n",
    "fnLESSstrings = [fn for fn in fnames if len(fn) < 73]\n",
    "for fnL in fnLESSstrings:\n",
    "    #os.rename(fnL, fnL[:-11]+'0'+fnL[-11:])\n",
    "    print(fnL[:-11]+'0'+fnL[-11:])"
   ]
  },
  {
   "cell_type": "code",
   "execution_count": null,
   "id": "ad9927e0-2d9d-4e4a-beb6-e718b8bdc4d1",
   "metadata": {},
   "outputs": [],
   "source": [
    "fnames_S = glob.glob(os.path.join(data_dir, 'RBDS*static.c3d'))\n",
    "fnames_S.sort()"
   ]
  },
  {
   "cell_type": "code",
   "execution_count": null,
   "id": "cfb79e29-5cd8-48e5-90ce-b1d6565f4eef",
   "metadata": {},
   "outputs": [],
   "source": [
    "fnames_R35 = glob.glob(os.path.join(data_dir, 'RBDS*runT35.c3d'))\n",
    "fnames_R35.sort()"
   ]
  },
  {
   "cell_type": "code",
   "execution_count": null,
   "id": "5907274e-f239-4c86-a4d3-cfa502ef1b48",
   "metadata": {},
   "outputs": [],
   "source": [
    "import parse_gait_kinematics as parse_gait\n",
    "from gait_kinematics import gait_kinematics\n",
    "from gait_steps import gait_steps\n",
    "from tnorma import tnorma"
   ]
  },
  {
   "cell_type": "code",
   "execution_count": null,
   "id": "978af374-36b0-4477-8fae-9a7c487178df",
   "metadata": {},
   "outputs": [],
   "source": [
    "# Create dataframe column corresponding to the dataset\n",
    "joints_lbls = ['pelvis','L_foot','R_foot','L_hip','R_hip','L_knee','R_knee',\n",
    "               'L_ankle','R_ankle']\n",
    "xyz = list('XYZ')*len(joints_lbls)\n",
    "joints_lbls = [ele for ele in joints_lbls for i in range(3)]\n",
    "joints_lbls = [joints_lbls[i]+'_'+xyz[i] for i in range(len(xyz))]"
   ]
  },
  {
   "cell_type": "markdown",
   "id": "8fd26c98-843e-4cb4-9a69-2735e78e763f",
   "metadata": {},
   "source": [
    "## Batch process the files"
   ]
  },
  {
   "cell_type": "code",
   "execution_count": null,
   "id": "dae55836-ba2d-4392-acbe-58c0067e08a6",
   "metadata": {},
   "outputs": [],
   "source": [
    "angs2 = np.empty(shape=(101,27,len(fnames_S)))\n",
    "j = 0\n",
    "for fn_static, fn_gait in zip(fnames_S,fnames_R35):\n",
    "    neutral, joints, gait, hz = parse_gait.parse_RBDS(fn_static, fn_gait)\n",
    "\n",
    "    # Invoking function to calculate angles\n",
    "    angle_L_ankle, angle_R_ankle, angle_L_knee, angle_R_knee, angle_L_hip, angle_R_hip, angle_L_foot, angle_R_foot, angle_Pelvis = gait_kinematics(joints, neutral, gait, hz)\n",
    "    # Convert to degrees\n",
    "    angle_L_ankle, angle_R_ankle = angle_L_ankle*(180/np.pi), angle_R_ankle*(180/np.pi)\n",
    "    angle_L_knee, angle_R_knee   = angle_L_knee*(180/np.pi), angle_R_knee*(180/np.pi)\n",
    "    angle_L_hip, angle_R_hip     = angle_L_hip*(180/np.pi), angle_R_hip*(180/np.pi)\n",
    "    angle_L_foot, angle_R_foot   = angle_L_foot*(180/np.pi), angle_R_foot*(180/np.pi)\n",
    "    angle_Pelvis  = angle_Pelvis * (180/np.pi)\n",
    "    # Create a pandas df with angles\n",
    "    angs = np.hstack([angle_Pelvis, angle_L_foot, angle_R_foot, \n",
    "                      angle_L_hip, angle_R_hip, angle_L_knee, angle_R_knee, \n",
    "                      angle_L_ankle, angle_R_ankle])\n",
    "    angles = pd.DataFrame(data=angs, columns=joints_lbls)\n",
    "\n",
    "    # Get gait events\n",
    "    L_TD, L_TO, R_TD, R_TO, eventsflag, label = gait_steps(neutral, gait, angles, hz)\n",
    "\n",
    "    RTD, RTO = R_TD.astype(int).tolist(), R_TO.astype(int).tolist()\n",
    "    LTD, LTO = L_TD.astype(int).tolist(), L_TO.astype(int).tolist()\n",
    "    \n",
    "    angs = np.empty(shape=(101,angles.shape[1],len(RTD)))\n",
    "    for i in range(len(RTD)):\n",
    "        angs[:,:,i], tn, indie = tnorma(angles.values[RTD[i]:RTO[i],:], k=1, smooth=0, \n",
    "                               mask=None, show=False)\n",
    "    j+=1 # counter\n",
    "    angs2[:,:,j-1] = np.nanmean(angs, axis=2)\n",
    "    print(fn_static)"
   ]
  },
  {
   "cell_type": "code",
   "execution_count": null,
   "id": "80780f6b-5366-4a8b-a6a5-c152542a9da9",
   "metadata": {},
   "outputs": [],
   "source": [
    "angs2.shape"
   ]
  },
  {
   "cell_type": "code",
   "execution_count": null,
   "id": "56e7aa3f-415c-48fb-af20-af51e814f4ae",
   "metadata": {},
   "outputs": [],
   "source": [
    "ang_labels = angles.columns.tolist()"
   ]
  },
  {
   "cell_type": "code",
   "execution_count": null,
   "id": "2eb9e14f-7b01-42dc-ac28-9ec99e28bb00",
   "metadata": {},
   "outputs": [],
   "source": [
    "varss = ['R_hip_X', 'R_hip_Y', 'R_hip_Z','R_knee_X', 'R_knee_Y', 'R_knee_Z',\n",
    "         'R_ankle_X', 'R_ankle_Y', 'R_ankle_Z']"
   ]
  },
  {
   "cell_type": "code",
   "execution_count": null,
   "id": "ba61bc27-54ec-49f0-b96d-6ebec0772be1",
   "metadata": {},
   "outputs": [],
   "source": [
    "inds = [ang_labels.index(v) for v in varss]"
   ]
  },
  {
   "cell_type": "code",
   "execution_count": null,
   "id": "94b7c6c8-5bd2-4890-80d2-0414a93072e8",
   "metadata": {},
   "outputs": [],
   "source": [
    "angs3 = angs[:,inds,:]"
   ]
  },
  {
   "cell_type": "code",
   "execution_count": null,
   "id": "b561fdb8-fe7a-4794-b3f9-5a22e8d5b496",
   "metadata": {},
   "outputs": [],
   "source": [
    "angs3.shape"
   ]
  },
  {
   "cell_type": "markdown",
   "id": "05a89ddf-799f-48d9-acb9-c16363cb96cf",
   "metadata": {},
   "source": [
    "### RIC"
   ]
  },
  {
   "cell_type": "code",
   "execution_count": null,
   "id": "29a2f0ae-1333-4da0-b1b1-9c2368d25744",
   "metadata": {},
   "outputs": [],
   "source": [
    "# figshare_dir = r'C:\\Users\\Reginaldo\\OneDrive - University of Calgary\\data\\Figshare_SciData\\new_unzip'\n",
    "# fn_json=os.path.join(figshare_dir, '201225', '20140515T133244.json')\n",
    "\n",
    "# neutral_RIC, joints_RIC, gait_RIC, hz_RIC = parse_gait_kinematics.parse_RIC(fn_json)"
   ]
  },
  {
   "cell_type": "code",
   "execution_count": null,
   "id": "97fc08a4-ddd8-4288-ac0f-290da597ef48",
   "metadata": {},
   "outputs": [],
   "source": []
  },
  {
   "cell_type": "code",
   "execution_count": null,
   "id": "3b7600e8-bc06-45b0-9436-e9e9dfe80c67",
   "metadata": {},
   "outputs": [],
   "source": []
  },
  {
   "cell_type": "code",
   "execution_count": null,
   "id": "a579fc77-2408-4475-84db-50ff90805d52",
   "metadata": {},
   "outputs": [],
   "source": []
  },
  {
   "cell_type": "code",
   "execution_count": null,
   "id": "8c210e76-dad2-4c6b-9618-f8accfce021e",
   "metadata": {},
   "outputs": [],
   "source": [
    "fig, axs = plt.subplots(3,3, figsize=(10,6))\n",
    "fig.suptitle('Hip, knee and ankle angles')\n",
    "for j, joint in enumerate(joints):\n",
    "    ang = angles.filter(like='R_'+joint).values\n",
    "    for xyz, eixo in enumerate(axes):\n",
    "        for i in range(len(rtd)-1):\n",
    "            axs[j,xyz].plot(ang[rtd[i]:rtd[i+1], xyz])\n",
    "            axs[j,xyz].set_ylabel(joint+'_'+eixo)\n",
    "            axs[j,xyz].grid('on')\n",
    "plt.show()"
   ]
  },
  {
   "cell_type": "code",
   "execution_count": null,
   "id": "cb517685-8152-4cbe-af7d-46c4e97732bc",
   "metadata": {},
   "outputs": [],
   "source": [
    "fig, axs = plt.subplots(3, figsize=(10,6))\n",
    "fig.suptitle('Comparison of LEFT ankle angles between methods')\n",
    "axs[0].plot(angle_L_ankle[:,0], 'b', label='Python')\n",
    "axs[0].plot(tn[0::3],anga_matlab[0::3,0], 'b*', label='Matlab')\n",
    "axs[0].grid('on')\n",
    "axs[1].plot(angle_L_ankle[:,1], 'r', label='Python')\n",
    "axs[1].plot(tn[0::3],anga_matlab[0::3,1], 'r*', label='Matlab')\n",
    "axs[1].grid('on')\n",
    "axs[2].plot(angle_L_ankle[:,2], 'g', label='Python')\n",
    "axs[2].plot(tn[0::3],anga_matlab[0::3,2], 'g*', label='Matlab')\n",
    "axs[2].grid('on')\n",
    "plt.show()"
   ]
  },
  {
   "cell_type": "code",
   "execution_count": null,
   "id": "42e143be-c5af-4922-ae66-298d5d98cfdd",
   "metadata": {},
   "outputs": [],
   "source": []
  },
  {
   "cell_type": "code",
   "execution_count": null,
   "id": "01e022b0-b62f-4a43-967c-3b4eba5fbd33",
   "metadata": {},
   "outputs": [],
   "source": [
    "fig, axs = plt.subplots(3, figsize=(10,6))\n",
    "fig.suptitle('Comparison of LEFT ankle angles between methods')\n",
    "axs[0].plot(angle_L_ankle[:,0], 'b', label='Python')\n",
    "axs[0].plot(tn[0::3],anga_matlab[0::3,0], 'b*', label='Matlab')\n",
    "axs[0].grid('on')\n",
    "axs[1].plot(angle_L_ankle[:,1], 'r', label='Python')\n",
    "axs[1].plot(tn[0::3],anga_matlab[0::3,1], 'r*', label='Matlab')\n",
    "axs[1].grid('on')\n",
    "axs[2].plot(angle_L_ankle[:,2], 'g', label='Python')\n",
    "axs[2].plot(tn[0::3],anga_matlab[0::3,2], 'g*', label='Matlab')\n",
    "axs[2].grid('on')\n",
    "plt.show()"
   ]
  },
  {
   "cell_type": "code",
   "execution_count": null,
   "id": "e69e2d32-6794-4ef1-9367-002b4494a6f5",
   "metadata": {},
   "outputs": [],
   "source": []
  },
  {
   "cell_type": "markdown",
   "id": "7624cb6c-c6de-4e40-a03a-c7bf4644b442",
   "metadata": {},
   "source": [
    "# Visualize Markers\n",
    "## RIC"
   ]
  },
  {
   "cell_type": "code",
   "execution_count": null,
   "id": "9a6d4ff3-1987-4a17-83ef-2dd42aff1df0",
   "metadata": {},
   "outputs": [],
   "source": [
    "from mpl_toolkits.mplot3d import Axes3D"
   ]
  },
  {
   "cell_type": "code",
   "execution_count": null,
   "id": "c77fcd7c-a90b-427f-9625-842cb532ba8e",
   "metadata": {},
   "outputs": [],
   "source": [
    "# Average marker position\n",
    "mkr_S = neutral_RIC.values.flatten()\n",
    "# Marker labels list\n",
    "mkr_S_lbl = [neutral_RIC.columns.tolist()[i][:-2] for i in range(mkr_S.shape[0])]\n",
    "mkr_S_lbl_ = f7(mkr_S_lbl)"
   ]
  },
  {
   "cell_type": "code",
   "execution_count": null,
   "id": "584a8976-2489-436d-98ed-6b4db192143e",
   "metadata": {},
   "outputs": [],
   "source": [
    "from mpl_toolkits.mplot3d import Axes3D\n",
    "fig = plt.figure(figsize=(8, 10))\n",
    "ax = fig.add_subplot(111, projection='3d',  facecolor='white')\n",
    "ax.view_init(90, -90, vertical_axis='z')\n",
    "\n",
    "\n",
    "ax.scatter(mkr_S[0:-3:3], mkr_S[1:-2:3], mkr_S[2:-1:3], c='r', s=30, depthshade=False)\n",
    "for m, mkr_lbl in enumerate(mkr_S_lbl_):\n",
    "    ax.text(mkr_S[3*m], mkr_S[3*m+1], mkr_S[3*m+2], mkr_lbl)\n",
    "\n",
    "ax.set_xlim3d([np.nanmin(mkr_S[0::3])-.4, np.nanmax(mkr_S[0::3])+.4])\n",
    "ax.set_ylim3d([np.nanmin(mkr_S[1::3])-.4, np.nanmax(mkr_S[1::3])+.4])\n",
    "ax.set_zlim3d([np.nanmin(mkr_S[2::3]), np.nanmax(mkr_S[2::3])])\n",
    "ax.set_xlabel('\\n' + 'X [m]', linespacing=2)\n",
    "ax.set_ylabel('\\n' + 'Y [m]', linespacing=2)\n",
    "ax.set_zlabel('\\n' + 'Z [m]', linespacing=2)\n",
    "#ax.invert_yaxis()\n",
    "# square plot\n",
    "ax.set_aspect('equal', adjustable='box')\n",
    "plt.show()"
   ]
  },
  {
   "cell_type": "markdown",
   "id": "6430c7db-bec5-4b55-80a6-c178c35e2f6d",
   "metadata": {},
   "source": [
    "## RBDS"
   ]
  },
  {
   "cell_type": "code",
   "execution_count": null,
   "id": "7884d69a-178f-4c69-a1f2-5d7a60cf991f",
   "metadata": {},
   "outputs": [],
   "source": [
    "# Average marker position\n",
    "mkr_S = neutral.values.flatten()\n",
    "# Marker labels list\n",
    "mkr_S_lbl = [neutral.columns.tolist()[i][:-2] for i in range(mkr_S.shape[0])]\n",
    "mkr_S_lbl_ = f7(mkr_S_lbl)"
   ]
  },
  {
   "cell_type": "code",
   "execution_count": null,
   "id": "94b5da63-6860-4e85-9179-73430be4fe08",
   "metadata": {},
   "outputs": [],
   "source": [
    "from mpl_toolkits.mplot3d import Axes3D\n",
    "fig = plt.figure(figsize=(8, 10))\n",
    "ax = fig.add_subplot(111, projection='3d',  facecolor='white')\n",
    "ax.view_init(90, -90, vertical_axis='z')\n",
    "\n",
    "\n",
    "ax.scatter(mkr_S[0:-3:3], mkr_S[1:-2:3], mkr_S[2:-1:3], c='r', s=30, depthshade=False)\n",
    "for m, mkr_lbl in enumerate(mkr_S_lbl_):\n",
    "    ax.text(mkr_S[3*m], mkr_S[3*m+1], mkr_S[3*m+2], mkr_lbl)\n",
    "\n",
    "ax.set_xlim3d([np.nanmin(mkr_S[0::3])-.4, np.nanmax(mkr_S[0::3])+.4])\n",
    "ax.set_ylim3d([np.nanmin(mkr_S[1::3])-.4, np.nanmax(mkr_S[1::3])+.4])\n",
    "ax.set_zlim3d([np.nanmin(mkr_S[2::3]), np.nanmax(mkr_S[2::3])])\n",
    "ax.set_xlabel('\\n' + 'X [m]', linespacing=2)\n",
    "ax.set_ylabel('\\n' + 'Y [m]', linespacing=2)\n",
    "ax.set_zlabel('\\n' + 'Z [m]', linespacing=2)\n",
    "#ax.invert_yaxis()\n",
    "# square plot\n",
    "ax.set_aspect('equal', adjustable='box')\n",
    "plt.show()"
   ]
  },
  {
   "cell_type": "markdown",
   "id": "cf5be367-1013-4e27-ad6a-2c4f3ccee4f4",
   "metadata": {},
   "source": [
    "# Script used to write gait_steps.py\n",
    "Leave in the bottom of the NB in case I need to troubleshoot later."
   ]
  },
  {
   "cell_type": "code",
   "execution_count": null,
   "id": "778c3460-35c6-45ca-8133-d93b373af00b",
   "metadata": {},
   "outputs": [],
   "source": [
    "## Prepare environment\n",
    "# import os, sys\n",
    "# import numpy as np\n",
    "# import pandas as pd\n",
    "# #from scipy import signal\n",
    "# import scipy.io as spio\n",
    "# import matlab\n",
    "# import matlab.engine\n",
    "\n",
    "# from detecta import detect_peaks\n",
    "# from pca_td import pca_td\n",
    "# from pca_to import pca_to\n",
    "\n",
    "# from scipy.signal import butter, lfilter, filtfilt\n",
    "# from sklearn.discriminant_analysis import LinearDiscriminantAnalysis\n",
    "\n",
    "# INPUT PARAMS\n",
    "# hz = data_RIC['hz_r']\n",
    "# neutral\n",
    "# angles\n",
    "# label\n",
    "# pathname = r'../data'# Import data\n",
    "\n",
    "#%% Determine functional measures and gait type (walk vs run)\n",
    "# % movement speed comes from the A/P position time history of a heel marker\n",
    "# % so we first need to identify a heel marker\n",
    "# LEFT SIDE\n",
    "# Determine functional measures and gait type (walk vs run) movement speed comes \n",
    "# from the A/P position time history of a heel marker so we first need to identify \n",
    "# a heel marker.\n",
    "\n",
    "# % Combine 3 of the foot markers into one matrix (ignore the created fourth)\n",
    "L_foot = neutral[['L_foot_1_X', 'L_foot_1_Y', 'L_foot_1_Z',\n",
    "              'L_foot_2_X', 'L_foot_2_Y', 'L_foot_2_Z',\n",
    "              'L_foot_3_X', 'L_foot_3_Y', 'L_foot_3_Z']].values.reshape((3,3))\n",
    "# sort the markers from left to right\n",
    "i_lf   = list(L_foot[:, 0].argsort())\n",
    "L_foot = L_foot[L_foot[:, 0].argsort()]\n",
    "\n",
    "# find the lower of the two medial markers\n",
    "if L_foot[1,1] < L_foot[2,1]:\n",
    "    L_marker = 'L_foot_' + str(i_lf[1]+1)\n",
    "    L_heel =  gait.filter(like=L_marker).values\n",
    "else:\n",
    "    L_marker = 'L_foot_' + str(i_lf[2]+1)\n",
    "    L_heel =  gait.filter(like=L_marker).values\n",
    "    \n",
    "# Find peaks location. Signal flipped because of X-axis convention difference.\n",
    "locs0 = detect_peaks(np.diff(L_heel[:,2]), mpd=np.round(0.5*hz), \n",
    "                    mph=0, show=False)\n",
    "pks = np.diff(L_heel[:,2])[locs0]\n",
    "\n",
    "locs = detect_peaks(-np.diff(L_heel[:,2]), mpd=np.round(0.5*hz), \n",
    "                    mph=0, show=False)\n",
    "\n",
    "# Gait velocity and cadence\n",
    "vel    = hz*np.median(pks)/1000; # gait speed\n",
    "stRate = 60/(np.median(np.diff(locs))/hz); # cadence\n",
    "#print('Gait velocity is '+str(vel)+' m/s')\n",
    "#print('Stride rate is '+str(stRate)+' strides/min')\n",
    "\n",
    "#%% RIGHT SIDE\n",
    "# % Combine 3 of the foot markers into one matrix (ignore the created fourth)\n",
    "R_foot = neutral[['R_foot_1_X', 'R_foot_1_Y', 'R_foot_1_Z',\n",
    "              'R_foot_2_X', 'R_foot_2_Y', 'R_foot_2_Z',\n",
    "              'R_foot_3_X', 'R_foot_3_Y', 'R_foot_3_Z']].values.reshape((3,3))\n",
    "# sort the markers from left to right\n",
    "i_rf   = list(R_foot[:, 0].argsort())\n",
    "R_foot = R_foot[R_foot[:, 0].argsort()]\n",
    "\n",
    "# find the lower of the two medial markers\n",
    "if R_foot[0,1] < R_foot[1,1]:\n",
    "    R_marker = 'R_foot_' + str(i_rf[0]+1)\n",
    "    R_heel =  gait.filter(like=R_marker).values\n",
    "else:\n",
    "    R_marker = 'R_foot_' + str(i_rf[1]+1)\n",
    "    R_heel =  gait.filter(like=R_marker).values\n",
    "    \n",
    "# Linear discriminant analysis\n",
    "# Import training dataset\n",
    "gaitClass = pd.read_csv(os.path.join(r'../data', 'LDA_out.txt'), delimiter='\\t', \n",
    "                        header=None, names=['Category','Speed','Cadence'], usecols=[0,1,2])\n",
    "# Replace numerical by categorical\n",
    "gaitClass['Category'] = gaitClass['Category'].replace(1, 'walk')\n",
    "gaitClass['Category'] = gaitClass['Category'].replace(2, 'run')\n",
    "\n",
    "# Input to the model\n",
    "X = gaitClass[['Speed','Cadence']].values # training data\n",
    "y = gaitClass['Category'].values.tolist() # testing data\n",
    "model = LinearDiscriminantAnalysis()# define model\n",
    "model.fit(X, y) # Model fit\n",
    "\n",
    "# make a prediction\n",
    "label = model.predict(np.array([vel,stRate]).reshape((1,2)))[0]\n",
    "#print('Gait category is '+label)\n",
    "\n",
    "# Load PCA output from mat file\n",
    "# % event_data is a .mat file containing 'coeff' which is the coefficients\n",
    "# % from the pre-trained PCA and 'p' which is the list of coefficients of the\n",
    "# % linear polynomial relating PCA scores with touchdown timing relative to\n",
    "# % the foot acceleration peak.\n",
    "event_data_TD = spio.loadmat(os.path.join(r'../data', 'event_data_TD.mat'))\n",
    "event_data_TO = spio.loadmat(os.path.join(r'../data', 'event_data_TO.mat'))\n",
    "\n",
    "#%% Identify Touch Down and Take Off events: Gait Independent\n",
    "# % Use PCA touchdown detection based on updated Osis et al. (2014) for\n",
    "# % both walking and running.\n",
    "# % Use new PCA toeoff detection for both walking and running.\n",
    "# % evt variables are NOT rounded\n",
    "try:\n",
    "    evtLtd, evtRtd = pca_td(angles, hz, event_data_TD, label)\n",
    "    evtLto, evtRto = pca_to(angles, hz, event_data_TO, label)\n",
    "    \n",
    "except Exception as e: \n",
    "    #For a small number of people, these functions return errors, or in the\n",
    "    #case of bad data... default to use FF and FB in these cases\n",
    "    \n",
    "    evtRtd = []\n",
    "    evtRto = []\n",
    "    \n",
    "    print('Automated event detection failed, defaulting to foot-forward foot-back')\n",
    "    print(e)\n",
    "    \n",
    "## LEFT FOOT EVENTS\n",
    "# % when the feet are not tracked very well, discontinuities in the heel\n",
    "# % marker can occur causing the findpeaks to pick up additional 'peaks'\n",
    "# % for the purposes of simply identifying foot forward and foot back\n",
    "# % timing, we can over filter this signal. We do not care about the\n",
    "# % magnitude of the signal but only the timing so we can overfit as long\n",
    "# % as the filter has a zero phase shift.\n",
    "# % Note: signal is now filtered by default.  There is no advantage to not\n",
    "# % filtering, as if the signal quality is already good, then the system uses\n",
    "# % PCA event detection anyhow, and if the signal is bad, then it has to be\n",
    "# % filtered in order to get foot-forward foot-backward events.\n",
    "\n",
    "# Correct the cutoff frequency for the number of passes in the filter\n",
    "b, a = butter(2, 5/(hz/2), btype = 'low')\n",
    "# note that Python and Matlab filtfilt behaves slightly different with padding the data\n",
    "# see https://mail.python.org/pipermail/scipy-user/2014-April/035646.html\n",
    "filtered_L_heel = filtfilt(b, a, L_heel[:,2], padtype='odd')\n",
    "\n",
    "# Begin by creating a gross estimation of foot forwards and foot backs\n",
    "L_FFi = detect_peaks(-filtered_L_heel, mpd=np.round(0.35*hz),\n",
    "                     show=False)\n",
    "\n",
    "if label == 'walk':\n",
    "    # % Use peak foot flexion angle for foot back\n",
    "    # % To deal with peaks resulting from signal flipping, threshold them\n",
    "    angSig = angles['L_foot_Z'].values\n",
    "    angSig[np.abs(angSig) > 90] = np.NaN\n",
    "    L_FBi = detect_peaks(-angSig, mpd=np.round(0.7*hz),\n",
    "                     mph=20, show=False)\n",
    "else:\n",
    "    # Use rearmost position of heel marker for foot back\n",
    "    L_FBi = detect_peaks(filtered_L_heel, mpd=np.round(0.35*hz),\n",
    "                     show=False)\n",
    "    \n",
    "# %Uncomment block below to enable more aggressive quality control of data\n",
    "\n",
    "# if (np.nanpercentile(np.abs(angles['foot_Z'].values), 90) > 120) & vel < 4\n",
    "#     print('Right ankle values outside of expected ranges, please ensure your shoe markers are properly placed and redo your collection')\n",
    "#     sys.exit()\n",
    "\n",
    "# Remove any leading FB\n",
    "L_FBi = L_FBi[L_FBi>L_FFi[0]]\n",
    "\n",
    "## find largest chunk of continuous data\n",
    "\n",
    "#We want to check before and after that there is sufficient data for analysis\n",
    "\n",
    "if (L_FFi.shape[0] < 2) or (L_FBi.shape[0] < 2):\n",
    "    print('Automated event detection unable to pull adequate number of strides for analysis. Please redo your data collection.')\n",
    "    sys.exit()\n",
    "    \n",
    "# Call Matlab function LARGEST_BLOCK.m from Python\n",
    "eng = matlab.engine.start_matlab() # start Matlab engine\n",
    "eng.cd(r'../functions', nargout=0) # set path for functions dir\n",
    "\n",
    "\n",
    "L_FFi, L_FBi, L_block_start, block_end = eng.largest_block(matlab.double(list(L_FFi)), \n",
    "                                                             matlab.double(list(L_FBi)), nargout=4)\n",
    "\n",
    "L_FFi = np.array(L_FFi).flatten().astype(int)\n",
    "L_FBi = np.array(L_FBi).flatten().astype(int)\n",
    "\n",
    "if (L_FFi.shape[0] < 2) or (L_FBi.shape[0] < 2):\n",
    "    print('Automated event detection unable to pull adequate number of strides for analysis. Please redo your data collection.')\n",
    "    sys.exit()\n",
    "    \n",
    "# TOUCHDOWN\n",
    "# evtLtd from above\n",
    "\n",
    "# SELECT SEQUENTIAL STEPS\n",
    "# create an ordered set of sequential steps using FFi as guide\n",
    "closest = np.abs(np.repeat(L_FFi[:,np.newaxis], evtLtd.shape[0], axis=1)-np.repeat(evtLtd[:,np.newaxis].T, L_FFi.shape[0], axis=0))\n",
    "\n",
    "mindist, minx = np.nanmin(closest, axis=0), np.nanargmin(closest, axis=0)\n",
    "\n",
    "for i in np.unique(minx).astype(int):\n",
    "    if np.sum(np.isin(i,minx)) > 1:\n",
    "        mindist = mindist[minx!=i]\n",
    "        evtLtd  = evtLtd[minx!=i]\n",
    "        minx    = minx[minx!=i]\n",
    "        \n",
    "# Parameter based on the typical frame adjustments observed in 300\n",
    "# datasets\n",
    "if label=='run':\n",
    "    maxadj = 0.05*hz\n",
    "else:\n",
    "    maxadj = 0.10*hz\n",
    "    \n",
    "# Preallocate\n",
    "L_TD = np.empty(L_FFi.shape[0]) * np.NaN\n",
    "evFltd = np.zeros(L_FFi.shape[0])\n",
    "\n",
    "# Here we replace FF indices with indices from evt where criteria are\n",
    "# met... the default is to use FF\n",
    "for i in range(L_FFi.shape[0]):\n",
    "    try:\n",
    "        if i > np.max(minx):\n",
    "            break\n",
    "        elif np.isin(i,minx) and mindist[minx==i] < maxadj:\n",
    "            #Replace with evtLtd since its more accurate\n",
    "            L_TD[i] = evtLtd[minx==i]\n",
    "            evFltd[i] = 1\n",
    "        else:\n",
    "            #Use FFi since it is more robust\n",
    "            L_TD[i] = L_FFi[i]\n",
    "            \n",
    "    except Exception as e:\n",
    "        print(e)\n",
    "        L_TD[i] = L_FFi[i]\n",
    "        \n",
    "# %% TAKEOFF\n",
    "\n",
    "# % evtLto from above\n",
    "\n",
    "# % SELECT SEQUENTIAL STEPS\n",
    "\n",
    "# % Now create an ordered set of sequential steps using FBi as guide\n",
    "closest = np.abs(np.repeat(L_FBi[:,np.newaxis], evtLto.shape[0], axis=1)-np.repeat(evtLto[:,np.newaxis].T, L_FBi.shape[0], axis=0))\n",
    "\n",
    "mindist, minx = np.nanmin(closest, axis=0), np.nanargmin(closest, axis=0)\n",
    "for i in np.unique(minx).astype(int):\n",
    "    if np.sum(np.isin(i,minx)) > 1:\n",
    "        mindist = mindist[minx!=i]\n",
    "        evtLtd  = evtLtd[minx!=i]\n",
    "        minx    = minx[minx!=i]\n",
    "        \n",
    "# Parameter based on the frame adjustment observed from 300 datasets\n",
    "maxadj = 0.15*hz\n",
    "\n",
    "# Preallocate\n",
    "L_TO = np.empty(L_FBi.shape[0]) * np.NaN\n",
    "evFlto = np.zeros(L_FBi.shape[0])\n",
    "\n",
    "# Here we replace FB indices with TO from PCA default is to use FB\n",
    "for i in range(L_FBi.shape[0]):\n",
    "    try:\n",
    "        if i > np.max(minx):\n",
    "            break\n",
    "        elif np.isin(i,minx) and mindist[minx==i] < maxadj:\n",
    "            #Replace with evtLto since its more accurate\n",
    "            L_TO[i] = evtLto[minx==i]\n",
    "            evFlto[i] = 1\n",
    "        else:\n",
    "            #Use FFi since it is more robust\n",
    "            L_TO[i] = L_FBi[i]\n",
    "            \n",
    "    except Exception as e:\n",
    "        print(e)\n",
    "        L_TO[i] = L_FBi[i]\n",
    "\n",
    "# Finally we round to get final indices\n",
    "L_TD = L_TD.round()\n",
    "L_TO = L_TO.round()\n",
    "\n",
    "\n",
    "# %% RIGHT FOOT EVENTS\n",
    "# % the same steps we just took for the left side\n",
    "\n",
    "# % Begin by creating a gross estimation of foot forwards and foot backs\n",
    "# Correct the cutoff frequency for the number of passes in the filter\n",
    "b, a = butter(2, 5/(hz/2), btype = 'low')\n",
    "# note that Python and Matlab filtfilt behaves slightly different with padding the data\n",
    "# see https://mail.python.org/pipermail/scipy-user/2014-April/035646.html\n",
    "filtered_R_heel = filtfilt(b, a, R_heel[:,2], padtype='odd')\n",
    "\n",
    "# Begin by creating a gross estimation of foot forwards and foot backs\n",
    "R_FFi = detect_peaks(-filtered_R_heel, mpd=np.round(0.35*hz),\n",
    "                     show=False)\n",
    "\n",
    "if label == 'walk':\n",
    "    # % Use peak foot flexion angle for foot back\n",
    "    # % To deal with peaks resulting from signal flipping, threshold them\n",
    "    angSig = angles['R_foot_Z'].values\n",
    "    angSig[np.abs(angSig) > 90] = np.NaN\n",
    "    R_FBi = detect_peaks(-angSig, mpd=np.round(0.7*hz),\n",
    "                     mph=20, show=False)\n",
    "else:\n",
    "    # Use rearmost position of heel marker for foot back\n",
    "    R_FBi = detect_peaks(filtered_R_heel, mpd=np.round(0.35*hz),\n",
    "                     show=False)\n",
    "    \n",
    "# %Uncomment block below to enable more aggressive quality control of data\n",
    "\n",
    "# if (np.nanpercentile(np.abs(angles['R_foot_Z'].values), 90) > 120) & vel < 4\n",
    "#     print('Right ankle values outside of expected ranges, please ensure your shoe markers are properly placed and redo your collection')\n",
    "#     sys.exit()\n",
    "\n",
    "# Remove any leading FB\n",
    "R_FFi = R_FFi[R_FFi>L_FFi[0]]\n",
    "R_FBi = R_FBi[R_FBi>R_FFi[0]]\n",
    "\n",
    "## find largest chunk of continuous data\n",
    "\n",
    "#We want to check before and after that there is sufficient data for analysis\n",
    "\n",
    "if (R_FFi.shape[0] < 2) or (R_FBi.shape[0] < 2):\n",
    "    print('Automated event detection unable to pull adequate number of strides for analysis. Please redo your data collection.')\n",
    "    sys.exit()\n",
    "    \n",
    "    \n",
    "# LARGEST_BLOCK\n",
    "R_FFi, R_FBi, R_block_start, R_block_end = eng.largest_block(matlab.double(list(R_FFi)), \n",
    "                                                             matlab.double(list(R_FBi)), nargout=4)\n",
    "\n",
    "R_FFi = np.array(R_FFi).flatten().astype(int)\n",
    "R_FBi = np.array(R_FBi).flatten().astype(int)\n",
    "\n",
    "if (R_FFi.shape[0] < 2) or (R_FBi.shape[0] < 2):\n",
    "    print('Automated event detection unable to pull adequate number of strides for analysis. Please redo your data collection.')\n",
    "    sys.exit()\n",
    "    \n",
    "# %In rare instances a the index will be in incorrect order run below again\n",
    "# %in case\n",
    "\n",
    "# % Remove any leading FF and FB\n",
    "R_FFi = R_FFi[R_FFi>L_FFi[0]]\n",
    "R_FBi = R_FBi[R_FBi>R_FFi[0]]\n",
    "\n",
    "# TOUCHDOWN\n",
    "# evtRtd from above\n",
    "\n",
    "# SELECT SEQUENTIAL STEPS\n",
    "# create an ordered set of sequential steps using FFi as guide\n",
    "closest = np.abs(np.repeat(R_FFi[:,np.newaxis], evtRtd.shape[0], axis=1)-np.repeat(evtRtd[:,np.newaxis].T, R_FFi.shape[0], axis=0))\n",
    "\n",
    "mindist, minx = np.nanmin(closest, axis=0), np.nanargmin(closest, axis=0)\n",
    "\n",
    "for i in np.unique(minx).astype(int):\n",
    "    if np.sum(np.isin(i,minx)) > 1:\n",
    "        mindist = mindist[minx!=i]\n",
    "        evtLtd  = evtLtd[minx!=i]\n",
    "        minx    = minx[minx!=i]\n",
    "        \n",
    "# Parameter based on the typical frame adjustments observed in 300\n",
    "# datasets\n",
    "if label=='run':\n",
    "    maxadj = 0.05*hz\n",
    "else:\n",
    "    maxadj = 0.10*hz\n",
    "    \n",
    "# Preallocate\n",
    "R_TD = np.empty(R_FFi.shape[0]) * np.NaN\n",
    "evFrtd = np.zeros(R_FFi.shape[0])\n",
    "\n",
    "# Here we replace FF indices with indices from evt where criteria are\n",
    "# met... the default is to use FF\n",
    "for i in range(R_FFi.shape[0]):\n",
    "    try:\n",
    "        if i > np.max(minx):\n",
    "            break\n",
    "        elif np.isin(i,minx) and mindist[minx==i] < maxadj:\n",
    "            #Replace with evtRtd since its more accurate\n",
    "            R_TD[i] = evtRtd[minx==i]\n",
    "            evFrtd[i] = 1\n",
    "        else:\n",
    "            #Use FFi since it is more robust\n",
    "            R_TD[i] = R_FFi[i]\n",
    "            \n",
    "    except Exception as e:\n",
    "        print(e)\n",
    "        R_TD[i] = R_FFi[i]\n",
    "        \n",
    "        \n",
    "# %% TAKEOFF\n",
    "\n",
    "# % evtRto from above\n",
    "\n",
    "# % SELECT SEQUENTIAL STEPS\n",
    "\n",
    "# % Now create an ordered set of sequential steps using FBi as guide\n",
    "closest = np.abs(np.repeat(R_FBi[:,np.newaxis], evtRto.shape[0], axis=1)-np.repeat(evtRto[:,np.newaxis].T, R_FBi.shape[0], axis=0))\n",
    "\n",
    "mindist, minx = np.nanmin(closest, axis=0), np.nanargmin(closest, axis=0)\n",
    "for i in np.unique(minx).astype(int):\n",
    "    if np.sum(np.isin(i,minx)) > 1:\n",
    "        mindist = mindist[minx!=i]\n",
    "        evtLtd  = evtLtd[minx!=i]\n",
    "        minx    = minx[minx!=i]\n",
    "        \n",
    "# Parameter based on the frame adjustment observed from 300 datasets\n",
    "maxadj = 0.15*hz\n",
    "\n",
    "# Preallocate\n",
    "R_TO = np.empty(R_FBi.shape[0]) * np.NaN\n",
    "evFrto = np.zeros(R_FBi.shape[0])\n",
    "\n",
    "# Here we replace FB indices with TO from PCA default is to use FB\n",
    "for i in range(R_FBi.shape[0]):\n",
    "    try:\n",
    "        if i > np.max(minx):\n",
    "            break\n",
    "        elif np.isin(i,minx) and mindist[minx==i] < maxadj:\n",
    "            #Replace with evtLto since its more accurate\n",
    "            R_TO[i] = evtRto[minx==i]\n",
    "            evFrto[i] = 1\n",
    "        else:\n",
    "            #Use FFi since it is more robust\n",
    "            R_TO[i] = R_FBi[i]\n",
    "            \n",
    "    except Exception as e:\n",
    "        print(e)\n",
    "        R_TO[i] = R_FBi[i]\n",
    "\n",
    "# Finally we round to get final indices\n",
    "R_TD = R_TD.round()\n",
    "R_TO = R_TO.round()\n",
    "\n",
    "# %% if largest chunk of continuous data not at beginning, chop both right and left so they match\n",
    "\n",
    "\n",
    "# %index must begin with left touchdown and end with right toe\n",
    "# %off\n",
    "\n",
    "\n",
    "if R_block_start < L_block_start:\n",
    "    #remove all right indices that occur before the first left touchdown\n",
    "    \n",
    "    R_TO = R_TO[(R_TD < L_block_start)!=1]\n",
    "    R_TD = R_TD[(R_TD < L_block_start)!=1]\n",
    "    \n",
    "flag = 0\n",
    "\n",
    "if L_block_start < R_block_start:\n",
    "    #remove left touchdowns more than one touchdown before the first right touchdown\n",
    "    cut_inds = (L_TD<R_block_start)==1\n",
    "    cut_inds.astype(int)\n",
    "    #this loop ensures the first index will be a left touchdown\n",
    "    for i in range(cut_inds.shape[0]):\n",
    "        if (cut_inds[i]==1) and (cut_inds[i+1]==0) and flag==0:\n",
    "            cut_inds[i] = 0\n",
    "            flag = 1\n",
    "            \n",
    "    L_TD = np.delete(L_TD, cut_inds)\n",
    "    L_TO = np.delete(L_TO, cut_inds)\n",
    "    \n",
    "    \n",
    "# create an events matrix\n",
    "# Remove trailing nans that may have crept in\n",
    "evFltd = evFltd[~np.isnan(L_TD)]\n",
    "evFlto = evFlto[~np.isnan(L_TO)]\n",
    "evFrtd = evFrtd[~np.isnan(R_TD)]\n",
    "evFrto = evFrto[~np.isnan(R_TO)]\n",
    "\n",
    "L_TD = L_TD[~np.isnan(L_TD)]\n",
    "L_TO = L_TO[~np.isnan(L_TO)]\n",
    "R_TD = R_TD[~np.isnan(R_TD)]\n",
    "R_TO = R_TO[~np.isnan(R_TO)]\n",
    "\n",
    "# Find the closest ordered pairs of L_TO and R_TD to synchronize steps\n",
    "closest = np.abs(np.repeat(R_TD[:,np.newaxis], L_TO.shape[0], axis=1)-np.repeat(L_TO[:,np.newaxis].T, R_TD.shape[0], axis=0))\n",
    "\n",
    "minx = np.nanargmin(closest,axis=0)\n",
    "\n",
    "#Truncate right stances to match up with left\n",
    "evFrtd = evFrtd[np.unique(minx)]\n",
    "R_TD = R_TD[np.unique(minx)]\n",
    "\n",
    "\n",
    "testlength = np.min([L_TO.shape[0], R_TD.shape[0]])\n",
    "if np.median(L_TO[:testlength]-R_TD[:testlength]) < 0:#Then there is a flight phase\n",
    "    #Find the closest ordered pairs of R_TD and R_TO to synchronize steps\n",
    "    closest = np.abs(np.repeat(R_TO[:,np.newaxis], R_TD.shape[0], axis=1)-np.repeat(R_TD[:,np.newaxis].T, R_TO.shape[0], axis=0))\n",
    "    minx = np.nanargmin(closest,axis=0)\n",
    "    \n",
    "else: # There is no flight phase i.e. grounded running or walking\n",
    "    #Find the closest ordered pairs of R_TO and L_TD to synchronize steps\n",
    "    tmp = L_TD[1:]\n",
    "    closest = np.abs(np.repeat(R_TO[:,np.newaxis], tmp.shape[0], \n",
    "                               axis=1)-np.repeat(tmp[:,np.newaxis].T, R_TO.shape[0], axis=0))\n",
    "    minx = np.nanargmin(closest,axis=0)\n",
    "    \n",
    "evFrto = evFrto[np.unique(minx)]\n",
    "R_TO = R_TO[np.unique(minx)]\n",
    "\n",
    "events = [L_TD.shape[0], L_TO.shape[0], R_TD.shape[0], R_TO.shape[0]]\n",
    "\n",
    "# Chop everything to the same length\n",
    "L_TD = L_TD[:min(events)]\n",
    "L_TO = L_TO[:min(events)]\n",
    "R_TD = R_TD[:min(events)]\n",
    "R_TO = R_TO[:min(events)]\n",
    "\n",
    "evFltd = evFltd[:min(events)]\n",
    "evFlto = evFlto[:min(events)]\n",
    "evFrtd = evFrtd[:min(events)]\n",
    "evFrto = evFrto[:min(events)]\n",
    "\n",
    "# Very rarely, these will wind up empty and assignment doesn't work\n",
    "events = np.empty(shape=(L_TD.shape[0],4)) * np.NaN\n",
    "events[:,0]=L_TD\n",
    "events[:,1]=L_TO\n",
    "events[:,2]=R_TD\n",
    "events[:,3]=R_TO\n",
    "# Very rarely, these will wind up empty and assignment doesn't work\n",
    "eventsflag = np.empty(shape=(evFltd.shape[0],4)) * np.NaN\n",
    "eventsflag[:,0]=evFltd\n",
    "eventsflag[:,1]=evFlto\n",
    "eventsflag[:,2]=evFrtd\n",
    "eventsflag[:,3]=evFrto\n",
    "\n",
    "# Remove first row since these will very often be reliant on FF and FB measures\n",
    "if events.shape[0] > 1:\n",
    "    events = np.delete(events,0,axis=0)\n",
    "    eventsflag = np.delete(eventsflag,0,axis=0)\n",
    "    \n",
    "# %% Occasionally, one stance will drop out, and data becomes\n",
    "# % discontinuous...this fix alleviates this by trimming data to largest\n",
    "# % continuous block\n",
    "try:\n",
    "    cont = np.array([events[1:,0]>events[:-1,1],events[1:,2]>events[:-1,3]])\n",
    "    cont = np.hstack((np.zeros((2,1)),cont,np.zeros((2,1)))).T\n",
    "    F = np.where(np.any(cont==0, axis=1))\n",
    "    F = np.asarray(F).flatten()\n",
    "    D = np.diff(F)-2\n",
    "    M, L = np.max(D), np.argmax(D)\n",
    "    events = events[F[L]:F[L]+M+1,:]\n",
    "    eventsflag = eventsflag[F[L]:F[L]+M+1,:]\n",
    "except Exception as e:\n",
    "    print('Could not obtain a continuous block of events')\n",
    "    events = []\n",
    "    eventsflag = []\n",
    "    print(e)\n",
    "    \n",
    "# Worst-case... return to foot forward, foot back detection\n",
    "if events.shape[0] < 5:\n",
    "    print('Automated event detection failed, defaulting to foot-forward foot-back')\n",
    "    nevents = [L_FFi.shape[0], L_FBi.shape[0], R_FFi.shape[0], R_FBi.shape[0]]\n",
    "    \n",
    "    # Chop everything to the same length\n",
    "    L_FFi = L_FFi[:min(nevents)]\n",
    "    L_FBi = L_FBi[:min(nevents)]\n",
    "    R_FFi = R_FFi[:min(nevents)]\n",
    "    R_FBi = R_FBi[:min(nevents)]\n",
    "    \n",
    "    events = np.empty(shape=(min(nevents),4)) * np.NaN\n",
    "    events[:,0] = L_FFi\n",
    "    events[:,1] = L_FBi\n",
    "    events[:,2] = R_FFi\n",
    "    events[:,3] = R_FBi\n",
    "    \n",
    "# Pull event columns from events so everything is consistent\n",
    "L_TD = events[:,0]\n",
    "L_TO = events[:,1]\n",
    "R_TD = events[:,2]\n",
    "R_TO = events[:,3]"
   ]
  },
  {
   "cell_type": "code",
   "execution_count": null,
   "id": "2d385daf-b5a8-4e95-98c5-d065551a1589",
   "metadata": {},
   "outputs": [],
   "source": [
    "L_TD"
   ]
  },
  {
   "cell_type": "code",
   "execution_count": null,
   "id": "fa813db9-2bac-421b-b044-f2fa85e51e7a",
   "metadata": {},
   "outputs": [],
   "source": [
    "L_TDm"
   ]
  },
  {
   "cell_type": "code",
   "execution_count": null,
   "id": "dfae31c0-0cb0-4f36-b871-618c10b4a582",
   "metadata": {},
   "outputs": [],
   "source": [
    "L_TO"
   ]
  },
  {
   "cell_type": "code",
   "execution_count": null,
   "id": "d9e103ca-1219-4d90-9cfb-0d4185887609",
   "metadata": {},
   "outputs": [],
   "source": [
    "L_TOm"
   ]
  },
  {
   "cell_type": "code",
   "execution_count": null,
   "id": "9ff14f38-c885-4cf7-a6c2-2dcc4efb08a0",
   "metadata": {},
   "outputs": [],
   "source": [
    "R_TD"
   ]
  },
  {
   "cell_type": "code",
   "execution_count": null,
   "id": "0d730a89-7229-4e8f-a53c-d0cc7c7f90a8",
   "metadata": {},
   "outputs": [],
   "source": [
    "R_TDm"
   ]
  },
  {
   "cell_type": "code",
   "execution_count": null,
   "id": "7c5e8573-71d8-4402-9a5a-4684de4090ef",
   "metadata": {},
   "outputs": [],
   "source": []
  },
  {
   "cell_type": "code",
   "execution_count": null,
   "id": "80b55360-951a-4e0c-9e22-28c5829b0a89",
   "metadata": {},
   "outputs": [],
   "source": []
  },
  {
   "cell_type": "markdown",
   "id": "b35118ca-e8fa-4600-85f8-b09e808ce1d4",
   "metadata": {},
   "source": [
    "## Compare outputs between gait_steps.m and gait_steps.py"
   ]
  },
  {
   "cell_type": "code",
   "execution_count": null,
   "id": "08e00a5f-2607-4493-8b92-cf7678e168b1",
   "metadata": {},
   "outputs": [],
   "source": [
    "# Invoking function to calculate angles\n",
    "#angle_L_ankle, angle_R_ankle, angle_L_knee, angle_R_knee, angle_L_hip, angle_R_hip, angle_L_foot, angle_R_foot, angle_Pelvis = gait_kinematics(joints, neutral, gait, data_RIC['hz_r'])"
   ]
  },
  {
   "cell_type": "code",
   "execution_count": null,
   "id": "df5bcad3-61cc-4c65-ad3c-15931c439907",
   "metadata": {},
   "outputs": [],
   "source": [
    "'L_ankle','R_ankle','L_knee','R_knee','L_hip','R_hip','L_foot','R_foot','pelvis'"
   ]
  },
  {
   "cell_type": "code",
   "execution_count": null,
   "id": "96b585fb-71ed-40d3-a81d-b98874beca00",
   "metadata": {},
   "outputs": [],
   "source": [
    "angles_dict = dict()\n",
    "angles_dict['L_ankle'] = angle_L_ankle\n",
    "angles_dict['R_ankle'] = angle_R_ankle\n",
    "angles_dict['L_knee']  = angle_L_knee\n",
    "angles_dict['R_knee']  = angle_R_knee\n",
    "angles_dict['L_hip']   = angle_L_hip\n",
    "angles_dict['R_hip']   = angle_R_hip\n",
    "angles_dict['L_foot']  = angle_L_foot\n",
    "angles_dict['R_foot']  = angle_R_foot\n",
    "angles_dict['pelvis']  = angle_Pelvis"
   ]
  },
  {
   "cell_type": "code",
   "execution_count": null,
   "id": "f73e21ac-91f1-49ab-8169-1408e094b38d",
   "metadata": {},
   "outputs": [],
   "source": [
    "data_RIC['hz_r']"
   ]
  },
  {
   "cell_type": "code",
   "execution_count": null,
   "id": "c8c98d09-682a-4ff9-927e-373444885fbf",
   "metadata": {},
   "outputs": [],
   "source": [
    "matlab.double(float(data_RIC['hz_r']))"
   ]
  },
  {
   "cell_type": "code",
   "execution_count": null,
   "id": "d6ac7d3e-e23f-4abe-98bb-04e33f47070d",
   "metadata": {},
   "outputs": [],
   "source": [
    "# Call Matlab function gait_steps.m from Python\n",
    "norm_ang, norm_vel, events, event, dvs, vel, eventsflag, label = eng.gait_steps(data_RIC['neutral'], \n",
    "                                                        data_RIC['running'], \n",
    "                                                        angles_dict, angles_dict,\n",
    "                                                        data_RIC['hz_r'],0,\n",
    "                                                        nargout=8)"
   ]
  },
  {
   "cell_type": "code",
   "execution_count": null,
   "id": "e40d2fdf-a059-410a-9223-60084830012f",
   "metadata": {},
   "outputs": [],
   "source": []
  },
  {
   "cell_type": "code",
   "execution_count": null,
   "id": "b93c8228-0994-4489-bc5e-adb709b1b672",
   "metadata": {},
   "outputs": [],
   "source": [
    "#[norm_ang,norm_vel,events,event,DISCRETE_VARIABLES,speedoutput,eventsflag,label] = gait_steps(neutral,dynamic,angles,velocities,hz,plots)"
   ]
  },
  {
   "cell_type": "code",
   "execution_count": null,
   "id": "be63984f-70e1-4e4a-bf8c-212366f96cee",
   "metadata": {},
   "outputs": [],
   "source": []
  },
  {
   "cell_type": "code",
   "execution_count": null,
   "id": "fd770c75-6096-4edf-9814-f1d68f665000",
   "metadata": {},
   "outputs": [],
   "source": []
  },
  {
   "cell_type": "code",
   "execution_count": null,
   "id": "8e3f22da-c7d8-4271-b7f6-8be17892eb2f",
   "metadata": {},
   "outputs": [],
   "source": []
  },
  {
   "cell_type": "code",
   "execution_count": null,
   "id": "f7013eb8-83ef-42af-8d4e-32526421ec2f",
   "metadata": {},
   "outputs": [],
   "source": []
  },
  {
   "cell_type": "code",
   "execution_count": null,
   "id": "f2cad6c8-945b-406f-9bf4-eb2cd47e5909",
   "metadata": {},
   "outputs": [],
   "source": []
  }
 ],
 "metadata": {
  "kernelspec": {
   "display_name": "Python 3 (ipykernel)",
   "language": "python",
   "name": "python3"
  },
  "language_info": {
   "codemirror_mode": {
    "name": "ipython",
    "version": 3
   },
   "file_extension": ".py",
   "mimetype": "text/x-python",
   "name": "python",
   "nbconvert_exporter": "python",
   "pygments_lexer": "ipython3",
   "version": "3.9.16"
  }
 },
 "nbformat": 4,
 "nbformat_minor": 5
}
