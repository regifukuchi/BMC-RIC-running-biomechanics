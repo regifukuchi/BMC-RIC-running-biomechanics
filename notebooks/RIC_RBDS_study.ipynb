{
 "cells": [
  {
   "cell_type": "markdown",
   "id": "b12e57ac",
   "metadata": {
    "id": "b12e57ac"
   },
   "source": [
    "# RIC and RBDS 3D running study: an example of collaborative and reproducible research\n",
    "> Reginaldo K Fukuchi$^{1,2}$, Reed Ferber$^{2}$ \n",
    "> $^{1}$Biomedical Engineering, Federal University of ABC, Brazil\n",
    "> $^{2}$Faculty of Kinesiology, University of Calgary, Canada\n",
    "\n",
    "\n",
    "This notebook presents the comparison of 3D running kinematics between runners from Brazil and Canada. The data were collected using similar experimental procedures and by the same experimenter (RKF) in both centres. \n",
    "\n",
    "The notebook uses the raw marker trajectories from standing calibration and running trials; and outputs 3D joint angles of the hip, knee and ankle joints during the gait cycle. \n",
    "\n",
    "All the analyses were performed using computer programs written in Python and they are provided along with the markers data and the notebook itself. Therefore, the consistency of the results presented here can be assessed by any user interested in reproducing this reseach.\n",
    "\n",
    "The data are from published data sets (Fukuchi et al. (2017) and Ferber et al. (in preparation).\n",
    "\n",
    "<p style=\"text-align: right;\">A <a href=\"https://jupyter.org/\">Jupyter Notebook</a></p>"
   ]
  },
  {
   "cell_type": "code",
   "execution_count": 1,
   "id": "7f4e9cc6",
   "metadata": {
    "id": "7f4e9cc6"
   },
   "outputs": [],
   "source": [
    "# Prepare environment\n",
    "import os, sys\n",
    "import scipy.io as spio\n",
    "import numpy as np\n",
    "import pandas as pd\n",
    "import seaborn as sns\n",
    "import matplotlib.pyplot as plt\n",
    "\n",
    "%matplotlib inline\n",
    "#%matplotlib notebook\n",
    "\n",
    "sys.path.insert(1, r'./../functions')"
   ]
  },
  {
   "cell_type": "markdown",
   "id": "f21dba14-fcf0-4358-bdcb-cb42be781f82",
   "metadata": {},
   "source": [
    "### Supporting functions"
   ]
  },
  {
   "cell_type": "code",
   "execution_count": 75,
   "id": "f7ce1084-c94c-4c00-8f8f-29f36a2ad4ee",
   "metadata": {},
   "outputs": [],
   "source": [
    "def f7(seq):\n",
    "    \"\"\"\n",
    "    This function drop duplictes in a list while keeping the sequence order of elements\n",
    "    \"\"\"\n",
    "    seen = set()\n",
    "    seen_add = seen.add\n",
    "    return [x for x in seq if not (x in seen or seen_add(x))]\n",
    "\n",
    "def hip_jc(RASI, LASI):\n",
    "    \"\"\"\n",
    "    Calculate hip joint centre based on Coda method. \n",
    "    See https://c-motion.com/v3dwiki/index.php?title=Coda_Pelvis\n",
    "    RHJC=(-0.19*ASIS_Distance,-0.3*ASIS_Distance,0.36*ASIS_Distance)\n",
    "    \"\"\"\n",
    "    ASIS_distance_S = np.linalg.norm(RASI-LASI, axis=1)\n",
    "    hjc = np.array([RASI[:,0]-0.19*ASIS_distance_S, RASI[:,1]-0.3*ASIS_distance_S,\n",
    "                  RASI[:,2]-0.36*ASIS_distance_S]).T\n",
    "    return hjc\n",
    "\n",
    "def pelvisCS(RASIr, LASIr, VSACr):\n",
    "    # Pelvic reference system\n",
    "    midASIS = (RASIr+LASIr)/2\n",
    "    \n",
    "    v2p = np.cross(RASIr-VSACr,LASIr-VSACr)\n",
    "    v3p = RASIr-midASIS\n",
    "    v1p = np.cross(v2p,v3p)\n",
    "\n",
    "    v1p = v1p/np.linalg.norm(v1p)\n",
    "    v2p = v2p/np.linalg.norm(v2p)\n",
    "    v3p = v3p/np.linalg.norm(v3p)\n",
    "\n",
    "    bp = np.array([v1p,v2p,v3p])\n",
    "    \n",
    "    return bp\n",
    "\n",
    "def thighCS(rhjc_R, rkjc_R, RKNLr):\n",
    "    # Thigh reference system\n",
    "    v2t = rhjc_R-rkjc_R\n",
    "    v1t = np.cross(v2t,RKNLr-rkjc_R)\n",
    "    v3t = np.cross(v1t,v2t)\n",
    "\n",
    "    v1t = v1t/np.linalg.norm(v1t)\n",
    "    v2t = v2t/np.linalg.norm(v2t)\n",
    "    v3t = v3t/np.linalg.norm(v3t)\n",
    "\n",
    "    bt = np.array([v1t,v2t,v3t])\n",
    "    \n",
    "    return bt\n",
    "\n",
    "def shankCS(rkjc_R, rajc_R, RMALr):\n",
    "    # Shank reference system\n",
    "    v2s = rkjc_R-rajc_R\n",
    "    v1s = np.cross(v2s,RMALr-rajc_R)\n",
    "    v3s = np.cross(v1s,v2s)\n",
    "\n",
    "    v1s = v1s/np.linalg.norm(v1s)\n",
    "    v2s = v2s/np.linalg.norm(v2s)\n",
    "    v3s = v3s/np.linalg.norm(v3s)\n",
    "\n",
    "    bs = np.array([v1s,v2s,v3s])\n",
    "    \n",
    "    return bs\n",
    "\n",
    "def footCS(heelT, heelB):\n",
    "    # Foot reference system\n",
    "    v1f   = np.array([[1,0,0]]) # paralell to lab x-axis\n",
    "    v2f_t = heelT - heelB\n",
    "    v3f = np.cross(v1f, v2f_t)\n",
    "    v2f = np.cross(v3f, v1f)\n",
    "   \n",
    "    #v1f = v1f/np.linalg.norm(v1f)\n",
    "    v2f = v2f/np.linalg.norm(v2f)\n",
    "    v3f = v3f/np.linalg.norm(v3f)\n",
    "    \n",
    "    bf = np.array([v1f,v2f,v3f])\n",
    "    \n",
    "    return bf"
   ]
  },
  {
   "cell_type": "markdown",
   "id": "f6218457-355e-4115-8974-32d1532db444",
   "metadata": {},
   "source": [
    "## Import data"
   ]
  },
  {
   "cell_type": "code",
   "execution_count": 3,
   "id": "0a83576f",
   "metadata": {
    "id": "0a83576f"
   },
   "outputs": [],
   "source": [
    "data_dir = r'../data'"
   ]
  },
  {
   "cell_type": "code",
   "execution_count": 49,
   "id": "54cf7c93-0b7f-4781-bc9a-c449a00b79cf",
   "metadata": {},
   "outputs": [
    {
     "data": {
      "text/plain": [
       "(3, 1, 3)"
      ]
     },
     "execution_count": 49,
     "metadata": {},
     "output_type": "execute_result"
    }
   ],
   "source": [
    "labCS = np.array([[[1,0,0]],[[0,1,0]],[[0,0,1]]])\n",
    "labCS.shape"
   ]
  },
  {
   "cell_type": "markdown",
   "id": "fefd8c50-3b52-46d8-bf65-7540e53fc17a",
   "metadata": {},
   "source": [
    "### Standing calibration and running trial data"
   ]
  },
  {
   "cell_type": "code",
   "execution_count": 7,
   "id": "273d1fd8-6d4a-4012-85f4-8a3285a9ec22",
   "metadata": {},
   "outputs": [],
   "source": [
    "df_S = pd.read_csv(os.path.join(data_dir, 'RBDS_static.csv'), \n",
    "                        usecols=range(1,109)) # Static markers\n",
    "df_R = pd.read_csv(os.path.join(data_dir, 'RBDS_run.csv'), \n",
    "                        usecols=range(1,79)) # Dynmamic markers"
   ]
  },
  {
   "cell_type": "code",
   "execution_count": 9,
   "id": "5376efdd-4feb-4499-9a1c-ece687e062cc",
   "metadata": {},
   "outputs": [],
   "source": [
    "# List of static trial markers\n",
    "mkr_S_lbl = [mkr[:-2] for mkr in df_S.columns.tolist()]\n",
    "mkr_S_lbl = f7(mkr_S_lbl)\n",
    "# List of running trial markers\n",
    "mkr_R_lbl = [mkr[:-2] for mkr in df_R.columns.tolist()]\n",
    "mkr_R_lbl = f7(mkr_R_lbl)"
   ]
  },
  {
   "cell_type": "markdown",
   "id": "dd02b3a3-be0f-43ab-a0c4-ec9fedda29c7",
   "metadata": {
    "id": "0be00c9e"
   },
   "source": [
    "### Calculate hip joint center\n",
    "It was based on the method used in 3Dgait system from Running Injury Clinic, ie, 25% of the distance between hips."
   ]
  },
  {
   "cell_type": "code",
   "execution_count": 20,
   "id": "LQzbCwC8wZqq",
   "metadata": {
    "colab": {
     "base_uri": "https://localhost:8080/"
    },
    "executionInfo": {
     "elapsed": 7,
     "status": "ok",
     "timestamp": 1674160012911,
     "user": {
      "displayName": "Reginaldo Fukuchi",
      "userId": "10593265862496095759"
     },
     "user_tz": 420
    },
    "id": "LQzbCwC8wZqq",
    "outputId": "b643c2af-1b41-4eca-bbe0-0f57a1e886aa"
   },
   "outputs": [],
   "source": [
    "R_hip = df_S[['R_hip_X','R_hip_Y','R_hip_Z']].values\n",
    "L_hip = df_S[['L_hip_X','L_hip_Y','L_hip_Z']].values\n",
    "rhjc_S = R_hip - (R_hip-L_hip)/4 # Right HJC\n",
    "lhjc_S = L_hip + (L_hip-R_hip)/4 # Left HJC"
   ]
  },
  {
   "cell_type": "code",
   "execution_count": 35,
   "id": "4528f590",
   "metadata": {
    "colab": {
     "base_uri": "https://localhost:8080/"
    },
    "executionInfo": {
     "elapsed": 453,
     "status": "ok",
     "timestamp": 1674143767634,
     "user": {
      "displayName": "Reginaldo Fukuchi",
      "userId": "10593265862496095759"
     },
     "user_tz": 420
    },
    "id": "4528f590",
    "outputId": "de397b6f-26dc-43d8-ce14-035ffcb40243"
   },
   "outputs": [
    {
     "name": "stdout",
     "output_type": "stream",
     "text": [
      "Versors of the shank:\n",
      "[[[ 0.97670129 -0.03645553  0.21148426]]\n",
      "\n",
      " [[ 0.05076583  0.99674458 -0.06263446]]\n",
      "\n",
      " [[-0.20851241  0.07191133  0.97537241]]]\n"
     ]
    }
   ],
   "source": [
    "# Shank reference system\n",
    "rkjc_S = (df_S[['R_lat_knee_X','R_lat_knee_Y','R_lat_knee_Z']].values+\n",
    "        df_S[['R_med_knee_X','R_med_knee_Y','R_med_knee_Z']].values)/2\n",
    "rajc_S = (df_S[['R_lat_ankle_X','R_lat_ankle_Y','R_lat_ankle_Z']].values+\n",
    "        df_S[['R_med_ankle_X','R_med_ankle_Y','R_med_ankle_Z']].values)/2\n",
    "\n",
    "bs = shankCS(rkjc_S, rajc_S, df_S[['R_lat_ankle_X','R_lat_ankle_Y',\n",
    "                                   'R_lat_ankle_Z']].values)\n",
    "print('Versors of the shank:')\n",
    "print(bs)"
   ]
  },
  {
   "cell_type": "code",
   "execution_count": 52,
   "id": "f1579d80",
   "metadata": {
    "colab": {
     "base_uri": "https://localhost:8080/"
    },
    "executionInfo": {
     "elapsed": 6,
     "status": "ok",
     "timestamp": 1674143770557,
     "user": {
      "displayName": "Reginaldo Fukuchi",
      "userId": "10593265862496095759"
     },
     "user_tz": 420
    },
    "id": "f1579d80",
    "outputId": "28d84b66-d61a-4f02-c393-2968cf82f6c6"
   },
   "outputs": [
    {
     "name": "stdout",
     "output_type": "stream",
     "text": [
      "Versors of the thigh:\n",
      "[[[ 0.99534241 -0.0944786  -0.01916483]]\n",
      "\n",
      " [[ 0.09313988  0.99374299 -0.06164276]]\n",
      "\n",
      " [[ 0.02486884  0.05957065  0.99791426]]]\n"
     ]
    }
   ],
   "source": [
    "# Thigh reference system\n",
    "v2t = rhjc_S-rkjc_S\n",
    "v1t = np.cross(v2t,df_S[['R_lat_knee_X','R_lat_knee_Y',\n",
    "                         'R_lat_knee_Z']].values-rkjc_S)\n",
    "bt = thighCS(rhjc_S, rkjc_S, df_S[['R_lat_knee_X','R_lat_knee_Y',\n",
    "                         'R_lat_knee_Z']].values)\n",
    "print('Versors of the thigh:')\n",
    "print(bt)"
   ]
  },
  {
   "cell_type": "code",
   "execution_count": 107,
   "id": "11bfe258-da7d-45d5-a3b9-2cc8ebe39c9f",
   "metadata": {},
   "outputs": [
    {
     "name": "stdout",
     "output_type": "stream",
     "text": [
      "Versors of the pelvis:\n",
      "[[[1 0 0]]\n",
      "\n",
      " [[0 1 0]]\n",
      "\n",
      " [[0 0 1]]]\n"
     ]
    }
   ],
   "source": [
    "# Pelvis reference system\n",
    "# Aligned to the lab\n",
    "bp = labCS\n",
    "print('Versors of the pelvis:')\n",
    "print(bp)"
   ]
  },
  {
   "cell_type": "code",
   "execution_count": 78,
   "id": "494490a9-dcab-4617-9678-b0099a4b17cc",
   "metadata": {},
   "outputs": [
    {
     "name": "stdout",
     "output_type": "stream",
     "text": [
      "Versors of the foot:\n",
      "[[[ 1.          0.          0.        ]]\n",
      "\n",
      " [[ 0.          0.99995349 -0.00964463]]\n",
      "\n",
      " [[-0.          0.00964463  0.99995349]]]\n"
     ]
    }
   ],
   "source": [
    "# Foot reference system\n",
    "bf = footCS(df_S[['R_foot_1_X', 'R_foot_1_Y', 'R_foot_1_Z']].values, \n",
    "            df_S[['R_foot_2_X', 'R_foot_2_Y', 'R_foot_2_Z']].values)\n",
    "print('Versors of the foot:')\n",
    "print(bf)"
   ]
  },
  {
   "cell_type": "markdown",
   "id": "76c097f0-8437-4cad-8f08-a93aebdfecfe",
   "metadata": {
    "id": "05c9b7f9"
   },
   "source": [
    "## Reconstruct anatomical markers using SVD algorithm"
   ]
  },
  {
   "cell_type": "code",
   "execution_count": 80,
   "id": "d090b279",
   "metadata": {
    "id": "d090b279"
   },
   "outputs": [],
   "source": [
    "import sys\n",
    "sys.path.insert(1, r'../functions')\n",
    "from svdt import svdt"
   ]
  },
  {
   "cell_type": "markdown",
   "id": "b04fffd1-48ac-4d2d-a42f-14b475ee47d5",
   "metadata": {
    "id": "d314b466"
   },
   "source": [
    "### Segments"
   ]
  },
  {
   "cell_type": "code",
   "execution_count": 81,
   "id": "bddf620f-a41d-4835-b74c-1a574babaca8",
   "metadata": {},
   "outputs": [],
   "source": [
    "# Pelvic segment"
   ]
  },
  {
   "cell_type": "code",
   "execution_count": 127,
   "id": "5f920ebd-daee-4d26-84b7-47f09488b12a",
   "metadata": {},
   "outputs": [],
   "source": [
    "# Pelvis reference system\n",
    "bp_S_O = df_S[['pelvis_4_X','pelvis_4_Y','pelvis_4_Z']].values # pelvic origin\n",
    "bp_S = np.vstack((bp_S_O,bp_S_O+bp[:,0])) # pelvis basis static\n",
    "# Pelvic basis running\n",
    "bp_R = df_R[['pelvis_1_X','pelvis_1_Y','pelvis_1_Z',\n",
    "             'pelvis_2_X','pelvis_2_Y','pelvis_2_Z',\n",
    "             'pelvis_3_X','pelvis_3_Y','pelvis_3_Z',\n",
    "             'pelvis_4_X','pelvis_4_Y','pelvis_4_Z']].values\n",
    "# Reconstructed markers based on technical clusters\n",
    "Rp, Lp, RMSEp = svdt(bp_S, bp_R) "
   ]
  },
  {
   "cell_type": "code",
   "execution_count": 117,
   "id": "b13e2702",
   "metadata": {
    "id": "b13e2702"
   },
   "outputs": [],
   "source": [
    "# Thigh segment\n",
    "At = df_S[['R_thigh_1_X', 'R_thigh_1_Y', 'R_thigh_1_Z', \n",
    "           'R_thigh_2_X', 'R_thigh_2_Y', 'R_thigh_2_Z', \n",
    "           'R_thigh_3_X', 'R_thigh_3_Y', 'R_thigh_3_Z', \n",
    "           'R_thigh_4_X', 'R_thigh_4_Y', 'R_thigh_4_Z']].values\n",
    "Bt = df_R[['R_thigh_1_X', 'R_thigh_1_Y', 'R_thigh_1_Z', \n",
    "           'R_thigh_2_X', 'R_thigh_2_Y', 'R_thigh_2_Z', \n",
    "           'R_thigh_3_X', 'R_thigh_3_Y', 'R_thigh_3_Z', \n",
    "           'R_thigh_4_X', 'R_thigh_4_Y', 'R_thigh_4_Z']].values\n",
    "Rt, Lt, RMSEt = svdt(At, Bt)"
   ]
  },
  {
   "cell_type": "code",
   "execution_count": 119,
   "id": "de93b015",
   "metadata": {
    "id": "de93b015"
   },
   "outputs": [],
   "source": [
    "# Shank segment\n",
    "As = df_S[['R_shank_1_X', 'R_shank_1_Y', 'R_shank_1_Z', \n",
    "           'R_shank_2_X', 'R_shank_2_Y', 'R_shank_2_Z', \n",
    "           'R_shank_3_X', 'R_shank_3_Y', 'R_shank_3_Z', \n",
    "           'R_shank_4_X', 'R_shank_4_Y', 'R_shank_4_Z']].values\n",
    "Bs = df_R[['R_shank_1_X', 'R_shank_1_Y', 'R_shank_1_Z', \n",
    "           'R_shank_2_X', 'R_shank_2_Y', 'R_shank_2_Z', \n",
    "           'R_shank_3_X', 'R_shank_3_Y', 'R_shank_3_Z', \n",
    "           'R_shank_4_X', 'R_shank_4_Y', 'R_shank_4_Z']].values\n",
    "Rs, Ls, RMSEs = svdt(As, Bs)"
   ]
  },
  {
   "cell_type": "code",
   "execution_count": 120,
   "id": "ba6c11a8-3e72-4848-8985-17d61dbc5255",
   "metadata": {},
   "outputs": [
    {
     "name": "stdout",
     "output_type": "stream",
     "text": [
      "['pelvis_1_X', 'pelvis_1_Y', 'pelvis_1_Z', 'pelvis_2_X', 'pelvis_2_Y', 'pelvis_2_Z', 'pelvis_3_X', 'pelvis_3_Y', 'pelvis_3_Z', 'pelvis_4_X', 'pelvis_4_Y', 'pelvis_4_Z', 'L_thigh_1_X', 'L_thigh_1_Y', 'L_thigh_1_Z', 'L_thigh_2_X', 'L_thigh_2_Y', 'L_thigh_2_Z', 'L_thigh_3_X', 'L_thigh_3_Y', 'L_thigh_3_Z', 'L_thigh_4_X', 'L_thigh_4_Y', 'L_thigh_4_Z', 'R_thigh_1_X', 'R_thigh_1_Y', 'R_thigh_1_Z', 'R_thigh_2_X', 'R_thigh_2_Y', 'R_thigh_2_Z', 'R_thigh_3_X', 'R_thigh_3_Y', 'R_thigh_3_Z', 'R_thigh_4_X', 'R_thigh_4_Y', 'R_thigh_4_Z', 'L_shank_1_X', 'L_shank_1_Y', 'L_shank_1_Z', 'L_shank_2_X', 'L_shank_2_Y', 'L_shank_2_Z', 'L_shank_3_X', 'L_shank_3_Y', 'L_shank_3_Z', 'L_shank_4_X', 'L_shank_4_Y', 'L_shank_4_Z', 'R_shank_1_X', 'R_shank_1_Y', 'R_shank_1_Z', 'R_shank_2_X', 'R_shank_2_Y', 'R_shank_2_Z', 'R_shank_3_X', 'R_shank_3_Y', 'R_shank_3_Z', 'R_shank_4_X', 'R_shank_4_Y', 'R_shank_4_Z', 'L_foot_1_X', 'L_foot_1_Y', 'L_foot_1_Z', 'L_foot_2_X', 'L_foot_2_Y', 'L_foot_2_Z', 'L_foot_3_X', 'L_foot_3_Y', 'L_foot_3_Z', 'R_foot_1_X', 'R_foot_1_Y', 'R_foot_1_Z', 'R_foot_2_X', 'R_foot_2_Y', 'R_foot_2_Z', 'R_foot_3_X', 'R_foot_3_Y', 'R_foot_3_Z']\n"
     ]
    }
   ],
   "source": [
    "print(df_R.columns.tolist())"
   ]
  },
  {
   "cell_type": "code",
   "execution_count": null,
   "id": "2aa27a0b-50b7-42a4-a489-f1eb125676f9",
   "metadata": {},
   "outputs": [],
   "source": [
    "# Pelvis reference system\n",
    "bp_S_O = df_S[['pelvis_4_X','pelvis_4_Y','pelvis_4_Z']].values # pelvic origin\n",
    "bp_S = np.vstack((bp_O,bp_S_O+bp[:,0])) # pelvis basis static\n",
    "# Pelvic basis running\n",
    "bp_R = df_R[['pelvis_1_X','pelvis_1_Y','pelvis_1_Z',\n",
    "             'pelvis_2_X','pelvis_2_Y','pelvis_2_Z',\n",
    "             'pelvis_3_X','pelvis_3_Y','pelvis_3_Z',\n",
    "             'pelvis_4_X','pelvis_4_Y','pelvis_4_Z']].values\n",
    "# Reconstructed markers based on technical clusters\n",
    "Rp, Lp, RMSEp = svdt(bp_S, bp_R) "
   ]
  },
  {
   "cell_type": "code",
   "execution_count": 130,
   "id": "a70acc05-f7a1-4a49-9a82-7bc08a2e1564",
   "metadata": {},
   "outputs": [
    {
     "data": {
      "text/plain": [
       "array([[ 1.        ,  0.        ,  0.        ],\n",
       "       [ 0.        ,  0.99995349, -0.00964463],\n",
       "       [-0.        ,  0.00964463,  0.99995349]])"
      ]
     },
     "execution_count": 130,
     "metadata": {},
     "output_type": "execute_result"
    }
   ],
   "source": [
    "bf[:,0]"
   ]
  },
  {
   "cell_type": "code",
   "execution_count": 136,
   "id": "80649683-1a44-4e2a-af44-60cdde13d644",
   "metadata": {},
   "outputs": [
    {
     "data": {
      "text/plain": [
       "(4500, 12)"
      ]
     },
     "execution_count": 136,
     "metadata": {},
     "output_type": "execute_result"
    }
   ],
   "source": [
    "bp_R.shape"
   ]
  },
  {
   "cell_type": "code",
   "execution_count": null,
   "id": "dfd5a43d-fbce-4680-acef-a3e42fc34546",
   "metadata": {},
   "outputs": [],
   "source": []
  },
  {
   "cell_type": "markdown",
   "id": "cd88e6a5-c71a-41d8-bc56-ed49148b02d7",
   "metadata": {},
   "source": [
    "# PENDING \n",
    "ADD COLUMS WITH ORIGING DYNAMIC"
   ]
  },
  {
   "cell_type": "code",
   "execution_count": 134,
   "id": "c6d06b71-648c-4d6e-8951-363a03b59ca9",
   "metadata": {},
   "outputs": [],
   "source": [
    "# Foot origin static markers\n",
    "bf_S_O = (df_S[['R_foot_1_X', 'R_foot_1_Y', 'R_foot_1_Z']].values+ \\\n",
    "df_S[['R_foot_2_X', 'R_foot_2_Y', 'R_foot_2_Z']].values+ \\\n",
    "df_S[['R_foot_3_X', 'R_foot_3_Y', 'R_foot_3_Z']].values) / 3\n",
    "bf_S = np.vstack((bf_S_O,bf_S_O+bf[:,0])) # foot basis static\n",
    "\n",
    "# Foot basis running\n",
    "bf_R = df_R[['R_foot_1_X', 'R_foot_1_Y', 'R_foot_1_Z', 'R_foot_2_X', 'R_foot_2_Y', 'R_foot_2_Z', 'R_foot_3_X', 'R_foot_3_Y', 'R_foot_3_Z']].values"
   ]
  },
  {
   "cell_type": "code",
   "execution_count": 135,
   "id": "d551efba-839f-4ca7-933f-a3f7bc126e6f",
   "metadata": {},
   "outputs": [
    {
     "data": {
      "text/plain": [
       "(4500, 9)"
      ]
     },
     "execution_count": 135,
     "metadata": {},
     "output_type": "execute_result"
    }
   ],
   "source": [
    "bf_R.shape"
   ]
  },
  {
   "cell_type": "code",
   "execution_count": 122,
   "id": "cc2bc210-825c-4d8a-bb6d-8aa35c7fa3ac",
   "metadata": {},
   "outputs": [
    {
     "data": {
      "text/html": [
       "<div>\n",
       "<style scoped>\n",
       "    .dataframe tbody tr th:only-of-type {\n",
       "        vertical-align: middle;\n",
       "    }\n",
       "\n",
       "    .dataframe tbody tr th {\n",
       "        vertical-align: top;\n",
       "    }\n",
       "\n",
       "    .dataframe thead th {\n",
       "        text-align: right;\n",
       "    }\n",
       "</style>\n",
       "<table border=\"1\" class=\"dataframe\">\n",
       "  <thead>\n",
       "    <tr style=\"text-align: right;\">\n",
       "      <th></th>\n",
       "      <th>R_foot_1_X</th>\n",
       "      <th>R_foot_1_Y</th>\n",
       "      <th>R_foot_1_Z</th>\n",
       "    </tr>\n",
       "  </thead>\n",
       "  <tbody>\n",
       "    <tr>\n",
       "      <th>0</th>\n",
       "      <td>638.931886</td>\n",
       "      <td>90.743773</td>\n",
       "      <td>1359.633209</td>\n",
       "    </tr>\n",
       "  </tbody>\n",
       "</table>\n",
       "</div>"
      ],
      "text/plain": [
       "   R_foot_1_X  R_foot_1_Y   R_foot_1_Z\n",
       "0  638.931886   90.743773  1359.633209"
      ]
     },
     "execution_count": 122,
     "metadata": {},
     "output_type": "execute_result"
    }
   ],
   "source": [
    "df_S[['R_foot_1_X', 'R_foot_1_Y', 'R_foot_1_Z']]"
   ]
  },
  {
   "cell_type": "code",
   "execution_count": null,
   "id": "8933ec76",
   "metadata": {
    "id": "8933ec76"
   },
   "outputs": [],
   "source": [
    "# Foot segment\n",
    "Af = df_s[['RHED_X','RHED_Y','RHED_Z','RHEP_X','RHEP_Y','RHEP_Z',\n",
    "             'RHEL_X','RHEL_Y','RHEL_Z']].values.mean(axis=0)\n",
    "Bf = df_r[['RHED_X','RHED_Y','RHED_Z','RHEP_X','RHEP_Y','RHEP_Z',\n",
    "             'RHEL_X','RHEL_Y','RHEL_Z']].values\n",
    "Rf, Lf, RMSEf = svdt(Af, Bf)"
   ]
  },
  {
   "cell_type": "code",
   "execution_count": null,
   "id": "2351b0ce",
   "metadata": {
    "id": "2351b0ce"
   },
   "outputs": [],
   "source": [
    "# knee markers\n",
    "RKNLs = df_s[['RKNL_X','RKNL_Y','RKNL_Z']].values.mean(axis=0)\n",
    "RKNMs = df_s[['RKNM_X','RKNM_Y','RKNM_Z']].values.mean(axis=0)\n",
    "RKNLr = np.empty(shape=(Rt.shape[0],3))\n",
    "RKNMr = np.empty(shape=(Rt.shape[0],3))\n",
    "# ankle markers\n",
    "RMALs = df_s[['RMAL_X','RMAL_Y','RMAL_Z']].values.mean(axis=0)\n",
    "RMAMs = df_s[['RMAM_X','RMAM_Y','RMAM_Z']].values.mean(axis=0)\n",
    "RMALr = np.empty(shape=(Rs.shape[0],3))\n",
    "RMAMr = np.empty(shape=(Rs.shape[0],3))\n",
    "# foot markers\n",
    "RMH1s = df_s[['RMH1_X','RMH1_Y','RMH1_Z']].values.mean(axis=0)\n",
    "RMH5s = df_s[['RMH5_X','RMH5_Y','RMH5_Z']].values.mean(axis=0)\n",
    "RMH1r = np.empty(shape=(Rs.shape[0],3))\n",
    "RMH5r = np.empty(shape=(Rs.shape[0],3))\n",
    "# Reconstructed markers based on technical clusters\n",
    "RKNLr = np.dot(Rt,RKNLs)  + Lt\n",
    "RKNMr = np.dot(Rt,RKNMs)  + Lt\n",
    "RMALr = np.dot(Rs,RMALs)  + Ls\n",
    "RMAMr = np.dot(Rs,RMAMs)  + Ls\n",
    "RMH1r = np.dot(Rf,RMH1s)  + Ls\n",
    "RMH5r = np.dot(Rf,RMH5s)  + Ls\n",
    "RTOEr = (RMH1r+RMH5r)/2"
   ]
  },
  {
   "cell_type": "markdown",
   "id": "31cba52c-f59d-4b83-a03a-7ceac5624517",
   "metadata": {
    "id": "cf170f7c"
   },
   "source": [
    "### Hip, knee and ankle joint centres"
   ]
  },
  {
   "cell_type": "code",
   "execution_count": null,
   "id": "b29b3b96",
   "metadata": {
    "id": "b29b3b96"
   },
   "outputs": [],
   "source": [
    "ASIS_distanceR = np.linalg.norm(RASIr-LASIr, axis=1)\n",
    "rhjc_R = np.array([RASIr[:,0]-0.19*ASIS_distanceR, RASIr[:,1]-0.3*ASIS_distanceR, RASIr[:,2]-0.36*ASIS_distanceR]).T"
   ]
  },
  {
   "cell_type": "code",
   "execution_count": null,
   "id": "dd119942",
   "metadata": {
    "id": "dd119942"
   },
   "outputs": [],
   "source": [
    "rkjc_R = (RKNLr+RKNMr)/2\n",
    "rajc_R = (RMALr+RMAMr)/2"
   ]
  },
  {
   "cell_type": "markdown",
   "id": "29730317-783c-4aa1-8dae-f5b15f5af754",
   "metadata": {
    "tags": []
   },
   "source": [
    "### Visualize markers"
   ]
  },
  {
   "cell_type": "code",
   "execution_count": null,
   "id": "43d40993-8606-4eb5-b93f-7fdbd7a63a41",
   "metadata": {},
   "outputs": [],
   "source": [
    "from mpl_toolkits.mplot3d import Axes3D"
   ]
  },
  {
   "cell_type": "markdown",
   "id": "1aaaaa2f-163a-4e42-9c64-ca048ae3d624",
   "metadata": {},
   "source": [
    "#### RBDS"
   ]
  },
  {
   "cell_type": "code",
   "execution_count": null,
   "id": "40329994-bcd4-4d66-b42f-35328070679e",
   "metadata": {},
   "outputs": [],
   "source": [
    "# Average marker position\n",
    "mkr_S = df_RIC_S.values.flatten()\n",
    "# Marker labels list\n",
    "mkr_S_lbl = RIC_mkr_S_lbl"
   ]
  },
  {
   "cell_type": "code",
   "execution_count": null,
   "id": "12b77b7e-a609-4f7e-8535-8c7da095692f",
   "metadata": {},
   "outputs": [],
   "source": [
    "from mpl_toolkits.mplot3d import Axes3D\n",
    "fig = plt.figure(figsize=(8, 10))\n",
    "ax = fig.add_subplot(111, projection='3d',  facecolor='white')\n",
    "#ax.view_init(15, 20)\n",
    "\n",
    "\n",
    "ax.scatter(mkr_S[2:-1:3], mkr_S[0:-3:3], mkr_S[1:-2:3],  \n",
    "           c='r', s=30, depthshade=False)\n",
    "for m, mkr_lbl in enumerate(mkr_S_lbl):\n",
    "    ax.text(mkr_S[3*m+2], mkr_S[3*m], mkr_S[3*m+1], mkr_lbl)\n",
    "\n",
    "ax.set_xlabel('\\n' + 'Z [m]', linespacing=2)\n",
    "ax.set_ylabel('\\n' + 'X [m]', linespacing=2)\n",
    "ax.set_zlabel('\\n' + 'Y [m]', linespacing=2)\n",
    "#ax.invert_yaxis()\n",
    "# square plot\n",
    "ax.set_aspect('equal', adjustable='box')\n",
    "ax.set_xlim3d([np.nanmin(mkr_S[2::3])-.4, np.nanmax(mkr_S[2::3])+.4])\n",
    "ax.set_ylim3d([np.nanmin(mkr_S[0::3])-.4, np.nanmax(mkr_S[0::3])+.4])\n",
    "ax.set_zlim3d([np.nanmin(mkr_S[1::3]), np.nanmax(mkr_S[1::3])])\n",
    "plt.show()"
   ]
  },
  {
   "cell_type": "code",
   "execution_count": null,
   "id": "61e71bb8-d177-4b5a-83ba-1eee9905b81a",
   "metadata": {},
   "outputs": [],
   "source": [
    "#fig.savefig(os.path.join(data_dir, 'RBDS_3d.png'))"
   ]
  },
  {
   "cell_type": "markdown",
   "id": "dbd19495-068d-4b2f-9fe7-2259d77dc5f0",
   "metadata": {},
   "source": [
    "#### RBDS\n",
    "the following Lab Coordinate system\n",
    "*       X - points to the driection of walking\n",
    "*       Y - points vertically upwards\n",
    "*       Z - points to the subject's right"
   ]
  },
  {
   "cell_type": "markdown",
   "id": "83cef5f4-e6eb-4a56-8807-564901ebb9f2",
   "metadata": {},
   "source": [
    "#### RIC\n",
    "the following Lab Coordinate system\n",
    "*       X - points to the subject's right\n",
    "*       Y - points vertically upwards\n",
    "*       Z - points opposite of the walking direction\n",
    "NOTE the Segment coordinate systems\n",
    "*       X - Anterior .....................................[AB / AD duction]\n",
    "*       Y - Vertically upwards ............................[Axial rotation]\n",
    "*       Z - points to the subject's right side ...[Hinge flexion extension]"
   ]
  },
  {
   "cell_type": "code",
   "execution_count": null,
   "id": "b5308349-5b0f-49c0-bd53-208535af090d",
   "metadata": {},
   "outputs": [],
   "source": [
    "# Average marker position. Keep the same number of mkrs than RBDS\n",
    "data_RIC_static = data_RIC_static[df_S_RBDS.columns.tolist()]"
   ]
  },
  {
   "cell_type": "code",
   "execution_count": null,
   "id": "99dffabb-bd0e-4101-b221-585380e467d5",
   "metadata": {},
   "outputs": [],
   "source": [
    "data_RIC_static"
   ]
  },
  {
   "cell_type": "code",
   "execution_count": null,
   "id": "b7b8afe6-305f-44a4-872f-6cfffaa48aec",
   "metadata": {},
   "outputs": [],
   "source": [
    "mkr_S = data_RIC_static.values.flatten()"
   ]
  },
  {
   "cell_type": "code",
   "execution_count": null,
   "id": "9cca80c7-827c-4ab9-994c-b28f37ae2271",
   "metadata": {},
   "outputs": [],
   "source": [
    "# Marker labels list\n",
    "mkr_S_lbl = [data_RIC_static.columns.tolist()[i][:-2] for i in range(mkr_S.shape[0])]\n",
    "mkr_S_lbl_ = f7(mkr_S_lbl)"
   ]
  },
  {
   "cell_type": "code",
   "execution_count": null,
   "id": "11822fda-f9f1-411c-a0bc-8a3f1b3fca6f",
   "metadata": {},
   "outputs": [],
   "source": [
    "# Static\n",
    "mkrs_RIC_S = np.empty(mkr_S.shape[0])\n",
    "rot = np.array([[0,0,1],[0,1,0],[-1,0,0]]) # rotate markers 90 deg\n",
    "for m in range(len(mkr_S_lbl_)):\n",
    "    mkrs_RIC_S[3*m:3*m+3] = rot @ mkr_S[3*m:3*m+3]"
   ]
  },
  {
   "cell_type": "code",
   "execution_count": null,
   "id": "07ac5c14-e81d-4e83-9a8c-fd1370cbf913",
   "metadata": {},
   "outputs": [],
   "source": [
    "mkr_S = mkrs_RIC_S"
   ]
  },
  {
   "cell_type": "code",
   "execution_count": null,
   "id": "fba2c800-78e9-450c-9020-3b566cef6155",
   "metadata": {},
   "outputs": [],
   "source": [
    "from mpl_toolkits.mplot3d import Axes3D\n",
    "fig = plt.figure(figsize=(8, 10))\n",
    "ax = fig.add_subplot(111, projection='3d',  facecolor='white')\n",
    "#ax.view_init(15, 20)\n",
    "\n",
    "\n",
    "ax.scatter(mkr_S[0:-3:3], mkr_S[1:-2:3], mkr_S[2:-1:3], c='r', s=30, depthshade=False)\n",
    "for m, mkr_lbl in enumerate(mkr_S_lbl_):\n",
    "    ax.text(mkr_S[3*m], mkr_S[3*m+1], mkr_S[3*m+2], mkr_lbl)\n",
    "\n",
    "ax.set_xlim3d([np.nanmin(mkr_S[0::3])-.4, np.nanmax(mkr_S[0::3])+.4])\n",
    "ax.set_ylim3d([np.nanmin(mkr_S[1::3])-.4, np.nanmax(mkr_S[1::3])+.4])\n",
    "ax.set_zlim3d([np.nanmin(mkr_S[2::3]), np.nanmax(mkr_S[2::3])])\n",
    "ax.set_xlabel('\\n' + 'X [m]', linespacing=2)\n",
    "ax.set_ylabel('\\n' + 'Y [m]', linespacing=2)\n",
    "ax.set_zlabel('\\n' + 'Z [m]', linespacing=2)\n",
    "#ax.invert_yaxis()\n",
    "# square plot\n",
    "ax.set_aspect('equal', adjustable='box')\n",
    "plt.show()"
   ]
  },
  {
   "cell_type": "code",
   "execution_count": null,
   "id": "a9b1f098-89fa-453e-9110-3fd84b90afb5",
   "metadata": {},
   "outputs": [],
   "source": [
    "data_RIC_run = pd.DataFrame(data_RIC['running'])\n",
    "data_RIC_run.head()"
   ]
  },
  {
   "cell_type": "code",
   "execution_count": null,
   "id": "b8100e03",
   "metadata": {},
   "outputs": [],
   "source": []
  },
  {
   "cell_type": "code",
   "execution_count": null,
   "id": "415e4967",
   "metadata": {},
   "outputs": [],
   "source": []
  },
  {
   "cell_type": "code",
   "execution_count": null,
   "id": "8a2a88e1",
   "metadata": {},
   "outputs": [],
   "source": []
  },
  {
   "cell_type": "code",
   "execution_count": null,
   "id": "c5987c44-01da-458c-a1ef-cc07b632435b",
   "metadata": {},
   "outputs": [],
   "source": [
    "data_RIC_static.values.shape[1]/3"
   ]
  },
  {
   "cell_type": "code",
   "execution_count": null,
   "id": "24cb487e",
   "metadata": {},
   "outputs": [],
   "source": [
    "mkr_lbl = mkr_lbl_RIC_s+mkr_lbl_RIC_j"
   ]
  },
  {
   "cell_type": "code",
   "execution_count": null,
   "id": "9ea282bd-4699-42be-82a1-e8c040958644",
   "metadata": {},
   "outputs": [],
   "source": [
    "fig = plt.figure(figsize=(10,6))\n",
    "ax = plt.axes(projection='3d')\n",
    "\n",
    "mkr_lbl = mkr_lbl_RIC_s+mkr_lbl_RIC_j\n",
    "# Data for three-dimensional scattered points\n",
    "for i in range(len(mkr_lbl)):\n",
    "    ydata = data_RIC_static.values[0,3*i+1]\n",
    "    xdata = data_RIC_static.values[0,3*i]\n",
    "    zdata = data_RIC_static.values[0,3*i+2]\n",
    "    ax.scatter(xdata, zdata, ydata, c='b');\n",
    "    ax.text(xdata,zdata,ydata,  '%s' % (mkr_lbl[i]), size=5, zorder=1,  \n",
    "    color='k')\n",
    "ax.set_aspect('equal')"
   ]
  },
  {
   "cell_type": "code",
   "execution_count": null,
   "id": "0e867171-a17c-4438-9470-df2973ff197a",
   "metadata": {},
   "outputs": [],
   "source": [
    "from ordered_set import OrderedSet\n",
    "# RIC\n",
    "ls_RIC = df_s_RIC.columns.tolist()\n",
    "mkr_S_labels_RIC = list(OrderedSet([x[:-2].replace('.','_') for x in ls_RIC]))\n",
    "# RBDS\n",
    "ls = df_s_RBDS.columns.tolist()\n",
    "mkr_S_labels_RBDS = list(OrderedSet([x[:-2].replace('.','_') for x in ls]))"
   ]
  },
  {
   "cell_type": "markdown",
   "id": "6b39cc02",
   "metadata": {},
   "source": [
    "##### Running trial"
   ]
  },
  {
   "cell_type": "code",
   "execution_count": null,
   "id": "591be3c2",
   "metadata": {},
   "outputs": [],
   "source": [
    "data_RIC_run = pd.DataFrame(data_RIC['running'])\n",
    "data_RIC_run.head()"
   ]
  },
  {
   "cell_type": "code",
   "execution_count": null,
   "id": "722f96bf-dc4f-47e8-96a5-ee390a17bbd1",
   "metadata": {},
   "outputs": [],
   "source": []
  },
  {
   "cell_type": "code",
   "execution_count": null,
   "id": "32f2c126-b938-429b-b0f6-b4b4ce0401a0",
   "metadata": {},
   "outputs": [],
   "source": [
    "data_RIC = loadmat(os.path.join(data_dir, '20140515T133244_r.mat'))"
   ]
  },
  {
   "cell_type": "code",
   "execution_count": null,
   "id": "6a58fc35-54e2-4f7e-aba8-a1acfae9963e",
   "metadata": {},
   "outputs": [],
   "source": [
    "data_RIC['r_angles'].keys()"
   ]
  },
  {
   "cell_type": "code",
   "execution_count": null,
   "id": "19d753a8",
   "metadata": {
    "colab": {
     "base_uri": "https://localhost:8080/",
     "height": 331
    },
    "executionInfo": {
     "elapsed": 14,
     "status": "ok",
     "timestamp": 1674159319642,
     "user": {
      "displayName": "Reginaldo Fukuchi",
      "userId": "10593265862496095759"
     },
     "user_tz": 420
    },
    "id": "19d753a8",
    "outputId": "f8ac6db5-1787-4c71-f55c-7ae597028cb9"
   },
   "outputs": [],
   "source": [
    "df_s.head()"
   ]
  },
  {
   "cell_type": "markdown",
   "id": "204ed75b",
   "metadata": {
    "id": "204ed75b"
   },
   "source": [
    "# Running data"
   ]
  },
  {
   "cell_type": "code",
   "execution_count": null,
   "id": "eee59978",
   "metadata": {
    "id": "eee59978"
   },
   "outputs": [],
   "source": [
    "df_r = pd.read_csv(fname_out_R, delimiter=',', index_col='Time')"
   ]
  },
  {
   "cell_type": "code",
   "execution_count": null,
   "id": "3d34321d",
   "metadata": {
    "colab": {
     "base_uri": "https://localhost:8080/",
     "height": 331
    },
    "executionInfo": {
     "elapsed": 181,
     "status": "ok",
     "timestamp": 1674108309965,
     "user": {
      "displayName": "Reginaldo Fukuchi",
      "userId": "10593265862496095759"
     },
     "user_tz": 420
    },
    "id": "3d34321d",
    "outputId": "4521de77-e0f3-4dee-e772-4edcb12e66c6"
   },
   "outputs": [],
   "source": [
    "df_r.head()"
   ]
  },
  {
   "cell_type": "markdown",
   "id": "MuxNlREwtYnK",
   "metadata": {
    "id": "MuxNlREwtYnK"
   },
   "source": [
    "## Gait events (TD and TO)\n",
    "These gait events were detected in another NB (RIC_RBDS_gait_events_detection.ipynb) using the method of Zeni."
   ]
  },
  {
   "cell_type": "code",
   "execution_count": null,
   "id": "Ow4-v4AvteRK",
   "metadata": {
    "id": "Ow4-v4AvteRK"
   },
   "outputs": [],
   "source": [
    "LAB = np.array([[1,0,0],[0,1,0],[0,0,1]])"
   ]
  },
  {
   "cell_type": "code",
   "execution_count": null,
   "id": "I7-_B88puDxK",
   "metadata": {
    "id": "I7-_B88puDxK"
   },
   "outputs": [],
   "source": [
    "def td_detect(LAB, RHEDr, RTOEr, bp):\n",
    "  \"\"\"\n",
    "  Detect gait events using the method described by Zeni et al. ()\n",
    "  \"\"\"\n",
    "  import sys\n",
    "  sys.path.insert(1, os.path.join(drive_root,'functions'))\n",
    "  from svdt import svdt\n",
    "  from detecta import detect_peaks\n",
    "\n",
    "  # Global to local transformation to obtain rotation and translation matrix\n",
    "  Rp, Lp, RMSEp = svdt(LAB, bp)\n",
    "\n",
    "  # Express the RTOE and RHEEL markers in the pelvis segment\n",
    "  RHEDr_pelvis = np.empty(shape=RHEDr.shape)\n",
    "  RTOEr_pelvis = np.empty(shape=RTOEr.shape)\n",
    "  for ix in range(RHEDr.shape[0]):\n",
    "    RHEDr_pelvis[ix,:] = np.dot(Rp[ix,:,:],RHEDr[ix,:]) + Lp[ix,:]\n",
    "    RTOEr_pelvis[ix,:] = np.dot(Rp[ix,:,:],RTOEr[ix,:]) + Lp[ix,:]\n",
    "\n",
    "  # Find touch-down time stamps\n",
    "  iTD = detect_peaks(RHEDr_pelvis[:,0], mph=None, mpd=70, valley=False, show=False)\n",
    "\n",
    "  return iTD"
   ]
  },
  {
   "cell_type": "code",
   "execution_count": null,
   "id": "Su9la1Yo1XCt",
   "metadata": {
    "id": "Su9la1Yo1XCt"
   },
   "outputs": [],
   "source": [
    "  bp = np.empty(shape=(RTOEr.shape[0],9))\n",
    "  for ix in range(RHEDr.shape[0]):\n",
    "    # Pelvis basis\n",
    "    pp = pelvisCS(RASIr[i,:], LASIr[i,:], VSACr[i,:])\n",
    "    bp[ix,:] = pp.reshape((9,))"
   ]
  },
  {
   "cell_type": "code",
   "execution_count": null,
   "id": "VgaLopQmvgyK",
   "metadata": {
    "id": "VgaLopQmvgyK"
   },
   "outputs": [],
   "source": [
    "iTD = td_detect(LAB, RHEDr, RTOEr, bp)"
   ]
  },
  {
   "cell_type": "markdown",
   "id": "30734d61",
   "metadata": {
    "id": "30734d61"
   },
   "source": [
    "## Calculate knee joint angle according to Grood & Suntay (1983)"
   ]
  },
  {
   "cell_type": "code",
   "execution_count": null,
   "id": "c26c672c",
   "metadata": {
    "id": "c26c672c"
   },
   "outputs": [],
   "source": [
    "def hipang(p_hip_rf, d_hip_rf):\n",
    "    \"\"\"\n",
    "    Calculate 3D hip joint angle in degrees\n",
    "    \"\"\"\n",
    "    bp = p_hip_rf\n",
    "    bt = d_hip_rf\n",
    "    angh = np.empty(shape=(3,))\n",
    "    yh = bt[1,:];\n",
    "    zh = bp[2,:];\n",
    "    fh = np.cross(yh,zh); #floating axis\n",
    "    fh = fh/np.linalg.norm(fh)\n",
    "    bh =np.array([fh, yh, zh]);\n",
    "    zt_t = bt[2,:];\n",
    "    \n",
    "    # knee angle\n",
    "    angh[0] = (np.pi/2 - np.arccos(np.sum(bp[1]*fh)))*180/np.pi # Flexion/Extension\n",
    "    angh[1] = (-np.pi/2 - np.arccos(np.sum(yh*bp[2])))*180/np.pi + 180 #Abduction/aduction\n",
    "    angh[2] = (np.pi/2 - np.arccos(np.sum(zt_t*fh)))*180/np.pi #Internal/external rotation\n",
    "    \n",
    "    return angh"
   ]
  },
  {
   "cell_type": "code",
   "execution_count": null,
   "id": "660b9913",
   "metadata": {
    "id": "660b9913"
   },
   "outputs": [],
   "source": [
    "def kneeang(proxrf, distalrf):\n",
    "    \"\"\"\n",
    "    Calculate 3D knee joint angle in degrees\n",
    "    \"\"\"\n",
    "    angk = np.empty(shape=(3,))\n",
    "    proxrf = bt\n",
    "    distalrf = bs\n",
    "    yk = bs[1,:];\n",
    "    zk = bt[2,:];\n",
    "    fk = np.cross(yk,zk); #floating axis\n",
    "    fk = fk/np.linalg.norm(fk)\n",
    "    bk =np.array([fk, yk, zk]);\n",
    "    zs_t = bs[2,:];\n",
    "    \n",
    "    # knee angle\n",
    "    angk[0] = -(np.pi/2 - np.arccos(np.sum(bt[1]*fk)))*180/np.pi # Flexion/Extension\n",
    "    angk[1] = (-np.pi/2 - np.arccos(np.sum(yk*bt[2])))*180/np.pi + 180 #Abduction/aduction\n",
    "    angk[2] = (np.pi/2 - np.arccos(np.sum(zs_t*fk)))*180/np.pi #Internal/external rotation\n",
    "    \n",
    "    return angk"
   ]
  },
  {
   "cell_type": "code",
   "execution_count": null,
   "id": "57f48095",
   "metadata": {
    "id": "57f48095"
   },
   "outputs": [],
   "source": [
    "def ankleang(p_ank_rf, d_ank_rf):\n",
    "    \"\"\"\n",
    "    Calculate 3D ankle joint angle in degrees\n",
    "    \"\"\"\n",
    "    bs = p_ank_rf\n",
    "    bf = d_ank_rf\n",
    "    anga = np.empty(shape=(3,))\n",
    "    ya = bf[1,:];\n",
    "    za = bs[2,:];\n",
    "    fa = np.cross(ya,za); #floating axis\n",
    "    fa = fa/np.linalg.norm(fa)\n",
    "    ba =np.array([fa, ya, za]);\n",
    "    \n",
    "    # knee angle\n",
    "    anga[0] = (np.pi/2 - np.arccos(np.sum(bs[1]*fa)))*180/np.pi # Flexion/Extension\n",
    "    anga[1] = (-np.pi/2 - np.arccos(np.sum(ya*bs[2])))*180/np.pi + 180 #Abduction/aduction\n",
    "    anga[2] = (np.pi/2 - np.arccos(np.sum(bf[2]*fa)))*180/np.pi #Internal/external rotation\n",
    "    \n",
    "    return anga"
   ]
  },
  {
   "cell_type": "markdown",
   "id": "93e2c865",
   "metadata": {
    "id": "93e2c865"
   },
   "source": [
    "### Joint angles during running"
   ]
  },
  {
   "cell_type": "code",
   "execution_count": null,
   "id": "cbc01301",
   "metadata": {
    "id": "cbc01301"
   },
   "outputs": [],
   "source": [
    "angh_r = np.empty(shape=(rkjc_R.shape[0],3))\n",
    "angk_r = np.empty(shape=(rkjc_R.shape[0],3))\n",
    "anga_r = np.empty(shape=(rkjc_R.shape[0],3))\n",
    "for i in range(rkjc_R.shape[0]):\n",
    "    bp = pelvisCS(RASIr[i,:],LASIr[i,:],VSACr[i,:])\n",
    "    bt = thighCS(rhjc_R[i,:],rkjc_R[i,:],RKNLr[i,:])\n",
    "    bs = shankCS(rkjc_R[i,:],rajc_R[i,:],RMALr[i,:])\n",
    "    bf = footCS(RHEDr[i,:], RMH1r[i,:], RMH5r[i,:], RTOEr[i,:])\n",
    "    # Hip angle\n",
    "    angh_r[i,:] = hipang(bp, bt)\n",
    "    # Knee angle\n",
    "    angk_r[i,:] = kneeang(bt, bs)\n",
    "    # Ankle angle\n",
    "    anga_r[i,:] = ankleang(bs, bf)"
   ]
  },
  {
   "cell_type": "code",
   "execution_count": null,
   "id": "63b498ab",
   "metadata": {
    "id": "63b498ab"
   },
   "outputs": [],
   "source": [
    "time = df_r.index.values"
   ]
  },
  {
   "cell_type": "markdown",
   "id": "72c8ec33",
   "metadata": {
    "id": "72c8ec33"
   },
   "source": [
    "## Ensemble average curve using tnorma"
   ]
  },
  {
   "cell_type": "code",
   "execution_count": null,
   "id": "oGwWaxbu-rps",
   "metadata": {
    "id": "oGwWaxbu-rps"
   },
   "outputs": [],
   "source": [
    "# When running for the first time in a given computer\n",
    "#fc_path = r'/content/drive/MyDrive/Github/UFABC_UofC_datasets/functions'\n",
    "#!pip install --target=$fc_path detecta\n",
    "#!pip install --target=$fc_path tnorma"
   ]
  },
  {
   "cell_type": "code",
   "execution_count": null,
   "id": "e5389e0a",
   "metadata": {
    "id": "e5389e0a"
   },
   "outputs": [],
   "source": [
    "from tnorma import tnorma"
   ]
  },
  {
   "cell_type": "code",
   "execution_count": null,
   "id": "ea255621",
   "metadata": {
    "id": "ea255621"
   },
   "outputs": [],
   "source": [
    "ang_hip = np.empty(shape=(101,iTD.shape[0]-1,3))\n",
    "ang_knee= np.empty(shape=(101,iTD.shape[0]-1,3))\n",
    "for i in range(iTD.shape[0]-1):\n",
    "    ang_hip[:,i,:], tn, indie = tnorma(angh_r[iTD[i]:iTD[i+1],:], k=1, \n",
    "                                       smooth=0, mask=None, show=False)\n",
    "    ang_knee[:,i,:], tn, indie= tnorma(angk_r[iTD[i]:iTD[i+1],:], k=1, \n",
    "                                       smooth=0, mask=None, show=False)"
   ]
  },
  {
   "cell_type": "markdown",
   "id": "7d3f3863",
   "metadata": {
    "id": "7d3f3863"
   },
   "source": [
    "# RIC and RBDS data"
   ]
  },
  {
   "cell_type": "markdown",
   "id": "a05eb357",
   "metadata": {
    "id": "a05eb357"
   },
   "source": [
    "ang_hipM_RIC = np.mean(ang_hip, axis=1)\n",
    "ang_kneeM_RIC= np.mean(ang_knee, axis=1)"
   ]
  },
  {
   "cell_type": "code",
   "execution_count": null,
   "id": "3428e43c",
   "metadata": {
    "id": "3428e43c"
   },
   "outputs": [],
   "source": [
    "ang_hipM_RBDS = np.mean(ang_hip, axis=1)\n",
    "ang_kneeM_RBDS= np.mean(ang_knee, axis=1)"
   ]
  },
  {
   "cell_type": "code",
   "execution_count": null,
   "id": "9BPS3ob2A5HG",
   "metadata": {
    "id": "9BPS3ob2A5HG"
   },
   "outputs": [],
   "source": []
  },
  {
   "cell_type": "code",
   "execution_count": null,
   "id": "0d0c32d8",
   "metadata": {
    "colab": {
     "base_uri": "https://localhost:8080/",
     "height": 417
    },
    "executionInfo": {
     "elapsed": 368,
     "status": "ok",
     "timestamp": 1674112082357,
     "user": {
      "displayName": "Reginaldo Fukuchi",
      "userId": "10593265862496095759"
     },
     "user_tz": 420
    },
    "id": "0d0c32d8",
    "outputId": "80024844-b150-4d15-e33b-4b9aad9465b4"
   },
   "outputs": [],
   "source": [
    "fig, axs = plt.subplots(2, figsize=(10,6))\n",
    "fig.suptitle('Join angles')\n",
    "axs[0].plot(tn,ang_hipM_RBDS[:,0],'b')\n",
    "axs[0].set_title('RBDS')\n",
    "axs[0].set_ylabel('Hip Flexion')\n",
    "axs[1].plot(tn,ang_kneeM_RBDS[:,0],'b')\n",
    "axs[1].set_title('RBDS')\n",
    "axs[1].set_ylabel('Knee Flexion')\n",
    "plt.show()"
   ]
  },
  {
   "cell_type": "markdown",
   "id": "b995a2e4",
   "metadata": {
    "id": "b995a2e4"
   },
   "source": [
    "# References\n",
    "* Fukuchi RK, Fukuchi CA, Duarte M. 2017. A public dataset of running biomechanics and the effects of running speed on lower extremity kinematics and kinetics. PeerJ 5:e3298 https://doi.org/10.7717/peerj.3298\n",
    "* Ferber et al. (in preparation). WeTrac 3D gait data set."
   ]
  },
  {
   "cell_type": "markdown",
   "id": "T8EjwulCES6t",
   "metadata": {
    "id": "T8EjwulCES6t"
   },
   "source": [
    "# Commit changes and push them to GitHub repository"
   ]
  },
  {
   "cell_type": "code",
   "execution_count": null,
   "id": "747867f1",
   "metadata": {
    "id": "747867f1"
   },
   "outputs": [],
   "source": [
    "!git status"
   ]
  },
  {
   "cell_type": "code",
   "execution_count": null,
   "id": "OOIwOyRqC7n7",
   "metadata": {
    "colab": {
     "base_uri": "https://localhost:8080/"
    },
    "executionInfo": {
     "elapsed": 9731,
     "status": "ok",
     "timestamp": 1674112183166,
     "user": {
      "displayName": "Reginaldo Fukuchi",
      "userId": "10593265862496095759"
     },
     "user_tz": 420
    },
    "id": "OOIwOyRqC7n7",
    "outputId": "5be04feb-7fd3-425a-e5af-b35612aa727a"
   },
   "outputs": [],
   "source": [
    "!git add ."
   ]
  },
  {
   "cell_type": "code",
   "execution_count": null,
   "id": "ZVC9xcR23W1P",
   "metadata": {
    "id": "ZVC9xcR23W1P"
   },
   "outputs": [],
   "source": [
    "!git config --global user.email \"reginaldo.fukuchi@gmail.com\""
   ]
  },
  {
   "cell_type": "code",
   "execution_count": null,
   "id": "BeMEh2l83dnM",
   "metadata": {
    "id": "BeMEh2l83dnM"
   },
   "outputs": [],
   "source": [
    "!git config --global user.name \"regifukuchi\""
   ]
  },
  {
   "cell_type": "code",
   "execution_count": null,
   "id": "7CQzcqBJ3IRI",
   "metadata": {
    "colab": {
     "base_uri": "https://localhost:8080/"
    },
    "executionInfo": {
     "elapsed": 3794,
     "status": "ok",
     "timestamp": 1674112285923,
     "user": {
      "displayName": "Reginaldo Fukuchi",
      "userId": "10593265862496095759"
     },
     "user_tz": 420
    },
    "id": "7CQzcqBJ3IRI",
    "outputId": "64da4ef5-18f3-4342-d66c-0baf16764dcb"
   },
   "outputs": [],
   "source": [
    "!git commit -m \"Modified RIC_RBDS_calculate_angles.ipynb\""
   ]
  },
  {
   "cell_type": "code",
   "execution_count": null,
   "id": "TcH7qAd93OQs",
   "metadata": {
    "colab": {
     "base_uri": "https://localhost:8080/"
    },
    "executionInfo": {
     "elapsed": 3813,
     "status": "ok",
     "timestamp": 1674112298073,
     "user": {
      "displayName": "Reginaldo Fukuchi",
      "userId": "10593265862496095759"
     },
     "user_tz": 420
    },
    "id": "TcH7qAd93OQs",
    "outputId": "5b062a4b-8344-4947-fed9-b18b047d7344"
   },
   "outputs": [],
   "source": [
    "!git push"
   ]
  },
  {
   "cell_type": "code",
   "execution_count": null,
   "id": "AOjck9TB3lxd",
   "metadata": {
    "id": "AOjck9TB3lxd"
   },
   "outputs": [],
   "source": []
  }
 ],
 "metadata": {
  "colab": {
   "provenance": [
    {
     "file_id": "12cMzkzht_DrNbMajHNFx3Y6Po5slfdL0",
     "timestamp": 1674079422386
    }
   ]
  },
  "kernelspec": {
   "display_name": "Python 3 (ipykernel)",
   "language": "python",
   "name": "python3"
  },
  "language_info": {
   "codemirror_mode": {
    "name": "ipython",
    "version": 3
   },
   "file_extension": ".py",
   "mimetype": "text/x-python",
   "name": "python",
   "nbconvert_exporter": "python",
   "pygments_lexer": "ipython3",
   "version": "3.9.16"
  }
 },
 "nbformat": 4,
 "nbformat_minor": 5
}
