{
 "cells": [
  {
   "cell_type": "markdown",
   "id": "b12e57ac",
   "metadata": {},
   "source": [
    "# Comparison of RIC and RBDS marker set protocol\n",
    "\n",
    "Reginaldo K Fukuchi, Jan 2023, reginaldo.fukuchi@ufabc.edu.br\n",
    "\n",
    "This NB compares the marker set protocols employed by the Running Injury Clinic (during my PhD work) and the RBDS study."
   ]
  },
  {
   "cell_type": "code",
   "execution_count": 1,
   "id": "7f4e9cc6",
   "metadata": {},
   "outputs": [],
   "source": [
    "# Prepare environment\n",
    "import os\n",
    "import scipy.io as spio\n",
    "import numpy as np\n",
    "import pandas as pd\n",
    "import seaborn as sns\n",
    "import matplotlib.pyplot as plt\n",
    "%matplotlib notebook"
   ]
  },
  {
   "cell_type": "code",
   "execution_count": 2,
   "id": "0a83576f",
   "metadata": {},
   "outputs": [],
   "source": [
    "# Import data\n",
    "pathname = r'../data'"
   ]
  },
  {
   "cell_type": "markdown",
   "id": "5a40dae9",
   "metadata": {},
   "source": [
    "## RBDS data set"
   ]
  },
  {
   "cell_type": "code",
   "execution_count": 3,
   "id": "e91fab1a",
   "metadata": {},
   "outputs": [],
   "source": [
    "fname_out_RBDS = os.path.join(pathname, 'RBDS_static.csv')\n",
    "df_s_RBDS = pd.read_csv(fname_out_RBDS, delimiter=',', index_col='Time')"
   ]
  },
  {
   "cell_type": "code",
   "execution_count": 4,
   "id": "2f86dfbd",
   "metadata": {},
   "outputs": [
    {
     "data": {
      "text/html": [
       "<div>\n",
       "<style scoped>\n",
       "    .dataframe tbody tr th:only-of-type {\n",
       "        vertical-align: middle;\n",
       "    }\n",
       "\n",
       "    .dataframe tbody tr th {\n",
       "        vertical-align: top;\n",
       "    }\n",
       "\n",
       "    .dataframe thead th {\n",
       "        text-align: right;\n",
       "    }\n",
       "</style>\n",
       "<table border=\"1\" class=\"dataframe\">\n",
       "  <thead>\n",
       "    <tr style=\"text-align: right;\">\n",
       "      <th></th>\n",
       "      <th>L.Ankle_X</th>\n",
       "      <th>L.Ankle_Y</th>\n",
       "      <th>L.Ankle_Z</th>\n",
       "      <th>L.Ankle.Medial_X</th>\n",
       "      <th>L.Ankle.Medial_Y</th>\n",
       "      <th>L.Ankle.Medial_Z</th>\n",
       "      <th>L.ASIS_X</th>\n",
       "      <th>L.ASIS_Y</th>\n",
       "      <th>L.ASIS_Z</th>\n",
       "      <th>L.GTR_X</th>\n",
       "      <th>...</th>\n",
       "      <th>R.Thigh.Bottom.Medial_Z</th>\n",
       "      <th>R.Thigh.Top.Lateral_X</th>\n",
       "      <th>R.Thigh.Top.Lateral_Y</th>\n",
       "      <th>R.Thigh.Top.Lateral_Z</th>\n",
       "      <th>R.Thigh.Top.Medial_X</th>\n",
       "      <th>R.Thigh.Top.Medial_Y</th>\n",
       "      <th>R.Thigh.Top.Medial_Z</th>\n",
       "      <th>R.TT_X</th>\n",
       "      <th>R.TT_Y</th>\n",
       "      <th>R.TT_Z</th>\n",
       "    </tr>\n",
       "    <tr>\n",
       "      <th>Time</th>\n",
       "      <th></th>\n",
       "      <th></th>\n",
       "      <th></th>\n",
       "      <th></th>\n",
       "      <th></th>\n",
       "      <th></th>\n",
       "      <th></th>\n",
       "      <th></th>\n",
       "      <th></th>\n",
       "      <th></th>\n",
       "      <th></th>\n",
       "      <th></th>\n",
       "      <th></th>\n",
       "      <th></th>\n",
       "      <th></th>\n",
       "      <th></th>\n",
       "      <th></th>\n",
       "      <th></th>\n",
       "      <th></th>\n",
       "      <th></th>\n",
       "      <th></th>\n",
       "    </tr>\n",
       "  </thead>\n",
       "  <tbody>\n",
       "    <tr>\n",
       "      <th>0.000000</th>\n",
       "      <td>705.062866</td>\n",
       "      <td>108.774330</td>\n",
       "      <td>1050.909424</td>\n",
       "      <td>725.535095</td>\n",
       "      <td>119.272575</td>\n",
       "      <td>1129.002441</td>\n",
       "      <td>876.648743</td>\n",
       "      <td>1067.346436</td>\n",
       "      <td>1126.366577</td>\n",
       "      <td>799.197205</td>\n",
       "      <td>...</td>\n",
       "      <td>1345.514282</td>\n",
       "      <td>725.082825</td>\n",
       "      <td>761.838928</td>\n",
       "      <td>1398.587158</td>\n",
       "      <td>676.568359</td>\n",
       "      <td>760.431702</td>\n",
       "      <td>1347.822632</td>\n",
       "      <td>780.426636</td>\n",
       "      <td>462.710876</td>\n",
       "      <td>1343.646973</td>\n",
       "    </tr>\n",
       "    <tr>\n",
       "      <th>0.006711</th>\n",
       "      <td>705.066833</td>\n",
       "      <td>108.766876</td>\n",
       "      <td>1050.910889</td>\n",
       "      <td>725.530396</td>\n",
       "      <td>119.266960</td>\n",
       "      <td>1129.005005</td>\n",
       "      <td>876.686035</td>\n",
       "      <td>1067.344360</td>\n",
       "      <td>1126.387573</td>\n",
       "      <td>799.232788</td>\n",
       "      <td>...</td>\n",
       "      <td>1345.495483</td>\n",
       "      <td>725.089050</td>\n",
       "      <td>761.827515</td>\n",
       "      <td>1398.581421</td>\n",
       "      <td>676.584167</td>\n",
       "      <td>760.432800</td>\n",
       "      <td>1347.808350</td>\n",
       "      <td>780.445190</td>\n",
       "      <td>462.712555</td>\n",
       "      <td>1343.645752</td>\n",
       "    </tr>\n",
       "    <tr>\n",
       "      <th>0.013423</th>\n",
       "      <td>705.065430</td>\n",
       "      <td>108.771133</td>\n",
       "      <td>1050.902832</td>\n",
       "      <td>725.532959</td>\n",
       "      <td>119.267067</td>\n",
       "      <td>1129.006104</td>\n",
       "      <td>876.736938</td>\n",
       "      <td>1067.349854</td>\n",
       "      <td>1126.407471</td>\n",
       "      <td>799.294189</td>\n",
       "      <td>...</td>\n",
       "      <td>1345.485840</td>\n",
       "      <td>725.094055</td>\n",
       "      <td>761.832520</td>\n",
       "      <td>1398.583130</td>\n",
       "      <td>676.592529</td>\n",
       "      <td>760.428711</td>\n",
       "      <td>1347.793579</td>\n",
       "      <td>780.457764</td>\n",
       "      <td>462.725372</td>\n",
       "      <td>1343.636353</td>\n",
       "    </tr>\n",
       "    <tr>\n",
       "      <th>0.020134</th>\n",
       "      <td>705.067078</td>\n",
       "      <td>108.770615</td>\n",
       "      <td>1050.907104</td>\n",
       "      <td>725.535950</td>\n",
       "      <td>119.267815</td>\n",
       "      <td>1129.002930</td>\n",
       "      <td>876.780396</td>\n",
       "      <td>1067.346436</td>\n",
       "      <td>1126.431274</td>\n",
       "      <td>799.340088</td>\n",
       "      <td>...</td>\n",
       "      <td>1345.468140</td>\n",
       "      <td>725.094055</td>\n",
       "      <td>761.823364</td>\n",
       "      <td>1398.575684</td>\n",
       "      <td>676.612793</td>\n",
       "      <td>760.425476</td>\n",
       "      <td>1347.788452</td>\n",
       "      <td>780.471008</td>\n",
       "      <td>462.721649</td>\n",
       "      <td>1343.632812</td>\n",
       "    </tr>\n",
       "    <tr>\n",
       "      <th>0.026846</th>\n",
       "      <td>705.060730</td>\n",
       "      <td>108.771179</td>\n",
       "      <td>1050.905151</td>\n",
       "      <td>725.534241</td>\n",
       "      <td>119.267807</td>\n",
       "      <td>1129.004883</td>\n",
       "      <td>876.821350</td>\n",
       "      <td>1067.347900</td>\n",
       "      <td>1126.442627</td>\n",
       "      <td>799.390625</td>\n",
       "      <td>...</td>\n",
       "      <td>1345.458984</td>\n",
       "      <td>725.103516</td>\n",
       "      <td>761.824829</td>\n",
       "      <td>1398.569946</td>\n",
       "      <td>676.621399</td>\n",
       "      <td>760.423767</td>\n",
       "      <td>1347.771729</td>\n",
       "      <td>780.485840</td>\n",
       "      <td>462.709076</td>\n",
       "      <td>1343.625610</td>\n",
       "    </tr>\n",
       "  </tbody>\n",
       "</table>\n",
       "<p>5 rows × 144 columns</p>\n",
       "</div>"
      ],
      "text/plain": [
       "           L.Ankle_X   L.Ankle_Y    L.Ankle_Z  L.Ankle.Medial_X  \\\n",
       "Time                                                              \n",
       "0.000000  705.062866  108.774330  1050.909424        725.535095   \n",
       "0.006711  705.066833  108.766876  1050.910889        725.530396   \n",
       "0.013423  705.065430  108.771133  1050.902832        725.532959   \n",
       "0.020134  705.067078  108.770615  1050.907104        725.535950   \n",
       "0.026846  705.060730  108.771179  1050.905151        725.534241   \n",
       "\n",
       "          L.Ankle.Medial_Y  L.Ankle.Medial_Z    L.ASIS_X     L.ASIS_Y  \\\n",
       "Time                                                                    \n",
       "0.000000        119.272575       1129.002441  876.648743  1067.346436   \n",
       "0.006711        119.266960       1129.005005  876.686035  1067.344360   \n",
       "0.013423        119.267067       1129.006104  876.736938  1067.349854   \n",
       "0.020134        119.267815       1129.002930  876.780396  1067.346436   \n",
       "0.026846        119.267807       1129.004883  876.821350  1067.347900   \n",
       "\n",
       "             L.ASIS_Z     L.GTR_X  ...  R.Thigh.Bottom.Medial_Z  \\\n",
       "Time                               ...                            \n",
       "0.000000  1126.366577  799.197205  ...              1345.514282   \n",
       "0.006711  1126.387573  799.232788  ...              1345.495483   \n",
       "0.013423  1126.407471  799.294189  ...              1345.485840   \n",
       "0.020134  1126.431274  799.340088  ...              1345.468140   \n",
       "0.026846  1126.442627  799.390625  ...              1345.458984   \n",
       "\n",
       "          R.Thigh.Top.Lateral_X  R.Thigh.Top.Lateral_Y  R.Thigh.Top.Lateral_Z  \\\n",
       "Time                                                                            \n",
       "0.000000             725.082825             761.838928            1398.587158   \n",
       "0.006711             725.089050             761.827515            1398.581421   \n",
       "0.013423             725.094055             761.832520            1398.583130   \n",
       "0.020134             725.094055             761.823364            1398.575684   \n",
       "0.026846             725.103516             761.824829            1398.569946   \n",
       "\n",
       "          R.Thigh.Top.Medial_X  R.Thigh.Top.Medial_Y  R.Thigh.Top.Medial_Z  \\\n",
       "Time                                                                         \n",
       "0.000000            676.568359            760.431702           1347.822632   \n",
       "0.006711            676.584167            760.432800           1347.808350   \n",
       "0.013423            676.592529            760.428711           1347.793579   \n",
       "0.020134            676.612793            760.425476           1347.788452   \n",
       "0.026846            676.621399            760.423767           1347.771729   \n",
       "\n",
       "              R.TT_X      R.TT_Y       R.TT_Z  \n",
       "Time                                           \n",
       "0.000000  780.426636  462.710876  1343.646973  \n",
       "0.006711  780.445190  462.712555  1343.645752  \n",
       "0.013423  780.457764  462.725372  1343.636353  \n",
       "0.020134  780.471008  462.721649  1343.632812  \n",
       "0.026846  780.485840  462.709076  1343.625610  \n",
       "\n",
       "[5 rows x 144 columns]"
      ]
     },
     "execution_count": 4,
     "metadata": {},
     "output_type": "execute_result"
    }
   ],
   "source": [
    "df_s_RBDS.head()"
   ]
  },
  {
   "cell_type": "markdown",
   "id": "700d0b35",
   "metadata": {},
   "source": [
    "## RIC data set"
   ]
  },
  {
   "cell_type": "code",
   "execution_count": 5,
   "id": "18859925",
   "metadata": {},
   "outputs": [],
   "source": [
    "fname_out_RIC = os.path.join(pathname, 'RIC_static.csv')\n",
    "df_s_RIC = pd.read_csv(fname_out_RIC, delimiter=',', index_col='Time')"
   ]
  },
  {
   "cell_type": "code",
   "execution_count": 6,
   "id": "46087399",
   "metadata": {
    "scrolled": true
   },
   "outputs": [
    {
     "data": {
      "text/html": [
       "<div>\n",
       "<style scoped>\n",
       "    .dataframe tbody tr th:only-of-type {\n",
       "        vertical-align: middle;\n",
       "    }\n",
       "\n",
       "    .dataframe tbody tr th {\n",
       "        vertical-align: top;\n",
       "    }\n",
       "\n",
       "    .dataframe thead th {\n",
       "        text-align: right;\n",
       "    }\n",
       "</style>\n",
       "<table border=\"1\" class=\"dataframe\">\n",
       "  <thead>\n",
       "    <tr style=\"text-align: right;\">\n",
       "      <th></th>\n",
       "      <th>RIC_X</th>\n",
       "      <th>RIC_Y</th>\n",
       "      <th>RIC_Z</th>\n",
       "      <th>LIC_X</th>\n",
       "      <th>LIC_Y</th>\n",
       "      <th>LIC_Z</th>\n",
       "      <th>RASI_X</th>\n",
       "      <th>RASI_Y</th>\n",
       "      <th>RASI_Z</th>\n",
       "      <th>LASI_X</th>\n",
       "      <th>...</th>\n",
       "      <th>LELB_Z</th>\n",
       "      <th>LW_X</th>\n",
       "      <th>LW_Y</th>\n",
       "      <th>LW_Z</th>\n",
       "      <th>RBAK_X</th>\n",
       "      <th>RBAK_Y</th>\n",
       "      <th>RBAK_Z</th>\n",
       "      <th>RARM_X</th>\n",
       "      <th>RARM_Y</th>\n",
       "      <th>RARM_Z</th>\n",
       "    </tr>\n",
       "    <tr>\n",
       "      <th>Time</th>\n",
       "      <th></th>\n",
       "      <th></th>\n",
       "      <th></th>\n",
       "      <th></th>\n",
       "      <th></th>\n",
       "      <th></th>\n",
       "      <th></th>\n",
       "      <th></th>\n",
       "      <th></th>\n",
       "      <th></th>\n",
       "      <th></th>\n",
       "      <th></th>\n",
       "      <th></th>\n",
       "      <th></th>\n",
       "      <th></th>\n",
       "      <th></th>\n",
       "      <th></th>\n",
       "      <th></th>\n",
       "      <th></th>\n",
       "      <th></th>\n",
       "      <th></th>\n",
       "    </tr>\n",
       "  </thead>\n",
       "  <tbody>\n",
       "    <tr>\n",
       "      <th>0.000000</th>\n",
       "      <td>690.302979</td>\n",
       "      <td>-24.144964</td>\n",
       "      <td>1186.501953</td>\n",
       "      <td>358.820160</td>\n",
       "      <td>-45.394676</td>\n",
       "      <td>1193.250000</td>\n",
       "      <td>651.372681</td>\n",
       "      <td>58.366940</td>\n",
       "      <td>1110.803223</td>\n",
       "      <td>382.157990</td>\n",
       "      <td>...</td>\n",
       "      <td>1292.336060</td>\n",
       "      <td>145.004547</td>\n",
       "      <td>217.815277</td>\n",
       "      <td>1287.846191</td>\n",
       "      <td>651.696716</td>\n",
       "      <td>-161.044846</td>\n",
       "      <td>1530.513916</td>\n",
       "      <td>813.931702</td>\n",
       "      <td>-37.805531</td>\n",
       "      <td>1399.390259</td>\n",
       "    </tr>\n",
       "    <tr>\n",
       "      <th>0.005025</th>\n",
       "      <td>690.303223</td>\n",
       "      <td>-24.149342</td>\n",
       "      <td>1186.498047</td>\n",
       "      <td>358.869385</td>\n",
       "      <td>-45.349300</td>\n",
       "      <td>1193.242920</td>\n",
       "      <td>651.432922</td>\n",
       "      <td>58.410744</td>\n",
       "      <td>1110.811401</td>\n",
       "      <td>382.105377</td>\n",
       "      <td>...</td>\n",
       "      <td>1292.380859</td>\n",
       "      <td>144.968643</td>\n",
       "      <td>217.842819</td>\n",
       "      <td>1287.799316</td>\n",
       "      <td>651.692810</td>\n",
       "      <td>-160.978165</td>\n",
       "      <td>1530.546875</td>\n",
       "      <td>813.946045</td>\n",
       "      <td>-37.799965</td>\n",
       "      <td>1399.384399</td>\n",
       "    </tr>\n",
       "    <tr>\n",
       "      <th>0.010050</th>\n",
       "      <td>690.303345</td>\n",
       "      <td>-24.149654</td>\n",
       "      <td>1186.497803</td>\n",
       "      <td>358.778748</td>\n",
       "      <td>-45.391197</td>\n",
       "      <td>1193.255859</td>\n",
       "      <td>651.415833</td>\n",
       "      <td>58.387333</td>\n",
       "      <td>1110.797974</td>\n",
       "      <td>382.088013</td>\n",
       "      <td>...</td>\n",
       "      <td>1292.387207</td>\n",
       "      <td>144.960144</td>\n",
       "      <td>217.844437</td>\n",
       "      <td>1287.835938</td>\n",
       "      <td>651.693420</td>\n",
       "      <td>-161.020508</td>\n",
       "      <td>1530.567261</td>\n",
       "      <td>813.948242</td>\n",
       "      <td>-37.797764</td>\n",
       "      <td>1399.387817</td>\n",
       "    </tr>\n",
       "    <tr>\n",
       "      <th>0.015075</th>\n",
       "      <td>690.373108</td>\n",
       "      <td>-24.186714</td>\n",
       "      <td>1186.468872</td>\n",
       "      <td>358.839172</td>\n",
       "      <td>-45.360054</td>\n",
       "      <td>1193.252319</td>\n",
       "      <td>651.402527</td>\n",
       "      <td>58.374546</td>\n",
       "      <td>1110.795410</td>\n",
       "      <td>382.096619</td>\n",
       "      <td>...</td>\n",
       "      <td>1292.364014</td>\n",
       "      <td>145.000275</td>\n",
       "      <td>217.888351</td>\n",
       "      <td>1287.867554</td>\n",
       "      <td>651.744080</td>\n",
       "      <td>-160.980759</td>\n",
       "      <td>1530.528564</td>\n",
       "      <td>813.914124</td>\n",
       "      <td>-37.733063</td>\n",
       "      <td>1399.360474</td>\n",
       "    </tr>\n",
       "    <tr>\n",
       "      <th>0.020101</th>\n",
       "      <td>690.344238</td>\n",
       "      <td>-24.152397</td>\n",
       "      <td>1186.469849</td>\n",
       "      <td>358.845856</td>\n",
       "      <td>-45.320061</td>\n",
       "      <td>1193.218262</td>\n",
       "      <td>651.387634</td>\n",
       "      <td>58.393387</td>\n",
       "      <td>1110.808594</td>\n",
       "      <td>382.140289</td>\n",
       "      <td>...</td>\n",
       "      <td>1292.370850</td>\n",
       "      <td>144.964432</td>\n",
       "      <td>217.894638</td>\n",
       "      <td>1287.856079</td>\n",
       "      <td>651.748840</td>\n",
       "      <td>-160.956314</td>\n",
       "      <td>1530.513306</td>\n",
       "      <td>813.904419</td>\n",
       "      <td>-37.732792</td>\n",
       "      <td>1399.419189</td>\n",
       "    </tr>\n",
       "  </tbody>\n",
       "</table>\n",
       "<p>5 rows × 183 columns</p>\n",
       "</div>"
      ],
      "text/plain": [
       "               RIC_X      RIC_Y        RIC_Z       LIC_X      LIC_Y  \\\n",
       "Time                                                                  \n",
       "0.000000  690.302979 -24.144964  1186.501953  358.820160 -45.394676   \n",
       "0.005025  690.303223 -24.149342  1186.498047  358.869385 -45.349300   \n",
       "0.010050  690.303345 -24.149654  1186.497803  358.778748 -45.391197   \n",
       "0.015075  690.373108 -24.186714  1186.468872  358.839172 -45.360054   \n",
       "0.020101  690.344238 -24.152397  1186.469849  358.845856 -45.320061   \n",
       "\n",
       "                LIC_Z      RASI_X     RASI_Y       RASI_Z      LASI_X  ...  \\\n",
       "Time                                                                   ...   \n",
       "0.000000  1193.250000  651.372681  58.366940  1110.803223  382.157990  ...   \n",
       "0.005025  1193.242920  651.432922  58.410744  1110.811401  382.105377  ...   \n",
       "0.010050  1193.255859  651.415833  58.387333  1110.797974  382.088013  ...   \n",
       "0.015075  1193.252319  651.402527  58.374546  1110.795410  382.096619  ...   \n",
       "0.020101  1193.218262  651.387634  58.393387  1110.808594  382.140289  ...   \n",
       "\n",
       "               LELB_Z        LW_X        LW_Y         LW_Z      RBAK_X  \\\n",
       "Time                                                                     \n",
       "0.000000  1292.336060  145.004547  217.815277  1287.846191  651.696716   \n",
       "0.005025  1292.380859  144.968643  217.842819  1287.799316  651.692810   \n",
       "0.010050  1292.387207  144.960144  217.844437  1287.835938  651.693420   \n",
       "0.015075  1292.364014  145.000275  217.888351  1287.867554  651.744080   \n",
       "0.020101  1292.370850  144.964432  217.894638  1287.856079  651.748840   \n",
       "\n",
       "              RBAK_Y       RBAK_Z      RARM_X     RARM_Y       RARM_Z  \n",
       "Time                                                                   \n",
       "0.000000 -161.044846  1530.513916  813.931702 -37.805531  1399.390259  \n",
       "0.005025 -160.978165  1530.546875  813.946045 -37.799965  1399.384399  \n",
       "0.010050 -161.020508  1530.567261  813.948242 -37.797764  1399.387817  \n",
       "0.015075 -160.980759  1530.528564  813.914124 -37.733063  1399.360474  \n",
       "0.020101 -160.956314  1530.513306  813.904419 -37.732792  1399.419189  \n",
       "\n",
       "[5 rows x 183 columns]"
      ]
     },
     "execution_count": 6,
     "metadata": {},
     "output_type": "execute_result"
    }
   ],
   "source": [
    "df_s_RIC.head()"
   ]
  },
  {
   "cell_type": "markdown",
   "id": "974ca7d9",
   "metadata": {},
   "source": [
    "### List of marker labels of each protocol"
   ]
  },
  {
   "cell_type": "code",
   "execution_count": 20,
   "id": "c94bde80",
   "metadata": {},
   "outputs": [],
   "source": [
    "# RIC\n",
    "ls_RIC = df_s_RIC.columns.tolist()\n",
    "mkr_S_labels_RIC = list(set([x[:-2].replace('.','_') for x in ls_RIC]))\n",
    "# RBDS\n",
    "ls = df_s_RBDS.columns.tolist()\n",
    "mkr_S_labels_RBDS = list(set([x[:-2].replace('.','_') for x in ls]))"
   ]
  },
  {
   "cell_type": "code",
   "execution_count": 25,
   "id": "3a0729cd",
   "metadata": {},
   "outputs": [
    {
     "data": {
      "text/plain": [
       "61"
      ]
     },
     "execution_count": 25,
     "metadata": {},
     "output_type": "execute_result"
    }
   ],
   "source": [
    "len(mkr_S_labels_RIC)"
   ]
  },
  {
   "cell_type": "code",
   "execution_count": 26,
   "id": "00612c7f",
   "metadata": {},
   "outputs": [],
   "source": [
    "mkr_S_labels_RBDS2=['LMH1', 'RSTL', 'RSBM', 'RTOE', 'LTOE', \n",
    "                    'RTTM', 'LKNL', 'LHED', 'LFIB', 'RFIB', 'LTUB', \n",
    "                    'LMAM', 'RHED', 'LSTL', 'RMH1', \n",
    "                    'LSBM', 'RHEP', 'LMAL', 'LSTM', \n",
    "                    'LHEP', 'LSBL', 'LTTM', 'RIC', \n",
    "                    'LASI', 'RGTR', 'LKNM', 'RHEL', 'RPSI', 'RSTM', \n",
    "                    'LTBM', 'RKNM', 'RSBL', 'LGTR', \n",
    "                    'LTTL', 'RMH5', 'RMAM', 'RASI', 'RKNL', \n",
    "                    'LTBL', 'RTTL', 'RTBL', \n",
    "                    'LMH5', 'RTBM', 'RTUB', 'LHEL', 'RMAL', 'LPSI', 'LIC']"
   ]
  },
  {
   "cell_type": "code",
   "execution_count": null,
   "id": "fe6abb70",
   "metadata": {},
   "outputs": [],
   "source": []
  },
  {
   "cell_type": "code",
   "execution_count": null,
   "id": "d2133f0b",
   "metadata": {},
   "outputs": [],
   "source": [
    "fig = plt.figure()\n",
    "ax = plt.axes(projection='3d')\n",
    "\n",
    "# Data for three-dimensional scattered points\n",
    "zdata = df_s_RIC.values[100,2::3]\n",
    "xdata = df_s_RIC.values[100,0::3]\n",
    "ydata = df_s_RIC.values[100,1::3]\n",
    "ax.scatter3D(xdata, ydata, zdata, c='b');\n",
    "ax.set_aspect('equal')"
   ]
  },
  {
   "cell_type": "code",
   "execution_count": null,
   "id": "85fb9c0b",
   "metadata": {},
   "outputs": [],
   "source": [
    "fig = plt.figure()\n",
    "ax = plt.axes(projection='3d')\n",
    "\n",
    "# Data for three-dimensional scattered points\n",
    "ydata = df_s_RBDS.values[100,2::3]\n",
    "xdata = df_s_RBDS.values[100,0::3]\n",
    "zdata = df_s_RBDS.values[100,1::3]\n",
    "ax.scatter3D(xdata, ydata, zdata, c='r');\n",
    "ax.set_aspect('equal')"
   ]
  },
  {
   "cell_type": "code",
   "execution_count": null,
   "id": "9d253cee",
   "metadata": {},
   "outputs": [],
   "source": []
  },
  {
   "cell_type": "code",
   "execution_count": null,
   "id": "17e47432",
   "metadata": {},
   "outputs": [],
   "source": []
  },
  {
   "cell_type": "markdown",
   "id": "32cf7043",
   "metadata": {},
   "source": [
    "## Import mat file data\n",
    "### Helper functions to prepare data\n",
    "https://stackoverflow.com/questions/7008608/scipy-io-loadmat-nested-structures-i-e-dictionaries"
   ]
  },
  {
   "cell_type": "code",
   "execution_count": null,
   "id": "26667657",
   "metadata": {},
   "outputs": [],
   "source": [
    "# Import data\n",
    "pathname = r'../data'"
   ]
  },
  {
   "cell_type": "code",
   "execution_count": null,
   "id": "d1d4c1ed",
   "metadata": {},
   "outputs": [],
   "source": []
  },
  {
   "cell_type": "code",
   "execution_count": null,
   "id": "429bb1c1",
   "metadata": {},
   "outputs": [],
   "source": [
    "def loadmat(filename):\n",
    "    '''\n",
    "    this function should be called instead of direct spio.loadmat\n",
    "    as it cures the problem of not properly recovering python dictionaries\n",
    "    from mat files. It calls the function check keys to cure all entries\n",
    "    which are still mat-objects\n",
    "    '''\n",
    "    def _check_keys(d):\n",
    "        '''\n",
    "        checks if entries in dictionary are mat-objects. If yes\n",
    "        todict is called to change them to nested dictionaries\n",
    "        '''\n",
    "        for key in d:\n",
    "            if isinstance(d[key], spio.matlab.mat_struct):\n",
    "                d[key] = _todict(d[key])\n",
    "        return d\n",
    "\n",
    "    def _todict(matobj):\n",
    "        '''\n",
    "        A recursive function which constructs from matobjects nested dictionaries\n",
    "        '''\n",
    "        d = {}\n",
    "        for strg in matobj._fieldnames:\n",
    "            elem = matobj.__dict__[strg]\n",
    "            if isinstance(elem, spio.matlab.mat_struct):\n",
    "                d[strg] = _todict(elem)\n",
    "            elif isinstance(elem, np.ndarray):\n",
    "                d[strg] = _tolist(elem)\n",
    "            else:\n",
    "                d[strg] = elem\n",
    "        return d\n",
    "\n",
    "    def _tolist(ndarray):\n",
    "        '''\n",
    "        A recursive function which constructs lists from cellarrays\n",
    "        (which are loaded as numpy ndarrays), recursing into the elements\n",
    "        if they contain matobjects.\n",
    "        '''\n",
    "        elem_list = []\n",
    "        for sub_elem in ndarray:\n",
    "            if isinstance(sub_elem, spio.matlab.mat_struct):\n",
    "                elem_list.append(_todict(sub_elem))\n",
    "            elif isinstance(sub_elem, np.ndarray):\n",
    "                elem_list.append(_tolist(sub_elem))\n",
    "            else:\n",
    "                elem_list.append(sub_elem)\n",
    "        return elem_list\n",
    "    data = spio.loadmat(filename, struct_as_record=False, squeeze_me=True)\n",
    "    return _check_keys(data)"
   ]
  },
  {
   "cell_type": "markdown",
   "id": "9225c220",
   "metadata": {},
   "source": [
    "### Import mat file data"
   ]
  },
  {
   "cell_type": "code",
   "execution_count": null,
   "id": "ccaabefc",
   "metadata": {},
   "outputs": [],
   "source": [
    "fname    = os.path.join(pathname, '20120821T104617.mat') \n",
    "# Import data\n",
    "data = loadmat(fname)"
   ]
  },
  {
   "cell_type": "markdown",
   "id": "80f18341",
   "metadata": {},
   "source": [
    "### Create pandas df from dictionay"
   ]
  },
  {
   "cell_type": "code",
   "execution_count": null,
   "id": "8bb01a6b",
   "metadata": {},
   "outputs": [],
   "source": [
    "mkr_S_labels = list(data['out']['full_static'].keys())"
   ]
  },
  {
   "cell_type": "code",
   "execution_count": null,
   "id": "a7f4ce75",
   "metadata": {},
   "outputs": [],
   "source": [
    "mkr_S_data = np.empty(shape=(200,3*len(mkr_S_labels)))\n",
    "for m, marker in enumerate(mkr_S_labels):\n",
    "    mkr_S_data[:,3*m:3*m+3] = np.array(data['out']['full_static'][marker])"
   ]
  },
  {
   "cell_type": "code",
   "execution_count": null,
   "id": "5460e595",
   "metadata": {},
   "outputs": [],
   "source": [
    "df_S = pd.DataFrame(data=mkr_S_data)\n",
    "mkr_S_labels_2 = [ele for ele in mkr_S_labels for i in range(3)]\n",
    "df_S.columns = [mkr_S_labels_2, list('XYZ')*len(mkr_S_labels)]\n",
    "df_S.columns.set_names(names=['Marker', 'Coordinate'], \n",
    "                     level=[0, 1], inplace=True)"
   ]
  },
  {
   "cell_type": "code",
   "execution_count": null,
   "id": "ccebbe13",
   "metadata": {},
   "outputs": [],
   "source": [
    "duration  = data['out']['hz_r']/mkr_S_data.shape[0]\n",
    "timeStamps= np.linspace(0, duration, mkr_S_data.shape[0])"
   ]
  },
  {
   "cell_type": "code",
   "execution_count": null,
   "id": "0da692a5",
   "metadata": {},
   "outputs": [],
   "source": [
    "df_S['Time'] = timeStamps\n",
    "df_S.set_index('Time', inplace=True)\n",
    "df_S.index.name = 'Time'"
   ]
  },
  {
   "cell_type": "code",
   "execution_count": null,
   "id": "527f28db",
   "metadata": {},
   "outputs": [],
   "source": [
    "df_S.head()"
   ]
  },
  {
   "cell_type": "code",
   "execution_count": null,
   "id": "cac56e83",
   "metadata": {
    "scrolled": false
   },
   "outputs": [],
   "source": [
    "fig = plt.figure()\n",
    "ax = plt.axes(projection='3d')\n",
    "\n",
    "# Data for three-dimensional scattered points\n",
    "zdata = df_S.values[100,2::3]\n",
    "xdata = df_S.values[100,0::3]\n",
    "ydata = df_S.values[100,1::3]\n",
    "ax.scatter3D(xdata, ydata, zdata, c='b');\n",
    "ax.set_aspect('equal')"
   ]
  },
  {
   "cell_type": "markdown",
   "id": "e22015e5",
   "metadata": {},
   "source": [
    "## Import C3D file using EZC3D\n",
    "https://github.com/pyomeca/ezc3d"
   ]
  },
  {
   "cell_type": "code",
   "execution_count": null,
   "id": "b4690006",
   "metadata": {},
   "outputs": [],
   "source": [
    "from ezc3d import c3d\n",
    "fname_c3d = os.path.join(pathname,'RBDS001static.c3d')\n",
    "c = c3d(fname_c3d)"
   ]
  },
  {
   "cell_type": "code",
   "execution_count": null,
   "id": "3c98240b",
   "metadata": {},
   "outputs": [],
   "source": [
    "point_data = c['data']['points']\n",
    "points_residuals = c['data']['meta_points']['residuals']\n",
    "analog_data = c['data']['analogs']"
   ]
  },
  {
   "cell_type": "code",
   "execution_count": null,
   "id": "21856c33",
   "metadata": {},
   "outputs": [],
   "source": [
    "mkr_S_labels_RBDS = c['parameters']['POINT']['LABELS']['value']"
   ]
  },
  {
   "cell_type": "markdown",
   "id": "ba92e291",
   "metadata": {},
   "source": [
    "### Create pandas df"
   ]
  },
  {
   "cell_type": "code",
   "execution_count": null,
   "id": "0232cbb9",
   "metadata": {},
   "outputs": [],
   "source": [
    "mkr_S_data_RBDS = np.empty(shape=(point_data.shape[2],3*len(mkr_S_labels_RBDS)))\n",
    "for m, marker in enumerate(mkr_S_labels_RBDS):\n",
    "    mkr_S_data_RBDS[:,3*m:3*m+3] = point_data[:3, m, :].T"
   ]
  },
  {
   "cell_type": "code",
   "execution_count": null,
   "id": "7d59f155",
   "metadata": {},
   "outputs": [],
   "source": [
    "df_S_RBDS = pd.DataFrame(data=mkr_S_data_RBDS)\n",
    "mkr_S_labels_RBDS_2 = [ele for ele in mkr_S_labels_RBDS for i in range(3)]\n",
    "df_S_RBDS.columns = [mkr_S_labels_RBDS_2, list('XYZ')*len(mkr_S_labels_RBDS)]\n",
    "df_S_RBDS.columns.set_names(names=['Marker', 'Coordinate'], \n",
    "                     level=[0, 1], inplace=True)"
   ]
  },
  {
   "cell_type": "code",
   "execution_count": null,
   "id": "c5b271ea",
   "metadata": {},
   "outputs": [],
   "source": [
    "duration  = int(c['parameters']['POINT']['RATE']['value'][0])/point_data.shape[2]\n",
    "timeStamps= np.linspace(0, duration, mkr_S_data_RBDS.shape[0])"
   ]
  },
  {
   "cell_type": "code",
   "execution_count": null,
   "id": "d15a8ee5",
   "metadata": {},
   "outputs": [],
   "source": [
    "df_S_RBDS['Time'] = timeStamps\n",
    "df_S_RBDS.set_index('Time', inplace=True)\n",
    "df_S_RBDS.index.name = 'Time'"
   ]
  },
  {
   "cell_type": "code",
   "execution_count": null,
   "id": "c917d495",
   "metadata": {},
   "outputs": [],
   "source": [
    "df_S_RBDS.head()"
   ]
  },
  {
   "cell_type": "code",
   "execution_count": null,
   "id": "8831208d",
   "metadata": {},
   "outputs": [],
   "source": [
    "fig = plt.figure()\n",
    "ax = plt.axes(projection='3d')\n",
    "\n",
    "# Data for three-dimensional scattered points\n",
    "zdata = df_S_RBDS.values[100,2::3]\n",
    "xdata = df_S_RBDS.values[100,0::3]\n",
    "ydata = df_S_RBDS.values[100,1::3]\n",
    "ax.scatter3D(xdata, ydata, zdata, c='r');\n",
    "ax.set_aspect('equal')"
   ]
  },
  {
   "cell_type": "markdown",
   "id": "912e0a42",
   "metadata": {},
   "source": [
    "### Save df to ascii\n",
    "RBDS and RIC"
   ]
  },
  {
   "cell_type": "code",
   "execution_count": null,
   "id": "7999a527",
   "metadata": {},
   "outputs": [],
   "source": [
    "fname_out_RBDS = os.path.join(pathname, 'RBDS_static.csv')\n",
    "df_S_RBDS.to_csv(fname_out_RBDS)"
   ]
  },
  {
   "cell_type": "code",
   "execution_count": null,
   "id": "afe32894",
   "metadata": {},
   "outputs": [],
   "source": [
    "fname_out_RIC = os.path.join(pathname, 'RIC_static.csv')\n",
    "df_S.to_csv(fname_out_RIC)"
   ]
  },
  {
   "cell_type": "code",
   "execution_count": null,
   "id": "adf402ed",
   "metadata": {},
   "outputs": [],
   "source": []
  },
  {
   "cell_type": "code",
   "execution_count": null,
   "id": "19bbe6fb",
   "metadata": {},
   "outputs": [],
   "source": [
    "fname_c3d_f = os.path.join(pathname,'RBDS001runT35.c3d')\n",
    "c3d = c3d(fname_c3d_f, extract_forceplat_data=True);\n",
    "\n",
    "pf_0 = c3d[\"data\"][\"platform\"][0]  # Select the first platform"
   ]
  },
  {
   "cell_type": "code",
   "execution_count": null,
   "id": "a44d1d6a",
   "metadata": {},
   "outputs": [],
   "source": [
    "pf_0['unit_force']          # Units of forces\n",
    "pf_0['unit_moment']         # Units of moments\n",
    "pf_0['unit_position']       # Units of center of pressure\n",
    "\n",
    "pf_0['cal_matrix']          # Calibration matrix\n",
    "pf_0['corners']             # Position of the corners\n",
    "pf_0['origin']              # Position of the origin\n",
    "\n",
    "pf_0['force']               # Force data\n",
    "pf_0['moment']              # Moment data\n",
    "pf_0['center_of_pressure']  # Center of pressure data\n",
    "pf_0['Tz']                  # Moment at center of pressure data"
   ]
  },
  {
   "cell_type": "code",
   "execution_count": null,
   "id": "ba9095f3",
   "metadata": {},
   "outputs": [],
   "source": [
    "pf_0['cal_matrix'] "
   ]
  },
  {
   "cell_type": "code",
   "execution_count": null,
   "id": "75b63c12",
   "metadata": {},
   "outputs": [],
   "source": []
  },
  {
   "cell_type": "code",
   "execution_count": null,
   "id": "dc628b8b",
   "metadata": {},
   "outputs": [],
   "source": [
    "    if df_multi:  # dataframe with multiple labels\n",
    "        df.drop(labels='Frame#', axis=1, inplace=True)\n",
    "        df.set_index('Time', inplace=True)\n",
    "        df.index.name = 'Time'\n",
    "        cols = [s[:-1] for s in df.columns.str.replace(r'.', r'_')]\n",
    "        df.columns = [cols, list('XYZ')*int(df.shape[1]/3), xyz]\n",
    "        df.columns.set_names(names=['Marker', 'Coordinate', 'XYZ'],\n",
    "                             level=[0, 1, 2], inplace=True)"
   ]
  },
  {
   "cell_type": "code",
   "execution_count": null,
   "id": "4dda9aeb",
   "metadata": {},
   "outputs": [],
   "source": [
    "mkr_S_data.shape"
   ]
  },
  {
   "cell_type": "code",
   "execution_count": null,
   "id": "7583db6e",
   "metadata": {},
   "outputs": [],
   "source": [
    "df_s = pd.DataFrame.from_dict(data['out']['full_static'])\n",
    "df_s.head()"
   ]
  },
  {
   "cell_type": "code",
   "execution_count": null,
   "id": "20e85ed5",
   "metadata": {},
   "outputs": [],
   "source": [
    "data['out']['full_static']"
   ]
  },
  {
   "cell_type": "code",
   "execution_count": null,
   "id": "e15910f0",
   "metadata": {},
   "outputs": [],
   "source": [
    "print(data['out'].keys())"
   ]
  },
  {
   "cell_type": "code",
   "execution_count": null,
   "id": "793e715b",
   "metadata": {},
   "outputs": [],
   "source": [
    "data['out']['neutral'].keys()"
   ]
  },
  {
   "cell_type": "code",
   "execution_count": null,
   "id": "d222790c",
   "metadata": {},
   "outputs": [],
   "source": [
    "data['out']['full_static'].keys()"
   ]
  },
  {
   "cell_type": "code",
   "execution_count": null,
   "id": "0173be76",
   "metadata": {},
   "outputs": [],
   "source": []
  },
  {
   "cell_type": "code",
   "execution_count": null,
   "id": "76a078ea",
   "metadata": {},
   "outputs": [],
   "source": []
  },
  {
   "cell_type": "code",
   "execution_count": null,
   "id": "b5b82570",
   "metadata": {},
   "outputs": [],
   "source": [
    "data['out'][0][0]"
   ]
  },
  {
   "cell_type": "code",
   "execution_count": null,
   "id": "e8bb0a38",
   "metadata": {},
   "outputs": [],
   "source": [
    "data['__header__']"
   ]
  },
  {
   "cell_type": "markdown",
   "id": "c9b1dbe1",
   "metadata": {},
   "source": [
    "### Data stored in RBA directory"
   ]
  },
  {
   "cell_type": "code",
   "execution_count": null,
   "id": "aea0e3e3",
   "metadata": {
    "scrolled": false
   },
   "outputs": [],
   "source": [
    "fname_q= os.path.join(pathname, 'RBDS_google_forms.csv') \n",
    "# Import data\n",
    "data_q = pd.read_csv(fname_q, sep = ',', index_col = 'ID')\n",
    "data_q.head()"
   ]
  },
  {
   "cell_type": "code",
   "execution_count": null,
   "id": "09ed4721",
   "metadata": {},
   "outputs": [],
   "source": [
    "df_rba = data_q[['Altura (cm)','Massa (kg)']]\n",
    "df_rba"
   ]
  },
  {
   "cell_type": "code",
   "execution_count": null,
   "id": "ad6e7d93",
   "metadata": {},
   "outputs": [],
   "source": [
    "df_figshare = info[['Subject','Height','Mass']]\n",
    "df_figshare.set_index('Subject')"
   ]
  },
  {
   "cell_type": "code",
   "execution_count": null,
   "id": "cb316faf",
   "metadata": {},
   "outputs": [],
   "source": [
    "df_out = df_rba.loc[df_rba['Altura (cm)']==df_figshare['Height'].values[5]]\n",
    "df_out.index.tolist()"
   ]
  },
  {
   "cell_type": "code",
   "execution_count": null,
   "id": "5fa6c38e",
   "metadata": {},
   "outputs": [],
   "source": [
    "ids = []\n",
    "for i in range(df_figshare.shape[0]):\n",
    "    df_out = df_rba.loc[(df_rba['Altura (cm)']==df_figshare['Height'].values[i]) & (df_rba['Massa (kg)']==df_figshare['Mass'].values[i])]\n",
    "    if df_out.empty:\n",
    "        print('Subject '+ str(df_figshare['Subject'].values[i]) + ' not found!')\n",
    "    else:\n",
    "        ids.append(df_out.index.tolist())"
   ]
  },
  {
   "cell_type": "code",
   "execution_count": null,
   "id": "bed16070",
   "metadata": {},
   "outputs": [],
   "source": [
    "ids"
   ]
  },
  {
   "cell_type": "markdown",
   "id": "1f37d4c3",
   "metadata": {},
   "source": [
    "# PENDING\n",
    "* Find who is who. \n",
    "Find the subjects in Figshare RBDSinfo.txt with the corresponding ID in RBA spreadsheet"
   ]
  },
  {
   "cell_type": "code",
   "execution_count": null,
   "id": "aea7e76a",
   "metadata": {},
   "outputs": [],
   "source": []
  },
  {
   "cell_type": "code",
   "execution_count": null,
   "id": "747867f1",
   "metadata": {},
   "outputs": [],
   "source": []
  }
 ],
 "metadata": {
  "kernelspec": {
   "display_name": "Python 3 (ipykernel)",
   "language": "python",
   "name": "python3"
  },
  "language_info": {
   "codemirror_mode": {
    "name": "ipython",
    "version": 3
   },
   "file_extension": ".py",
   "mimetype": "text/x-python",
   "name": "python",
   "nbconvert_exporter": "python",
   "pygments_lexer": "ipython3",
   "version": "3.9.15"
  }
 },
 "nbformat": 4,
 "nbformat_minor": 5
}
