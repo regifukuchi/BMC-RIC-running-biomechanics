{
 "cells": [
  {
   "cell_type": "markdown",
   "id": "b12e57ac",
   "metadata": {},
   "source": [
    "# Relatório tecnico-CNPq Universal\n",
    "\n",
    "Reginaldo K Fukuchi, Feb 2023, reginaldo.fukuchi@ufabc.edu.br\n",
    "\n",
    "Este notebook apresenta dados para prestacao de contas do projeto universal do CNPq\n",
    "\n",
    "Fukuchi RK, Fukuchi CA and Duarte M (2017). A public data set of running biomechanics and the effects of running speed on lower extremity kinematics and kinetics. PeerJ Preprints.\n",
    "\n",
    "In addition, it demonstrates plots of angles, moments, powers and ground reaction force curves displayed in the manuscript.\n",
    "\n",
    "Some of the steps have been reduced to minimize clutter, but the user should be able to adapt this code to any given file structure."
   ]
  },
  {
   "cell_type": "code",
   "execution_count": 2,
   "id": "7f4e9cc6",
   "metadata": {},
   "outputs": [],
   "source": [
    "# Prepare environment\n",
    "import os\n",
    "import numpy as np\n",
    "import pandas as pd\n",
    "import seaborn as sns\n",
    "import matplotlib.pyplot as plt\n",
    "%matplotlib notebook"
   ]
  },
  {
   "cell_type": "code",
   "execution_count": 2,
   "id": "0a83576f",
   "metadata": {},
   "outputs": [],
   "source": [
    "# Import data\n",
    "pathname = r'../data'"
   ]
  },
  {
   "cell_type": "code",
   "execution_count": null,
   "id": "52372a54",
   "metadata": {},
   "outputs": [],
   "source": []
  },
  {
   "cell_type": "markdown",
   "id": "32cf7043",
   "metadata": {},
   "source": [
    "## Compare spreadsheets to find matching subjects\n",
    "### Data from Figshare"
   ]
  },
  {
   "cell_type": "code",
   "execution_count": 8,
   "id": "ccaabefc",
   "metadata": {
    "scrolled": false
   },
   "outputs": [
    {
     "data": {
      "text/html": [
       "<div>\n",
       "<style scoped>\n",
       "    .dataframe tbody tr th:only-of-type {\n",
       "        vertical-align: middle;\n",
       "    }\n",
       "\n",
       "    .dataframe tbody tr th {\n",
       "        vertical-align: top;\n",
       "    }\n",
       "\n",
       "    .dataframe thead th {\n",
       "        text-align: right;\n",
       "    }\n",
       "</style>\n",
       "<table border=\"1\" class=\"dataframe\">\n",
       "  <thead>\n",
       "    <tr style=\"text-align: right;\">\n",
       "      <th></th>\n",
       "      <th>FileName</th>\n",
       "      <th>Age</th>\n",
       "      <th>Height</th>\n",
       "      <th>Mass</th>\n",
       "      <th>Gender</th>\n",
       "      <th>Dominance</th>\n",
       "      <th>Level</th>\n",
       "      <th>Experience</th>\n",
       "      <th>SessionsPerWk</th>\n",
       "      <th>Treadmill</th>\n",
       "      <th>...</th>\n",
       "      <th>LThomas</th>\n",
       "      <th>ROber</th>\n",
       "      <th>LOber</th>\n",
       "      <th>RHIPABD</th>\n",
       "      <th>LHIPABD</th>\n",
       "      <th>RHIPEXT</th>\n",
       "      <th>LHIPEXT</th>\n",
       "      <th>RHIPER</th>\n",
       "      <th>LHIPER</th>\n",
       "      <th>RHIPIR</th>\n",
       "    </tr>\n",
       "    <tr>\n",
       "      <th>Subject</th>\n",
       "      <th></th>\n",
       "      <th></th>\n",
       "      <th></th>\n",
       "      <th></th>\n",
       "      <th></th>\n",
       "      <th></th>\n",
       "      <th></th>\n",
       "      <th></th>\n",
       "      <th></th>\n",
       "      <th></th>\n",
       "      <th></th>\n",
       "      <th></th>\n",
       "      <th></th>\n",
       "      <th></th>\n",
       "      <th></th>\n",
       "      <th></th>\n",
       "      <th></th>\n",
       "      <th></th>\n",
       "      <th></th>\n",
       "      <th></th>\n",
       "      <th></th>\n",
       "    </tr>\n",
       "  </thead>\n",
       "  <tbody>\n",
       "    <tr>\n",
       "      <th>1</th>\n",
       "      <td>RBDS001static.txt</td>\n",
       "      <td>22</td>\n",
       "      <td>181.0</td>\n",
       "      <td>62.00</td>\n",
       "      <td>M</td>\n",
       "      <td>R</td>\n",
       "      <td>Competitive</td>\n",
       "      <td>4</td>\n",
       "      <td>3</td>\n",
       "      <td>0</td>\n",
       "      <td>...</td>\n",
       "      <td>11</td>\n",
       "      <td>43</td>\n",
       "      <td>40</td>\n",
       "      <td>16.800000</td>\n",
       "      <td>21.575</td>\n",
       "      <td>16.575</td>\n",
       "      <td>21.675000</td>\n",
       "      <td>9.666667</td>\n",
       "      <td>7.250000</td>\n",
       "      <td>10.966667</td>\n",
       "    </tr>\n",
       "    <tr>\n",
       "      <th>2</th>\n",
       "      <td>RBDS002static.txt</td>\n",
       "      <td>38</td>\n",
       "      <td>183.0</td>\n",
       "      <td>80.00</td>\n",
       "      <td>M</td>\n",
       "      <td>R</td>\n",
       "      <td>Competitive</td>\n",
       "      <td>60</td>\n",
       "      <td>3</td>\n",
       "      <td>0</td>\n",
       "      <td>...</td>\n",
       "      <td>12</td>\n",
       "      <td>43</td>\n",
       "      <td>38</td>\n",
       "      <td>23.000000</td>\n",
       "      <td>28.025</td>\n",
       "      <td>23.700</td>\n",
       "      <td>21.500000</td>\n",
       "      <td>10.650000</td>\n",
       "      <td>9.600000</td>\n",
       "      <td>18.466667</td>\n",
       "    </tr>\n",
       "    <tr>\n",
       "      <th>3</th>\n",
       "      <td>RBDS003static.txt</td>\n",
       "      <td>34</td>\n",
       "      <td>177.0</td>\n",
       "      <td>65.40</td>\n",
       "      <td>M</td>\n",
       "      <td>L</td>\n",
       "      <td>Competitive</td>\n",
       "      <td>54</td>\n",
       "      <td>5</td>\n",
       "      <td>0</td>\n",
       "      <td>...</td>\n",
       "      <td>15</td>\n",
       "      <td>44</td>\n",
       "      <td>41</td>\n",
       "      <td>22.033333</td>\n",
       "      <td>24.300</td>\n",
       "      <td>23.325</td>\n",
       "      <td>19.050000</td>\n",
       "      <td>10.333333</td>\n",
       "      <td>10.733333</td>\n",
       "      <td>15.500000</td>\n",
       "    </tr>\n",
       "    <tr>\n",
       "      <th>4</th>\n",
       "      <td>RBDS004static.txt</td>\n",
       "      <td>33</td>\n",
       "      <td>168.0</td>\n",
       "      <td>57.05</td>\n",
       "      <td>M</td>\n",
       "      <td>R</td>\n",
       "      <td>Elite</td>\n",
       "      <td>216</td>\n",
       "      <td>4</td>\n",
       "      <td>1</td>\n",
       "      <td>...</td>\n",
       "      <td>11</td>\n",
       "      <td>34</td>\n",
       "      <td>32</td>\n",
       "      <td>18.300000</td>\n",
       "      <td>14.350</td>\n",
       "      <td>15.600</td>\n",
       "      <td>16.966667</td>\n",
       "      <td>9.100000</td>\n",
       "      <td>6.966667</td>\n",
       "      <td>12.066667</td>\n",
       "    </tr>\n",
       "    <tr>\n",
       "      <th>5</th>\n",
       "      <td>RBDS005static.txt</td>\n",
       "      <td>32</td>\n",
       "      <td>169.0</td>\n",
       "      <td>60.00</td>\n",
       "      <td>M</td>\n",
       "      <td>R</td>\n",
       "      <td>Competitive</td>\n",
       "      <td>36</td>\n",
       "      <td>5</td>\n",
       "      <td>1</td>\n",
       "      <td>...</td>\n",
       "      <td>4</td>\n",
       "      <td>33</td>\n",
       "      <td>29</td>\n",
       "      <td>18.833333</td>\n",
       "      <td>25.300</td>\n",
       "      <td>20.325</td>\n",
       "      <td>19.900000</td>\n",
       "      <td>12.200000</td>\n",
       "      <td>7.375000</td>\n",
       "      <td>10.700000</td>\n",
       "    </tr>\n",
       "  </tbody>\n",
       "</table>\n",
       "<p>5 rows × 49 columns</p>\n",
       "</div>"
      ],
      "text/plain": [
       "                  FileName  Age  Height   Mass Gender Dominance        Level  \\\n",
       "Subject                                                                        \n",
       "1        RBDS001static.txt   22   181.0  62.00      M         R  Competitive   \n",
       "2        RBDS002static.txt   38   183.0  80.00      M         R  Competitive   \n",
       "3        RBDS003static.txt   34   177.0  65.40      M         L  Competitive   \n",
       "4        RBDS004static.txt   33   168.0  57.05      M         R        Elite   \n",
       "5        RBDS005static.txt   32   169.0  60.00      M         R  Competitive   \n",
       "\n",
       "         Experience  SessionsPerWk  Treadmill  ...  LThomas  ROber  LOber  \\\n",
       "Subject                                        ...                          \n",
       "1                 4              3          0  ...       11     43     40   \n",
       "2                60              3          0  ...       12     43     38   \n",
       "3                54              5          0  ...       15     44     41   \n",
       "4               216              4          1  ...       11     34     32   \n",
       "5                36              5          1  ...        4     33     29   \n",
       "\n",
       "           RHIPABD  LHIPABD  RHIPEXT    LHIPEXT     RHIPER     LHIPER  \\\n",
       "Subject                                                                 \n",
       "1        16.800000   21.575   16.575  21.675000   9.666667   7.250000   \n",
       "2        23.000000   28.025   23.700  21.500000  10.650000   9.600000   \n",
       "3        22.033333   24.300   23.325  19.050000  10.333333  10.733333   \n",
       "4        18.300000   14.350   15.600  16.966667   9.100000   6.966667   \n",
       "5        18.833333   25.300   20.325  19.900000  12.200000   7.375000   \n",
       "\n",
       "            RHIPIR  \n",
       "Subject             \n",
       "1        10.966667  \n",
       "2        18.466667  \n",
       "3        15.500000  \n",
       "4        12.066667  \n",
       "5        10.700000  \n",
       "\n",
       "[5 rows x 49 columns]"
      ]
     },
     "execution_count": 8,
     "metadata": {},
     "output_type": "execute_result"
    }
   ],
   "source": [
    "fname    = os.path.join(pathname, 'RBDSinfo.txt') \n",
    "# Import data\n",
    "data_p = pd.read_csv(fname, sep = '\\t')\n",
    "info = data_p.drop_duplicates(subset='Subject', inplace=False)\n",
    "info.set_index('Subject', inplace=True)\n",
    "info.head()"
   ]
  },
  {
   "cell_type": "markdown",
   "id": "c9b1dbe1",
   "metadata": {},
   "source": [
    "### Find the original index of the subjects\n",
    "The data from Google forms used to interview the subjects. There are more than 28 subjects so we need to find their index"
   ]
  },
  {
   "cell_type": "code",
   "execution_count": 1,
   "id": "aea0e3e3",
   "metadata": {
    "scrolled": false
   },
   "outputs": [
    {
     "ename": "NameError",
     "evalue": "name 'os' is not defined",
     "output_type": "error",
     "traceback": [
      "\u001b[1;31m---------------------------------------------------------------------------\u001b[0m",
      "\u001b[1;31mNameError\u001b[0m                                 Traceback (most recent call last)",
      "\u001b[1;32m~\\AppData\\Local\\Temp\\ipykernel_18232\\3304795563.py\u001b[0m in \u001b[0;36m<module>\u001b[1;34m\u001b[0m\n\u001b[1;32m----> 1\u001b[1;33m \u001b[0mfname_q\u001b[0m\u001b[1;33m=\u001b[0m \u001b[0mos\u001b[0m\u001b[1;33m.\u001b[0m\u001b[0mpath\u001b[0m\u001b[1;33m.\u001b[0m\u001b[0mjoin\u001b[0m\u001b[1;33m(\u001b[0m\u001b[0mpathname\u001b[0m\u001b[1;33m,\u001b[0m \u001b[1;34m'RBDS_google_forms.csv'\u001b[0m\u001b[1;33m)\u001b[0m\u001b[1;33m\u001b[0m\u001b[1;33m\u001b[0m\u001b[0m\n\u001b[0m\u001b[0;32m      2\u001b[0m \u001b[1;31m# Import data\u001b[0m\u001b[1;33m\u001b[0m\u001b[1;33m\u001b[0m\u001b[0m\n\u001b[0;32m      3\u001b[0m \u001b[0mdata_q\u001b[0m \u001b[1;33m=\u001b[0m \u001b[0mpd\u001b[0m\u001b[1;33m.\u001b[0m\u001b[0mread_csv\u001b[0m\u001b[1;33m(\u001b[0m\u001b[0mfname_q\u001b[0m\u001b[1;33m,\u001b[0m \u001b[0msep\u001b[0m \u001b[1;33m=\u001b[0m \u001b[1;34m','\u001b[0m\u001b[1;33m,\u001b[0m \u001b[0mindex_col\u001b[0m \u001b[1;33m=\u001b[0m \u001b[1;34m'ID'\u001b[0m\u001b[1;33m)\u001b[0m\u001b[1;33m\u001b[0m\u001b[1;33m\u001b[0m\u001b[0m\n\u001b[0;32m      4\u001b[0m \u001b[0mdata_q\u001b[0m\u001b[1;33m.\u001b[0m\u001b[0mhead\u001b[0m\u001b[1;33m(\u001b[0m\u001b[1;33m)\u001b[0m\u001b[1;33m\u001b[0m\u001b[1;33m\u001b[0m\u001b[0m\n",
      "\u001b[1;31mNameError\u001b[0m: name 'os' is not defined"
     ]
    }
   ],
   "source": [
    "fname_q= os.path.join(pathname, 'RBDS_google_forms.csv') \n",
    "# Import data\n",
    "data_q = pd.read_csv(fname_q, sep = ',', index_col = 'ID')\n",
    "data_q.head()"
   ]
  },
  {
   "cell_type": "markdown",
   "id": "ceedb2c9",
   "metadata": {},
   "source": [
    "#### Try using heigh and mass"
   ]
  },
  {
   "cell_type": "code",
   "execution_count": 12,
   "id": "09ed4721",
   "metadata": {},
   "outputs": [],
   "source": [
    "df_rba = data_q[['Altura (cm)','Massa (kg)']] # Google forms\n",
    "df_figshare = info[['Height','Mass']] # RBDS Figshare"
   ]
  },
  {
   "cell_type": "code",
   "execution_count": 14,
   "id": "5fa6c38e",
   "metadata": {},
   "outputs": [
    {
     "name": "stdout",
     "output_type": "stream",
     "text": [
      "Subject 1 not found!\n",
      "Subject 2 not found!\n",
      "Subject 3 not found!\n",
      "Subject 5 not found!\n",
      "Subject 23 not found!\n"
     ]
    }
   ],
   "source": [
    "ids = []\n",
    "for i in range(df_figshare.shape[0]):\n",
    "    df_out = df_rba.loc[(df_rba['Altura (cm)']==df_figshare['Height'].values[i]) & (df_rba['Massa (kg)']==df_figshare['Mass'].values[i])]\n",
    "    if df_out.empty:\n",
    "        print('Subject '+ str(df_figshare.index.values[i]) + ' not found!')\n",
    "    else:\n",
    "        ids.append(df_out.index.tolist())"
   ]
  },
  {
   "cell_type": "code",
   "execution_count": 16,
   "id": "6c22013c",
   "metadata": {},
   "outputs": [
    {
     "data": {
      "text/plain": [
       "23"
      ]
     },
     "execution_count": 16,
     "metadata": {},
     "output_type": "execute_result"
    }
   ],
   "source": [
    "len(ids)"
   ]
  },
  {
   "cell_type": "code",
   "execution_count": 74,
   "id": "bed16070",
   "metadata": {},
   "outputs": [
    {
     "data": {
      "text/plain": [
       "[['BMC0012'],\n",
       " ['BMC0014'],\n",
       " ['BMC0015'],\n",
       " ['BMC0016'],\n",
       " ['BMC0017'],\n",
       " ['BMC0018'],\n",
       " ['BMC0020'],\n",
       " ['BMC0023'],\n",
       " ['BMC0024'],\n",
       " ['BMC0025'],\n",
       " ['BMC0026'],\n",
       " ['BMC0027'],\n",
       " ['BMC0028'],\n",
       " ['BMC0029'],\n",
       " ['BMC0030'],\n",
       " ['BMC0032'],\n",
       " ['BMC0033'],\n",
       " ['BMC0034'],\n",
       " ['BMC0036'],\n",
       " ['BMC0037'],\n",
       " ['BMC0038'],\n",
       " ['BMC0039'],\n",
       " ['BMC0040']]"
      ]
     },
     "execution_count": 74,
     "metadata": {},
     "output_type": "execute_result"
    }
   ],
   "source": [
    "ids"
   ]
  },
  {
   "cell_type": "markdown",
   "id": "1f37d4c3",
   "metadata": {},
   "source": [
    "# PENDING\n",
    "* Find who is who. \n",
    "Find the subjects in Figshare RBDSinfo.txt with the corresponding ID in RBA spreadsheet"
   ]
  },
  {
   "cell_type": "code",
   "execution_count": null,
   "id": "aea7e76a",
   "metadata": {},
   "outputs": [],
   "source": []
  },
  {
   "cell_type": "code",
   "execution_count": null,
   "id": "747867f1",
   "metadata": {},
   "outputs": [],
   "source": []
  }
 ],
 "metadata": {
  "kernelspec": {
   "display_name": "Python 3 (ipykernel)",
   "language": "python",
   "name": "python3"
  },
  "language_info": {
   "codemirror_mode": {
    "name": "ipython",
    "version": 3
   },
   "file_extension": ".py",
   "mimetype": "text/x-python",
   "name": "python",
   "nbconvert_exporter": "python",
   "pygments_lexer": "ipython3",
   "version": "3.9.16"
  }
 },
 "nbformat": 4,
 "nbformat_minor": 5
}
