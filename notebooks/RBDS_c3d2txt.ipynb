{
 "cells": [
  {
   "cell_type": "markdown",
   "id": "b12e57ac",
   "metadata": {
    "id": "b12e57ac"
   },
   "source": [
    "# Running Biomechanics Data Set\n",
    "\n",
    "Reginaldo K Fukuchi, Jan 2023, reginaldo.fukuchi@ufabc.edu.br\n",
    "\n",
    "This NB imports c3d files and convert data into ASCII files for markers trajectories and forces separately."
   ]
  },
  {
   "cell_type": "code",
   "execution_count": 1,
   "id": "7f4e9cc6",
   "metadata": {
    "executionInfo": {
     "elapsed": 1550,
     "status": "ok",
     "timestamp": 1674166207034,
     "user": {
      "displayName": "Reginaldo Fukuchi",
      "userId": "10593265862496095759"
     },
     "user_tz": 420
    },
    "id": "7f4e9cc6"
   },
   "outputs": [],
   "source": [
    "# Prepare environment\n",
    "import os, glob\n",
    "import numpy as np\n",
    "import pandas as pd\n",
    "import seaborn as sns\n",
    "import matplotlib.pyplot as plt\n",
    "%matplotlib notebook"
   ]
  },
  {
   "cell_type": "markdown",
   "id": "6091494f",
   "metadata": {},
   "source": [
    "### Helper functions"
   ]
  },
  {
   "cell_type": "code",
   "execution_count": 2,
   "id": "c2921535",
   "metadata": {},
   "outputs": [],
   "source": [
    "def difference (list1, list2):\n",
    "    \"\"\"Compare two lists for differences\"\"\"\n",
    "    list_dif = [i for i in list1 + list2 if i not in list1 or i not in list2]\n",
    "    \n",
    "    return list_dif"
   ]
  },
  {
   "cell_type": "markdown",
   "id": "caccf803",
   "metadata": {},
   "source": [
    "#### Function to create a dataframe with the same structure as the text files\n",
    "##### Markers"
   ]
  },
  {
   "cell_type": "code",
   "execution_count": 89,
   "id": "766c0a3b",
   "metadata": {},
   "outputs": [],
   "source": [
    "def c3d2txt_mkrs(c3d_out, label_ls):\n",
    "    \"\"\"Convert c3d data to ASCII data keeping the same structure as the text files in\n",
    "    the RBDS Figshare repository\n",
    "    \"\"\"\n",
    "    # Rename dictionary\n",
    "    c = c3d_out\n",
    "    # Assign variables\n",
    "    point_data       =c['data']['points']# markers data\n",
    "    points_residuals =c['data']['meta_points']['residuals']\n",
    "    analog_data      =c['data']['analogs']# analog data\n",
    "    mkr_S_labels_RBDS=c['parameters']['POINT']['LABELS']['value']# marker labels\n",
    "\n",
    "    ## Check for differences in marker columns btw RBDS Figshare and new data\n",
    "    list_dif = difference (label_ls, mkr_S_labels_RBDS)\n",
    "    # Delete columns of markers that are not currently in the RBDS Figshare\n",
    "    if list_dif:\n",
    "        idx = [mkr_S_labels_RBDS.index(i) for i in list_dif if i in mkr_S_labels_RBDS]\n",
    "        point_data = np.delete(point_data, idx, axis=1) # Delete data corresponding to the non-existent marker\n",
    "        mkr_S_labels_RBDS = [ele for ele in mkr_S_labels_RBDS if ele not in list_dif]\n",
    "\n",
    "    # Delete extra dimension for homogeneus matrices\n",
    "    point_data=np.delete(point_data, 3, axis=0)\n",
    "\n",
    "    pos_data = np.empty(shape=(point_data.shape[2],3*len(mkr_S_labels_RBDS)))\n",
    "    for m, marker in enumerate(mkr_S_labels_RBDS):\n",
    "        pos_data[:,3*m:3*m+3] = point_data[:, m, :].T\n",
    "\n",
    "    # Create new list to be column names of df\n",
    "    xyz = list('XYZ')*len(mkr_S_labels_RBDS)\n",
    "    mkr_S_labels_RBDS_2 = [ele for ele in mkr_S_labels_RBDS for i in range(3)]\n",
    "    mkr_S_labels_RBDS_3 = [mkr_S_labels_RBDS_2[i]+xyz[i] for i in range(len(xyz))]\n",
    "\n",
    "    df_S_RBDS = pd.DataFrame(data=pos_data, columns=mkr_S_labels_RBDS_3,)\n",
    "\n",
    "    duration  = pos_data.shape[0]/int(c['parameters']['POINT']['RATE']['value'][0])\n",
    "    timeStamps= np.linspace(0, duration, pos_data.shape[0]).round(3)\n",
    "\n",
    "    df_S_RBDS['Time'] = timeStamps\n",
    "    df_S_RBDS.set_index('Time', inplace=True)\n",
    "    df_S_RBDS.index.name = 'Time'\n",
    "    # Precision=3\n",
    "    df_S_RBDS = df_S_RBDS.round(3)\n",
    "    \n",
    "    return df_S_RBDS"
   ]
  },
  {
   "cell_type": "markdown",
   "id": "e8288be0",
   "metadata": {},
   "source": [
    "##### Forces"
   ]
  },
  {
   "cell_type": "code",
   "execution_count": 4,
   "id": "444717b7",
   "metadata": {},
   "outputs": [],
   "source": [
    "def c3d2txt_grfs(c3d_out):\n",
    "    \"\"\"Convert c3d data to ASCII data keeping the same structure as the text files in\n",
    "    the RBDS Figshare repository\n",
    "    \"\"\"\n",
    "    # Rename dictionary\n",
    "    c = c3d_out\n",
    "    \n",
    "    # Select the second platform\n",
    "    pf_1 = c[\"data\"][\"platform\"][1]\n",
    "    # Force platform signals matching existing RBDS\n",
    "    fp1_forces = pf_1['force'].T # Forces\n",
    "    fp1_cop    = pf_1['center_of_pressure'].T # Centre of pressure\n",
    "    # Free moment about vertical axis\n",
    "    fp1_Ty     = pf_1['Tz'][1,:] \n",
    "    fp1_Ty = np.expand_dims(fp1_Ty,axis=1)\n",
    "\n",
    "    # Concatenate signals\n",
    "    force_signals = np.hstack([fp1_forces, fp1_cop, fp1_Ty])\n",
    "\n",
    "    force_sigs_labels = ['Fx', 'Fy', 'Fz', 'COPx', 'COPy', 'COPz', 'Ty']\n",
    "\n",
    "    df_forces = pd.DataFrame(data=force_signals, columns=force_sigs_labels)\n",
    "\n",
    "    df_forces['Time'] = list(range(1,force_signals.shape[0]+1))\n",
    "    df_forces.set_index('Time', inplace=True)\n",
    "    df_forces.index.name = 'Time'\n",
    "\n",
    "    df_forces = df_forces.round(2)\n",
    "    \n",
    "    return df_forces"
   ]
  },
  {
   "cell_type": "markdown",
   "id": "e22015e5",
   "metadata": {
    "id": "e22015e5"
   },
   "source": [
    "## Import C3D RBDS file using EZC3D\n",
    "https://github.com/pyomeca/ezc3d"
   ]
  },
  {
   "cell_type": "code",
   "execution_count": 5,
   "id": "2fd77eb0",
   "metadata": {},
   "outputs": [],
   "source": [
    "from ezc3d import c3d"
   ]
  },
  {
   "cell_type": "code",
   "execution_count": 6,
   "id": "0a83576f",
   "metadata": {
    "executionInfo": {
     "elapsed": 210,
     "status": "ok",
     "timestamp": 1674166213240,
     "user": {
      "displayName": "Reginaldo Fukuchi",
      "userId": "10593265862496095759"
     },
     "user_tz": 420
    },
    "id": "0a83576f"
   },
   "outputs": [],
   "source": [
    "# Import data\n",
    "dir_O = r'C:\\Users\\Reginaldo\\Documents\\data\\CNPq\\RBDS_v2\\RBA' # Directory of origin\n",
    "dir_D = r'C:\\Users\\Reginaldo\\Documents\\data\\CNPq\\RBDS_v2\\Figshare_update' # Directory of destination"
   ]
  },
  {
   "cell_type": "markdown",
   "id": "8a373355",
   "metadata": {
    "id": "8a373355"
   },
   "source": [
    "### List of markers labels that are used in the RBDS Figshare data set"
   ]
  },
  {
   "cell_type": "code",
   "execution_count": 7,
   "id": "6e1e942f",
   "metadata": {},
   "outputs": [],
   "source": [
    "mkr_labels_S= ['R.ASIS', 'L.ASIS', 'R.PSIS', 'L.PSIS', 'R.Iliac.Crest', 'L.Iliac.Crest', \n",
    "                'R.Thigh.Top.Lateral', 'R.Thigh.Bottom.Lateral', 'R.Thigh.Top.Medial', 'R.Thigh.Bottom.Medial', \n",
    "                'R.Shank.Top.Lateral', 'R.Shank.Bottom.Lateral', 'R.Shank.Top.Medial', 'R.Shank.Bottom.Medial', \n",
    "                'R.Heel.Top', 'R.Heel.Bottom', 'R.Heel.Lateral', 'L.Thigh.Top.Lateral', 'L.Thigh.Bottom.Lateral', \n",
    "                'L.Thigh.Top.Medial', 'L.Thigh.Bottom.Medial', 'L.Shank.Top.Lateral', 'L.Shank.Bottom.Lateral', \n",
    "                'L.Shank.Top.Medial', 'L.Shank.Bottom.Medial', 'L.Heel.Top', 'L.Heel.Bottom', 'L.Heel.Lateral', \n",
    "                'R.GTR', 'R.Knee', 'R.Knee.Medial', 'R.HF', 'R.TT', 'R.Ankle', 'R.Ankle.Medial', 'R.MT1', 'R.MT5', \n",
    "                'R.MT2', 'L.GTR', 'L.Knee', 'L.Knee.Medial', 'L.HF', 'L.TT', 'L.Ankle', 'L.Ankle.Medial', \n",
    "                'L.MT1', 'L.MT5', 'L.MT2']\n",
    "\n",
    "mkr_labels_R=['R.ASIS', 'L.ASIS', 'R.PSIS', 'L.PSIS', 'R.Iliac.Crest', 'L.Iliac.Crest', \n",
    "              'R.Thigh.Top.Lateral', 'R.Thigh.Bottom.Lateral', 'R.Thigh.Top.Medial', 'R.Thigh.Bottom.Medial', \n",
    "              'R.Shank.Top.Lateral', 'R.Shank.Bottom.Lateral', 'R.Shank.Top.Medial', 'R.Shank.Bottom.Medial', \n",
    "              'R.Heel.Top', 'R.Heel.Bottom', 'R.Heel.Lateral', \n",
    "              'L.Thigh.Top.Lateral', 'L.Thigh.Bottom.Lateral', 'L.Thigh.Top.Medial', 'L.Thigh.Bottom.Medial', \n",
    "              'L.Shank.Top.Lateral', 'L.Shank.Bottom.Lateral', 'L.Shank.Top.Medial', 'L.Shank.Bottom.Medial', \n",
    "              'L.Heel.Top', 'L.Heel.Bottom', 'L.Heel.Lateral', \n",
    "              'R.MT1', 'R.MT5', 'L.MT1', 'L.MT5']"
   ]
  },
  {
   "cell_type": "code",
   "execution_count": 106,
   "id": "723ab09e",
   "metadata": {},
   "outputs": [],
   "source": [
    "subject='SUB0052'"
   ]
  },
  {
   "cell_type": "code",
   "execution_count": 107,
   "id": "fde2f29f",
   "metadata": {},
   "outputs": [
    {
     "data": {
      "text/plain": [
       "['C:\\\\Users\\\\Reginaldo\\\\Documents\\\\data\\\\CNPq\\\\RBDS_v2\\\\RBA\\\\SUB0052\\\\static.c3d']"
      ]
     },
     "execution_count": 107,
     "metadata": {},
     "output_type": "execute_result"
    }
   ],
   "source": [
    "fname_S = glob.glob(os.path.join(dir_O,subject,'static.c3d'))# static file pathname\n",
    "fname_S"
   ]
  },
  {
   "cell_type": "code",
   "execution_count": 108,
   "id": "1e5792fa",
   "metadata": {},
   "outputs": [
    {
     "data": {
      "text/html": [
       "<div>\n",
       "<style scoped>\n",
       "    .dataframe tbody tr th:only-of-type {\n",
       "        vertical-align: middle;\n",
       "    }\n",
       "\n",
       "    .dataframe tbody tr th {\n",
       "        vertical-align: top;\n",
       "    }\n",
       "\n",
       "    .dataframe thead th {\n",
       "        text-align: right;\n",
       "    }\n",
       "</style>\n",
       "<table border=\"1\" class=\"dataframe\">\n",
       "  <thead>\n",
       "    <tr style=\"text-align: right;\">\n",
       "      <th></th>\n",
       "      <th>R.ASISX</th>\n",
       "      <th>R.ASISY</th>\n",
       "      <th>R.ASISZ</th>\n",
       "      <th>L.ASISX</th>\n",
       "      <th>L.ASISY</th>\n",
       "      <th>L.ASISZ</th>\n",
       "      <th>R.PSISX</th>\n",
       "      <th>R.PSISY</th>\n",
       "      <th>R.PSISZ</th>\n",
       "      <th>L.PSISX</th>\n",
       "      <th>...</th>\n",
       "      <th>L.Ankle.MedialZ</th>\n",
       "      <th>L.MT1X</th>\n",
       "      <th>L.MT1Y</th>\n",
       "      <th>L.MT1Z</th>\n",
       "      <th>L.MT5X</th>\n",
       "      <th>L.MT5Y</th>\n",
       "      <th>L.MT5Z</th>\n",
       "      <th>L.MT2X</th>\n",
       "      <th>L.MT2Y</th>\n",
       "      <th>L.MT2Z</th>\n",
       "    </tr>\n",
       "    <tr>\n",
       "      <th>Time</th>\n",
       "      <th></th>\n",
       "      <th></th>\n",
       "      <th></th>\n",
       "      <th></th>\n",
       "      <th></th>\n",
       "      <th></th>\n",
       "      <th></th>\n",
       "      <th></th>\n",
       "      <th></th>\n",
       "      <th></th>\n",
       "      <th></th>\n",
       "      <th></th>\n",
       "      <th></th>\n",
       "      <th></th>\n",
       "      <th></th>\n",
       "      <th></th>\n",
       "      <th></th>\n",
       "      <th></th>\n",
       "      <th></th>\n",
       "      <th></th>\n",
       "      <th></th>\n",
       "    </tr>\n",
       "  </thead>\n",
       "  <tbody>\n",
       "    <tr>\n",
       "      <th>0.000</th>\n",
       "      <td>961.613</td>\n",
       "      <td>1015.880</td>\n",
       "      <td>1360.445</td>\n",
       "      <td>961.069</td>\n",
       "      <td>1011.396</td>\n",
       "      <td>1122.474</td>\n",
       "      <td>779.256</td>\n",
       "      <td>1054.549</td>\n",
       "      <td>1282.965</td>\n",
       "      <td>780.059</td>\n",
       "      <td>...</td>\n",
       "      <td>1132.508</td>\n",
       "      <td>936.807</td>\n",
       "      <td>59.455</td>\n",
       "      <td>1134.652</td>\n",
       "      <td>917.708</td>\n",
       "      <td>51.014</td>\n",
       "      <td>1025.094</td>\n",
       "      <td>946.217</td>\n",
       "      <td>69.691</td>\n",
       "      <td>1093.821</td>\n",
       "    </tr>\n",
       "    <tr>\n",
       "      <th>0.007</th>\n",
       "      <td>961.608</td>\n",
       "      <td>1015.878</td>\n",
       "      <td>1360.460</td>\n",
       "      <td>961.073</td>\n",
       "      <td>1011.387</td>\n",
       "      <td>1122.482</td>\n",
       "      <td>779.256</td>\n",
       "      <td>1054.534</td>\n",
       "      <td>1282.987</td>\n",
       "      <td>780.073</td>\n",
       "      <td>...</td>\n",
       "      <td>1132.506</td>\n",
       "      <td>936.811</td>\n",
       "      <td>59.459</td>\n",
       "      <td>1134.644</td>\n",
       "      <td>917.697</td>\n",
       "      <td>51.004</td>\n",
       "      <td>1025.093</td>\n",
       "      <td>946.220</td>\n",
       "      <td>69.703</td>\n",
       "      <td>1093.826</td>\n",
       "    </tr>\n",
       "    <tr>\n",
       "      <th>0.013</th>\n",
       "      <td>961.605</td>\n",
       "      <td>1015.877</td>\n",
       "      <td>1360.482</td>\n",
       "      <td>961.076</td>\n",
       "      <td>1011.380</td>\n",
       "      <td>1122.504</td>\n",
       "      <td>779.252</td>\n",
       "      <td>1054.547</td>\n",
       "      <td>1282.993</td>\n",
       "      <td>780.083</td>\n",
       "      <td>...</td>\n",
       "      <td>1132.504</td>\n",
       "      <td>936.809</td>\n",
       "      <td>59.450</td>\n",
       "      <td>1134.641</td>\n",
       "      <td>917.690</td>\n",
       "      <td>51.005</td>\n",
       "      <td>1025.094</td>\n",
       "      <td>946.222</td>\n",
       "      <td>69.698</td>\n",
       "      <td>1093.815</td>\n",
       "    </tr>\n",
       "    <tr>\n",
       "      <th>0.020</th>\n",
       "      <td>961.607</td>\n",
       "      <td>1015.881</td>\n",
       "      <td>1360.482</td>\n",
       "      <td>961.069</td>\n",
       "      <td>1011.378</td>\n",
       "      <td>1122.517</td>\n",
       "      <td>779.264</td>\n",
       "      <td>1054.532</td>\n",
       "      <td>1282.995</td>\n",
       "      <td>780.087</td>\n",
       "      <td>...</td>\n",
       "      <td>1132.512</td>\n",
       "      <td>936.823</td>\n",
       "      <td>59.463</td>\n",
       "      <td>1134.638</td>\n",
       "      <td>917.702</td>\n",
       "      <td>50.999</td>\n",
       "      <td>1025.092</td>\n",
       "      <td>946.218</td>\n",
       "      <td>69.694</td>\n",
       "      <td>1093.821</td>\n",
       "    </tr>\n",
       "    <tr>\n",
       "      <th>0.027</th>\n",
       "      <td>961.597</td>\n",
       "      <td>1015.888</td>\n",
       "      <td>1360.515</td>\n",
       "      <td>961.071</td>\n",
       "      <td>1011.368</td>\n",
       "      <td>1122.539</td>\n",
       "      <td>779.251</td>\n",
       "      <td>1054.540</td>\n",
       "      <td>1283.005</td>\n",
       "      <td>780.098</td>\n",
       "      <td>...</td>\n",
       "      <td>1132.515</td>\n",
       "      <td>936.803</td>\n",
       "      <td>59.452</td>\n",
       "      <td>1134.649</td>\n",
       "      <td>917.690</td>\n",
       "      <td>51.012</td>\n",
       "      <td>1025.079</td>\n",
       "      <td>946.222</td>\n",
       "      <td>69.707</td>\n",
       "      <td>1093.830</td>\n",
       "    </tr>\n",
       "  </tbody>\n",
       "</table>\n",
       "<p>5 rows × 144 columns</p>\n",
       "</div>"
      ],
      "text/plain": [
       "       R.ASISX   R.ASISY   R.ASISZ  L.ASISX   L.ASISY   L.ASISZ  R.PSISX  \\\n",
       "Time                                                                       \n",
       "0.000  961.613  1015.880  1360.445  961.069  1011.396  1122.474  779.256   \n",
       "0.007  961.608  1015.878  1360.460  961.073  1011.387  1122.482  779.256   \n",
       "0.013  961.605  1015.877  1360.482  961.076  1011.380  1122.504  779.252   \n",
       "0.020  961.607  1015.881  1360.482  961.069  1011.378  1122.517  779.264   \n",
       "0.027  961.597  1015.888  1360.515  961.071  1011.368  1122.539  779.251   \n",
       "\n",
       "        R.PSISY   R.PSISZ  L.PSISX  ...  L.Ankle.MedialZ   L.MT1X  L.MT1Y  \\\n",
       "Time                                ...                                     \n",
       "0.000  1054.549  1282.965  780.059  ...         1132.508  936.807  59.455   \n",
       "0.007  1054.534  1282.987  780.073  ...         1132.506  936.811  59.459   \n",
       "0.013  1054.547  1282.993  780.083  ...         1132.504  936.809  59.450   \n",
       "0.020  1054.532  1282.995  780.087  ...         1132.512  936.823  59.463   \n",
       "0.027  1054.540  1283.005  780.098  ...         1132.515  936.803  59.452   \n",
       "\n",
       "         L.MT1Z   L.MT5X  L.MT5Y    L.MT5Z   L.MT2X  L.MT2Y    L.MT2Z  \n",
       "Time                                                                   \n",
       "0.000  1134.652  917.708  51.014  1025.094  946.217  69.691  1093.821  \n",
       "0.007  1134.644  917.697  51.004  1025.093  946.220  69.703  1093.826  \n",
       "0.013  1134.641  917.690  51.005  1025.094  946.222  69.698  1093.815  \n",
       "0.020  1134.638  917.702  50.999  1025.092  946.218  69.694  1093.821  \n",
       "0.027  1134.649  917.690  51.012  1025.079  946.222  69.707  1093.830  \n",
       "\n",
       "[5 rows x 144 columns]"
      ]
     },
     "execution_count": 108,
     "metadata": {},
     "output_type": "execute_result"
    }
   ],
   "source": [
    "c_S = c3d(fname_S[0])\n",
    "df_S_RBDS = c3d2txt_mkrs(c_S, mkr_labels_S)\n",
    "df_S_RBDS.head()"
   ]
  },
  {
   "cell_type": "code",
   "execution_count": 109,
   "id": "cb05f14e",
   "metadata": {},
   "outputs": [],
   "source": [
    "# Export to csv\n",
    "fname_out = os.path.join(dir_D, 'RBDS0'+subject[-2:]+'static.txt')\n",
    "df_S_RBDS.to_csv(fname_out, sep='\\t')"
   ]
  },
  {
   "cell_type": "code",
   "execution_count": 110,
   "id": "7d3c44e8",
   "metadata": {},
   "outputs": [
    {
     "data": {
      "text/plain": [
       "['C:\\\\Users\\\\Reginaldo\\\\Documents\\\\data\\\\CNPq\\\\RBDS_v2\\\\RBA\\\\SUB0052\\\\runT351.c3d',\n",
       " 'C:\\\\Users\\\\Reginaldo\\\\Documents\\\\data\\\\CNPq\\\\RBDS_v2\\\\RBA\\\\SUB0052\\\\runT352.c3d']"
      ]
     },
     "execution_count": 110,
     "metadata": {},
     "output_type": "execute_result"
    }
   ],
   "source": [
    "fname_R = glob.glob(os.path.join(dir_O,subject,'runT*.c3d'))# dynamic files pathname\n",
    "fname_R"
   ]
  },
  {
   "cell_type": "code",
   "execution_count": 105,
   "id": "fb02218d",
   "metadata": {},
   "outputs": [],
   "source": [
    "for f, fname in enumerate(fname_R):\n",
    "    c_R = c3d(fname_R[0], extract_forceplat_data=True)\n",
    "    \n",
    "    # Create a df with markers data\n",
    "    df_R_RBDS = c3d2txt_mkrs(c_R, mkr_labels_R)\n",
    "    # Create a df with forces data\n",
    "    df_forces = c3d2txt_grfs(c_R)\n",
    "    # Export to CSV\n",
    "    fname_out_R = os.path.join(dir_D, 'RBDS0'+subject[-2:]+fname[59:65]+'markers.txt')\n",
    "    df_R_RBDS.to_csv(fname_out_R, sep='\\t')\n",
    "    # Export to CSV\n",
    "    fname_forces_txt = os.path.join(dir_D, 'RBDS0'+subject[-2:]+fname[59:65]+'forces.txt')\n",
    "    df_forces.to_csv(fname_forces_txt, sep='\\t')"
   ]
  },
  {
   "cell_type": "code",
   "execution_count": null,
   "id": "3c87bd9e",
   "metadata": {},
   "outputs": [],
   "source": []
  },
  {
   "cell_type": "code",
   "execution_count": null,
   "id": "854a25ba",
   "metadata": {},
   "outputs": [],
   "source": []
  }
 ],
 "metadata": {
  "colab": {
   "provenance": [
    {
     "file_id": "12luz4qIj4aJAqD4vp22sjEJ6-fjui0Jq",
     "timestamp": 1674165986202
    }
   ]
  },
  "kernelspec": {
   "display_name": "Python 3 (ipykernel)",
   "language": "python",
   "name": "python3"
  },
  "language_info": {
   "codemirror_mode": {
    "name": "ipython",
    "version": 3
   },
   "file_extension": ".py",
   "mimetype": "text/x-python",
   "name": "python",
   "nbconvert_exporter": "python",
   "pygments_lexer": "ipython3",
   "version": "3.9.16"
  }
 },
 "nbformat": 4,
 "nbformat_minor": 5
}
