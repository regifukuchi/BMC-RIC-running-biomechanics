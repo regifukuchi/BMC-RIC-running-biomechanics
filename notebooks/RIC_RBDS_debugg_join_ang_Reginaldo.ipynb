{
 "cells": [
  {
   "cell_type": "markdown",
   "id": "b12e57ac",
   "metadata": {},
   "source": [
    "# RIC and RBDS debugg joint angle calculation\n",
    "\n",
    "Reginaldo K Fukuchi \n",
    "\n",
    "This NB reproduces the output from gait_kinematics.m"
   ]
  },
  {
   "cell_type": "code",
   "execution_count": 1,
   "id": "7f4e9cc6",
   "metadata": {},
   "outputs": [],
   "source": [
    "# Prepare environment\n",
    "import os, glob\n",
    "import numpy as np\n",
    "import pandas as pd\n",
    "import seaborn as sns\n",
    "import matplotlib.pyplot as plt\n",
    "%matplotlib inline"
   ]
  },
  {
   "cell_type": "code",
   "execution_count": 2,
   "id": "0a83576f",
   "metadata": {},
   "outputs": [],
   "source": [
    "# Import data\n",
    "pathname = r'../data'"
   ]
  },
  {
   "cell_type": "markdown",
   "id": "23d21fe2-af84-4172-9bb3-7bf8ff196d2c",
   "metadata": {},
   "source": [
    "### Supporting functions"
   ]
  },
  {
   "cell_type": "code",
   "execution_count": 3,
   "id": "3a772a5a-daba-4bb4-8bb0-cdd7c6ff17f8",
   "metadata": {},
   "outputs": [],
   "source": [
    "def f7(seq):\n",
    "    seen = set()\n",
    "    seen_add = seen.add\n",
    "    return [x for x in seq if not (x in seen or seen_add(x))]\n",
    "\n",
    "def loadmat(filename):\n",
    "    '''\n",
    "    this function should be called instead of direct spio.loadmat\n",
    "    as it cures the problem of not properly recovering python dictionaries\n",
    "    from mat files. It calls the function check keys to cure all entries\n",
    "    which are still mat-objects\n",
    "    '''\n",
    "    import scipy.io as spio\n",
    "    \n",
    "    def _check_keys(d):\n",
    "        '''\n",
    "        checks if entries in dictionary are mat-objects. If yes\n",
    "        todict is called to change them to nested dictionaries\n",
    "        '''\n",
    "        for key in d:\n",
    "            if isinstance(d[key], spio.matlab.mat_struct):\n",
    "                d[key] = _todict(d[key])\n",
    "        return d\n",
    "\n",
    "    def _todict(matobj):\n",
    "        '''\n",
    "        A recursive function which constructs from matobjects nested dictionaries\n",
    "        '''\n",
    "        d = {}\n",
    "        for strg in matobj._fieldnames:\n",
    "            elem = matobj.__dict__[strg]\n",
    "            if isinstance(elem, spio.matlab.mat_struct):\n",
    "                d[strg] = _todict(elem)\n",
    "            elif isinstance(elem, np.ndarray):\n",
    "                d[strg] = _tolist(elem)\n",
    "            else:\n",
    "                d[strg] = elem\n",
    "        return d\n",
    "\n",
    "    def _tolist(ndarray):\n",
    "        '''\n",
    "        A recursive function which constructs lists from cellarrays\n",
    "        (which are loaded as numpy ndarrays), recursing into the elements\n",
    "        if they contain matobjects.\n",
    "        '''\n",
    "        elem_list = []\n",
    "        for sub_elem in ndarray:\n",
    "            if isinstance(sub_elem, spio.matlab.mat_struct):\n",
    "                elem_list.append(_todict(sub_elem))\n",
    "            elif isinstance(sub_elem, np.ndarray):\n",
    "                elem_list.append(_tolist(sub_elem))\n",
    "            else:\n",
    "                elem_list.append(sub_elem)\n",
    "        return elem_list\n",
    "    data = spio.loadmat(filename, struct_as_record=False, squeeze_me=True)\n",
    "    return _check_keys(data)\n",
    "\n",
    "def loadjson(filename):\n",
    "    import json # import library\n",
    "    with open(fn_json, 'r') as f:\n",
    "        data = json.load(f)\n",
    "    \n",
    "    return data\n",
    "\n",
    "def shankCS(rkjc_R, rajc_R, RMALr):\n",
    "    # Shank reference system\n",
    "    v2s = rkjc_R-rajc_R\n",
    "    v1s = np.cross(v2s,RMALr-rajc_R)\n",
    "    v3s = np.cross(v1s,v2s)\n",
    "\n",
    "    v1s = v1s/np.linalg.norm(v1s)\n",
    "    v2s = v2s/np.linalg.norm(v2s)\n",
    "    v3s = v3s/np.linalg.norm(v3s)\n",
    "\n",
    "    bs = np.array([v1s,v2s,v3s])\n",
    "    \n",
    "    return bs\n",
    "\n",
    "def footCS(heelT, heelB, tip):\n",
    "    # Foot reference system\n",
    "    v1f   = tip\n",
    "    v2f_t = heelT - heelB\n",
    "    # check that it is pointing up...and if not, flip it\n",
    "    if v2f_t[1] < 0:\n",
    "        v2f_t = -v2f_t\n",
    "    v3f = np.cross(v1f, v2f_t)\n",
    "    v2f = np.cross(v3f, v1f)\n",
    "   \n",
    "    v1f = v1f/np.linalg.norm(v1f)\n",
    "    v2f = v2f/np.linalg.norm(v2f)\n",
    "    v3f = v3f/np.linalg.norm(v3f)\n",
    "    \n",
    "    bf = np.array([v1f,v2f,v3f])\n",
    "    \n",
    "    return bf"
   ]
  },
  {
   "cell_type": "markdown",
   "id": "5a40dae9",
   "metadata": {
    "tags": []
   },
   "source": [
    "## Import data\n",
    "### RIC data"
   ]
  },
  {
   "cell_type": "code",
   "execution_count": 4,
   "id": "f6193729-bf7e-4aa4-8236-a8783ecb1409",
   "metadata": {},
   "outputs": [],
   "source": [
    "figshare_dir = r'C:\\Users\\Reginaldo\\OneDrive - University of Calgary\\data\\Figshare_SciData\\new_unzip'\n",
    "data_dir = r'../data'"
   ]
  },
  {
   "cell_type": "code",
   "execution_count": 5,
   "id": "1cfd44f6-bcc9-45be-91cd-f9dd09d4dd13",
   "metadata": {},
   "outputs": [
    {
     "data": {
      "text/plain": [
       "dict_keys(['hz_w', 'hz_r', 'walking', 'running', 'joints', 'neutral', 'dv_w', 'dv_r'])"
      ]
     },
     "execution_count": 5,
     "metadata": {},
     "output_type": "execute_result"
    }
   ],
   "source": [
    "fn_json=os.path.join(figshare_dir, '201225', '20140515T133244.json')\n",
    "data_RIC = loadjson(fn_json)\n",
    "data_RIC.keys()"
   ]
  },
  {
   "cell_type": "markdown",
   "id": "2fe7a337-29ad-4bee-bd9f-4cee9cb10a33",
   "metadata": {},
   "source": [
    "#### Assign data from dict to numpy arrays"
   ]
  },
  {
   "cell_type": "code",
   "execution_count": 6,
   "id": "f5b53d55-c77f-4a0a-9572-bfebc642d93e",
   "metadata": {},
   "outputs": [],
   "source": [
    "# Marker labels static trial\n",
    "neutral_lbls = list(data_RIC['neutral'].keys())\n",
    "xyz = list('XYZ')*len(neutral_lbls)\n",
    "neutral_lbls = [ele for ele in neutral_lbls for i in range(3)]\n",
    "neutral_lbls = [neutral_lbls[i]+'_'+xyz[i] for i in range(len(xyz))]\n",
    "\n",
    "# Joint marker labels static trial\n",
    "joints_lbls = list(data_RIC['joints'].keys())\n",
    "xyz = list('XYZ')*len(joints_lbls)\n",
    "joints_lbls = [ele for ele in joints_lbls for i in range(3)]\n",
    "joints_lbls = [joints_lbls[i]+'_'+xyz[i] for i in range(len(xyz))]\n",
    "\n",
    "# Marker labels running trial\n",
    "gait_lbls = list(data_RIC['running'].keys())\n",
    "xyz = list('XYZ')*len(gait_lbls)\n",
    "gait_lbls = [ele for ele in gait_lbls for i in range(3)]\n",
    "gait_lbls = [gait_lbls[i]+'_'+xyz[i] for i in range(len(xyz))]"
   ]
  },
  {
   "cell_type": "code",
   "execution_count": 7,
   "id": "2aca1eba-13c8-4494-94f9-49dba0e9829d",
   "metadata": {},
   "outputs": [],
   "source": [
    "# Convert dictionaries into pandas dfs\n",
    "neutral = pd.DataFrame.from_dict(data_RIC['neutral']).values.reshape((1,len(neutral_lbls)),\n",
    "                                                                     order='F')\n",
    "joints  = pd.DataFrame.from_dict(data_RIC['joints']).values.reshape((1,len(joints_lbls)),\n",
    "                                                                     order='F')"
   ]
  },
  {
   "cell_type": "code",
   "execution_count": 8,
   "id": "7cf95c7e-8d9e-43f4-95fc-d37258685237",
   "metadata": {},
   "outputs": [],
   "source": [
    "run_data = np.empty(shape=(5000, len(list(data_RIC['running'].keys()))*3))\n",
    "for m, mkr in enumerate(list(data_RIC['running'].keys())):\n",
    "    run_data[:, 3*m:3*(m+1)] = np.array(data_RIC['running'][mkr])\n",
    "# Create dataframe with running data\n",
    "df_gait = pd.DataFrame(data = run_data, columns=gait_lbls)\n",
    "# array with marker trajectories\n",
    "gait = df_gait.values"
   ]
  },
  {
   "cell_type": "markdown",
   "id": "d93b2899-7993-4da3-9f5f-ea6254a051b4",
   "metadata": {},
   "source": [
    "#### Apply transformation matrix\n",
    "To make RIC reference system convention consistent to RBDS"
   ]
  },
  {
   "cell_type": "code",
   "execution_count": 9,
   "id": "e3719a82-bc34-4204-8894-d9f029d45593",
   "metadata": {},
   "outputs": [],
   "source": [
    "# Static\n",
    "df_Sm = np.empty(neutral.shape[1]) * np.NaN\n",
    "rot = np.array([[0,0,-1],[0,1,0],[1,0,0]]) # rotate markers 90 deg\n",
    "for m in range(len(list(data_RIC['neutral'].keys()))):\n",
    "    df_Sm[3*m:3*m+3] = np.dot(rot, neutral[0,3*m:3*m+3])\n",
    "neutral = pd.DataFrame(data=df_Sm[np.newaxis,:], \n",
    "                           columns=neutral_lbls)"
   ]
  },
  {
   "cell_type": "code",
   "execution_count": 10,
   "id": "c7913da2-6ebd-4fc6-9bc4-db801f4c5edf",
   "metadata": {},
   "outputs": [],
   "source": [
    "# Joints\n",
    "df_Jm = np.empty(joints.shape[1]) * np.NaN\n",
    "rot = np.array([[0,0,-1],[0,1,0],[1,0,0]]) # rotate markers 90 deg\n",
    "for m in range(len(list(data_RIC['joints'].keys()))):\n",
    "    df_Jm[3*m:3*m+3] = np.dot(rot, joints[0,3*m:3*m+3])\n",
    "joints = pd.DataFrame(data=df_Jm[np.newaxis,:], \n",
    "                           columns=joints_lbls)"
   ]
  },
  {
   "cell_type": "code",
   "execution_count": 11,
   "id": "9e402772-1239-440f-b943-b9b3fba2095c",
   "metadata": {},
   "outputs": [],
   "source": [
    "# Gait\n",
    "df_Gm = np.empty(shape=gait.shape) * np.NaN\n",
    "rot = np.array([[0,0,-1],[0,1,0],[1,0,0]]) # rotate markers 90 deg\n",
    "for m in range(len(list(data_RIC['running'].keys()))):\n",
    "    for i in range(gait.shape[0]):\n",
    "        df_Gm[i, 3*m:3*m+3] = np.dot(rot, gait[i,3*m:3*m+3])\n",
    "gait = pd.DataFrame(data=df_Gm, \n",
    "                           columns=gait_lbls)"
   ]
  },
  {
   "cell_type": "markdown",
   "id": "82b65f41-1874-4c82-b5db-1c35cd0026f5",
   "metadata": {},
   "source": [
    "Static marker positions"
   ]
  },
  {
   "cell_type": "code",
   "execution_count": 12,
   "id": "cc8f070a-dcf0-4428-9821-2443a86d0839",
   "metadata": {},
   "outputs": [],
   "source": [
    "# JOINT CENTRES\n",
    "R_lat_knee = joints[['R_lat_knee_X','R_lat_knee_Y','R_lat_knee_Z']].values\n",
    "R_med_knee = joints[['R_med_knee_X','R_med_knee_Y','R_med_knee_Z']].values\n",
    "L_lat_knee = joints[['L_lat_knee_X','L_lat_knee_Y','L_lat_knee_Z']].values\n",
    "L_med_knee = joints[['L_med_knee_X','L_med_knee_Y','L_med_knee_Z']].values\n",
    "R_lat_ankle = joints[['R_lat_ankle_X','R_lat_ankle_Y','R_lat_ankle_Z']].values\n",
    "R_med_ankle = joints[['R_med_ankle_X','R_med_ankle_Y','R_med_ankle_Z']].values\n",
    "L_lat_ankle = joints[['L_lat_ankle_X','L_lat_ankle_Y','L_lat_ankle_Z']].values\n",
    "L_med_ankle = joints[['L_med_ankle_X','L_med_ankle_Y','L_med_ankle_Z']].values\n",
    "# midpoint of the two knee markers\n",
    "jcL_knee = (L_lat_knee+L_med_knee)/2\n",
    "jcR_knee = (R_lat_knee+R_med_knee)/2\n",
    "# midpoint of the two ankle markers\n",
    "jcL_ankle = (L_lat_ankle+L_med_ankle)/2\n",
    "jcR_ankle = (R_med_ankle+R_lat_ankle)/2"
   ]
  },
  {
   "cell_type": "markdown",
   "id": "24d989e7-2096-456e-9c18-2103286e12c2",
   "metadata": {},
   "source": [
    "### Foot reference system"
   ]
  },
  {
   "cell_type": "code",
   "execution_count": 13,
   "id": "3538ad61-8c58-40c9-9e80-b05ded6abc20",
   "metadata": {},
   "outputs": [],
   "source": [
    "import sys\n",
    "sys.path.insert(1, r'../functions')\n",
    "from svdt import svdt"
   ]
  },
  {
   "cell_type": "code",
   "execution_count": 14,
   "id": "6b93bbe3-4648-4bcc-bcc5-59ee33022394",
   "metadata": {},
   "outputs": [],
   "source": [
    "#%% RIGHT FOOT\n",
    "#% long axis of the the foot is aligned with the lab\n",
    "r_foot_x = np.array([1, 0, 0])\n",
    "\n",
    "#% vertical axis of the foot is aligned with the two markers on the heel\n",
    "#% FIRST need to identify the heel markers\n",
    "#% Combine 3 feet markers into one matrix ... can ignore the created fourth one\n",
    "R_foot = neutral[['R_foot_1_X','R_foot_1_Y','R_foot_1_Z',\n",
    "                 'R_foot_2_X','R_foot_2_Y','R_foot_2_Z',\n",
    "                 'R_foot_3_X','R_foot_3_Y','R_foot_3_Z']].values.reshape((3,3))\n",
    "\n",
    "# sort the markers from left to right\n",
    "R_foot = R_foot[R_foot[:, 2].argsort()]"
   ]
  },
  {
   "cell_type": "code",
   "execution_count": 15,
   "id": "724dca33-dba7-4b4a-b20a-7bb509c3d13d",
   "metadata": {},
   "outputs": [],
   "source": [
    "# Create a marker (vector) aligned with x-axis of the lab and its origin in the heel marker\n",
    "tip_S = R_foot[0,:] + np.array([1,0,0])"
   ]
  },
  {
   "cell_type": "code",
   "execution_count": 16,
   "id": "179c5b81-a5a7-4c5a-8f00-f94c825a51a0",
   "metadata": {},
   "outputs": [
    {
     "data": {
      "text/plain": [
       "array([[ 0.11258744,  0.13814939,  0.98399127],\n",
       "       [ 0.214817  ,  0.96348421, -0.15984944],\n",
       "       [-0.97014315,  0.22937509,  0.07879939]])"
      ]
     },
     "execution_count": 16,
     "metadata": {},
     "output_type": "execute_result"
    }
   ],
   "source": [
    "bf_S = footCS(R_foot[1,:], R_foot[0,:], tip_S)\n",
    "np.set_printoptions(suppress=True)\n",
    "bf_S"
   ]
  },
  {
   "cell_type": "markdown",
   "id": "40926e55-9308-415d-afbf-9232003a8a7f",
   "metadata": {},
   "source": [
    "## Calculate transformation matrix using SVD algorithm"
   ]
  },
  {
   "cell_type": "code",
   "execution_count": 17,
   "id": "5b45d61d-c642-449d-bbe0-c9eb9c544643",
   "metadata": {},
   "outputs": [],
   "source": [
    "# %% now we need the DYNAMIC walking/running data from the input argument\n",
    "# Foot marker positions running\n",
    "R_foot_1_R = np.array(data_RIC['running']['R_foot_1'])\n",
    "R_foot_2_R = np.array(data_RIC['running']['R_foot_2'])\n",
    "R_foot_3_R = np.array(data_RIC['running']['R_foot_3'])\n",
    "# Shank marker positions running\n",
    "R_shank_1_R = np.array(data_RIC['running']['R_shank_1'])\n",
    "R_shank_2_R = np.array(data_RIC['running']['R_shank_2'])\n",
    "R_shank_3_R = np.array(data_RIC['running']['R_shank_3'])\n",
    "R_shank_4_R = np.array(data_RIC['running']['R_shank_4'])"
   ]
  },
  {
   "cell_type": "code",
   "execution_count": 18,
   "id": "b14a511a-9889-4245-816e-b7b11ee0b2d0",
   "metadata": {},
   "outputs": [],
   "source": [
    "# Foot basis static\n",
    "bf_S = neutral[['R_foot_1_X','R_foot_1_Y','R_foot_1_Z',\n",
    "                 'R_foot_2_X','R_foot_2_Y','R_foot_2_Z',\n",
    "                 'R_foot_3_X','R_foot_3_Y','R_foot_3_Z']].values\n",
    "\n",
    "# Foot basis running\n",
    "bf_R = gait[['R_foot_1_X','R_foot_1_Y','R_foot_1_Z',\n",
    "                 'R_foot_2_X','R_foot_2_Y','R_foot_2_Z',\n",
    "                 'R_foot_3_X','R_foot_3_Y','R_foot_3_Z']].values\n",
    "\n",
    "# Reconstructed markers based on technical clusters\n",
    "Rf, Lf, RMSEf = svdt(bf_S, bf_R)"
   ]
  },
  {
   "cell_type": "code",
   "execution_count": 19,
   "id": "d30b0846-1b2b-4636-b7ec-8beb8bc447f1",
   "metadata": {},
   "outputs": [],
   "source": [
    "# Shank basis static\n",
    "bs_S = neutral[['R_shank_1_X','R_shank_1_Y','R_shank_1_Z',\n",
    "                 'R_shank_2_X','R_shank_2_Y','R_shank_2_Z',\n",
    "                 'R_shank_3_X','R_shank_3_Y','R_shank_3_Z',\n",
    "               'R_shank_4_X','R_shank_4_Y','R_shank_4_Z']].values\n",
    "# Shank basis running\n",
    "bs_R = gait[['R_shank_1_X','R_shank_1_Y','R_shank_1_Z',\n",
    "                 'R_shank_2_X','R_shank_2_Y','R_shank_2_Z',\n",
    "                 'R_shank_3_X','R_shank_3_Y','R_shank_3_Z',\n",
    "               'R_shank_4_X','R_shank_4_Y','R_shank_4_Z']].values\n",
    "# Reconstructed markers based on technical clusters\n",
    "Rs, Ls, RMSEs = svdt(bs_S, bs_R)"
   ]
  },
  {
   "cell_type": "markdown",
   "id": "1430f550-9150-41cc-9244-605d0ec32d34",
   "metadata": {},
   "source": [
    "### Calculate virtual position of anatomical markers"
   ]
  },
  {
   "cell_type": "code",
   "execution_count": 20,
   "id": "f2335833-0497-460c-8232-61aabab12a40",
   "metadata": {},
   "outputs": [],
   "source": [
    "# Tip of the toe aligned with the lab\n",
    "tip_R = np.dot(Rf,tip_S) + Lf\n",
    "# Ankle joint centre\n",
    "jcR_knee_R = np.dot(Rs,jcR_knee.flatten()) + Ls\n",
    "# Ankle joint centre\n",
    "jcR_ankle_R = np.dot(Rs,jcR_ankle.flatten()) + Ls\n",
    "# Ankle joint centre\n",
    "R_lat_ankle_R = np.dot(Rs,R_lat_ankle.flatten()) + Ls"
   ]
  },
  {
   "cell_type": "markdown",
   "id": "d9fec2e8-69a9-4586-9094-f0d940af0d5c",
   "metadata": {},
   "source": [
    "## Calculate angle according to Grood & Suntay (1983)"
   ]
  },
  {
   "cell_type": "code",
   "execution_count": 33,
   "id": "4e07f23d-7433-443c-9043-f222e1fafc90",
   "metadata": {},
   "outputs": [],
   "source": [
    "def ankleang(p_ank_rf, d_ank_rf):\n",
    "    \"\"\"\n",
    "    Calculate 3D ankle joint angle in degrees\n",
    "    \"\"\"\n",
    "    bs = p_ank_rf\n",
    "    bf = d_ank_rf\n",
    "    anga = np.empty(shape=(3,))\n",
    "    ya = bf[1,:];\n",
    "    za = bs[2,:];\n",
    "    fa = np.cross(ya,za); #floating axis\n",
    "    fa = fa/np.linalg.norm(fa)\n",
    "    ba =np.array([fa, ya, za], dtype=object);\n",
    "    \n",
    "    # ankle angle\n",
    "    anga[0] = (np.pi/2 - np.arccos(np.sum(bs[1]*fa)))*180/np.pi # Flexion/Extension\n",
    "    anga[1] = (-np.pi/2 - np.arccos(np.sum(ya*bs[2])))*180/np.pi + 180 #Abduction/aduction\n",
    "    anga[2] = (np.pi/2 - np.arccos(np.sum(bf[2]*fa)))*180/np.pi #Internal/external rotation\n",
    "    \n",
    "    return anga"
   ]
  },
  {
   "cell_type": "code",
   "execution_count": 37,
   "id": "48339bf1-8bbf-4110-9d9f-65668906d757",
   "metadata": {},
   "outputs": [],
   "source": [
    "def cardanangles(r):\n",
    "    '''\n",
    "    %%%%%%%%%%%%%%%%%%%%%%%%%%%%%%%%%%%%%%%%%%%%%%%%%%%%%%%%%%%%%%%%%%%%%%%%%%%\n",
    "    # %   This function inputs the ROTATION matrix for a given joint\n",
    "    # %   at one point in time and uses the cardan angles sequence to\n",
    "    # %   provide the XYZ joint angles in OUT argument\n",
    "    # %\n",
    "    # %   The function uses the following  rotation matrix to calculate angles\n",
    "    # %      | CzCy-SzSySx  SzCy+CzSySx  -SyCx |\n",
    "    # %      | -SzCx        CzCx         Sx    |\n",
    "    # %      | CzSy+SzCySx  SzSy-CzCySx  CyCx  |\n",
    "    # %  INPUTS\n",
    "    # %  --------\n",
    "    # %   R (mat):    A 3x3 rotation matrix for a joint\n",
    "\n",
    "    # %  OUTPUTS\n",
    "    # %  -------\n",
    "    # %  OUT (mat):      The three (1x3) planes of rotation in radians\n",
    "    # %%%%%%%%%%%%%%%%%%%%%%%%%%%%%%%%%%%%%%%%%%%%%%%%%%%%%%%%%%%%%%%%%%%%%%%%%%%\n",
    "    # %%\n",
    "    # %   angle.L_ankle(i,:) = cardanangles(R.L_ankle(:,:,i));\n",
    "\n",
    "    # % the use of atan2 increases the stability by avoiding gimble lock in\n",
    "    # % the physiologicaly posible range of joint angles.\n",
    "    '''\n",
    "    # Prepare Python environment\n",
    "    import numpy as np\n",
    "    x = np.arctan2(r[1,2], np.sqrt(r[0,2]**2+r[2,2]**2))\n",
    "    y = np.arctan2(-r[0,2], r[2,2])\n",
    "    z = np.arctan2(-r[1,0], r[1,1])\n",
    "\n",
    "    out = np.array([x,y,z])\n",
    "\n",
    "    return out"
   ]
  },
  {
   "cell_type": "markdown",
   "id": "99db3737-0400-4630-9be8-c0eb8f95c041",
   "metadata": {},
   "source": [
    "# PENDING\n",
    "## descobrir pq os angulos nao estao batendo. \n",
    "quando uso a funcao \"ankleang\", apenas DF/PF nao bate"
   ]
  },
  {
   "cell_type": "code",
   "execution_count": null,
   "id": "a52dd903-6cbb-44a4-b363-93474d12ebd5",
   "metadata": {},
   "outputs": [],
   "source": []
  },
  {
   "cell_type": "code",
   "execution_count": null,
   "id": "9a497a98-1b62-4798-9773-cb6907b40dfe",
   "metadata": {},
   "outputs": [],
   "source": []
  },
  {
   "cell_type": "code",
   "execution_count": null,
   "id": "94d2b7ba-1aec-497f-94b8-a8d8fd635d3f",
   "metadata": {},
   "outputs": [],
   "source": []
  },
  {
   "cell_type": "markdown",
   "id": "7b803adc-4627-40ee-9f98-a03a15ab02ca",
   "metadata": {},
   "source": [
    "### Joint angles during running"
   ]
  },
  {
   "cell_type": "code",
   "execution_count": 38,
   "id": "2044ec8c-7ab3-464f-9a80-118ac235edbf",
   "metadata": {},
   "outputs": [],
   "source": [
    "anga_r = np.empty(shape=(jcR_knee_R.shape[0],3))\n",
    "angle_R_ankle = np.empty(shape=(jcR_knee_R.shape[0],3))\n",
    "# Heel markers of the foot\n",
    "heelT = gait[['R_foot_1_X', 'R_foot_1_Y', 'R_foot_1_Z']].values\n",
    "heelB = gait[['R_foot_2_X', 'R_foot_2_Y', 'R_foot_2_Z']].values\n",
    "for i in range(jcR_knee_R.shape[0]):\n",
    "    bs = shankCS(jcR_knee_R[i,:],jcR_ankle_R[i,:],R_lat_ankle_R[i,:])\n",
    "    bf = footCS(heelT[i,:], heelB[i,:], tip_R[i,:])\n",
    "    # Ankle angle\n",
    "    anga_r[i,:] = ankleang(bs, bf)\n",
    "    \n",
    "    ## Sean calculation\n",
    "    R_R_ankle = np.dot(bs.T, bf)\n",
    "    ang = cardanangles(R_R_ankle)\n",
    "    angle_R_ankle[i,:] = ang * (180/np.pi)"
   ]
  },
  {
   "cell_type": "code",
   "execution_count": 39,
   "id": "a3727d8b-10fc-43af-9a14-e17747d2a408",
   "metadata": {},
   "outputs": [
    {
     "data": {
      "text/plain": [
       "(5000, 3)"
      ]
     },
     "execution_count": 39,
     "metadata": {},
     "output_type": "execute_result"
    }
   ],
   "source": [
    "angle_R_ankle.shape"
   ]
  },
  {
   "cell_type": "code",
   "execution_count": 40,
   "id": "d323b7b5-7940-403c-8cb7-cb78b5fa3e5e",
   "metadata": {},
   "outputs": [],
   "source": [
    "fmt   = '\\t%.6f'*(anga_r.shape[1]) "
   ]
  },
  {
   "cell_type": "code",
   "execution_count": 41,
   "id": "f7abd95a-6eed-4716-8220-63407d718047",
   "metadata": {},
   "outputs": [],
   "source": [
    "header= 'ankle_X\\tankle_Y\\tankle_Z'\n",
    "fn_ankle = os.path.join(data_dir, 'ankle_ang.csv')\n",
    "np.savetxt(fname=fn_ankle, X=angle_R_ankle, fmt=fmt, delimiter='\\t', header=header, comments='')"
   ]
  },
  {
   "cell_type": "code",
   "execution_count": null,
   "id": "df62169e-e75c-48c8-a738-997b0a55ec10",
   "metadata": {},
   "outputs": [],
   "source": []
  },
  {
   "cell_type": "code",
   "execution_count": null,
   "id": "bb2bd5f7-c25b-4e6b-b074-682878a3d2f1",
   "metadata": {},
   "outputs": [],
   "source": []
  },
  {
   "cell_type": "code",
   "execution_count": null,
   "id": "49a5d6d5-420f-4424-8769-6f52925b9be6",
   "metadata": {},
   "outputs": [],
   "source": []
  },
  {
   "cell_type": "code",
   "execution_count": null,
   "id": "6a9215a3-ee81-41ee-84af-cd74249bfce9",
   "metadata": {},
   "outputs": [],
   "source": []
  },
  {
   "cell_type": "code",
   "execution_count": null,
   "id": "8003674a-0b3b-4172-9c22-064388febb0a",
   "metadata": {},
   "outputs": [],
   "source": []
  },
  {
   "cell_type": "code",
   "execution_count": 23,
   "id": "bfc2ca6f-cb1f-473a-accc-c5c2a18c5b04",
   "metadata": {},
   "outputs": [],
   "source": [
    "fig, axs = plt.subplots(3, figsize=(10,6))\n",
    "fig.suptitle('Comparison of ankle angles between methods')\n",
    "axs[0].plot(anga_r[:,0], 'b', label='Python')\n",
    "axs[0].grid('on')\n",
    "axs[1].plot(anga_r[:,1], 'r', label='Python')\n",
    "axs[1].grid('on')\n",
    "axs[2].plot(anga_r[:,2], 'g', label='Python')\n",
    "axs[2].grid('on')\n",
    "plt.show()"
   ]
  },
  {
   "cell_type": "code",
   "execution_count": null,
   "id": "86944c63-78fc-4d1a-9c6d-8b17dc80de86",
   "metadata": {},
   "outputs": [],
   "source": []
  },
  {
   "cell_type": "code",
   "execution_count": null,
   "id": "d6c729d4-3722-49e1-9f07-75d9d47c29f3",
   "metadata": {},
   "outputs": [],
   "source": [
    "# SECOND, create a vector from the two left markers (not the lateral one)\n",
    "r_foot_temp = (R_foot[0,:]-R_foot[1,:])/np.linalg.norm(R_foot[0,:]-R_foot[1,:])"
   ]
  },
  {
   "cell_type": "code",
   "execution_count": null,
   "id": "0b423d0e-7da6-4bf4-bd9d-e0fec438be27",
   "metadata": {},
   "outputs": [],
   "source": [
    "bf = footCS(R_foot[0,:], R_foot[1,:])"
   ]
  },
  {
   "cell_type": "code",
   "execution_count": null,
   "id": "ea4604df-89f6-4acd-91d1-323d073c27e8",
   "metadata": {},
   "outputs": [],
   "source": []
  },
  {
   "cell_type": "code",
   "execution_count": null,
   "id": "43ab6474-9585-4c6b-ac2d-f620af0f9d7f",
   "metadata": {},
   "outputs": [],
   "source": []
  },
  {
   "cell_type": "code",
   "execution_count": null,
   "id": "0259c788-acf1-401a-a406-14ba6f71e100",
   "metadata": {},
   "outputs": [],
   "source": []
  },
  {
   "cell_type": "code",
   "execution_count": null,
   "id": "8da57830-1683-4bc3-b1c5-277c93cdafca",
   "metadata": {},
   "outputs": [],
   "source": []
  },
  {
   "cell_type": "code",
   "execution_count": null,
   "id": "f3676d90-fff9-43ce-8bb2-ad02ed355b20",
   "metadata": {},
   "outputs": [],
   "source": [
    "#%% RIGHT FOOT\n",
    "#% long axis of the the foot is aligned with the lab\n",
    "r_foot_x = np.array([1, 0, 0])\n",
    "\n",
    "#% vertical axis of the foot is aligned with the two markers on the heel\n",
    "#% FIRST need to identify the heel markers\n",
    "#% Combine 3 feet markers into one matrix ... can ignore the created fourth one\n",
    "R_foot = neutral[['R_foot_1_X','R_foot_1_Y','R_foot_1_Z',\n",
    "                 'R_foot_2_X','R_foot_2_Y','R_foot_2_Z',\n",
    "                 'R_foot_3_X','R_foot_3_Y','R_foot_3_Z']].values.reshape((3,3))\n",
    "\n",
    "# sort the markers from left to right\n",
    "R_foot = R_foot[R_foot[:, 2].argsort()]\n",
    "# SECOND, create a vector from the two left markers (not the lateral one)\n",
    "r_foot_temp = (R_foot[0,:]-R_foot[1,:])/np.linalg.norm(R_foot[0,:]-R_foot[1,:])\n",
    "\n",
    "#% check that it is pointing up ... and if not, flip it\n",
    "if r_foot_temp[1] < 0:\n",
    "    r_foot_temp = -r_foot_temp\n",
    "    \n",
    "#% use the temp vertical axis to create the lateral axis\n",
    "r_foot_z = np.cross(r_foot_x,r_foot_temp)/np.linalg.norm(np.cross(r_foot_x,\n",
    "                                                                  r_foot_temp))\n",
    "\n",
    "#% and create the 'vertical' axis that provides standing eversion angle\n",
    "r_foot_y = np.cross(r_foot_z,r_foot_x)/np.linalg.norm(np.cross(r_foot_z, \n",
    "                                                               r_foot_x))\n",
    "\n",
    "#% combine to create a transformation matrix from anatomical to global\n",
    "agR_foot = np.array([r_foot_x,r_foot_y,r_foot_z]).T\n",
    "print('Versors of the foot segment from anatomical to global')\n",
    "print(agR_foot)"
   ]
  },
  {
   "cell_type": "code",
   "execution_count": null,
   "id": "0f9c4664-3fc7-4cbd-b04c-a42976e763e2",
   "metadata": {},
   "outputs": [],
   "source": [
    "bf = footCS(R_foot[0,:], R_foot[1,:])\n",
    "bf.T"
   ]
  },
  {
   "cell_type": "code",
   "execution_count": null,
   "id": "5f966d7e-02be-43cf-8a53-c82db1ad4440",
   "metadata": {},
   "outputs": [],
   "source": []
  },
  {
   "cell_type": "code",
   "execution_count": null,
   "id": "839ef246-68c2-4fb1-b724-6a8c6e75aa91",
   "metadata": {},
   "outputs": [],
   "source": [
    "#%% RIGHT SHANK\n",
    "r_shank_y=(jcR_knee-jcR_ankle)/np.linalg.norm(jcR_knee-jcR_ankle); #long axis pointing up\n",
    "r_shank_temp=(R_lat_ankle-R_med_ankle)/np.linalg.norm(R_lat_ankle-R_med_ankle) #almost the hinge joing pointing to the right\n",
    "r_shank_x= np.cross(r_shank_y,r_shank_temp)/np.linalg.norm(np.cross(r_shank_y,r_shank_temp)) #Anterior axis from the cross\n",
    "r_shank_z=np.cross(r_shank_x,r_shank_y)/np.linalg.norm(np.cross(r_shank_x,r_shank_y)) #hinge axis, lateral for right\n",
    "\n",
    "# combine to create a transformation matrix from anatomical to global\n",
    "agR_shank=np.array([r_shank_x,r_shank_y,r_shank_z]).T\n",
    "print('Versors of the shank segment from anatomical to global')\n",
    "print(agR_shank)"
   ]
  },
  {
   "cell_type": "code",
   "execution_count": null,
   "id": "c917d33c-2e8f-4820-a149-6f84cd1117ba",
   "metadata": {},
   "outputs": [],
   "source": [
    "# %% use the transformation matrixes we just made to get the segment markers\n",
    "# % in terms of the ANATOMICAL COORDINATE system (ie if the anatomical\n",
    "# % coordinate system was located at the world orgin, where would the markers\n",
    "# % be located). this can be better understood by visualizing the vectors\n",
    "# % defining the marker location.\n",
    "# % the marker locations in this reference frame will be used with the\n",
    "# % soderkvist method as 'before' inputs.\n",
    "\n",
    "# Rename foot markers in the neutral standing trial\n",
    "R_foot_1_S = neutral[['R_foot_1_X','R_foot_1_Y','R_foot_1_Z']].values\n",
    "R_foot_2_S = neutral[['R_foot_2_X','R_foot_2_Y','R_foot_2_Z']].values\n",
    "R_foot_3_S = neutral[['R_foot_3_X','R_foot_3_Y','R_foot_3_Z']].values\n",
    "R_foot_4_S = neutral[['R_foot_4_X','R_foot_4_Y','R_foot_4_Z']].values\n",
    "\n",
    "# % the foot markers in an ANATOMICAL COORDINATE system ...\n",
    "acR_foot_1=np.dot(agR_foot.T, R_foot_1_S.T)\n",
    "acR_foot_2=np.dot(agR_foot.T, R_foot_2_S.T)\n",
    "acR_foot_3=np.dot(agR_foot.T, R_foot_3_S.T)\n",
    "acR_foot_4=np.dot(agR_foot.T, R_foot_4_S.T)\n",
    "acR_foot=np.array([acR_foot_1, acR_foot_2, acR_foot_3, acR_foot_4]).T[0,:,:]\n",
    "# Centroid of markers\n",
    "centroid = np.mean(acR_foot, axis=1)\n",
    "# Ankle joint centre in the Foot CS\n",
    "djcR_ankle=np.dot(agR_foot.T, jcR_ankle.T) - centroid"
   ]
  },
  {
   "cell_type": "code",
   "execution_count": null,
   "id": "6fa27d85-ebcc-4ef6-8333-6e934bcf8051",
   "metadata": {},
   "outputs": [],
   "source": [
    "# Rename shank markers in the neutral standing trial\n",
    "R_shank_1_S = neutral[['R_shank_1_X','R_shank_1_Y','R_shank_1_Z']].values\n",
    "R_shank_2_S = neutral[['R_shank_2_X','R_shank_2_Y','R_shank_2_Z']].values\n",
    "R_shank_3_S = neutral[['R_shank_3_X','R_shank_3_Y','R_shank_3_Z']].values\n",
    "R_shank_4_S = neutral[['R_shank_4_X','R_shank_4_Y','R_shank_4_Z']].values\n",
    "\n",
    "# % the shank markers in an ANATOMICAL COORDINATE system ...\n",
    "acR_shank_1=np.dot(agR_shank.T, R_shank_1_S.T)\n",
    "acR_shank_2=np.dot(agR_shank.T, R_shank_2_S.T)\n",
    "acR_shank_3=np.dot(agR_shank.T, R_shank_3_S.T)\n",
    "acR_shank_4=np.dot(agR_shank.T, R_shank_4_S.T)\n",
    "acR_shank=np.array([acR_shank_1, acR_shank_2, acR_shank_3, acR_shank_4]).T[0,:,:]\n",
    "# Centroid of markers\n",
    "centroid = np.mean(acR_shank, axis=1)\n",
    "# Knee joint centre in the Foot CS\n",
    "djcR_knee=np.dot(agR_shank.T, jcR_knee.T) - centroid"
   ]
  },
  {
   "cell_type": "code",
   "execution_count": null,
   "id": "95f9cd15-0c29-40af-869a-53260ec2f525",
   "metadata": {},
   "outputs": [],
   "source": [
    "# %% create the rotation matrix from segment to lab for all the segments for\n",
    "# % every time point. this uses soderkvist. the operations done on the\n",
    "# % neutral trial data only need to be done once and can be done before we\n",
    "# % load the dynamic data and are therefore outside of the loop\n",
    "\n",
    "# % calculate average marker position of the segment markers\n",
    "avg_ac_R_foot=np.mean(acR_foot,axis=1)\n",
    "avg_ac_R_shank=np.mean(acR_shank,axis=1)\n",
    "\n",
    "# % calculate the distance from the marker posisiton to the average position\n",
    "# % neutral\n",
    "dif_ac_R_foot=np.array([acR_foot[0,:]-avg_ac_R_foot[0],\n",
    "                       acR_foot[1,:]-avg_ac_R_foot[1],\n",
    "                       acR_foot[2,:]-avg_ac_R_foot[2]])\n",
    "dif_ac_R_shank=np.array([acR_shank[0,:]-avg_ac_R_shank[0],\n",
    "                       acR_shank[1,:]-avg_ac_R_shank[1],\n",
    "                       acR_shank[2,:]-avg_ac_R_shank[2]])"
   ]
  },
  {
   "cell_type": "code",
   "execution_count": null,
   "id": "834e9a02-7f33-4908-bd6a-8a62134ab7ae",
   "metadata": {},
   "outputs": [],
   "source": [
    "# %% now we need the DYNAMIC walking/running data from the input argument\n",
    "# Foot marker positions running\n",
    "R_foot_1_R = np.array(data_RIC['running']['R_foot_1'])\n",
    "R_foot_2_R = np.array(data_RIC['running']['R_foot_2'])\n",
    "R_foot_3_R = np.array(data_RIC['running']['R_foot_3'])\n",
    "R_foot_4_R = np.array(data_RIC['running']['R_foot_4'])\n",
    "# Shank marker positions running\n",
    "R_shank_1_R = np.array(data_RIC['running']['R_shank_1'])\n",
    "R_shank_2_R = np.array(data_RIC['running']['R_shank_2'])\n",
    "R_shank_3_R = np.array(data_RIC['running']['R_shank_3'])\n",
    "R_shank_4_R = np.array(data_RIC['running']['R_shank_4'])\n",
    "\n",
    "# % prealocating the size of these matricies that collect data in the loop\n",
    "# % to increase speed\n",
    "R_R_foot = np.zeros(shape=(4,4, R_foot_1_R.shape[0]))\n",
    "R_R_shank = R_R_foot;\n",
    "\n",
    "#pre-allaocate angles\n",
    "R_R_ankle = np.zeros(shape=(4,4, R_foot_1_R.shape[0]))\n",
    "R_R_knee = R_R_ankle;"
   ]
  },
  {
   "cell_type": "code",
   "execution_count": null,
   "id": "e9719a27-f9fa-49b0-875d-3fbda2e171e5",
   "metadata": {},
   "outputs": [],
   "source": [
    "# %% need to create matricies from the DYNAMIC data that has the same markers\n",
    "# % as the \" ac.L_foot \" in the same order ... matricies for use with soderqvist\n",
    "dR_foot = np.array([R_foot_1_R.T, R_foot_2_R.T, R_foot_3_R.T, R_foot_4_R.T], ndmin=3)\n",
    "dR_foot = np.transpose(dR_foot, (1,0,2))\n",
    "dR_shank = np.array([R_shank_1_R.T, R_shank_2_R.T, R_shank_3_R.T, R_shank_4_R.T], ndmin=3)\n",
    "dR_shank = np.transpose(dR_shank, (1,0,2))\n",
    "\n",
    "# calculate average position of the segment markers\n",
    "avg_dR_foot = dR_foot.mean(axis=1)\n",
    "avg_dR_foot = np.repeat(avg_dR_foot[:, np.newaxis,:], 4, axis=1)\n",
    "avg_dR_shank= dR_shank.mean(axis=1)\n",
    "avg_dR_shank = np.repeat(avg_dR_shank[:, np.newaxis,:], 4, axis=1)\n",
    "\n",
    "# calculate the distance from the marker posisiton to the average position\n",
    "dif_dR_foot = dR_foot - avg_dR_foot\n",
    "dif_dR_shank= dR_shank - avg_dR_shank"
   ]
  },
  {
   "cell_type": "code",
   "execution_count": null,
   "id": "fa14e11f-ac3f-44b0-a57c-742e2510f038",
   "metadata": {},
   "outputs": [],
   "source": [
    "# Repeat array to perform dot product on transposed array\n",
    "# Uncomment this if you figure out how to do without loop using \n",
    "# np.einsum('ijk,ij->ij', dif_dR_foot, dif_ac_R_foot)\n",
    "# dif_ac_R_footT = dif_ac_R_foot.T # Tranpose array\n",
    "# dif_ac_R_footT = np.repeat(dif_ac_R_footT[:,:,np.newaxis], \n",
    "#                           dif_dR_foot.shape[2], axis=2)\n",
    "\n",
    "# Preallocate angles\n",
    "angle_R_ankle = np.empty(shape=(dif_dR_foot.shape[2], 3)) * np.NaN\n",
    "\n",
    "for i in range(dif_dR_foot.shape[2]):\n",
    "    CR_foot = np.dot(dif_dR_foot[:,:,i], dif_ac_R_foot.T)\n",
    "    CR_shank= np.dot(dif_dR_shank[:,:,i], dif_ac_R_shank.T)\n",
    "    \n",
    "    # singular value decomposition\n",
    "    PR_foot, TR_foot, QR_foot = np.linalg.svd(CR_foot)\n",
    "    TR_foot = np.diag(TR_foot)\n",
    "\n",
    "    PR_shank, TR_shank, QR_shank = np.linalg.svd(CR_shank)\n",
    "    TR_shank = np.diag(TR_shank)\n",
    "    \n",
    "    # step five - calculate a rotation matrix\n",
    "    # Foot\n",
    "    R_R_foot = np.dot(PR_foot, np.dot(np.diag([1, 1, \n",
    "                                               np.linalg.det(np.dot(PR_foot, \n",
    "                                                                    QR_foot))]), \n",
    "                                      QR_foot))\n",
    "    # Shank\n",
    "    R_R_shank = np.dot(PR_shank, np.dot(np.diag([1, 1, \n",
    "                                               np.linalg.det(np.dot(PR_shank, \n",
    "                                                                    QR_shank))]), \n",
    "                                      QR_shank))\n",
    "    \n",
    "    # step six - calculate the displacement\n",
    "    dis_R_foot = avg_dR_foot[:,0,-1] - np.dot(R_R_foot, avg_ac_R_foot)\n",
    "    dis_R_shank= avg_dR_shank[:,0,-1] - np.dot(R_R_shank, avg_ac_R_shank)\n",
    "    \n",
    "    # combine the rotation matricies in a stack\n",
    "    RR_R_foot = np.vstack((np.hstack((R_R_foot,dis_R_foot[:,np.newaxis])),\n",
    "                      np.array([0,0,0,1], ndmin=2)))\n",
    "    RR_R_shank = np.vstack((np.hstack((R_R_shank,dis_R_shank[:,np.newaxis])),\n",
    "                          np.array([0,0,0,1], ndmin=2)))\n",
    "    \n",
    "    \n",
    "    # %% calculate segment angles\n",
    "    #     % FOOT\n",
    "    #     % the rotation matrix of the foot to lab (R.L_foot) is simply a\n",
    "    #     % combination of the XYZ axes of the segment coordinate system unit\n",
    "    #     % vectors\n",
    "    #     %   footX_labx     footY_labx     footZ_labx\n",
    "    #     %   footX_laby     footY_laby     footZ_laby\n",
    "    #     %   footX_labz     footY_labz     footZ_labz\n",
    "    #     % so in order to calculate foot progression angle / heel whip ...\n",
    "    #     % Collect the angle of the long axis of the foot about the\n",
    "    #     % vertical axis of the foot.\n",
    "    #     % Also by projecting the foot into the sagital plane, we have\n",
    "    #     % information to determine heelstrikers or FOREFOOT strikers when\n",
    "    #     % identifying events\n",
    "\n",
    "    #     % angle of the vertical axis of the foot projected into the frontal plane\n",
    "    #     %   from a posterior view, 'vertical vector' in the first quadrant is\n",
    "    #     %   postitive and second quadrant is negative\n",
    "    #     %   . ie. inversion is negative and eversion is positive for the LEFT\n",
    "    #     % note that this is projected into the frontal plane so cross talk is\n",
    "    #     % present ... dorsi flexion with an abducted foot creates lots of \"inversion\"\n",
    "\n",
    "\n",
    "    #     % angle of the vertical axis of the foot projected into the frontal plane\n",
    "    #     %   from a posterior view, 'vertical vector' in the first quadrant is\n",
    "    #     %   postitive and second quadrant is negative\n",
    "    #     %   . ie. inversion is positive and eversion is negative for the RIGHT\n",
    "    angle_R_foot = np.empty(3)\n",
    "    angle_R_foot[0] = np.arctan(RR_R_foot[0,1]/np.sqrt(RR_R_foot[1,1]**2 + RR_R_foot[2,1]**2))\n",
    "\n",
    "    # angle of the long axis of the foot about the vertical axis\n",
    "    angle_R_foot[1] = np.arctan(RR_R_foot[0,0]/np.sqrt(RR_R_foot[1,0]**2 + RR_R_foot[2,0]**2))\n",
    "\n",
    "    # and project the long axis into the sagital plane for ID of FOREFOOT\n",
    "    angle_R_foot[2] = np.arctan2(RR_R_foot[1,0], -R_R_foot[2,0])\n",
    "\n",
    "    # %% calculate joint angles\n",
    "    # % need rotation matrix from shank to foot ...\n",
    "    # % so multiply [lab to shank] with [foot to lab]\n",
    "    R_R_ankle = np.dot(RR_R_shank.T, RR_R_foot)\n",
    "    np.set_printoptions(suppress=True)\n",
    "\n",
    "\n",
    "    # % CARDANANGLES uses this rotation matrix to calculate angles\n",
    "    #     %   | CzCy-SzSySx  SzCy+CzSySx  -SyCx |\n",
    "    #     %   | -SzCx        CzCx         Sx    |\n",
    "    #     %   | CzSy+SzCySx  SzSy-CzCySx  CyCx  |\n",
    "    ang = cardanangles(R_R_ankle)\n",
    "    angle_R_ankle[i,:] = ang * (180/np.pi)"
   ]
  },
  {
   "cell_type": "markdown",
   "id": "57268b43-fddc-4741-92f4-9403ad077d9d",
   "metadata": {},
   "source": [
    "## Plot compare outputs"
   ]
  },
  {
   "cell_type": "code",
   "execution_count": null,
   "id": "54107913-f50e-4400-b64f-4f7d0e2811ec",
   "metadata": {},
   "outputs": [],
   "source": [
    "# Import ankle angles calculated in Matlab\n",
    "fn_matlab = os.path.join(pathname, 'r_ankle_angle_R_matlab.txt')\n",
    "ang_matlab = np.loadtxt(fn_matlab)\n",
    "ang_matlab = ang_matlab * (180/np.pi)"
   ]
  },
  {
   "cell_type": "code",
   "execution_count": null,
   "id": "0a8f0956-0c5b-40f9-99d6-0858674bd695",
   "metadata": {},
   "outputs": [],
   "source": [
    "fig, axs = plt.subplots(3, figsize=(10,6))\n",
    "fig.suptitle('Comparison of ankle angles between methods')\n",
    "axs[0].plot(angle_R_ankle[:,0], 'b', label='Python')\n",
    "axs[0].plot(ang_matlab[:,0], 'b*', label='Matlab')\n",
    "axs[0].grid('on')\n",
    "axs[1].plot(angle_R_ankle[:,1], 'r', label='Python')\n",
    "axs[1].plot(ang_matlab[:,1], 'r*', label='Matlab')\n",
    "axs[1].grid('on')\n",
    "axs[2].plot(angle_R_ankle[:,2], 'g', label='Python')\n",
    "axs[2].plot(ang_matlab[:,2], 'g*', label='Matlab')\n",
    "axs[2].grid('on')\n",
    "plt.show()"
   ]
  },
  {
   "cell_type": "code",
   "execution_count": null,
   "id": "40d7f093-25af-4983-ae45-36764cea7414",
   "metadata": {},
   "outputs": [],
   "source": []
  },
  {
   "cell_type": "code",
   "execution_count": null,
   "id": "747867f1",
   "metadata": {},
   "outputs": [],
   "source": []
  }
 ],
 "metadata": {
  "kernelspec": {
   "display_name": "Python 3 (ipykernel)",
   "language": "python",
   "name": "python3"
  },
  "language_info": {
   "codemirror_mode": {
    "name": "ipython",
    "version": 3
   },
   "file_extension": ".py",
   "mimetype": "text/x-python",
   "name": "python",
   "nbconvert_exporter": "python",
   "pygments_lexer": "ipython3",
   "version": "3.9.16"
  }
 },
 "nbformat": 4,
 "nbformat_minor": 5
}
