{
 "cells": [
  {
   "cell_type": "markdown",
   "id": "b12e57ac",
   "metadata": {},
   "source": [
    "# Translate Matlab function into Python\n",
    "\n",
    "Reginaldo K Fukuchi \n",
    "\n",
    "This NB implements the \"gait_steps.m\" Sean Osis method to detect gait events."
   ]
  },
  {
   "cell_type": "code",
   "execution_count": 1,
   "id": "7f4e9cc6",
   "metadata": {},
   "outputs": [],
   "source": [
    "# Prepare environment\n",
    "import numpy as np"
   ]
  },
  {
   "cell_type": "markdown",
   "id": "2680f6f1-f95c-46e8-941b-bbfba6cd2cf9",
   "metadata": {},
   "source": [
    "# Begin translating LARGEST_BLOCK.m to Python\n",
    "* Tried to translate Matlab function into Python function using SMOP but it didn't help much\n",
    "https://github.com/regifukuchi/smophttps://github.com/regifukuchi/smop\n",
    "* Also tried to use Github Copilot but it didn't help much either"
   ]
  },
  {
   "cell_type": "code",
   "execution_count": 2,
   "id": "911b514f-10b6-4ada-a2f3-ed9bcbb2cffe",
   "metadata": {},
   "outputs": [],
   "source": [
    "FFi = [119, 249, 379, 511, 641, 771, 902, 1031, 1162, 1292, 1422, 1553, 1683, \n",
    "       1812, 1943, 2075, 2205, 2336, 2466, 2597, 2729, 2859, 2990, 3120, 3249, \n",
    "       3379, 3510, 3640, 3770, 3901, 4031, 4162, 4291, 4420, 4549, 4680, 4809, 4938]\n",
    "FBi = [185, 314, 436, 577, 707, 837, 967, 1097, 1229, 1358, 1489, 1619, 1745, \n",
    "       1877, 2009, 2142, 2263, 2401, 2523, 2664, 2794, 2925, 3056, 3186, 3314, \n",
    "       3445, 3574, 3705, 3836, 3966, 4096, 4226, 4356, 4485, 4616, 4746, 4873]"
   ]
  },
  {
   "cell_type": "code",
   "execution_count": 3,
   "id": "fbd7129f-d8ae-4691-bdee-441fa110338c",
   "metadata": {},
   "outputs": [],
   "source": [
    "# Combine and sort the FF and FB\n",
    "allsort = np.vstack((np.array([FFi,np.zeros(len(FFi))]).T,np.array([FBi,np.ones(len(FBi))]).T))\n",
    "inds = np.argsort(allsort[:,0])\n",
    "allsort = allsort[inds,:].astype(int)\n",
    "\n",
    "# Remove trailing FF\n",
    "while allsort[-1,1] != 1:\n",
    "    allsort = allsort[:-1,:]\n",
    "    \n",
    "allsort_bak = allsort"
   ]
  },
  {
   "cell_type": "code",
   "execution_count": 4,
   "id": "df01b00e-f26f-40f5-927c-dbb47ed8a684",
   "metadata": {},
   "outputs": [],
   "source": [
    "i=-1\n",
    "skip = -1\n",
    "longest_length =[]"
   ]
  },
  {
   "cell_type": "code",
   "execution_count": 5,
   "id": "c3fc57c1-e207-4aec-bd9d-5fdccedcd6c5",
   "metadata": {},
   "outputs": [],
   "source": [
    "# series of while loops will search for longest continuous chunk of data\n",
    "#first while loop adds up the length of a continuous segments adding in the\n",
    "#indicies that are skipped (because they contain the dicontinuity)\n",
    "while (np.sum(longest_length)+skip < allsort_bak.shape[0]) and allsort.shape[0]>1:\n",
    "\n",
    "    # points, in case of two 1s run below\n",
    "    idx_skip = -1\n",
    "    k = 0\n",
    "\n",
    "    # allsort must start with a 0\n",
    "    while allsort[0,1] == 1:\n",
    "        allsort = allsort[1:,:]\n",
    "        #skip is an overall counter for the main while loop in conjuction with longest_length\n",
    "        skip = skip + 1\n",
    "\n",
    "        # idx_skip keeps track of when values are skipped for the purpose of indexing\n",
    "        idx_skip = idx_skip + 1\n",
    "\n",
    "        # remove discontinuities occuring at the start of allsort\n",
    "        while (allsort[k,1]==allsort[k+1,1]) and (k+1<allsort.shape[0]):\n",
    "            allsort = allsort[k+2:,:]\n",
    "            skip = skip + 2\n",
    "            idx_skip = idx_skip + 2\n",
    "\n",
    "    k = 2\n",
    "    while k<=len(allsort) and allsort[0:k:2,1].mean()==0 and allsort[1:k:2,1].mean()==1:\n",
    "        k = k + 1\n",
    "\n",
    "    i = i+1\n",
    "\n",
    "    # we don't want to use a possibly erroneous point in the data and we\n",
    "    # must end the sequence on a 1, so when the dicontinuity occurs with two\n",
    "    # 1s in a row, we must roll back by 2\n",
    "\n",
    "    if (allsort.shape[0] > k+1) and (k+1 > 2):\n",
    "        if (allsort[k-1,1]==1) and (allsort[k-2,1]==1):\n",
    "            allsort = allsort[:k-4,:]\n",
    "        else:\n",
    "            allsort = allsort[:k-2,:]\n",
    "\n",
    "    #for the special case where there are two discontinuities of 0s in a row\n",
    "    index = np.empty(shape=(2,allsort_bak.shape[0])) * np.NaN\n",
    "    if k==2 and allsort[0,1]==0:\n",
    "        allsort = allsort[2:,:]\n",
    "        longest_length.append(0)\n",
    "\n",
    "        # we want to index one passed the discontinuity\n",
    "        if i==0:\n",
    "            # if this occurs for the first index, only includes values skipped\n",
    "            index[0,0] = idx_skip\n",
    "            index[1,0] = idx_skip\n",
    "        else:\n",
    "            index[0,i] = index[1,i-1] + indx_skip+1\n",
    "            index[1,i] = index[1,i-1] + indx_skip+1\n",
    "\n",
    "        skip = skip + 2\n",
    "\n",
    "    else:\n",
    "        # otherwise count as normal\n",
    "        longest_length.append(allsort.shape[0])\n",
    "\n",
    "        # create ordered index of where continuous chunks occur\n",
    "        if i==0:\n",
    "            index[0,0] = 1 + idx_skip\n",
    "            index[1,0] = longest_length[i] + idx_skip\n",
    "        else:\n",
    "            index[1,i] = index[1,i-1]+3+idx_skip\n",
    "\n",
    "            # Longest_length can only be 0 when two discontinuities of 1s happen in a row, \n",
    "            #below accounts that the index end needs to still progress by 1 (but longest_length\n",
    "            #still needs to be 0 for the main counter)\n",
    "            if longest_length[i] > 0:\n",
    "                index[1,i] = index[0,i]+longest_length[i]-1\n",
    "            else:\n",
    "                index[1,i] = index[0,i]+longest_length[i]\n",
    "\n",
    "        #reset allsort for next loop iteration to be passed the discontinuity\n",
    "        index = index[~np.isnan(index)].reshape((2,-1))\n",
    "        allsort = allsort_bak[index[1,i].astype(int)+3:,:]\n",
    "\n",
    "        #however we want to skip passed the discontinuity to the next footfall.\n",
    "        #This entails skipping the discontinuity (for example if the\n",
    "        #discontinuity is two FF, we skip over these two values\n",
    "        skip = skip + 2\n",
    "        \n",
    "#determine which index has the largest continuous block\n",
    "longest_index = np.argmax(np.diff(index, axis=0))\n",
    "\n",
    "# reorder allsort to contain only this block\n",
    "allsort_longest = allsort_bak[int(index[0,longest_index]):int(index[1,longest_index]),:]\n",
    "allsort = allsort_longest\n",
    "\n",
    "# Break back into components\n",
    "FFi_mod = allsort[allsort[:,1]==0,0]\n",
    "FBi_mod = allsort[allsort[:,1]==1,0]\n",
    "\n",
    "# want to track frame numbers of when the block on continuous data starts\n",
    "#and ends\n",
    "block_start = FFi_mod[0]\n",
    "block_end   = FBi_mod[-1]"
   ]
  },
  {
   "cell_type": "code",
   "execution_count": 18,
   "id": "d88696d9-78a7-4e6b-80ea-1d1b70aa2865",
   "metadata": {},
   "outputs": [
    {
     "data": {
      "text/plain": [
       "119"
      ]
     },
     "execution_count": 18,
     "metadata": {},
     "output_type": "execute_result"
    }
   ],
   "source": [
    "block_start"
   ]
  },
  {
   "cell_type": "code",
   "execution_count": 19,
   "id": "4d01f76f-a844-454c-b43c-f4c92c14f38c",
   "metadata": {},
   "outputs": [
    {
     "data": {
      "text/plain": [
       "119.0"
      ]
     },
     "execution_count": 19,
     "metadata": {},
     "output_type": "execute_result"
    }
   ],
   "source": [
    "L_block_start"
   ]
  },
  {
   "cell_type": "markdown",
   "id": "51ed9965-6397-4098-ad72-091615ad1006",
   "metadata": {},
   "source": [
    "# PENDING\n",
    "* block_end is not matching output of Matlab function: check it!\n",
    "* after figuring out, compare the output (Python vs Matlab) with a new set of data\n",
    "* Turn this notebook into a function \n",
    "* Modify the other functions"
   ]
  },
  {
   "cell_type": "code",
   "execution_count": 21,
   "id": "3a2c6f14-23bd-4056-ab24-99c020cd12e0",
   "metadata": {},
   "outputs": [
    {
     "data": {
      "text/plain": [
       "4746"
      ]
     },
     "execution_count": 21,
     "metadata": {},
     "output_type": "execute_result"
    }
   ],
   "source": [
    "block_end"
   ]
  },
  {
   "cell_type": "code",
   "execution_count": 20,
   "id": "438ac16d-0c49-48f5-846e-c5c4204c170f",
   "metadata": {},
   "outputs": [
    {
     "data": {
      "text/plain": [
       "4873.0"
      ]
     },
     "execution_count": 20,
     "metadata": {},
     "output_type": "execute_result"
    }
   ],
   "source": [
    "L_block_end"
   ]
  },
  {
   "cell_type": "code",
   "execution_count": 16,
   "id": "56caa8f9-13bd-4172-9092-ae3f51105ccf",
   "metadata": {},
   "outputs": [
    {
     "data": {
      "text/plain": [
       "array([ 119,  249,  379,  511,  641,  771,  902, 1031, 1162, 1292, 1422,\n",
       "       1553, 1683, 1812, 1943, 2075, 2205, 2336, 2466, 2597, 2729, 2859,\n",
       "       2990, 3120, 3249, 3379, 3510, 3640, 3770, 3901, 4031, 4162, 4291,\n",
       "       4420, 4549, 4680, 4809])"
      ]
     },
     "execution_count": 16,
     "metadata": {},
     "output_type": "execute_result"
    }
   ],
   "source": [
    "FFi_mod"
   ]
  },
  {
   "cell_type": "code",
   "execution_count": 17,
   "id": "f6a2587e-bf4f-406a-a556-7035b8396090",
   "metadata": {},
   "outputs": [
    {
     "data": {
      "text/plain": [
       "array([ 119,  249,  379,  511,  641,  771,  902, 1031, 1162, 1292, 1422,\n",
       "       1553, 1683, 1812, 1943, 2075, 2205, 2336, 2466, 2597, 2729, 2859,\n",
       "       2990, 3120, 3249, 3379, 3510, 3640, 3770, 3901, 4031, 4162, 4291,\n",
       "       4420, 4549, 4680, 4809])"
      ]
     },
     "execution_count": 17,
     "metadata": {},
     "output_type": "execute_result"
    }
   ],
   "source": [
    "L_FFi"
   ]
  },
  {
   "cell_type": "code",
   "execution_count": 14,
   "id": "4c47005c-e8f6-4029-9c35-3dbb3ed05d63",
   "metadata": {},
   "outputs": [
    {
     "data": {
      "text/plain": [
       "array([ 185,  314,  436,  577,  707,  837,  967, 1097, 1229, 1358, 1489,\n",
       "       1619, 1745, 1877, 2009, 2142, 2263, 2401, 2523, 2664, 2794, 2925,\n",
       "       3056, 3186, 3314, 3445, 3574, 3705, 3836, 3966, 4096, 4226, 4356,\n",
       "       4485, 4616, 4746])"
      ]
     },
     "execution_count": 14,
     "metadata": {},
     "output_type": "execute_result"
    }
   ],
   "source": [
    "FBi_mod"
   ]
  },
  {
   "cell_type": "code",
   "execution_count": 15,
   "id": "9ddd78d8-5810-4ede-a54e-f867f5dbf231",
   "metadata": {},
   "outputs": [
    {
     "data": {
      "text/plain": [
       "array([ 185,  314,  436,  577,  707,  837,  967, 1097, 1229, 1358, 1489,\n",
       "       1619, 1745, 1877, 2009, 2142, 2263, 2401, 2523, 2664, 2794, 2925,\n",
       "       3056, 3186, 3314, 3445, 3574, 3705, 3836, 3966, 4096, 4226, 4356,\n",
       "       4485, 4616, 4746, 4873])"
      ]
     },
     "execution_count": 15,
     "metadata": {},
     "output_type": "execute_result"
    }
   ],
   "source": [
    "L_FBi"
   ]
  },
  {
   "cell_type": "markdown",
   "id": "50d35fea-2ac0-41e1-a398-7cc59e8d46c8",
   "metadata": {
    "tags": []
   },
   "source": [
    "## Call Matlab function LARGEST_BLOCK.m from Python\n",
    "\n",
    "Call Matlab from Python\n",
    "https://towardsdatascience.com/matlab-function-in-python-739c473c8176"
   ]
  },
  {
   "cell_type": "code",
   "execution_count": 8,
   "id": "0a19efce-3280-4f0b-9157-69f8c6a37d1d",
   "metadata": {},
   "outputs": [],
   "source": [
    "import matlab\n",
    "import matlab.engine\n",
    "eng = matlab.engine.start_matlab()"
   ]
  },
  {
   "cell_type": "code",
   "execution_count": 9,
   "id": "55dd93aa-509c-4826-b1fb-0ac4956eebd6",
   "metadata": {},
   "outputs": [],
   "source": [
    "path_funct = r'../functions'\n",
    "eng.cd(path_funct, nargout=0)"
   ]
  },
  {
   "cell_type": "code",
   "execution_count": 10,
   "id": "3623b653-a3c1-493f-bbc2-a91694eed23b",
   "metadata": {},
   "outputs": [],
   "source": [
    "L_FFi, L_FBi, L_block_start, L_block_end = eng.largest_block(matlab.double(list(FFi)), \n",
    "                                                             matlab.double(list(FBi)), nargout=4)\n",
    "\n",
    "L_FFi = np.array(L_FFi).flatten().astype(int)\n",
    "L_FBi = np.array(L_FBi).flatten().astype(int)\n",
    "\n",
    "if (L_FFi.shape[0] < 2) or (L_FBi.shape[0] < 2):\n",
    "    print('Automated event detection unable to pull adequate number of strides for analysis. Please redo your data collection.')\n",
    "    sys.exit()"
   ]
  },
  {
   "cell_type": "code",
   "execution_count": null,
   "id": "585e4423-7f06-4557-ae15-419e14d6ad32",
   "metadata": {},
   "outputs": [],
   "source": []
  },
  {
   "cell_type": "code",
   "execution_count": null,
   "id": "dfae31c0-0cb0-4f36-b871-618c10b4a582",
   "metadata": {},
   "outputs": [],
   "source": []
  },
  {
   "cell_type": "code",
   "execution_count": null,
   "id": "f2cad6c8-945b-406f-9bf4-eb2cd47e5909",
   "metadata": {},
   "outputs": [],
   "source": []
  },
  {
   "cell_type": "markdown",
   "id": "bb703850-67eb-4ef5-a5fb-209203aace06",
   "metadata": {},
   "source": [
    "## Plot compare outputs"
   ]
  },
  {
   "cell_type": "code",
   "execution_count": null,
   "id": "94cb1f2b-2acc-4aec-bc0c-20d5b8509309",
   "metadata": {},
   "outputs": [],
   "source": [
    "tn = np.linspace(0,angle_R_ankle.shape[0],num=angle_R_ankle.shape[0])"
   ]
  },
  {
   "cell_type": "code",
   "execution_count": null,
   "id": "9d6b9cce-a234-45e1-aae2-7ff50ae97aa6",
   "metadata": {},
   "outputs": [],
   "source": [
    "# Import foot angles calculated in Matlab\n",
    "fn_f_matlab = os.path.join(pathname, 'r_foot_angle_R.txt')\n",
    "angf_matlab = np.loadtxt(fn_f_matlab) * (np.pi/180)"
   ]
  },
  {
   "cell_type": "code",
   "execution_count": null,
   "id": "b80b1d35-0298-4a9e-bd08-69e9b5b980c9",
   "metadata": {},
   "outputs": [],
   "source": [
    "fig, axs = plt.subplots(1,3, figsize=(10,6))\n",
    "fig.suptitle('Comparison of foot angles between methods')\n",
    "axs[0].plot(angle_R_foot[:,0], 'b', label='Python')\n",
    "axs[0].plot(tn[0::5],angf_matlab[0::5,0], 'bo', label='Matlab')\n",
    "axs[0].grid('on')\n",
    "axs[1].plot(angle_R_foot[:,1], 'r', label='Python')\n",
    "axs[1].plot(tn[0::5],angf_matlab[0::5,1], 'ro', label='Matlab')\n",
    "axs[1].grid('on')\n",
    "axs[2].plot(angle_R_foot[:,2], 'g', label='Python')\n",
    "axs[2].plot(tn[0::5],angf_matlab[0::5,2], 'go', label='Matlab')\n",
    "axs[2].grid('on')\n",
    "plt.show()"
   ]
  },
  {
   "cell_type": "code",
   "execution_count": null,
   "id": "be3b6dda-ed7b-46c5-af39-e6179b37f441",
   "metadata": {},
   "outputs": [],
   "source": [
    "# Import Pelvis angles calculated in Matlab\n",
    "fn_p_matlab = os.path.join(pathname, 'r_pelvis_angle.txt')\n",
    "angp_matlab = np.loadtxt(fn_p_matlab) * (np.pi/180)"
   ]
  },
  {
   "cell_type": "code",
   "execution_count": null,
   "id": "f6c3208e-fce5-4ab7-9121-9dc9813f672c",
   "metadata": {},
   "outputs": [],
   "source": [
    "fig, axs = plt.subplots(1,3, figsize=(10,6))\n",
    "fig.suptitle('Comparison of foot angles between methods')\n",
    "axs[0].plot(angle_Pelvis[:,0], 'b', label='Python')\n",
    "axs[0].plot(tn[0::5],angp_matlab[0::5,0], 'bo', label='Matlab')\n",
    "axs[0].grid('on')\n",
    "axs[1].plot(angle_Pelvis[:,1], 'r', label='Python')\n",
    "axs[1].plot(tn[0::5],angp_matlab[0::5,1], 'ro', label='Matlab')\n",
    "axs[1].grid('on')\n",
    "axs[2].plot(angle_Pelvis[:,2], 'g', label='Python')\n",
    "axs[2].plot(tn[0::5],angp_matlab[0::5,2], 'go', label='Matlab')\n",
    "axs[2].grid('on')\n",
    "plt.show()"
   ]
  },
  {
   "cell_type": "code",
   "execution_count": null,
   "id": "70848d88-fe27-4f2d-a2ba-76c735981d47",
   "metadata": {},
   "outputs": [],
   "source": [
    "# Import ankle angles calculated in Matlab\n",
    "fn_a_matlab = os.path.join(pathname, 'r_ankle_angle_R.txt')\n",
    "anga_matlab = np.loadtxt(fn_a_matlab)\n",
    "anga_matlab = anga_matlab"
   ]
  },
  {
   "cell_type": "code",
   "execution_count": null,
   "id": "e9e00eda-ae72-486e-8baa-e1f906d9db58",
   "metadata": {},
   "outputs": [],
   "source": []
  },
  {
   "cell_type": "code",
   "execution_count": null,
   "id": "868faba1-234f-42c6-924b-f035043a6259",
   "metadata": {
    "tags": []
   },
   "outputs": [],
   "source": [
    "fig, axs = plt.subplots(3, figsize=(10,6))\n",
    "fig.suptitle('Comparison of ankle angles between methods')\n",
    "axs[0].plot(angle_R_ankle[:,0], 'b', label='Python')\n",
    "axs[0].plot(tn[0::5],anga_matlab[0::5,0], 'b*', label='Matlab')\n",
    "axs[0].grid('on')\n",
    "axs[1].plot(angle_R_ankle[:,1], 'r', label='Python')\n",
    "axs[1].plot(tn[0::5],anga_matlab[0::5,1], 'r*', label='Matlab')\n",
    "axs[1].grid('on')\n",
    "axs[2].plot(angle_R_ankle[:,2], 'g', label='Python')\n",
    "axs[2].plot(tn[0::5],anga_matlab[0::5,2], 'g*', label='Matlab')\n",
    "axs[2].grid('on')\n",
    "plt.show()"
   ]
  },
  {
   "cell_type": "code",
   "execution_count": null,
   "id": "ee220a22-43d2-4a5f-90c0-50b7a6540d72",
   "metadata": {},
   "outputs": [],
   "source": [
    "# Import ankle angles calculated in Matlab\n",
    "fn_k_matlab = os.path.join(pathname, 'r_knee_angle_R.txt')\n",
    "angk_matlab = np.loadtxt(fn_k_matlab)\n",
    "angk_matlab = angk_matlab"
   ]
  },
  {
   "cell_type": "code",
   "execution_count": null,
   "id": "2e67e112-93c2-411c-b23c-9b12b8fe7c4e",
   "metadata": {
    "tags": []
   },
   "outputs": [],
   "source": [
    "fig, axs = plt.subplots(3, figsize=(10,6))\n",
    "fig.suptitle('Comparison of knee angles between methods')\n",
    "axs[0].plot(angle_R_knee[:,0], 'b', label='Python')\n",
    "axs[0].plot(tn[0::5],angk_matlab[0::5,0], 'b*', label='Matlab')\n",
    "axs[0].grid('on')\n",
    "axs[1].plot(angle_R_knee[:,1], 'r', label='Python')\n",
    "axs[1].plot(tn[0::5],angk_matlab[0::5,1], 'r*', label='Matlab')\n",
    "axs[1].grid('on')\n",
    "axs[2].plot(angle_R_knee[:,2], 'g', label='Python')\n",
    "axs[2].plot(tn[0::5],angk_matlab[0::5,2], 'g*', label='Matlab')\n",
    "axs[2].grid('on')\n",
    "plt.show()"
   ]
  },
  {
   "cell_type": "code",
   "execution_count": null,
   "id": "b5de1186-8b38-4ede-9e4e-cefa2b9c03fd",
   "metadata": {},
   "outputs": [],
   "source": [
    "# Import ankle angles calculated in Matlab\n",
    "fn_h_matlab = os.path.join(pathname, 'r_hip_angle_R.txt')\n",
    "angh_matlab = np.loadtxt(fn_h_matlab)\n",
    "angh_matlab = angh_matlab"
   ]
  },
  {
   "cell_type": "code",
   "execution_count": null,
   "id": "3d03992a-e056-492e-a6e2-f515972e84c8",
   "metadata": {
    "tags": []
   },
   "outputs": [],
   "source": [
    "fig, axs = plt.subplots(3, figsize=(10,6))\n",
    "fig.suptitle('Comparison of knee angles between methods')\n",
    "axs[0].plot(tn,angle_R_hip[:,0], 'b', label='Python')\n",
    "axs[0].plot(tn[0::5],angh_matlab[0::5,0], 'bo', label='Matlab')\n",
    "axs[0].grid('on')\n",
    "axs[1].plot(angle_R_hip[:,1], 'r', label='Python')\n",
    "axs[1].plot(tn[0::5],angh_matlab[0::5,1], 'ro', label='Matlab')\n",
    "axs[1].grid('on')\n",
    "axs[2].plot(angle_R_hip[:,2], 'g', label='Python')\n",
    "axs[2].plot(tn[0::5],angh_matlab[0::5,2], 'go', label='Matlab')\n",
    "axs[2].grid('on')\n",
    "plt.show()"
   ]
  },
  {
   "cell_type": "code",
   "execution_count": null,
   "id": "39c543f1-d1f6-4ab4-9739-6be79483527d",
   "metadata": {},
   "outputs": [],
   "source": []
  },
  {
   "cell_type": "code",
   "execution_count": null,
   "id": "46bb950a-71da-4b83-8456-6dbe0d7f1e04",
   "metadata": {},
   "outputs": [],
   "source": []
  },
  {
   "cell_type": "code",
   "execution_count": null,
   "id": "747867f1",
   "metadata": {},
   "outputs": [],
   "source": []
  }
 ],
 "metadata": {
  "kernelspec": {
   "display_name": "Python 3 (ipykernel)",
   "language": "python",
   "name": "python3"
  },
  "language_info": {
   "codemirror_mode": {
    "name": "ipython",
    "version": 3
   },
   "file_extension": ".py",
   "mimetype": "text/x-python",
   "name": "python",
   "nbconvert_exporter": "python",
   "pygments_lexer": "ipython3",
   "version": "3.9.16"
  }
 },
 "nbformat": 4,
 "nbformat_minor": 5
}
