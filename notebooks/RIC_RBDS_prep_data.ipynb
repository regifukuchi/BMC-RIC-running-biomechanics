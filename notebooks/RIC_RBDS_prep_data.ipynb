{
 "cells": [
  {
   "cell_type": "markdown",
   "id": "b12e57ac",
   "metadata": {
    "id": "b12e57ac"
   },
   "source": [
    "# Prep data\n",
    "> Reginaldo K Fukuchi$^{1,2}$, Reed Ferber$^{2}$ \n",
    "> $^{1}$Biomedical Engineering, Federal University of ABC, Brazil\n",
    "> $^{2}$Faculty of Kinesiology, University of Calgary, Canada\n",
    "\n",
    "\n",
    "This notebook prepares static and running trials for each of the datasets (RIC and RBDS). It also rotate the markers in RIC to be consistent with the convention in RBDS.\n",
    "\n",
    "<p style=\"text-align: right;\">A <a href=\"https://jupyter.org/\">Jupyter Notebook</a></p>"
   ]
  },
  {
   "cell_type": "code",
   "execution_count": 1,
   "id": "7f4e9cc6",
   "metadata": {
    "id": "7f4e9cc6"
   },
   "outputs": [],
   "source": [
    "# Prepare environment\n",
    "import os, sys\n",
    "import scipy.io as spio\n",
    "import numpy as np\n",
    "import pandas as pd\n",
    "import seaborn as sns\n",
    "import matplotlib.pyplot as plt\n",
    "\n",
    "%matplotlib inline\n",
    "#%matplotlib notebook\n",
    "\n",
    "sys.path.insert(1, r'./../functions')"
   ]
  },
  {
   "cell_type": "code",
   "execution_count": 2,
   "id": "0a83576f",
   "metadata": {
    "id": "0a83576f"
   },
   "outputs": [],
   "source": [
    "data_dir = r'../data'"
   ]
  },
  {
   "cell_type": "markdown",
   "id": "bd69cbc9-8efb-49b9-820f-c41ee42eaf84",
   "metadata": {},
   "source": [
    "## Import data\n",
    "### RIC data\n",
    "#### Parse JSON into Python dictionary\n",
    "The markers data is available as JSON files containing both static and running trial data"
   ]
  },
  {
   "cell_type": "code",
   "execution_count": 3,
   "id": "5983a3c9-82f5-45ef-b008-ba91fe18e65d",
   "metadata": {},
   "outputs": [],
   "source": [
    "import json"
   ]
  },
  {
   "cell_type": "code",
   "execution_count": 4,
   "id": "34d0826c-8aca-4f77-b2cb-0ae3f874a6e1",
   "metadata": {},
   "outputs": [],
   "source": [
    "fn_json=r\"C:\\Users\\Reginaldo\\OneDrive - University of Calgary\\data\\Figshare_SciData\\new_unzip\\201225\\20140515T133244.json\""
   ]
  },
  {
   "cell_type": "code",
   "execution_count": 5,
   "id": "25ede150-10c8-4338-8906-59c25c97ca28",
   "metadata": {},
   "outputs": [],
   "source": [
    "with open(fn_json, 'r') as f:\n",
    "    data_RIC = json.load(f)"
   ]
  },
  {
   "cell_type": "markdown",
   "id": "1d02b5f2-432d-4def-a04c-322fe63515d0",
   "metadata": {},
   "source": [
    "##### Static trial"
   ]
  },
  {
   "cell_type": "code",
   "execution_count": 6,
   "id": "d17da5b6-c07e-4579-8dbe-af483ccbeef4",
   "metadata": {},
   "outputs": [],
   "source": [
    "# marker labels\n",
    "mkr_lbl_RIC_s = list(data_RIC['neutral'].keys())\n",
    "\n",
    "# Convert dict to array data\n",
    "mkr_xyz_RIC_s = np.empty(shape=(1,len(mkr_lbl_RIC_s)*3)) * np.NaN\n",
    "for m, marker in enumerate(mkr_lbl_RIC_s):\n",
    "    mkr_xyz_RIC_s[:, 3*m:3*(m+1)] = data_RIC['neutral'][marker]\n",
    "    \n",
    "# Create list marker names matching size of array\n",
    "mkr_list, xyz_list = list(np.repeat(mkr_lbl_RIC_s,3)), ['X','Y','Z'] * len(mkr_lbl_RIC_s)\n",
    "mkr_lbl_RIC_s2 = [marker+'_'+xyz for marker, xyz in zip(mkr_list, xyz_list)]"
   ]
  },
  {
   "cell_type": "markdown",
   "id": "3ffa5ab6-e685-49b9-b365-00d545cb4f7f",
   "metadata": {},
   "source": [
    "Joint marker positions are stored in different dictionary key."
   ]
  },
  {
   "cell_type": "code",
   "execution_count": 7,
   "id": "a25b3afb",
   "metadata": {},
   "outputs": [],
   "source": [
    "# Joint markers\n",
    "mkr_lbl_RIC_j = list(data_RIC['joints'].keys())\n",
    "\n",
    "# Convert dict to array data\n",
    "mkr_xyz_RIC_j = np.empty(shape=(1,len(mkr_lbl_RIC_j)*3)) * np.NaN\n",
    "for m, marker in enumerate(mkr_lbl_RIC_j):\n",
    "    mkr_xyz_RIC_j[:, 3*m:3*(m+1)] = data_RIC['joints'][marker]\n",
    "    \n",
    "# Create list marker names matching size of array\n",
    "mkr_list, xyz_list = list(np.repeat(mkr_lbl_RIC_j,3)), ['X','Y','Z'] * len(mkr_lbl_RIC_j)\n",
    "mkr_lbl_RIC_j2 = [marker+'_'+xyz for marker, xyz in zip(mkr_list, xyz_list)]"
   ]
  },
  {
   "cell_type": "code",
   "execution_count": 8,
   "id": "d8d31379-6a70-4270-99dc-45c5351bbf77",
   "metadata": {},
   "outputs": [
    {
     "data": {
      "text/html": [
       "<div>\n",
       "<style scoped>\n",
       "    .dataframe tbody tr th:only-of-type {\n",
       "        vertical-align: middle;\n",
       "    }\n",
       "\n",
       "    .dataframe tbody tr th {\n",
       "        vertical-align: top;\n",
       "    }\n",
       "\n",
       "    .dataframe thead th {\n",
       "        text-align: right;\n",
       "    }\n",
       "</style>\n",
       "<table border=\"1\" class=\"dataframe\">\n",
       "  <thead>\n",
       "    <tr style=\"text-align: right;\">\n",
       "      <th></th>\n",
       "      <th>pelvis_1_X</th>\n",
       "      <th>pelvis_1_Y</th>\n",
       "      <th>pelvis_1_Z</th>\n",
       "      <th>pelvis_2_X</th>\n",
       "      <th>pelvis_2_Y</th>\n",
       "      <th>pelvis_2_Z</th>\n",
       "      <th>pelvis_3_X</th>\n",
       "      <th>pelvis_3_Y</th>\n",
       "      <th>pelvis_3_Z</th>\n",
       "      <th>pelvis_4_X</th>\n",
       "      <th>...</th>\n",
       "      <th>L_lat_ankle_Z</th>\n",
       "      <th>L_med_ankle_X</th>\n",
       "      <th>L_med_ankle_Y</th>\n",
       "      <th>L_med_ankle_Z</th>\n",
       "      <th>R_med_ankle_X</th>\n",
       "      <th>R_med_ankle_Y</th>\n",
       "      <th>R_med_ankle_Z</th>\n",
       "      <th>R_lat_ankle_X</th>\n",
       "      <th>R_lat_ankle_Y</th>\n",
       "      <th>R_lat_ankle_Z</th>\n",
       "    </tr>\n",
       "  </thead>\n",
       "  <tbody>\n",
       "    <tr>\n",
       "      <th>0</th>\n",
       "      <td>205.7</td>\n",
       "      <td>961.7</td>\n",
       "      <td>-49.1</td>\n",
       "      <td>172.4</td>\n",
       "      <td>1016.2</td>\n",
       "      <td>-60.3</td>\n",
       "      <td>249.4</td>\n",
       "      <td>1012.9</td>\n",
       "      <td>-67.9</td>\n",
       "      <td>209.166667</td>\n",
       "      <td>...</td>\n",
       "      <td>-94.5</td>\n",
       "      <td>93.8</td>\n",
       "      <td>107.5</td>\n",
       "      <td>-116.1</td>\n",
       "      <td>292.8</td>\n",
       "      <td>98.9</td>\n",
       "      <td>-116.6</td>\n",
       "      <td>380.8</td>\n",
       "      <td>92.7</td>\n",
       "      <td>-105.4</td>\n",
       "    </tr>\n",
       "  </tbody>\n",
       "</table>\n",
       "<p>1 rows × 114 columns</p>\n",
       "</div>"
      ],
      "text/plain": [
       "   pelvis_1_X  pelvis_1_Y  pelvis_1_Z  pelvis_2_X  pelvis_2_Y  pelvis_2_Z  \\\n",
       "0       205.7       961.7       -49.1       172.4      1016.2       -60.3   \n",
       "\n",
       "   pelvis_3_X  pelvis_3_Y  pelvis_3_Z  pelvis_4_X  ...  L_lat_ankle_Z  \\\n",
       "0       249.4      1012.9       -67.9  209.166667  ...          -94.5   \n",
       "\n",
       "   L_med_ankle_X  L_med_ankle_Y  L_med_ankle_Z  R_med_ankle_X  R_med_ankle_Y  \\\n",
       "0           93.8          107.5         -116.1          292.8           98.9   \n",
       "\n",
       "   R_med_ankle_Z  R_lat_ankle_X  R_lat_ankle_Y  R_lat_ankle_Z  \n",
       "0         -116.6          380.8           92.7         -105.4  \n",
       "\n",
       "[1 rows x 114 columns]"
      ]
     },
     "execution_count": 8,
     "metadata": {},
     "output_type": "execute_result"
    }
   ],
   "source": [
    "# Dataframe with static data (neutral+joints)\n",
    "data_RIC_static = pd.DataFrame(data=np.hstack((mkr_xyz_RIC_s,mkr_xyz_RIC_j)), \n",
    "                               columns=mkr_lbl_RIC_s2+mkr_lbl_RIC_j2)\n",
    "data_RIC_static.head()"
   ]
  },
  {
   "cell_type": "markdown",
   "id": "da3c2743-097d-45a6-8fed-c029f18e1af3",
   "metadata": {},
   "source": [
    "##### Running trial"
   ]
  },
  {
   "cell_type": "code",
   "execution_count": 9,
   "id": "cf7dd7a2",
   "metadata": {},
   "outputs": [],
   "source": [
    "# marker labels\n",
    "mkr_lbl_RIC_r = list(data_RIC['running'].keys())\n",
    "nrows = len((data_RIC['running']['pelvis_1']))\n",
    "\n",
    "# Convert dict to array data\n",
    "mkr_xyz_RIC_r = np.empty(shape=(nrows,len(mkr_lbl_RIC_s)*3)) * np.NaN\n",
    "for m, marker in enumerate(mkr_lbl_RIC_r):\n",
    "    mkr_xyz_RIC_r[:, 3*m:3*(m+1)] = data_RIC['running'][marker]\n",
    "    \n",
    "# Create list marker names matching size of array\n",
    "mkr_list, xyz_list = list(np.repeat(mkr_lbl_RIC_r,3)), ['X','Y','Z'] * len(mkr_lbl_RIC_r)\n",
    "mkr_lbl_RIC_r2 = [marker+'_'+xyz for marker, xyz in zip(mkr_list, xyz_list)]\n",
    "\n",
    "# Dataframe with static data\n",
    "data_RIC_run = pd.DataFrame(data=mkr_xyz_RIC_r, columns=mkr_lbl_RIC_r2)"
   ]
  },
  {
   "cell_type": "code",
   "execution_count": 10,
   "id": "8f0ea864",
   "metadata": {},
   "outputs": [
    {
     "data": {
      "text/html": [
       "<div>\n",
       "<style scoped>\n",
       "    .dataframe tbody tr th:only-of-type {\n",
       "        vertical-align: middle;\n",
       "    }\n",
       "\n",
       "    .dataframe tbody tr th {\n",
       "        vertical-align: top;\n",
       "    }\n",
       "\n",
       "    .dataframe thead th {\n",
       "        text-align: right;\n",
       "    }\n",
       "</style>\n",
       "<table border=\"1\" class=\"dataframe\">\n",
       "  <thead>\n",
       "    <tr style=\"text-align: right;\">\n",
       "      <th></th>\n",
       "      <th>pelvis_1_X</th>\n",
       "      <th>pelvis_1_Y</th>\n",
       "      <th>pelvis_1_Z</th>\n",
       "      <th>pelvis_2_X</th>\n",
       "      <th>pelvis_2_Y</th>\n",
       "      <th>pelvis_2_Z</th>\n",
       "      <th>pelvis_3_X</th>\n",
       "      <th>pelvis_3_Y</th>\n",
       "      <th>pelvis_3_Z</th>\n",
       "      <th>pelvis_4_X</th>\n",
       "      <th>...</th>\n",
       "      <th>R_foot_1_Z</th>\n",
       "      <th>R_foot_2_X</th>\n",
       "      <th>R_foot_2_Y</th>\n",
       "      <th>R_foot_2_Z</th>\n",
       "      <th>R_foot_3_X</th>\n",
       "      <th>R_foot_3_Y</th>\n",
       "      <th>R_foot_3_Z</th>\n",
       "      <th>R_foot_4_X</th>\n",
       "      <th>R_foot_4_Y</th>\n",
       "      <th>R_foot_4_Z</th>\n",
       "    </tr>\n",
       "  </thead>\n",
       "  <tbody>\n",
       "    <tr>\n",
       "      <th>0</th>\n",
       "      <td>198.766710</td>\n",
       "      <td>938.436493</td>\n",
       "      <td>-24.655006</td>\n",
       "      <td>162.071771</td>\n",
       "      <td>990.666748</td>\n",
       "      <td>-36.276197</td>\n",
       "      <td>239.165434</td>\n",
       "      <td>992.158620</td>\n",
       "      <td>-43.671370</td>\n",
       "      <td>200.001305</td>\n",
       "      <td>...</td>\n",
       "      <td>281.944046</td>\n",
       "      <td>250.371825</td>\n",
       "      <td>349.407504</td>\n",
       "      <td>250.119865</td>\n",
       "      <td>278.712498</td>\n",
       "      <td>329.522969</td>\n",
       "      <td>294.526067</td>\n",
       "      <td>257.314673</td>\n",
       "      <td>344.865114</td>\n",
       "      <td>275.529992</td>\n",
       "    </tr>\n",
       "    <tr>\n",
       "      <th>1</th>\n",
       "      <td>198.366115</td>\n",
       "      <td>932.795713</td>\n",
       "      <td>-22.832657</td>\n",
       "      <td>162.148736</td>\n",
       "      <td>985.484033</td>\n",
       "      <td>-33.609220</td>\n",
       "      <td>239.232603</td>\n",
       "      <td>986.377208</td>\n",
       "      <td>-41.082405</td>\n",
       "      <td>199.915818</td>\n",
       "      <td>...</td>\n",
       "      <td>275.365057</td>\n",
       "      <td>249.847990</td>\n",
       "      <td>349.623044</td>\n",
       "      <td>243.466661</td>\n",
       "      <td>278.479510</td>\n",
       "      <td>329.467651</td>\n",
       "      <td>287.563435</td>\n",
       "      <td>256.878976</td>\n",
       "      <td>344.803423</td>\n",
       "      <td>268.798384</td>\n",
       "    </tr>\n",
       "    <tr>\n",
       "      <th>2</th>\n",
       "      <td>197.941052</td>\n",
       "      <td>927.257162</td>\n",
       "      <td>-20.992560</td>\n",
       "      <td>162.231722</td>\n",
       "      <td>980.415947</td>\n",
       "      <td>-30.949233</td>\n",
       "      <td>239.308384</td>\n",
       "      <td>980.678709</td>\n",
       "      <td>-38.438550</td>\n",
       "      <td>199.827053</td>\n",
       "      <td>...</td>\n",
       "      <td>268.533341</td>\n",
       "      <td>249.305665</td>\n",
       "      <td>349.662111</td>\n",
       "      <td>236.556673</td>\n",
       "      <td>278.245750</td>\n",
       "      <td>329.197283</td>\n",
       "      <td>280.310753</td>\n",
       "      <td>256.434445</td>\n",
       "      <td>344.540337</td>\n",
       "      <td>261.800255</td>\n",
       "    </tr>\n",
       "    <tr>\n",
       "      <th>3</th>\n",
       "      <td>197.486793</td>\n",
       "      <td>921.973388</td>\n",
       "      <td>-19.164228</td>\n",
       "      <td>162.318005</td>\n",
       "      <td>975.610873</td>\n",
       "      <td>-28.350262</td>\n",
       "      <td>239.391547</td>\n",
       "      <td>975.211154</td>\n",
       "      <td>-35.770655</td>\n",
       "      <td>199.732115</td>\n",
       "      <td>...</td>\n",
       "      <td>261.467253</td>\n",
       "      <td>248.750422</td>\n",
       "      <td>349.433805</td>\n",
       "      <td>229.409261</td>\n",
       "      <td>278.017195</td>\n",
       "      <td>328.608256</td>\n",
       "      <td>272.777918</td>\n",
       "      <td>255.988498</td>\n",
       "      <td>343.979103</td>\n",
       "      <td>254.551477</td>\n",
       "    </tr>\n",
       "    <tr>\n",
       "      <th>4</th>\n",
       "      <td>196.996897</td>\n",
       "      <td>917.088351</td>\n",
       "      <td>-17.373355</td>\n",
       "      <td>162.396668</td>\n",
       "      <td>971.203884</td>\n",
       "      <td>-25.866728</td>\n",
       "      <td>239.471932</td>\n",
       "      <td>970.115965</td>\n",
       "      <td>-33.118671</td>\n",
       "      <td>199.621832</td>\n",
       "      <td>...</td>\n",
       "      <td>254.171653</td>\n",
       "      <td>248.187590</td>\n",
       "      <td>348.852537</td>\n",
       "      <td>222.031456</td>\n",
       "      <td>277.797826</td>\n",
       "      <td>327.604752</td>\n",
       "      <td>264.964679</td>\n",
       "      <td>255.546807</td>\n",
       "      <td>343.028885</td>\n",
       "      <td>247.055929</td>\n",
       "    </tr>\n",
       "  </tbody>\n",
       "</table>\n",
       "<p>5 rows × 84 columns</p>\n",
       "</div>"
      ],
      "text/plain": [
       "   pelvis_1_X  pelvis_1_Y  pelvis_1_Z  pelvis_2_X  pelvis_2_Y  pelvis_2_Z  \\\n",
       "0  198.766710  938.436493  -24.655006  162.071771  990.666748  -36.276197   \n",
       "1  198.366115  932.795713  -22.832657  162.148736  985.484033  -33.609220   \n",
       "2  197.941052  927.257162  -20.992560  162.231722  980.415947  -30.949233   \n",
       "3  197.486793  921.973388  -19.164228  162.318005  975.610873  -28.350262   \n",
       "4  196.996897  917.088351  -17.373355  162.396668  971.203884  -25.866728   \n",
       "\n",
       "   pelvis_3_X  pelvis_3_Y  pelvis_3_Z  pelvis_4_X  ...  R_foot_1_Z  \\\n",
       "0  239.165434  992.158620  -43.671370  200.001305  ...  281.944046   \n",
       "1  239.232603  986.377208  -41.082405  199.915818  ...  275.365057   \n",
       "2  239.308384  980.678709  -38.438550  199.827053  ...  268.533341   \n",
       "3  239.391547  975.211154  -35.770655  199.732115  ...  261.467253   \n",
       "4  239.471932  970.115965  -33.118671  199.621832  ...  254.171653   \n",
       "\n",
       "   R_foot_2_X  R_foot_2_Y  R_foot_2_Z  R_foot_3_X  R_foot_3_Y  R_foot_3_Z  \\\n",
       "0  250.371825  349.407504  250.119865  278.712498  329.522969  294.526067   \n",
       "1  249.847990  349.623044  243.466661  278.479510  329.467651  287.563435   \n",
       "2  249.305665  349.662111  236.556673  278.245750  329.197283  280.310753   \n",
       "3  248.750422  349.433805  229.409261  278.017195  328.608256  272.777918   \n",
       "4  248.187590  348.852537  222.031456  277.797826  327.604752  264.964679   \n",
       "\n",
       "   R_foot_4_X  R_foot_4_Y  R_foot_4_Z  \n",
       "0  257.314673  344.865114  275.529992  \n",
       "1  256.878976  344.803423  268.798384  \n",
       "2  256.434445  344.540337  261.800255  \n",
       "3  255.988498  343.979103  254.551477  \n",
       "4  255.546807  343.028885  247.055929  \n",
       "\n",
       "[5 rows x 84 columns]"
      ]
     },
     "execution_count": 10,
     "metadata": {},
     "output_type": "execute_result"
    }
   ],
   "source": [
    "data_RIC_run.head()"
   ]
  },
  {
   "cell_type": "markdown",
   "id": "0a4db06b-1d8e-4af6-ab80-56a8dd5d9794",
   "metadata": {},
   "source": [
    "Export csv files"
   ]
  },
  {
   "cell_type": "code",
   "execution_count": 11,
   "id": "f3befb1a-26fb-4502-baab-e903d8404814",
   "metadata": {},
   "outputs": [],
   "source": [
    "#data_RIC_static.to_csv(os.path.join(data_dir,'RIC_static.csv'))\n",
    "#data_RIC_run.to_csv(os.path.join(data_dir,'RIC_run.csv'))"
   ]
  },
  {
   "cell_type": "markdown",
   "id": "7ac8a98e",
   "metadata": {},
   "source": [
    "## [RBDS data](https://doi.org/10.6084/m9.figshare.4543435.v5)\n",
    "Parse C3D RBDS file using [EZC3D](https://github.com/pyomeca/ezc3d)"
   ]
  },
  {
   "cell_type": "code",
   "execution_count": 12,
   "id": "676e1310",
   "metadata": {},
   "outputs": [],
   "source": [
    "from ezc3d import c3d"
   ]
  },
  {
   "cell_type": "markdown",
   "id": "8a373355",
   "metadata": {
    "id": "8a373355"
   },
   "source": [
    "### STATIC"
   ]
  },
  {
   "cell_type": "code",
   "execution_count": 13,
   "id": "b4690006",
   "metadata": {
    "id": "b4690006"
   },
   "outputs": [],
   "source": [
    "fname_c3d = os.path.join(data_dir,'RBDS001static.c3d')\n",
    "c = c3d(fname_c3d)"
   ]
  },
  {
   "cell_type": "code",
   "execution_count": 14,
   "id": "3c98240b",
   "metadata": {
    "id": "3c98240b"
   },
   "outputs": [],
   "source": [
    "point_data = c['data']['points']\n",
    "points_residuals = c['data']['meta_points']['residuals']\n",
    "analog_data = c['data']['analogs']"
   ]
  },
  {
   "cell_type": "code",
   "execution_count": 15,
   "id": "21856c33",
   "metadata": {
    "id": "21856c33"
   },
   "outputs": [],
   "source": [
    "mkr_S_labels_RBDS = c['parameters']['POINT']['LABELS']['value']"
   ]
  },
  {
   "cell_type": "code",
   "execution_count": 16,
   "id": "ac9f27bf",
   "metadata": {
    "tags": []
   },
   "outputs": [],
   "source": [
    "mkr_S_labels_RBDS2 = ['L.ASIS','R.ASIS','R.PSIS','L.PSIS',\n",
    "                      'L.Ankle','L.Ankle.Medial','L.GTR','L.Heel.Bottom','L.Heel.Lateral','L.Heel.Top','L.Knee', 'L.Knee.Medial',\n",
    "                     'L.Shank.Bottom.Lateral', 'L.Shank.Bottom.Medial', 'L.Shank.Top.Lateral', 'L.Shank.Top.Medial',\n",
    "                     'L.Thigh.Bottom.Lateral', 'L.Thigh.Bottom.Medial', 'L.Thigh.Top.Lateral', 'L.Thigh.Top.Medial',\n",
    "                     'R.Ankle', 'R.Ankle.Medial','R.GTR','R.Heel.Bottom', 'R.Heel.Lateral', 'R.Heel.Top',\n",
    "                     'R.Knee', 'R.Knee.Medial',\n",
    "                     'R.Shank.Bottom.Lateral','R.Shank.Bottom.Medial','R.Shank.Top.Lateral','R.Shank.Top.Medial', \n",
    "                      'R.Thigh.Bottom.Lateral','R.Thigh.Bottom.Medial','R.Thigh.Top.Lateral','R.Thigh.Top.Medial']"
   ]
  },
  {
   "cell_type": "code",
   "execution_count": 17,
   "id": "7aa2e453",
   "metadata": {},
   "outputs": [],
   "source": [
    "mkr_S_labels_RBDS3 = ['pelvis_1', 'pelvis_2', 'pelvis_3', 'pelvis_4',\n",
    "                      'L_lat_ankle','L_med_ankle','L_hip','L_foot_2','L_foot_3','L_foot_1', 'L_lat_knee', 'L_med_knee',\n",
    "                      'L_shank_1', 'L_shank_2', 'L_shank_3', 'L_shank_4',\n",
    "                     'L_thigh_1', 'L_thigh_2', 'L_thigh_3', 'L_thigh_4',\n",
    "                     'R_lat_ankle','R_med_ankle','R_hip','R_foot_2','R_foot_3','R_foot_1',\n",
    "                     'R_lat_knee','R_med_knee',\n",
    "                     'R_shank_1', 'R_shank_2', 'R_shank_3', 'R_shank_4', \n",
    "                      'R_thigh_1', 'R_thigh_2', 'R_thigh_3', 'R_thigh_4']"
   ]
  },
  {
   "cell_type": "code",
   "execution_count": 18,
   "id": "e295216f",
   "metadata": {},
   "outputs": [],
   "source": [
    "# Indices of mkr labels of the original list\n",
    "idx = [mkr_S_labels_RBDS.index(m) for m in mkr_S_labels_RBDS2]"
   ]
  },
  {
   "cell_type": "code",
   "execution_count": 19,
   "id": "0232cbb9",
   "metadata": {
    "id": "0232cbb9"
   },
   "outputs": [],
   "source": [
    "mkr_S_data_RBDS = np.empty(shape=(point_data.shape[2],3*len(mkr_S_labels_RBDS2)))\n",
    "for m, marker in enumerate(mkr_S_labels_RBDS2):\n",
    "    mkr_S_data_RBDS[:,3*m:3*m+3] = point_data[:3, idx[m], :].T"
   ]
  },
  {
   "cell_type": "code",
   "execution_count": 20,
   "id": "1ac08fc8",
   "metadata": {},
   "outputs": [],
   "source": [
    "xyz = list('XYZ')*len(mkr_S_labels_RBDS3)\n",
    "mkr_S_labels_RBDS4 = list(np.repeat(mkr_S_labels_RBDS3,3))"
   ]
  },
  {
   "cell_type": "code",
   "execution_count": 21,
   "id": "b07d489f",
   "metadata": {},
   "outputs": [],
   "source": [
    "mkr_S_labels_RBDS5 = [marker+'_'+xyz for marker, xyz in zip(mkr_S_labels_RBDS4, \n",
    "                                                        list('XYZ')*len(mkr_S_labels_RBDS3))]"
   ]
  },
  {
   "cell_type": "code",
   "execution_count": 22,
   "id": "37dd14f9",
   "metadata": {},
   "outputs": [
    {
     "data": {
      "text/html": [
       "<div>\n",
       "<style scoped>\n",
       "    .dataframe tbody tr th:only-of-type {\n",
       "        vertical-align: middle;\n",
       "    }\n",
       "\n",
       "    .dataframe tbody tr th {\n",
       "        vertical-align: top;\n",
       "    }\n",
       "\n",
       "    .dataframe thead th {\n",
       "        text-align: right;\n",
       "    }\n",
       "</style>\n",
       "<table border=\"1\" class=\"dataframe\">\n",
       "  <thead>\n",
       "    <tr style=\"text-align: right;\">\n",
       "      <th></th>\n",
       "      <th>pelvis_1_X</th>\n",
       "      <th>pelvis_1_Y</th>\n",
       "      <th>pelvis_1_Z</th>\n",
       "      <th>pelvis_2_X</th>\n",
       "      <th>pelvis_2_Y</th>\n",
       "      <th>pelvis_2_Z</th>\n",
       "      <th>pelvis_3_X</th>\n",
       "      <th>pelvis_3_Y</th>\n",
       "      <th>pelvis_3_Z</th>\n",
       "      <th>pelvis_4_X</th>\n",
       "      <th>...</th>\n",
       "      <th>R_thigh_1_Z</th>\n",
       "      <th>R_thigh_2_X</th>\n",
       "      <th>R_thigh_2_Y</th>\n",
       "      <th>R_thigh_2_Z</th>\n",
       "      <th>R_thigh_3_X</th>\n",
       "      <th>R_thigh_3_Y</th>\n",
       "      <th>R_thigh_3_Z</th>\n",
       "      <th>R_thigh_4_X</th>\n",
       "      <th>R_thigh_4_Y</th>\n",
       "      <th>R_thigh_4_Z</th>\n",
       "    </tr>\n",
       "  </thead>\n",
       "  <tbody>\n",
       "    <tr>\n",
       "      <th>0</th>\n",
       "      <td>878.467225</td>\n",
       "      <td>1067.195596</td>\n",
       "      <td>1126.764407</td>\n",
       "      <td>856.897677</td>\n",
       "      <td>1060.519987</td>\n",
       "      <td>1337.266216</td>\n",
       "      <td>697.03825</td>\n",
       "      <td>1097.839329</td>\n",
       "      <td>1258.347358</td>\n",
       "      <td>700.754597</td>\n",
       "      <td>...</td>\n",
       "      <td>1396.58502</td>\n",
       "      <td>680.229916</td>\n",
       "      <td>650.528687</td>\n",
       "      <td>1345.916</td>\n",
       "      <td>726.626394</td>\n",
       "      <td>761.78693</td>\n",
       "      <td>1398.985615</td>\n",
       "      <td>678.017327</td>\n",
       "      <td>760.51476</td>\n",
       "      <td>1348.299122</td>\n",
       "    </tr>\n",
       "  </tbody>\n",
       "</table>\n",
       "<p>1 rows × 108 columns</p>\n",
       "</div>"
      ],
      "text/plain": [
       "   pelvis_1_X   pelvis_1_Y   pelvis_1_Z  pelvis_2_X   pelvis_2_Y   pelvis_2_Z  \\\n",
       "0  878.467225  1067.195596  1126.764407  856.897677  1060.519987  1337.266216   \n",
       "\n",
       "   pelvis_3_X   pelvis_3_Y   pelvis_3_Z  pelvis_4_X  ...  R_thigh_1_Z  \\\n",
       "0   697.03825  1097.839329  1258.347358  700.754597  ...   1396.58502   \n",
       "\n",
       "   R_thigh_2_X  R_thigh_2_Y  R_thigh_2_Z  R_thigh_3_X  R_thigh_3_Y  \\\n",
       "0   680.229916   650.528687     1345.916   726.626394    761.78693   \n",
       "\n",
       "   R_thigh_3_Z  R_thigh_4_X  R_thigh_4_Y  R_thigh_4_Z  \n",
       "0  1398.985615   678.017327    760.51476  1348.299122  \n",
       "\n",
       "[1 rows x 108 columns]"
      ]
     },
     "execution_count": 22,
     "metadata": {},
     "output_type": "execute_result"
    }
   ],
   "source": [
    "df_S_RBDS = pd.DataFrame(data=mkr_S_data_RBDS, columns=mkr_S_labels_RBDS5)\n",
    "df_S_RBDS = df_S_RBDS.mean().to_frame().T\n",
    "df_S_RBDS"
   ]
  },
  {
   "cell_type": "code",
   "execution_count": 23,
   "id": "70653649-27ca-4a0b-aa62-d70b22392ca3",
   "metadata": {},
   "outputs": [],
   "source": [
    "df_S_RBDS = df_S_RBDS.mean().to_frame().T"
   ]
  },
  {
   "cell_type": "markdown",
   "id": "0f4f9d71",
   "metadata": {},
   "source": [
    "### RUNNING"
   ]
  },
  {
   "cell_type": "code",
   "execution_count": 24,
   "id": "777a2525-44be-47ff-9691-047f191c0c59",
   "metadata": {
    "id": "b4690006"
   },
   "outputs": [],
   "source": [
    "fname_c3d = os.path.join(data_dir,'RBDS001runT35.c3d')\n",
    "c = c3d(fname_c3d)"
   ]
  },
  {
   "cell_type": "code",
   "execution_count": 25,
   "id": "f061e489-55f7-4040-8d0c-cafda56a8956",
   "metadata": {
    "id": "3c98240b"
   },
   "outputs": [],
   "source": [
    "point_data = c['data']['points']\n",
    "points_residuals = c['data']['meta_points']['residuals']\n",
    "analog_data = c['data']['analogs']"
   ]
  },
  {
   "cell_type": "code",
   "execution_count": 26,
   "id": "f0260faf-1d6b-463c-ba9d-6021326f7794",
   "metadata": {
    "id": "21856c33"
   },
   "outputs": [],
   "source": [
    "mkr_R_labels_RBDS = c['parameters']['POINT']['LABELS']['value']"
   ]
  },
  {
   "cell_type": "code",
   "execution_count": 27,
   "id": "c115da79-bbfd-43d1-97a6-d55683ddceb4",
   "metadata": {},
   "outputs": [],
   "source": [
    "mkr_R_labels_RBDS2 = ['L.ASIS','R.ASIS','R.PSIS','L.PSIS',\n",
    "                      'L.Thigh.Bottom.Lateral','L.Thigh.Bottom.Medial','L.Thigh.Top.Lateral','L.Thigh.Top.Medial',\n",
    "                      'R.Thigh.Bottom.Lateral','R.Thigh.Bottom.Medial','R.Thigh.Top.Lateral','R.Thigh.Top.Medial',\n",
    "                      'L.Shank.Bottom.Lateral', 'L.Shank.Bottom.Medial', 'L.Shank.Top.Lateral', 'L.Shank.Top.Medial',\n",
    "                      'R.Shank.Bottom.Lateral','R.Shank.Bottom.Medial','R.Shank.Top.Lateral','R.Shank.Top.Medial',\n",
    "                      'L.Heel.Bottom','L.Heel.Lateral','L.Heel.Top',\n",
    "                      'R.Heel.Bottom', 'R.Heel.Lateral', 'R.Heel.Top']"
   ]
  },
  {
   "cell_type": "code",
   "execution_count": 28,
   "id": "4184d0e6-5739-42d3-93ea-0206e51dbe71",
   "metadata": {},
   "outputs": [],
   "source": [
    "mkr_R_labels_RBDS3 = ['pelvis_1', 'pelvis_2', 'pelvis_3', 'pelvis_4',\n",
    "                     'L_thigh_1', 'L_thigh_2', 'L_thigh_3', 'L_thigh_4',\n",
    "                     'R_thigh_1', 'R_thigh_2', 'R_thigh_3', 'R_thigh_4',\n",
    "                     'L_shank_1', 'L_shank_2', 'L_shank_3', 'L_shank_4',\n",
    "                     'R_shank_1', 'R_shank_2', 'R_shank_3', 'R_shank_4',\n",
    "                     'L_foot_1', 'L_foot_2', 'L_foot_3',\n",
    "                     'R_foot_1', 'R_foot_2', 'R_foot_3']"
   ]
  },
  {
   "cell_type": "code",
   "execution_count": 29,
   "id": "69f10578-2089-43ac-8d27-8d3b16584aeb",
   "metadata": {},
   "outputs": [],
   "source": [
    "# Indices of mkr labels of the original list\n",
    "idx = [mkr_R_labels_RBDS.index(m) for m in mkr_R_labels_RBDS2]"
   ]
  },
  {
   "cell_type": "code",
   "execution_count": 30,
   "id": "251e2a5e-5320-4218-8c1b-21ad70361d7f",
   "metadata": {},
   "outputs": [],
   "source": [
    "mkr_R_data_RBDS = np.empty(shape=(point_data.shape[2],3*len(mkr_R_labels_RBDS2)))\n",
    "for m, marker in enumerate(mkr_R_labels_RBDS2):\n",
    "    mkr_R_data_RBDS[:,3*m:3*m+3] = point_data[:3, idx[m], :].T"
   ]
  },
  {
   "cell_type": "code",
   "execution_count": 31,
   "id": "e1694775-4a67-4855-a4cf-d5b1478a74a6",
   "metadata": {},
   "outputs": [],
   "source": [
    "xyz = list('XYZ')*len(mkr_R_labels_RBDS3)\n",
    "mkr_R_labels_RBDS4 = list(np.repeat(mkr_R_labels_RBDS3,3))"
   ]
  },
  {
   "cell_type": "code",
   "execution_count": 32,
   "id": "33220794-f235-4bd8-be6c-0b7644a0fa75",
   "metadata": {},
   "outputs": [],
   "source": [
    "mkr_R_labels_RBDS5 = [marker+'_'+xyz for marker, xyz in zip(mkr_R_labels_RBDS4, \n",
    "                                                        list('XYZ')*len(mkr_R_labels_RBDS3))]"
   ]
  },
  {
   "cell_type": "code",
   "execution_count": 33,
   "id": "7daf9155-46a2-41bb-aa71-93154193ea01",
   "metadata": {},
   "outputs": [
    {
     "data": {
      "text/html": [
       "<div>\n",
       "<style scoped>\n",
       "    .dataframe tbody tr th:only-of-type {\n",
       "        vertical-align: middle;\n",
       "    }\n",
       "\n",
       "    .dataframe tbody tr th {\n",
       "        vertical-align: top;\n",
       "    }\n",
       "\n",
       "    .dataframe thead th {\n",
       "        text-align: right;\n",
       "    }\n",
       "</style>\n",
       "<table border=\"1\" class=\"dataframe\">\n",
       "  <thead>\n",
       "    <tr style=\"text-align: right;\">\n",
       "      <th></th>\n",
       "      <th>pelvis_1_X</th>\n",
       "      <th>pelvis_1_Y</th>\n",
       "      <th>pelvis_1_Z</th>\n",
       "      <th>pelvis_2_X</th>\n",
       "      <th>pelvis_2_Y</th>\n",
       "      <th>pelvis_2_Z</th>\n",
       "      <th>pelvis_3_X</th>\n",
       "      <th>pelvis_3_Y</th>\n",
       "      <th>pelvis_3_Z</th>\n",
       "      <th>pelvis_4_X</th>\n",
       "      <th>...</th>\n",
       "      <th>L_foot_3_Z</th>\n",
       "      <th>R_foot_1_X</th>\n",
       "      <th>R_foot_1_Y</th>\n",
       "      <th>R_foot_1_Z</th>\n",
       "      <th>R_foot_2_X</th>\n",
       "      <th>R_foot_2_Y</th>\n",
       "      <th>R_foot_2_Z</th>\n",
       "      <th>R_foot_3_X</th>\n",
       "      <th>R_foot_3_Y</th>\n",
       "      <th>R_foot_3_Z</th>\n",
       "    </tr>\n",
       "  </thead>\n",
       "  <tbody>\n",
       "    <tr>\n",
       "      <th>0</th>\n",
       "      <td>2420.259766</td>\n",
       "      <td>992.218079</td>\n",
       "      <td>963.925171</td>\n",
       "      <td>2428.555176</td>\n",
       "      <td>966.181946</td>\n",
       "      <td>1175.665894</td>\n",
       "      <td>2262.561523</td>\n",
       "      <td>1019.200378</td>\n",
       "      <td>1122.965698</td>\n",
       "      <td>2253.725586</td>\n",
       "      <td>...</td>\n",
       "      <td>1115.907471</td>\n",
       "      <td>1909.182251</td>\n",
       "      <td>495.393738</td>\n",
       "      <td>1138.245605</td>\n",
       "      <td>1921.446777</td>\n",
       "      <td>466.961121</td>\n",
       "      <td>1184.314575</td>\n",
       "      <td>1956.579712</td>\n",
       "      <td>484.002014</td>\n",
       "      <td>1143.699707</td>\n",
       "    </tr>\n",
       "    <tr>\n",
       "      <th>1</th>\n",
       "      <td>2418.855469</td>\n",
       "      <td>990.269226</td>\n",
       "      <td>964.056519</td>\n",
       "      <td>2427.458252</td>\n",
       "      <td>964.618713</td>\n",
       "      <td>1175.015381</td>\n",
       "      <td>2260.623291</td>\n",
       "      <td>1017.430969</td>\n",
       "      <td>1123.746948</td>\n",
       "      <td>2252.197266</td>\n",
       "      <td>...</td>\n",
       "      <td>1115.157959</td>\n",
       "      <td>1923.537842</td>\n",
       "      <td>492.772186</td>\n",
       "      <td>1140.312622</td>\n",
       "      <td>1937.278076</td>\n",
       "      <td>465.218109</td>\n",
       "      <td>1186.385498</td>\n",
       "      <td>1971.161377</td>\n",
       "      <td>482.244110</td>\n",
       "      <td>1144.940430</td>\n",
       "    </tr>\n",
       "    <tr>\n",
       "      <th>2</th>\n",
       "      <td>2418.053711</td>\n",
       "      <td>988.938965</td>\n",
       "      <td>964.259094</td>\n",
       "      <td>2425.188232</td>\n",
       "      <td>963.097046</td>\n",
       "      <td>1175.694458</td>\n",
       "      <td>2258.948975</td>\n",
       "      <td>1016.316956</td>\n",
       "      <td>1124.152954</td>\n",
       "      <td>2251.027100</td>\n",
       "      <td>...</td>\n",
       "      <td>1114.755859</td>\n",
       "      <td>1937.602173</td>\n",
       "      <td>488.982819</td>\n",
       "      <td>1142.418457</td>\n",
       "      <td>1953.013672</td>\n",
       "      <td>462.209442</td>\n",
       "      <td>1188.502441</td>\n",
       "      <td>1985.575562</td>\n",
       "      <td>479.435852</td>\n",
       "      <td>1146.327515</td>\n",
       "    </tr>\n",
       "    <tr>\n",
       "      <th>3</th>\n",
       "      <td>2416.767334</td>\n",
       "      <td>987.159058</td>\n",
       "      <td>965.014771</td>\n",
       "      <td>2423.168213</td>\n",
       "      <td>962.464478</td>\n",
       "      <td>1176.536865</td>\n",
       "      <td>2257.342285</td>\n",
       "      <td>1016.060547</td>\n",
       "      <td>1124.296753</td>\n",
       "      <td>2250.008301</td>\n",
       "      <td>...</td>\n",
       "      <td>1114.684814</td>\n",
       "      <td>1951.338013</td>\n",
       "      <td>483.921295</td>\n",
       "      <td>1144.443970</td>\n",
       "      <td>1968.557373</td>\n",
       "      <td>458.380890</td>\n",
       "      <td>1190.938354</td>\n",
       "      <td>1999.633911</td>\n",
       "      <td>475.467926</td>\n",
       "      <td>1147.696655</td>\n",
       "    </tr>\n",
       "    <tr>\n",
       "      <th>4</th>\n",
       "      <td>2415.681396</td>\n",
       "      <td>985.919983</td>\n",
       "      <td>965.522888</td>\n",
       "      <td>2421.448730</td>\n",
       "      <td>962.430481</td>\n",
       "      <td>1177.350098</td>\n",
       "      <td>2256.238770</td>\n",
       "      <td>1016.567871</td>\n",
       "      <td>1124.219238</td>\n",
       "      <td>2249.246094</td>\n",
       "      <td>...</td>\n",
       "      <td>1114.645264</td>\n",
       "      <td>1964.878662</td>\n",
       "      <td>477.615692</td>\n",
       "      <td>1147.041016</td>\n",
       "      <td>1983.818970</td>\n",
       "      <td>452.799622</td>\n",
       "      <td>1192.958984</td>\n",
       "      <td>2013.294556</td>\n",
       "      <td>470.454620</td>\n",
       "      <td>1149.060181</td>\n",
       "    </tr>\n",
       "  </tbody>\n",
       "</table>\n",
       "<p>5 rows × 78 columns</p>\n",
       "</div>"
      ],
      "text/plain": [
       "    pelvis_1_X  pelvis_1_Y  pelvis_1_Z   pelvis_2_X  pelvis_2_Y   pelvis_2_Z  \\\n",
       "0  2420.259766  992.218079  963.925171  2428.555176  966.181946  1175.665894   \n",
       "1  2418.855469  990.269226  964.056519  2427.458252  964.618713  1175.015381   \n",
       "2  2418.053711  988.938965  964.259094  2425.188232  963.097046  1175.694458   \n",
       "3  2416.767334  987.159058  965.014771  2423.168213  962.464478  1176.536865   \n",
       "4  2415.681396  985.919983  965.522888  2421.448730  962.430481  1177.350098   \n",
       "\n",
       "    pelvis_3_X   pelvis_3_Y   pelvis_3_Z   pelvis_4_X  ...   L_foot_3_Z  \\\n",
       "0  2262.561523  1019.200378  1122.965698  2253.725586  ...  1115.907471   \n",
       "1  2260.623291  1017.430969  1123.746948  2252.197266  ...  1115.157959   \n",
       "2  2258.948975  1016.316956  1124.152954  2251.027100  ...  1114.755859   \n",
       "3  2257.342285  1016.060547  1124.296753  2250.008301  ...  1114.684814   \n",
       "4  2256.238770  1016.567871  1124.219238  2249.246094  ...  1114.645264   \n",
       "\n",
       "    R_foot_1_X  R_foot_1_Y   R_foot_1_Z   R_foot_2_X  R_foot_2_Y   R_foot_2_Z  \\\n",
       "0  1909.182251  495.393738  1138.245605  1921.446777  466.961121  1184.314575   \n",
       "1  1923.537842  492.772186  1140.312622  1937.278076  465.218109  1186.385498   \n",
       "2  1937.602173  488.982819  1142.418457  1953.013672  462.209442  1188.502441   \n",
       "3  1951.338013  483.921295  1144.443970  1968.557373  458.380890  1190.938354   \n",
       "4  1964.878662  477.615692  1147.041016  1983.818970  452.799622  1192.958984   \n",
       "\n",
       "    R_foot_3_X  R_foot_3_Y   R_foot_3_Z  \n",
       "0  1956.579712  484.002014  1143.699707  \n",
       "1  1971.161377  482.244110  1144.940430  \n",
       "2  1985.575562  479.435852  1146.327515  \n",
       "3  1999.633911  475.467926  1147.696655  \n",
       "4  2013.294556  470.454620  1149.060181  \n",
       "\n",
       "[5 rows x 78 columns]"
      ]
     },
     "execution_count": 33,
     "metadata": {},
     "output_type": "execute_result"
    }
   ],
   "source": [
    "df_R_RBDS = pd.DataFrame(data=mkr_R_data_RBDS, columns=mkr_R_labels_RBDS5)\n",
    "df_R_RBDS.head()"
   ]
  },
  {
   "cell_type": "code",
   "execution_count": 34,
   "id": "0ab413b1-efd9-41f2-a11e-72dd8679141f",
   "metadata": {},
   "outputs": [
    {
     "data": {
      "text/html": [
       "<div>\n",
       "<style scoped>\n",
       "    .dataframe tbody tr th:only-of-type {\n",
       "        vertical-align: middle;\n",
       "    }\n",
       "\n",
       "    .dataframe tbody tr th {\n",
       "        vertical-align: top;\n",
       "    }\n",
       "\n",
       "    .dataframe thead th {\n",
       "        text-align: right;\n",
       "    }\n",
       "</style>\n",
       "<table border=\"1\" class=\"dataframe\">\n",
       "  <thead>\n",
       "    <tr style=\"text-align: right;\">\n",
       "      <th></th>\n",
       "      <th>pelvis_1_X</th>\n",
       "      <th>pelvis_1_Y</th>\n",
       "      <th>pelvis_1_Z</th>\n",
       "      <th>pelvis_2_X</th>\n",
       "      <th>pelvis_2_Y</th>\n",
       "      <th>pelvis_2_Z</th>\n",
       "      <th>pelvis_3_X</th>\n",
       "      <th>pelvis_3_Y</th>\n",
       "      <th>pelvis_3_Z</th>\n",
       "      <th>pelvis_4_X</th>\n",
       "      <th>...</th>\n",
       "      <th>L_foot_3_Z</th>\n",
       "      <th>R_foot_1_X</th>\n",
       "      <th>R_foot_1_Y</th>\n",
       "      <th>R_foot_1_Z</th>\n",
       "      <th>R_foot_2_X</th>\n",
       "      <th>R_foot_2_Y</th>\n",
       "      <th>R_foot_2_Z</th>\n",
       "      <th>R_foot_3_X</th>\n",
       "      <th>R_foot_3_Y</th>\n",
       "      <th>R_foot_3_Z</th>\n",
       "    </tr>\n",
       "  </thead>\n",
       "  <tbody>\n",
       "    <tr>\n",
       "      <th>4495</th>\n",
       "      <td>2421.632568</td>\n",
       "      <td>1075.804199</td>\n",
       "      <td>932.509460</td>\n",
       "      <td>2420.979492</td>\n",
       "      <td>1048.901001</td>\n",
       "      <td>1138.190918</td>\n",
       "      <td>2265.846191</td>\n",
       "      <td>1119.560547</td>\n",
       "      <td>1068.611816</td>\n",
       "      <td>2260.705811</td>\n",
       "      <td>...</td>\n",
       "      <td>1001.673645</td>\n",
       "      <td>1770.772217</td>\n",
       "      <td>288.562164</td>\n",
       "      <td>1047.158813</td>\n",
       "      <td>1791.387451</td>\n",
       "      <td>261.333862</td>\n",
       "      <td>1090.396606</td>\n",
       "      <td>1817.845703</td>\n",
       "      <td>298.287964</td>\n",
       "      <td>1056.022949</td>\n",
       "    </tr>\n",
       "    <tr>\n",
       "      <th>4496</th>\n",
       "      <td>2422.687744</td>\n",
       "      <td>1076.727173</td>\n",
       "      <td>933.175537</td>\n",
       "      <td>2421.761963</td>\n",
       "      <td>1051.084229</td>\n",
       "      <td>1138.980835</td>\n",
       "      <td>2266.782227</td>\n",
       "      <td>1121.471069</td>\n",
       "      <td>1068.865601</td>\n",
       "      <td>2261.699463</td>\n",
       "      <td>...</td>\n",
       "      <td>1003.241150</td>\n",
       "      <td>1762.254028</td>\n",
       "      <td>301.508179</td>\n",
       "      <td>1048.765137</td>\n",
       "      <td>1782.688599</td>\n",
       "      <td>273.963867</td>\n",
       "      <td>1091.947021</td>\n",
       "      <td>1809.756958</td>\n",
       "      <td>310.039612</td>\n",
       "      <td>1056.679688</td>\n",
       "    </tr>\n",
       "    <tr>\n",
       "      <th>4497</th>\n",
       "      <td>2423.725830</td>\n",
       "      <td>1077.387085</td>\n",
       "      <td>933.894165</td>\n",
       "      <td>2421.936279</td>\n",
       "      <td>1052.304932</td>\n",
       "      <td>1138.504395</td>\n",
       "      <td>2267.415283</td>\n",
       "      <td>1123.009644</td>\n",
       "      <td>1069.076294</td>\n",
       "      <td>2262.576904</td>\n",
       "      <td>...</td>\n",
       "      <td>1005.703186</td>\n",
       "      <td>1753.224121</td>\n",
       "      <td>313.660126</td>\n",
       "      <td>1050.249878</td>\n",
       "      <td>1773.980591</td>\n",
       "      <td>285.846191</td>\n",
       "      <td>1093.102051</td>\n",
       "      <td>1801.003174</td>\n",
       "      <td>321.454559</td>\n",
       "      <td>1057.438599</td>\n",
       "    </tr>\n",
       "    <tr>\n",
       "      <th>4498</th>\n",
       "      <td>2424.640625</td>\n",
       "      <td>1077.690796</td>\n",
       "      <td>934.541016</td>\n",
       "      <td>2422.737549</td>\n",
       "      <td>1053.689209</td>\n",
       "      <td>1138.869629</td>\n",
       "      <td>2267.862549</td>\n",
       "      <td>1123.964600</td>\n",
       "      <td>1069.253906</td>\n",
       "      <td>2263.348389</td>\n",
       "      <td>...</td>\n",
       "      <td>1008.219055</td>\n",
       "      <td>1744.793945</td>\n",
       "      <td>325.747742</td>\n",
       "      <td>1051.919189</td>\n",
       "      <td>1766.200806</td>\n",
       "      <td>297.354706</td>\n",
       "      <td>1094.096069</td>\n",
       "      <td>1792.797974</td>\n",
       "      <td>332.917603</td>\n",
       "      <td>1058.424927</td>\n",
       "    </tr>\n",
       "    <tr>\n",
       "      <th>4499</th>\n",
       "      <td>2425.481201</td>\n",
       "      <td>1077.617065</td>\n",
       "      <td>935.194336</td>\n",
       "      <td>2423.504883</td>\n",
       "      <td>1054.764648</td>\n",
       "      <td>1139.309326</td>\n",
       "      <td>2268.082275</td>\n",
       "      <td>1124.222778</td>\n",
       "      <td>1069.440796</td>\n",
       "      <td>2263.852295</td>\n",
       "      <td>...</td>\n",
       "      <td>1012.227600</td>\n",
       "      <td>1737.579468</td>\n",
       "      <td>339.204315</td>\n",
       "      <td>1054.312378</td>\n",
       "      <td>1759.108521</td>\n",
       "      <td>309.219849</td>\n",
       "      <td>1095.330444</td>\n",
       "      <td>1785.774536</td>\n",
       "      <td>344.535370</td>\n",
       "      <td>1059.865234</td>\n",
       "    </tr>\n",
       "  </tbody>\n",
       "</table>\n",
       "<p>5 rows × 78 columns</p>\n",
       "</div>"
      ],
      "text/plain": [
       "       pelvis_1_X   pelvis_1_Y  pelvis_1_Z   pelvis_2_X   pelvis_2_Y  \\\n",
       "4495  2421.632568  1075.804199  932.509460  2420.979492  1048.901001   \n",
       "4496  2422.687744  1076.727173  933.175537  2421.761963  1051.084229   \n",
       "4497  2423.725830  1077.387085  933.894165  2421.936279  1052.304932   \n",
       "4498  2424.640625  1077.690796  934.541016  2422.737549  1053.689209   \n",
       "4499  2425.481201  1077.617065  935.194336  2423.504883  1054.764648   \n",
       "\n",
       "       pelvis_2_Z   pelvis_3_X   pelvis_3_Y   pelvis_3_Z   pelvis_4_X  ...  \\\n",
       "4495  1138.190918  2265.846191  1119.560547  1068.611816  2260.705811  ...   \n",
       "4496  1138.980835  2266.782227  1121.471069  1068.865601  2261.699463  ...   \n",
       "4497  1138.504395  2267.415283  1123.009644  1069.076294  2262.576904  ...   \n",
       "4498  1138.869629  2267.862549  1123.964600  1069.253906  2263.348389  ...   \n",
       "4499  1139.309326  2268.082275  1124.222778  1069.440796  2263.852295  ...   \n",
       "\n",
       "       L_foot_3_Z   R_foot_1_X  R_foot_1_Y   R_foot_1_Z   R_foot_2_X  \\\n",
       "4495  1001.673645  1770.772217  288.562164  1047.158813  1791.387451   \n",
       "4496  1003.241150  1762.254028  301.508179  1048.765137  1782.688599   \n",
       "4497  1005.703186  1753.224121  313.660126  1050.249878  1773.980591   \n",
       "4498  1008.219055  1744.793945  325.747742  1051.919189  1766.200806   \n",
       "4499  1012.227600  1737.579468  339.204315  1054.312378  1759.108521   \n",
       "\n",
       "      R_foot_2_Y   R_foot_2_Z   R_foot_3_X  R_foot_3_Y   R_foot_3_Z  \n",
       "4495  261.333862  1090.396606  1817.845703  298.287964  1056.022949  \n",
       "4496  273.963867  1091.947021  1809.756958  310.039612  1056.679688  \n",
       "4497  285.846191  1093.102051  1801.003174  321.454559  1057.438599  \n",
       "4498  297.354706  1094.096069  1792.797974  332.917603  1058.424927  \n",
       "4499  309.219849  1095.330444  1785.774536  344.535370  1059.865234  \n",
       "\n",
       "[5 rows x 78 columns]"
      ]
     },
     "execution_count": 34,
     "metadata": {},
     "output_type": "execute_result"
    }
   ],
   "source": [
    "df_R_RBDS.tail()"
   ]
  },
  {
   "cell_type": "markdown",
   "id": "ea4625ff-a1ca-482a-8a00-315b5955a385",
   "metadata": {},
   "source": [
    "Export csv files"
   ]
  },
  {
   "cell_type": "code",
   "execution_count": 35,
   "id": "9f9135d1-2115-4cde-955e-61a706d1f20f",
   "metadata": {},
   "outputs": [],
   "source": [
    "# df_S_RBDS.to_csv(os.path.join(data_dir,'RBDS_static.csv'))\n",
    "# df_R_RBDS.to_csv(os.path.join(data_dir,'RBDS_run.csv'))"
   ]
  },
  {
   "cell_type": "markdown",
   "id": "b64bb572",
   "metadata": {},
   "source": [
    "## Markers rotation to be consistent with RBDS"
   ]
  },
  {
   "cell_type": "code",
   "execution_count": 36,
   "id": "94936a66-1a91-49aa-9aef-4930106ceb07",
   "metadata": {},
   "outputs": [],
   "source": [
    "def f7(seq):\n",
    "    \"\"\"\n",
    "    This function drop duplictes in a list while keeping the sequence order of elements\n",
    "    \"\"\"\n",
    "    seen = set()\n",
    "    seen_add = seen.add\n",
    "    return [x for x in seq if not (x in seen or seen_add(x))]"
   ]
  },
  {
   "cell_type": "code",
   "execution_count": 37,
   "id": "5376efdd-4feb-4499-9a1c-ece687e062cc",
   "metadata": {},
   "outputs": [],
   "source": [
    "# List of static trial markers\n",
    "mkr_S_lbl = [mkr[:-2] for mkr in data_RIC_static.columns.tolist()]\n",
    "RIC_mkr_S_lbl = f7(mkr_S_lbl)\n",
    "# List of running trial markers\n",
    "mkr_R_lbl = [mkr[:-2] for mkr in data_RIC_run.columns.tolist()]\n",
    "RIC_mkr_R_lbl = f7(mkr_R_lbl)"
   ]
  },
  {
   "cell_type": "code",
   "execution_count": 62,
   "id": "30c2000e",
   "metadata": {},
   "outputs": [],
   "source": [
    "# Static\n",
    "df_Sm = np.empty(data_RIC_static.shape[1]) * np.NaN\n",
    "rot = np.array([[0,0,-1],[0,1,0],[1,0,0]]) # rotate markers 90 deg\n",
    "for m in range(len(RIC_mkr_S_lbl)):\n",
    "    df_Sm[3*m:3*m+3] = rot @ data_RIC_static.values[:,3*m:3*m+3].flatten()\n",
    "data_RIC_Sm = pd.DataFrame(data=df_Sm[np.newaxis,:], \n",
    "                           columns=data_RIC_static.columns.tolist())"
   ]
  },
  {
   "cell_type": "code",
   "execution_count": 66,
   "id": "f267dc73-415f-4db5-8f7b-12c7d3e48fd4",
   "metadata": {},
   "outputs": [],
   "source": [
    "# Running\n",
    "df_Rm = np.empty(data_RIC_run.shape)\n",
    "rot = np.array([[0,0,-1],[0,1,0],[1,0,0]]) # rotate markers 90 deg\n",
    "for m in range(len(RIC_mkr_R_lbl)):\n",
    "    for i in range(data_RIC_run.values.shape[0]):\n",
    "        df_Rm[i,3*m:3*m+3] = rot @ data_RIC_run.values[i,3*m:3*m+3]\n",
    "data_RIC_Rm = pd.DataFrame(data=df_Rm, columns=data_RIC_run.columns.tolist())"
   ]
  },
  {
   "cell_type": "markdown",
   "id": "3c88d016-0206-477f-93b7-e3512ff11ad7",
   "metadata": {},
   "source": [
    "Compare two lists"
   ]
  },
  {
   "cell_type": "code",
   "execution_count": 67,
   "id": "d0eacfef-bcb2-4b97-8840-90c575f6a337",
   "metadata": {},
   "outputs": [],
   "source": [
    "# Find markers only in RIC\n",
    "extraMKRs = [i for i in data_RIC_static.columns.tolist() if i not in df_S_RBDS.columns.tolist()]"
   ]
  },
  {
   "cell_type": "code",
   "execution_count": 68,
   "id": "fc7fad5b-3591-4414-a38e-c272f09bb676",
   "metadata": {},
   "outputs": [],
   "source": [
    "df_Sm = data_RIC_Sm.drop(extraMKRs, axis=1)\n",
    "df_R_RICm = data_RIC_Rm.drop(extraMKRs, axis=1)"
   ]
  },
  {
   "cell_type": "markdown",
   "id": "7ffb5716-a63e-4ba3-8fd8-32be7d8e0c1f",
   "metadata": {},
   "source": [
    "Export dataframe with markers in the same convention as RBDS"
   ]
  },
  {
   "cell_type": "code",
   "execution_count": 69,
   "id": "b26c0880-bab5-4329-b108-81dbb0df6bcd",
   "metadata": {},
   "outputs": [],
   "source": [
    "# data_RIC_Sm.to_csv(os.path.join(data_dir,'RIC_static.csv'))\n",
    "# data_RIC_Rm.to_csv(os.path.join(data_dir,'RIC_run.csv'))"
   ]
  },
  {
   "cell_type": "code",
   "execution_count": null,
   "id": "7ef51d1c-ed63-4385-81a2-3ef530cc7b97",
   "metadata": {},
   "outputs": [],
   "source": []
  },
  {
   "cell_type": "code",
   "execution_count": null,
   "id": "fcae6664-eca7-44ac-a8c7-55377f615b95",
   "metadata": {},
   "outputs": [],
   "source": []
  },
  {
   "cell_type": "markdown",
   "id": "29730317-783c-4aa1-8dae-f5b15f5af754",
   "metadata": {
    "tags": []
   },
   "source": [
    "### Visualize markers"
   ]
  },
  {
   "cell_type": "code",
   "execution_count": null,
   "id": "43d40993-8606-4eb5-b93f-7fdbd7a63a41",
   "metadata": {},
   "outputs": [],
   "source": [
    "from mpl_toolkits.mplot3d import Axes3D"
   ]
  },
  {
   "cell_type": "markdown",
   "id": "a1361e2a-f0d6-429c-919b-5bd600aa7630",
   "metadata": {},
   "source": [
    "Function to drop duplicates in the list while keeping order"
   ]
  },
  {
   "cell_type": "code",
   "execution_count": null,
   "id": "b66d8699-15c0-4f77-bee4-2f66efb17e94",
   "metadata": {},
   "outputs": [],
   "source": [
    "def f7(seq):\n",
    "    \"\"\"\n",
    "    This function drop duplictes in a list while keeping the sequence order of elements\n",
    "    \"\"\"\n",
    "    seen = set()\n",
    "    seen_add = seen.add\n",
    "    return [x for x in seq if not (x in seen or seen_add(x))]"
   ]
  },
  {
   "cell_type": "markdown",
   "id": "1aaaaa2f-163a-4e42-9c64-ca048ae3d624",
   "metadata": {},
   "source": [
    "#### RBDS"
   ]
  },
  {
   "cell_type": "code",
   "execution_count": null,
   "id": "40329994-bcd4-4d66-b42f-35328070679e",
   "metadata": {},
   "outputs": [],
   "source": [
    "# Average marker position\n",
    "mkr_S = df_S_RBDS.mean().values\n",
    "# Marker labels list\n",
    "mkr_S_lbl = [df_S_RBDS.columns.tolist()[i][:-2] for i in range(mkr_S.shape[0])]\n",
    "mkr_S_lbl_ = f7(mkr_S_lbl)"
   ]
  },
  {
   "cell_type": "code",
   "execution_count": null,
   "id": "12b77b7e-a609-4f7e-8535-8c7da095692f",
   "metadata": {},
   "outputs": [],
   "source": [
    "from mpl_toolkits.mplot3d import Axes3D\n",
    "fig = plt.figure(figsize=(8, 10))\n",
    "ax = fig.add_subplot(111, projection='3d',  facecolor='white')\n",
    "#ax.view_init(15, 20)\n",
    "\n",
    "\n",
    "ax.scatter(mkr_S[0:-3:3], mkr_S[1:-2:3], mkr_S[2:-1:3], c='r', s=30, depthshade=False)\n",
    "for m, mkr_lbl in enumerate(mkr_S_lbl_):\n",
    "    ax.text(mkr_S[3*m], mkr_S[3*m+1], mkr_S[3*m+2], mkr_lbl)\n",
    "\n",
    "ax.set_xlim3d([np.nanmin(mkr_S[0::3])-.4, np.nanmax(mkr_S[0::3])+.4])\n",
    "ax.set_ylim3d([np.nanmin(mkr_S[1::3])-.4, np.nanmax(mkr_S[1::3])+.4])\n",
    "ax.set_zlim3d([np.nanmin(mkr_S[2::3]), np.nanmax(mkr_S[2::3])])\n",
    "ax.set_xlabel('\\n' + 'X [m]', linespacing=2)\n",
    "ax.set_ylabel('\\n' + 'Y [m]', linespacing=2)\n",
    "ax.set_zlabel('\\n' + 'Z [m]', linespacing=2)\n",
    "#ax.invert_yaxis()\n",
    "# square plot\n",
    "ax.set_aspect('equal', adjustable='box')\n",
    "plt.show()"
   ]
  },
  {
   "cell_type": "markdown",
   "id": "dbd19495-068d-4b2f-9fe7-2259d77dc5f0",
   "metadata": {},
   "source": [
    "#### RBDS\n",
    "the following Lab Coordinate system\n",
    "*       X - points to the driection of walking\n",
    "*       Y - points vertically upwards\n",
    "*       Z - points to the subject's right"
   ]
  },
  {
   "cell_type": "markdown",
   "id": "83cef5f4-e6eb-4a56-8807-564901ebb9f2",
   "metadata": {},
   "source": [
    "#### RIC\n",
    "the following Lab Coordinate system\n",
    "*       X - points to the subject's right\n",
    "*       Y - points vertically upwards\n",
    "*       Z - points opposite of the walking direction\n",
    "NOTE the Segment coordinate systems\n",
    "*       X - Anterior .....................................[AB / AD duction]\n",
    "*       Y - Vertically upwards ............................[Axial rotation]\n",
    "*       Z - points to the subject's right side ...[Hinge flexion extension]"
   ]
  },
  {
   "cell_type": "code",
   "execution_count": null,
   "id": "b5308349-5b0f-49c0-bd53-208535af090d",
   "metadata": {},
   "outputs": [],
   "source": [
    "# Average marker position. Keep the same number of mkrs than RBDS\n",
    "data_RIC_static = data_RIC_static[df_S_RBDS.columns.tolist()]"
   ]
  },
  {
   "cell_type": "code",
   "execution_count": null,
   "id": "99dffabb-bd0e-4101-b221-585380e467d5",
   "metadata": {},
   "outputs": [],
   "source": [
    "data_RIC_static"
   ]
  },
  {
   "cell_type": "code",
   "execution_count": null,
   "id": "b7b8afe6-305f-44a4-872f-6cfffaa48aec",
   "metadata": {},
   "outputs": [],
   "source": [
    "mkr_S = data_RIC_static.values.flatten()"
   ]
  },
  {
   "cell_type": "code",
   "execution_count": null,
   "id": "9cca80c7-827c-4ab9-994c-b28f37ae2271",
   "metadata": {},
   "outputs": [],
   "source": [
    "# Marker labels list\n",
    "mkr_S_lbl = [data_RIC_static.columns.tolist()[i][:-2] for i in range(mkr_S.shape[0])]\n",
    "mkr_S_lbl_ = f7(mkr_S_lbl)"
   ]
  },
  {
   "cell_type": "code",
   "execution_count": null,
   "id": "11822fda-f9f1-411c-a0bc-8a3f1b3fca6f",
   "metadata": {},
   "outputs": [],
   "source": [
    "# Static\n",
    "mkrs_RIC_S = np.empty(mkr_S.shape[0])\n",
    "rot = np.array([[0,0,1],[0,1,0],[-1,0,0]]) # rotate markers 90 deg\n",
    "for m in range(len(mkr_S_lbl_)):\n",
    "    mkrs_RIC_S[3*m:3*m+3] = rot @ mkr_S[3*m:3*m+3]"
   ]
  },
  {
   "cell_type": "code",
   "execution_count": null,
   "id": "07ac5c14-e81d-4e83-9a8c-fd1370cbf913",
   "metadata": {},
   "outputs": [],
   "source": [
    "mkr_S = mkrs_RIC_S"
   ]
  },
  {
   "cell_type": "code",
   "execution_count": null,
   "id": "fba2c800-78e9-450c-9020-3b566cef6155",
   "metadata": {},
   "outputs": [],
   "source": [
    "from mpl_toolkits.mplot3d import Axes3D\n",
    "fig = plt.figure(figsize=(8, 10))\n",
    "ax = fig.add_subplot(111, projection='3d',  facecolor='white')\n",
    "#ax.view_init(15, 20)\n",
    "\n",
    "\n",
    "ax.scatter(mkr_S[0:-3:3], mkr_S[1:-2:3], mkr_S[2:-1:3], c='r', s=30, depthshade=False)\n",
    "for m, mkr_lbl in enumerate(mkr_S_lbl_):\n",
    "    ax.text(mkr_S[3*m], mkr_S[3*m+1], mkr_S[3*m+2], mkr_lbl)\n",
    "\n",
    "ax.set_xlim3d([np.nanmin(mkr_S[0::3])-.4, np.nanmax(mkr_S[0::3])+.4])\n",
    "ax.set_ylim3d([np.nanmin(mkr_S[1::3])-.4, np.nanmax(mkr_S[1::3])+.4])\n",
    "ax.set_zlim3d([np.nanmin(mkr_S[2::3]), np.nanmax(mkr_S[2::3])])\n",
    "ax.set_xlabel('\\n' + 'X [m]', linespacing=2)\n",
    "ax.set_ylabel('\\n' + 'Y [m]', linespacing=2)\n",
    "ax.set_zlabel('\\n' + 'Z [m]', linespacing=2)\n",
    "#ax.invert_yaxis()\n",
    "# square plot\n",
    "ax.set_aspect('equal', adjustable='box')\n",
    "plt.show()"
   ]
  },
  {
   "cell_type": "code",
   "execution_count": null,
   "id": "24cb487e",
   "metadata": {},
   "outputs": [],
   "source": [
    "mkr_lbl = mkr_lbl_RIC_s+mkr_lbl_RIC_j"
   ]
  },
  {
   "cell_type": "code",
   "execution_count": null,
   "id": "9ea282bd-4699-42be-82a1-e8c040958644",
   "metadata": {},
   "outputs": [],
   "source": [
    "fig = plt.figure(figsize=(10,6))\n",
    "ax = plt.axes(projection='3d')\n",
    "\n",
    "mkr_lbl = mkr_lbl_RIC_s+mkr_lbl_RIC_j\n",
    "# Data for three-dimensional scattered points\n",
    "for i in range(len(mkr_lbl)):\n",
    "    ydata = data_RIC_static.values[0,3*i+1]\n",
    "    xdata = data_RIC_static.values[0,3*i]\n",
    "    zdata = data_RIC_static.values[0,3*i+2]\n",
    "    ax.scatter(xdata, zdata, ydata, c='b');\n",
    "    ax.text(xdata,zdata,ydata,  '%s' % (mkr_lbl[i]), size=5, zorder=1,  \n",
    "    color='k')\n",
    "ax.set_aspect('equal')"
   ]
  },
  {
   "cell_type": "code",
   "execution_count": null,
   "id": "AOjck9TB3lxd",
   "metadata": {
    "id": "AOjck9TB3lxd"
   },
   "outputs": [],
   "source": []
  },
  {
   "cell_type": "code",
   "execution_count": null,
   "id": "a58381be-8b0b-42dd-ae14-0d1116b1ff32",
   "metadata": {},
   "outputs": [],
   "source": []
  }
 ],
 "metadata": {
  "colab": {
   "provenance": [
    {
     "file_id": "12cMzkzht_DrNbMajHNFx3Y6Po5slfdL0",
     "timestamp": 1674079422386
    }
   ]
  },
  "kernelspec": {
   "display_name": "Python 3 (ipykernel)",
   "language": "python",
   "name": "python3"
  },
  "language_info": {
   "codemirror_mode": {
    "name": "ipython",
    "version": 3
   },
   "file_extension": ".py",
   "mimetype": "text/x-python",
   "name": "python",
   "nbconvert_exporter": "python",
   "pygments_lexer": "ipython3",
   "version": "3.9.16"
  }
 },
 "nbformat": 4,
 "nbformat_minor": 5
}
