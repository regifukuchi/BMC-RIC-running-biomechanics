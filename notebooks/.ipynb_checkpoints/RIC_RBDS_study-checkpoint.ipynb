{
 "cells": [
  {
   "cell_type": "markdown",
   "id": "b12e57ac",
   "metadata": {
    "id": "b12e57ac"
   },
   "source": [
    "# RIC and RBDS 3D running study: an example of collaborative and reproducible research\n",
    "> Reginaldo K Fukuchi$^{1,2}$, Reed Ferber$^{2}$ \n",
    "> $^{1}$Biomedical Engineering, Federal University of ABC, Brazil\n",
    "> $^{2}$Faculty of Kinesiology, University of Calgary, Canada\n",
    "\n",
    "\n",
    "This notebook presents the comparison of 3D running kinematics between runners from Brazil and Canada. The data were collected using similar experimental procedures and by the same experimenter (RKF) in both centres. \n",
    "\n",
    "The notebook uses the raw marker trajectories from standing calibration and running trials; and outputs 3D joint angles of the hip, knee and ankle joints during the gait cycle. \n",
    "\n",
    "All the analyses were performed using computer programs written in Python and they are provided along with the markers data and the notebook itself. Therefore, the consistency of the results presented here can be assessed by any user interested in reproducing this reseach.\n",
    "\n",
    "The data are from published data sets (Fukuchi et al. (2017) and Ferber et al. (in preparation).\n",
    "\n",
    "<p style=\"text-align: right;\">A <a href=\"https://jupyter.org/\">Jupyter Notebook</a></p>"
   ]
  },
  {
   "cell_type": "code",
   "execution_count": 1,
   "id": "7f4e9cc6",
   "metadata": {
    "id": "7f4e9cc6"
   },
   "outputs": [],
   "source": [
    "# Prepare environment\n",
    "import os, sys\n",
    "import scipy.io as spio\n",
    "import numpy as np\n",
    "import pandas as pd\n",
    "import seaborn as sns\n",
    "import matplotlib.pyplot as plt\n",
    "\n",
    "%matplotlib inline\n",
    "#%matplotlib notebook\n",
    "\n",
    "sys.path.insert(1, r'./../functions')"
   ]
  },
  {
   "cell_type": "markdown",
   "id": "f21dba14-fcf0-4358-bdcb-cb42be781f82",
   "metadata": {},
   "source": [
    "### Supporting functions"
   ]
  },
  {
   "cell_type": "code",
   "execution_count": 2,
   "id": "f7ce1084-c94c-4c00-8f8f-29f36a2ad4ee",
   "metadata": {},
   "outputs": [],
   "source": [
    "def f7(seq):\n",
    "    \"\"\"\n",
    "    This function drop duplictes in a list while keeping the sequence order of elements\n",
    "    \"\"\"\n",
    "    seen = set()\n",
    "    seen_add = seen.add\n",
    "    return [x for x in seq if not (x in seen or seen_add(x))]\n",
    "\n",
    "def hip_jc(RASI, LASI):\n",
    "    \"\"\"\n",
    "    Calculate hip joint centre based on Coda method. \n",
    "    See https://c-motion.com/v3dwiki/index.php?title=Coda_Pelvis\n",
    "    RHJC=(-0.19*ASIS_Distance,-0.3*ASIS_Distance,0.36*ASIS_Distance)\n",
    "    \"\"\"\n",
    "    ASIS_distance_S = np.linalg.norm(RASI-LASI, axis=1)\n",
    "    hjc = np.array([RASI[:,0]-0.19*ASIS_distance_S, RASI[:,1]-0.3*ASIS_distance_S,\n",
    "                  RASI[:,2]-0.36*ASIS_distance_S]).T\n",
    "    return hjc\n",
    "\n",
    "def pelvisCS(RASIr, LASIr, VSACr):\n",
    "    # Pelvic reference system\n",
    "    midASIS = (RASIr+LASIr)/2\n",
    "    \n",
    "    v2p = np.cross(RASIr-VSACr,LASIr-VSACr)\n",
    "    v3p = RASIr-midASIS\n",
    "    v1p = np.cross(v2p,v3p)\n",
    "\n",
    "    v1p = v1p/np.linalg.norm(v1p)\n",
    "    v2p = v2p/np.linalg.norm(v2p)\n",
    "    v3p = v3p/np.linalg.norm(v3p)\n",
    "\n",
    "    bp = np.array([v1p,v2p,v3p])\n",
    "    \n",
    "    return bp\n",
    "\n",
    "def thighCS(rhjc_R, rkjc_R, RKNLr):\n",
    "    # Thigh reference system\n",
    "    v2t = rhjc_R-rkjc_R\n",
    "    v1t = np.cross(v2t,RKNLr-rkjc_R)\n",
    "    v3t = np.cross(v1t,v2t)\n",
    "\n",
    "    v1t = v1t/np.linalg.norm(v1t)\n",
    "    v2t = v2t/np.linalg.norm(v2t)\n",
    "    v3t = v3t/np.linalg.norm(v3t)\n",
    "\n",
    "    bt = np.array([v1t,v2t,v3t])\n",
    "    \n",
    "    return bt\n",
    "\n",
    "def shankCS(rkjc_R, rajc_R, RMALr):\n",
    "    # Shank reference system\n",
    "    v2s = rkjc_R-rajc_R\n",
    "    v1s = np.cross(v2s,RMALr-rajc_R)\n",
    "    v3s = np.cross(v1s,v2s)\n",
    "\n",
    "    v1s = v1s/np.linalg.norm(v1s)\n",
    "    v2s = v2s/np.linalg.norm(v2s)\n",
    "    v3s = v3s/np.linalg.norm(v3s)\n",
    "\n",
    "    bs = np.array([v1s,v2s,v3s])\n",
    "    \n",
    "    return bs\n",
    "\n",
    "def footCS(heelT, heelB):\n",
    "    # Foot reference system\n",
    "    v1f   = np.array([[1,0,0]]) # paralell to lab x-axis\n",
    "    v2f_t = heelT - heelB\n",
    "    # check that it is pointing up...and if not, flip it\n",
    "    if v2f_t[1] < 0:\n",
    "        v2f_t = -v2f_t\n",
    "    v3f = np.cross(v1f, v2f_t)\n",
    "    v2f = np.cross(v3f, v1f)\n",
    "   \n",
    "    #v1f = v1f/np.linalg.norm(v1f)\n",
    "    v2f = v2f/np.linalg.norm(v2f)\n",
    "    v3f = v3f/np.linalg.norm(v3f)\n",
    "    \n",
    "    bf = np.array([v1f,v2f,v3f])\n",
    "    \n",
    "    return bf"
   ]
  },
  {
   "cell_type": "markdown",
   "id": "f6218457-355e-4115-8974-32d1532db444",
   "metadata": {},
   "source": [
    "## Import data"
   ]
  },
  {
   "cell_type": "code",
   "execution_count": 3,
   "id": "0a83576f",
   "metadata": {
    "id": "0a83576f"
   },
   "outputs": [],
   "source": [
    "data_dir = r'../data'"
   ]
  },
  {
   "cell_type": "code",
   "execution_count": 4,
   "id": "54cf7c93-0b7f-4781-bc9a-c449a00b79cf",
   "metadata": {},
   "outputs": [
    {
     "data": {
      "text/plain": [
       "(3, 1, 3)"
      ]
     },
     "execution_count": 4,
     "metadata": {},
     "output_type": "execute_result"
    }
   ],
   "source": [
    "labCS = np.array([[[1,0,0]],[[0,1,0]],[[0,0,1]]])\n",
    "labCS.shape"
   ]
  },
  {
   "cell_type": "markdown",
   "id": "fefd8c50-3b52-46d8-bf65-7540e53fc17a",
   "metadata": {},
   "source": [
    "### Standing calibration and running trial data"
   ]
  },
  {
   "cell_type": "code",
   "execution_count": 5,
   "id": "273d1fd8-6d4a-4012-85f4-8a3285a9ec22",
   "metadata": {},
   "outputs": [],
   "source": [
    "df_S = pd.read_csv(os.path.join(data_dir, 'RIC_static.csv'), \n",
    "                        usecols=range(1,115)) # Static markers\n",
    "df_R = pd.read_csv(os.path.join(data_dir, 'RIC_run.csv'), \n",
    "                        usecols=range(1,85)) # Dynmamic markers"
   ]
  },
  {
   "cell_type": "code",
   "execution_count": 6,
   "id": "5376efdd-4feb-4499-9a1c-ece687e062cc",
   "metadata": {},
   "outputs": [],
   "source": [
    "# List of static trial markers\n",
    "mkr_S_lbl = [mkr[:-2] for mkr in df_S.columns.tolist()]\n",
    "mkr_S_lbl = f7(mkr_S_lbl)\n",
    "# List of running trial markers\n",
    "mkr_R_lbl = [mkr[:-2] for mkr in df_R.columns.tolist()]\n",
    "mkr_R_lbl = f7(mkr_R_lbl)"
   ]
  },
  {
   "cell_type": "markdown",
   "id": "dd02b3a3-be0f-43ab-a0c4-ec9fedda29c7",
   "metadata": {
    "id": "0be00c9e"
   },
   "source": [
    "### Calculate hip joint center\n",
    "It was based on the method used in 3Dgait system from Running Injury Clinic, ie, 25% of the distance between hips."
   ]
  },
  {
   "cell_type": "code",
   "execution_count": 7,
   "id": "LQzbCwC8wZqq",
   "metadata": {
    "colab": {
     "base_uri": "https://localhost:8080/"
    },
    "executionInfo": {
     "elapsed": 7,
     "status": "ok",
     "timestamp": 1674160012911,
     "user": {
      "displayName": "Reginaldo Fukuchi",
      "userId": "10593265862496095759"
     },
     "user_tz": 420
    },
    "id": "LQzbCwC8wZqq",
    "outputId": "b643c2af-1b41-4eca-bbe0-0f57a1e886aa"
   },
   "outputs": [],
   "source": [
    "R_hip = df_S[['R_hip_X','R_hip_Y','R_hip_Z']].values\n",
    "L_hip = df_S[['L_hip_X','L_hip_Y','L_hip_Z']].values\n",
    "rhjc_S = R_hip - (R_hip-L_hip)/4 # Right HJC\n",
    "lhjc_S = L_hip + (L_hip-R_hip)/4 # Left HJC"
   ]
  },
  {
   "cell_type": "code",
   "execution_count": 8,
   "id": "4fabae8a-4151-4941-b0cb-d08931bf6e76",
   "metadata": {},
   "outputs": [
    {
     "data": {
      "text/plain": [
       "0    380.8\n",
       "Name: R_lat_ankle_X, dtype: float64"
      ]
     },
     "execution_count": 8,
     "metadata": {},
     "output_type": "execute_result"
    }
   ],
   "source": [
    "df_S['R_lat_ankle_X']"
   ]
  },
  {
   "cell_type": "code",
   "execution_count": 9,
   "id": "4528f590",
   "metadata": {
    "colab": {
     "base_uri": "https://localhost:8080/"
    },
    "executionInfo": {
     "elapsed": 453,
     "status": "ok",
     "timestamp": 1674143767634,
     "user": {
      "displayName": "Reginaldo Fukuchi",
      "userId": "10593265862496095759"
     },
     "user_tz": 420
    },
    "id": "4528f590",
    "outputId": "de397b6f-26dc-43d8-ce14-035ffcb40243"
   },
   "outputs": [
    {
     "name": "stdout",
     "output_type": "stream",
     "text": [
      "Versors of the shank:\n",
      "[[[ 0.12388755 -0.03313178 -0.99174299]]\n",
      "\n",
      " [[-0.07396195  0.99635398 -0.04252507]]\n",
      "\n",
      " [[ 0.989536    0.07861957  0.12098536]]]\n"
     ]
    }
   ],
   "source": [
    "# Shank reference system\n",
    "rkjc_S = (df_S[['R_lat_knee_X','R_lat_knee_Y','R_lat_knee_Z']].values+\n",
    "        df_S[['R_med_knee_X','R_med_knee_Y','R_med_knee_Z']].values)/2\n",
    "rajc_S = (df_S[['R_lat_ankle_X','R_lat_ankle_Y','R_lat_ankle_Z']].values+\n",
    "        df_S[['R_med_ankle_X','R_med_ankle_Y','R_med_ankle_Z']].values)/2\n",
    "\n",
    "bs = shankCS(rkjc_S, rajc_S, df_S[['R_lat_ankle_X','R_lat_ankle_Y',\n",
    "                                   'R_lat_ankle_Z']].values)\n",
    "print('Versors of the shank:')\n",
    "print(bs)"
   ]
  },
  {
   "cell_type": "code",
   "execution_count": 10,
   "id": "f1579d80",
   "metadata": {
    "colab": {
     "base_uri": "https://localhost:8080/"
    },
    "executionInfo": {
     "elapsed": 6,
     "status": "ok",
     "timestamp": 1674143770557,
     "user": {
      "displayName": "Reginaldo Fukuchi",
      "userId": "10593265862496095759"
     },
     "user_tz": 420
    },
    "id": "f1579d80",
    "outputId": "28d84b66-d61a-4f02-c393-2968cf82f6c6"
   },
   "outputs": [
    {
     "name": "stdout",
     "output_type": "stream",
     "text": [
      "Versors of the thigh:\n",
      "[[[-0.11891755 -0.19597414 -0.97337185]]\n",
      "\n",
      " [[-0.05368048  0.98016332 -0.19078332]]\n",
      "\n",
      " [[ 0.99145198  0.02956358 -0.12707861]]]\n"
     ]
    }
   ],
   "source": [
    "# Thigh reference system\n",
    "v2t = rhjc_S-rkjc_S\n",
    "v1t = np.cross(v2t,df_S[['R_lat_knee_X','R_lat_knee_Y',\n",
    "                         'R_lat_knee_Z']].values-rkjc_S)\n",
    "bt = thighCS(rhjc_S, rkjc_S, df_S[['R_lat_knee_X','R_lat_knee_Y',\n",
    "                         'R_lat_knee_Z']].values)\n",
    "print('Versors of the thigh:')\n",
    "print(bt)"
   ]
  },
  {
   "cell_type": "code",
   "execution_count": 11,
   "id": "11bfe258-da7d-45d5-a3b9-2cc8ebe39c9f",
   "metadata": {},
   "outputs": [
    {
     "name": "stdout",
     "output_type": "stream",
     "text": [
      "Versors of the pelvis:\n",
      "[[[1 0 0]]\n",
      "\n",
      " [[0 1 0]]\n",
      "\n",
      " [[0 0 1]]]\n"
     ]
    }
   ],
   "source": [
    "# Pelvis reference system\n",
    "# Aligned to the lab\n",
    "bp = labCS\n",
    "print('Versors of the pelvis:')\n",
    "print(bp)"
   ]
  },
  {
   "cell_type": "code",
   "execution_count": 12,
   "id": "494490a9-dcab-4617-9678-b0099a4b17cc",
   "metadata": {},
   "outputs": [
    {
     "name": "stdout",
     "output_type": "stream",
     "text": [
      "Versors of the foot:\n",
      "[[[ 1.          0.          0.        ]]\n",
      "\n",
      " [[ 0.         -0.97189197  0.23542725]]\n",
      "\n",
      " [[ 0.         -0.23542725 -0.97189197]]]\n"
     ]
    }
   ],
   "source": [
    "# Foot reference system\n",
    "bf = footCS(df_S[['R_foot_1_X', 'R_foot_1_Y', 'R_foot_1_Z']].values, \n",
    "            df_S[['R_foot_2_X', 'R_foot_2_Y', 'R_foot_2_Z']].values)\n",
    "print('Versors of the foot:')\n",
    "print(bf)"
   ]
  },
  {
   "cell_type": "markdown",
   "id": "76c097f0-8437-4cad-8f08-a93aebdfecfe",
   "metadata": {
    "id": "05c9b7f9"
   },
   "source": [
    "## Calculate transformation matrix using SVD algorithm"
   ]
  },
  {
   "cell_type": "code",
   "execution_count": 13,
   "id": "d090b279",
   "metadata": {
    "id": "d090b279"
   },
   "outputs": [],
   "source": [
    "import sys\n",
    "sys.path.insert(1, r'../functions')\n",
    "from svdt import svdt"
   ]
  },
  {
   "cell_type": "markdown",
   "id": "b04fffd1-48ac-4d2d-a42f-14b475ee47d5",
   "metadata": {
    "id": "d314b466",
    "tags": []
   },
   "source": [
    "### Segments"
   ]
  },
  {
   "cell_type": "code",
   "execution_count": 14,
   "id": "5f920ebd-daee-4d26-84b7-47f09488b12a",
   "metadata": {},
   "outputs": [],
   "source": [
    "# Pelvis reference system\n",
    "bp_S = df_S[['pelvis_1_X','pelvis_1_Y','pelvis_1_Z',\n",
    "             'pelvis_2_X','pelvis_2_Y','pelvis_2_Z',\n",
    "             'pelvis_3_X','pelvis_3_Y','pelvis_3_Z',\n",
    "             'pelvis_4_X','pelvis_4_Y','pelvis_4_Z']].values\n",
    "# Pelvic basis running\n",
    "bp_R = df_R[['pelvis_1_X','pelvis_1_Y','pelvis_1_Z',\n",
    "             'pelvis_2_X','pelvis_2_Y','pelvis_2_Z',\n",
    "             'pelvis_3_X','pelvis_3_Y','pelvis_3_Z',\n",
    "             'pelvis_4_X','pelvis_4_Y','pelvis_4_Z']].values\n",
    "# Reconstructed markers based on technical clusters\n",
    "Rp, Lp, RMSEp = svdt(bp_S, bp_R) "
   ]
  },
  {
   "cell_type": "code",
   "execution_count": 15,
   "id": "b13e2702",
   "metadata": {
    "id": "b13e2702"
   },
   "outputs": [],
   "source": [
    "# Thigh segment\n",
    "At = df_S[['R_thigh_1_X', 'R_thigh_1_Y', 'R_thigh_1_Z', \n",
    "           'R_thigh_2_X', 'R_thigh_2_Y', 'R_thigh_2_Z', \n",
    "           'R_thigh_3_X', 'R_thigh_3_Y', 'R_thigh_3_Z', \n",
    "           'R_thigh_4_X', 'R_thigh_4_Y', 'R_thigh_4_Z']].values\n",
    "Bt = df_R[['R_thigh_1_X', 'R_thigh_1_Y', 'R_thigh_1_Z', \n",
    "           'R_thigh_2_X', 'R_thigh_2_Y', 'R_thigh_2_Z', \n",
    "           'R_thigh_3_X', 'R_thigh_3_Y', 'R_thigh_3_Z', \n",
    "           'R_thigh_4_X', 'R_thigh_4_Y', 'R_thigh_4_Z']].values\n",
    "Rt, Lt, RMSEt = svdt(At, Bt)"
   ]
  },
  {
   "cell_type": "code",
   "execution_count": 16,
   "id": "de93b015",
   "metadata": {
    "id": "de93b015"
   },
   "outputs": [],
   "source": [
    "# Shank segment\n",
    "As = df_S[['R_shank_1_X', 'R_shank_1_Y', 'R_shank_1_Z', \n",
    "           'R_shank_2_X', 'R_shank_2_Y', 'R_shank_2_Z', \n",
    "           'R_shank_3_X', 'R_shank_3_Y', 'R_shank_3_Z', \n",
    "           'R_shank_4_X', 'R_shank_4_Y', 'R_shank_4_Z']].values\n",
    "Bs = df_R[['R_shank_1_X', 'R_shank_1_Y', 'R_shank_1_Z', \n",
    "           'R_shank_2_X', 'R_shank_2_Y', 'R_shank_2_Z', \n",
    "           'R_shank_3_X', 'R_shank_3_Y', 'R_shank_3_Z', \n",
    "           'R_shank_4_X', 'R_shank_4_Y', 'R_shank_4_Z']].values\n",
    "Rs, Ls, RMSEs = svdt(As, Bs)"
   ]
  },
  {
   "cell_type": "code",
   "execution_count": 17,
   "id": "9f26bbee-ade5-42f1-ad97-b2c76d4a1cf8",
   "metadata": {},
   "outputs": [],
   "source": [
    "# Foot basis static\n",
    "bf_S = df_S[['R_foot_1_X', 'R_foot_1_Y', 'R_foot_1_Z', \n",
    "             'R_foot_2_X', 'R_foot_2_Y', 'R_foot_2_Z', \n",
    "             'R_foot_3_X', 'R_foot_3_Y', 'R_foot_3_Z']].values\n",
    "\n",
    "# Foot basis running\n",
    "bf_R = df_R[['R_foot_1_X', 'R_foot_1_Y', 'R_foot_1_Z', \n",
    "             'R_foot_2_X', 'R_foot_2_Y', 'R_foot_2_Z', \n",
    "             'R_foot_3_X', 'R_foot_3_Y', 'R_foot_3_Z']].values\n",
    "\n",
    "# Reconstructed markers based on technical clusters\n",
    "Rf, Lf, RMSEf = svdt(bf_S, bf_R)"
   ]
  },
  {
   "cell_type": "markdown",
   "id": "606cbb65-cda8-4f86-a551-14aef7e602d6",
   "metadata": {},
   "source": [
    "### Calculate virtual position of anatomical markers"
   ]
  },
  {
   "cell_type": "code",
   "execution_count": 18,
   "id": "2351b0ce",
   "metadata": {
    "id": "2351b0ce"
   },
   "outputs": [],
   "source": [
    "# knee markers\n",
    "RKNLs = df_S[['R_lat_knee_X', 'R_lat_knee_Y', 'R_lat_knee_Z']].values\n",
    "RKNMs = df_S[['R_med_knee_X', 'R_med_knee_Y', 'R_med_knee_Z']].values\n",
    "RKNLr = np.empty(shape=(Rt.shape[0],3))\n",
    "RKNMr = np.empty(shape=(Rt.shape[0],3))\n",
    "\n",
    "# ankle markers\n",
    "RMALs = df_S[['R_lat_ankle_X', 'R_lat_ankle_Y', 'R_lat_ankle_Z']].values\n",
    "RMAMs = df_S[['R_med_ankle_X', 'R_med_ankle_Y', 'R_med_ankle_Z']].values\n",
    "RMALr = np.empty(shape=(Rs.shape[0],3))\n",
    "RMAMr = np.empty(shape=(Rs.shape[0],3))\n",
    "\n",
    "# Reconstructed markers based on technical clusters\n",
    "RKNLr = np.dot(Rt,RKNLs.flatten()) + Lt\n",
    "RKNMr = np.dot(Rt,RKNMs.flatten()) + Lt\n",
    "RMALr = np.dot(Rs,RMALs.flatten()) + Ls\n",
    "RMAMr = np.dot(Rs,RMAMs.flatten()) + Ls\n",
    "\n",
    "# Hip joint centre\n",
    "rhjc_R= np.dot(Rp,rhjc_S.flatten()) + Lp\n",
    "\n",
    "# Knee joint centre\n",
    "rkjc_R = (RKNLr+RKNMr)/2\n",
    "\n",
    "# Ankle joint centre\n",
    "rajc_R = (RMALr+RMAMr)/2"
   ]
  },
  {
   "cell_type": "markdown",
   "id": "05e99364-1c12-4415-90a5-d12dbba62459",
   "metadata": {
    "id": "30734d61"
   },
   "source": [
    "## Calculate angle according to Grood & Suntay (1983)"
   ]
  },
  {
   "cell_type": "code",
   "execution_count": 19,
   "id": "c26c672c",
   "metadata": {
    "id": "c26c672c"
   },
   "outputs": [],
   "source": [
    "def hipang(p_hip_rf, d_hip_rf):\n",
    "    \"\"\"\n",
    "    Calculate 3D hip joint angle in degrees\n",
    "    \"\"\"\n",
    "    bp = p_hip_rf\n",
    "    bt = d_hip_rf\n",
    "    angh = np.empty(shape=(3,))\n",
    "    yh = bt[1,:];\n",
    "    zh = bp[2,:];\n",
    "    fh = np.cross(yh,zh); #floating axis\n",
    "    fh = fh/np.linalg.norm(fh)\n",
    "    bh =np.array([fh, yh, zh]);\n",
    "    zt_t = bt[2,:];\n",
    "    \n",
    "    # knee angle\n",
    "    angh[0] = (np.pi/2 - np.arccos(np.sum(bp[1]*fh)))*180/np.pi # Flexion/Extension\n",
    "    angh[1] = (-np.pi/2 - np.arccos(np.sum(yh*bp[2])))*180/np.pi + 180 #Abduction/aduction\n",
    "    angh[2] = (np.pi/2 - np.arccos(np.sum(zt_t*fh)))*180/np.pi #Internal/external rotation\n",
    "    \n",
    "    return angh"
   ]
  },
  {
   "cell_type": "code",
   "execution_count": 20,
   "id": "660b9913",
   "metadata": {
    "id": "660b9913"
   },
   "outputs": [],
   "source": [
    "def kneeang(proxrf, distalrf):\n",
    "    \"\"\"\n",
    "    Calculate 3D knee joint angle in degrees\n",
    "    \"\"\"\n",
    "    angk = np.empty(shape=(3,))\n",
    "    proxrf = bt\n",
    "    distalrf = bs\n",
    "    yk = bs[1,:];\n",
    "    zk = bt[2,:];\n",
    "    fk = np.cross(yk,zk); #floating axis\n",
    "    fk = fk/np.linalg.norm(fk)\n",
    "    bk =np.array([fk, yk, zk]);\n",
    "    zs_t = bs[2,:];\n",
    "    \n",
    "    # knee angle\n",
    "    angk[0] = -(np.pi/2 - np.arccos(np.sum(bt[1]*fk)))*180/np.pi # Flexion/Extension\n",
    "    angk[1] = (-np.pi/2 - np.arccos(np.sum(yk*bt[2])))*180/np.pi + 180 #Abduction/aduction\n",
    "    angk[2] = (np.pi/2 - np.arccos(np.sum(zs_t*fk)))*180/np.pi #Internal/external rotation\n",
    "    \n",
    "    return angk"
   ]
  },
  {
   "cell_type": "code",
   "execution_count": 21,
   "id": "57f48095",
   "metadata": {
    "id": "57f48095"
   },
   "outputs": [],
   "source": [
    "def ankleang(p_ank_rf, d_ank_rf):\n",
    "    \"\"\"\n",
    "    Calculate 3D ankle joint angle in degrees\n",
    "    \"\"\"\n",
    "    bs = p_ank_rf\n",
    "    bf = d_ank_rf\n",
    "    anga = np.empty(shape=(3,))\n",
    "    ya = bf[1,:];\n",
    "    za = bs[2,:];\n",
    "    fa = np.cross(ya,za); #floating axis\n",
    "    fa = fa/np.linalg.norm(fa)\n",
    "    ba =np.array([fa, ya, za], dtype=object);\n",
    "    \n",
    "    # ankle angle\n",
    "    anga[0] = (np.pi/2 - np.arccos(np.sum(bs[1]*fa)))*180/np.pi # Flexion/Extension\n",
    "    anga[1] = (-np.pi/2 - np.arccos(np.sum(ya*bs[2])))*180/np.pi + 180 #Abduction/aduction\n",
    "    anga[2] = (np.pi/2 - np.arccos(np.sum(bf[2]*fa)))*180/np.pi #Internal/external rotation\n",
    "    \n",
    "    return anga"
   ]
  },
  {
   "cell_type": "code",
   "execution_count": 22,
   "id": "2dd1e087-dc02-4762-ab70-a2223be7d0db",
   "metadata": {},
   "outputs": [],
   "source": [
    "def footCS(heelT, heelB):\n",
    "    # Foot reference system\n",
    "    v1f   = np.array([[1,0,0]]) # paralell to lab x-axis\n",
    "    v2f_t = heelT - heelB\n",
    "    v3f = np.cross(v1f, v2f_t)\n",
    "    v2f = np.cross(v3f, v1f)\n",
    "   \n",
    "    #v1f = v1f/np.linalg.norm(v1f)\n",
    "    v2f = v2f/np.linalg.norm(v2f)\n",
    "    v3f = v3f/np.linalg.norm(v3f)\n",
    "    \n",
    "    bf = np.array([v1f,v2f,v3f])\n",
    "    \n",
    "    return bf"
   ]
  },
  {
   "cell_type": "markdown",
   "id": "bc0ba1c0-65c4-48dc-a31c-70f0abb9a611",
   "metadata": {},
   "source": [
    "### Joint angles during running"
   ]
  },
  {
   "cell_type": "code",
   "execution_count": 23,
   "id": "71263137-eeac-484f-a366-025aeaed5d25",
   "metadata": {},
   "outputs": [],
   "source": [
    "angh_r = np.empty(shape=(rkjc_R.shape[0],3))\n",
    "angk_r = np.empty(shape=(rkjc_R.shape[0],3))\n",
    "anga_r = np.empty(shape=(rkjc_R.shape[0],3))\n",
    "# Heel markers of the foot\n",
    "heelT = df_R[['R_foot_1_X', 'R_foot_1_Y', 'R_foot_1_Z']].values\n",
    "heelB = df_R[['R_foot_2_X', 'R_foot_2_Y', 'R_foot_2_Z']].values\n",
    "for i in range(rkjc_R.shape[0]):\n",
    "    bp = Rp[i,:,:]\n",
    "    bt = thighCS(rhjc_R[i,:],rkjc_R[i,:],RKNLr[i,:])\n",
    "    bs = shankCS(rkjc_R[i,:],rajc_R[i,:],RMALr[i,:])\n",
    "    bf = footCS(heelT[i,:], heelB[i,:])\n",
    "    # Hip angle\n",
    "    angh_r[i,:] = hipang(bp, bt)\n",
    "    # Knee angle\n",
    "    angk_r[i,:] = kneeang(bt, bs)\n",
    "    # Ankle angle\n",
    "    anga_r[i,:] = ankleang(bs, bf)"
   ]
  },
  {
   "cell_type": "markdown",
   "id": "13878a86-4aed-4da2-b3d6-372099f4d6a6",
   "metadata": {},
   "source": [
    "Export as csv"
   ]
  },
  {
   "cell_type": "code",
   "execution_count": null,
   "id": "6654c3b4-1f5e-4b11-a5e8-f9b740e85687",
   "metadata": {},
   "outputs": [],
   "source": [
    "fmt   = '\\t%.6f'*(angk_r.shape[1]) "
   ]
  },
  {
   "cell_type": "code",
   "execution_count": 36,
   "id": "e8ee6a95-ed15-4a4a-95b5-513e97f5d109",
   "metadata": {},
   "outputs": [],
   "source": [
    "header= 'ankle_X\\tankle_Y\\tankle_Z'\n",
    "fn_ankle = os.path.join(data_dir, 'ankle_ang.csv')\n",
    "np.savetxt(fname=fn_ankle, X=anga_r, fmt=fmt, delimiter='\\t', header=header, comments='')"
   ]
  },
  {
   "cell_type": "code",
   "execution_count": 37,
   "id": "fc65def6-84b3-4665-a804-24b48b856879",
   "metadata": {},
   "outputs": [],
   "source": [
    "header= 'knee_X\\tknee_Y\\tknee_Z'\n",
    "fn_knee = os.path.join(data_dir, 'knee_ang.csv')\n",
    "np.savetxt(fname=fn_knee, X=angk_r, fmt=fmt, delimiter='\\t', header=header, comments='')"
   ]
  },
  {
   "cell_type": "code",
   "execution_count": 38,
   "id": "a7762386-0bcb-4b43-adf3-d39c23b7e6d7",
   "metadata": {},
   "outputs": [],
   "source": [
    "header= 'hip_X\\thip_Y\\thip_Z'\n",
    "fn_hip = os.path.join(data_dir, 'hip_ang.csv')\n",
    "np.savetxt(fname=fn_hip, X=angh_r, fmt=fmt, delimiter='\\t', header=header, comments='')"
   ]
  },
  {
   "cell_type": "code",
   "execution_count": null,
   "id": "c8c75181-f633-4637-b33d-8d3724eaf219",
   "metadata": {},
   "outputs": [],
   "source": []
  },
  {
   "cell_type": "code",
   "execution_count": null,
   "id": "ff843fc3-c469-4a37-b6f3-38f30544141e",
   "metadata": {},
   "outputs": [],
   "source": []
  },
  {
   "cell_type": "code",
   "execution_count": 26,
   "id": "12472499-781f-4a32-a2d8-6ad311539faf",
   "metadata": {},
   "outputs": [
    {
     "data": {
      "text/plain": [
       "(5000, 3)"
      ]
     },
     "execution_count": 26,
     "metadata": {},
     "output_type": "execute_result"
    }
   ],
   "source": [
    "angk_r.shape"
   ]
  },
  {
   "cell_type": "code",
   "execution_count": 25,
   "id": "742df056-2558-4eac-b29e-9d21d2645fc7",
   "metadata": {},
   "outputs": [
    {
     "data": {
      "image/png": "[encoded data removed]",
      "text/plain": [
       "<Figure size 1000x600 with 1 Axes>"
      ]
     },
     "metadata": {},
     "output_type": "display_data"
    }
   ],
   "source": [
    "fig, axs = plt.subplots(1, figsize=(10,6))\n",
    "fig.suptitle('Joint angles')\n",
    "axs.plot(anga_r[:,0])\n",
    "axs.set_title('RBDS')\n",
    "axs.set_ylabel('Knee Angle')\n",
    "plt.show()"
   ]
  },
  {
   "cell_type": "code",
   "execution_count": null,
   "id": "1f13b1c3-694d-4119-b09b-7bbb9420049d",
   "metadata": {},
   "outputs": [],
   "source": []
  },
  {
   "cell_type": "markdown",
   "id": "66aaeacb-f595-43f5-8873-e87e70fc9657",
   "metadata": {
    "tags": []
   },
   "source": [
    "## Detect gait events"
   ]
  },
  {
   "cell_type": "code",
   "execution_count": null,
   "id": "5061d547-995c-4d56-b043-664f7752a5d4",
   "metadata": {},
   "outputs": [],
   "source": [
    "def td_detect(LAB, RHEDr, RTOEr, bp):\n",
    "    \"\"\"\n",
    "    Detect gait events using the method described by Zeni et al. ()\n",
    "    \"\"\"\n",
    "    import sys\n",
    "    sys.path.insert(1, os.path.join(drive_root,'functions'))\n",
    "    from svdt import svdt\n",
    "    from detecta import detect_peaks\n",
    "\n",
    "    # Global to local transformation to obtain rotation and translation matrix\n",
    "    Rp, Lp, RMSEp = svdt(LAB, bp)\n",
    "\n",
    "    # Express the RTOE and RHEEL markers in the pelvis segment\n",
    "    RHEDr_pelvis = np.empty(shape=RHEDr.shape)\n",
    "    RTOEr_pelvis = np.empty(shape=RTOEr.shape)\n",
    "    \n",
    "    for ix in range(RHEDr.shape[0]):\n",
    "        RHEDr_pelvis[ix,:] = np.dot(Rp[ix,:,:],RHEDr[ix,:]) + Lp[ix,:]\n",
    "        RTOEr_pelvis[ix,:] = np.dot(Rp[ix,:,:],RTOEr[ix,:]) + Lp[ix,:]\n",
    "\n",
    "    # Find touch-down time stamps\n",
    "    #iTD = detect_peaks(RHEDr_pelvis[:,0], mph=None, mpd=70, valley=False, show=False)\n",
    "\n",
    "    return RHEDr_pelvis"
   ]
  },
  {
   "cell_type": "markdown",
   "id": "29730317-783c-4aa1-8dae-f5b15f5af754",
   "metadata": {
    "tags": []
   },
   "source": [
    "### Visualize markers"
   ]
  },
  {
   "cell_type": "code",
   "execution_count": null,
   "id": "43d40993-8606-4eb5-b93f-7fdbd7a63a41",
   "metadata": {},
   "outputs": [],
   "source": [
    "from mpl_toolkits.mplot3d import Axes3D"
   ]
  },
  {
   "cell_type": "markdown",
   "id": "1aaaaa2f-163a-4e42-9c64-ca048ae3d624",
   "metadata": {},
   "source": [
    "#### RBDS"
   ]
  },
  {
   "cell_type": "code",
   "execution_count": null,
   "id": "40329994-bcd4-4d66-b42f-35328070679e",
   "metadata": {},
   "outputs": [],
   "source": [
    "# Average marker position\n",
    "mkr_S = df_RIC_S.values.flatten()\n",
    "# Marker labels list\n",
    "mkr_S_lbl = RIC_mkr_S_lbl"
   ]
  },
  {
   "cell_type": "code",
   "execution_count": null,
   "id": "12b77b7e-a609-4f7e-8535-8c7da095692f",
   "metadata": {},
   "outputs": [],
   "source": [
    "from mpl_toolkits.mplot3d import Axes3D\n",
    "fig = plt.figure(figsize=(8, 10))\n",
    "ax = fig.add_subplot(111, projection='3d',  facecolor='white')\n",
    "#ax.view_init(15, 20)\n",
    "\n",
    "\n",
    "ax.scatter(mkr_S[2:-1:3], mkr_S[0:-3:3], mkr_S[1:-2:3],  \n",
    "           c='r', s=30, depthshade=False)\n",
    "for m, mkr_lbl in enumerate(mkr_S_lbl):\n",
    "    ax.text(mkr_S[3*m+2], mkr_S[3*m], mkr_S[3*m+1], mkr_lbl)\n",
    "\n",
    "ax.set_xlabel('\\n' + 'Z [m]', linespacing=2)\n",
    "ax.set_ylabel('\\n' + 'X [m]', linespacing=2)\n",
    "ax.set_zlabel('\\n' + 'Y [m]', linespacing=2)\n",
    "#ax.invert_yaxis()\n",
    "# square plot\n",
    "ax.set_aspect('equal', adjustable='box')\n",
    "ax.set_xlim3d([np.nanmin(mkr_S[2::3])-.4, np.nanmax(mkr_S[2::3])+.4])\n",
    "ax.set_ylim3d([np.nanmin(mkr_S[0::3])-.4, np.nanmax(mkr_S[0::3])+.4])\n",
    "ax.set_zlim3d([np.nanmin(mkr_S[1::3]), np.nanmax(mkr_S[1::3])])\n",
    "plt.show()"
   ]
  },
  {
   "cell_type": "code",
   "execution_count": null,
   "id": "61e71bb8-d177-4b5a-83ba-1eee9905b81a",
   "metadata": {},
   "outputs": [],
   "source": [
    "#fig.savefig(os.path.join(data_dir, 'RBDS_3d.png'))"
   ]
  },
  {
   "cell_type": "markdown",
   "id": "dbd19495-068d-4b2f-9fe7-2259d77dc5f0",
   "metadata": {},
   "source": [
    "#### RBDS\n",
    "the following Lab Coordinate system\n",
    "*       X - points to the driection of walking\n",
    "*       Y - points vertically upwards\n",
    "*       Z - points to the subject's right"
   ]
  },
  {
   "cell_type": "markdown",
   "id": "83cef5f4-e6eb-4a56-8807-564901ebb9f2",
   "metadata": {},
   "source": [
    "#### RIC\n",
    "the following Lab Coordinate system\n",
    "*       X - points to the subject's right\n",
    "*       Y - points vertically upwards\n",
    "*       Z - points opposite of the walking direction\n",
    "NOTE the Segment coordinate systems\n",
    "*       X - Anterior .....................................[AB / AD duction]\n",
    "*       Y - Vertically upwards ............................[Axial rotation]\n",
    "*       Z - points to the subject's right side ...[Hinge flexion extension]"
   ]
  },
  {
   "cell_type": "code",
   "execution_count": null,
   "id": "b5308349-5b0f-49c0-bd53-208535af090d",
   "metadata": {},
   "outputs": [],
   "source": [
    "# Average marker position. Keep the same number of mkrs than RBDS\n",
    "data_RIC_static = data_RIC_static[df_S_RBDS.columns.tolist()]"
   ]
  },
  {
   "cell_type": "code",
   "execution_count": null,
   "id": "99dffabb-bd0e-4101-b221-585380e467d5",
   "metadata": {},
   "outputs": [],
   "source": [
    "data_RIC_static"
   ]
  },
  {
   "cell_type": "code",
   "execution_count": null,
   "id": "b7b8afe6-305f-44a4-872f-6cfffaa48aec",
   "metadata": {},
   "outputs": [],
   "source": [
    "mkr_S = data_RIC_static.values.flatten()"
   ]
  },
  {
   "cell_type": "code",
   "execution_count": null,
   "id": "9cca80c7-827c-4ab9-994c-b28f37ae2271",
   "metadata": {},
   "outputs": [],
   "source": [
    "# Marker labels list\n",
    "mkr_S_lbl = [data_RIC_static.columns.tolist()[i][:-2] for i in range(mkr_S.shape[0])]\n",
    "mkr_S_lbl_ = f7(mkr_S_lbl)"
   ]
  },
  {
   "cell_type": "code",
   "execution_count": null,
   "id": "11822fda-f9f1-411c-a0bc-8a3f1b3fca6f",
   "metadata": {},
   "outputs": [],
   "source": [
    "# Static\n",
    "mkrs_RIC_S = np.empty(mkr_S.shape[0])\n",
    "rot = np.array([[0,0,1],[0,1,0],[-1,0,0]]) # rotate markers 90 deg\n",
    "for m in range(len(mkr_S_lbl_)):\n",
    "    mkrs_RIC_S[3*m:3*m+3] = rot @ mkr_S[3*m:3*m+3]"
   ]
  },
  {
   "cell_type": "code",
   "execution_count": null,
   "id": "07ac5c14-e81d-4e83-9a8c-fd1370cbf913",
   "metadata": {},
   "outputs": [],
   "source": [
    "mkr_S = mkrs_RIC_S"
   ]
  },
  {
   "cell_type": "code",
   "execution_count": null,
   "id": "fba2c800-78e9-450c-9020-3b566cef6155",
   "metadata": {},
   "outputs": [],
   "source": [
    "from mpl_toolkits.mplot3d import Axes3D\n",
    "fig = plt.figure(figsize=(8, 10))\n",
    "ax = fig.add_subplot(111, projection='3d',  facecolor='white')\n",
    "#ax.view_init(15, 20)\n",
    "\n",
    "\n",
    "ax.scatter(mkr_S[0:-3:3], mkr_S[1:-2:3], mkr_S[2:-1:3], c='r', s=30, depthshade=False)\n",
    "for m, mkr_lbl in enumerate(mkr_S_lbl_):\n",
    "    ax.text(mkr_S[3*m], mkr_S[3*m+1], mkr_S[3*m+2], mkr_lbl)\n",
    "\n",
    "ax.set_xlim3d([np.nanmin(mkr_S[0::3])-.4, np.nanmax(mkr_S[0::3])+.4])\n",
    "ax.set_ylim3d([np.nanmin(mkr_S[1::3])-.4, np.nanmax(mkr_S[1::3])+.4])\n",
    "ax.set_zlim3d([np.nanmin(mkr_S[2::3]), np.nanmax(mkr_S[2::3])])\n",
    "ax.set_xlabel('\\n' + 'X [m]', linespacing=2)\n",
    "ax.set_ylabel('\\n' + 'Y [m]', linespacing=2)\n",
    "ax.set_zlabel('\\n' + 'Z [m]', linespacing=2)\n",
    "#ax.invert_yaxis()\n",
    "# square plot\n",
    "ax.set_aspect('equal', adjustable='box')\n",
    "plt.show()"
   ]
  },
  {
   "cell_type": "code",
   "execution_count": null,
   "id": "a9b1f098-89fa-453e-9110-3fd84b90afb5",
   "metadata": {},
   "outputs": [],
   "source": [
    "data_RIC_run = pd.DataFrame(data_RIC['running'])\n",
    "data_RIC_run.head()"
   ]
  },
  {
   "cell_type": "code",
   "execution_count": null,
   "id": "b8100e03",
   "metadata": {},
   "outputs": [],
   "source": []
  },
  {
   "cell_type": "code",
   "execution_count": null,
   "id": "415e4967",
   "metadata": {},
   "outputs": [],
   "source": []
  },
  {
   "cell_type": "code",
   "execution_count": null,
   "id": "8a2a88e1",
   "metadata": {},
   "outputs": [],
   "source": []
  },
  {
   "cell_type": "code",
   "execution_count": null,
   "id": "c5987c44-01da-458c-a1ef-cc07b632435b",
   "metadata": {},
   "outputs": [],
   "source": [
    "data_RIC_static.values.shape[1]/3"
   ]
  },
  {
   "cell_type": "code",
   "execution_count": null,
   "id": "24cb487e",
   "metadata": {},
   "outputs": [],
   "source": [
    "mkr_lbl = mkr_lbl_RIC_s+mkr_lbl_RIC_j"
   ]
  },
  {
   "cell_type": "code",
   "execution_count": null,
   "id": "9ea282bd-4699-42be-82a1-e8c040958644",
   "metadata": {},
   "outputs": [],
   "source": [
    "fig = plt.figure(figsize=(10,6))\n",
    "ax = plt.axes(projection='3d')\n",
    "\n",
    "mkr_lbl = mkr_lbl_RIC_s+mkr_lbl_RIC_j\n",
    "# Data for three-dimensional scattered points\n",
    "for i in range(len(mkr_lbl)):\n",
    "    ydata = data_RIC_static.values[0,3*i+1]\n",
    "    xdata = data_RIC_static.values[0,3*i]\n",
    "    zdata = data_RIC_static.values[0,3*i+2]\n",
    "    ax.scatter(xdata, zdata, ydata, c='b');\n",
    "    ax.text(xdata,zdata,ydata,  '%s' % (mkr_lbl[i]), size=5, zorder=1,  \n",
    "    color='k')\n",
    "ax.set_aspect('equal')"
   ]
  },
  {
   "cell_type": "code",
   "execution_count": null,
   "id": "0e867171-a17c-4438-9470-df2973ff197a",
   "metadata": {},
   "outputs": [],
   "source": [
    "from ordered_set import OrderedSet\n",
    "# RIC\n",
    "ls_RIC = df_s_RIC.columns.tolist()\n",
    "mkr_S_labels_RIC = list(OrderedSet([x[:-2].replace('.','_') for x in ls_RIC]))\n",
    "# RBDS\n",
    "ls = df_s_RBDS.columns.tolist()\n",
    "mkr_S_labels_RBDS = list(OrderedSet([x[:-2].replace('.','_') for x in ls]))"
   ]
  },
  {
   "cell_type": "markdown",
   "id": "6b39cc02",
   "metadata": {},
   "source": [
    "##### Running trial"
   ]
  },
  {
   "cell_type": "code",
   "execution_count": null,
   "id": "591be3c2",
   "metadata": {},
   "outputs": [],
   "source": [
    "data_RIC_run = pd.DataFrame(data_RIC['running'])\n",
    "data_RIC_run.head()"
   ]
  },
  {
   "cell_type": "code",
   "execution_count": null,
   "id": "722f96bf-dc4f-47e8-96a5-ee390a17bbd1",
   "metadata": {},
   "outputs": [],
   "source": []
  },
  {
   "cell_type": "code",
   "execution_count": null,
   "id": "32f2c126-b938-429b-b0f6-b4b4ce0401a0",
   "metadata": {},
   "outputs": [],
   "source": [
    "data_RIC = loadmat(os.path.join(data_dir, '20140515T133244_r.mat'))"
   ]
  },
  {
   "cell_type": "code",
   "execution_count": null,
   "id": "6a58fc35-54e2-4f7e-aba8-a1acfae9963e",
   "metadata": {},
   "outputs": [],
   "source": [
    "data_RIC['r_angles'].keys()"
   ]
  },
  {
   "cell_type": "code",
   "execution_count": null,
   "id": "19d753a8",
   "metadata": {
    "colab": {
     "base_uri": "https://localhost:8080/",
     "height": 331
    },
    "executionInfo": {
     "elapsed": 14,
     "status": "ok",
     "timestamp": 1674159319642,
     "user": {
      "displayName": "Reginaldo Fukuchi",
      "userId": "10593265862496095759"
     },
     "user_tz": 420
    },
    "id": "19d753a8",
    "outputId": "f8ac6db5-1787-4c71-f55c-7ae597028cb9"
   },
   "outputs": [],
   "source": [
    "df_s.head()"
   ]
  },
  {
   "cell_type": "markdown",
   "id": "204ed75b",
   "metadata": {
    "id": "204ed75b"
   },
   "source": [
    "# Running data"
   ]
  },
  {
   "cell_type": "code",
   "execution_count": null,
   "id": "eee59978",
   "metadata": {
    "id": "eee59978"
   },
   "outputs": [],
   "source": [
    "df_r = pd.read_csv(fname_out_R, delimiter=',', index_col='Time')"
   ]
  },
  {
   "cell_type": "code",
   "execution_count": null,
   "id": "3d34321d",
   "metadata": {
    "colab": {
     "base_uri": "https://localhost:8080/",
     "height": 331
    },
    "executionInfo": {
     "elapsed": 181,
     "status": "ok",
     "timestamp": 1674108309965,
     "user": {
      "displayName": "Reginaldo Fukuchi",
      "userId": "10593265862496095759"
     },
     "user_tz": 420
    },
    "id": "3d34321d",
    "outputId": "4521de77-e0f3-4dee-e772-4edcb12e66c6"
   },
   "outputs": [],
   "source": [
    "df_r.head()"
   ]
  },
  {
   "cell_type": "markdown",
   "id": "MuxNlREwtYnK",
   "metadata": {
    "id": "MuxNlREwtYnK"
   },
   "source": [
    "## Gait events (TD and TO)\n",
    "These gait events were detected in another NB (RIC_RBDS_gait_events_detection.ipynb) using the method of Zeni."
   ]
  },
  {
   "cell_type": "code",
   "execution_count": null,
   "id": "Ow4-v4AvteRK",
   "metadata": {
    "id": "Ow4-v4AvteRK"
   },
   "outputs": [],
   "source": [
    "LAB = np.array([[1,0,0],[0,1,0],[0,0,1]])"
   ]
  },
  {
   "cell_type": "code",
   "execution_count": null,
   "id": "I7-_B88puDxK",
   "metadata": {
    "id": "I7-_B88puDxK"
   },
   "outputs": [],
   "source": [
    "def td_detect(LAB, RHEDr, RTOEr, bp):\n",
    "  \"\"\"\n",
    "  Detect gait events using the method described by Zeni et al. ()\n",
    "  \"\"\"\n",
    "  import sys\n",
    "  sys.path.insert(1, os.path.join(drive_root,'functions'))\n",
    "  from svdt import svdt\n",
    "  from detecta import detect_peaks\n",
    "\n",
    "  # Global to local transformation to obtain rotation and translation matrix\n",
    "  Rp, Lp, RMSEp = svdt(LAB, bp)\n",
    "\n",
    "  # Express the RTOE and RHEEL markers in the pelvis segment\n",
    "  RHEDr_pelvis = np.empty(shape=RHEDr.shape)\n",
    "  RTOEr_pelvis = np.empty(shape=RTOEr.shape)\n",
    "  for ix in range(RHEDr.shape[0]):\n",
    "    RHEDr_pelvis[ix,:] = np.dot(Rp[ix,:,:],RHEDr[ix,:]) + Lp[ix,:]\n",
    "    RTOEr_pelvis[ix,:] = np.dot(Rp[ix,:,:],RTOEr[ix,:]) + Lp[ix,:]\n",
    "\n",
    "  # Find touch-down time stamps\n",
    "  iTD = detect_peaks(RHEDr_pelvis[:,0], mph=None, mpd=70, valley=False, show=False)\n",
    "\n",
    "  return iTD"
   ]
  },
  {
   "cell_type": "code",
   "execution_count": null,
   "id": "Su9la1Yo1XCt",
   "metadata": {
    "id": "Su9la1Yo1XCt"
   },
   "outputs": [],
   "source": [
    "  bp = np.empty(shape=(RTOEr.shape[0],9))\n",
    "  for ix in range(RHEDr.shape[0]):\n",
    "    # Pelvis basis\n",
    "    pp = pelvisCS(RASIr[i,:], LASIr[i,:], VSACr[i,:])\n",
    "    bp[ix,:] = pp.reshape((9,))"
   ]
  },
  {
   "cell_type": "code",
   "execution_count": null,
   "id": "VgaLopQmvgyK",
   "metadata": {
    "id": "VgaLopQmvgyK"
   },
   "outputs": [],
   "source": [
    "iTD = td_detect(LAB, RHEDr, RTOEr, bp)"
   ]
  },
  {
   "cell_type": "markdown",
   "id": "93e2c865",
   "metadata": {
    "id": "93e2c865"
   },
   "source": [
    "### Joint angles during running"
   ]
  },
  {
   "cell_type": "code",
   "execution_count": null,
   "id": "cbc01301",
   "metadata": {
    "id": "cbc01301"
   },
   "outputs": [],
   "source": [
    "angh_r = np.empty(shape=(rkjc_R.shape[0],3))\n",
    "angk_r = np.empty(shape=(rkjc_R.shape[0],3))\n",
    "anga_r = np.empty(shape=(rkjc_R.shape[0],3))\n",
    "for i in range(rkjc_R.shape[0]):\n",
    "    bp = pelvisCS(RASIr[i,:],LASIr[i,:],VSACr[i,:])\n",
    "    bt = thighCS(rhjc_R[i,:],rkjc_R[i,:],RKNLr[i,:])\n",
    "    bs = shankCS(rkjc_R[i,:],rajc_R[i,:],RMALr[i,:])\n",
    "    bf = footCS(RHEDr[i,:], RMH1r[i,:], RMH5r[i,:], RTOEr[i,:])\n",
    "    # Hip angle\n",
    "    angh_r[i,:] = hipang(bp, bt)\n",
    "    # Knee angle\n",
    "    angk_r[i,:] = kneeang(bt, bs)\n",
    "    # Ankle angle\n",
    "    anga_r[i,:] = ankleang(bs, bf)"
   ]
  },
  {
   "cell_type": "code",
   "execution_count": null,
   "id": "63b498ab",
   "metadata": {
    "id": "63b498ab"
   },
   "outputs": [],
   "source": [
    "time = df_r.index.values"
   ]
  },
  {
   "cell_type": "markdown",
   "id": "72c8ec33",
   "metadata": {
    "id": "72c8ec33"
   },
   "source": [
    "## Ensemble average curve using tnorma"
   ]
  },
  {
   "cell_type": "code",
   "execution_count": null,
   "id": "oGwWaxbu-rps",
   "metadata": {
    "id": "oGwWaxbu-rps"
   },
   "outputs": [],
   "source": [
    "# When running for the first time in a given computer\n",
    "#fc_path = r'/content/drive/MyDrive/Github/UFABC_UofC_datasets/functions'\n",
    "#!pip install --target=$fc_path detecta\n",
    "#!pip install --target=$fc_path tnorma"
   ]
  },
  {
   "cell_type": "code",
   "execution_count": null,
   "id": "e5389e0a",
   "metadata": {
    "id": "e5389e0a"
   },
   "outputs": [],
   "source": [
    "from tnorma import tnorma"
   ]
  },
  {
   "cell_type": "code",
   "execution_count": null,
   "id": "ea255621",
   "metadata": {
    "id": "ea255621"
   },
   "outputs": [],
   "source": [
    "ang_hip = np.empty(shape=(101,iTD.shape[0]-1,3))\n",
    "ang_knee= np.empty(shape=(101,iTD.shape[0]-1,3))\n",
    "for i in range(iTD.shape[0]-1):\n",
    "    ang_hip[:,i,:], tn, indie = tnorma(angh_r[iTD[i]:iTD[i+1],:], k=1, \n",
    "                                       smooth=0, mask=None, show=False)\n",
    "    ang_knee[:,i,:], tn, indie= tnorma(angk_r[iTD[i]:iTD[i+1],:], k=1, \n",
    "                                       smooth=0, mask=None, show=False)"
   ]
  },
  {
   "cell_type": "markdown",
   "id": "7d3f3863",
   "metadata": {
    "id": "7d3f3863"
   },
   "source": [
    "# RIC and RBDS data"
   ]
  },
  {
   "cell_type": "markdown",
   "id": "a05eb357",
   "metadata": {
    "id": "a05eb357"
   },
   "source": [
    "ang_hipM_RIC = np.mean(ang_hip, axis=1)\n",
    "ang_kneeM_RIC= np.mean(ang_knee, axis=1)"
   ]
  },
  {
   "cell_type": "code",
   "execution_count": null,
   "id": "3428e43c",
   "metadata": {
    "id": "3428e43c"
   },
   "outputs": [],
   "source": [
    "ang_hipM_RBDS = np.mean(ang_hip, axis=1)\n",
    "ang_kneeM_RBDS= np.mean(ang_knee, axis=1)"
   ]
  },
  {
   "cell_type": "code",
   "execution_count": null,
   "id": "9BPS3ob2A5HG",
   "metadata": {
    "id": "9BPS3ob2A5HG"
   },
   "outputs": [],
   "source": []
  },
  {
   "cell_type": "code",
   "execution_count": null,
   "id": "0d0c32d8",
   "metadata": {
    "colab": {
     "base_uri": "https://localhost:8080/",
     "height": 417
    },
    "executionInfo": {
     "elapsed": 368,
     "status": "ok",
     "timestamp": 1674112082357,
     "user": {
      "displayName": "Reginaldo Fukuchi",
      "userId": "10593265862496095759"
     },
     "user_tz": 420
    },
    "id": "0d0c32d8",
    "outputId": "80024844-b150-4d15-e33b-4b9aad9465b4"
   },
   "outputs": [],
   "source": [
    "fig, axs = plt.subplots(2, figsize=(10,6))\n",
    "fig.suptitle('Join angles')\n",
    "axs[0].plot(tn,ang_hipM_RBDS[:,0],'b')\n",
    "axs[0].set_title('RBDS')\n",
    "axs[0].set_ylabel('Hip Flexion')\n",
    "axs[1].plot(tn,ang_kneeM_RBDS[:,0],'b')\n",
    "axs[1].set_title('RBDS')\n",
    "axs[1].set_ylabel('Knee Flexion')\n",
    "plt.show()"
   ]
  },
  {
   "cell_type": "markdown",
   "id": "b995a2e4",
   "metadata": {
    "id": "b995a2e4"
   },
   "source": [
    "# References\n",
    "* Fukuchi RK, Fukuchi CA, Duarte M. 2017. A public dataset of running biomechanics and the effects of running speed on lower extremity kinematics and kinetics. PeerJ 5:e3298 https://doi.org/10.7717/peerj.3298\n",
    "* Ferber et al. (in preparation). WeTrac 3D gait data set."
   ]
  },
  {
   "cell_type": "markdown",
   "id": "T8EjwulCES6t",
   "metadata": {
    "id": "T8EjwulCES6t"
   },
   "source": [
    "# Commit changes and push them to GitHub repository"
   ]
  },
  {
   "cell_type": "code",
   "execution_count": null,
   "id": "747867f1",
   "metadata": {
    "id": "747867f1"
   },
   "outputs": [],
   "source": [
    "!git status"
   ]
  },
  {
   "cell_type": "code",
   "execution_count": null,
   "id": "OOIwOyRqC7n7",
   "metadata": {
    "colab": {
     "base_uri": "https://localhost:8080/"
    },
    "executionInfo": {
     "elapsed": 9731,
     "status": "ok",
     "timestamp": 1674112183166,
     "user": {
      "displayName": "Reginaldo Fukuchi",
      "userId": "10593265862496095759"
     },
     "user_tz": 420
    },
    "id": "OOIwOyRqC7n7",
    "outputId": "5be04feb-7fd3-425a-e5af-b35612aa727a"
   },
   "outputs": [],
   "source": [
    "!git add ."
   ]
  },
  {
   "cell_type": "code",
   "execution_count": null,
   "id": "ZVC9xcR23W1P",
   "metadata": {
    "id": "ZVC9xcR23W1P"
   },
   "outputs": [],
   "source": [
    "!git config --global user.email \"reginaldo.fukuchi@gmail.com\""
   ]
  },
  {
   "cell_type": "code",
   "execution_count": null,
   "id": "BeMEh2l83dnM",
   "metadata": {
    "id": "BeMEh2l83dnM"
   },
   "outputs": [],
   "source": [
    "!git config --global user.name \"regifukuchi\""
   ]
  },
  {
   "cell_type": "code",
   "execution_count": null,
   "id": "7CQzcqBJ3IRI",
   "metadata": {
    "colab": {
     "base_uri": "https://localhost:8080/"
    },
    "executionInfo": {
     "elapsed": 3794,
     "status": "ok",
     "timestamp": 1674112285923,
     "user": {
      "displayName": "Reginaldo Fukuchi",
      "userId": "10593265862496095759"
     },
     "user_tz": 420
    },
    "id": "7CQzcqBJ3IRI",
    "outputId": "64da4ef5-18f3-4342-d66c-0baf16764dcb"
   },
   "outputs": [],
   "source": [
    "!git commit -m \"Modified RIC_RBDS_calculate_angles.ipynb\""
   ]
  },
  {
   "cell_type": "code",
   "execution_count": null,
   "id": "TcH7qAd93OQs",
   "metadata": {
    "colab": {
     "base_uri": "https://localhost:8080/"
    },
    "executionInfo": {
     "elapsed": 3813,
     "status": "ok",
     "timestamp": 1674112298073,
     "user": {
      "displayName": "Reginaldo Fukuchi",
      "userId": "10593265862496095759"
     },
     "user_tz": 420
    },
    "id": "TcH7qAd93OQs",
    "outputId": "5b062a4b-8344-4947-fed9-b18b047d7344"
   },
   "outputs": [],
   "source": [
    "!git push"
   ]
  },
  {
   "cell_type": "code",
   "execution_count": null,
   "id": "AOjck9TB3lxd",
   "metadata": {
    "id": "AOjck9TB3lxd"
   },
   "outputs": [],
   "source": []
  }
 ],
 "metadata": {
  "colab": {
   "provenance": [
    {
     "file_id": "12cMzkzht_DrNbMajHNFx3Y6Po5slfdL0",
     "timestamp": 1674079422386
    }
   ]
  },
  "kernelspec": {
   "display_name": "Python 3 (ipykernel)",
   "language": "python",
   "name": "python3"
  },
  "language_info": {
   "codemirror_mode": {
    "name": "ipython",
    "version": 3
   },
   "file_extension": ".py",
   "mimetype": "text/x-python",
   "name": "python",
   "nbconvert_exporter": "python",
   "pygments_lexer": "ipython3",
   "version": "3.9.16"
  }
 },
 "nbformat": 4,
 "nbformat_minor": 5
}
