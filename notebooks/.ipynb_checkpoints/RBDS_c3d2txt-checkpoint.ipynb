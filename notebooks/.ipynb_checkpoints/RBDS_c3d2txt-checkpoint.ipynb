{
 "cells": [
  {
   "cell_type": "markdown",
   "id": "b12e57ac",
   "metadata": {
    "id": "b12e57ac"
   },
   "source": [
    "# Running Biomechanics Data Set\n",
    "\n",
    "Reginaldo K Fukuchi, Jan 2023, reginaldo.fukuchi@ufabc.edu.br\n",
    "\n",
    "This NB imports c3d files and convert data into ASCII files for markers trajectories and forces separately."
   ]
  },
  {
   "cell_type": "code",
   "execution_count": 1,
   "id": "7f4e9cc6",
   "metadata": {
    "executionInfo": {
     "elapsed": 1550,
     "status": "ok",
     "timestamp": 1674166207034,
     "user": {
      "displayName": "Reginaldo Fukuchi",
      "userId": "10593265862496095759"
     },
     "user_tz": 420
    },
    "id": "7f4e9cc6"
   },
   "outputs": [],
   "source": [
    "# Prepare environment\n",
    "import os\n",
    "import numpy as np\n",
    "import pandas as pd\n",
    "import seaborn as sns\n",
    "import matplotlib.pyplot as plt\n",
    "%matplotlib notebook"
   ]
  },
  {
   "cell_type": "code",
   "execution_count": 2,
   "id": "0a83576f",
   "metadata": {
    "executionInfo": {
     "elapsed": 210,
     "status": "ok",
     "timestamp": 1674166213240,
     "user": {
      "displayName": "Reginaldo Fukuchi",
      "userId": "10593265862496095759"
     },
     "user_tz": 420
    },
    "id": "0a83576f"
   },
   "outputs": [],
   "source": [
    "# Import data\n",
    "pathname = r'../data'"
   ]
  },
  {
   "cell_type": "markdown",
   "id": "e22015e5",
   "metadata": {
    "id": "e22015e5"
   },
   "source": [
    "## Import C3D RBDS file using EZC3D\n",
    "https://github.com/pyomeca/ezc3d"
   ]
  },
  {
   "cell_type": "code",
   "execution_count": 3,
   "id": "vS5VEF0WG_uG",
   "metadata": {
    "id": "vS5VEF0WG_uG"
   },
   "outputs": [],
   "source": [
    "import sys\n",
    "sys.path.insert(1, r'../functions')\n",
    "from svdt import svdt"
   ]
  },
  {
   "cell_type": "code",
   "execution_count": 4,
   "id": "2fd77eb0",
   "metadata": {},
   "outputs": [],
   "source": [
    "from ezc3d import c3d"
   ]
  },
  {
   "cell_type": "code",
   "execution_count": 59,
   "id": "30b5aeb9",
   "metadata": {},
   "outputs": [],
   "source": [
    "subject = 'RBDS0041'\n",
    "task = 'runT452'"
   ]
  },
  {
   "cell_type": "markdown",
   "id": "8a373355",
   "metadata": {
    "id": "8a373355"
   },
   "source": [
    "### List of markers labels that are used in the RBDS Figshare data set"
   ]
  },
  {
   "cell_type": "code",
   "execution_count": 60,
   "id": "6e1e942f",
   "metadata": {},
   "outputs": [],
   "source": [
    "if task=='static':\n",
    "    mkr_labels_S = ['R.ASIS', 'L.ASIS', 'R.PSIS', 'L.PSIS', 'R.Iliac.Crest', 'L.Iliac.Crest', \n",
    "                    'R.Thigh.Top.Lateral', 'R.Thigh.Bottom.Lateral', 'R.Thigh.Top.Medial', 'R.Thigh.Bottom.Medial', \n",
    "                    'R.Shank.Top.Lateral', 'R.Shank.Bottom.Lateral', 'R.Shank.Top.Medial', 'R.Shank.Bottom.Medial', \n",
    "                    'R.Heel.Top', 'R.Heel.Bottom', 'R.Heel.Lateral', 'L.Thigh.Top.Lateral', 'L.Thigh.Bottom.Lateral', \n",
    "                    'L.Thigh.Top.Medial', 'L.Thigh.Bottom.Medial', 'L.Shank.Top.Lateral', 'L.Shank.Bottom.Lateral', \n",
    "                    'L.Shank.Top.Medial', 'L.Shank.Bottom.Medial', 'L.Heel.Top', 'L.Heel.Bottom', 'L.Heel.Lateral', \n",
    "                    'R.GTR', 'R.Knee', 'R.Knee.Medial', 'R.HF', 'R.TT', 'R.Ankle', 'R.Ankle.Medial', 'R.MT1', 'R.MT5', \n",
    "                    'R.MT2', 'L.GTR', 'L.Knee', 'L.Knee.Medial', 'L.HF', 'L.TT', 'L.Ankle', 'L.Ankle.Medial', \n",
    "                    'L.MT1', 'L.MT5', 'L.MT2']\n",
    "else:\n",
    "    mkr_labels_S=['R.ASIS', 'L.ASIS', 'R.PSIS', 'L.PSIS', 'R.Iliac.Crest', 'L.Iliac.Crest', \n",
    "                  'R.Thigh.Top.Lateral', 'R.Thigh.Bottom.Lateral', 'R.Thigh.Top.Medial', 'R.Thigh.Bottom.Medial', \n",
    "                  'R.Shank.Top.Lateral', 'R.Shank.Bottom.Lateral', 'R.Shank.Top.Medial', 'R.Shank.Bottom.Medial', \n",
    "                  'R.Heel.Top', 'R.Heel.Bottom', 'R.Heel.Lateral', \n",
    "                  'L.Thigh.Top.Lateral', 'L.Thigh.Bottom.Lateral', 'L.Thigh.Top.Medial', 'L.Thigh.Bottom.Medial', \n",
    "                  'L.Shank.Top.Lateral', 'L.Shank.Bottom.Lateral', 'L.Shank.Top.Medial', 'L.Shank.Bottom.Medial', \n",
    "                  'L.Heel.Top', 'L.Heel.Bottom', 'L.Heel.Lateral', \n",
    "                  'R.MT1', 'R.MT5', 'L.MT1', 'L.MT5']"
   ]
  },
  {
   "cell_type": "code",
   "execution_count": 61,
   "id": "b4690006",
   "metadata": {
    "id": "b4690006"
   },
   "outputs": [],
   "source": [
    "fname_c3d = os.path.join(pathname,task + '.c3d')\n",
    "c = c3d(fname_c3d)"
   ]
  },
  {
   "cell_type": "code",
   "execution_count": 62,
   "id": "3c98240b",
   "metadata": {
    "id": "3c98240b"
   },
   "outputs": [],
   "source": [
    "point_data = c['data']['points']\n",
    "points_residuals = c['data']['meta_points']['residuals']\n",
    "analog_data = c['data']['analogs']"
   ]
  },
  {
   "cell_type": "code",
   "execution_count": 63,
   "id": "21856c33",
   "metadata": {
    "id": "21856c33"
   },
   "outputs": [
    {
     "name": "stdout",
     "output_type": "stream",
     "text": [
      "['R.ASIS', 'L.ASIS', 'R.PSIS', 'L.PSIS', 'R.Iliac.Crest', 'L.Iliac.Crest', 'R.Thigh.Top.Lateral', 'R.Thigh.Bottom.Lateral', 'R.Thigh.Top.Medial', 'R.Thigh.Bottom.Medial', 'R.Shank.Top.Lateral', 'R.Shank.Bottom.Lateral', 'R.Shank.Top.Medial', 'R.Shank.Bottom.Medial', 'R.Heel.Top', 'R.Heel.Bottom', 'R.Heel.Lateral', 'L.Thigh.Top.Lateral', 'L.Thigh.Bottom.Lateral', 'L.Thigh.Top.Medial', 'L.Thigh.Bottom.Medial', 'L.Shank.Top.Lateral', 'L.Shank.Bottom.Lateral', 'L.Shank.Top.Medial', 'L.Shank.Bottom.Medial', 'L.Heel.Top', 'L.Heel.Bottom', 'L.Heel.Lateral', 'R.GTR', 'R.Knee', 'R.Knee.Medial', 'R.HF', 'R.TT', 'R.Ankle', 'R.Ankle.Medial', 'R.MT1', 'R.MT5', 'R.MT2', 'L.GTR', 'L.Knee', 'L.Knee.Medial', 'L.HF', 'L.TT', 'L.Ankle', 'L.Ankle.Medial', 'L.MT1', 'L.MT5', 'L.MT2', 'R.ASY']\n"
     ]
    }
   ],
   "source": [
    "mkr_S_labels_RBDS = c['parameters']['POINT']['LABELS']['value']\n",
    "print(mkr_S_labels_RBDS)"
   ]
  },
  {
   "cell_type": "markdown",
   "id": "df82470d",
   "metadata": {},
   "source": [
    "## Check for differences in marker columns btw RBDS Figshare and new data"
   ]
  },
  {
   "cell_type": "code",
   "execution_count": 64,
   "id": "afd3c57a",
   "metadata": {},
   "outputs": [],
   "source": [
    "def difference (list1, list2):\n",
    "    \"\"\"Compare two lists for differences\"\"\"\n",
    "    list_dif = [i for i in list1 + list2 if i not in list1 or i not in list2]\n",
    "    \n",
    "    return list_dif"
   ]
  },
  {
   "cell_type": "code",
   "execution_count": 65,
   "id": "fa6a7d5a",
   "metadata": {},
   "outputs": [],
   "source": [
    "list_dif = difference (mkr_labels_S, mkr_S_labels_RBDS)\n",
    "# Delete columns of markers that are not currently in the RBDS Figshare\n",
    "if list_dif:\n",
    "    idx = mkr_S_labels_RBDS.index(list_dif[0])\n",
    "    point_data = np.delete(point_data, idx, axis=1) # Delete data corresponding to the non-existent marker\n",
    "    mkr_S_labels_RBDS.remove(list_dif[0])"
   ]
  },
  {
   "cell_type": "code",
   "execution_count": 66,
   "id": "9a517035",
   "metadata": {},
   "outputs": [],
   "source": [
    "# Delete extra dimension for homogeneus matrices\n",
    "point_data=np.delete(point_data, 3, axis=0)"
   ]
  },
  {
   "cell_type": "code",
   "execution_count": 67,
   "id": "6ccd30e9",
   "metadata": {},
   "outputs": [],
   "source": [
    "pos_data = np.empty(shape=(point_data.shape[2],3*len(mkr_S_labels_RBDS)))\n",
    "for m, marker in enumerate(mkr_S_labels_RBDS):\n",
    "    pos_data[:,3*m:3*m+3] = point_data[:, m, :].T"
   ]
  },
  {
   "cell_type": "code",
   "execution_count": 68,
   "id": "82414fbd",
   "metadata": {
    "id": "82414fbd"
   },
   "outputs": [],
   "source": [
    "# Create new list to be column names of df\n",
    "xyz = list('XYZ')*len(mkr_S_labels_RBDS)\n",
    "mkr_S_labels_RBDS_2 = [ele for ele in mkr_S_labels_RBDS for i in range(3)]\n",
    "mkr_S_labels_RBDS_3 = [mkr_S_labels_RBDS_2[i]+xyz[i] for i in range(len(xyz))]"
   ]
  },
  {
   "cell_type": "code",
   "execution_count": 69,
   "id": "9cad10ce",
   "metadata": {
    "id": "9cad10ce"
   },
   "outputs": [],
   "source": [
    "df_S_RBDS = pd.DataFrame(data=pos_data, columns=mkr_S_labels_RBDS_3,)"
   ]
  },
  {
   "cell_type": "code",
   "execution_count": 70,
   "id": "a8901963",
   "metadata": {
    "id": "a8901963"
   },
   "outputs": [],
   "source": [
    "duration  = pos_data.shape[0]/int(c['parameters']['POINT']['RATE']['value'][0])\n",
    "timeStamps= np.linspace(0, duration, pos_data.shape[0]).round(3)"
   ]
  },
  {
   "cell_type": "code",
   "execution_count": 71,
   "id": "e090e439",
   "metadata": {
    "id": "e090e439"
   },
   "outputs": [],
   "source": [
    "df_S_RBDS['Time'] = timeStamps\n",
    "df_S_RBDS.set_index('Time', inplace=True)\n",
    "df_S_RBDS.index.name = 'Time'"
   ]
  },
  {
   "cell_type": "code",
   "execution_count": 72,
   "id": "73e51ae1",
   "metadata": {},
   "outputs": [],
   "source": [
    "df_S_RBDS = df_S_RBDS.round(3)"
   ]
  },
  {
   "cell_type": "code",
   "execution_count": 73,
   "id": "0a32c95e",
   "metadata": {},
   "outputs": [
    {
     "data": {
      "text/html": [
       "<div>\n",
       "<style scoped>\n",
       "    .dataframe tbody tr th:only-of-type {\n",
       "        vertical-align: middle;\n",
       "    }\n",
       "\n",
       "    .dataframe tbody tr th {\n",
       "        vertical-align: top;\n",
       "    }\n",
       "\n",
       "    .dataframe thead th {\n",
       "        text-align: right;\n",
       "    }\n",
       "</style>\n",
       "<table border=\"1\" class=\"dataframe\">\n",
       "  <thead>\n",
       "    <tr style=\"text-align: right;\">\n",
       "      <th></th>\n",
       "      <th>R.ASISX</th>\n",
       "      <th>R.ASISY</th>\n",
       "      <th>R.ASISZ</th>\n",
       "      <th>L.ASISX</th>\n",
       "      <th>L.ASISY</th>\n",
       "      <th>L.ASISZ</th>\n",
       "      <th>R.PSISX</th>\n",
       "      <th>R.PSISY</th>\n",
       "      <th>R.PSISZ</th>\n",
       "      <th>L.PSISX</th>\n",
       "      <th>...</th>\n",
       "      <th>L.MT1Z</th>\n",
       "      <th>L.MT5X</th>\n",
       "      <th>L.MT5Y</th>\n",
       "      <th>L.MT5Z</th>\n",
       "      <th>L.MT2X</th>\n",
       "      <th>L.MT2Y</th>\n",
       "      <th>L.MT2Z</th>\n",
       "      <th>R.ASYX</th>\n",
       "      <th>R.ASYY</th>\n",
       "      <th>R.ASYZ</th>\n",
       "    </tr>\n",
       "    <tr>\n",
       "      <th>Time</th>\n",
       "      <th></th>\n",
       "      <th></th>\n",
       "      <th></th>\n",
       "      <th></th>\n",
       "      <th></th>\n",
       "      <th></th>\n",
       "      <th></th>\n",
       "      <th></th>\n",
       "      <th></th>\n",
       "      <th></th>\n",
       "      <th></th>\n",
       "      <th></th>\n",
       "      <th></th>\n",
       "      <th></th>\n",
       "      <th></th>\n",
       "      <th></th>\n",
       "      <th></th>\n",
       "      <th></th>\n",
       "      <th></th>\n",
       "      <th></th>\n",
       "      <th></th>\n",
       "    </tr>\n",
       "  </thead>\n",
       "  <tbody>\n",
       "    <tr>\n",
       "      <th>0.000</th>\n",
       "      <td>2290.487</td>\n",
       "      <td>1053.733</td>\n",
       "      <td>1586.760</td>\n",
       "      <td>2299.921</td>\n",
       "      <td>1030.218</td>\n",
       "      <td>1366.613</td>\n",
       "      <td>2117.098</td>\n",
       "      <td>1100.606</td>\n",
       "      <td>1518.250</td>\n",
       "      <td>2129.421</td>\n",
       "      <td>...</td>\n",
       "      <td>1497.995</td>\n",
       "      <td>1506.717</td>\n",
       "      <td>494.005</td>\n",
       "      <td>1403.274</td>\n",
       "      <td>NaN</td>\n",
       "      <td>NaN</td>\n",
       "      <td>NaN</td>\n",
       "      <td>2582.981</td>\n",
       "      <td>128.545</td>\n",
       "      <td>1565.827</td>\n",
       "    </tr>\n",
       "    <tr>\n",
       "      <th>0.007</th>\n",
       "      <td>2289.548</td>\n",
       "      <td>1049.207</td>\n",
       "      <td>1588.397</td>\n",
       "      <td>2299.095</td>\n",
       "      <td>1025.048</td>\n",
       "      <td>1367.567</td>\n",
       "      <td>2115.427</td>\n",
       "      <td>1094.453</td>\n",
       "      <td>1517.864</td>\n",
       "      <td>2127.850</td>\n",
       "      <td>...</td>\n",
       "      <td>1495.269</td>\n",
       "      <td>1522.629</td>\n",
       "      <td>509.152</td>\n",
       "      <td>1400.682</td>\n",
       "      <td>NaN</td>\n",
       "      <td>NaN</td>\n",
       "      <td>NaN</td>\n",
       "      <td>2563.725</td>\n",
       "      <td>115.095</td>\n",
       "      <td>1565.787</td>\n",
       "    </tr>\n",
       "    <tr>\n",
       "      <th>0.013</th>\n",
       "      <td>2288.104</td>\n",
       "      <td>1044.392</td>\n",
       "      <td>1589.647</td>\n",
       "      <td>2298.008</td>\n",
       "      <td>1019.439</td>\n",
       "      <td>1368.403</td>\n",
       "      <td>2113.325</td>\n",
       "      <td>1088.297</td>\n",
       "      <td>1517.739</td>\n",
       "      <td>2125.942</td>\n",
       "      <td>...</td>\n",
       "      <td>1492.313</td>\n",
       "      <td>1540.029</td>\n",
       "      <td>521.716</td>\n",
       "      <td>1397.758</td>\n",
       "      <td>NaN</td>\n",
       "      <td>NaN</td>\n",
       "      <td>NaN</td>\n",
       "      <td>2544.110</td>\n",
       "      <td>102.239</td>\n",
       "      <td>1564.663</td>\n",
       "    </tr>\n",
       "    <tr>\n",
       "      <th>0.020</th>\n",
       "      <td>2285.873</td>\n",
       "      <td>1039.375</td>\n",
       "      <td>1590.172</td>\n",
       "      <td>2296.466</td>\n",
       "      <td>1013.473</td>\n",
       "      <td>1369.158</td>\n",
       "      <td>2110.350</td>\n",
       "      <td>1082.462</td>\n",
       "      <td>1517.967</td>\n",
       "      <td>2123.687</td>\n",
       "      <td>...</td>\n",
       "      <td>1489.076</td>\n",
       "      <td>1558.880</td>\n",
       "      <td>531.844</td>\n",
       "      <td>1394.674</td>\n",
       "      <td>NaN</td>\n",
       "      <td>NaN</td>\n",
       "      <td>NaN</td>\n",
       "      <td>2522.373</td>\n",
       "      <td>95.158</td>\n",
       "      <td>1561.646</td>\n",
       "    </tr>\n",
       "    <tr>\n",
       "      <th>0.027</th>\n",
       "      <td>2282.875</td>\n",
       "      <td>1034.577</td>\n",
       "      <td>1589.660</td>\n",
       "      <td>2294.295</td>\n",
       "      <td>1007.107</td>\n",
       "      <td>1369.887</td>\n",
       "      <td>2105.980</td>\n",
       "      <td>1076.798</td>\n",
       "      <td>1518.637</td>\n",
       "      <td>2119.671</td>\n",
       "      <td>...</td>\n",
       "      <td>1485.887</td>\n",
       "      <td>1578.777</td>\n",
       "      <td>539.394</td>\n",
       "      <td>1391.800</td>\n",
       "      <td>NaN</td>\n",
       "      <td>NaN</td>\n",
       "      <td>NaN</td>\n",
       "      <td>2496.505</td>\n",
       "      <td>92.578</td>\n",
       "      <td>1556.375</td>\n",
       "    </tr>\n",
       "  </tbody>\n",
       "</table>\n",
       "<p>5 rows × 144 columns</p>\n",
       "</div>"
      ],
      "text/plain": [
       "        R.ASISX   R.ASISY   R.ASISZ   L.ASISX   L.ASISY   L.ASISZ   R.PSISX  \\\n",
       "Time                                                                          \n",
       "0.000  2290.487  1053.733  1586.760  2299.921  1030.218  1366.613  2117.098   \n",
       "0.007  2289.548  1049.207  1588.397  2299.095  1025.048  1367.567  2115.427   \n",
       "0.013  2288.104  1044.392  1589.647  2298.008  1019.439  1368.403  2113.325   \n",
       "0.020  2285.873  1039.375  1590.172  2296.466  1013.473  1369.158  2110.350   \n",
       "0.027  2282.875  1034.577  1589.660  2294.295  1007.107  1369.887  2105.980   \n",
       "\n",
       "        R.PSISY   R.PSISZ   L.PSISX  ...    L.MT1Z    L.MT5X   L.MT5Y  \\\n",
       "Time                                 ...                                \n",
       "0.000  1100.606  1518.250  2129.421  ...  1497.995  1506.717  494.005   \n",
       "0.007  1094.453  1517.864  2127.850  ...  1495.269  1522.629  509.152   \n",
       "0.013  1088.297  1517.739  2125.942  ...  1492.313  1540.029  521.716   \n",
       "0.020  1082.462  1517.967  2123.687  ...  1489.076  1558.880  531.844   \n",
       "0.027  1076.798  1518.637  2119.671  ...  1485.887  1578.777  539.394   \n",
       "\n",
       "         L.MT5Z  L.MT2X  L.MT2Y  L.MT2Z    R.ASYX   R.ASYY    R.ASYZ  \n",
       "Time                                                                  \n",
       "0.000  1403.274     NaN     NaN     NaN  2582.981  128.545  1565.827  \n",
       "0.007  1400.682     NaN     NaN     NaN  2563.725  115.095  1565.787  \n",
       "0.013  1397.758     NaN     NaN     NaN  2544.110  102.239  1564.663  \n",
       "0.020  1394.674     NaN     NaN     NaN  2522.373   95.158  1561.646  \n",
       "0.027  1391.800     NaN     NaN     NaN  2496.505   92.578  1556.375  \n",
       "\n",
       "[5 rows x 144 columns]"
      ]
     },
     "execution_count": 73,
     "metadata": {},
     "output_type": "execute_result"
    }
   ],
   "source": [
    "df_S_RBDS.head()"
   ]
  },
  {
   "cell_type": "code",
   "execution_count": 74,
   "id": "ed6b85d5",
   "metadata": {},
   "outputs": [],
   "source": [
    "# Export to CSV\n",
    "fname_exp_txt = os.path.join(pathname, subject+task+'.txt')\n",
    "df_S_RBDS.to_csv(fname_exp_txt, sep='\\t')"
   ]
  },
  {
   "cell_type": "markdown",
   "id": "2a89b3b5",
   "metadata": {},
   "source": [
    "# CREATE FORCES TXT FILE EXACTLY THE SAME STRUCT AS THE FIGSHARE"
   ]
  },
  {
   "cell_type": "code",
   "execution_count": null,
   "id": "9e835e3a",
   "metadata": {},
   "outputs": [],
   "source": []
  },
  {
   "cell_type": "code",
   "execution_count": null,
   "id": "46066578",
   "metadata": {},
   "outputs": [],
   "source": []
  },
  {
   "cell_type": "markdown",
   "id": "cb5ca7cc",
   "metadata": {},
   "source": [
    "# RUNNING DATA"
   ]
  },
  {
   "cell_type": "code",
   "execution_count": null,
   "id": "22b93f0d",
   "metadata": {},
   "outputs": [],
   "source": [
    "mkr_labels_R=['R.ASIS', 'L.ASIS', 'R.PSIS', 'L.PSIS', 'R.Iliac.Crest', 'L.Iliac.Crest', \n",
    "              'R.Thigh.Top.Lateral', 'R.Thigh.Bottom.Lateral', 'R.Thigh.Top.Medial', 'R.Thigh.Bottom.Medial', \n",
    "              'R.Shank.Top.Lateral', 'R.Shank.Bottom.Lateral', 'R.Shank.Top.Medial', 'R.Shank.Bottom.Medial', \n",
    "              'R.Heel.Top', 'R.Heel.Bottom', 'R.Heel.Lateral', \n",
    "              'L.Thigh.Top.Lateral', 'L.Thigh.Bottom.Lateral', 'L.Thigh.Top.Medial', 'L.Thigh.Bottom.Medial', \n",
    "              'L.Shank.Top.Lateral', 'L.Shank.Bottom.Lateral', 'L.Shank.Top.Medial', 'L.Shank.Bottom.Medial', \n",
    "              'L.Heel.Top', 'L.Heel.Bottom', 'L.Heel.Lateral', \n",
    "              'R.MT1', 'R.MT5', 'L.MT1', 'L.MT5']"
   ]
  },
  {
   "cell_type": "markdown",
   "id": "6143e496",
   "metadata": {
    "id": "6143e496"
   },
   "source": [
    "### Create pandas df"
   ]
  },
  {
   "cell_type": "code",
   "execution_count": null,
   "id": "dc689be0",
   "metadata": {
    "id": "dc689be0"
   },
   "outputs": [],
   "source": [
    "fname_c3d_R = os.path.join(pathname,'RBDS001runT35.c3d')\n",
    "c_R = c3d(fname_c3d_R)"
   ]
  },
  {
   "cell_type": "code",
   "execution_count": null,
   "id": "e3c0b6c5",
   "metadata": {
    "id": "e3c0b6c5"
   },
   "outputs": [],
   "source": [
    "point_data_R = c_R['data']['points']\n",
    "points_residuals_R = c_R['data']['meta_points']['residuals']\n",
    "analog_data_R = c_R['data']['analogs']"
   ]
  },
  {
   "cell_type": "markdown",
   "id": "a81f368c",
   "metadata": {
    "id": "a81f368c"
   },
   "source": [
    "### Rename marker labels to be consistent with RIC"
   ]
  },
  {
   "cell_type": "code",
   "execution_count": null,
   "id": "2fef88f6",
   "metadata": {
    "id": "2fef88f6"
   },
   "outputs": [],
   "source": [
    "mkr_R_labels_RBDS = c_R['parameters']['POINT']['LABELS']['value']"
   ]
  },
  {
   "cell_type": "code",
   "execution_count": null,
   "id": "3f7d6195",
   "metadata": {
    "id": "3f7d6195"
   },
   "outputs": [],
   "source": [
    "print(mkr_R_labels_RBDS)"
   ]
  },
  {
   "cell_type": "markdown",
   "id": "6dc76374",
   "metadata": {},
   "source": [
    "## Check for differences in marker columns btw RBDS Figshare and new data"
   ]
  },
  {
   "cell_type": "code",
   "execution_count": null,
   "id": "c1fda844",
   "metadata": {},
   "outputs": [],
   "source": [
    "list_dif_R = difference (mkr_labels_R, mkr_R_labels_RBDS)\n",
    "# Delete columns of markers that are not currently in the RBDS Figshare\n",
    "if list_dif_R:\n",
    "    idR = mkr_R_labels_RBDS.index(list_dif[0])\n",
    "    point_data_R = np.delete(point_data_R, idR, axis=1) # Delete data corresponding to the non-existent marker\n",
    "    mkr_R_labels_RBDS.remove(list_dif_R[0])"
   ]
  },
  {
   "cell_type": "code",
   "execution_count": null,
   "id": "8ff73a0a",
   "metadata": {},
   "outputs": [],
   "source": [
    "# Delete extra dimension for homogeneus matrices\n",
    "point_data_R=np.delete(point_data_R, 3, axis=0)"
   ]
  },
  {
   "cell_type": "code",
   "execution_count": null,
   "id": "2af7c451",
   "metadata": {},
   "outputs": [],
   "source": [
    "pos_data_R = np.empty(shape=(point_data_R.shape[2],3*len(mkr_R_labels_RBDS)))\n",
    "for m, marker in enumerate(mkr_R_labels_RBDS):\n",
    "    pos_data_R[:,3*m:3*m+3] = point_data_R[:, m, :].T"
   ]
  },
  {
   "cell_type": "code",
   "execution_count": null,
   "id": "494a4329",
   "metadata": {
    "id": "82414fbd"
   },
   "outputs": [],
   "source": [
    "# Create new list to be column names of df\n",
    "xyz = list('XYZ')*len(mkr_R_labels_RBDS)\n",
    "mkr_R_labels_RBDS_2 = [ele for ele in mkr_R_labels_RBDS for i in range(3)]\n",
    "mkr_R_labels_RBDS_3 = [mkr_R_labels_RBDS_2[i]+xyz[i] for i in range(len(xyz))]"
   ]
  },
  {
   "cell_type": "code",
   "execution_count": null,
   "id": "6eebbc70",
   "metadata": {
    "id": "9cad10ce"
   },
   "outputs": [],
   "source": [
    "df_R_RBDS = pd.DataFrame(data=pos_data_R, columns=mkr_R_labels_RBDS_3,)"
   ]
  },
  {
   "cell_type": "code",
   "execution_count": null,
   "id": "cac5a460",
   "metadata": {
    "id": "a8901963"
   },
   "outputs": [],
   "source": [
    "duration_R  = pos_data_R.shape[0]/int(c_R['parameters']['POINT']['RATE']['value'][0])\n",
    "timeStamps_R= np.linspace(0, duration_R, pos_data_R.shape[0]).round(3)"
   ]
  },
  {
   "cell_type": "code",
   "execution_count": null,
   "id": "ee7d568b",
   "metadata": {
    "id": "e090e439"
   },
   "outputs": [],
   "source": [
    "df_R_RBDS['Time'] = timeStamps_R\n",
    "df_R_RBDS.set_index('Time', inplace=True)\n",
    "df_R_RBDS.index.name = 'Time'"
   ]
  },
  {
   "cell_type": "code",
   "execution_count": null,
   "id": "ea17e0bd",
   "metadata": {},
   "outputs": [],
   "source": [
    "df_R_RBDS = df_R_RBDS.round(3)"
   ]
  },
  {
   "cell_type": "code",
   "execution_count": null,
   "id": "3c28d4f0",
   "metadata": {},
   "outputs": [],
   "source": [
    "df_R_RBDS.head()"
   ]
  },
  {
   "cell_type": "code",
   "execution_count": null,
   "id": "6634ef6e",
   "metadata": {},
   "outputs": [],
   "source": [
    "# Export to CSV\n",
    "fname_exp_txt_R = os.path.join(pathname, 'RBDS0041run35T.txt')\n",
    "df_R_RBDS.to_csv(fname_exp_txt_R, sep='\\t')"
   ]
  },
  {
   "cell_type": "code",
   "execution_count": null,
   "id": "ae356edd",
   "metadata": {},
   "outputs": [],
   "source": []
  },
  {
   "cell_type": "code",
   "execution_count": null,
   "id": "76b99931",
   "metadata": {},
   "outputs": [],
   "source": []
  },
  {
   "cell_type": "code",
   "execution_count": null,
   "id": "ea739b08",
   "metadata": {},
   "outputs": [],
   "source": []
  },
  {
   "cell_type": "code",
   "execution_count": null,
   "id": "4f0c63fc",
   "metadata": {},
   "outputs": [],
   "source": []
  },
  {
   "cell_type": "code",
   "execution_count": null,
   "id": "b3ee6c7a",
   "metadata": {},
   "outputs": [],
   "source": []
  },
  {
   "cell_type": "code",
   "execution_count": null,
   "id": "ab438b75",
   "metadata": {},
   "outputs": [],
   "source": []
  },
  {
   "cell_type": "code",
   "execution_count": null,
   "id": "b6f41864",
   "metadata": {
    "id": "b6f41864"
   },
   "outputs": [],
   "source": [
    "mkr_R_labels_RBDSm=['LASI', 'LHED', 'LHEL', 'LHEP', 'LIC', 'LMH1', 'LMH5', \n",
    "                    'LPSI', 'LSBL', 'LSBM', 'LSTL', 'LSTM', \n",
    "                    'LTBL', 'LTBM', 'LTTL', 'LTTM', 'RASI', \n",
    "                    'RHED', 'RHEL', 'RHEP', 'RIC', 'RMH1', 'RMH5', 'RPSI', \n",
    "                    'RSBL', 'RSBM', 'RSTL', 'RSTM', \n",
    "                    'RTBL', 'RTBM', 'RTTL', 'RTTM']"
   ]
  },
  {
   "cell_type": "code",
   "execution_count": null,
   "id": "746423b4",
   "metadata": {
    "id": "746423b4"
   },
   "outputs": [],
   "source": [
    "mkr_R_data_RBDS = np.empty(shape=(point_data_R.shape[2],3*len(mkr_R_labels_RBDSm)))\n",
    "for m, marker in enumerate(mkr_R_labels_RBDSm):\n",
    "    mkr_R_data_RBDS[:,3*m:3*m+3] = point_data_R[:3, m, :].T"
   ]
  },
  {
   "cell_type": "code",
   "execution_count": null,
   "id": "4a1662ea",
   "metadata": {
    "id": "4a1662ea"
   },
   "outputs": [],
   "source": [
    "xyz = list('XYZ')*len(mkr_R_labels_RBDSm)\n",
    "mkr_R_labels_RBDS_2 = [ele for ele in mkr_R_labels_RBDSm for i in range(3)]\n",
    "mkr_R_labels_RBDS_3 = [mkr_R_labels_RBDS_2[i]+'_'+xyz[i] for i in range(len(xyz))]"
   ]
  },
  {
   "cell_type": "code",
   "execution_count": null,
   "id": "36c01077",
   "metadata": {
    "id": "36c01077"
   },
   "outputs": [],
   "source": [
    "df_R_RBDS = pd.DataFrame(data=mkr_R_data_RBDS, columns=mkr_R_labels_RBDS_3)"
   ]
  },
  {
   "cell_type": "code",
   "execution_count": null,
   "id": "cdf16012",
   "metadata": {
    "id": "cdf16012"
   },
   "outputs": [],
   "source": [
    "duration_R  = point_data_R.shape[2]/int(c_R['parameters']['POINT']['RATE']['value'][0])\n",
    "timeStamps_R= np.linspace(0, duration_R, mkr_R_data_RBDS.shape[0])"
   ]
  },
  {
   "cell_type": "code",
   "execution_count": null,
   "id": "187b8f90",
   "metadata": {
    "id": "187b8f90"
   },
   "outputs": [],
   "source": [
    "df_R_RBDS['Time'] = timeStamps_R\n",
    "df_R_RBDS.set_index('Time', inplace=True)\n",
    "df_R_RBDS.index.name = 'Time'"
   ]
  },
  {
   "cell_type": "code",
   "execution_count": null,
   "id": "ef4dc573",
   "metadata": {
    "id": "ef4dc573"
   },
   "outputs": [],
   "source": [
    "df_R_RBDS.head()"
   ]
  },
  {
   "cell_type": "markdown",
   "id": "5ee79ca5",
   "metadata": {},
   "source": [
    "## Check the structure of the txt file\n",
    "To see how the txt files in RBDS Figshare were generated"
   ]
  },
  {
   "cell_type": "code",
   "execution_count": null,
   "id": "e1bde632",
   "metadata": {},
   "outputs": [],
   "source": [
    "fname_R = os.path.join(pathname, 'RBDS001runT25markers.txt')\n",
    "df_R = pd.read_csv(fname_R, delimiter='\\t', index_col='Time')"
   ]
  },
  {
   "cell_type": "code",
   "execution_count": null,
   "id": "57027668",
   "metadata": {},
   "outputs": [],
   "source": [
    "df_R.head()"
   ]
  },
  {
   "cell_type": "code",
   "execution_count": null,
   "id": "fc0e3b9e",
   "metadata": {},
   "outputs": [],
   "source": [
    "from ordered_set import OrderedSet"
   ]
  },
  {
   "cell_type": "code",
   "execution_count": null,
   "id": "cbc35b85",
   "metadata": {},
   "outputs": [],
   "source": [
    "# RBDS\n",
    "ls = df_R.columns.tolist()\n",
    "mkr_R_labels_RBDS = list(OrderedSet([x[:-1] for x in ls]))"
   ]
  },
  {
   "cell_type": "code",
   "execution_count": null,
   "id": "6c392cd6",
   "metadata": {},
   "outputs": [],
   "source": [
    "print(mkr_R_labels_RBDS)"
   ]
  },
  {
   "cell_type": "code",
   "execution_count": null,
   "id": "6a31f8c9",
   "metadata": {},
   "outputs": [],
   "source": []
  },
  {
   "cell_type": "code",
   "execution_count": null,
   "id": "faf849b7",
   "metadata": {},
   "outputs": [],
   "source": []
  },
  {
   "cell_type": "markdown",
   "id": "a6e58009",
   "metadata": {
    "id": "8a373355"
   },
   "source": [
    "### STATIC"
   ]
  },
  {
   "cell_type": "code",
   "execution_count": null,
   "id": "8cc5c555",
   "metadata": {
    "id": "b4690006"
   },
   "outputs": [],
   "source": [
    "fname_c3d = os.path.join(pathname,'RBDS001static.c3d')\n",
    "c = c3d(fname_c3d)"
   ]
  },
  {
   "cell_type": "code",
   "execution_count": null,
   "id": "86b92297",
   "metadata": {
    "id": "3c98240b"
   },
   "outputs": [],
   "source": [
    "point_data = c['data']['points']\n",
    "points_residuals = c['data']['meta_points']['residuals']\n",
    "analog_data = c['data']['analogs']"
   ]
  },
  {
   "cell_type": "code",
   "execution_count": null,
   "id": "190d95f2",
   "metadata": {
    "id": "21856c33"
   },
   "outputs": [],
   "source": [
    "mkr_S_labels_RBDS = c['parameters']['POINT']['LABELS']['value']\n",
    "print(mkr_S_labels_RBDS)"
   ]
  },
  {
   "cell_type": "code",
   "execution_count": null,
   "id": "f4781b14",
   "metadata": {
    "id": "bfceacbb"
   },
   "outputs": [],
   "source": [
    "mkr_S_labels_RBDSm=['LMAL', 'LMAM', 'LASI', 'LGTR', 'LHED', 'LHEL', 'LHEP', \n",
    "                    'LFIB', 'LIC', 'LKNL', 'LKNM', 'LMH1', 'LTOE', 'LMH5', 'LPSI', 'LSBL', \n",
    "                    'LSBM', 'LSTL', 'LSTM', 'LTBL', 'LTBM', \n",
    "                    'LTTL', 'LTTM', 'LTUB', 'RMAL', 'RMAM', 'RASI', 'RGTR', 'RHED', \n",
    "                    'RHEL', 'RHEP', 'RFIB', 'RIC', 'RKNL', 'RKNM', 'RMH1', 'RTOE', 'RMH5', 'RPSI', \n",
    "                    'RSBL', 'RSBM', 'RSTL', 'RSTM', 'RTBL', \n",
    "                    'RTBM', 'RTTL', 'RTTM', 'RTUB']"
   ]
  },
  {
   "cell_type": "code",
   "execution_count": null,
   "id": "c5d778d9",
   "metadata": {
    "id": "0232cbb9"
   },
   "outputs": [],
   "source": [
    "mkr_S_data_RBDS = np.empty(shape=(point_data.shape[2],3*len(mkr_S_labels_RBDSm)))\n",
    "for m, marker in enumerate(mkr_S_labels_RBDSm):\n",
    "    mkr_S_data_RBDS[:,3*m:3*m+3] = point_data[:3, m, :].T"
   ]
  },
  {
   "cell_type": "code",
   "execution_count": null,
   "id": "98b279f0",
   "metadata": {
    "id": "82414fbd"
   },
   "outputs": [],
   "source": [
    "xyz = list('XYZ')*len(mkr_S_labels_RBDSm)\n",
    "mkr_S_labels_RBDS_2 = [ele for ele in mkr_S_labels_RBDSm for i in range(3)]\n",
    "mkr_S_labels_RBDS_3 = [mkr_S_labels_RBDS_2[i]+'_'+xyz[i] for i in range(len(xyz))]"
   ]
  },
  {
   "cell_type": "code",
   "execution_count": null,
   "id": "3fc1f1e9",
   "metadata": {
    "id": "9cad10ce"
   },
   "outputs": [],
   "source": [
    "df_S_RBDS = pd.DataFrame(data=mkr_S_data_RBDS, columns=mkr_S_labels_RBDS_3)"
   ]
  },
  {
   "cell_type": "code",
   "execution_count": null,
   "id": "e8666ee7",
   "metadata": {
    "id": "a8901963"
   },
   "outputs": [],
   "source": [
    "duration  = int(c['parameters']['POINT']['RATE']['value'][0])/point_data.shape[2]\n",
    "timeStamps= np.linspace(0, duration, mkr_S_data_RBDS.shape[0])"
   ]
  },
  {
   "cell_type": "code",
   "execution_count": null,
   "id": "e0d17352",
   "metadata": {
    "id": "e090e439"
   },
   "outputs": [],
   "source": [
    "df_S_RBDS['Time'] = timeStamps\n",
    "df_S_RBDS.set_index('Time', inplace=True)\n",
    "df_S_RBDS.index.name = 'Time'"
   ]
  },
  {
   "cell_type": "code",
   "execution_count": null,
   "id": "95dc5412",
   "metadata": {
    "id": "c917d495"
   },
   "outputs": [],
   "source": [
    "df_S_RBDS.head()"
   ]
  },
  {
   "cell_type": "code",
   "execution_count": null,
   "id": "ba850007",
   "metadata": {
    "id": "ba850007"
   },
   "outputs": [],
   "source": []
  },
  {
   "cell_type": "code",
   "execution_count": null,
   "id": "3657c641",
   "metadata": {
    "id": "3657c641"
   },
   "outputs": [],
   "source": []
  },
  {
   "cell_type": "code",
   "execution_count": null,
   "id": "8b13cb50",
   "metadata": {
    "id": "8b13cb50"
   },
   "outputs": [],
   "source": [
    "fig = plt.figure()\n",
    "ax = plt.axes(projection='3d')\n",
    "\n",
    "# Data for three-dimensional scattered points\n",
    "zdata = df_S.values[100,2::3]\n",
    "xdata = df_S.values[100,0::3]\n",
    "ydata = df_S.values[100,1::3]\n",
    "ax.scatter3D(xdata, ydata, zdata, c='b');\n",
    "ax.set_xlabel('X')\n",
    "ax.set_ylabel('Y')\n",
    "ax.set_zlabel('Z')\n",
    "ax.set_aspect('equal')\n",
    "plt.show()"
   ]
  },
  {
   "cell_type": "code",
   "execution_count": null,
   "id": "5ed07cd6",
   "metadata": {
    "id": "5ed07cd6"
   },
   "outputs": [],
   "source": [
    "fig = plt.figure()\n",
    "ax = plt.axes(projection='3d')\n",
    "\n",
    "# Data for three-dimensional scattered points\n",
    "zdata = df_S_RBDS.values[100,2::3]\n",
    "xdata = df_S_RBDS.values[100,0::3]\n",
    "ydata = df_S_RBDS.values[100,1::3]\n",
    "ax.scatter3D(xdata, ydata, zdata, c='r');\n",
    "ax.set_xlabel('X')\n",
    "ax.set_ylabel('Y')\n",
    "ax.set_zlabel('Z')\n",
    "ax.set_aspect('equal')\n",
    "plt.show()"
   ]
  },
  {
   "cell_type": "markdown",
   "id": "3ead3e11",
   "metadata": {
    "id": "3ead3e11"
   },
   "source": [
    "### Save df to ascii\n",
    "RBDS and RIC"
   ]
  },
  {
   "cell_type": "markdown",
   "id": "c353be3d",
   "metadata": {
    "id": "c353be3d"
   },
   "source": [
    "# Static\n",
    "fname_out_RBDS = os.path.join(pathname, 'RBDS_static.csv')\n",
    "df_S_RBDS.to_csv(fname_out_RBDS)\n",
    "# Running\n",
    "fname_out_R_RBDS = os.path.join(pathname, 'RBDS_run.csv')\n",
    "df_R_RBDS.to_csv(fname_out_R_RBDS)"
   ]
  },
  {
   "cell_type": "markdown",
   "id": "d30c8159",
   "metadata": {
    "id": "d30c8159"
   },
   "source": [
    "# Static\n",
    "fname_out_RIC = os.path.join(pathname, 'RIC_static.csv')\n",
    "df_Sm.to_csv(fname_out_RIC)\n",
    "# Running\n",
    "fname_out_R_RIC = os.path.join(pathname, 'RIC_run.csv')\n",
    "df_R_RICm.to_csv(fname_out_R_RIC)"
   ]
  },
  {
   "cell_type": "code",
   "execution_count": null,
   "id": "5c951fcd",
   "metadata": {
    "id": "5c951fcd"
   },
   "outputs": [],
   "source": []
  },
  {
   "cell_type": "code",
   "execution_count": null,
   "id": "2848e37f",
   "metadata": {
    "id": "2848e37f"
   },
   "outputs": [],
   "source": []
  },
  {
   "cell_type": "code",
   "execution_count": null,
   "id": "79531af9",
   "metadata": {
    "id": "79531af9"
   },
   "outputs": [],
   "source": []
  },
  {
   "cell_type": "code",
   "execution_count": null,
   "id": "1210afe7",
   "metadata": {
    "id": "1210afe7"
   },
   "outputs": [],
   "source": []
  },
  {
   "cell_type": "code",
   "execution_count": null,
   "id": "cd9270f5",
   "metadata": {
    "id": "cd9270f5"
   },
   "outputs": [],
   "source": []
  },
  {
   "cell_type": "code",
   "execution_count": null,
   "id": "99576356",
   "metadata": {
    "id": "99576356"
   },
   "outputs": [],
   "source": []
  },
  {
   "cell_type": "code",
   "execution_count": null,
   "id": "19bbe6fb",
   "metadata": {
    "id": "19bbe6fb"
   },
   "outputs": [],
   "source": [
    "fname_c3d_f = os.path.join(pathname,'RBDS001runT35.c3d')\n",
    "c3d = c3d(fname_c3d_f, extract_forceplat_data=True);\n",
    "\n",
    "pf_0 = c3d[\"data\"][\"platform\"][0]  # Select the first platform"
   ]
  },
  {
   "cell_type": "code",
   "execution_count": null,
   "id": "a44d1d6a",
   "metadata": {
    "id": "a44d1d6a"
   },
   "outputs": [],
   "source": [
    "pf_0['unit_force']          # Units of forces\n",
    "pf_0['unit_moment']         # Units of moments\n",
    "pf_0['unit_position']       # Units of center of pressure\n",
    "\n",
    "pf_0['cal_matrix']          # Calibration matrix\n",
    "pf_0['corners']             # Position of the corners\n",
    "pf_0['origin']              # Position of the origin\n",
    "\n",
    "pf_0['force']               # Force data\n",
    "pf_0['moment']              # Moment data\n",
    "pf_0['center_of_pressure']  # Center of pressure data\n",
    "pf_0['Tz']                  # Moment at center of pressure data"
   ]
  },
  {
   "cell_type": "code",
   "execution_count": null,
   "id": "ba9095f3",
   "metadata": {
    "id": "ba9095f3"
   },
   "outputs": [],
   "source": [
    "pf_0['cal_matrix'] "
   ]
  },
  {
   "cell_type": "code",
   "execution_count": null,
   "id": "75b63c12",
   "metadata": {
    "id": "75b63c12"
   },
   "outputs": [],
   "source": []
  },
  {
   "cell_type": "code",
   "execution_count": null,
   "id": "dc628b8b",
   "metadata": {
    "id": "dc628b8b"
   },
   "outputs": [],
   "source": [
    "    if df_multi:  # dataframe with multiple labels\n",
    "        df.drop(labels='Frame#', axis=1, inplace=True)\n",
    "        df.set_index('Time', inplace=True)\n",
    "        df.index.name = 'Time'\n",
    "        cols = [s[:-1] for s in df.columns.str.replace(r'.', r'_')]\n",
    "        df.columns = [cols, list('XYZ')*int(df.shape[1]/3), xyz]\n",
    "        df.columns.set_names(names=['Marker', 'Coordinate', 'XYZ'],\n",
    "                             level=[0, 1, 2], inplace=True)"
   ]
  },
  {
   "cell_type": "code",
   "execution_count": null,
   "id": "4dda9aeb",
   "metadata": {
    "id": "4dda9aeb"
   },
   "outputs": [],
   "source": [
    "mkr_S_data.shape"
   ]
  },
  {
   "cell_type": "code",
   "execution_count": null,
   "id": "7583db6e",
   "metadata": {
    "id": "7583db6e"
   },
   "outputs": [],
   "source": [
    "df_s = pd.DataFrame.from_dict(data['out']['full_static'])\n",
    "df_s.head()"
   ]
  },
  {
   "cell_type": "code",
   "execution_count": null,
   "id": "20e85ed5",
   "metadata": {
    "id": "20e85ed5"
   },
   "outputs": [],
   "source": [
    "data['out']['full_static']"
   ]
  },
  {
   "cell_type": "code",
   "execution_count": null,
   "id": "e15910f0",
   "metadata": {
    "id": "e15910f0"
   },
   "outputs": [],
   "source": [
    "print(data['out'].keys())"
   ]
  },
  {
   "cell_type": "code",
   "execution_count": null,
   "id": "793e715b",
   "metadata": {
    "id": "793e715b"
   },
   "outputs": [],
   "source": [
    "data['out']['neutral'].keys()"
   ]
  },
  {
   "cell_type": "code",
   "execution_count": null,
   "id": "d222790c",
   "metadata": {
    "id": "d222790c"
   },
   "outputs": [],
   "source": [
    "data['out']['full_static'].keys()"
   ]
  },
  {
   "cell_type": "code",
   "execution_count": null,
   "id": "0173be76",
   "metadata": {
    "id": "0173be76"
   },
   "outputs": [],
   "source": []
  },
  {
   "cell_type": "code",
   "execution_count": null,
   "id": "76a078ea",
   "metadata": {
    "id": "76a078ea"
   },
   "outputs": [],
   "source": []
  },
  {
   "cell_type": "code",
   "execution_count": null,
   "id": "b5b82570",
   "metadata": {
    "id": "b5b82570"
   },
   "outputs": [],
   "source": [
    "data['out'][0][0]"
   ]
  },
  {
   "cell_type": "code",
   "execution_count": null,
   "id": "e8bb0a38",
   "metadata": {
    "id": "e8bb0a38"
   },
   "outputs": [],
   "source": [
    "data['__header__']"
   ]
  },
  {
   "cell_type": "markdown",
   "id": "c9b1dbe1",
   "metadata": {
    "id": "c9b1dbe1"
   },
   "source": [
    "### Data stored in RBA directory"
   ]
  },
  {
   "cell_type": "code",
   "execution_count": null,
   "id": "aea0e3e3",
   "metadata": {
    "id": "aea0e3e3",
    "scrolled": false
   },
   "outputs": [],
   "source": [
    "fname_q= os.path.join(pathname, 'RBDS_google_forms.csv') \n",
    "# Import data\n",
    "data_q = pd.read_csv(fname_q, sep = ',', index_col = 'ID')\n",
    "data_q.head()"
   ]
  },
  {
   "cell_type": "code",
   "execution_count": null,
   "id": "09ed4721",
   "metadata": {
    "id": "09ed4721"
   },
   "outputs": [],
   "source": [
    "df_rba = data_q[['Altura (cm)','Massa (kg)']]\n",
    "df_rba"
   ]
  },
  {
   "cell_type": "code",
   "execution_count": null,
   "id": "ad6e7d93",
   "metadata": {
    "id": "ad6e7d93"
   },
   "outputs": [],
   "source": [
    "df_figshare = info[['Subject','Height','Mass']]\n",
    "df_figshare.set_index('Subject')"
   ]
  },
  {
   "cell_type": "code",
   "execution_count": null,
   "id": "cb316faf",
   "metadata": {
    "id": "cb316faf"
   },
   "outputs": [],
   "source": [
    "df_out = df_rba.loc[df_rba['Altura (cm)']==df_figshare['Height'].values[5]]\n",
    "df_out.index.tolist()"
   ]
  },
  {
   "cell_type": "code",
   "execution_count": null,
   "id": "5fa6c38e",
   "metadata": {
    "id": "5fa6c38e"
   },
   "outputs": [],
   "source": [
    "ids = []\n",
    "for i in range(df_figshare.shape[0]):\n",
    "    df_out = df_rba.loc[(df_rba['Altura (cm)']==df_figshare['Height'].values[i]) & (df_rba['Massa (kg)']==df_figshare['Mass'].values[i])]\n",
    "    if df_out.empty:\n",
    "        print('Subject '+ str(df_figshare['Subject'].values[i]) + ' not found!')\n",
    "    else:\n",
    "        ids.append(df_out.index.tolist())"
   ]
  },
  {
   "cell_type": "code",
   "execution_count": null,
   "id": "bed16070",
   "metadata": {
    "id": "bed16070"
   },
   "outputs": [],
   "source": [
    "ids"
   ]
  },
  {
   "cell_type": "markdown",
   "id": "1f37d4c3",
   "metadata": {
    "id": "1f37d4c3"
   },
   "source": [
    "# PENDING\n",
    "* Find who is who. \n",
    "Find the subjects in Figshare RBDSinfo.txt with the corresponding ID in RBA spreadsheet"
   ]
  },
  {
   "cell_type": "code",
   "execution_count": null,
   "id": "aea7e76a",
   "metadata": {
    "id": "aea7e76a"
   },
   "outputs": [],
   "source": []
  },
  {
   "cell_type": "code",
   "execution_count": null,
   "id": "747867f1",
   "metadata": {
    "id": "747867f1"
   },
   "outputs": [],
   "source": []
  }
 ],
 "metadata": {
  "colab": {
   "provenance": [
    {
     "file_id": "12luz4qIj4aJAqD4vp22sjEJ6-fjui0Jq",
     "timestamp": 1674165986202
    }
   ]
  },
  "kernelspec": {
   "display_name": "Python 3 (ipykernel)",
   "language": "python",
   "name": "python3"
  },
  "language_info": {
   "codemirror_mode": {
    "name": "ipython",
    "version": 3
   },
   "file_extension": ".py",
   "mimetype": "text/x-python",
   "name": "python",
   "nbconvert_exporter": "python",
   "pygments_lexer": "ipython3",
   "version": "3.9.16"
  }
 },
 "nbformat": 4,
 "nbformat_minor": 5
}
