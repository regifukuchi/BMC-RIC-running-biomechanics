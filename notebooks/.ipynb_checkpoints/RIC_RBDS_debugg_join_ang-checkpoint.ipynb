{
 "cells": [
  {
   "cell_type": "markdown",
   "id": "b12e57ac",
   "metadata": {},
   "source": [
    "# RIC and RBDS debugg joint angle calculation\n",
    "\n",
    "Reginaldo K Fukuchi \n",
    "\n",
    "This NB implements the \"gait_steps.m\" Sean Osis method to detect gait events.\n",
    "# <font color='red'>PENDING</font>\n",
    "Apparently the ankle angles are consistently between RIC and RBDS.\n",
    "\n",
    "**To do**\n",
    "* Modify input foot angles for gait_steps.py function to see if the event detection changes\n",
    "* Filter markers in RBDS dataset prior inputting in parse_gait_kinematics.py\n",
    "* Finalize doing pelvis, hip and knee angles"
   ]
  },
  {
   "cell_type": "code",
   "execution_count": 1,
   "id": "7f4e9cc6",
   "metadata": {},
   "outputs": [],
   "source": [
    "# Prepare environment\n",
    "import os, glob\n",
    "import numpy as np\n",
    "import pandas as pd\n",
    "import seaborn as sns\n",
    "import matplotlib.pyplot as plt\n",
    "%matplotlib inline\n",
    "\n",
    "import sys\n",
    "sys.path.insert(1, r'../functions')"
   ]
  },
  {
   "cell_type": "code",
   "execution_count": 2,
   "id": "c1214bc4-0d18-40f7-823f-218938e27d03",
   "metadata": {},
   "outputs": [],
   "source": [
    "#from ezc3d import c3d\n",
    "import parse_gait_kinematics as parse_gait\n",
    "from gait_kinematics import gait_kinematics\n",
    "from gait_steps import gait_steps\n",
    "from svdt import svdt"
   ]
  },
  {
   "cell_type": "code",
   "execution_count": 3,
   "id": "b9fdce42-8016-4793-8ad8-351509fd34dd",
   "metadata": {},
   "outputs": [],
   "source": [
    "def cardanangles(r):\n",
    "    '''\n",
    "    %%%%%%%%%%%%%%%%%%%%%%%%%%%%%%%%%%%%%%%%%%%%%%%%%%%%%%%%%%%%%%%%%%%%%%%%%%%\n",
    "    # %   This function inputs the ROTATION matrix for a given joint\n",
    "    # %   at one point in time and uses the cardan angles sequence to\n",
    "    # %   provide the XYZ joint angles in OUT argument\n",
    "    # %\n",
    "    # %   The function uses the following  rotation matrix to calculate angles\n",
    "    # %      | CzCy-SzSySx  SzCy+CzSySx  -SyCx |\n",
    "    # %      | -SzCx        CzCx         Sx    |\n",
    "    # %      | CzSy+SzCySx  SzSy-CzCySx  CyCx  |\n",
    "    # %  INPUTS\n",
    "    # %  --------\n",
    "    # %   R (mat):    A 3x3 rotation matrix for a joint\n",
    "\n",
    "    # %  OUTPUTS\n",
    "    # %  -------\n",
    "    # %  OUT (mat):      The three (1x3) planes of rotation in radians\n",
    "    # %%%%%%%%%%%%%%%%%%%%%%%%%%%%%%%%%%%%%%%%%%%%%%%%%%%%%%%%%%%%%%%%%%%%%%%%%%%\n",
    "    # %%\n",
    "    # %   angle.L_ankle(i,:) = cardanangles(R.L_ankle(:,:,i));\n",
    "\n",
    "    # % the use of atan2 increases the stability by avoiding gimble lock in\n",
    "    # % the physiologicaly posible range of joint angles.\n",
    "    '''\n",
    "    # Prepare Python environment\n",
    "    import numpy as np\n",
    "    x = np.arctan2(r[1,2], np.sqrt(r[0,2]**2+r[2,2]**2))\n",
    "    y = np.arctan2(-r[0,2], r[2,2])\n",
    "    z = np.arctan2(-r[1,0], r[1,1])\n",
    "\n",
    "    out = np.array([x,y,z])\n",
    "\n",
    "    return out"
   ]
  },
  {
   "cell_type": "markdown",
   "id": "8e09f228-0826-4e86-ab8b-408c7323c02f",
   "metadata": {
    "tags": []
   },
   "source": [
    "### RIC data"
   ]
  },
  {
   "cell_type": "code",
   "execution_count": 4,
   "id": "750a9fcd-90f7-46b4-9439-eeab57d41124",
   "metadata": {},
   "outputs": [],
   "source": [
    "sub_id = '101679'\n",
    "trial = '20160226T120637'"
   ]
  },
  {
   "cell_type": "code",
   "execution_count": 5,
   "id": "409b1376-94c7-4d1c-9ca2-9eedc5fe5e5b",
   "metadata": {},
   "outputs": [],
   "source": [
    "figshare_dir = r'C:\\Users\\Reginaldo\\OneDrive - University of Calgary\\data\\Figshare_SciData\\new_unzip'\n",
    "# This subject and trial is the best match for speed of 3.5 m/s and age\n",
    "fn_json=os.path.join(figshare_dir, sub_id, trial+'.json')\n",
    "neutral, joints, gait, hz = parse_gait.parse_RIC(fn_json)"
   ]
  },
  {
   "cell_type": "code",
   "execution_count": 6,
   "id": "411cbfad-8b66-48f9-b462-71d135786bab",
   "metadata": {},
   "outputs": [],
   "source": [
    "angle_L_ankle, angle_R_ankle, angle_L_knee, angle_R_knee, angle_L_hip, angle_R_hip, angle_L_foot, angle_R_foot, angle_Pelvis = gait_kinematics(joints, neutral, gait, hz)\n",
    "# Create dataframe column corresponding to the dataset\n",
    "joints_lbls = ['pelvis','L_foot','R_foot','L_hip','R_hip','L_knee','R_knee',\n",
    "               'L_ankle','R_ankle']\n",
    "xyz = list('XYZ')*len(joints_lbls)\n",
    "joints_lbls = [ele for ele in joints_lbls for i in range(3)]\n",
    "joints_lbls = [joints_lbls[i]+'_'+xyz[i] for i in range(len(xyz))]\n",
    "\n",
    "# Convert to degrees\n",
    "angle_L_ankle, angle_R_ankle = angle_L_ankle*(180/np.pi), angle_R_ankle*(180/np.pi)\n",
    "angle_L_knee, angle_R_knee   = angle_L_knee*(180/np.pi), angle_R_knee*(180/np.pi)\n",
    "angle_L_hip, angle_R_hip     = angle_L_hip*(180/np.pi), angle_R_hip*(180/np.pi)\n",
    "angle_L_foot, angle_R_foot   = angle_L_foot*(180/np.pi), angle_R_foot*(180/np.pi)\n",
    "angle_Pelvis  = angle_Pelvis * (180/np.pi)\n",
    "# Create a pandas df with angles\n",
    "angs = np.hstack([angle_Pelvis, angle_L_foot, angle_R_foot, \n",
    "                  angle_L_hip, angle_R_hip, angle_L_knee, angle_R_knee, \n",
    "                  angle_L_ankle, angle_R_ankle])\n",
    "angles_RIC = pd.DataFrame(data=angs, columns=joints_lbls)"
   ]
  },
  {
   "cell_type": "code",
   "execution_count": 7,
   "id": "5e40fc59-e0ef-4a3d-866a-5bc7069c6239",
   "metadata": {},
   "outputs": [],
   "source": [
    "# Get gait events\n",
    "L_TD_RIC, L_TO_RIC, R_TD_RIC, R_TO_RIC, eventsflag_RIC, label_RIC = gait_steps(neutral, gait, angles_RIC, hz)\n",
    "\n",
    "RTD_RIC, RTO_RIC = R_TD_RIC.astype(int).tolist(), R_TO_RIC.astype(int).tolist()\n",
    "LTD_RIC, LTO_RIC = L_TD_RIC.astype(int).tolist(), L_TO_RIC.astype(int).tolist()"
   ]
  },
  {
   "cell_type": "code",
   "execution_count": 8,
   "id": "a617e3b0-e48f-4e37-9fa4-d3f56f2f1965",
   "metadata": {},
   "outputs": [
    {
     "data": {
      "text/html": [
       "<div>\n",
       "<style scoped>\n",
       "    .dataframe tbody tr th:only-of-type {\n",
       "        vertical-align: middle;\n",
       "    }\n",
       "\n",
       "    .dataframe tbody tr th {\n",
       "        vertical-align: top;\n",
       "    }\n",
       "\n",
       "    .dataframe thead th {\n",
       "        text-align: right;\n",
       "    }\n",
       "</style>\n",
       "<table border=\"1\" class=\"dataframe\">\n",
       "  <thead>\n",
       "    <tr style=\"text-align: right;\">\n",
       "      <th></th>\n",
       "      <th>pelvis_1_X</th>\n",
       "      <th>pelvis_1_Y</th>\n",
       "      <th>pelvis_1_Z</th>\n",
       "      <th>pelvis_2_X</th>\n",
       "      <th>pelvis_2_Y</th>\n",
       "      <th>pelvis_2_Z</th>\n",
       "      <th>pelvis_3_X</th>\n",
       "      <th>pelvis_3_Y</th>\n",
       "      <th>pelvis_3_Z</th>\n",
       "      <th>pelvis_4_X</th>\n",
       "      <th>...</th>\n",
       "      <th>R_foot_1_Z</th>\n",
       "      <th>R_foot_2_X</th>\n",
       "      <th>R_foot_2_Y</th>\n",
       "      <th>R_foot_2_Z</th>\n",
       "      <th>R_foot_3_X</th>\n",
       "      <th>R_foot_3_Y</th>\n",
       "      <th>R_foot_3_Z</th>\n",
       "      <th>R_foot_4_X</th>\n",
       "      <th>R_foot_4_Y</th>\n",
       "      <th>R_foot_4_Z</th>\n",
       "    </tr>\n",
       "  </thead>\n",
       "  <tbody>\n",
       "    <tr>\n",
       "      <th>0</th>\n",
       "      <td>176.9</td>\n",
       "      <td>1031.7</td>\n",
       "      <td>-48.6</td>\n",
       "      <td>142.85</td>\n",
       "      <td>1083.0</td>\n",
       "      <td>-69.5</td>\n",
       "      <td>220.5</td>\n",
       "      <td>1079.7</td>\n",
       "      <td>-76.0</td>\n",
       "      <td>180.083333</td>\n",
       "      <td>...</td>\n",
       "      <td>-66.6</td>\n",
       "      <td>338.9</td>\n",
       "      <td>31.9</td>\n",
       "      <td>-38.5</td>\n",
       "      <td>332.4</td>\n",
       "      <td>92.7</td>\n",
       "      <td>-51.7</td>\n",
       "      <td>347.333333</td>\n",
       "      <td>57.766667</td>\n",
       "      <td>-52.266667</td>\n",
       "    </tr>\n",
       "  </tbody>\n",
       "</table>\n",
       "<p>1 rows × 84 columns</p>\n",
       "</div>"
      ],
      "text/plain": [
       "   pelvis_1_X  pelvis_1_Y  pelvis_1_Z  pelvis_2_X  pelvis_2_Y  pelvis_2_Z  \\\n",
       "0       176.9      1031.7       -48.6      142.85      1083.0       -69.5   \n",
       "\n",
       "   pelvis_3_X  pelvis_3_Y  pelvis_3_Z  pelvis_4_X  ...  R_foot_1_Z  \\\n",
       "0       220.5      1079.7       -76.0  180.083333  ...       -66.6   \n",
       "\n",
       "   R_foot_2_X  R_foot_2_Y  R_foot_2_Z  R_foot_3_X  R_foot_3_Y  R_foot_3_Z  \\\n",
       "0       338.9        31.9       -38.5       332.4        92.7       -51.7   \n",
       "\n",
       "   R_foot_4_X  R_foot_4_Y  R_foot_4_Z  \n",
       "0  347.333333   57.766667  -52.266667  \n",
       "\n",
       "[1 rows x 84 columns]"
      ]
     },
     "execution_count": 8,
     "metadata": {},
     "output_type": "execute_result"
    }
   ],
   "source": [
    "neutral.head()"
   ]
  },
  {
   "cell_type": "markdown",
   "id": "ae1ec6f2-9764-436f-b592-243089d616f3",
   "metadata": {},
   "source": [
    "## Transformation matrix from static to running"
   ]
  },
  {
   "cell_type": "code",
   "execution_count": 9,
   "id": "7647e993-08c9-4e01-9d20-f9954946b198",
   "metadata": {},
   "outputs": [],
   "source": [
    "# Foot segment\n",
    "Af = neutral.filter(like='R_foot', axis=1).values.mean(axis=0)\n",
    "Bf = gait.filter(like='R_foot', axis=1).values\n",
    "Rf, Lf, RMSEf = svdt(Af, Bf)"
   ]
  },
  {
   "cell_type": "code",
   "execution_count": 10,
   "id": "5656d52c-b5fc-4c7d-b2f2-7f5b78690159",
   "metadata": {},
   "outputs": [],
   "source": [
    "# Shank segment\n",
    "As = neutral.filter(like='R_shank', axis=1).values.mean(axis=0)\n",
    "Bs = gait.filter(like='R_shank', axis=1).values\n",
    "Rs, Ls, RMSEs = svdt(As, Bs)"
   ]
  },
  {
   "cell_type": "code",
   "execution_count": 11,
   "id": "f9ea9e37-9661-49a1-bc59-fe53514ecf5d",
   "metadata": {},
   "outputs": [],
   "source": [
    "# Thigh segment\n",
    "At = neutral.filter(like='R_thigh', axis=1).values.mean(axis=0)\n",
    "Bt = gait.filter(like='R_thigh', axis=1).values\n",
    "Rt, Lt, RMSEt = svdt(At, Bt)"
   ]
  },
  {
   "cell_type": "code",
   "execution_count": 12,
   "id": "fea88e5d-e35d-45ab-a948-2c41ebe218ed",
   "metadata": {},
   "outputs": [],
   "source": [
    "# Pelvic segment\n",
    "Ap = neutral.filter(like='pelvis', axis=1).values.mean(axis=0)\n",
    "Bp = gait.filter(like='pelvis', axis=1).values\n",
    "Rp, Lp, RMSEp = svdt(Ap, Bp)"
   ]
  },
  {
   "cell_type": "markdown",
   "id": "86a1ad73-d610-4578-8b32-eb17e8b49c92",
   "metadata": {},
   "source": [
    "### Define segments from scratch"
   ]
  },
  {
   "cell_type": "markdown",
   "id": "4f0637c3-2a21-4fa0-9392-839dcffe22c2",
   "metadata": {},
   "source": [
    "## RIGHT THIGH segment"
   ]
  },
  {
   "cell_type": "code",
   "execution_count": 20,
   "id": "1bc7d097-98a8-47e1-8581-51e5eb587f14",
   "metadata": {},
   "outputs": [],
   "source": [
    "# Thigh markers\n",
    "L_GTR = joints[['L_hip_X','L_hip_Y','L_hip_Z']].values.flatten()\n",
    "R_GTR = joints[['R_hip_X','R_hip_Y','R_hip_Z']].values.flatten()\n",
    "R_lat_knee = joints[['R_lat_knee_X','R_lat_knee_Y','R_lat_knee_Z']].values.flatten()\n",
    "R_med_knee = joints[['R_med_knee_X','R_med_knee_Y','R_med_knee_Z']].values.flatten()\n",
    "# HJC\n",
    "jcL_hip = L_GTR + (R_GTR-L_GTR)/4\n",
    "jcR_hip = R_GTR + (L_GTR-R_GTR)/4"
   ]
  },
  {
   "cell_type": "code",
   "execution_count": 21,
   "id": "9f46880d-7c17-4e65-83c6-c750e31f828d",
   "metadata": {},
   "outputs": [
    {
     "name": "stdout",
     "output_type": "stream",
     "text": [
      "[[-0.12885724 -0.05629781 -0.99006382]\n",
      " [-0.10426023  0.99362305 -0.04293068]\n",
      " [ 0.98616713  0.09769235 -0.13390514]]\n"
     ]
    }
   ],
   "source": [
    "def thighCS(R_lat_knee, R_med_knee, jcR_hip):\n",
    "    #%% RIGHT THIGH\n",
    "    jcR_knee = (R_lat_knee+R_med_knee)/2\n",
    "    # Segment axes\n",
    "    vt_y=(jcR_hip-jcR_knee)/np.linalg.norm(jcR_hip-jcR_knee); #long axis pointing up\n",
    "    #almost the hinge joing pointing to the right\n",
    "    vt_z_temp=(R_lat_knee-R_med_knee)/np.linalg.norm(R_lat_knee-R_med_knee) \n",
    "    #Anterior axis from the cross\n",
    "    vt_x = np.cross(vt_y,vt_z_temp)/np.linalg.norm(np.cross(vt_y,vt_z_temp))\n",
    "    #hinge axis, lateral for right\n",
    "    vt_z = np.cross(vt_x,vt_y)/np.linalg.norm(np.cross(vt_x,vt_y))\n",
    "\n",
    "    #% foot reference system\n",
    "    bt = np.array([vt_x,vt_y,vt_z])\n",
    "    \n",
    "    return bt"
   ]
  },
  {
   "cell_type": "code",
   "execution_count": null,
   "id": "497eba03-b950-437b-95de-46e7388ad96d",
   "metadata": {},
   "outputs": [],
   "source": [
    "def shankCS(R_lat_knee, R_med_knee, R_lat_ankle, R_med_ankle):\n",
    "    #%% RIGHT SHANK\n",
    "\n",
    "    jcR_knee = (R_lat_knee+R_med_knee)/2 # midpoint of the two knee markers\n",
    "    jcR_ankle = (R_med_ankle+R_lat_ankle)/2 # midpoint of the two ankle markers\n",
    "\n",
    "    # Segment axes\n",
    "    vs_y=(jcR_knee-jcR_ankle)/np.linalg.norm(jcR_knee-jcR_ankle); #long axis pointing up\n",
    "    #almost the hinge joing pointing to the right\n",
    "    vs_z_temp=(R_lat_ankle-R_med_ankle)/np.linalg.norm(R_lat_ankle-R_med_ankle) \n",
    "    #Anterior axis from the cross\n",
    "    vs_x = np.cross(vs_y,vs_z_temp)/np.linalg.norm(np.cross(vs_y,vs_z_temp))\n",
    "    #hinge axis, lateral for right\n",
    "    vs_z = np.cross(vs_x,vs_y)/np.linalg.norm(np.cross(vs_x,vs_y))\n",
    "\n",
    "    #% foot reference system\n",
    "    bs = np.array([vs_x,vs_y,vs_z])\n",
    "    \n",
    "    return bs"
   ]
  },
  {
   "cell_type": "markdown",
   "id": "1109f0b2-befb-4585-9887-7773823ab8e3",
   "metadata": {},
   "source": [
    "## RIGHT FOOT segment"
   ]
  },
  {
   "cell_type": "code",
   "execution_count": null,
   "id": "c0993ce3-6b0c-4327-aa48-d7f80e7b2539",
   "metadata": {},
   "outputs": [],
   "source": [
    "def footCS(RHET, RHEB, RTOE):\n",
    "    # Foot reference system\n",
    "    # long axis of the the foot is aligned with the lab AP\n",
    "    vf_x = (RTOE-RHEB)/np.linalg.norm(RTOE-RHEB)\n",
    "    # SECOND, create a vector from the two left markers (not the lateral one)\n",
    "    vf_y_temp = (RHET-RHEB)/np.linalg.norm(RHET-RHEB)\n",
    "    # use the temp vertical axis to create the lateral axis\n",
    "    vf_z = np.cross(vf_x,vf_y_temp)/np.linalg.norm(np.cross(vf_x,vf_y_temp))\n",
    "    #% and create the 'vertical' axis that provides standing eversion angle\n",
    "    vf_y = np.cross(vf_z,vf_x)/np.linalg.norm(np.cross(vf_z,vf_x))\n",
    "\n",
    "    #% foot reference system\n",
    "    bf = np.array([vf_x,vf_y,vf_z])\n",
    "    \n",
    "    return bf"
   ]
  },
  {
   "cell_type": "code",
   "execution_count": null,
   "id": "4f43f932-cd86-4464-9487-56c7e15d1e35",
   "metadata": {},
   "outputs": [],
   "source": [
    "# STATIC MARKERS\n",
    "#% FIRST need to identify the heel markers\n",
    "#% Combine 3 feet markers into one matrix ... can ignore the created fourth one\n",
    "R_foot_S = neutral[['R_foot_1_X','R_foot_1_Y','R_foot_1_Z',\n",
    "                 'R_foot_2_X','R_foot_2_Y','R_foot_2_Z',\n",
    "                 'R_foot_3_X','R_foot_3_Y','R_foot_3_Z']].values.reshape((3,3))\n",
    "# indices of the sequence of most left to the most right markers\n",
    "i_ft = list(R_foot_S[:, 0].argsort())\n",
    "\n",
    "# Determine what is the location of the 3 foot markers\n",
    "if R_foot_S[i_ft[0], 1] < R_foot_S[i_ft[1], 1]:\n",
    "    RHEB_lbl = 'R_foot_'+str(i_ft[0]+1) # heel bottom\n",
    "    RHET_lbl = 'R_foot_'+str(i_ft[1]+1) # heel top\n",
    "else:\n",
    "    RHEB_lbl = 'R_foot_'+str(i_ft[1]+1) # heel bottom\n",
    "    RHET_lbl = 'R_foot_'+str(i_ft[0]+1) # heel top\n",
    "RHEL_lbl = 'R_foot_'+str(i_ft[2]+1)\n",
    "    \n",
    "RHEBs = neutral.filter(like=RHEB_lbl, axis=1).values.flatten()\n",
    "RHETs = neutral.filter(like=RHET_lbl, axis=1).values.flatten()\n",
    "RHELs = neutral.filter(like=RHEL_lbl, axis=1).values.flatten()\n",
    "RTOEs = RHEBs + np.array([0, 0, -1]) # long axis of the the foot is aligned with the lab AP"
   ]
  },
  {
   "cell_type": "code",
   "execution_count": null,
   "id": "c7ca9303-c510-47b9-86b7-a3bbb8a695e1",
   "metadata": {},
   "outputs": [],
   "source": [
    "# RECONSTRUCT ANATOMICAL MARKERS USING TRANSFORMATION MATRIX\n",
    "RHEBr = np.dot(Rf,RHEBs)  + Lf\n",
    "RHETr = np.dot(Rf,RHETs)  + Lf\n",
    "RTOEr = np.dot(Rf,RTOEs)  + Lf"
   ]
  },
  {
   "cell_type": "markdown",
   "id": "7167d816-d086-485d-8cbd-d646a6f88d85",
   "metadata": {},
   "source": [
    "## RIGHT SHANK segment"
   ]
  },
  {
   "cell_type": "code",
   "execution_count": null,
   "id": "64b5ad0e-94c5-4452-ab66-d1f53dc1997a",
   "metadata": {},
   "outputs": [],
   "source": [
    "def shankCS(R_lat_knee, R_med_knee, R_lat_ankle, R_med_ankle):\n",
    "    #%% RIGHT SHANK\n",
    "\n",
    "    jcR_knee = (R_lat_knee+R_med_knee)/2 # midpoint of the two knee markers\n",
    "    jcR_ankle = (R_med_ankle+R_lat_ankle)/2 # midpoint of the two ankle markers\n",
    "\n",
    "    # Segment axes\n",
    "    vs_y=(jcR_knee-jcR_ankle)/np.linalg.norm(jcR_knee-jcR_ankle); #long axis pointing up\n",
    "    #almost the hinge joing pointing to the right\n",
    "    vs_z_temp=(R_lat_ankle-R_med_ankle)/np.linalg.norm(R_lat_ankle-R_med_ankle) \n",
    "    #Anterior axis from the cross\n",
    "    vs_x = np.cross(vs_y,vs_z_temp)/np.linalg.norm(np.cross(vs_y,vs_z_temp))\n",
    "    #hinge axis, lateral for right\n",
    "    vs_z = np.cross(vs_x,vs_y)/np.linalg.norm(np.cross(vs_x,vs_y))\n",
    "\n",
    "    #% foot reference system\n",
    "    bs = np.array([vs_x,vs_y,vs_z])\n",
    "    \n",
    "    return bs"
   ]
  },
  {
   "cell_type": "code",
   "execution_count": null,
   "id": "d2b4a0ab-2b30-4848-8134-fb4c082bf755",
   "metadata": {},
   "outputs": [],
   "source": [
    "# JOINT CENTRES\n",
    "# Shank markers\n",
    "R_lat_ankle = joints[['R_lat_ankle_X','R_lat_ankle_Y','R_lat_ankle_Z']].values.flatten()\n",
    "R_med_ankle = joints[['R_med_ankle_X','R_med_ankle_Y','R_med_ankle_Z']].values.flatten()"
   ]
  },
  {
   "cell_type": "code",
   "execution_count": null,
   "id": "5de2c362-6edd-4aba-ba0b-187f3fda36eb",
   "metadata": {},
   "outputs": [],
   "source": [
    "R_shank_1s = neutral.filter(like='R_shank_1', axis=1).values.flatten()\n",
    "R_thigh_1s = neutral.filter(like='R_thigh_1', axis=1).values.flatten()"
   ]
  },
  {
   "cell_type": "code",
   "execution_count": null,
   "id": "11dda50c-78b6-48be-99bc-6a8a0b20d5fd",
   "metadata": {},
   "outputs": [],
   "source": [
    "# RECONSTRUCT ANATOMICAL MARKERS USING TRANSFORMATION MATRIX\n",
    "RKNLr = np.dot(Rt,R_lat_knee) + Lt\n",
    "RKNMr = np.dot(Rt,R_med_knee) + Lt\n",
    "RMALr = np.dot(Rs,R_lat_ankle)+ Ls\n",
    "RMAMr = np.dot(Rs,R_med_ankle)+ Ls"
   ]
  },
  {
   "cell_type": "markdown",
   "id": "1c95f007-01ae-4ad4-a2a4-eb715275f9a2",
   "metadata": {},
   "source": [
    "# Calculate angles"
   ]
  },
  {
   "cell_type": "code",
   "execution_count": null,
   "id": "d0fb82e1-025b-4eb4-a288-ad1833dcabb7",
   "metadata": {},
   "outputs": [],
   "source": [
    "LAB_virtual = np.array([[0,0,-1],[0,1,0],[1,0,0]])"
   ]
  },
  {
   "cell_type": "code",
   "execution_count": null,
   "id": "66bfccc7-7542-459d-867c-c71409015d17",
   "metadata": {},
   "outputs": [],
   "source": [
    "R_ankle_ang = np.empty(RHETr.shape) * np.NaN\n",
    "R_foot_ang  = np.empty(RHETr.shape) * np.NaN\n",
    "R_foot_ang2  = np.empty(RHETr.shape) * np.NaN\n",
    "for i in range(RHETr.shape[0]):\n",
    "    # Calculate angles\n",
    "    bf = footCS(RHETr[i,:], RHEBr[i,:], RTOEr[i,:])\n",
    "    bs = shankCS(RKNLr[i,:], RKNMr[i,:], RMALr[i,:], RMAMr[i,:])\n",
    "    # Global to anatomical\n",
    "    bfT = bf.T \n",
    "    bsT = bs.T \n",
    "\n",
    "    # Product between [lab to shank] and [foot to lab]\n",
    "    R_ankle_ang[i,:] = cardanangles(np.dot(bs, bfT))\n",
    "    R_foot_ang2[i,:] = cardanangles(np.dot(LAB_virtual.T, bf))\n",
    "    \n",
    "    R_foot_ang[i,0] = np.arctan(bfT[0,1]/np.sqrt(bfT[1,1]**2 + bfT[2,1]**2))\n",
    "    # angle of the long axis of the foot about the vertical axis\n",
    "    R_foot_ang[i,1] = np.arctan(bfT[0,0]/np.sqrt(bfT[1,0]**2 + bfT[2,0]**2))\n",
    "    # and project the long axis into the sagital plane for ID of FOREFOOT\n",
    "    R_foot_ang[i,2] = np.arctan2(bfT[1,0], -bfT[2,0])"
   ]
  },
  {
   "cell_type": "code",
   "execution_count": null,
   "id": "915ac9ce-b4d9-45b6-971b-35dbb13ae587",
   "metadata": {},
   "outputs": [],
   "source": [
    "R_ankle_ang = R_ankle_ang * (180/np.pi)"
   ]
  },
  {
   "cell_type": "code",
   "execution_count": null,
   "id": "e09ebb68-fd5f-41af-a440-aa320f851679",
   "metadata": {},
   "outputs": [],
   "source": [
    "# RIC dataset\n",
    "fig, axs = plt.subplots(3,1, figsize=(10,6))\n",
    "fig.suptitle('RIGHT Ankle angles')\n",
    "# RIC\n",
    "for i in range(len(RTD_RIC)-1):\n",
    "    axs[0].plot(R_ankle_ang[RTD_RIC[i]:RTD_RIC[i+1],0])\n",
    "    axs[0].set_ylabel('X')\n",
    "    axs[0].grid('on')\n",
    "    axs[0].set_title('RIC')\n",
    "    axs[1].plot(R_ankle_ang[RTD_RIC[i]:RTD_RIC[i+1],1])\n",
    "    axs[1].set_ylabel('Y')\n",
    "    axs[1].grid('on')\n",
    "    axs[2].plot(R_ankle_ang[RTD_RIC[i]:RTD_RIC[i+1],2])\n",
    "    axs[2].set_ylabel('Z')\n",
    "    axs[2].grid('on')\n",
    "plt.show()"
   ]
  },
  {
   "cell_type": "code",
   "execution_count": null,
   "id": "76d76e59-ae97-4d7d-a5a1-edad9db2b6b2",
   "metadata": {},
   "outputs": [],
   "source": []
  },
  {
   "cell_type": "markdown",
   "id": "89ee2925-7ecc-4457-8491-8a120d602c37",
   "metadata": {},
   "source": [
    "Function joint_centres"
   ]
  },
  {
   "cell_type": "code",
   "execution_count": null,
   "id": "2d07bbc3-a749-4a78-a9cd-1134cc898e1a",
   "metadata": {},
   "outputs": [],
   "source": [
    "def joint_centres(joints, neutral):\n",
    "    '''\n",
    "    '''\n",
    "\n",
    "\n",
    "    # JOINT CENTRES\n",
    "    # Thigh markers\n",
    "    R_lat_knee = joints[['R_lat_knee_X','R_lat_knee_Y','R_lat_knee_Z']].values.flatten()\n",
    "    R_med_knee = joints[['R_med_knee_X','R_med_knee_Y','R_med_knee_Z']].values.flatten()\n",
    "    L_lat_knee = joints[['L_lat_knee_X','L_lat_knee_Y','L_lat_knee_Z']].values.flatten()\n",
    "    L_med_knee = joints[['L_med_knee_X','L_med_knee_Y','L_med_knee_Z']].values.flatten()\n",
    "    L_GTR = joints[['L_hip_X','L_hip_Y','L_hip_Z']].values.flatten()\n",
    "    R_GTR = joints[['R_hip_X','R_hip_Y','R_hip_Z']].values.flatten()\n",
    "    # Shank markers\n",
    "    R_lat_ankle = joints[['R_lat_ankle_X','R_lat_ankle_Y','R_lat_ankle_Z']].values.flatten()\n",
    "    R_med_ankle = joints[['R_med_ankle_X','R_med_ankle_Y','R_med_ankle_Z']].values.flatten()\n",
    "    L_lat_ankle = joints[['L_lat_ankle_X','L_lat_ankle_Y','L_lat_ankle_Z']].values.flatten()\n",
    "    L_med_ankle = joints[['L_med_ankle_X','L_med_ankle_Y','L_med_ankle_Z']].values.flatten()\n",
    "    # Pelvis markers\n",
    "    pelvis_1 = neutral[['pelvis_1_X','pelvis_1_Y','pelvis_1_Z']].values.flatten()\n",
    "    pelvis_2 = neutral[['pelvis_2_X','pelvis_2_Y','pelvis_2_Z']].values.flatten()\n",
    "    pelvis_3 = neutral[['pelvis_3_X','pelvis_3_Y','pelvis_3_Z']].values.flatten()\n",
    "    pelvis_4 = neutral[['pelvis_4_X','pelvis_4_Y','pelvis_4_Z']].values.flatten()\n",
    "\n",
    "    # the pelvis_jc is simply the average location of the pelvis markers\n",
    "    jcPelvis = (pelvis_1+pelvis_2+pelvis_3+pelvis_4)/4\n",
    "\n",
    "    # HJC\n",
    "    jcL_hip = L_GTR + (R_GTR-L_GTR)/4\n",
    "    jcR_hip = R_GTR + (L_GTR-R_GTR)/4\n",
    "    # midpoint of the two knee markers\n",
    "    jcL_knee = (L_lat_knee+L_med_knee)/2\n",
    "    jcR_knee = (R_lat_knee+R_med_knee)/2\n",
    "    # midpoint of the two ankle markers\n",
    "    jcL_ankle = (L_lat_ankle+L_med_ankle)/2\n",
    "    jcR_ankle = (R_med_ankle+R_lat_ankle)/2\n",
    "    # Create dictionary to store variables\n",
    "    joints = {'R_lat_knee': R_lat_knee, 'R_med_knee': R_med_knee, \n",
    "          'L_lat_knee': L_lat_knee, 'L_med_knee': L_med_knee,\n",
    "          'L_GTR': L_GTR, 'R_GTR': R_GTR, 'R_lat_ankle': R_lat_ankle, \n",
    "          'R_med_ankle': R_med_ankle, 'L_lat_ankle': L_lat_ankle, \n",
    "          'L_med_ankle': L_med_ankle, 'jcPelvis': jcPelvis, \n",
    "          'jcL_hip': jcL_hip, 'jcR_hip': jcR_hip, 'jcL_knee': jcL_knee, \n",
    "          'jcR_knee': jcR_knee, 'jcL_ankle': jcL_ankle, 'jcR_ankle': jcR_ankle}\n",
    "    \n",
    "    return joints"
   ]
  },
  {
   "cell_type": "code",
   "execution_count": null,
   "id": "0c7a14e0-eeb8-4da8-8b33-1b4a31b16c21",
   "metadata": {},
   "outputs": [],
   "source": [
    "def shank_cs(joints):\n",
    "    '''\n",
    "    Shank coordinate system according to convention adopted in gait_kinematics.m\n",
    "    %INPUTS\n",
    "    -joints (dict): contain joint markers output from joint_centres.py function\n",
    "    '''\n",
    "    jcR_knee = joints['jcR_knee']\n",
    "    jcR_ankle= joints['jcR_ankle']\n",
    "    R_lat_ankle= joints['R_lat_ankle']\n",
    "    R_med_ankle= joints['R_med_ankle']\n",
    "    #%% RIGHT SHANK\n",
    "    r_shank_y=(jcR_knee-jcR_ankle)/np.linalg.norm(jcR_knee-jcR_ankle); #long axis pointing up\n",
    "    r_shank_temp=(R_lat_ankle-R_med_ankle)/np.linalg.norm(R_lat_ankle-R_med_ankle) #almost the hinge joing pointing to the right\n",
    "    r_shank_x= np.cross(r_shank_y,r_shank_temp)/np.linalg.norm(np.cross(r_shank_y,r_shank_temp)) #Anterior axis from the cross\n",
    "    r_shank_z=np.cross(r_shank_x,r_shank_y)/np.linalg.norm(np.cross(r_shank_x,r_shank_y)) #hinge axis, lateral for right\n",
    "\n",
    "    # combine to create a transformation matrix from anatomical to global\n",
    "    agR_shank=np.array([r_shank_x,r_shank_y,r_shank_z]).T\n",
    "    #print('Versors of the shank segment from anatomical to global')\n",
    "    #print(agR_shank)\n",
    "    \n",
    "    return agR_shank"
   ]
  },
  {
   "cell_type": "markdown",
   "id": "2ee1accc-a3d7-4351-acb5-77e0f82b1cc5",
   "metadata": {
    "tags": []
   },
   "source": [
    "### RIC data"
   ]
  },
  {
   "cell_type": "code",
   "execution_count": null,
   "id": "c0ca6bcb-d8c5-4cf8-89ba-495ab9e8c2ed",
   "metadata": {},
   "outputs": [],
   "source": [
    "sub_id = '101679'\n",
    "trial = '20160226T120637'"
   ]
  },
  {
   "cell_type": "code",
   "execution_count": null,
   "id": "015c2344-3df9-4005-a488-99bd3c6c3185",
   "metadata": {},
   "outputs": [],
   "source": [
    "figshare_dir = r'C:\\Users\\Reginaldo\\OneDrive - University of Calgary\\data\\Figshare_SciData\\new_unzip'\n",
    "# This subject and trial is the best match for speed of 3.5 m/s and age\n",
    "fn_json=os.path.join(figshare_dir, sub_id, trial+'.json')\n",
    "neutral_RIC, joints_RIC, gait_RIC, hz_RIC = parse_gait.parse_RIC(fn_json)"
   ]
  },
  {
   "cell_type": "code",
   "execution_count": null,
   "id": "56f1f008-a5d7-44ac-b911-ae6b537fcbfe",
   "metadata": {},
   "outputs": [],
   "source": [
    "joints_2_RIC = joint_centres(joints_RIC, neutral_RIC)"
   ]
  },
  {
   "cell_type": "code",
   "execution_count": null,
   "id": "c8fb6f7d-e00a-489a-aeb8-1e13e7fa40ea",
   "metadata": {},
   "outputs": [],
   "source": [
    "agR_shank_RIC = shank_cs(joints_2_RIC)\n",
    "agR_shank_RIC"
   ]
  },
  {
   "cell_type": "code",
   "execution_count": null,
   "id": "8f4bc101-f03a-4d32-a6e5-f898043ef4a2",
   "metadata": {},
   "outputs": [],
   "source": [
    "neutral_RIC.filter(like='R_foot', axis=1).values"
   ]
  },
  {
   "cell_type": "markdown",
   "id": "a99e6a3e-7156-4596-ab10-154131ebbac2",
   "metadata": {},
   "source": [
    "## RBDS"
   ]
  },
  {
   "cell_type": "code",
   "execution_count": null,
   "id": "332293ca-9d5d-445c-9515-4bb1a5b7122e",
   "metadata": {},
   "outputs": [],
   "source": [
    "data_dir = r'C:\\Users\\Reginaldo\\Documents\\data\\CNPq\\RBDS_v2\\Figshare'\n",
    "fn_static = os.path.join(data_dir,'RBDS028static.c3d')\n",
    "fn_gait = os.path.join(data_dir,'RBDS028runT35.c3d')\n",
    "neutral_RBDS, joints_RBDS, gait_RBDS, hz_RBDS = parse_gait.parse_RBDS(fn_static, fn_gait)"
   ]
  },
  {
   "cell_type": "code",
   "execution_count": null,
   "id": "826b540e-df11-4d0b-89cd-b7ac8f578b16",
   "metadata": {},
   "outputs": [],
   "source": [
    "joints_2_RBDS = joint_centres(joints_RBDS, neutral_RBDS)"
   ]
  },
  {
   "cell_type": "code",
   "execution_count": null,
   "id": "6733866e-e343-46ae-a1d6-09a904f1c18b",
   "metadata": {},
   "outputs": [],
   "source": [
    "agR_shank_RBDS = shank_cs(joints_2_RBDS)\n",
    "agR_shank_RBDS"
   ]
  },
  {
   "cell_type": "code",
   "execution_count": null,
   "id": "80e80e7a-c0f6-4f38-a605-90d67e39b071",
   "metadata": {},
   "outputs": [],
   "source": [
    "R_foot_df = neutral_RBDS.filter(like='R_foot', axis=1)\n",
    "R_foot_df.reindex(sorted(R_foot_df.columns), axis=1).values"
   ]
  },
  {
   "cell_type": "markdown",
   "id": "1396aac1-8ff2-4050-8821-df4723810260",
   "metadata": {
    "tags": []
   },
   "source": [
    "### Debugg angles\n",
    "Try to find the source of difference in the outputs of RIC and RBDS angles. So far the only direction that seems consistent is the Z-axis.\n",
    "\n",
    "Start by checking the foot markers and reference frame.\n",
    "\n",
    "RBDS Lab Coordinate system\n",
    "*       X - points to the driection of walking\n",
    "*       Y - points vertically upwards\n",
    "*       Z - points to the subject's right\n",
    "\n",
    "RIC the following Lab Coordinate system\n",
    "*       X - points to the subject's right\n",
    "*       Y - points vertically upwards\n",
    "*       Z - points opposite of the walking direction\n",
    "\n",
    "%% NOTE the Segment coordinate systems\n",
    "*       X - Anterior .....................................[AB / AD duction]\n",
    "*       Y - Vertically upwards ............................[Axial rotation]\n",
    "*       Z - points to the subject's right side ...[Hinge flexion extension]"
   ]
  },
  {
   "cell_type": "markdown",
   "id": "576349d5-aa78-4af3-9f65-537c380e934b",
   "metadata": {
    "tags": []
   },
   "source": [
    "#### Reproduce method to calculate 3D angles\n",
    "Provide same output as gait_kinematics.m Matlab function written by Sean Osis."
   ]
  },
  {
   "cell_type": "code",
   "execution_count": null,
   "id": "cc8f070a-dcf0-4428-9821-2443a86d0839",
   "metadata": {},
   "outputs": [],
   "source": [
    "# JOINT CENTRES\n",
    "# Thigh markers\n",
    "R_lat_knee = joints[['R_lat_knee_X','R_lat_knee_Y','R_lat_knee_Z']].values.flatten()\n",
    "R_med_knee = joints[['R_med_knee_X','R_med_knee_Y','R_med_knee_Z']].values.flatten()\n",
    "L_lat_knee = joints[['L_lat_knee_X','L_lat_knee_Y','L_lat_knee_Z']].values.flatten()\n",
    "L_med_knee = joints[['L_med_knee_X','L_med_knee_Y','L_med_knee_Z']].values.flatten()\n",
    "L_hip = joints[['L_hip_X','L_hip_Y','L_hip_Z']].values.flatten()\n",
    "R_hip = joints[['R_hip_X','R_hip_Y','R_hip_Z']].values.flatten()\n",
    "# Shank markers\n",
    "R_lat_ankle = joints[['R_lat_ankle_X','R_lat_ankle_Y','R_lat_ankle_Z']].values.flatten()\n",
    "R_med_ankle = joints[['R_med_ankle_X','R_med_ankle_Y','R_med_ankle_Z']].values.flatten()\n",
    "L_lat_ankle = joints[['L_lat_ankle_X','L_lat_ankle_Y','L_lat_ankle_Z']].values.flatten()\n",
    "L_med_ankle = joints[['L_med_ankle_X','L_med_ankle_Y','L_med_ankle_Z']].values.flatten()\n",
    "# Pelvis markers\n",
    "pelvis_1 = neutral[['pelvis_1_X','pelvis_1_Y','pelvis_1_Z']].values.flatten()\n",
    "pelvis_2 = neutral[['pelvis_2_X','pelvis_2_Y','pelvis_2_Z']].values.flatten()\n",
    "pelvis_3 = neutral[['pelvis_3_X','pelvis_3_Y','pelvis_3_Z']].values.flatten()\n",
    "pelvis_4 = neutral[['pelvis_4_X','pelvis_4_Y','pelvis_4_Z']].values.flatten()\n",
    "\n",
    "# the pelvis_jc is simply the average location of the pelvis markers\n",
    "jcPelvis = (pelvis_1+pelvis_2+pelvis_3+pelvis_4)/4\n",
    "\n",
    "# HJC\n",
    "jcL_hip = L_hip + (R_hip-L_hip)/4\n",
    "jcR_hip = R_hip + (L_hip-R_hip)/4\n",
    "# midpoint of the two knee markers\n",
    "jcL_knee = (L_lat_knee+L_med_knee)/2\n",
    "jcR_knee = (R_lat_knee+R_med_knee)/2\n",
    "# midpoint of the two ankle markers\n",
    "jcL_ankle = (L_lat_ankle+L_med_ankle)/2\n",
    "jcR_ankle = (R_med_ankle+R_lat_ankle)/2"
   ]
  },
  {
   "cell_type": "code",
   "execution_count": null,
   "id": "03502632-b651-446f-8af1-a3051614b0dc",
   "metadata": {},
   "outputs": [],
   "source": [
    "## LEFT FOOT\n",
    "#% long axis of the the foot is aligned with the lab\n",
    "l_foot_x = np.array([0, 0, -1])\n",
    "\n",
    "#% vertical axis of the foot is aligned with the two markers on the heel\n",
    "#% FIRST need to identify the heel markers\n",
    "#% Combine 3 feet markers into one matrix ... can ignore the created fourth one\n",
    "L_foot = neutral[['L_foot_1_X','L_foot_1_Y','L_foot_1_Z',\n",
    "                 'L_foot_2_X','L_foot_2_Y','L_foot_2_Z',\n",
    "                 'L_foot_3_X','L_foot_3_Y','L_foot_3_Z']].values.reshape((3,3))\n",
    "\n",
    "# sort the markers from left to right\n",
    "L_foot = L_foot[L_foot[:, 0].argsort()]\n",
    "# SECOND, create a vector from the two left markers (not the lateral one)\n",
    "l_foot_temp = (L_foot[1,:]-L_foot[2,:])/np.linalg.norm(L_foot[1,:]-L_foot[2,:])\n",
    "\n",
    "#% check that it is pointing up ... and if not, flip it\n",
    "if l_foot_temp[1] < 0:\n",
    "    l_foot_temp = -l_foot_temp\n",
    "    \n",
    "#% use the temp vertical axis to create the lateral axis\n",
    "l_foot_z = np.cross(l_foot_x,l_foot_temp)/np.linalg.norm(np.cross(l_foot_x,\n",
    "                                                                  l_foot_temp))\n",
    "\n",
    "#% and create the 'vertical' axis that provides standing eversion angle\n",
    "l_foot_y = np.cross(l_foot_z,l_foot_x)/np.linalg.norm(np.cross(l_foot_z, \n",
    "                                                               l_foot_x))\n",
    "\n",
    "#% combine to create a transformation matrix from anatomical to global\n",
    "agL_foot = np.array([l_foot_x,l_foot_y,l_foot_z]).T\n",
    "print('Versors of the Left foot segment from anatomical to global')\n",
    "print(agL_foot)"
   ]
  },
  {
   "cell_type": "code",
   "execution_count": null,
   "id": "f3676d90-fff9-43ce-8bb2-ad02ed355b20",
   "metadata": {},
   "outputs": [],
   "source": [
    "#%% RIGHT FOOT\n",
    "#% long axis of the the foot is aligned with the lab\n",
    "r_foot_x = np.array([0, 0, -1])\n",
    "\n",
    "#% vertical axis of the foot is aligned with the two markers on the heel\n",
    "#% FIRST need to identify the heel markers\n",
    "#% Combine 3 feet markers into one matrix ... can ignore the created fourth one\n",
    "R_foot = neutral[['R_foot_1_X','R_foot_1_Y','R_foot_1_Z',\n",
    "                 'R_foot_2_X','R_foot_2_Y','R_foot_2_Z',\n",
    "                 'R_foot_3_X','R_foot_3_Y','R_foot_3_Z']].values.reshape((3,3))\n",
    "\n",
    "# sort the markers from left to right\n",
    "R_foot = R_foot[R_foot[:, 0].argsort()]\n",
    "# SECOND, create a vector from the two left markers (not the lateral one)\n",
    "r_foot_temp = (R_foot[0,:]-R_foot[1,:])/np.linalg.norm(R_foot[0,:]-R_foot[1,:])\n",
    "\n",
    "#% check that it is pointing up ... and if not, flip it\n",
    "if r_foot_temp[1] < 0:\n",
    "    r_foot_temp = -r_foot_temp\n",
    "    \n",
    "#% use the temp vertical axis to create the lateral axis\n",
    "r_foot_z = np.cross(r_foot_x,r_foot_temp)/np.linalg.norm(np.cross(r_foot_x,\n",
    "                                                                  r_foot_temp))\n",
    "\n",
    "#% and create the 'vertical' axis that provides standing eversion angle\n",
    "r_foot_y = np.cross(r_foot_z,r_foot_x)/np.linalg.norm(np.cross(r_foot_z, \n",
    "                                                               r_foot_x))\n",
    "\n",
    "#% combine to create a transformation matrix from anatomical to global\n",
    "agR_foot = np.array([r_foot_x,r_foot_y,r_foot_z]).T\n",
    "print('Versors of the foot segment from anatomical to global')\n",
    "print(agR_foot)"
   ]
  },
  {
   "cell_type": "code",
   "execution_count": null,
   "id": "09d92b3b-a6f8-4874-b32b-3bbc9ac3525d",
   "metadata": {},
   "outputs": [],
   "source": [
    "#%% LEFT SHANK\n",
    "l_shank_y=(jcL_knee-jcL_ankle)/np.linalg.norm(jcL_knee-jcL_ankle); #long axis pointing up\n",
    "l_shank_temp=(L_med_ankle-L_lat_ankle)/np.linalg.norm(L_med_ankle-L_lat_ankle) #almost the hinge joing pointing to the right\n",
    "l_shank_x= np.cross(l_shank_y,l_shank_temp)/np.linalg.norm(np.cross(l_shank_y,l_shank_temp)) #Anterior axis from the cross\n",
    "l_shank_z=np.cross(l_shank_x,l_shank_y)/np.linalg.norm(np.cross(l_shank_x,l_shank_y)) #hinge axis, lateral for right\n",
    "\n",
    "# combine to create a transformation matrix from anatomical to global\n",
    "agL_shank=np.array([l_shank_x,l_shank_y,l_shank_z]).T\n",
    "print('Versors of the shank segment from anatomical to global')\n",
    "print(agL_shank)"
   ]
  },
  {
   "cell_type": "code",
   "execution_count": null,
   "id": "839ef246-68c2-4fb1-b724-6a8c6e75aa91",
   "metadata": {},
   "outputs": [],
   "source": [
    "#%% RIGHT SHANK\n",
    "r_shank_y=(jcR_knee-jcR_ankle)/np.linalg.norm(jcR_knee-jcR_ankle); #long axis pointing up\n",
    "r_shank_temp=(R_lat_ankle-R_med_ankle)/np.linalg.norm(R_lat_ankle-R_med_ankle) #almost the hinge joing pointing to the right\n",
    "r_shank_x= np.cross(r_shank_y,r_shank_temp)/np.linalg.norm(np.cross(r_shank_y,r_shank_temp)) #Anterior axis from the cross\n",
    "r_shank_z=np.cross(r_shank_x,r_shank_y)/np.linalg.norm(np.cross(r_shank_x,r_shank_y)) #hinge axis, lateral for right\n",
    "\n",
    "# combine to create a transformation matrix from anatomical to global\n",
    "agR_shank=np.array([r_shank_x,r_shank_y,r_shank_z]).T\n",
    "print('Versors of the shank segment from anatomical to global')\n",
    "print(agR_shank)"
   ]
  },
  {
   "cell_type": "code",
   "execution_count": null,
   "id": "60310525-ed7d-421a-a0f7-9a1880f1aa14",
   "metadata": {},
   "outputs": [],
   "source": [
    "# LEFT THIGH\n",
    "l_thigh_y=(jcL_hip-jcL_knee)/np.linalg.norm(jcL_hip-jcL_knee)#long axis pointing up\n",
    "#almost the hinge joing pointing to the right from the knee joint markers\n",
    "l_thigh_temp=(L_med_knee-L_lat_knee)/np.linalg.norm(L_med_knee-L_lat_knee)\n",
    "l_thigh_x=np.cross(l_thigh_y,l_thigh_temp)/np.linalg.norm(np.cross(l_thigh_y,l_thigh_temp))\n",
    "l_thigh_z=np.cross(l_thigh_x,l_thigh_y)/np.linalg.norm(np.cross(l_thigh_x,l_thigh_y))\n",
    "\n",
    "# combine to create a transformation matrix from anatomical to global\n",
    "agL_thigh=np.array([l_thigh_x,l_thigh_y,l_thigh_z]).T\n",
    "print('Versors of the thigh segment from anatomical to global')\n",
    "print(agL_thigh)"
   ]
  },
  {
   "cell_type": "code",
   "execution_count": null,
   "id": "8c5cb01e-2b1d-4372-889b-86e4742af7e1",
   "metadata": {},
   "outputs": [],
   "source": [
    "# RIGHT THIGH\n",
    "r_thigh_y=(jcR_hip-jcR_knee)/np.linalg.norm(jcR_hip-jcR_knee)#long axis pointing up\n",
    "#almost the hinge joing pointing to the right from the knee joint markers\n",
    "r_thigh_temp=(R_lat_knee-R_med_knee)/np.linalg.norm(R_lat_knee-R_med_knee)\n",
    "r_thigh_x=np.cross(r_thigh_y,r_thigh_temp)/np.linalg.norm(np.cross(r_thigh_y,r_thigh_temp))\n",
    "r_thigh_z=np.cross(r_thigh_x,r_thigh_y)/np.linalg.norm(np.cross(r_thigh_x,r_thigh_y))\n",
    "\n",
    "# combine to create a transformation matrix from anatomical to global\n",
    "agR_thigh=np.array([r_thigh_x,r_thigh_y,r_thigh_z]).T\n",
    "print('Versors of the thigh segment from anatomical to global')\n",
    "print(agR_thigh)"
   ]
  },
  {
   "cell_type": "code",
   "execution_count": null,
   "id": "1f20a7c7-137f-4b9e-ae69-f972a10f2e93",
   "metadata": {},
   "outputs": [],
   "source": [
    "## PELVIS\n",
    "# since trochanters are hard to landmark, pelvis will just be orthogonal to the lab\n",
    "pelvis_x=np.array([0,0,-1])#anterior axis\n",
    "pelvis_y=np.array([0,1,0])#long axis pointing up\n",
    "pelvis_z=np.array([1,0,0])#hinge axis to the subject's right\n",
    "# combine to create a transformation matrix from anatomical to global\n",
    "ag_Pelvis=np.array([pelvis_x,pelvis_y,pelvis_z]).T\n",
    "\n",
    "print('Versors of the pelvis segment from anatomical to global')\n",
    "print(ag_Pelvis)"
   ]
  },
  {
   "cell_type": "code",
   "execution_count": null,
   "id": "c917d33c-2e8f-4820-a149-6f84cd1117ba",
   "metadata": {},
   "outputs": [],
   "source": [
    "# %% use the transformation matrixes we just made to get the segment markers\n",
    "# % in terms of the ANATOMICAL COORDINATE system (ie if the anatomical\n",
    "# % coordinate system was located at the world orgin, where would the markers\n",
    "# % be located). this can be better understood by visualizing the vectors\n",
    "# % defining the marker location.\n",
    "# % the marker locations in this reference frame will be used with the\n",
    "# % soderkvist method as 'before' inputs.\n",
    "\n",
    "# Rename foot markers in the neutral standing trial\n",
    "L_foot_1_S = neutral[['L_foot_1_X','L_foot_1_Y','L_foot_1_Z']].values\n",
    "L_foot_2_S = neutral[['L_foot_2_X','L_foot_2_Y','L_foot_2_Z']].values\n",
    "L_foot_3_S = neutral[['L_foot_3_X','L_foot_3_Y','L_foot_3_Z']].values\n",
    "L_foot_4_S = neutral[['L_foot_4_X','L_foot_4_Y','L_foot_4_Z']].values\n",
    "\n",
    "# % the foot markers in an ANATOMICAL COORDINATE system ...\n",
    "acL_foot_1=np.dot(agL_foot.T, L_foot_1_S.T)\n",
    "acL_foot_2=np.dot(agL_foot.T, L_foot_2_S.T)\n",
    "acL_foot_3=np.dot(agL_foot.T, L_foot_3_S.T)\n",
    "acL_foot_4=np.dot(agL_foot.T, L_foot_4_S.T)\n",
    "acL_foot=np.array([acL_foot_1, acL_foot_2, acL_foot_3, acL_foot_4]).T[0,:,:]\n",
    "\n",
    "# Centroid of markers\n",
    "centroid = np.mean(acL_foot, axis=1)\n",
    "# Ankle joint centre in the Foot CS\n",
    "djcL_ankle=np.dot(agL_foot.T, jcL_ankle.T) - centroid\n",
    "\n",
    "print('foot markers in an ANATOMICAL COORDINATE system')\n",
    "print(acL_foot)\n",
    "print('Ankle joint centre in the Foot CS')\n",
    "print(djcL_ankle)"
   ]
  },
  {
   "cell_type": "code",
   "execution_count": null,
   "id": "0064b930-cc5d-44df-b617-daa4322e35f7",
   "metadata": {},
   "outputs": [],
   "source": [
    "# Rename foot markers in the neutral standing trial\n",
    "R_foot_1_S = neutral[['R_foot_1_X','R_foot_1_Y','R_foot_1_Z']].values\n",
    "R_foot_2_S = neutral[['R_foot_2_X','R_foot_2_Y','R_foot_2_Z']].values\n",
    "R_foot_3_S = neutral[['R_foot_3_X','R_foot_3_Y','R_foot_3_Z']].values\n",
    "R_foot_4_S = neutral[['R_foot_4_X','R_foot_4_Y','R_foot_4_Z']].values\n",
    "\n",
    "# % the foot markers in an ANATOMICAL COORDINATE system ...\n",
    "acR_foot_1=np.dot(agR_foot.T, R_foot_1_S.T)\n",
    "acR_foot_2=np.dot(agR_foot.T, R_foot_2_S.T)\n",
    "acR_foot_3=np.dot(agR_foot.T, R_foot_3_S.T)\n",
    "acR_foot_4=np.dot(agR_foot.T, R_foot_4_S.T)\n",
    "acR_foot=np.array([acR_foot_1, acR_foot_2, acR_foot_3, acR_foot_4]).T[0,:,:]\n",
    "\n",
    "# Centroid of markers\n",
    "centroid = np.mean(acR_foot, axis=1)\n",
    "# Ankle joint centre in the Foot CS\n",
    "djcR_ankle=np.dot(agR_foot.T, jcR_ankle.T) - centroid\n",
    "\n",
    "print('foot markers in an ANATOMICAL COORDINATE system')\n",
    "print(acR_foot)\n",
    "print('Ankle joint centre in the Foot CS')\n",
    "print(djcR_ankle)"
   ]
  },
  {
   "cell_type": "code",
   "execution_count": null,
   "id": "adcf1918-5ca0-4745-b68f-0546750564b7",
   "metadata": {},
   "outputs": [],
   "source": [
    "# Rename LEFT shank markers in the neutral standing trial\n",
    "L_shank_1_S = neutral[['L_shank_1_X','L_shank_1_Y','L_shank_1_Z']].values\n",
    "L_shank_2_S = neutral[['L_shank_2_X','L_shank_2_Y','L_shank_2_Z']].values\n",
    "L_shank_3_S = neutral[['L_shank_3_X','L_shank_3_Y','L_shank_3_Z']].values\n",
    "L_shank_4_S = neutral[['L_shank_4_X','L_shank_4_Y','L_shank_4_Z']].values\n",
    "\n",
    "# % the shank markers in an ANATOMICAL COORDINATE system ...\n",
    "acL_shank_1=np.dot(agL_shank.T, L_shank_1_S.T)\n",
    "acL_shank_2=np.dot(agL_shank.T, L_shank_2_S.T)\n",
    "acL_shank_3=np.dot(agL_shank.T, L_shank_3_S.T)\n",
    "acL_shank_4=np.dot(agL_shank.T, L_shank_4_S.T)\n",
    "acL_shank=np.array([acL_shank_1, acL_shank_2, acL_shank_3, acL_shank_4]).T[0,:,:]\n",
    "# Centroid of markers\n",
    "centroid = np.mean(acL_shank, axis=1)\n",
    "# Knee joint centre in the Foot CS\n",
    "djcL_knee=np.dot(agL_shank.T, jcL_knee.T) - centroid\n",
    "\n",
    "print('shank markers in an ANATOMICAL COORDINATE system')\n",
    "print(acL_shank)\n",
    "print('knee joint centre in the Foot CS')\n",
    "print(djcL_knee)"
   ]
  },
  {
   "cell_type": "code",
   "execution_count": null,
   "id": "6fa27d85-ebcc-4ef6-8333-6e934bcf8051",
   "metadata": {},
   "outputs": [],
   "source": [
    "# Rename RIGHT shank markers in the neutral standing trial\n",
    "R_shank_1_S = neutral[['R_shank_1_X','R_shank_1_Y','R_shank_1_Z']].values\n",
    "R_shank_2_S = neutral[['R_shank_2_X','R_shank_2_Y','R_shank_2_Z']].values\n",
    "R_shank_3_S = neutral[['R_shank_3_X','R_shank_3_Y','R_shank_3_Z']].values\n",
    "R_shank_4_S = neutral[['R_shank_4_X','R_shank_4_Y','R_shank_4_Z']].values\n",
    "\n",
    "# % the shank markers in an ANATOMICAL COORDINATE system ...\n",
    "acR_shank_1=np.dot(agR_shank.T, R_shank_1_S.T)\n",
    "acR_shank_2=np.dot(agR_shank.T, R_shank_2_S.T)\n",
    "acR_shank_3=np.dot(agR_shank.T, R_shank_3_S.T)\n",
    "acR_shank_4=np.dot(agR_shank.T, R_shank_4_S.T)\n",
    "acR_shank=np.array([acR_shank_1, acR_shank_2, acR_shank_3, acR_shank_4]).T[0,:,:]\n",
    "# Centroid of markers\n",
    "centroid = np.mean(acR_shank, axis=1)\n",
    "# Knee joint centre in the Foot CS\n",
    "djcR_knee=np.dot(agR_shank.T, jcR_knee.T) - centroid\n",
    "\n",
    "print('shank markers in an ANATOMICAL COORDINATE system')\n",
    "print(acR_shank)\n",
    "print('knee joint centre in the Foot CS')\n",
    "print(djcR_knee)"
   ]
  },
  {
   "cell_type": "code",
   "execution_count": null,
   "id": "4b14be13-d49f-4602-84fd-0e328a73ae43",
   "metadata": {},
   "outputs": [],
   "source": [
    "# Rename LEFT thigh markers in the neutral standing trial\n",
    "L_thigh_1_S = neutral[['L_thigh_1_X','L_thigh_1_Y','L_thigh_1_Z']].values\n",
    "L_thigh_2_S = neutral[['L_thigh_2_X','L_thigh_2_Y','L_thigh_2_Z']].values\n",
    "L_thigh_3_S = neutral[['L_thigh_3_X','L_thigh_3_Y','L_thigh_3_Z']].values\n",
    "L_thigh_4_S = neutral[['L_thigh_4_X','L_thigh_4_Y','L_thigh_4_Z']].values\n",
    "\n",
    "# % the thigh markers in an ANATOMICAL COORDINATE system ...\n",
    "acL_thigh_1=np.dot(agL_thigh.T, L_thigh_1_S.T)\n",
    "acL_thigh_2=np.dot(agL_thigh.T, L_thigh_2_S.T)\n",
    "acL_thigh_3=np.dot(agL_thigh.T, L_thigh_3_S.T)\n",
    "acL_thigh_4=np.dot(agL_thigh.T, L_thigh_4_S.T)\n",
    "acL_thigh=np.array([acL_thigh_1, acL_thigh_2, acL_thigh_3, acL_thigh_4]).T[0,:,:]\n",
    "\n",
    "# Centroid of markers\n",
    "centroid = np.mean(acL_thigh, axis=1)\n",
    "# Knee joint centre in the Foot CS\n",
    "djcL_hip=np.dot(agL_thigh.T, jcL_hip.T) - centroid\n",
    "\n",
    "print('thigh markers in an ANATOMICAL COORDINATE system')\n",
    "print(acL_thigh)\n",
    "print('hip joint centre in the Foot CS')\n",
    "print(djcL_hip)"
   ]
  },
  {
   "cell_type": "code",
   "execution_count": null,
   "id": "28e13ba8-8cf2-4421-b598-8044169b47ac",
   "metadata": {},
   "outputs": [],
   "source": [
    "# Rename thigh markers in the neutral standing trial\n",
    "R_thigh_1_S = neutral[['R_thigh_1_X','R_thigh_1_Y','R_thigh_1_Z']].values\n",
    "R_thigh_2_S = neutral[['R_thigh_2_X','R_thigh_2_Y','R_thigh_2_Z']].values\n",
    "R_thigh_3_S = neutral[['R_thigh_3_X','R_thigh_3_Y','R_thigh_3_Z']].values\n",
    "R_thigh_4_S = neutral[['R_thigh_4_X','R_thigh_4_Y','R_thigh_4_Z']].values\n",
    "\n",
    "# % the thigh markers in an ANATOMICAL COORDINATE system ...\n",
    "acR_thigh_1=np.dot(agR_thigh.T, R_thigh_1_S.T)\n",
    "acR_thigh_2=np.dot(agR_thigh.T, R_thigh_2_S.T)\n",
    "acR_thigh_3=np.dot(agR_thigh.T, R_thigh_3_S.T)\n",
    "acR_thigh_4=np.dot(agR_thigh.T, R_thigh_4_S.T)\n",
    "acR_thigh=np.array([acR_thigh_1, acR_thigh_2, acR_thigh_3, acR_thigh_4]).T[0,:,:]\n",
    "\n",
    "# Centroid of markers\n",
    "centroid = np.mean(acR_thigh, axis=1)\n",
    "# Knee joint centre in the Foot CS\n",
    "djcR_hip=np.dot(agR_thigh.T, jcR_hip.T) - centroid\n",
    "\n",
    "print('thigh markers in an ANATOMICAL COORDINATE system')\n",
    "print(acR_thigh)\n",
    "print('hip joint centre in the Foot CS')\n",
    "print(djcR_hip)"
   ]
  },
  {
   "cell_type": "code",
   "execution_count": null,
   "id": "eb7d7327-1857-401e-9946-ff90d3ee1129",
   "metadata": {},
   "outputs": [],
   "source": [
    "# Rename Pelvic markers in the neutral standing trial\n",
    "pelvis_1_S = neutral[['pelvis_1_X','pelvis_1_Y','pelvis_1_Z']].values\n",
    "pelvis_2_S = neutral[['pelvis_2_X','pelvis_2_Y','pelvis_2_Z']].values\n",
    "pelvis_3_S = neutral[['pelvis_3_X','pelvis_3_Y','pelvis_3_Z']].values\n",
    "pelvis_4_S = neutral[['pelvis_4_X','pelvis_4_Y','pelvis_4_Z']].values\n",
    "\n",
    "# % the pelvis markers in an ANATOMICAL COORDINATE system ...\n",
    "ac_Pelvis_1=np.dot(ag_Pelvis.T, pelvis_1_S.T)\n",
    "ac_Pelvis_2=np.dot(ag_Pelvis.T, pelvis_2_S.T)\n",
    "ac_Pelvis_3=np.dot(ag_Pelvis.T, pelvis_3_S.T)\n",
    "ac_Pelvis_4=np.dot(ag_Pelvis.T, pelvis_4_S.T)\n",
    "ac_Pelvis=np.array([ac_Pelvis_1, ac_Pelvis_2, ac_Pelvis_3, ac_Pelvis_4]).T[0,:,:]\n",
    "\n",
    "# Centroid of markers\n",
    "centroid = np.mean(ac_Pelvis, axis=1)\n",
    "# Pelvis joint centre in the Foot CS\n",
    "djcPelvis=np.dot(ag_Pelvis.T, jcPelvis.T) - centroid\n",
    "\n",
    "print('Pelvic markers in an ANATOMICAL COORDINATE system')\n",
    "print(ac_Pelvis)\n",
    "print('Pelvic centroid in the Pelvic CS')\n",
    "print(djcPelvis)"
   ]
  },
  {
   "cell_type": "code",
   "execution_count": null,
   "id": "95f9cd15-0c29-40af-869a-53260ec2f525",
   "metadata": {},
   "outputs": [],
   "source": [
    "# %% create the rotation matrix from segment to lab for all the segments for\n",
    "# % every time point. this uses soderkvist. the operations done on the\n",
    "# % neutral trial data only need to be done once and can be done before we\n",
    "# % load the dynamic data and are therefore outside of the loop\n",
    "\n",
    "# % calculate average marker position of the segment markers\n",
    "avg_ac_L_foot =np.mean(acL_foot,axis=1)\n",
    "avg_ac_R_foot =np.mean(acR_foot,axis=1)\n",
    "avg_ac_L_shank=np.mean(acL_shank,axis=1)\n",
    "avg_ac_R_shank=np.mean(acR_shank,axis=1)\n",
    "avg_ac_L_thigh=np.mean(acL_thigh,axis=1)\n",
    "avg_ac_R_thigh=np.mean(acR_thigh,axis=1)\n",
    "avg_ac_Pelvis =np.mean(ac_Pelvis,axis=1)\n",
    "\n",
    "# % calculate the distance from the marker posisiton to the average position\n",
    "# % neutral\n",
    "dif_ac_L_foot=np.array([acL_foot[0,:]-avg_ac_L_foot[0],\n",
    "                       acL_foot[1,:]-avg_ac_L_foot[1],\n",
    "                       acL_foot[2,:]-avg_ac_L_foot[2]])\n",
    "dif_ac_R_foot=np.array([acR_foot[0,:]-avg_ac_R_foot[0],\n",
    "                       acR_foot[1,:]-avg_ac_R_foot[1],\n",
    "                       acR_foot[2,:]-avg_ac_R_foot[2]])\n",
    "dif_ac_L_shank=np.array([acL_shank[0,:]-avg_ac_L_shank[0],\n",
    "                       acL_shank[1,:]-avg_ac_L_shank[1],\n",
    "                       acL_shank[2,:]-avg_ac_L_shank[2]])\n",
    "dif_ac_R_shank=np.array([acR_shank[0,:]-avg_ac_R_shank[0],\n",
    "                       acR_shank[1,:]-avg_ac_R_shank[1],\n",
    "                       acR_shank[2,:]-avg_ac_R_shank[2]])\n",
    "dif_ac_L_thigh=np.array([acL_thigh[0,:]-avg_ac_L_thigh[0],\n",
    "                       acL_thigh[1,:]-avg_ac_L_thigh[1],\n",
    "                       acL_thigh[2,:]-avg_ac_L_thigh[2]])\n",
    "dif_ac_R_thigh=np.array([acR_thigh[0,:]-avg_ac_R_thigh[0],\n",
    "                       acR_thigh[1,:]-avg_ac_R_thigh[1],\n",
    "                       acR_thigh[2,:]-avg_ac_R_thigh[2]])\n",
    "dif_ac_Pelvis=np.array([ac_Pelvis[0,:]-avg_ac_Pelvis[0],\n",
    "                       ac_Pelvis[1,:]-avg_ac_Pelvis[1],\n",
    "                       ac_Pelvis[2,:]-avg_ac_Pelvis[2]])"
   ]
  },
  {
   "cell_type": "code",
   "execution_count": null,
   "id": "834e9a02-7f33-4908-bd6a-8a62134ab7ae",
   "metadata": {},
   "outputs": [],
   "source": [
    "# %% now we need the DYNAMIC walking/running data from the input argument\n",
    "# Left Foot marker positions running\n",
    "L_foot_1_R = gait.filter(like='L_foot_1', axis=1).values\n",
    "L_foot_2_R = gait.filter(like='L_foot_2', axis=1).values\n",
    "L_foot_3_R = gait.filter(like='L_foot_3', axis=1).values\n",
    "L_foot_4_R = gait.filter(like='L_foot_4', axis=1).values\n",
    "# Right Foot marker positions running\n",
    "R_foot_1_R = gait.filter(like='R_foot_1', axis=1).values\n",
    "R_foot_2_R = gait.filter(like='R_foot_2', axis=1).values\n",
    "R_foot_3_R = gait.filter(like='R_foot_3', axis=1).values\n",
    "R_foot_4_R = gait.filter(like='R_foot_4', axis=1).values\n",
    "# left Shank marker positions running\n",
    "L_shank_1_R = gait.filter(like='L_shank_1', axis=1).values\n",
    "L_shank_2_R = gait.filter(like='L_shank_2', axis=1).values\n",
    "L_shank_3_R = gait.filter(like='L_shank_3', axis=1).values\n",
    "L_shank_4_R = gait.filter(like='L_shank_4', axis=1).values\n",
    "# Right Shank marker positions running\n",
    "R_shank_1_R = gait.filter(like='R_shank_1', axis=1).values\n",
    "R_shank_2_R = gait.filter(like='R_shank_2', axis=1).values\n",
    "R_shank_3_R = gait.filter(like='R_shank_3', axis=1).values\n",
    "R_shank_4_R = gait.filter(like='R_shank_4', axis=1).values\n",
    "# left Thigh marker positions running\n",
    "L_thigh_1_R = gait.filter(like='L_thigh_1', axis=1).values\n",
    "L_thigh_2_R = gait.filter(like='L_thigh_2', axis=1).values\n",
    "L_thigh_3_R = gait.filter(like='L_thigh_3', axis=1).values\n",
    "L_thigh_4_R = gait.filter(like='L_thigh_4', axis=1).values\n",
    "# Thigh marker positions running\n",
    "R_thigh_1_R = gait.filter(like='R_thigh_1', axis=1).values\n",
    "R_thigh_2_R = gait.filter(like='R_thigh_2', axis=1).values\n",
    "R_thigh_3_R = gait.filter(like='R_thigh_3', axis=1).values\n",
    "R_thigh_4_R = gait.filter(like='R_thigh_4', axis=1).values\n",
    "# Pelvis marker positions running\n",
    "pelvis_1_R = gait.filter(like='pelvis_1', axis=1).values\n",
    "pelvis_2_R = gait.filter(like='pelvis_2', axis=1).values\n",
    "pelvis_3_R = gait.filter(like='pelvis_3', axis=1).values\n",
    "pelvis_4_R = gait.filter(like='pelvis_4', axis=1).values\n",
    "\n",
    "# % prealocating the size of these matricies that collect data in the loop\n",
    "# % to increase speed\n",
    "# RIGHT SIDE\n",
    "R_R_foot  =np.zeros(shape=(4,4, R_foot_1_R.shape[0]))\n",
    "R_R_shank =np.zeros(shape=(4,4, R_foot_1_R.shape[0]))\n",
    "R_R_thigh =np.zeros(shape=(4,4, R_foot_1_R.shape[0]))\n",
    "R_R_pelvis=np.zeros(shape=(4,4, R_foot_1_R.shape[0]))\n",
    "#pre-allaocate angles\n",
    "R_R_ankle=np.zeros(shape=(4,4, R_foot_1_R.shape[0]))\n",
    "R_R_knee =np.zeros(shape=(4,4, R_foot_1_R.shape[0]))\n",
    "R_R_hip  =np.zeros(shape=(4,4, R_foot_1_R.shape[0]))\n",
    "\n",
    "# LEFT SIDE\n",
    "R_L_foot  =np.zeros(shape=(4,4, L_foot_1_R.shape[0]))\n",
    "R_L_shank =np.zeros(shape=(4,4, L_foot_1_R.shape[0]))\n",
    "R_L_thigh =np.zeros(shape=(4,4, L_foot_1_R.shape[0]))\n",
    "R_L_pelvis=np.zeros(shape=(4,4, L_foot_1_R.shape[0]))\n",
    "#pre-allaocate angles\n",
    "R_L_ankle=np.zeros(shape=(4,4, L_foot_1_R.shape[0]))\n",
    "R_L_knee =np.zeros(shape=(4,4, L_foot_1_R.shape[0]))\n",
    "R_L_hip  =np.zeros(shape=(4,4, L_foot_1_R.shape[0]))"
   ]
  },
  {
   "cell_type": "code",
   "execution_count": null,
   "id": "e9719a27-f9fa-49b0-875d-3fbda2e171e5",
   "metadata": {},
   "outputs": [],
   "source": [
    "# %% need to create matricies from the DYNAMIC data that has the same markers\n",
    "# % as the \" ac.L_foot \" in the same order ... matricies for use with soderqvist\n",
    "dL_foot = np.array([L_foot_1_R.T, L_foot_2_R.T, L_foot_3_R.T, L_foot_4_R.T], ndmin=3)\n",
    "dL_foot = np.transpose(dL_foot, (1,0,2))\n",
    "dR_foot = np.array([R_foot_1_R.T, R_foot_2_R.T, R_foot_3_R.T, R_foot_4_R.T], ndmin=3)\n",
    "dR_foot = np.transpose(dR_foot, (1,0,2))\n",
    "dL_shank = np.array([L_shank_1_R.T, L_shank_2_R.T, L_shank_3_R.T, L_shank_4_R.T], ndmin=3)\n",
    "dL_shank = np.transpose(dL_shank, (1,0,2))\n",
    "dR_shank = np.array([R_shank_1_R.T, R_shank_2_R.T, R_shank_3_R.T, R_shank_4_R.T], ndmin=3)\n",
    "dR_shank = np.transpose(dR_shank, (1,0,2))\n",
    "dL_thigh = np.array([L_thigh_1_R.T, L_thigh_2_R.T, L_thigh_3_R.T, L_thigh_4_R.T], ndmin=3)\n",
    "dL_thigh = np.transpose(dL_thigh, (1,0,2))\n",
    "dR_thigh = np.array([R_thigh_1_R.T, R_thigh_2_R.T, R_thigh_3_R.T, R_thigh_4_R.T], ndmin=3)\n",
    "dR_thigh = np.transpose(dR_thigh, (1,0,2))\n",
    "dPelvis = np.array([pelvis_1_R.T, pelvis_2_R.T, pelvis_3_R.T, pelvis_4_R.T], ndmin=3)\n",
    "dPelvis = np.transpose(dPelvis, (1,0,2))\n",
    "\n",
    "# calculate average position of the segment markers\n",
    "avg_dL_foot = dL_foot.mean(axis=1)\n",
    "avg_dL_foot = np.repeat(avg_dL_foot[:, np.newaxis,:], 4, axis=1)\n",
    "avg_dR_foot = dR_foot.mean(axis=1)\n",
    "avg_dR_foot = np.repeat(avg_dR_foot[:, np.newaxis,:], 4, axis=1)\n",
    "avg_dL_shank= dL_shank.mean(axis=1)\n",
    "avg_dL_shank = np.repeat(avg_dL_shank[:, np.newaxis,:], 4, axis=1)\n",
    "avg_dR_shank= dR_shank.mean(axis=1)\n",
    "avg_dR_shank = np.repeat(avg_dR_shank[:, np.newaxis,:], 4, axis=1)\n",
    "avg_dL_thigh= dL_thigh.mean(axis=1)\n",
    "avg_dL_thigh = np.repeat(avg_dL_thigh[:, np.newaxis,:], 4, axis=1)\n",
    "avg_dR_thigh= dR_thigh.mean(axis=1)\n",
    "avg_dR_thigh = np.repeat(avg_dR_thigh[:, np.newaxis,:], 4, axis=1)\n",
    "avg_dPelvis= dPelvis.mean(axis=1)\n",
    "avg_dPelvis = np.repeat(avg_dPelvis[:, np.newaxis,:], 4, axis=1)\n",
    "\n",
    "# calculate the distance from the marker posisiton to the average position\n",
    "dif_dL_foot = dL_foot - avg_dL_foot\n",
    "dif_dR_foot = dR_foot - avg_dR_foot\n",
    "dif_dL_shank= dL_shank - avg_dL_shank\n",
    "dif_dR_shank= dR_shank - avg_dR_shank\n",
    "dif_dL_thigh= dL_thigh - avg_dL_thigh\n",
    "dif_dR_thigh= dR_thigh - avg_dR_thigh\n",
    "dif_dPelvis= dPelvis - avg_dPelvis"
   ]
  },
  {
   "cell_type": "code",
   "execution_count": null,
   "id": "fa14e11f-ac3f-44b0-a57c-742e2510f038",
   "metadata": {},
   "outputs": [],
   "source": [
    "# Repeat array to perform dot product on transposed array\n",
    "# Uncomment this if you figure out how to do without loop using \n",
    "# np.einsum('ijk,ij->ij', dif_dR_foot, dif_ac_R_foot)\n",
    "# dif_ac_R_footT = dif_ac_R_foot.T # Tranpose array\n",
    "# dif_ac_R_footT = np.repeat(dif_ac_R_footT[:,:,np.newaxis], \n",
    "#                           dif_dR_foot.shape[2], axis=2)\n",
    "\n",
    "# Preallocate angles\n",
    "angle_L_ankle = np.empty(shape=(dif_dL_foot.shape[2], 3)) * np.NaN\n",
    "angle_R_ankle = np.empty(shape=(dif_dR_foot.shape[2], 3)) * np.NaN\n",
    "angle_L_knee  = np.empty(shape=(dif_dL_foot.shape[2], 3)) * np.NaN\n",
    "angle_R_knee  = np.empty(shape=(dif_dR_foot.shape[2], 3)) * np.NaN\n",
    "angle_L_hip  = np.empty(shape=(dif_dL_foot.shape[2], 3)) * np.NaN\n",
    "angle_R_hip  = np.empty(shape=(dif_dR_foot.shape[2], 3)) * np.NaN\n",
    "angle_L_foot = np.empty(shape=(dif_dL_foot.shape[2], 3)) * np.NaN\n",
    "angle_R_foot = np.empty(shape=(dif_dR_foot.shape[2], 3)) * np.NaN\n",
    "angle_Pelvis = np.empty(shape=(dif_dR_foot.shape[2], 3)) * np.NaN\n",
    "for i in range(dif_dR_foot.shape[2]):\n",
    "    # step three of soderkvist\n",
    "    CL_foot = np.dot(dif_dL_foot[:,:,i], dif_ac_L_foot.T)\n",
    "    CR_foot = np.dot(dif_dR_foot[:,:,i], dif_ac_R_foot.T)\n",
    "    CL_shank= np.dot(dif_dL_shank[:,:,i], dif_ac_L_shank.T)\n",
    "    CR_shank= np.dot(dif_dR_shank[:,:,i], dif_ac_R_shank.T)\n",
    "    CL_thigh= np.dot(dif_dL_thigh[:,:,i], dif_ac_L_thigh.T)\n",
    "    CR_thigh= np.dot(dif_dR_thigh[:,:,i], dif_ac_R_thigh.T)\n",
    "    CPelvis= np.dot(dif_dPelvis[:,:,i], dif_ac_Pelvis.T)\n",
    "    \n",
    "    # step four singular value decomposition\n",
    "    PL_foot, TL_foot, QL_foot = np.linalg.svd(CL_foot)\n",
    "    TL_foot = np.diag(TL_foot)\n",
    "    \n",
    "    PR_foot, TR_foot, QR_foot = np.linalg.svd(CR_foot)\n",
    "    TR_foot = np.diag(TR_foot)\n",
    "\n",
    "    PL_shank, TL_shank, QL_shank = np.linalg.svd(CL_shank)\n",
    "    TL_shank = np.diag(TL_shank)\n",
    "    \n",
    "    PR_shank, TR_shank, QR_shank = np.linalg.svd(CR_shank)\n",
    "    TR_shank = np.diag(TR_shank)\n",
    "\n",
    "    PL_thigh, TL_thigh, QL_thigh = np.linalg.svd(CL_thigh)\n",
    "    TL_thigh = np.diag(TL_thigh)\n",
    "    \n",
    "    PR_thigh, TR_thigh, QR_thigh = np.linalg.svd(CR_thigh)\n",
    "    TR_thigh = np.diag(TR_thigh)\n",
    "    \n",
    "    PPelvis, TPelvis, QPelvis = np.linalg.svd(CPelvis)\n",
    "    TPelvis = np.diag(TPelvis)\n",
    "    \n",
    "    # step five - calculate a rotation matrix\n",
    "    # Foot\n",
    "    R_L_foot = np.dot(PL_foot, np.dot(np.diag([1, 1, \n",
    "                                           np.linalg.det(np.dot(PL_foot, \n",
    "                                                                QL_foot))]), \n",
    "                                  QL_foot))\n",
    "    \n",
    "    R_R_foot = np.dot(PR_foot, np.dot(np.diag([1, 1, \n",
    "                                               np.linalg.det(np.dot(PR_foot, \n",
    "                                                                    QR_foot))]), \n",
    "                                      QR_foot))\n",
    "    # Shank\n",
    "    R_L_shank = np.dot(PL_shank, np.dot(np.diag([1, 1, \n",
    "                                           np.linalg.det(np.dot(PL_shank, \n",
    "                                                                QL_shank))]), \n",
    "                                  QL_shank))\n",
    "    \n",
    "    R_R_shank = np.dot(PR_shank, np.dot(np.diag([1, 1, \n",
    "                                               np.linalg.det(np.dot(PR_shank, \n",
    "                                                                    QR_shank))]), \n",
    "                                      QR_shank))\n",
    "    \n",
    "    # Thigh\n",
    "    R_L_thigh = np.dot(PL_thigh, np.dot(np.diag([1, 1, \n",
    "                                               np.linalg.det(np.dot(PL_thigh, \n",
    "                                                                    QL_thigh))]), \n",
    "                                      QL_thigh))\n",
    "    \n",
    "    R_R_thigh = np.dot(PR_thigh, np.dot(np.diag([1, 1, \n",
    "                                               np.linalg.det(np.dot(PR_thigh, \n",
    "                                                                    QR_thigh))]), \n",
    "                                      QR_thigh))\n",
    "    \n",
    "    # Pelvis\n",
    "    R_Pelvis = np.dot(PPelvis, np.dot(np.diag([1, 1, \n",
    "                                               np.linalg.det(np.dot(PPelvis, \n",
    "                                                                    QPelvis))]), \n",
    "                                      QPelvis))\n",
    "    \n",
    "    # step six - calculate the displacement\n",
    "    dis_L_foot = avg_dL_foot[:,0,-1] - np.dot(R_L_foot, avg_ac_L_foot)\n",
    "    dis_R_foot = avg_dR_foot[:,0,-1] - np.dot(R_R_foot, avg_ac_R_foot)\n",
    "    dis_L_shank= avg_dL_shank[:,0,-1] - np.dot(R_L_shank, avg_ac_L_shank)\n",
    "    dis_R_shank= avg_dR_shank[:,0,-1] - np.dot(R_R_shank, avg_ac_R_shank)\n",
    "    dis_L_thigh= avg_dL_thigh[:,0,-1] - np.dot(R_L_thigh, avg_ac_L_thigh)\n",
    "    dis_R_thigh= avg_dR_thigh[:,0,-1] - np.dot(R_R_thigh, avg_ac_R_thigh)\n",
    "    dis_Pelvis= avg_dPelvis[:,0,-1] - np.dot(R_Pelvis, avg_ac_Pelvis)\n",
    "    \n",
    "    # combine the rotation matricies in a stack\n",
    "    RR_L_foot = np.vstack((np.hstack((R_L_foot,dis_L_foot[:,np.newaxis])),\n",
    "                      np.array([0,0,0,1], ndmin=2)))\n",
    "    RR_R_foot = np.vstack((np.hstack((R_R_foot,dis_R_foot[:,np.newaxis])),\n",
    "                      np.array([0,0,0,1], ndmin=2)))\n",
    "    RR_L_shank = np.vstack((np.hstack((R_L_shank,dis_L_shank[:,np.newaxis])),\n",
    "                          np.array([0,0,0,1], ndmin=2)))\n",
    "    RR_R_shank = np.vstack((np.hstack((R_R_shank,dis_R_shank[:,np.newaxis])),\n",
    "                          np.array([0,0,0,1], ndmin=2)))\n",
    "    RR_L_thigh = np.vstack((np.hstack((R_L_thigh,dis_L_thigh[:,np.newaxis])),\n",
    "                          np.array([0,0,0,1], ndmin=2)))\n",
    "    RR_R_thigh = np.vstack((np.hstack((R_R_thigh,dis_R_thigh[:,np.newaxis])),\n",
    "                          np.array([0,0,0,1], ndmin=2)))\n",
    "    RR_Pelvis = np.vstack((np.hstack((R_Pelvis,dis_Pelvis[:,np.newaxis])),\n",
    "                          np.array([0,0,0,1], ndmin=2)))\n",
    "    \n",
    "    \n",
    "    # %% calculate segment angles\n",
    "    #     % FOOT\n",
    "    #     % the rotation matrix of the foot to lab (R.L_foot) is simply a\n",
    "    #     % combination of the XYZ axes of the segment coordinate system unit\n",
    "    #     % vectors\n",
    "    #     %   footX_labx     footY_labx     footZ_labx\n",
    "    #     %   footX_laby     footY_laby     footZ_laby\n",
    "    #     %   footX_labz     footY_labz     footZ_labz\n",
    "    #     % so in order to calculate foot progression angle / heel whip ...\n",
    "    #     % Collect the angle of the long axis of the foot about the\n",
    "    #     % vertical axis of the foot.\n",
    "    #     % Also by projecting the foot into the sagital plane, we have\n",
    "    #     % information to determine heelstrikers or FOREFOOT strikers when\n",
    "    #     % identifying events\n",
    "\n",
    "    #     % angle of the vertical axis of the foot projected into the frontal plane\n",
    "    #     %   from a posterior view, 'vertical vector' in the first quadrant is\n",
    "    #     %   postitive and second quadrant is negative\n",
    "    #     %   . ie. inversion is negative and eversion is positive for the LEFT\n",
    "    #     % note that this is projected into the frontal plane so cross talk is\n",
    "    #     % present ... dorsi flexion with an abducted foot creates lots of \"inversion\"\n",
    "    angle_L_foot[i,0] = np.arctan(RR_L_foot[0,1]/np.sqrt(RR_L_foot[1,1]**2 + RR_L_foot[2,1]**2))\n",
    "    # angle of the long axis of the foot about the vertical axis\n",
    "    angle_L_foot[i,1] = np.arctan(-RR_L_foot[0,0]/np.sqrt(RR_L_foot[1,0]**2 + RR_L_foot[2,0]**2))\n",
    "    # and project the long axis into the sagital plane for ID of FOREFOOT\n",
    "    angle_L_foot[i,2] = np.arctan2(RR_L_foot[1,0], -R_L_foot[2,0])\n",
    "\n",
    "    #     % angle of the vertical axis of the foot projected into the frontal plane\n",
    "    #     %   from a posterior view, 'vertical vector' in the first quadrant is\n",
    "    #     %   postitive and second quadrant is negative\n",
    "    #     %   . ie. inversion is positive and eversion is negative for the RIGHT\n",
    "    \n",
    "    angle_R_foot[i,0] = np.arctan(RR_R_foot[0,1]/np.sqrt(RR_R_foot[1,1]**2 + RR_R_foot[2,1]**2))\n",
    "    # angle of the long axis of the foot about the vertical axis\n",
    "    angle_R_foot[i,1] = np.arctan(RR_R_foot[0,0]/np.sqrt(RR_R_foot[1,0]**2 + RR_R_foot[2,0]**2))\n",
    "    # and project the long axis into the sagital plane for ID of FOREFOOT\n",
    "    angle_R_foot[i,2] = np.arctan2(RR_R_foot[1,0], -R_R_foot[2,0])\n",
    "    \n",
    "    # % PELVIS\n",
    "    # % project lateral axis of pelvis\n",
    "    angle_Pelvis[i,0] = np.arctan2(RR_Pelvis[0,2],RR_Pelvis[2,2]) - np.pi/2 #into floor plane\n",
    "    angle_Pelvis[i,1] = np.arctan(RR_Pelvis[1,2]/RR_Pelvis[0,2]) #into frontal plane\n",
    "    #% and project anterior axis of pelvis\n",
    "    angle_Pelvis[i,2] = np.arctan2(RR_Pelvis[1,0],-RR_Pelvis[2,0])#into sagital plane\n",
    "\n",
    "    # %% calculate joint angles\n",
    "    # % need rotation matrix from shank to foot ...\n",
    "    # % so multiply [lab to shank] with [foot to lab]\n",
    "    R_L_ankle = np.dot(RR_L_shank.T, RR_L_foot)\n",
    "    R_R_ankle = np.dot(RR_R_shank.T, RR_R_foot)\n",
    "    R_L_knee = np.dot(RR_L_thigh.T, RR_L_shank)\n",
    "    R_R_knee = np.dot(RR_R_thigh.T, RR_R_shank)\n",
    "    R_L_hip = np.dot(RR_Pelvis.T, RR_L_thigh)\n",
    "    R_R_hip = np.dot(RR_Pelvis.T, RR_R_thigh)\n",
    "    \n",
    "    #np.set_printoptions(suppress=True)\n",
    "\n",
    "\n",
    "    # % CARDANANGLES uses this rotation matrix to calculate angles\n",
    "    #     %   | CzCy-SzSySx  SzCy+CzSySx  -SyCx |\n",
    "    #     %   | -SzCx        CzCx         Sx    |\n",
    "    #     %   | CzSy+SzCySx  SzSy-CzCySx  CyCx  |\n",
    "    angle_L_ankle[i,:] = cardanangles(R_L_ankle)\n",
    "    angle_R_ankle[i,:] = cardanangles(R_R_ankle)\n",
    "    angle_L_knee[i,:] = cardanangles(R_L_knee)\n",
    "    angle_R_knee[i,:] = cardanangles(R_R_knee)\n",
    "    angle_L_hip[i,:] = cardanangles(R_L_hip)\n",
    "    angle_R_hip[i,:] = cardanangles(R_R_hip)"
   ]
  },
  {
   "cell_type": "code",
   "execution_count": null,
   "id": "333a1c74-8687-4585-aa68-616a5a74b1e8",
   "metadata": {},
   "outputs": [],
   "source": []
  },
  {
   "cell_type": "markdown",
   "id": "f1c98e09-7021-45a1-9dfd-31f5da62149e",
   "metadata": {
    "tags": []
   },
   "source": [
    "### RIC data"
   ]
  },
  {
   "cell_type": "code",
   "execution_count": null,
   "id": "6694e5b1-a3cc-486d-8924-2b7588f2ae78",
   "metadata": {},
   "outputs": [],
   "source": [
    "sub_id = '101679'\n",
    "trial = '20160226T120637'"
   ]
  },
  {
   "cell_type": "code",
   "execution_count": null,
   "id": "997de5d7-61ba-4584-bd3f-8b91da025d67",
   "metadata": {},
   "outputs": [],
   "source": [
    "figshare_dir = r'C:\\Users\\Reginaldo\\OneDrive - University of Calgary\\data\\Figshare_SciData\\new_unzip'\n",
    "# This subject and trial is the best match for speed of 3.5 m/s and age\n",
    "fn_json=os.path.join(figshare_dir, sub_id, trial+'.json')\n",
    "neutral_RIC, joints_RIC, gait_RIC, hz_RIC = parse_gait.parse_RIC(fn_json)"
   ]
  },
  {
   "cell_type": "code",
   "execution_count": null,
   "id": "5349927c-2ad4-4e3c-a1e9-8b294e4c0b93",
   "metadata": {},
   "outputs": [],
   "source": [
    "angle_L_ankle, angle_R_ankle, angle_L_knee, angle_R_knee, angle_L_hip, angle_R_hip, angle_L_foot, angle_R_foot, angle_Pelvis = gait_kinematics(joints_RIC, neutral_RIC, gait_RIC, hz_RIC)\n",
    "# Create dataframe column corresponding to the dataset\n",
    "joints_lbls = ['pelvis','L_foot','R_foot','L_hip','R_hip','L_knee','R_knee',\n",
    "               'L_ankle','R_ankle']\n",
    "xyz = list('XYZ')*len(joints_lbls)\n",
    "joints_lbls = [ele for ele in joints_lbls for i in range(3)]\n",
    "joints_lbls = [joints_lbls[i]+'_'+xyz[i] for i in range(len(xyz))]\n",
    "\n",
    "# Convert to degrees\n",
    "angle_L_ankle, angle_R_ankle = angle_L_ankle*(180/np.pi), angle_R_ankle*(180/np.pi)\n",
    "angle_L_knee, angle_R_knee   = angle_L_knee*(180/np.pi), angle_R_knee*(180/np.pi)\n",
    "angle_L_hip, angle_R_hip     = angle_L_hip*(180/np.pi), angle_R_hip*(180/np.pi)\n",
    "angle_L_foot, angle_R_foot   = angle_L_foot*(180/np.pi), angle_R_foot*(180/np.pi)\n",
    "angle_Pelvis  = angle_Pelvis * (180/np.pi)\n",
    "# Create a pandas df with angles\n",
    "angs = np.hstack([angle_Pelvis, angle_L_foot, angle_R_foot, \n",
    "                  angle_L_hip, angle_R_hip, angle_L_knee, angle_R_knee, \n",
    "                  angle_L_ankle, angle_R_ankle])\n",
    "angles_RIC = pd.DataFrame(data=angs, columns=joints_lbls)"
   ]
  },
  {
   "cell_type": "code",
   "execution_count": null,
   "id": "d4d26bcb-8824-4e8d-aa19-d80fc9d40157",
   "metadata": {},
   "outputs": [],
   "source": [
    "# Get gait events\n",
    "L_TD_RIC, L_TO_RIC, R_TD_RIC, R_TO_RIC, eventsflag_RIC, label_RIC = gait_steps(neutral_RIC, gait_RIC, angles_RIC, hz_RIC)\n",
    "\n",
    "RTD_RIC, RTO_RIC = R_TD_RIC.astype(int).tolist(), R_TO_RIC.astype(int).tolist()\n",
    "LTD_RIC, LTO_RIC = L_TD_RIC.astype(int).tolist(), L_TO_RIC.astype(int).tolist()"
   ]
  },
  {
   "cell_type": "markdown",
   "id": "12101ac9-f88e-411e-88da-863869d3394e",
   "metadata": {},
   "source": [
    "## RBDS"
   ]
  },
  {
   "cell_type": "code",
   "execution_count": null,
   "id": "c1110d2e-b777-4116-8a11-e4c17b5c4f48",
   "metadata": {},
   "outputs": [],
   "source": [
    "data_dir = r'C:\\Users\\Reginaldo\\Documents\\data\\CNPq\\RBDS_v2\\Figshare'\n",
    "fn_static = os.path.join(data_dir,'RBDS028static.c3d')\n",
    "fn_gait = os.path.join(data_dir,'RBDS028runT35.c3d')\n",
    "neutral_RBDS, joints_RBDS, gait_RBDS, hz_RBDS = parse_gait.parse_RBDS(fn_static, fn_gait)\n",
    "\n",
    "angle_L_ankle, angle_R_ankle, angle_L_knee, angle_R_knee, angle_L_hip, angle_R_hip, angle_L_foot, angle_R_foot, angle_Pelvis = gait_kinematics(joints_RBDS, neutral_RBDS, gait_RBDS, hz_RBDS)\n",
    "\n",
    "# Create dataframe column corresponding to the dataset\n",
    "joints_lbls = ['pelvis','L_foot','R_foot','L_hip','R_hip','L_knee','R_knee',\n",
    "               'L_ankle','R_ankle']\n",
    "xyz = list('XYZ')*len(joints_lbls)\n",
    "joints_lbls = [ele for ele in joints_lbls for i in range(3)]\n",
    "joints_lbls = [joints_lbls[i]+'_'+xyz[i] for i in range(len(xyz))]\n",
    "\n",
    "# Convert to degrees\n",
    "angle_L_ankle, angle_R_ankle = angle_L_ankle*(180/np.pi), angle_R_ankle*(180/np.pi)\n",
    "angle_L_knee, angle_R_knee   = angle_L_knee*(180/np.pi), angle_R_knee*(180/np.pi)\n",
    "angle_L_hip, angle_R_hip     = angle_L_hip*(180/np.pi), angle_R_hip*(180/np.pi)\n",
    "angle_L_foot, angle_R_foot   = angle_L_foot*(180/np.pi), angle_R_foot*(180/np.pi)\n",
    "angle_Pelvis  = angle_Pelvis * (180/np.pi)\n",
    "# Create a pandas df with angles\n",
    "angs = np.hstack([angle_Pelvis, angle_L_foot, angle_R_foot, \n",
    "                  angle_L_hip, angle_R_hip, angle_L_knee, angle_R_knee, \n",
    "                  angle_L_ankle, angle_R_ankle])\n",
    "angles_RBDS = pd.DataFrame(data=angs, columns=joints_lbls)\n",
    "\n",
    "# Get gait events\n",
    "L_TD_RBDS, L_TO_RBDS, R_TD_RBDS, R_TO_RBDS, eventsflag_RBDS, label_RBDS = gait_steps(neutral_RBDS, gait_RBDS, angles_RBDS, hz_RBDS)\n",
    "\n",
    "RTD_RBDS, RTO_RBDS = R_TD_RBDS.astype(int).tolist(), R_TO_RBDS.astype(int).tolist()\n",
    "LTD_RBDS, LTO_RBDS = L_TD_RBDS.astype(int).tolist(), L_TO_RBDS.astype(int).tolist()"
   ]
  },
  {
   "cell_type": "code",
   "execution_count": null,
   "id": "55d093be-30d6-4971-b120-c517601f6d6b",
   "metadata": {},
   "outputs": [],
   "source": [
    "joint='ankle'"
   ]
  },
  {
   "cell_type": "code",
   "execution_count": null,
   "id": "b702aef2-840d-4c01-a0ee-9cd8794897d3",
   "metadata": {},
   "outputs": [],
   "source": [
    "angle_L_RIC = angles_RIC.filter(like='L_'+joint, axis=1).values\n",
    "angle_R_RIC = angles_RIC.filter(like='R_'+joint, axis=1).values"
   ]
  },
  {
   "cell_type": "code",
   "execution_count": null,
   "id": "0c8d3833-198f-4dc3-a9b7-c335d589e888",
   "metadata": {},
   "outputs": [],
   "source": [
    "angle_L_RBDS = angles_RBDS.filter(like='L_'+joint, axis=1).values\n",
    "angle_R_RBDS = angles_RBDS.filter(like='R_'+joint, axis=1).values"
   ]
  },
  {
   "cell_type": "code",
   "execution_count": null,
   "id": "82180577-f52e-4794-aa57-e36239319e11",
   "metadata": {},
   "outputs": [],
   "source": [
    "# RIC dataset\n",
    "fig, axs = plt.subplots(3,2, figsize=(10,6))\n",
    "fig.suptitle('RIGHT '+joint.upper()+' angles')\n",
    "# RIC\n",
    "for i in range(len(RTD_RIC)-1):\n",
    "    axs[0,0].plot(angle_R_RIC[RTD_RIC[i]:RTD_RIC[i+1],0])\n",
    "    axs[0,0].set_ylabel('X')\n",
    "    axs[0,0].grid('on')\n",
    "    axs[0,0].set_title('RIC')\n",
    "    axs[1,0].plot(angle_R_RIC[RTD_RIC[i]:RTD_RIC[i+1],1])\n",
    "    axs[1,0].set_ylabel('Y')\n",
    "    axs[1,0].grid('on')\n",
    "    axs[2,0].plot(angle_R_RIC[RTD_RIC[i]:RTD_RIC[i+1],2])\n",
    "    axs[2,0].set_ylabel('Z')\n",
    "    axs[2,0].grid('on')\n",
    "    \n",
    "for i in range(len(RTD_RBDS)-1):\n",
    "    axs[0,1].plot(angle_R_RBDS[RTD_RBDS[i]:RTD_RBDS[i+1],0])\n",
    "    axs[0,1].set_ylabel('X')\n",
    "    axs[0,1].grid('on')\n",
    "    axs[0,1].set_title('RBDS')\n",
    "    axs[1,1].plot(angle_R_RBDS[RTD_RBDS[i]:RTD_RBDS[i+1],1])\n",
    "    axs[1,1].set_ylabel('Y')\n",
    "    axs[1,1].grid('on')\n",
    "    axs[2,1].plot(angle_R_RBDS[RTD_RBDS[i]:RTD_RBDS[i+1],2])\n",
    "    axs[2,1].set_ylabel('Z')\n",
    "    axs[2,1].grid('on')\n",
    "plt.show()"
   ]
  },
  {
   "cell_type": "code",
   "execution_count": null,
   "id": "84adc7b0-d876-407a-a23a-e720597d3989",
   "metadata": {},
   "outputs": [],
   "source": [
    "# RIC dataset\n",
    "fig, axs = plt.subplots(3,2, figsize=(10,6))\n",
    "fig.suptitle('LEFT '+joint.upper()+' angles')\n",
    "# RIC\n",
    "for i in range(len(RTD_RIC)-1):\n",
    "    axs[0,0].plot(angle_L_RIC[LTD_RIC[i]:LTD_RIC[i+1],0])\n",
    "    axs[0,0].set_ylabel('X')\n",
    "    axs[0,0].grid('on')\n",
    "    axs[0,0].set_title('RIC')\n",
    "    axs[1,0].plot(angle_L_RIC[LTD_RIC[i]:LTD_RIC[i+1],1])\n",
    "    axs[1,0].set_ylabel('Y')\n",
    "    axs[1,0].grid('on')\n",
    "    axs[2,0].plot(angle_L_RIC[LTD_RIC[i]:LTD_RIC[i+1],2])\n",
    "    axs[2,0].set_ylabel('Z')\n",
    "    axs[2,0].grid('on')\n",
    "    \n",
    "for i in range(len(RTD_RBDS)-1):\n",
    "    axs[0,1].plot(angle_L_RBDS[LTD_RBDS[i]:LTD_RBDS[i+1],0])\n",
    "    axs[0,1].set_ylabel('X')\n",
    "    axs[0,1].grid('on')\n",
    "    axs[0,1].set_title('RBDS')\n",
    "    axs[1,1].plot(angle_L_RBDS[LTD_RBDS[i]:LTD_RBDS[i+1],1])\n",
    "    axs[1,1].set_ylabel('Y')\n",
    "    axs[1,1].grid('on')\n",
    "    axs[2,1].plot(angle_L_RBDS[LTD_RBDS[i]:LTD_RBDS[i+1],2])\n",
    "    axs[2,1].set_ylabel('Z')\n",
    "    axs[2,1].grid('on')\n",
    "plt.show()"
   ]
  },
  {
   "cell_type": "markdown",
   "id": "23d21fe2-af84-4172-9bb3-7bf8ff196d2c",
   "metadata": {
    "tags": []
   },
   "source": [
    "### Supporting functions"
   ]
  },
  {
   "cell_type": "code",
   "execution_count": null,
   "id": "3a772a5a-daba-4bb4-8bb0-cdd7c6ff17f8",
   "metadata": {},
   "outputs": [],
   "source": [
    "def f7(seq):\n",
    "    seen = set()\n",
    "    seen_add = seen.add\n",
    "    return [x for x in seq if not (x in seen or seen_add(x))]\n",
    "\n",
    "def loadmat(filename):\n",
    "    '''\n",
    "    this function should be called instead of direct spio.loadmat\n",
    "    as it cures the problem of not properly recovering python dictionaries\n",
    "    from mat files. It calls the function check keys to cure all entries\n",
    "    which are still mat-objects\n",
    "    '''\n",
    "    import scipy.io as spio\n",
    "    \n",
    "    def _check_keys(d):\n",
    "        '''\n",
    "        checks if entries in dictionary are mat-objects. If yes\n",
    "        todict is called to change them to nested dictionaries\n",
    "        '''\n",
    "        for key in d:\n",
    "            if isinstance(d[key], spio.matlab.mat_struct):\n",
    "                d[key] = _todict(d[key])\n",
    "        return d\n",
    "\n",
    "    def _todict(matobj):\n",
    "        '''\n",
    "        A recursive function which constructs from matobjects nested dictionaries\n",
    "        '''\n",
    "        d = {}\n",
    "        for strg in matobj._fieldnames:\n",
    "            elem = matobj.__dict__[strg]\n",
    "            if isinstance(elem, spio.matlab.mat_struct):\n",
    "                d[strg] = _todict(elem)\n",
    "            elif isinstance(elem, np.ndarray):\n",
    "                d[strg] = _tolist(elem)\n",
    "            else:\n",
    "                d[strg] = elem\n",
    "        return d\n",
    "\n",
    "    def _tolist(ndarray):\n",
    "        '''\n",
    "        A recursive function which constructs lists from cellarrays\n",
    "        (which are loaded as numpy ndarrays), recursing into the elements\n",
    "        if they contain matobjects.\n",
    "        '''\n",
    "        elem_list = []\n",
    "        for sub_elem in ndarray:\n",
    "            if isinstance(sub_elem, spio.matlab.mat_struct):\n",
    "                elem_list.append(_todict(sub_elem))\n",
    "            elif isinstance(sub_elem, np.ndarray):\n",
    "                elem_list.append(_tolist(sub_elem))\n",
    "            else:\n",
    "                elem_list.append(sub_elem)\n",
    "        return elem_list\n",
    "    data = spio.loadmat(filename, struct_as_record=False, squeeze_me=True)\n",
    "    return _check_keys(data)\n",
    "\n",
    "def loadjson(filename):\n",
    "    import json # import library\n",
    "    with open(fn_json, 'r') as f:\n",
    "        data = json.load(f)\n",
    "    \n",
    "    return data\n",
    "\n",
    "def cardanangles(r):\n",
    "    '''\n",
    "    %%%%%%%%%%%%%%%%%%%%%%%%%%%%%%%%%%%%%%%%%%%%%%%%%%%%%%%%%%%%%%%%%%%%%%%%%%%\n",
    "    # %   This function inputs the ROTATION matrix for a given joint\n",
    "    # %   at one point in time and uses the cardan angles sequence to\n",
    "    # %   provide the XYZ joint angles in OUT argument\n",
    "    # %\n",
    "    # %   The function uses the following  rotation matrix to calculate angles\n",
    "    # %      | CzCy-SzSySx  SzCy+CzSySx  -SyCx |\n",
    "    # %      | -SzCx        CzCx         Sx    |\n",
    "    # %      | CzSy+SzCySx  SzSy-CzCySx  CyCx  |\n",
    "    # %  INPUTS\n",
    "    # %  --------\n",
    "    # %   R (mat):    A 3x3 rotation matrix for a joint\n",
    "\n",
    "    # %  OUTPUTS\n",
    "    # %  -------\n",
    "    # %  OUT (mat):      The three (1x3) planes of rotation in radians\n",
    "    # %%%%%%%%%%%%%%%%%%%%%%%%%%%%%%%%%%%%%%%%%%%%%%%%%%%%%%%%%%%%%%%%%%%%%%%%%%%\n",
    "    # %%\n",
    "    # %   angle.L_ankle(i,:) = cardanangles(R.L_ankle(:,:,i));\n",
    "\n",
    "    # % the use of atan2 increases the stability by avoiding gimble lock in\n",
    "    # % the physiologicaly posible range of joint angles.\n",
    "    '''\n",
    "    # Prepare Python environment\n",
    "    import numpy as np\n",
    "    x = np.arctan2(r[1,2], np.sqrt(r[0,2]**2+r[2,2]**2))\n",
    "    y = np.arctan2(-r[0,2], r[2,2])\n",
    "    z = np.arctan2(-r[1,0], r[1,1])\n",
    "\n",
    "    out = np.array([x,y,z])\n",
    "\n",
    "    return out"
   ]
  },
  {
   "cell_type": "markdown",
   "id": "b36bbdde-834c-44af-baaf-220831fb0014",
   "metadata": {
    "tags": []
   },
   "source": [
    "### RBDS data"
   ]
  },
  {
   "cell_type": "markdown",
   "id": "cf99c499-07bf-4fde-a57f-bfa40b0d51c0",
   "metadata": {
    "tags": []
   },
   "source": [
    "### RIC data"
   ]
  },
  {
   "cell_type": "code",
   "execution_count": null,
   "id": "6f324bd7-ff7d-4179-8e64-61a553aa47f5",
   "metadata": {},
   "outputs": [],
   "source": [
    "figshare_dir = r'C:\\Users\\Reginaldo\\OneDrive - University of Calgary\\data\\Figshare_SciData\\new_unzip'\n",
    "fn_json=os.path.join(figshare_dir, '201225', '20140515T133244.json')\n",
    "neutral_RIC, joints_RIC, gait_RIC, hz_RIC = parse_gait.parse_RIC(fn_json)"
   ]
  },
  {
   "cell_type": "markdown",
   "id": "7c8b3881-0602-4d1e-8f5f-a3112ae3a6bf",
   "metadata": {
    "tags": []
   },
   "source": [
    "### RIC data"
   ]
  },
  {
   "cell_type": "code",
   "execution_count": null,
   "id": "f6193729-bf7e-4aa4-8236-a8783ecb1409",
   "metadata": {},
   "outputs": [],
   "source": [
    "figshare_dir = r'C:\\Users\\Reginaldo\\OneDrive - University of Calgary\\data\\Figshare_SciData\\new_unzip'\n",
    "fn_json=os.path.join(figshare_dir, '201225', '20140515T133244.json')\n",
    "neutral_RIC, joints_RIC, gait_RIC, hz_RIC = parse_gait.parse_RIC(fn_json)"
   ]
  },
  {
   "cell_type": "code",
   "execution_count": null,
   "id": "05f6a05f-5829-415b-91bd-a22e50191446",
   "metadata": {},
   "outputs": [],
   "source": [
    "neutral_RIC"
   ]
  },
  {
   "cell_type": "code",
   "execution_count": null,
   "id": "6f9a483e-e586-4714-aa48-d03d46f6bc6f",
   "metadata": {},
   "outputs": [],
   "source": [
    "mkr_S = neutral_RIC.values.flatten()\n",
    "# Marker labels list\n",
    "mkr_S_lbl = [neutral_RIC.columns.tolist()[i][:-2] for i in range(mkr_S.shape[0])]\n",
    "mkr_S_lbl_ = f7(mkr_S_lbl)"
   ]
  },
  {
   "cell_type": "code",
   "execution_count": null,
   "id": "d498f8b8-2f21-42b3-a6fa-ceeece6b51cb",
   "metadata": {},
   "outputs": [],
   "source": [
    "from mpl_toolkits.mplot3d import Axes3D\n",
    "fig = plt.figure(figsize=(8, 10))\n",
    "ax = fig.add_subplot(111, projection='3d',  facecolor='white')\n",
    "#ax.view_init(15, 20)\n",
    "\n",
    "ax.scatter(mkr_S[0:-3:3], mkr_S[2:-1:3], mkr_S[1:-2:3], c='r', s=30, depthshade=False)\n",
    "for m, mkr_lbl in enumerate(mkr_S_lbl_):\n",
    "    ax.text(mkr_S[3*m], mkr_S[3*m+2], mkr_S[3*m+1], mkr_lbl)\n",
    "\n",
    "ax.set_xlim3d([np.nanmin(mkr_S[0::3])-.4, np.nanmax(mkr_S[0::3])+.4])\n",
    "ax.set_zlim3d([np.nanmin(mkr_S[1::3])-.4, np.nanmax(mkr_S[1::3])+.4])\n",
    "ax.set_ylim3d([np.nanmin(mkr_S[2::3]), np.nanmax(mkr_S[2::3])])\n",
    "ax.set_xlabel('\\n' + 'X [m]', linespacing=2)\n",
    "ax.set_zlabel('\\n' + 'Y [m]', linespacing=2)\n",
    "ax.set_ylabel('\\n' + 'Z [m]', linespacing=2)\n",
    "#ax.invert_yaxis()\n",
    "# square plot\n",
    "ax.set_aspect('equal', adjustable='box')\n",
    "plt.show()"
   ]
  },
  {
   "cell_type": "code",
   "execution_count": null,
   "id": "63ca2546-6b7e-41a0-8c18-5ece3b3943f5",
   "metadata": {},
   "outputs": [],
   "source": [
    "eng.workspace['junta'] = joints_dic"
   ]
  },
  {
   "cell_type": "code",
   "execution_count": null,
   "id": "3c190169-a6bc-4838-bd76-e4c7fab9e770",
   "metadata": {},
   "outputs": [],
   "source": [
    "matlab.double(joints_dic)"
   ]
  },
  {
   "cell_type": "code",
   "execution_count": null,
   "id": "71c404a4-a2b4-4dbb-a8bc-35d2a3ec55f9",
   "metadata": {},
   "outputs": [],
   "source": [
    "\n",
    "\n",
    "\n",
    "L_FFi, L_FBi, L_block_start, block_end = eng.largest_block(matlab.double(list(L_FFi)), \n",
    "                                                             matlab.double(list(L_FBi)), nargout=4)"
   ]
  },
  {
   "cell_type": "code",
   "execution_count": null,
   "id": "96d164f1-fc94-454f-87e5-3982d67a41f3",
   "metadata": {},
   "outputs": [],
   "source": []
  },
  {
   "cell_type": "code",
   "execution_count": null,
   "id": "5535970e-c724-47aa-a246-b45f7f922641",
   "metadata": {},
   "outputs": [],
   "source": [
    "[angles,velocities,jc,R,djc] = gait_kinematics(joints,neutral,dynamic,hz,plots)"
   ]
  },
  {
   "cell_type": "code",
   "execution_count": null,
   "id": "e95e7ad9-abf2-4aa4-9c23-7a96f9c50451",
   "metadata": {},
   "outputs": [],
   "source": []
  },
  {
   "cell_type": "code",
   "execution_count": null,
   "id": "cd563b4c-f83c-44be-93cb-e9d84588a647",
   "metadata": {},
   "outputs": [],
   "source": []
  },
  {
   "cell_type": "code",
   "execution_count": null,
   "id": "6935c516-0690-40bc-a036-e38f4f9614ac",
   "metadata": {},
   "outputs": [],
   "source": [
    "mkr_S = neutral_RBDS.values.flatten()\n",
    "# Marker labels list\n",
    "mkr_S_lbl = [neutral_RBDS.columns.tolist()[i][:-2] for i in range(mkr_S.shape[0])]\n",
    "mkr_S_lbl_ = f7(mkr_S_lbl)"
   ]
  },
  {
   "cell_type": "code",
   "execution_count": null,
   "id": "5219246e-e870-409e-a332-2266b48d988e",
   "metadata": {},
   "outputs": [],
   "source": [
    "from mpl_toolkits.mplot3d import Axes3D\n",
    "fig = plt.figure(figsize=(8, 10))\n",
    "ax = fig.add_subplot(111, projection='3d',  facecolor='white')\n",
    "#ax.view_init(15, 20)\n",
    "\n",
    "ax.scatter(mkr_S[0:-3:3], mkr_S[2:-1:3], mkr_S[1:-2:3], c='r', s=30, depthshade=False)\n",
    "for m, mkr_lbl in enumerate(mkr_S_lbl_):\n",
    "    ax.text(mkr_S[3*m], mkr_S[3*m+2], mkr_S[3*m+1], mkr_lbl)\n",
    "\n",
    "ax.set_xlim3d([np.nanmin(mkr_S[0::3])-.4, np.nanmax(mkr_S[0::3])+.4])\n",
    "ax.set_zlim3d([np.nanmin(mkr_S[1::3])-.4, np.nanmax(mkr_S[1::3])+.4])\n",
    "ax.set_ylim3d([np.nanmin(mkr_S[2::3]), np.nanmax(mkr_S[2::3])])\n",
    "ax.set_xlabel('\\n' + 'X [m]', linespacing=2)\n",
    "ax.set_zlabel('\\n' + 'Y [m]', linespacing=2)\n",
    "ax.set_ylabel('\\n' + 'Z [m]', linespacing=2)\n",
    "#ax.invert_yaxis()\n",
    "# square plot\n",
    "ax.set_aspect('equal', adjustable='box')\n",
    "plt.show()"
   ]
  },
  {
   "cell_type": "code",
   "execution_count": null,
   "id": "989631d0-ec17-443c-a438-d993906d044b",
   "metadata": {},
   "outputs": [],
   "source": []
  },
  {
   "cell_type": "code",
   "execution_count": null,
   "id": "3bdd318c-e203-4d72-b672-1f8f0fee0dfe",
   "metadata": {},
   "outputs": [],
   "source": []
  },
  {
   "cell_type": "code",
   "execution_count": null,
   "id": "3b20a638-913e-428e-a834-041dff0bda93",
   "metadata": {},
   "outputs": [],
   "source": [
    "# Import gait events calculated in Matlab\n",
    "fn_f_matlab = os.path.join(pathname, 'events_RBDS.txt')\n",
    "events = np.loadtxt(fn_f_matlab)"
   ]
  },
  {
   "cell_type": "code",
   "execution_count": null,
   "id": "5c65c7f8-8fca-47e9-991d-abb1667b5ed6",
   "metadata": {},
   "outputs": [],
   "source": [
    "events[:,2]"
   ]
  },
  {
   "cell_type": "code",
   "execution_count": null,
   "id": "6d9faae4-7c7e-46a3-b032-c2d96dbc9963",
   "metadata": {},
   "outputs": [],
   "source": [
    "np.array(R_TD)"
   ]
  },
  {
   "cell_type": "code",
   "execution_count": null,
   "id": "623ba000-d724-4874-8cc6-d1ab6abadd52",
   "metadata": {},
   "outputs": [],
   "source": [
    "events[:,2]-np.array(R_TD)"
   ]
  },
  {
   "cell_type": "markdown",
   "id": "99e83643-df40-44dc-8a5a-41be2cf4a0ba",
   "metadata": {
    "tags": []
   },
   "source": [
    "## Plot compare outputs"
   ]
  },
  {
   "cell_type": "code",
   "execution_count": null,
   "id": "14968dab-7b84-455a-87d4-79e1772c5327",
   "metadata": {},
   "outputs": [],
   "source": [
    "pathname = r'../functions'"
   ]
  },
  {
   "cell_type": "code",
   "execution_count": null,
   "id": "54126aae-bca7-452f-bd00-2f84b4c6856d",
   "metadata": {},
   "outputs": [],
   "source": [
    "tn = np.linspace(0,angle_R_ankle.shape[0],num=angle_R_ankle.shape[0])"
   ]
  },
  {
   "cell_type": "code",
   "execution_count": null,
   "id": "c89cd2f7-59c9-4d8f-acb1-a2c6db361842",
   "metadata": {},
   "outputs": [],
   "source": [
    "# Import foot angles calculated in Matlab\n",
    "fn_f_matlab = os.path.join(pathname, 'L_foot_angle_RBDSmat.txt')\n",
    "angf_matlab = np.loadtxt(fn_f_matlab) * (np.pi/180)"
   ]
  },
  {
   "cell_type": "code",
   "execution_count": null,
   "id": "d482e315-f793-49da-a87a-e57dfc9bc923",
   "metadata": {},
   "outputs": [],
   "source": [
    "fig, axs = plt.subplots(1,3, figsize=(10,6))\n",
    "fig.suptitle('Comparison of left foot angles between methods')\n",
    "axs[0].plot(angle_L_foot[:,0], 'b', label='Python')\n",
    "axs[0].plot(tn[0::5],angf_matlab[0::5,0], 'bo', label='Matlab')\n",
    "axs[0].grid('on')\n",
    "axs[1].plot(angle_L_foot[:,1], 'r', label='Python')\n",
    "axs[1].plot(tn[0::5],angf_matlab[0::5,1], 'ro', label='Matlab')\n",
    "axs[1].grid('on')\n",
    "axs[2].plot(angle_L_foot[:,2], 'g', label='Python')\n",
    "axs[2].plot(tn[0::5],angf_matlab[0::5,2], 'go', label='Matlab')\n",
    "axs[2].grid('on')\n",
    "plt.show()"
   ]
  },
  {
   "cell_type": "code",
   "execution_count": null,
   "id": "0cd70a60-89e4-4620-a6ac-5bced3357784",
   "metadata": {},
   "outputs": [],
   "source": [
    "# Import foot angles calculated in Matlab\n",
    "fn_f_matlab = os.path.join(pathname, 'r_foot_angle_RBDSmat.txt')\n",
    "angf_matlab = np.loadtxt(fn_f_matlab) * (np.pi/180)"
   ]
  },
  {
   "cell_type": "code",
   "execution_count": null,
   "id": "7788a7d1-d293-49e4-a8f1-cbecff41d756",
   "metadata": {},
   "outputs": [],
   "source": [
    "fig, axs = plt.subplots(1,3, figsize=(10,6))\n",
    "fig.suptitle('Comparison of right foot angles between methods')\n",
    "axs[0].plot(angle_R_foot[:,0], 'b', label='Python')\n",
    "axs[0].plot(tn[0::5],angf_matlab[0::5,0], 'bo', label='Matlab')\n",
    "axs[0].grid('on')\n",
    "axs[1].plot(angle_R_foot[:,1], 'r', label='Python')\n",
    "axs[1].plot(tn[0::5],angf_matlab[0::5,1], 'ro', label='Matlab')\n",
    "axs[1].grid('on')\n",
    "axs[2].plot(angle_R_foot[:,2], 'g', label='Python')\n",
    "axs[2].plot(tn[0::5],angf_matlab[0::5,2], 'go', label='Matlab')\n",
    "axs[2].grid('on')\n",
    "plt.show()"
   ]
  },
  {
   "cell_type": "code",
   "execution_count": null,
   "id": "47843fff-68ee-427f-a8b0-1c06ad740946",
   "metadata": {},
   "outputs": [],
   "source": [
    "# Import Pelvis angles calculated in Matlab\n",
    "fn_p_matlab = os.path.join(pathname, 'pelvis_angle_RBDS.txt')\n",
    "angp_matlab = np.loadtxt(fn_p_matlab) * (np.pi/180)"
   ]
  },
  {
   "cell_type": "code",
   "execution_count": null,
   "id": "00995a4a-1cef-4b3e-8671-61834f242761",
   "metadata": {},
   "outputs": [],
   "source": [
    "fig, axs = plt.subplots(1,3, figsize=(10,6))\n",
    "fig.suptitle('Comparison of Pelvis angles between methods')\n",
    "axs[0].plot(angle_Pelvis[:,0], 'b', label='Python')\n",
    "axs[0].plot(tn[0::5],angp_matlab[0::5,0], 'bo', label='Matlab')\n",
    "axs[0].grid('on')\n",
    "axs[1].plot(angle_Pelvis[:,1], 'r', label='Python')\n",
    "axs[1].plot(tn[0::5],angp_matlab[0::5,1], 'ro', label='Matlab')\n",
    "axs[1].grid('on')\n",
    "axs[2].plot(angle_Pelvis[:,2], 'g', label='Python')\n",
    "axs[2].plot(tn[0::5],angp_matlab[0::5,2], 'go', label='Matlab')\n",
    "axs[2].grid('on')\n",
    "plt.show()"
   ]
  },
  {
   "cell_type": "code",
   "execution_count": null,
   "id": "c012b0a8-9881-496a-a32a-a69b70239be6",
   "metadata": {},
   "outputs": [],
   "source": [
    "# Import ankle angles calculated in Matlab\n",
    "fn_a_matlab = os.path.join(pathname, 'L_ankle_angle_RBDSmat.txt')\n",
    "anga_matlab = np.loadtxt(fn_a_matlab) * (np.pi/180)"
   ]
  },
  {
   "cell_type": "code",
   "execution_count": null,
   "id": "d30be456-d982-4cf4-b362-a0cbd5e9c432",
   "metadata": {
    "tags": []
   },
   "outputs": [],
   "source": [
    "fig, axs = plt.subplots(3, figsize=(10,6))\n",
    "fig.suptitle('Comparison of LEFT ankle angles between methods')\n",
    "axs[0].plot(angle_L_ankle[:,0], 'b', label='Python')\n",
    "axs[0].plot(tn[0::3],anga_matlab[0::3,0], 'b*', label='Matlab')\n",
    "axs[0].grid('on')\n",
    "axs[1].plot(angle_L_ankle[:,1], 'r', label='Python')\n",
    "axs[1].plot(tn[0::3],anga_matlab[0::3,1], 'r*', label='Matlab')\n",
    "axs[1].grid('on')\n",
    "axs[2].plot(angle_L_ankle[:,2], 'g', label='Python')\n",
    "axs[2].plot(tn[0::3],anga_matlab[0::3,2], 'g*', label='Matlab')\n",
    "axs[2].grid('on')\n",
    "plt.show()"
   ]
  },
  {
   "cell_type": "code",
   "execution_count": null,
   "id": "54107913-f50e-4400-b64f-4f7d0e2811ec",
   "metadata": {},
   "outputs": [],
   "source": [
    "# Import ankle angles calculated in Matlab\n",
    "fn_a_matlab = os.path.join(pathname, 'r_ankle_angle_RBDSmat.txt')\n",
    "anga_matlab = np.loadtxt(fn_a_matlab) * (np.pi/180)"
   ]
  },
  {
   "cell_type": "code",
   "execution_count": null,
   "id": "0a8f0956-0c5b-40f9-99d6-0858674bd695",
   "metadata": {
    "tags": []
   },
   "outputs": [],
   "source": [
    "fig, axs = plt.subplots(3, figsize=(10,6))\n",
    "fig.suptitle('Comparison of RIGHT ankle angles between methods')\n",
    "axs[0].plot(angle_R_ankle[:,0], 'b', label='Python')\n",
    "axs[0].plot(tn[0::5],anga_matlab[0::5,0], 'b*', label='Matlab')\n",
    "axs[0].grid('on')\n",
    "axs[1].plot(angle_R_ankle[:,1], 'r', label='Python')\n",
    "axs[1].plot(tn[0::5],anga_matlab[0::5,1], 'r*', label='Matlab')\n",
    "axs[1].grid('on')\n",
    "axs[2].plot(angle_R_ankle[:,2], 'g', label='Python')\n",
    "axs[2].plot(tn[0::5],anga_matlab[0::5,2], 'g*', label='Matlab')\n",
    "axs[2].grid('on')\n",
    "plt.show()"
   ]
  },
  {
   "cell_type": "code",
   "execution_count": null,
   "id": "cfe4e041-6a00-470d-8650-7288ddb05db7",
   "metadata": {},
   "outputs": [],
   "source": [
    "# Import ankle angles calculated in Matlab\n",
    "fn_k_matlab = os.path.join(pathname, 'L_knee_angle_RBDSmat.txt')\n",
    "angk_matlab = np.loadtxt(fn_k_matlab) * (np.pi/180)"
   ]
  },
  {
   "cell_type": "code",
   "execution_count": null,
   "id": "2644a7b7-7491-4e80-902c-6998e576efd8",
   "metadata": {
    "tags": []
   },
   "outputs": [],
   "source": [
    "fig, axs = plt.subplots(3, figsize=(10,6))\n",
    "fig.suptitle('Comparison of knee angles between methods')\n",
    "axs[0].plot(angle_L_knee[:,0], 'b', label='Python')\n",
    "axs[0].plot(tn[0::5],angk_matlab[0::5,0], 'b*', label='Matlab')\n",
    "axs[0].grid('on')\n",
    "axs[1].plot(angle_L_knee[:,1], 'r', label='Python')\n",
    "axs[1].plot(tn[0::5],angk_matlab[0::5,1], 'r*', label='Matlab')\n",
    "axs[1].grid('on')\n",
    "axs[2].plot(angle_L_knee[:,2], 'g', label='Python')\n",
    "axs[2].plot(tn[0::5],angk_matlab[0::5,2], 'g*', label='Matlab')\n",
    "axs[2].grid('on')\n",
    "plt.show()"
   ]
  },
  {
   "cell_type": "code",
   "execution_count": null,
   "id": "10d2f583-c10f-4ef6-91b4-270683892348",
   "metadata": {},
   "outputs": [],
   "source": [
    "# Import ankle angles calculated in Matlab\n",
    "fn_k_matlab = os.path.join(pathname, 'r_knee_angle_RBDSmat.txt')\n",
    "angk_matlab = np.loadtxt(fn_k_matlab) * (np.pi/180)"
   ]
  },
  {
   "cell_type": "code",
   "execution_count": null,
   "id": "6c0a3082-711a-4152-b364-9bbe07d7c71a",
   "metadata": {
    "tags": []
   },
   "outputs": [],
   "source": [
    "fig, axs = plt.subplots(3, figsize=(10,6))\n",
    "fig.suptitle('Comparison of knee angles between methods')\n",
    "axs[0].plot(angle_R_knee[:,0], 'b', label='Python')\n",
    "axs[0].plot(tn[0::5],angk_matlab[0::5,0], 'b*', label='Matlab')\n",
    "axs[0].grid('on')\n",
    "axs[1].plot(angle_R_knee[:,1], 'r', label='Python')\n",
    "axs[1].plot(tn[0::5],angk_matlab[0::5,1], 'r*', label='Matlab')\n",
    "axs[1].grid('on')\n",
    "axs[2].plot(angle_R_knee[:,2], 'g', label='Python')\n",
    "axs[2].plot(tn[0::5],angk_matlab[0::5,2], 'g*', label='Matlab')\n",
    "axs[2].grid('on')\n",
    "plt.show()"
   ]
  },
  {
   "cell_type": "code",
   "execution_count": null,
   "id": "a7a31bb6-9694-45f3-9873-9f5b1eedcfcc",
   "metadata": {},
   "outputs": [],
   "source": [
    "# Import ankle angles calculated in Matlab\n",
    "fn_h_matlab = os.path.join(pathname, 'L_hip_angle_RBDSmat.txt')\n",
    "angh_matlab = np.loadtxt(fn_h_matlab) * (np.pi/180)"
   ]
  },
  {
   "cell_type": "code",
   "execution_count": null,
   "id": "482cc840-2c5b-492d-bb72-57bd7c512d61",
   "metadata": {
    "tags": []
   },
   "outputs": [],
   "source": [
    "fig, axs = plt.subplots(3, figsize=(10,6))\n",
    "fig.suptitle('Comparison of RIGHT HIP angles between methods')\n",
    "axs[0].plot(tn,angle_L_hip[:,0], 'b', label='Python')\n",
    "axs[0].plot(tn[0::5],angh_matlab[0::5,0], 'bo', label='Matlab')\n",
    "axs[0].grid('on')\n",
    "axs[1].plot(angle_L_hip[:,1], 'r', label='Python')\n",
    "axs[1].plot(tn[0::5],angh_matlab[0::5,1], 'ro', label='Matlab')\n",
    "axs[1].grid('on')\n",
    "axs[2].plot(angle_L_hip[:,2], 'g', label='Python')\n",
    "axs[2].plot(tn[0::5],angh_matlab[0::5,2], 'go', label='Matlab')\n",
    "axs[2].grid('on')\n",
    "plt.show()"
   ]
  },
  {
   "cell_type": "code",
   "execution_count": null,
   "id": "3b4d6290-b6ba-4089-a594-fc4a1c3820fa",
   "metadata": {},
   "outputs": [],
   "source": [
    "# Import ankle angles calculated in Matlab\n",
    "fn_h_matlab = os.path.join(pathname, 'r_hip_angle_RBDSmat.txt')\n",
    "angh_matlab = np.loadtxt(fn_h_matlab) * (np.pi/180)"
   ]
  },
  {
   "cell_type": "code",
   "execution_count": null,
   "id": "052804a4-1701-4267-97fb-cabc3ef31c9d",
   "metadata": {
    "tags": []
   },
   "outputs": [],
   "source": [
    "fig, axs = plt.subplots(3, figsize=(10,6))\n",
    "fig.suptitle('Comparison of RIGHT HIP angles between methods')\n",
    "axs[0].plot(tn,angle_R_hip[:,0], 'b', label='Python')\n",
    "axs[0].plot(tn[0::5],angh_matlab[0::5,0], 'bo', label='Matlab')\n",
    "axs[0].grid('on')\n",
    "axs[1].plot(angle_R_hip[:,1], 'r', label='Python')\n",
    "axs[1].plot(tn[0::5],angh_matlab[0::5,1], 'ro', label='Matlab')\n",
    "axs[1].grid('on')\n",
    "axs[2].plot(angle_R_hip[:,2], 'g', label='Python')\n",
    "axs[2].plot(tn[0::5],angh_matlab[0::5,2], 'go', label='Matlab')\n",
    "axs[2].grid('on')\n",
    "plt.show()"
   ]
  },
  {
   "cell_type": "code",
   "execution_count": null,
   "id": "46bb950a-71da-4b83-8456-6dbe0d7f1e04",
   "metadata": {},
   "outputs": [],
   "source": []
  },
  {
   "cell_type": "code",
   "execution_count": null,
   "id": "14c847d1-0f4a-4bc1-bdf1-89c9de9f7b77",
   "metadata": {},
   "outputs": [],
   "source": [
    "# in case it needs to be exported to Matlab\n",
    "# Marker labels\n",
    "mkrs_lbls = [m[:-2] for m in neutral_RBDS.columns.tolist()]\n",
    "mkrs_lbls = list(dict.fromkeys(mkrs_lbls)) # drop duplicates\n",
    "# Create dictionary\n",
    "neutral_dic = dict()\n",
    "for mkr in mkrs_lbls:\n",
    "    neutral_dic[mkr]=neutral_RBDS.filter(like=mkr, axis=1).values.flatten()\n",
    "    \n",
    "# Joint labels\n",
    "joint_lbls = [m[:-2] for m in joints_RBDS.columns.tolist()]\n",
    "joint_lbls = list(dict.fromkeys(joint_lbls)) # drop duplicates\n",
    "# Create dictionary\n",
    "joints_dic = dict()\n",
    "for jt in joint_lbls:\n",
    "    joints_dic[jt]=joints_RBDS.filter(like=jt, axis=1).values.flatten()\n",
    "\n",
    "# Gait labels\n",
    "gait_lbls = [m[:-2] for m in gait_RBDS.columns.tolist()]\n",
    "gait_lbls = list(dict.fromkeys(gait_lbls)) # drop duplicates\n",
    "# Create dictionary\n",
    "gait_dic = dict()\n",
    "for gt in gait_lbls:\n",
    "    gait_dic[gt]=gait_RBDS.filter(like=gt, axis=1).values\n",
    "# neutral_RBDS.to_csv(os.path.join(data_dir,'RBDS001_neutral.csv'), sep='\\t')\n",
    "# joints_RBDS.to_csv(os.path.join(data_dir,'RBDS001_joints.csv'), sep='\\t')\n",
    "# gait_RBDS.to_csv(os.path.join(data_dir,'RBDS001_gait.csv'), sep='\\t')"
   ]
  },
  {
   "cell_type": "code",
   "execution_count": null,
   "id": "75ab34df-2838-41fb-bd99-89f6555c57e2",
   "metadata": {},
   "outputs": [],
   "source": []
  },
  {
   "cell_type": "markdown",
   "id": "8eaa0f1b-f631-484b-b754-58c4b3fe4101",
   "metadata": {},
   "source": [
    "Export static to c3d RIC"
   ]
  },
  {
   "cell_type": "code",
   "execution_count": null,
   "id": "18fd0442-63ff-47b5-a980-8d207304b0f3",
   "metadata": {},
   "outputs": [],
   "source": [
    "# Load an empty c3d structure\n",
    "c3d = c3d()\n",
    "\n",
    "# Merge neutral and joints prior create static c3d\n",
    "neutral_RIC = pd.concat([neutral_RIC, joints_RIC], axis=1)\n",
    "\n",
    "neutral_lbls = list(dict.fromkeys([mkr[:-2] for mkr in neutral_RIC.columns.tolist()]))\n",
    "# Fill it with random data\n",
    "c3d['parameters']['POINT']['RATE']['value'] = [hz_RIC]\n",
    "c3d['parameters']['POINT']['LABELS']['value'] = neutral_lbls\n",
    "\n",
    "x_mkr = neutral_RIC.values[0,0:-2:3]\n",
    "y_mkr = neutral_RIC.values[0,1:-1:3]\n",
    "z_mkr = neutral_RIC.values[0,2::3]\n",
    "c3d['data']['points'] = np.random.rand(4, len(neutral_lbls), neutral_RIC.shape[0])\n",
    "c3d['data']['points'][0, :, :] = x_mkr[np.newaxis,:].T\n",
    "c3d['data']['points'][1, :, :] = y_mkr[np.newaxis,:].T\n",
    "c3d['data']['points'][2, :, :] = z_mkr[np.newaxis,:].T\n",
    "c3d['data']['points'][3, :, :] = np.ones((len(z_mkr),1))\n",
    "\n",
    "# Write the data\n",
    "#c3d.write(os.path.join(r'../data',trial+'_static.c3d'))"
   ]
  },
  {
   "cell_type": "code",
   "execution_count": null,
   "id": "d29e1be0-e4a1-4da1-9163-2143f9322820",
   "metadata": {},
   "outputs": [],
   "source": [
    "c3d.write(os.path.join(r'../data',trial+'_static.c3d'))"
   ]
  },
  {
   "cell_type": "markdown",
   "id": "8c357019-5d00-4ec4-8459-1de7feb8a074",
   "metadata": {},
   "source": [
    "Export running to c3d RIC"
   ]
  },
  {
   "cell_type": "code",
   "execution_count": null,
   "id": "30d7c6f3-dfd4-4bfd-9acd-418ff6bbf97e",
   "metadata": {},
   "outputs": [],
   "source": [
    "from ezc3d import c3d"
   ]
  },
  {
   "cell_type": "code",
   "execution_count": null,
   "id": "8f346ba3-d441-41a4-b2dd-8fc261fac7e5",
   "metadata": {},
   "outputs": [],
   "source": [
    "# Load an empty c3d structure\n",
    "c3d_R = c3d()\n",
    "\n",
    "gait_lbls = list(dict.fromkeys([mkr[:-2] for mkr in gait_RIC.columns.tolist()]))\n",
    "# Fill it with random data\n",
    "c3d_R['parameters']['POINT']['RATE']['value'] = [hz_RIC]\n",
    "c3d_R['parameters']['POINT']['LABELS']['value'] = gait_lbls\n",
    "\n",
    "x_mkr = gait_RIC.values[:,0:-2:3]\n",
    "y_mkr = gait_RIC.values[:,1:-1:3]\n",
    "z_mkr = gait_RIC.values[:,2::3]\n",
    "c3d_R['data']['points'] = np.random.rand(4, len(gait_lbls), gait_RIC.shape[0])\n",
    "c3d_R['data']['points'][0, :, :] = x_mkr.T\n",
    "c3d_R['data']['points'][1, :, :] = y_mkr.T\n",
    "c3d_R['data']['points'][2, :, :] = z_mkr.T\n",
    "c3d_R['data']['points'][3, :, :] = np.ones(z_mkr.T.shape)\n",
    "\n",
    "# Write the data\n",
    "c3d_R.write(os.path.join(r'../data',trial+'_run.c3d'))"
   ]
  },
  {
   "cell_type": "markdown",
   "id": "d2217b65-c6aa-409d-8eb3-8e4e5a0dbf81",
   "metadata": {},
   "source": [
    "Export static to c3d RBDS"
   ]
  },
  {
   "cell_type": "code",
   "execution_count": null,
   "id": "7f39086f-5727-4aab-adeb-c7bb02788db2",
   "metadata": {},
   "outputs": [],
   "source": [
    "# Load an empty c3d structure\n",
    "c3d = c3d()\n",
    "\n",
    "neutral_lbls = list(dict.fromkeys([mkr[:-2] for mkr in neutral_RBDS.columns.tolist()]))\n",
    "# Fill it with random data\n",
    "c3d['parameters']['POINT']['RATE']['value'] = [hz_RBDS]\n",
    "c3d['parameters']['POINT']['LABELS']['value'] = neutral_lbls\n",
    "\n",
    "x_mkr = neutral_RBDS.values[0,0:-2:3]\n",
    "y_mkr = neutral_RBDS.values[0,1:-1:3]\n",
    "z_mkr = neutral_RBDS.values[0,2::3]\n",
    "c3d['data']['points'] = np.random.rand(4, len(neutral_lbls), neutral_RBDS.shape[0])\n",
    "c3d['data']['points'][0, :, :] = x_mkr[np.newaxis,:].T\n",
    "c3d['data']['points'][1, :, :] = y_mkr[np.newaxis,:].T\n",
    "c3d['data']['points'][2, :, :] = z_mkr[np.newaxis,:].T\n",
    "c3d['data']['points'][3, :, :] = np.ones((len(z_mkr),1))\n",
    "\n",
    "# Write the data\n",
    "#c3d.write(os.path.join(r'../data','RBDS001static_rot.c3d'))"
   ]
  },
  {
   "cell_type": "markdown",
   "id": "193331ed-a742-41ee-b50a-8ff6726246eb",
   "metadata": {},
   "source": [
    "Export running to c3d RBDS"
   ]
  },
  {
   "cell_type": "code",
   "execution_count": null,
   "id": "405eb071-8bcb-496d-8a90-2e598c8d21ef",
   "metadata": {},
   "outputs": [],
   "source": [
    "# Load an empty c3d structure\n",
    "c3d_R = c3d()\n",
    "\n",
    "gait_lbls = list(dict.fromkeys([mkr[:-2] for mkr in gait_RBDS.columns.tolist()]))\n",
    "# Fill it with random data\n",
    "c3d_R['parameters']['POINT']['RATE']['value'] = [hz_RBDS]\n",
    "c3d_R['parameters']['POINT']['LABELS']['value'] = gait_lbls\n",
    "\n",
    "x_mkr = gait_RBDS.values[:,0:-2:3]\n",
    "y_mkr = gait_RBDS.values[:,1:-1:3]\n",
    "z_mkr = gait_RBDS.values[:,2::3]\n",
    "c3d_R['data']['points'] = np.random.rand(4, len(gait_lbls), gait_RBDS.shape[0])\n",
    "c3d_R['data']['points'][0, :, :] = x_mkr.T\n",
    "c3d_R['data']['points'][1, :, :] = y_mkr.T\n",
    "c3d_R['data']['points'][2, :, :] = z_mkr.T\n",
    "c3d_R['data']['points'][3, :, :] = np.ones(z_mkr.T.shape)\n",
    "\n",
    "# Write the data\n",
    "#c3d.write(os.path.join(r'../data','RBDS001runT35_rot.c3d'))"
   ]
  },
  {
   "cell_type": "code",
   "execution_count": null,
   "id": "747867f1",
   "metadata": {},
   "outputs": [],
   "source": []
  }
 ],
 "metadata": {
  "kernelspec": {
   "display_name": "Python 3 (ipykernel)",
   "language": "python",
   "name": "python3"
  },
  "language_info": {
   "codemirror_mode": {
    "name": "ipython",
    "version": 3
   },
   "file_extension": ".py",
   "mimetype": "text/x-python",
   "name": "python",
   "nbconvert_exporter": "python",
   "pygments_lexer": "ipython3",
   "version": "3.9.16"
  }
 },
 "nbformat": 4,
 "nbformat_minor": 5
}
