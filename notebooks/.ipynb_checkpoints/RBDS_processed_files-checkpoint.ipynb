{
 "cells": [
  {
   "cell_type": "markdown",
   "id": "b12e57ac",
   "metadata": {
    "id": "b12e57ac"
   },
   "source": [
    "# Running Biomechanics Data Set processed files\n",
    "\n",
    "Reginaldo K Fukuchi, Jan 2023, reginaldo.fukuchi@ufabc.edu.br\n",
    "\n",
    "This NB prepares data to e exported as RBDSxxxxprocessed.txt"
   ]
  },
  {
   "cell_type": "code",
   "execution_count": 1,
   "id": "7f4e9cc6",
   "metadata": {
    "executionInfo": {
     "elapsed": 1550,
     "status": "ok",
     "timestamp": 1674166207034,
     "user": {
      "displayName": "Reginaldo Fukuchi",
      "userId": "10593265862496095759"
     },
     "user_tz": 420
    },
    "id": "7f4e9cc6"
   },
   "outputs": [],
   "source": [
    "# Prepare environment\n",
    "import os\n",
    "import numpy as np\n",
    "import pandas as pd\n",
    "import seaborn as sns\n",
    "import matplotlib.pyplot as plt\n",
    "%matplotlib notebook"
   ]
  },
  {
   "cell_type": "code",
   "execution_count": 2,
   "id": "074628d5",
   "metadata": {},
   "outputs": [],
   "source": [
    "subject = 'SUB0044'"
   ]
  },
  {
   "cell_type": "code",
   "execution_count": 3,
   "id": "0a83576f",
   "metadata": {
    "executionInfo": {
     "elapsed": 210,
     "status": "ok",
     "timestamp": 1674166213240,
     "user": {
      "displayName": "Reginaldo Fukuchi",
      "userId": "10593265862496095759"
     },
     "user_tz": 420
    },
    "id": "0a83576f"
   },
   "outputs": [],
   "source": [
    "# Import data\n",
    "pathname = r'C:\\Users\\Reginaldo\\Documents\\data\\CNPq\\RBDS_v2\\RBA';\n",
    "pathDir = os.path.join(pathname, subject)"
   ]
  },
  {
   "cell_type": "code",
   "execution_count": 4,
   "id": "909e8c9f",
   "metadata": {},
   "outputs": [],
   "source": [
    "speed = [25,35,45];\n",
    "side   = ['Right','Left'];\n",
    "joints = ['hip','knee','ankle'];\n",
    "varListRBA = ['Stride_Length','Strides_Per_Minute','Stride_Width'];\n",
    "direction = ['X','Y','Z']"
   ]
  },
  {
   "cell_type": "markdown",
   "id": "d06db6c7",
   "metadata": {},
   "source": [
    "## Emsemble avg angles, moments, powers and GRFs"
   ]
  },
  {
   "cell_type": "code",
   "execution_count": 7,
   "id": "a4ac67ce",
   "metadata": {},
   "outputs": [
    {
     "ename": "FileNotFoundError",
     "evalue": "[Errno 2] No such file or directory: 'C:\\\\Users\\\\Reginaldo\\\\Documents\\\\data\\\\CNPq\\\\RBDS_v2\\\\RBA\\\\SUB0044\\\\RUN25RhipAng.txt'",
     "output_type": "error",
     "traceback": [
      "\u001b[1;31m---------------------------------------------------------------------------\u001b[0m",
      "\u001b[1;31mFileNotFoundError\u001b[0m                         Traceback (most recent call last)",
      "\u001b[1;32m~\\AppData\\Local\\Temp\\ipykernel_8868\\2426794311.py\u001b[0m in \u001b[0;36m<module>\u001b[1;34m\u001b[0m\n\u001b[0;32m     38\u001b[0m             \u001b[1;31m# Filename for angles\u001b[0m\u001b[1;33m\u001b[0m\u001b[1;33m\u001b[0m\u001b[0m\n\u001b[0;32m     39\u001b[0m             \u001b[0mfname_angs\u001b[0m\u001b[1;33m=\u001b[0m \u001b[0mos\u001b[0m\u001b[1;33m.\u001b[0m\u001b[0mpath\u001b[0m\u001b[1;33m.\u001b[0m\u001b[0mjoin\u001b[0m\u001b[1;33m(\u001b[0m\u001b[0mpathDir\u001b[0m\u001b[1;33m,\u001b[0m\u001b[1;34m'RUN'\u001b[0m\u001b[1;33m+\u001b[0m\u001b[0mstr\u001b[0m\u001b[1;33m(\u001b[0m\u001b[0mspeed\u001b[0m\u001b[1;33m[\u001b[0m\u001b[0mv\u001b[0m\u001b[1;33m]\u001b[0m\u001b[1;33m)\u001b[0m\u001b[1;33m+\u001b[0m\u001b[0msid\u001b[0m\u001b[1;33m[\u001b[0m\u001b[1;36m0\u001b[0m\u001b[1;33m]\u001b[0m\u001b[1;33m+\u001b[0m\u001b[0mjoint\u001b[0m\u001b[1;33m+\u001b[0m\u001b[1;34m'Ang.txt'\u001b[0m\u001b[1;33m)\u001b[0m\u001b[1;33m\u001b[0m\u001b[1;33m\u001b[0m\u001b[0m\n\u001b[1;32m---> 40\u001b[1;33m             \u001b[0mdf_angs\u001b[0m   \u001b[1;33m=\u001b[0m \u001b[0mpd\u001b[0m\u001b[1;33m.\u001b[0m\u001b[0mread_csv\u001b[0m\u001b[1;33m(\u001b[0m\u001b[0mfname_angs\u001b[0m\u001b[1;33m,\u001b[0m \u001b[0mdelimiter\u001b[0m\u001b[1;33m=\u001b[0m\u001b[1;34m'\\t'\u001b[0m\u001b[1;33m,\u001b[0m \u001b[0mskiprows\u001b[0m\u001b[1;33m=\u001b[0m\u001b[1;36m4\u001b[0m\u001b[1;33m)\u001b[0m\u001b[1;33m\u001b[0m\u001b[1;33m\u001b[0m\u001b[0m\n\u001b[0m\u001b[0;32m     41\u001b[0m             \u001b[0mdf_angs\u001b[0m   \u001b[1;33m=\u001b[0m \u001b[0mdf_angs\u001b[0m\u001b[1;33m.\u001b[0m\u001b[0miloc\u001b[0m\u001b[1;33m[\u001b[0m\u001b[1;33m:\u001b[0m\u001b[1;33m,\u001b[0m\u001b[1;36m1\u001b[0m\u001b[1;33m:\u001b[0m\u001b[1;33m]\u001b[0m\u001b[1;33m\u001b[0m\u001b[1;33m\u001b[0m\u001b[0m\n\u001b[0;32m     42\u001b[0m             \u001b[1;31m# Filename for moments\u001b[0m\u001b[1;33m\u001b[0m\u001b[1;33m\u001b[0m\u001b[0m\n",
      "\u001b[1;32m~\\anaconda3\\lib\\site-packages\\pandas\\util\\_decorators.py\u001b[0m in \u001b[0;36mwrapper\u001b[1;34m(*args, **kwargs)\u001b[0m\n\u001b[0;32m    309\u001b[0m                     \u001b[0mstacklevel\u001b[0m\u001b[1;33m=\u001b[0m\u001b[0mstacklevel\u001b[0m\u001b[1;33m,\u001b[0m\u001b[1;33m\u001b[0m\u001b[1;33m\u001b[0m\u001b[0m\n\u001b[0;32m    310\u001b[0m                 )\n\u001b[1;32m--> 311\u001b[1;33m             \u001b[1;32mreturn\u001b[0m \u001b[0mfunc\u001b[0m\u001b[1;33m(\u001b[0m\u001b[1;33m*\u001b[0m\u001b[0margs\u001b[0m\u001b[1;33m,\u001b[0m \u001b[1;33m**\u001b[0m\u001b[0mkwargs\u001b[0m\u001b[1;33m)\u001b[0m\u001b[1;33m\u001b[0m\u001b[1;33m\u001b[0m\u001b[0m\n\u001b[0m\u001b[0;32m    312\u001b[0m \u001b[1;33m\u001b[0m\u001b[0m\n\u001b[0;32m    313\u001b[0m         \u001b[1;32mreturn\u001b[0m \u001b[0mwrapper\u001b[0m\u001b[1;33m\u001b[0m\u001b[1;33m\u001b[0m\u001b[0m\n",
      "\u001b[1;32m~\\anaconda3\\lib\\site-packages\\pandas\\io\\parsers\\readers.py\u001b[0m in \u001b[0;36mread_csv\u001b[1;34m(filepath_or_buffer, sep, delimiter, header, names, index_col, usecols, squeeze, prefix, mangle_dupe_cols, dtype, engine, converters, true_values, false_values, skipinitialspace, skiprows, skipfooter, nrows, na_values, keep_default_na, na_filter, verbose, skip_blank_lines, parse_dates, infer_datetime_format, keep_date_col, date_parser, dayfirst, cache_dates, iterator, chunksize, compression, thousands, decimal, lineterminator, quotechar, quoting, doublequote, escapechar, comment, encoding, encoding_errors, dialect, error_bad_lines, warn_bad_lines, on_bad_lines, delim_whitespace, low_memory, memory_map, float_precision, storage_options)\u001b[0m\n\u001b[0;32m    676\u001b[0m     \u001b[0mkwds\u001b[0m\u001b[1;33m.\u001b[0m\u001b[0mupdate\u001b[0m\u001b[1;33m(\u001b[0m\u001b[0mkwds_defaults\u001b[0m\u001b[1;33m)\u001b[0m\u001b[1;33m\u001b[0m\u001b[1;33m\u001b[0m\u001b[0m\n\u001b[0;32m    677\u001b[0m \u001b[1;33m\u001b[0m\u001b[0m\n\u001b[1;32m--> 678\u001b[1;33m     \u001b[1;32mreturn\u001b[0m \u001b[0m_read\u001b[0m\u001b[1;33m(\u001b[0m\u001b[0mfilepath_or_buffer\u001b[0m\u001b[1;33m,\u001b[0m \u001b[0mkwds\u001b[0m\u001b[1;33m)\u001b[0m\u001b[1;33m\u001b[0m\u001b[1;33m\u001b[0m\u001b[0m\n\u001b[0m\u001b[0;32m    679\u001b[0m \u001b[1;33m\u001b[0m\u001b[0m\n\u001b[0;32m    680\u001b[0m \u001b[1;33m\u001b[0m\u001b[0m\n",
      "\u001b[1;32m~\\anaconda3\\lib\\site-packages\\pandas\\io\\parsers\\readers.py\u001b[0m in \u001b[0;36m_read\u001b[1;34m(filepath_or_buffer, kwds)\u001b[0m\n\u001b[0;32m    573\u001b[0m \u001b[1;33m\u001b[0m\u001b[0m\n\u001b[0;32m    574\u001b[0m     \u001b[1;31m# Create the parser.\u001b[0m\u001b[1;33m\u001b[0m\u001b[1;33m\u001b[0m\u001b[0m\n\u001b[1;32m--> 575\u001b[1;33m     \u001b[0mparser\u001b[0m \u001b[1;33m=\u001b[0m \u001b[0mTextFileReader\u001b[0m\u001b[1;33m(\u001b[0m\u001b[0mfilepath_or_buffer\u001b[0m\u001b[1;33m,\u001b[0m \u001b[1;33m**\u001b[0m\u001b[0mkwds\u001b[0m\u001b[1;33m)\u001b[0m\u001b[1;33m\u001b[0m\u001b[1;33m\u001b[0m\u001b[0m\n\u001b[0m\u001b[0;32m    576\u001b[0m \u001b[1;33m\u001b[0m\u001b[0m\n\u001b[0;32m    577\u001b[0m     \u001b[1;32mif\u001b[0m \u001b[0mchunksize\u001b[0m \u001b[1;32mor\u001b[0m \u001b[0miterator\u001b[0m\u001b[1;33m:\u001b[0m\u001b[1;33m\u001b[0m\u001b[1;33m\u001b[0m\u001b[0m\n",
      "\u001b[1;32m~\\anaconda3\\lib\\site-packages\\pandas\\io\\parsers\\readers.py\u001b[0m in \u001b[0;36m__init__\u001b[1;34m(self, f, engine, **kwds)\u001b[0m\n\u001b[0;32m    930\u001b[0m \u001b[1;33m\u001b[0m\u001b[0m\n\u001b[0;32m    931\u001b[0m         \u001b[0mself\u001b[0m\u001b[1;33m.\u001b[0m\u001b[0mhandles\u001b[0m\u001b[1;33m:\u001b[0m \u001b[0mIOHandles\u001b[0m \u001b[1;33m|\u001b[0m \u001b[1;32mNone\u001b[0m \u001b[1;33m=\u001b[0m \u001b[1;32mNone\u001b[0m\u001b[1;33m\u001b[0m\u001b[1;33m\u001b[0m\u001b[0m\n\u001b[1;32m--> 932\u001b[1;33m         \u001b[0mself\u001b[0m\u001b[1;33m.\u001b[0m\u001b[0m_engine\u001b[0m \u001b[1;33m=\u001b[0m \u001b[0mself\u001b[0m\u001b[1;33m.\u001b[0m\u001b[0m_make_engine\u001b[0m\u001b[1;33m(\u001b[0m\u001b[0mf\u001b[0m\u001b[1;33m,\u001b[0m \u001b[0mself\u001b[0m\u001b[1;33m.\u001b[0m\u001b[0mengine\u001b[0m\u001b[1;33m)\u001b[0m\u001b[1;33m\u001b[0m\u001b[1;33m\u001b[0m\u001b[0m\n\u001b[0m\u001b[0;32m    933\u001b[0m \u001b[1;33m\u001b[0m\u001b[0m\n\u001b[0;32m    934\u001b[0m     \u001b[1;32mdef\u001b[0m \u001b[0mclose\u001b[0m\u001b[1;33m(\u001b[0m\u001b[0mself\u001b[0m\u001b[1;33m)\u001b[0m\u001b[1;33m:\u001b[0m\u001b[1;33m\u001b[0m\u001b[1;33m\u001b[0m\u001b[0m\n",
      "\u001b[1;32m~\\anaconda3\\lib\\site-packages\\pandas\\io\\parsers\\readers.py\u001b[0m in \u001b[0;36m_make_engine\u001b[1;34m(self, f, engine)\u001b[0m\n\u001b[0;32m   1214\u001b[0m             \u001b[1;31m# \"Union[str, PathLike[str], ReadCsvBuffer[bytes], ReadCsvBuffer[str]]\"\u001b[0m\u001b[1;33m\u001b[0m\u001b[1;33m\u001b[0m\u001b[0m\n\u001b[0;32m   1215\u001b[0m             \u001b[1;31m# , \"str\", \"bool\", \"Any\", \"Any\", \"Any\", \"Any\", \"Any\"\u001b[0m\u001b[1;33m\u001b[0m\u001b[1;33m\u001b[0m\u001b[0m\n\u001b[1;32m-> 1216\u001b[1;33m             self.handles = get_handle(  # type: ignore[call-overload]\n\u001b[0m\u001b[0;32m   1217\u001b[0m                 \u001b[0mf\u001b[0m\u001b[1;33m,\u001b[0m\u001b[1;33m\u001b[0m\u001b[1;33m\u001b[0m\u001b[0m\n\u001b[0;32m   1218\u001b[0m                 \u001b[0mmode\u001b[0m\u001b[1;33m,\u001b[0m\u001b[1;33m\u001b[0m\u001b[1;33m\u001b[0m\u001b[0m\n",
      "\u001b[1;32m~\\anaconda3\\lib\\site-packages\\pandas\\io\\common.py\u001b[0m in \u001b[0;36mget_handle\u001b[1;34m(path_or_buf, mode, encoding, compression, memory_map, is_text, errors, storage_options)\u001b[0m\n\u001b[0;32m    784\u001b[0m         \u001b[1;32mif\u001b[0m \u001b[0mioargs\u001b[0m\u001b[1;33m.\u001b[0m\u001b[0mencoding\u001b[0m \u001b[1;32mand\u001b[0m \u001b[1;34m\"b\"\u001b[0m \u001b[1;32mnot\u001b[0m \u001b[1;32min\u001b[0m \u001b[0mioargs\u001b[0m\u001b[1;33m.\u001b[0m\u001b[0mmode\u001b[0m\u001b[1;33m:\u001b[0m\u001b[1;33m\u001b[0m\u001b[1;33m\u001b[0m\u001b[0m\n\u001b[0;32m    785\u001b[0m             \u001b[1;31m# Encoding\u001b[0m\u001b[1;33m\u001b[0m\u001b[1;33m\u001b[0m\u001b[0m\n\u001b[1;32m--> 786\u001b[1;33m             handle = open(\n\u001b[0m\u001b[0;32m    787\u001b[0m                 \u001b[0mhandle\u001b[0m\u001b[1;33m,\u001b[0m\u001b[1;33m\u001b[0m\u001b[1;33m\u001b[0m\u001b[0m\n\u001b[0;32m    788\u001b[0m                 \u001b[0mioargs\u001b[0m\u001b[1;33m.\u001b[0m\u001b[0mmode\u001b[0m\u001b[1;33m,\u001b[0m\u001b[1;33m\u001b[0m\u001b[1;33m\u001b[0m\u001b[0m\n",
      "\u001b[1;31mFileNotFoundError\u001b[0m: [Errno 2] No such file or directory: 'C:\\\\Users\\\\Reginaldo\\\\Documents\\\\data\\\\CNPq\\\\RBDS_v2\\\\RBA\\\\SUB0044\\\\RUN25RhipAng.txt'"
     ]
    }
   ],
   "source": [
    "# preallocate\n",
    "angs_data = np.empty(shape=(101,len(speed),len(side),len(joints),len(direction),1))*np.NaN\n",
    "moms_data = np.empty(shape=(101,len(speed),len(side),len(joints),len(direction),1))*np.NaN\n",
    "pows_data = np.empty(shape=(101,len(speed),len(side),len(joints),1))*np.NaN\n",
    "grfs_data = np.empty(shape=(101,len(speed),len(side),len(direction),1))*np.NaN\n",
    "\n",
    "grfs_trials= np.empty(shape=(101,len(speed),len(side),len(direction),100))*np.NaN \n",
    "\n",
    "for v, velo in enumerate(speed):\n",
    "    # Import Temporal Distance Gait Parameters\n",
    "    # Read columns\n",
    "    filename = os.path.join(pathDir,'RUNT'+str(speed[v])+'tempSpatGaitParams.txt')\n",
    "    head_SPTparams = pd.read_csv(filename, delimiter='\\t', header=1)\n",
    "    SPTparams_labels = head_SPTparams.columns.tolist()\n",
    "    # Read data only\n",
    "    data_SPTparams = pd.read_csv(filename, delimiter='\\t', skiprows=4)\n",
    "    # Create another df\n",
    "    df_SPT = pd.DataFrame(data=data_SPTparams.values, columns=SPTparams_labels)\n",
    "    df_SPT.drop(labels='Unnamed: 0', axis=1, inplace=True)\n",
    "\n",
    "    spt_labels = []\n",
    "    for s, sid in enumerate(side):\n",
    "        #### SPATIOTEMPORAL PARAMETERS\n",
    "        for stp, stpars in enumerate(varListRBA):\n",
    "            if stpars=='Stride_Width':\n",
    "                varFullName = stpars + '_Mean'\n",
    "            else:\n",
    "                varFullName = sid+'_'+stpars+'_Mean'\n",
    "            # Columns names of the STP of interest\n",
    "            spt_labels.append(varFullName)\n",
    "\n",
    "\n",
    "        for j, joint in enumerate(joints):        \n",
    "\n",
    "            # Filename for angles\n",
    "            fname_angs= os.path.join(pathDir,'RUN'+str(speed[v])+sid[0]+joint+'Ang.txt')\n",
    "            df_angs   = pd.read_csv(fname_angs, delimiter='\\t', skiprows=4)\n",
    "            df_angs   = df_angs.iloc[:,1:]\n",
    "            # Filename for moments\n",
    "            fname_moms= os.path.join(pathDir,'RUN'+str(speed[v])+sid[0]+joint+'Mom.txt')\n",
    "            df_moms   = pd.read_csv(fname_moms, delimiter='\\t', skiprows=4)\n",
    "            df_moms   = df_moms.iloc[:,1:]\n",
    "            # Filename for powers\n",
    "            fname_pows= os.path.join(pathDir,'RUN'+str(speed[v])+sid[0]+joint+'Pow.txt')\n",
    "            df_pows   = pd.read_csv(fname_pows, delimiter='\\t', skiprows=4)\n",
    "            df_pows   = df_pows.iloc[:,1:]\n",
    "\n",
    "            if joint=='hip': # Filename for GRFs        \n",
    "                fname_grfs= os.path.join(pathDir,'RUN'+str(speed[v])+sid[0]+'grf.txt')\n",
    "                df_grfs   = pd.read_csv(fname_grfs, delimiter='\\t', skiprows=4)\n",
    "                df_grfs   = df_grfs.iloc[:,1:]\n",
    "\n",
    "            for xyz, axes in enumerate(direction):\n",
    "                angs_data[:, v, s, j, xyz, 0] = df_angs.iloc[:,xyz::3].mean(axis=1, skipna=True)\n",
    "                moms_data[:, v, s, j, xyz, 0] = df_moms.iloc[:,xyz::3].mean(axis=1, skipna=True)\n",
    "            pows_data[:, v, s, j, 0] = df_pows.mean(axis=1, skipna=True)\n",
    "            grfs_data[:, v, s, j, 0] = df_grfs.iloc[:,j::3].mean(axis=1, skipna=True)\n",
    "            \n",
    "            grfs_trials[:, v, s, j, 0:int(df_grfs.shape[1]/3)] = df_grfs.iloc[:,j::3]\n",
    "\n",
    "stp_params = df_SPT[spt_labels]"
   ]
  },
  {
   "cell_type": "markdown",
   "id": "76124eda",
   "metadata": {},
   "source": [
    "#### Column names consistent to the processed files in the RBDS study"
   ]
  },
  {
   "cell_type": "code",
   "execution_count": null,
   "id": "65a1639b",
   "metadata": {},
   "outputs": [],
   "source": [
    "columns = ['RhipAngX25', 'RhipAngY25', 'RhipAngZ25', 'RkneeAngX25', 'RkneeAngY25', 'RkneeAngZ25',\n",
    "           'RankleAngX25', 'RankleAngY25', 'RankleAngZ25', 'RhipMomX25', 'RhipMomY25', 'RhipMomZ25',\n",
    "           'RkneeMomX25', 'RkneeMomY25', 'RkneeMomZ25', 'RankleMomX25', 'RankleMomY25', 'RankleMomZ25',\n",
    "           'RgrfX25', 'RgrfY25', 'RgrfZ25', 'RhipPow25', 'RkneePow25', 'RanklePow25',\n",
    "           'RhipAngX35', 'RhipAngY35', 'RhipAngZ35', 'RkneeAngX35', 'RkneeAngY35', 'RkneeAngZ35',\n",
    "           'RankleAngX35', 'RankleAngY35', 'RankleAngZ35', 'RhipMomX35', 'RhipMomY35', 'RhipMomZ35',\n",
    "           'RkneeMomX35', 'RkneeMomY35', 'RkneeMomZ35', 'RankleMomX35', 'RankleMomY35', 'RankleMomZ35',\n",
    "           'RgrfX35', 'RgrfY35', 'RgrfZ35', 'RhipPow35', 'RkneePow35', 'RanklePow35',\n",
    "           'RhipAngX45', 'RhipAngY45', 'RhipAngZ45', 'RkneeAngX45', 'RkneeAngY45', 'RkneeAngZ45',\n",
    "           'RankleAngX45', 'RankleAngY45', 'RankleAngZ45', 'RhipMomX45', 'RhipMomY45', 'RhipMomZ45',\n",
    "           'RkneeMomX45', 'RkneeMomY45', 'RkneeMomZ45', 'RankleMomX45', 'RankleMomY45', 'RankleMomZ45',\n",
    "           'RgrfX45', 'RgrfY45', 'RgrfZ45', 'RhipPow45', 'RkneePow45', 'RanklePow45',\n",
    "           'LhipAngX25', 'LhipAngY25', 'LhipAngZ25', 'LkneeAngX25', 'LkneeAngY25', 'LkneeAngZ25',\n",
    "           'LankleAngX25', 'LankleAngY25', 'LankleAngZ25', 'LhipMomX25', 'LhipMomY25', 'LhipMomZ25',\n",
    "           'LkneeMomX25', 'LkneeMomY25', 'LkneeMomZ25', 'LankleMomX25', 'LankleMomY25', 'LankleMomZ25',\n",
    "           'LgrfX25', 'LgrfY25', 'LgrfZ25', 'LhipPow25', 'LkneePow25', 'LanklePow25',\n",
    "           'LhipAngX35', 'LhipAngY35', 'LhipAngZ35', 'LkneeAngX35', 'LkneeAngY35', 'LkneeAngZ35',\n",
    "           'LankleAngX35', 'LankleAngY35', 'LankleAngZ35', 'LhipMomX35', 'LhipMomY35', 'LhipMomZ35',\n",
    "           'LkneeMomX35', 'LkneeMomY35', 'LkneeMomZ35', 'LankleMomX35', 'LankleMomY35', 'LankleMomZ35',\n",
    "           'LgrfX35', 'LgrfY35', 'LgrfZ35', 'LhipPow35', 'LkneePow35', 'LanklePow35',\n",
    "           'LhipAngX45', 'LhipAngY45', 'LhipAngZ45', 'LkneeAngX45', 'LkneeAngY45', 'LkneeAngZ45',\n",
    "           'LankleAngX45', 'LankleAngY45', 'LankleAngZ45', 'LhipMomX45', 'LhipMomY45', 'LhipMomZ45',\n",
    "           'LkneeMomX45', 'LkneeMomY45', 'LkneeMomZ45', 'LankleMomX45', 'LankleMomY45', 'LankleMomZ45',\n",
    "           'LgrfX45', 'LgrfY45', 'LgrfZ45', 'LhipPow45', 'LkneePow45', 'LanklePow45']"
   ]
  },
  {
   "cell_type": "markdown",
   "id": "299104de",
   "metadata": {},
   "source": [
    "### Create array with angles, moments, GRFs and powers with order consistent than proecessed files"
   ]
  },
  {
   "cell_type": "code",
   "execution_count": null,
   "id": "9a504afe",
   "metadata": {},
   "outputs": [],
   "source": [
    "side_data = np.empty(shape=(101,72*len(side)))\n",
    "for s, sid in enumerate(side):\n",
    "    speed_data = np.empty(shape=(101,24*len(speed)))\n",
    "    for v, velo in enumerate(speed):\n",
    "        angs = np.empty(shape=(101,len(joints)*len(direction)))\n",
    "        moms = np.empty(shape=(101,len(joints)*len(direction)))\n",
    "        pows = np.empty(shape=(101,len(joints)))\n",
    "        grfs = np.empty(shape=(101,len(direction)))\n",
    "        for j, joint in enumerate(joints):\n",
    "            for xyz, axes in enumerate(direction):\n",
    "                angs[:,3*j+xyz] = angs_data[:, v, s, j, xyz, 0] # Angles\n",
    "                moms[:,3*j+xyz] = moms_data[:, v, s, j, xyz, 0] # Moments\n",
    "                \n",
    "            pows[:,j] = pows_data[:, v, s, j, 0] # Powers\n",
    "            grfs[:,j] = grfs_data[:, v, s, j, 0] # GRFs\n",
    "            \n",
    "        speed_data[:, 24*v:24*(v+1)] = np.hstack([angs, moms, grfs, pows])\n",
    "    side_data[:, 72*s:72*(s+1)] = speed_data"
   ]
  },
  {
   "cell_type": "markdown",
   "id": "99effaa1",
   "metadata": {},
   "source": [
    "### Create df"
   ]
  },
  {
   "cell_type": "code",
   "execution_count": null,
   "id": "f1320b8c",
   "metadata": {},
   "outputs": [],
   "source": [
    "df_rbds = pd.DataFrame(data=side_data, columns=columns).round(6)\n",
    "df_rbds['PercGcycle'] = list(range(0,101))\n",
    "df_rbds.set_index('PercGcycle', inplace=True)\n",
    "# Export to txt\n",
    "df_rbds.to_csv(os.path.join(r'../data',subject+'processed.txt'), sep='\\t')\n",
    "df_rbds.head()"
   ]
  },
  {
   "cell_type": "markdown",
   "id": "a72d28c3",
   "metadata": {},
   "source": [
    "## Visualize data"
   ]
  },
  {
   "cell_type": "code",
   "execution_count": null,
   "id": "d55d5562",
   "metadata": {},
   "outputs": [],
   "source": [
    "cor = ['b','r','k']"
   ]
  },
  {
   "cell_type": "markdown",
   "id": "a8d86eba",
   "metadata": {},
   "source": [
    "## Hip, knee and ankle angles"
   ]
  },
  {
   "cell_type": "code",
   "execution_count": null,
   "id": "5c906dc0",
   "metadata": {},
   "outputs": [],
   "source": [
    "fig, axs = plt.subplots(nrows=3, ncols=3, figsize=(10, 6))\n",
    "plt.subplots_adjust(hspace=0.5)\n",
    "fig.suptitle(\"Joint Angles\", fontsize=18, y=0.95)\n",
    "\n",
    "for j, joint in enumerate(joints):\n",
    "    for xyz, axes in enumerate(direction):\n",
    "        for v, vel in enumerate(speed):\n",
    "            df_rbds.plot(y='R'+joint+'Ang'+axes+str(vel), use_index=True, ax=axs[j,xyz], \n",
    "                         legend=False, color=cor[v], ylabel='R'+joint+'Ang'+axes)"
   ]
  },
  {
   "cell_type": "markdown",
   "id": "1923420e",
   "metadata": {},
   "source": [
    "## Hip, knee and ankle moments"
   ]
  },
  {
   "cell_type": "code",
   "execution_count": null,
   "id": "316af3ab",
   "metadata": {},
   "outputs": [],
   "source": [
    "fig, axs = plt.subplots(nrows=3, ncols=3, figsize=(10, 6))\n",
    "plt.subplots_adjust(hspace=0.5)\n",
    "fig.suptitle(\"Joint Moments\", fontsize=18, y=0.95)\n",
    "\n",
    "for j, joint in enumerate(joints):\n",
    "    for xyz, axes in enumerate(direction):\n",
    "        for v, vel in enumerate(speed):\n",
    "            df_rbds.plot(y='R'+joint+'Mom'+axes+str(vel), use_index=True, ax=axs[j,xyz], \n",
    "                         legend=False, color=cor[v], ylabel='R'+joint+'Mom'+axes)"
   ]
  },
  {
   "cell_type": "markdown",
   "id": "cffab993",
   "metadata": {},
   "source": [
    "## Hip, knee and ankle powers"
   ]
  },
  {
   "cell_type": "code",
   "execution_count": null,
   "id": "e6d73ec6",
   "metadata": {},
   "outputs": [],
   "source": [
    "fig, axs = plt.subplots(nrows=3, ncols=1, figsize=(10, 6))\n",
    "plt.subplots_adjust(hspace=0.5)\n",
    "fig.suptitle(\"Joint Powers\", fontsize=18, y=0.95)\n",
    "\n",
    "for j, joint in enumerate(joints):\n",
    "    for v, vel in enumerate(speed):\n",
    "        df_rbds.plot(y='R'+joint+'Pow'+str(vel), use_index=True, ax=axs[j], \n",
    "                     legend=False, color=cor[v], ylabel='R'+joint+'Pow')"
   ]
  },
  {
   "cell_type": "markdown",
   "id": "b3eef27d",
   "metadata": {},
   "source": [
    "## GRFs"
   ]
  },
  {
   "cell_type": "code",
   "execution_count": null,
   "id": "49b867fe",
   "metadata": {},
   "outputs": [],
   "source": [
    "fig, axs = plt.subplots(nrows=3, ncols=1, figsize=(10, 6))\n",
    "plt.subplots_adjust(hspace=0.5)\n",
    "fig.suptitle(\"GRFs\", fontsize=18, y=0.95)\n",
    "\n",
    "for xyz, axes in enumerate(direction):\n",
    "    for v, vel in enumerate(speed):\n",
    "        df_rbds.plot(y='R'+'grf'+axes+str(vel), use_index=True, ax=axs[xyz], \n",
    "                     legend=False, color=cor[v], ylabel='R'+'grf'+axes)\n",
    "        \n",
    "plt.show()"
   ]
  },
  {
   "cell_type": "code",
   "execution_count": null,
   "id": "8a122780",
   "metadata": {},
   "outputs": [],
   "source": []
  },
  {
   "cell_type": "code",
   "execution_count": null,
   "id": "faf849b7",
   "metadata": {},
   "outputs": [],
   "source": []
  }
 ],
 "metadata": {
  "colab": {
   "provenance": [
    {
     "file_id": "12luz4qIj4aJAqD4vp22sjEJ6-fjui0Jq",
     "timestamp": 1674165986202
    }
   ]
  },
  "kernelspec": {
   "display_name": "Python 3 (ipykernel)",
   "language": "python",
   "name": "python3"
  },
  "language_info": {
   "codemirror_mode": {
    "name": "ipython",
    "version": 3
   },
   "file_extension": ".py",
   "mimetype": "text/x-python",
   "name": "python",
   "nbconvert_exporter": "python",
   "pygments_lexer": "ipython3",
   "version": "3.9.16"
  }
 },
 "nbformat": 4,
 "nbformat_minor": 5
}
