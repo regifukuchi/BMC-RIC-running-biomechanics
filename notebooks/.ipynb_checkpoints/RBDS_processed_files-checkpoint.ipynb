{
 "cells": [
  {
   "cell_type": "markdown",
   "id": "b12e57ac",
   "metadata": {
    "id": "b12e57ac"
   },
   "source": [
    "# Running Biomechanics Data Set forces files\n",
    "\n",
    "Reginaldo K Fukuchi, Jan 2023, reginaldo.fukuchi@ufabc.edu.br\n",
    "\n",
    "This NB imports c3d files and convert data into ASCII files for forces separately."
   ]
  },
  {
   "cell_type": "code",
   "execution_count": 1,
   "id": "7f4e9cc6",
   "metadata": {
    "executionInfo": {
     "elapsed": 1550,
     "status": "ok",
     "timestamp": 1674166207034,
     "user": {
      "displayName": "Reginaldo Fukuchi",
      "userId": "10593265862496095759"
     },
     "user_tz": 420
    },
    "id": "7f4e9cc6"
   },
   "outputs": [],
   "source": [
    "# Prepare environment\n",
    "import os\n",
    "import numpy as np\n",
    "import pandas as pd\n",
    "import seaborn as sns\n",
    "import matplotlib.pyplot as plt\n",
    "%matplotlib notebook"
   ]
  },
  {
   "cell_type": "code",
   "execution_count": 2,
   "id": "0a83576f",
   "metadata": {
    "executionInfo": {
     "elapsed": 210,
     "status": "ok",
     "timestamp": 1674166213240,
     "user": {
      "displayName": "Reginaldo Fukuchi",
      "userId": "10593265862496095759"
     },
     "user_tz": 420
    },
    "id": "0a83576f"
   },
   "outputs": [],
   "source": [
    "# Import data\n",
    "pathname = r'../data'"
   ]
  },
  {
   "cell_type": "markdown",
   "id": "e22015e5",
   "metadata": {
    "id": "e22015e5"
   },
   "source": [
    "## Import C3D RBDS file using EZC3D\n",
    "https://github.com/pyomeca/ezc3d"
   ]
  },
  {
   "cell_type": "code",
   "execution_count": 3,
   "id": "vS5VEF0WG_uG",
   "metadata": {
    "id": "vS5VEF0WG_uG"
   },
   "outputs": [],
   "source": [
    "import sys\n",
    "sys.path.insert(1, r'../functions')\n",
    "from svdt import svdt"
   ]
  },
  {
   "cell_type": "code",
   "execution_count": 4,
   "id": "2fd77eb0",
   "metadata": {},
   "outputs": [],
   "source": [
    "from ezc3d import c3d"
   ]
  },
  {
   "cell_type": "code",
   "execution_count": 5,
   "id": "30b5aeb9",
   "metadata": {},
   "outputs": [],
   "source": [
    "subject = 'RBDS0041'\n",
    "task = 'runT252'"
   ]
  },
  {
   "cell_type": "code",
   "execution_count": 6,
   "id": "b4690006",
   "metadata": {
    "id": "b4690006"
   },
   "outputs": [],
   "source": [
    "fname_c3d = os.path.join(pathname,task + '.c3d')\n",
    "c = c3d(fname_c3d, extract_forceplat_data=True)"
   ]
  },
  {
   "cell_type": "code",
   "execution_count": 66,
   "id": "88596033",
   "metadata": {},
   "outputs": [],
   "source": [
    "pf_1 = c[\"data\"][\"platform\"][1]  # Select the second platform\n",
    "# Force platform signals matching existing RBDS\n",
    "fp1_forces = pf_1['force'].T # Forces\n",
    "fp1_cop    = pf_1['center_of_pressure'].T # Centre of pressure\n",
    "fp1_Ty     = pf_1['Tz'][1,:] # Free moment about vertical axis"
   ]
  },
  {
   "cell_type": "code",
   "execution_count": 67,
   "id": "7fe06f3a",
   "metadata": {},
   "outputs": [],
   "source": [
    "fp1_Ty = np.expand_dims(fp1_Ty,axis=1)"
   ]
  },
  {
   "cell_type": "code",
   "execution_count": 68,
   "id": "263be7a1",
   "metadata": {},
   "outputs": [],
   "source": [
    "# Concatenate signals\n",
    "force_signals = np.hstack([fp1_forces, fp1_cop, fp1_Ty])"
   ]
  },
  {
   "cell_type": "code",
   "execution_count": 50,
   "id": "6e2f0d91",
   "metadata": {},
   "outputs": [],
   "source": [
    "force_sigs_labels = ['Fx', 'Fy', 'Fz', 'COPx', 'COPy', 'COPz', 'Ty']"
   ]
  },
  {
   "cell_type": "code",
   "execution_count": 78,
   "id": "ad4bd1ab",
   "metadata": {},
   "outputs": [],
   "source": [
    "df_forces = pd.DataFrame(data=force_signals, columns=force_sigs_labels)"
   ]
  },
  {
   "cell_type": "code",
   "execution_count": 80,
   "id": "d5ceb99b",
   "metadata": {},
   "outputs": [],
   "source": [
    "df_forces['Time'] = list(range(1,force_signals.shape[0]+1))\n",
    "df_forces.set_index('Time', inplace=True)\n",
    "df_forces.index.name = 'Time'"
   ]
  },
  {
   "cell_type": "code",
   "execution_count": 82,
   "id": "0c24e280",
   "metadata": {},
   "outputs": [],
   "source": [
    "df_forces = df_forces.round(2)"
   ]
  },
  {
   "cell_type": "code",
   "execution_count": 83,
   "id": "60c490cf",
   "metadata": {},
   "outputs": [
    {
     "data": {
      "text/html": [
       "<div>\n",
       "<style scoped>\n",
       "    .dataframe tbody tr th:only-of-type {\n",
       "        vertical-align: middle;\n",
       "    }\n",
       "\n",
       "    .dataframe tbody tr th {\n",
       "        vertical-align: top;\n",
       "    }\n",
       "\n",
       "    .dataframe thead th {\n",
       "        text-align: right;\n",
       "    }\n",
       "</style>\n",
       "<table border=\"1\" class=\"dataframe\">\n",
       "  <thead>\n",
       "    <tr style=\"text-align: right;\">\n",
       "      <th></th>\n",
       "      <th>Fx</th>\n",
       "      <th>Fy</th>\n",
       "      <th>Fz</th>\n",
       "      <th>COPx</th>\n",
       "      <th>COPy</th>\n",
       "      <th>COPz</th>\n",
       "      <th>Ty</th>\n",
       "    </tr>\n",
       "    <tr>\n",
       "      <th>Time</th>\n",
       "      <th></th>\n",
       "      <th></th>\n",
       "      <th></th>\n",
       "      <th></th>\n",
       "      <th></th>\n",
       "      <th></th>\n",
       "      <th></th>\n",
       "    </tr>\n",
       "  </thead>\n",
       "  <tbody>\n",
       "    <tr>\n",
       "      <th>1</th>\n",
       "      <td>-128.78</td>\n",
       "      <td>1718.29</td>\n",
       "      <td>-74.77</td>\n",
       "      <td>2117.64</td>\n",
       "      <td>0.0</td>\n",
       "      <td>1552.29</td>\n",
       "      <td>13298.91</td>\n",
       "    </tr>\n",
       "    <tr>\n",
       "      <th>2</th>\n",
       "      <td>-105.74</td>\n",
       "      <td>1748.81</td>\n",
       "      <td>-76.68</td>\n",
       "      <td>2104.63</td>\n",
       "      <td>0.0</td>\n",
       "      <td>1552.08</td>\n",
       "      <td>19883.12</td>\n",
       "    </tr>\n",
       "    <tr>\n",
       "      <th>3</th>\n",
       "      <td>-104.60</td>\n",
       "      <td>1761.02</td>\n",
       "      <td>-64.47</td>\n",
       "      <td>2099.89</td>\n",
       "      <td>0.0</td>\n",
       "      <td>1552.42</td>\n",
       "      <td>20350.88</td>\n",
       "    </tr>\n",
       "    <tr>\n",
       "      <th>4</th>\n",
       "      <td>-69.73</td>\n",
       "      <td>1767.88</td>\n",
       "      <td>-71.56</td>\n",
       "      <td>2091.01</td>\n",
       "      <td>0.0</td>\n",
       "      <td>1552.56</td>\n",
       "      <td>15951.65</td>\n",
       "    </tr>\n",
       "    <tr>\n",
       "      <th>5</th>\n",
       "      <td>-67.75</td>\n",
       "      <td>1778.41</td>\n",
       "      <td>-79.42</td>\n",
       "      <td>2085.01</td>\n",
       "      <td>0.0</td>\n",
       "      <td>1552.54</td>\n",
       "      <td>15124.41</td>\n",
       "    </tr>\n",
       "  </tbody>\n",
       "</table>\n",
       "</div>"
      ],
      "text/plain": [
       "          Fx       Fy     Fz     COPx  COPy     COPz        Ty\n",
       "Time                                                          \n",
       "1    -128.78  1718.29 -74.77  2117.64   0.0  1552.29  13298.91\n",
       "2    -105.74  1748.81 -76.68  2104.63   0.0  1552.08  19883.12\n",
       "3    -104.60  1761.02 -64.47  2099.89   0.0  1552.42  20350.88\n",
       "4     -69.73  1767.88 -71.56  2091.01   0.0  1552.56  15951.65\n",
       "5     -67.75  1778.41 -79.42  2085.01   0.0  1552.54  15124.41"
      ]
     },
     "execution_count": 83,
     "metadata": {},
     "output_type": "execute_result"
    }
   ],
   "source": [
    "df_forces.head()"
   ]
  },
  {
   "cell_type": "code",
   "execution_count": 84,
   "id": "4ae2993f",
   "metadata": {},
   "outputs": [],
   "source": [
    "# Export to CSV\n",
    "fname_forces_txt = os.path.join(pathname, subject+task+'forces.txt')\n",
    "df_forces.to_csv(fname_forces_txt, sep='\\t')"
   ]
  },
  {
   "cell_type": "code",
   "execution_count": null,
   "id": "ccce20b4",
   "metadata": {},
   "outputs": [],
   "source": []
  },
  {
   "cell_type": "code",
   "execution_count": null,
   "id": "1924d713",
   "metadata": {},
   "outputs": [],
   "source": []
  },
  {
   "cell_type": "markdown",
   "id": "e2369e5f",
   "metadata": {},
   "source": [
    "## Import txt file from RBDS to see its structure"
   ]
  },
  {
   "cell_type": "code",
   "execution_count": 44,
   "id": "e1bde632",
   "metadata": {},
   "outputs": [],
   "source": [
    "fname_R = os.path.join(pathname, 'RBDS001runT25forces.txt')\n",
    "df_R = pd.read_csv(fname_R, delimiter='\\t', index_col='Time')"
   ]
  },
  {
   "cell_type": "code",
   "execution_count": 45,
   "id": "57027668",
   "metadata": {},
   "outputs": [
    {
     "data": {
      "text/html": [
       "<div>\n",
       "<style scoped>\n",
       "    .dataframe tbody tr th:only-of-type {\n",
       "        vertical-align: middle;\n",
       "    }\n",
       "\n",
       "    .dataframe tbody tr th {\n",
       "        vertical-align: top;\n",
       "    }\n",
       "\n",
       "    .dataframe thead th {\n",
       "        text-align: right;\n",
       "    }\n",
       "</style>\n",
       "<table border=\"1\" class=\"dataframe\">\n",
       "  <thead>\n",
       "    <tr style=\"text-align: right;\">\n",
       "      <th></th>\n",
       "      <th>Fx</th>\n",
       "      <th>Fy</th>\n",
       "      <th>Fz</th>\n",
       "      <th>COPx</th>\n",
       "      <th>COPy</th>\n",
       "      <th>COPz</th>\n",
       "      <th>Ty</th>\n",
       "    </tr>\n",
       "    <tr>\n",
       "      <th>Time</th>\n",
       "      <th></th>\n",
       "      <th></th>\n",
       "      <th></th>\n",
       "      <th></th>\n",
       "      <th></th>\n",
       "      <th></th>\n",
       "      <th></th>\n",
       "    </tr>\n",
       "  </thead>\n",
       "  <tbody>\n",
       "    <tr>\n",
       "      <th>1</th>\n",
       "      <td>-184.63</td>\n",
       "      <td>328.67</td>\n",
       "      <td>-72.78</td>\n",
       "      <td>2591.73</td>\n",
       "      <td>0</td>\n",
       "      <td>1134.51</td>\n",
       "      <td>-15305.20</td>\n",
       "    </tr>\n",
       "    <tr>\n",
       "      <th>2</th>\n",
       "      <td>-194.63</td>\n",
       "      <td>348.66</td>\n",
       "      <td>-66.45</td>\n",
       "      <td>2514.68</td>\n",
       "      <td>0</td>\n",
       "      <td>1123.29</td>\n",
       "      <td>9418.18</td>\n",
       "    </tr>\n",
       "    <tr>\n",
       "      <th>3</th>\n",
       "      <td>-96.66</td>\n",
       "      <td>400.85</td>\n",
       "      <td>-45.39</td>\n",
       "      <td>2546.33</td>\n",
       "      <td>0</td>\n",
       "      <td>1136.36</td>\n",
       "      <td>-29979.20</td>\n",
       "    </tr>\n",
       "    <tr>\n",
       "      <th>4</th>\n",
       "      <td>-47.38</td>\n",
       "      <td>491.49</td>\n",
       "      <td>-19.99</td>\n",
       "      <td>2493.38</td>\n",
       "      <td>0</td>\n",
       "      <td>1127.69</td>\n",
       "      <td>12225.30</td>\n",
       "    </tr>\n",
       "    <tr>\n",
       "      <th>5</th>\n",
       "      <td>-36.24</td>\n",
       "      <td>552.83</td>\n",
       "      <td>-20.07</td>\n",
       "      <td>2500.02</td>\n",
       "      <td>0</td>\n",
       "      <td>1129.17</td>\n",
       "      <td>21395.00</td>\n",
       "    </tr>\n",
       "  </tbody>\n",
       "</table>\n",
       "</div>"
      ],
      "text/plain": [
       "          Fx      Fy     Fz     COPx  COPy     COPz        Ty\n",
       "Time                                                         \n",
       "1    -184.63  328.67 -72.78  2591.73     0  1134.51 -15305.20\n",
       "2    -194.63  348.66 -66.45  2514.68     0  1123.29   9418.18\n",
       "3     -96.66  400.85 -45.39  2546.33     0  1136.36 -29979.20\n",
       "4     -47.38  491.49 -19.99  2493.38     0  1127.69  12225.30\n",
       "5     -36.24  552.83 -20.07  2500.02     0  1129.17  21395.00"
      ]
     },
     "execution_count": 45,
     "metadata": {},
     "output_type": "execute_result"
    }
   ],
   "source": [
    "df_R.head()"
   ]
  },
  {
   "cell_type": "code",
   "execution_count": 46,
   "id": "fc0e3b9e",
   "metadata": {},
   "outputs": [],
   "source": [
    "from ordered_set import OrderedSet"
   ]
  },
  {
   "cell_type": "code",
   "execution_count": 49,
   "id": "cbc35b85",
   "metadata": {},
   "outputs": [
    {
     "data": {
      "text/plain": [
       "['Fx', 'Fy', 'Fz', 'COPx', 'COPy', 'COPz', 'Ty']"
      ]
     },
     "execution_count": 49,
     "metadata": {},
     "output_type": "execute_result"
    }
   ],
   "source": [
    "# RBDS\n",
    "ls = df_R.columns.tolist()\n",
    "ls"
   ]
  },
  {
   "cell_type": "code",
   "execution_count": null,
   "id": "6a31f8c9",
   "metadata": {},
   "outputs": [],
   "source": []
  },
  {
   "cell_type": "code",
   "execution_count": null,
   "id": "faf849b7",
   "metadata": {},
   "outputs": [],
   "source": []
  }
 ],
 "metadata": {
  "colab": {
   "provenance": [
    {
     "file_id": "12luz4qIj4aJAqD4vp22sjEJ6-fjui0Jq",
     "timestamp": 1674165986202
    }
   ]
  },
  "kernelspec": {
   "display_name": "Python 3 (ipykernel)",
   "language": "python",
   "name": "python3"
  },
  "language_info": {
   "codemirror_mode": {
    "name": "ipython",
    "version": 3
   },
   "file_extension": ".py",
   "mimetype": "text/x-python",
   "name": "python",
   "nbconvert_exporter": "python",
   "pygments_lexer": "ipython3",
   "version": "3.10.8"
  }
 },
 "nbformat": 4,
 "nbformat_minor": 5
}
