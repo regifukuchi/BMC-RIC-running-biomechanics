{
 "cells": [
  {
   "cell_type": "markdown",
   "id": "b12e57ac",
   "metadata": {},
   "source": [
    "# Gait steps\n",
    "\n",
    "Reginaldo K Fukuchi \n",
    "\n",
    "This NB implements the \"gait_steps.m\" Sean Osis method to detect gait events."
   ]
  },
  {
   "cell_type": "code",
   "execution_count": 1,
   "id": "7f4e9cc6",
   "metadata": {},
   "outputs": [],
   "source": [
    "# Prepare environment\n",
    "import os, glob\n",
    "import numpy as np\n",
    "import pandas as pd\n",
    "import seaborn as sns\n",
    "import matplotlib.pyplot as plt\n",
    "%matplotlib inline\n",
    "\n",
    "from detecta import detect_peaks"
   ]
  },
  {
   "cell_type": "code",
   "execution_count": 2,
   "id": "0a83576f",
   "metadata": {},
   "outputs": [],
   "source": [
    "# Import data\n",
    "pathname = r'../data'"
   ]
  },
  {
   "cell_type": "markdown",
   "id": "23d21fe2-af84-4172-9bb3-7bf8ff196d2c",
   "metadata": {},
   "source": [
    "### Supporting functions"
   ]
  },
  {
   "cell_type": "code",
   "execution_count": 3,
   "id": "3a772a5a-daba-4bb4-8bb0-cdd7c6ff17f8",
   "metadata": {},
   "outputs": [],
   "source": [
    "def f7(seq):\n",
    "    seen = set()\n",
    "    seen_add = seen.add\n",
    "    return [x for x in seq if not (x in seen or seen_add(x))]\n",
    "\n",
    "def loadjson(filename):\n",
    "    import json # import library\n",
    "    with open(fn_json, 'r') as f:\n",
    "        data = json.load(f)\n",
    "    \n",
    "    return data\n",
    "\n",
    "def loadmat(filename):\n",
    "    '''\n",
    "    this function should be called instead of direct spio.loadmat\n",
    "    as it cures the problem of not properly recovering python dictionaries\n",
    "    from mat files. It calls the function check keys to cure all entries\n",
    "    which are still mat-objects\n",
    "    '''\n",
    "    import scipy.io as spio\n",
    "    \n",
    "    def _check_keys(d):\n",
    "        '''\n",
    "        checks if entries in dictionary are mat-objects. If yes\n",
    "        todict is called to change them to nested dictionaries\n",
    "        '''\n",
    "        for key in d:\n",
    "            if isinstance(d[key], spio.matlab.mat_struct):\n",
    "                d[key] = _todict(d[key])\n",
    "        return d\n",
    "\n",
    "    def _todict(matobj):\n",
    "        '''\n",
    "        A recursive function which constructs from matobjects nested dictionaries\n",
    "        '''\n",
    "        d = {}\n",
    "        for strg in matobj._fieldnames:\n",
    "            elem = matobj.__dict__[strg]\n",
    "            if isinstance(elem, spio.matlab.mat_struct):\n",
    "                d[strg] = _todict(elem)\n",
    "            elif isinstance(elem, np.ndarray):\n",
    "                d[strg] = _tolist(elem)\n",
    "            else:\n",
    "                d[strg] = elem\n",
    "        return d\n",
    "\n",
    "    def _tolist(ndarray):\n",
    "        '''\n",
    "        A recursive function which constructs lists from cellarrays\n",
    "        (which are loaded as numpy ndarrays), recursing into the elements\n",
    "        if they contain matobjects.\n",
    "        '''\n",
    "        elem_list = []\n",
    "        for sub_elem in ndarray:\n",
    "            if isinstance(sub_elem, spio.matlab.mat_struct):\n",
    "                elem_list.append(_todict(sub_elem))\n",
    "            elif isinstance(sub_elem, np.ndarray):\n",
    "                elem_list.append(_tolist(sub_elem))\n",
    "            else:\n",
    "                elem_list.append(sub_elem)\n",
    "        return elem_list\n",
    "    data = spio.loadmat(filename, struct_as_record=False, squeeze_me=True)\n",
    "    return _check_keys(data)\n",
    "\n",
    "def cardanangles(r):\n",
    "    '''\n",
    "    %%%%%%%%%%%%%%%%%%%%%%%%%%%%%%%%%%%%%%%%%%%%%%%%%%%%%%%%%%%%%%%%%%%%%%%%%%%\n",
    "    # %   This function inputs the ROTATION matrix for a given joint\n",
    "    # %   at one point in time and uses the cardan angles sequence to\n",
    "    # %   provide the XYZ joint angles in OUT argument\n",
    "    # %\n",
    "    # %   The function uses the following  rotation matrix to calculate angles\n",
    "    # %      | CzCy-SzSySx  SzCy+CzSySx  -SyCx |\n",
    "    # %      | -SzCx        CzCx         Sx    |\n",
    "    # %      | CzSy+SzCySx  SzSy-CzCySx  CyCx  |\n",
    "    # %  INPUTS\n",
    "    # %  --------\n",
    "    # %   R (mat):    A 3x3 rotation matrix for a joint\n",
    "\n",
    "    # %  OUTPUTS\n",
    "    # %  -------\n",
    "    # %  OUT (mat):      The three (1x3) planes of rotation in radians\n",
    "    # %%%%%%%%%%%%%%%%%%%%%%%%%%%%%%%%%%%%%%%%%%%%%%%%%%%%%%%%%%%%%%%%%%%%%%%%%%%\n",
    "    # %%\n",
    "    # %   angle.L_ankle(i,:) = cardanangles(R.L_ankle(:,:,i));\n",
    "\n",
    "    # % the use of atan2 increases the stability by avoiding gimble lock in\n",
    "    # % the physiologicaly posible range of joint angles.\n",
    "    '''\n",
    "    # Prepare Python environment\n",
    "    import numpy as np\n",
    "    x = np.arctan2(r[1,2], np.sqrt(r[0,2]**2+r[2,2]**2))\n",
    "    y = np.arctan2(-r[0,2], r[2,2])\n",
    "    z = np.arctan2(-r[1,0], r[1,1])\n",
    "\n",
    "    out = np.array([x,y,z])\n",
    "\n",
    "    return out"
   ]
  },
  {
   "cell_type": "markdown",
   "id": "5a40dae9",
   "metadata": {
    "tags": []
   },
   "source": [
    "## Import data\n",
    "### RIC data"
   ]
  },
  {
   "cell_type": "code",
   "execution_count": 4,
   "id": "f6193729-bf7e-4aa4-8236-a8783ecb1409",
   "metadata": {},
   "outputs": [],
   "source": [
    "figshare_dir = r'C:\\Users\\Reginaldo\\OneDrive - University of Calgary\\data\\Figshare_SciData\\new_unzip'\n",
    "data_dir = r'../data'"
   ]
  },
  {
   "cell_type": "code",
   "execution_count": 5,
   "id": "1cfd44f6-bcc9-45be-91cd-f9dd09d4dd13",
   "metadata": {},
   "outputs": [
    {
     "data": {
      "text/plain": [
       "dict_keys(['hz_w', 'hz_r', 'walking', 'running', 'joints', 'neutral', 'dv_w', 'dv_r'])"
      ]
     },
     "execution_count": 5,
     "metadata": {},
     "output_type": "execute_result"
    }
   ],
   "source": [
    "fn_json=os.path.join(figshare_dir, '201225', '20140515T133244.json')\n",
    "data_RIC = loadjson(fn_json)\n",
    "data_RIC.keys()"
   ]
  },
  {
   "cell_type": "code",
   "execution_count": 6,
   "id": "afe27f21-3698-4a59-91c6-6cdbb49282ce",
   "metadata": {},
   "outputs": [],
   "source": [
    "# Create dataframe column corresponding to the dataset\n",
    "neutral_lbls = list(data_RIC['neutral'].keys())\n",
    "xyz = list('XYZ')*len(neutral_lbls)\n",
    "neutral_lbls = [ele for ele in neutral_lbls for i in range(3)]\n",
    "neutral_lbls = [neutral_lbls[i]+'_'+xyz[i] for i in range(len(xyz))]\n",
    "\n",
    "# Joint marker labels static trial\n",
    "joints_lbls = list(data_RIC['joints'].keys())\n",
    "xyz = list('XYZ')*len(joints_lbls)\n",
    "joints_lbls = [ele for ele in joints_lbls for i in range(3)]\n",
    "joints_lbls = [joints_lbls[i]+'_'+xyz[i] for i in range(len(xyz))]\n",
    "\n",
    "# Marker labels running trial\n",
    "gait_lbls = list(data_RIC['running'].keys())\n",
    "xyz = list('XYZ')*len(gait_lbls)\n",
    "gait_lbls = [ele for ele in gait_lbls for i in range(3)]\n",
    "gait_lbls = [gait_lbls[i]+'_'+xyz[i] for i in range(len(xyz))]"
   ]
  },
  {
   "cell_type": "code",
   "execution_count": 7,
   "id": "c53f476b-6e8b-45bf-816e-1f50f9dcc734",
   "metadata": {},
   "outputs": [],
   "source": [
    "# Convert dictionaries into pandas dfs\n",
    "neutral = pd.DataFrame.from_dict(data_RIC['neutral']).values.reshape((1,len(neutral_lbls)),\n",
    "                                                                     order='F')\n",
    "joints  = pd.DataFrame.from_dict(data_RIC['joints']).values.reshape((1,len(joints_lbls)),\n",
    "                                                                     order='F')"
   ]
  },
  {
   "cell_type": "code",
   "execution_count": 8,
   "id": "d7925842-36e2-460b-b32f-2631373decde",
   "metadata": {},
   "outputs": [],
   "source": [
    "# Convert dictionaries into pandas dfs\n",
    "neutral = pd.DataFrame(data=neutral, \n",
    "                           columns=neutral_lbls)\n",
    "joints = pd.DataFrame(data=joints, \n",
    "                           columns=joints_lbls)"
   ]
  },
  {
   "cell_type": "code",
   "execution_count": 9,
   "id": "7a2cafee-f4c7-4027-ae8d-18d88f0e603a",
   "metadata": {},
   "outputs": [],
   "source": [
    "run_data = np.empty(shape=(5000, len(list(data_RIC['running'].keys()))*3))\n",
    "for m, mkr in enumerate(list(data_RIC['running'].keys())):\n",
    "    run_data[:, 3*m:3*(m+1)] = np.array(data_RIC['running'][mkr])\n",
    "# Create dataframe with running data\n",
    "gait = pd.DataFrame(data = run_data, columns=gait_lbls)"
   ]
  },
  {
   "cell_type": "markdown",
   "id": "bdb4d797-cbf5-4a27-be9f-1b84c2dcca94",
   "metadata": {},
   "source": [
    "### Running function gait_kinematics.py to output required variables for gait_steps.py"
   ]
  },
  {
   "cell_type": "code",
   "execution_count": 10,
   "id": "fa1732fc-7a70-4a6c-8af4-ed4aacf36673",
   "metadata": {},
   "outputs": [],
   "source": [
    "import sys\n",
    "sys.path.insert(1, r'../functions')\n",
    "from gait_kinematics import gait_kinematics"
   ]
  },
  {
   "cell_type": "code",
   "execution_count": 11,
   "id": "28ada83b-2668-4cb2-93b2-d5ca662e1d0c",
   "metadata": {},
   "outputs": [],
   "source": [
    "# Invoking function to calculate angles\n",
    "R_R_ankle, R_R_knee, R_R_hip, angle_R_foot, angle_Pelvis = gait_kinematics(joints, neutral, gait, data_RIC['hz_r'])"
   ]
  },
  {
   "cell_type": "code",
   "execution_count": 12,
   "id": "b4ff1e91-7a2f-443f-a883-e2a78f0c2b7b",
   "metadata": {},
   "outputs": [],
   "source": [
    "angle_R_ankle = np.empty(shape=(R_R_ankle.shape[2],3)) * np.NaN\n",
    "angle_R_knee = np.empty(shape=(R_R_ankle.shape[2],3)) * np.NaN\n",
    "angle_R_hip = np.empty(shape=(R_R_ankle.shape[2],3)) * np.NaN\n",
    "for i in range(R_R_ankle.shape[2]):\n",
    "    angle_R_ankle[i,:] = cardanangles(R_R_ankle[:,:,i])\n",
    "    angle_R_knee[i,:] = cardanangles(R_R_knee[:,:,i])\n",
    "    angle_R_hip[i,:] = cardanangles(R_R_hip[:,:,i])"
   ]
  },
  {
   "cell_type": "code",
   "execution_count": 13,
   "id": "f823acc3-59d9-4e31-ae82-15914325c2aa",
   "metadata": {},
   "outputs": [],
   "source": [
    "angle_R_ankle = angle_R_ankle * (180/np.pi)\n",
    "angle_R_knee  = angle_R_knee * (180/np.pi)\n",
    "angle_R_hip   = angle_R_hip * (180/np.pi)\n",
    "angle_R_foot  = angle_R_foot * (180/np.pi)\n",
    "angle_Pelvis  = angle_Pelvis * (180/np.pi)"
   ]
  },
  {
   "cell_type": "code",
   "execution_count": 14,
   "id": "46c552f8-dc3a-4ecb-8d20-f566e31e822e",
   "metadata": {},
   "outputs": [],
   "source": [
    "# Create dataframe column corresponding to the dataset\n",
    "joints_lbls = ['pelvis','foot','hip','knee','ankle']\n",
    "xyz = list('XYZ')*len(joints_lbls)\n",
    "joints_lbls = [ele for ele in joints_lbls for i in range(3)]\n",
    "joints_lbls = [joints_lbls[i]+'_'+xyz[i] for i in range(len(xyz))]"
   ]
  },
  {
   "cell_type": "code",
   "execution_count": 15,
   "id": "ab57238e-3031-46c6-b4ef-642542320dfd",
   "metadata": {},
   "outputs": [],
   "source": [
    "angs = np.hstack([angle_Pelvis, angle_R_foot, angle_R_hip, angle_R_knee, angle_R_ankle])"
   ]
  },
  {
   "cell_type": "code",
   "execution_count": 16,
   "id": "e40042da-4401-4fe9-93f2-2c404b778353",
   "metadata": {},
   "outputs": [
    {
     "data": {
      "text/html": [
       "<div>\n",
       "<style scoped>\n",
       "    .dataframe tbody tr th:only-of-type {\n",
       "        vertical-align: middle;\n",
       "    }\n",
       "\n",
       "    .dataframe tbody tr th {\n",
       "        vertical-align: top;\n",
       "    }\n",
       "\n",
       "    .dataframe thead th {\n",
       "        text-align: right;\n",
       "    }\n",
       "</style>\n",
       "<table border=\"1\" class=\"dataframe\">\n",
       "  <thead>\n",
       "    <tr style=\"text-align: right;\">\n",
       "      <th></th>\n",
       "      <th>pelvis_X</th>\n",
       "      <th>pelvis_Y</th>\n",
       "      <th>pelvis_Z</th>\n",
       "      <th>foot_X</th>\n",
       "      <th>foot_Y</th>\n",
       "      <th>foot_Z</th>\n",
       "      <th>hip_X</th>\n",
       "      <th>hip_Y</th>\n",
       "      <th>hip_Z</th>\n",
       "      <th>knee_X</th>\n",
       "      <th>knee_Y</th>\n",
       "      <th>knee_Z</th>\n",
       "      <th>ankle_X</th>\n",
       "      <th>ankle_Y</th>\n",
       "      <th>ankle_Z</th>\n",
       "    </tr>\n",
       "  </thead>\n",
       "  <tbody>\n",
       "    <tr>\n",
       "      <th>0</th>\n",
       "      <td>-0.130881</td>\n",
       "      <td>3.623830</td>\n",
       "      <td>-0.354510</td>\n",
       "      <td>12.427321</td>\n",
       "      <td>3.441102</td>\n",
       "      <td>-87.858121</td>\n",
       "      <td>-10.735628</td>\n",
       "      <td>-6.963042</td>\n",
       "      <td>7.212884</td>\n",
       "      <td>19.450638</td>\n",
       "      <td>16.619757</td>\n",
       "      <td>51.327518</td>\n",
       "      <td>-10.925609</td>\n",
       "      <td>-7.332781</td>\n",
       "      <td>26.055983</td>\n",
       "    </tr>\n",
       "    <tr>\n",
       "      <th>1</th>\n",
       "      <td>-0.109653</td>\n",
       "      <td>3.092453</td>\n",
       "      <td>0.503615</td>\n",
       "      <td>12.336751</td>\n",
       "      <td>4.156125</td>\n",
       "      <td>-87.042577</td>\n",
       "      <td>-9.942102</td>\n",
       "      <td>-6.339841</td>\n",
       "      <td>6.811078</td>\n",
       "      <td>20.051316</td>\n",
       "      <td>15.919602</td>\n",
       "      <td>53.369701</td>\n",
       "      <td>-10.691751</td>\n",
       "      <td>-7.543328</td>\n",
       "      <td>24.570621</td>\n",
       "    </tr>\n",
       "    <tr>\n",
       "      <th>2</th>\n",
       "      <td>-0.132692</td>\n",
       "      <td>2.539050</td>\n",
       "      <td>1.368341</td>\n",
       "      <td>12.218492</td>\n",
       "      <td>4.876927</td>\n",
       "      <td>-86.157714</td>\n",
       "      <td>-9.120387</td>\n",
       "      <td>-5.842418</td>\n",
       "      <td>6.344889</td>\n",
       "      <td>20.630059</td>\n",
       "      <td>15.226790</td>\n",
       "      <td>55.438418</td>\n",
       "      <td>-10.455375</td>\n",
       "      <td>-7.734672</td>\n",
       "      <td>23.052603</td>\n",
       "    </tr>\n",
       "    <tr>\n",
       "      <th>3</th>\n",
       "      <td>-0.216864</td>\n",
       "      <td>1.964295</td>\n",
       "      <td>2.222881</td>\n",
       "      <td>12.066526</td>\n",
       "      <td>5.590107</td>\n",
       "      <td>-85.191288</td>\n",
       "      <td>-8.278570</td>\n",
       "      <td>-5.520388</td>\n",
       "      <td>5.807934</td>\n",
       "      <td>21.161956</td>\n",
       "      <td>14.572236</td>\n",
       "      <td>57.492671</td>\n",
       "      <td>-10.214346</td>\n",
       "      <td>-7.895527</td>\n",
       "      <td>21.521611</td>\n",
       "    </tr>\n",
       "    <tr>\n",
       "      <th>4</th>\n",
       "      <td>-0.372386</td>\n",
       "      <td>1.374357</td>\n",
       "      <td>3.041033</td>\n",
       "      <td>11.879516</td>\n",
       "      <td>6.286569</td>\n",
       "      <td>-84.131576</td>\n",
       "      <td>-7.429120</td>\n",
       "      <td>-5.406812</td>\n",
       "      <td>5.188237</td>\n",
       "      <td>21.626613</td>\n",
       "      <td>13.983739</td>\n",
       "      <td>59.492093</td>\n",
       "      <td>-9.967965</td>\n",
       "      <td>-8.013550</td>\n",
       "      <td>19.994906</td>\n",
       "    </tr>\n",
       "  </tbody>\n",
       "</table>\n",
       "</div>"
      ],
      "text/plain": [
       "   pelvis_X  pelvis_Y  pelvis_Z     foot_X    foot_Y     foot_Z      hip_X  \\\n",
       "0 -0.130881  3.623830 -0.354510  12.427321  3.441102 -87.858121 -10.735628   \n",
       "1 -0.109653  3.092453  0.503615  12.336751  4.156125 -87.042577  -9.942102   \n",
       "2 -0.132692  2.539050  1.368341  12.218492  4.876927 -86.157714  -9.120387   \n",
       "3 -0.216864  1.964295  2.222881  12.066526  5.590107 -85.191288  -8.278570   \n",
       "4 -0.372386  1.374357  3.041033  11.879516  6.286569 -84.131576  -7.429120   \n",
       "\n",
       "      hip_Y     hip_Z     knee_X     knee_Y     knee_Z    ankle_X   ankle_Y  \\\n",
       "0 -6.963042  7.212884  19.450638  16.619757  51.327518 -10.925609 -7.332781   \n",
       "1 -6.339841  6.811078  20.051316  15.919602  53.369701 -10.691751 -7.543328   \n",
       "2 -5.842418  6.344889  20.630059  15.226790  55.438418 -10.455375 -7.734672   \n",
       "3 -5.520388  5.807934  21.161956  14.572236  57.492671 -10.214346 -7.895527   \n",
       "4 -5.406812  5.188237  21.626613  13.983739  59.492093  -9.967965 -8.013550   \n",
       "\n",
       "     ankle_Z  \n",
       "0  26.055983  \n",
       "1  24.570621  \n",
       "2  23.052603  \n",
       "3  21.521611  \n",
       "4  19.994906  "
      ]
     },
     "execution_count": 16,
     "metadata": {},
     "output_type": "execute_result"
    }
   ],
   "source": [
    "angles = pd.DataFrame(data=angs, columns=joints_lbls)\n",
    "angles.head()"
   ]
  },
  {
   "cell_type": "code",
   "execution_count": 17,
   "id": "8dcc4f82-3c1f-4381-bf0b-338770c2b042",
   "metadata": {},
   "outputs": [],
   "source": [
    "#data.loc[:, data.columns.str.contains('in')]"
   ]
  },
  {
   "cell_type": "code",
   "execution_count": 18,
   "id": "778c3460-35c6-45ca-8133-d93b373af00b",
   "metadata": {},
   "outputs": [
    {
     "name": "stdout",
     "output_type": "stream",
     "text": [
      "Gait velocity is 2.904997037904531 m/s\n",
      "Stride rate is 91.6030534351145 strides/min\n"
     ]
    }
   ],
   "source": [
    "#%% Determine functional measures and gait type (walk vs run)\n",
    "# % movement speed comes from the A/P position time history of a heel marker\n",
    "# % so we first need to identify a heel marker\n",
    "# LEFT SIDE\n",
    "# Determine functional measures and gait type (walk vs run) movement speed comes \n",
    "# from the A/P position time history of a heel marker so we first need to identify \n",
    "# a heel marker.\n",
    "\n",
    "# % Combine 3 of the foot markers into one matrix (ignore the created fourth)\n",
    "L_foot = neutral[['L_foot_1_X', 'L_foot_1_Y', 'L_foot_1_Z',\n",
    "              'L_foot_2_X', 'L_foot_2_Y', 'L_foot_2_Z',\n",
    "              'L_foot_3_X', 'L_foot_3_Y', 'L_foot_3_Z']].values.reshape((3,3))\n",
    "# sort the markers from left to right\n",
    "i_lf   = list(L_foot[:, 0].argsort())\n",
    "L_foot = L_foot[L_foot[:, 0].argsort()]\n",
    "\n",
    "# find the lower of the two medial markers\n",
    "if L_foot[1,1] < L_foot[2,1]:\n",
    "    L_marker = 'L_foot_' + str(i_lf[1]+1)\n",
    "    L_heel =  gait.filter(like=L_marker).values\n",
    "else:\n",
    "    L_marker = 'L_foot_' + str(i_lf[2]+1)\n",
    "    L_heel =  gait.filter(like=L_marker).values\n",
    "    \n",
    "# Find peaks location. Signal flipped because of X-axis convention difference.\n",
    "locs0 = detect_peaks(np.diff(L_heel[:,2]), mpd=np.round(0.5*data_RIC['hz_r']), \n",
    "                    mph=0, show=False)\n",
    "pks = np.diff(L_heel[:,2])[locs0]\n",
    "\n",
    "locs = detect_peaks(-np.diff(L_heel[:,2]), mpd=np.round(0.5*data_RIC['hz_r']), \n",
    "                    mph=0, show=False)\n",
    "\n",
    "# Gait velocity and cadence\n",
    "vel    = data_RIC['hz_r']*np.median(pks)/1000; # gait speed\n",
    "stRate = 60/(np.median(np.diff(locs))/data_RIC['hz_r']); # cadence\n",
    "print('Gait velocity is '+str(vel)+' m/s')\n",
    "print('Stride rate is '+str(stRate)+' strides/min')"
   ]
  },
  {
   "cell_type": "code",
   "execution_count": 19,
   "id": "7010a49b-20f5-4081-8619-d9dbc22c748d",
   "metadata": {},
   "outputs": [],
   "source": [
    "#%% RIGHT SIDE\n",
    "# % Combine 3 of the foot markers into one matrix (ignore the created fourth)\n",
    "R_foot = neutral[['R_foot_1_X', 'R_foot_1_Y', 'R_foot_1_Z',\n",
    "              'R_foot_2_X', 'R_foot_2_Y', 'R_foot_2_Z',\n",
    "              'R_foot_3_X', 'R_foot_3_Y', 'R_foot_3_Z']].values.reshape((3,3))\n",
    "# sort the markers from left to right\n",
    "i_rf   = list(R_foot[:, 0].argsort())\n",
    "R_foot = R_foot[R_foot[:, 0].argsort()]\n",
    "\n",
    "# find the lower of the two medial markers\n",
    "if R_foot[0,1] < R_foot[1,1]:\n",
    "    R_marker = 'R_foot_' + str(i_rf[0]+1)\n",
    "    R_heel =  gait.filter(like=R_marker).values\n",
    "else:\n",
    "    R_marker = 'R_foot_' + str(i_rf[1]+1)\n",
    "    R_heel =  gait.filter(like=R_marker).values"
   ]
  },
  {
   "cell_type": "markdown",
   "id": "93e6be44-6a9c-463a-b5cb-51e7b28faf95",
   "metadata": {},
   "source": [
    "### Linear discriminant analysis"
   ]
  },
  {
   "cell_type": "code",
   "execution_count": 20,
   "id": "487d8ea5-1425-46da-be3d-e0577cf0f179",
   "metadata": {},
   "outputs": [],
   "source": [
    "from sklearn.discriminant_analysis import LinearDiscriminantAnalysis"
   ]
  },
  {
   "cell_type": "code",
   "execution_count": 21,
   "id": "a93923d1-1523-40b6-94a8-2e0dca0484c3",
   "metadata": {},
   "outputs": [],
   "source": [
    "# Import training dataset\n",
    "gaitClass = pd.read_csv(os.path.join(pathname, 'LDA_out.txt'), delimiter='\\t', \n",
    "                        header=None, names=['Category','Speed','Cadence'], usecols=[0,1,2])\n",
    "# Replace numerical by categorical\n",
    "gaitClass['Category'] = gaitClass['Category'].replace(1, 'walk')\n",
    "gaitClass['Category'] = gaitClass['Category'].replace(2, 'run')"
   ]
  },
  {
   "cell_type": "code",
   "execution_count": 22,
   "id": "1f3cfac3-d583-4ae6-bd9a-a94eac7fea8a",
   "metadata": {},
   "outputs": [
    {
     "name": "stdout",
     "output_type": "stream",
     "text": [
      "Gait category is run\n"
     ]
    }
   ],
   "source": [
    "# Input to the model\n",
    "X = gaitClass[['Speed','Cadence']].values # training data\n",
    "y = gaitClass['Category'].values.tolist() # testing data\n",
    "model = LinearDiscriminantAnalysis()# define model\n",
    "model.fit(X, y) # Model fit\n",
    "\n",
    "# make a prediction\n",
    "yhat = model.predict(np.array([vel,stRate]).reshape((1,2)))[0]\n",
    "print('Gait category is '+yhat)"
   ]
  },
  {
   "cell_type": "markdown",
   "id": "35c77e87-f731-47b6-ba32-a94fa1294875",
   "metadata": {},
   "source": [
    "### Function pca_td.py"
   ]
  },
  {
   "cell_type": "code",
   "execution_count": 23,
   "id": "d3db5940-06f9-46b4-b9a6-a88e3a1ac425",
   "metadata": {},
   "outputs": [],
   "source": [
    "# Prepare Python environment\n",
    "import scipy.io\n",
    "import os\n",
    "from scipy import signal"
   ]
  },
  {
   "cell_type": "code",
   "execution_count": 24,
   "id": "ea4dbf99-88f8-4a30-b63d-1e0e48d66d45",
   "metadata": {},
   "outputs": [],
   "source": [
    "\"\"\"\n",
    "%PCA_TD applies a pre-trained algorithm to detect touchdown events.\n",
    "%\n",
    "%   [EVTL,EVTR] = PCA_TD(ANGLES,HZ,GAIT)\n",
    "%\n",
    "%   This function takes in the ANGLES output from a *_kinematics.m function\n",
    "%   and the sampling frequency HZ, and outputs touchdown events as\n",
    "%   determined by the Osis et al. (2014) method.  GAIT is a label for type\n",
    "%   of gait (must be either 'walk' or 'run') which determines the model\n",
    "%   that will be applied.  EVTL and EVTR are vectors of indices\n",
    "%   corresponding to the timing of touchdowns from the original ANGLES\n",
    "%   signals. NOTE: EVTL and EVTR are not rounded... rounding is completed\n",
    "%   in *_steps functions.\n",
    "%\n",
    "%   Created By: Sean Osis on March 10, 2014\n",
    "%\n",
    "%   Copyright (C) 2014, Sean Osis and The Running Injury Clinic\n",
    "%\n",
    "%   Update, July, 2015: Code now implements event detection for both\n",
    "%   walking and running using model trained for both.  Bias is currently\n",
    "%   eliminated as it does not drastically improve fit.\n",
    "%\n",
    "%   Update, Jan, 2016: Code has been tested for running and walking with\n",
    "%   full research database.  Roughly 3% of cases demonstrate issues with\n",
    "%   event detection for running, mostly due to atypical movement patterns\n",
    "%   and very fast speeds ~4m/s.  Roughly 7% of cases demonstrate issues\n",
    "%   with detection for walking, mostly due to large variability in walking\n",
    "%   strides, however, many of these can be screened for contigous blocks or\n",
    "%   to have bad steps removed.\n",
    "\"\"\"\n",
    "\n",
    "\n",
    "# Input parameters\n",
    "hz = 200\n",
    "gait_mode = yhat\n",
    "angles = angles\n",
    "# Load PCA output from mat file\n",
    "# % event_data is a .mat file containing 'coeff' which is the coefficients\n",
    "# % from the pre-trained PCA and 'p' which is the list of coefficients of the\n",
    "# % linear polynomial relating PCA scores with touchdown timing relative to\n",
    "# % the foot acceleration peak.\n",
    "mat = scipy.io.loadmat(os.path.join(pathname, 'event_data_TD.mat'))\n",
    "\n",
    "# Future use for separate left and right coefficients if needed... right\n",
    "# now there appears to be no benefit to having them separate\n",
    "coeffL = mat['coeff']\n",
    "coeffR = mat['coeff']\n",
    "\n",
    "pL = mat['p'].flatten()\n",
    "pR = mat['p'].flatten()\n",
    "\n",
    "#%% Default sampling rate for which model was originally developed\n",
    "defaultHz = 200\n",
    "\n",
    "# The length of the search window when finding positive peaks in the foot\n",
    "# acceleration signal\n",
    "srchlgth = round(0.175*defaultHz)\n",
    "\n",
    "# Chunk length for PCA... determined to be 35 frames on either side of the\n",
    "# foot accel peak which is 35/200 = 0.175\n",
    "#chnklgth = round(0.175*hz)\n",
    "chnklgth = round(0.175*defaultHz)\n",
    "\n",
    "# Minimum distance between foot acceleration peaks\n",
    "if gait_mode=='walk':\n",
    "    minpkdist = round(0.7*defaultHz)\n",
    "else:\n",
    "    minpkdist = round(0.5*defaultHz)\n",
    "\n",
    "# Minimum peak height for finding negative acceleration peaks\n",
    "negminpkht = 0.1\n",
    "\n",
    "# Minimum peak height for finding positive acceleration peaks\n",
    "posminpkht = 0.01\n",
    "\n",
    "# Bias added to event timing to compensate for the bias evident from the\n",
    "# methodology used in Osis et al. (2014).  This bias may be due to changes\n",
    "# in timing when differentiating.  Bias should be added in seconds in order\n",
    "# to allow for different frame rates\n",
    "bias = 0*defaultHz;\n",
    "\n",
    "#%% %% Resample signal if needed\n",
    "# Original model trained on 200Hz\n",
    "\n",
    "if hz < 100:\n",
    "    print(\"Error! 'Sampling frequency is less than 100 Hz. Event detection may provide inconsistent results at low sampling rates.'!\")\n",
    "    sys.exit()\n",
    "\n",
    "elif hz!=defaultHz:\n",
    "    \n",
    "    # Resample the signals to match 200 Hz for methods below\n",
    "    temp = angles.values\n",
    "    temp = signal.resample_poly(temp, defaultHz, hz)\n",
    "    \n",
    "    angles.values = temp"
   ]
  },
  {
   "cell_type": "code",
   "execution_count": 25,
   "id": "a847989b-9f94-4d7e-9eff-f5427590c007",
   "metadata": {},
   "outputs": [
    {
     "data": {
      "text/html": [
       "<div>\n",
       "<style scoped>\n",
       "    .dataframe tbody tr th:only-of-type {\n",
       "        vertical-align: middle;\n",
       "    }\n",
       "\n",
       "    .dataframe tbody tr th {\n",
       "        vertical-align: top;\n",
       "    }\n",
       "\n",
       "    .dataframe thead th {\n",
       "        text-align: right;\n",
       "    }\n",
       "</style>\n",
       "<table border=\"1\" class=\"dataframe\">\n",
       "  <thead>\n",
       "    <tr style=\"text-align: right;\">\n",
       "      <th></th>\n",
       "      <th>pelvis_X</th>\n",
       "      <th>pelvis_Y</th>\n",
       "      <th>pelvis_Z</th>\n",
       "      <th>foot_X</th>\n",
       "      <th>foot_Y</th>\n",
       "      <th>foot_Z</th>\n",
       "      <th>hip_X</th>\n",
       "      <th>hip_Y</th>\n",
       "      <th>hip_Z</th>\n",
       "      <th>knee_X</th>\n",
       "      <th>knee_Y</th>\n",
       "      <th>knee_Z</th>\n",
       "      <th>ankle_X</th>\n",
       "      <th>ankle_Y</th>\n",
       "      <th>ankle_Z</th>\n",
       "    </tr>\n",
       "  </thead>\n",
       "  <tbody>\n",
       "    <tr>\n",
       "      <th>0</th>\n",
       "      <td>-0.130881</td>\n",
       "      <td>3.623830</td>\n",
       "      <td>-0.354510</td>\n",
       "      <td>12.427321</td>\n",
       "      <td>3.441102</td>\n",
       "      <td>-87.858121</td>\n",
       "      <td>-10.735628</td>\n",
       "      <td>-6.963042</td>\n",
       "      <td>7.212884</td>\n",
       "      <td>19.450638</td>\n",
       "      <td>16.619757</td>\n",
       "      <td>51.327518</td>\n",
       "      <td>-10.925609</td>\n",
       "      <td>-7.332781</td>\n",
       "      <td>26.055983</td>\n",
       "    </tr>\n",
       "    <tr>\n",
       "      <th>1</th>\n",
       "      <td>-0.109653</td>\n",
       "      <td>3.092453</td>\n",
       "      <td>0.503615</td>\n",
       "      <td>12.336751</td>\n",
       "      <td>4.156125</td>\n",
       "      <td>-87.042577</td>\n",
       "      <td>-9.942102</td>\n",
       "      <td>-6.339841</td>\n",
       "      <td>6.811078</td>\n",
       "      <td>20.051316</td>\n",
       "      <td>15.919602</td>\n",
       "      <td>53.369701</td>\n",
       "      <td>-10.691751</td>\n",
       "      <td>-7.543328</td>\n",
       "      <td>24.570621</td>\n",
       "    </tr>\n",
       "    <tr>\n",
       "      <th>2</th>\n",
       "      <td>-0.132692</td>\n",
       "      <td>2.539050</td>\n",
       "      <td>1.368341</td>\n",
       "      <td>12.218492</td>\n",
       "      <td>4.876927</td>\n",
       "      <td>-86.157714</td>\n",
       "      <td>-9.120387</td>\n",
       "      <td>-5.842418</td>\n",
       "      <td>6.344889</td>\n",
       "      <td>20.630059</td>\n",
       "      <td>15.226790</td>\n",
       "      <td>55.438418</td>\n",
       "      <td>-10.455375</td>\n",
       "      <td>-7.734672</td>\n",
       "      <td>23.052603</td>\n",
       "    </tr>\n",
       "    <tr>\n",
       "      <th>3</th>\n",
       "      <td>-0.216864</td>\n",
       "      <td>1.964295</td>\n",
       "      <td>2.222881</td>\n",
       "      <td>12.066526</td>\n",
       "      <td>5.590107</td>\n",
       "      <td>-85.191288</td>\n",
       "      <td>-8.278570</td>\n",
       "      <td>-5.520388</td>\n",
       "      <td>5.807934</td>\n",
       "      <td>21.161956</td>\n",
       "      <td>14.572236</td>\n",
       "      <td>57.492671</td>\n",
       "      <td>-10.214346</td>\n",
       "      <td>-7.895527</td>\n",
       "      <td>21.521611</td>\n",
       "    </tr>\n",
       "    <tr>\n",
       "      <th>4</th>\n",
       "      <td>-0.372386</td>\n",
       "      <td>1.374357</td>\n",
       "      <td>3.041033</td>\n",
       "      <td>11.879516</td>\n",
       "      <td>6.286569</td>\n",
       "      <td>-84.131576</td>\n",
       "      <td>-7.429120</td>\n",
       "      <td>-5.406812</td>\n",
       "      <td>5.188237</td>\n",
       "      <td>21.626613</td>\n",
       "      <td>13.983739</td>\n",
       "      <td>59.492093</td>\n",
       "      <td>-9.967965</td>\n",
       "      <td>-8.013550</td>\n",
       "      <td>19.994906</td>\n",
       "    </tr>\n",
       "  </tbody>\n",
       "</table>\n",
       "</div>"
      ],
      "text/plain": [
       "   pelvis_X  pelvis_Y  pelvis_Z     foot_X    foot_Y     foot_Z      hip_X  \\\n",
       "0 -0.130881  3.623830 -0.354510  12.427321  3.441102 -87.858121 -10.735628   \n",
       "1 -0.109653  3.092453  0.503615  12.336751  4.156125 -87.042577  -9.942102   \n",
       "2 -0.132692  2.539050  1.368341  12.218492  4.876927 -86.157714  -9.120387   \n",
       "3 -0.216864  1.964295  2.222881  12.066526  5.590107 -85.191288  -8.278570   \n",
       "4 -0.372386  1.374357  3.041033  11.879516  6.286569 -84.131576  -7.429120   \n",
       "\n",
       "      hip_Y     hip_Z     knee_X     knee_Y     knee_Z    ankle_X   ankle_Y  \\\n",
       "0 -6.963042  7.212884  19.450638  16.619757  51.327518 -10.925609 -7.332781   \n",
       "1 -6.339841  6.811078  20.051316  15.919602  53.369701 -10.691751 -7.543328   \n",
       "2 -5.842418  6.344889  20.630059  15.226790  55.438418 -10.455375 -7.734672   \n",
       "3 -5.520388  5.807934  21.161956  14.572236  57.492671 -10.214346 -7.895527   \n",
       "4 -5.406812  5.188237  21.626613  13.983739  59.492093  -9.967965 -8.013550   \n",
       "\n",
       "     ankle_Z  \n",
       "0  26.055983  \n",
       "1  24.570621  \n",
       "2  23.052603  \n",
       "3  21.521611  \n",
       "4  19.994906  "
      ]
     },
     "execution_count": 25,
     "metadata": {},
     "output_type": "execute_result"
    }
   ],
   "source": [
    "angles.head()"
   ]
  },
  {
   "cell_type": "code",
   "execution_count": 26,
   "id": "7e19af87-7b7a-474e-a23f-59bcde4e17eb",
   "metadata": {},
   "outputs": [],
   "source": [
    "#%% Right Side Touchdown Detections\n",
    "\n",
    "#% Flip the foot in sagittal and differentiate\n",
    "negsig = -np.diff(angles['foot_Z'].values, 2)"
   ]
  },
  {
   "cell_type": "markdown",
   "id": "ebd7ccb6-59b4-44df-800b-84cab25bd24a",
   "metadata": {},
   "source": [
    "# PENDING\n",
    "## CONTINUE REPRODUCING THE pca_td.m code from here"
   ]
  },
  {
   "cell_type": "code",
   "execution_count": null,
   "id": "f0f66681-c047-48df-8168-67ff7aa3bbe6",
   "metadata": {},
   "outputs": [],
   "source": []
  },
  {
   "cell_type": "code",
   "execution_count": 27,
   "id": "4c5d4ff5-cfa2-4dc5-bf8c-b7e601f15fd6",
   "metadata": {},
   "outputs": [
    {
     "data": {
      "text/plain": [
       "array([-0.06931977, -0.08156313, -0.09328528, -0.10171603, -0.10702868])"
      ]
     },
     "execution_count": 27,
     "metadata": {},
     "output_type": "execute_result"
    }
   ],
   "source": [
    "negsig[:5]"
   ]
  },
  {
   "cell_type": "code",
   "execution_count": null,
   "id": "863b8e1d-d3d7-46b3-b7d5-e5b475a4eb10",
   "metadata": {},
   "outputs": [],
   "source": [
    "angles.filter(like=R_marker).values"
   ]
  },
  {
   "cell_type": "code",
   "execution_count": null,
   "id": "9258206a-e4b6-4109-a074-20aaf1fd4a9c",
   "metadata": {},
   "outputs": [],
   "source": []
  },
  {
   "cell_type": "code",
   "execution_count": null,
   "id": "e26017e2-8234-4900-b4b7-f5c58d49302a",
   "metadata": {},
   "outputs": [],
   "source": [
    "#%% Identify Touch Down and Take Off events: Gait Independent\n",
    "# % Use PCA touchdown detection based on updated Osis et al. (2014) for\n",
    "# % both walking and running.\n",
    "# % Use new PCA toeoff detection for both walking and running.\n",
    "# % evt variables are NOT rounded\n",
    "try\n",
    "    [evtLtd,evtRtd] = pca_td(angles,hz,label);\n",
    "    [evtLto,evtRto] = pca_to(angles,hz,label);\n",
    "catch ME\n",
    "    %For a small number of people, these functions return errors, or in the\n",
    "    %case of bad data... default to use FF and FB in these cases\n",
    "    \n",
    "    evtLtd = [];\n",
    "    evtRtd = [];\n",
    "    evtLto = [];\n",
    "    evtRto = [];\n",
    "    \n",
    "    disp('Automated event detection failed, defaulting to foot-forward foot-back')\n",
    "    \n",
    "    ME.message;\n",
    "end"
   ]
  },
  {
   "cell_type": "code",
   "execution_count": null,
   "id": "91b814d2-598a-49db-a91c-f5b88dc92c20",
   "metadata": {},
   "outputs": [],
   "source": [
    "model.coef_"
   ]
  },
  {
   "cell_type": "code",
   "execution_count": null,
   "id": "74770de0-65c4-44f0-b413-608a79a4ee2d",
   "metadata": {},
   "outputs": [],
   "source": [
    "model.priors_"
   ]
  },
  {
   "cell_type": "code",
   "execution_count": null,
   "id": "7fe727b8-6540-4d08-bcea-5a93aae67bfe",
   "metadata": {},
   "outputs": [],
   "source": []
  },
  {
   "cell_type": "markdown",
   "id": "bb703850-67eb-4ef5-a5fb-209203aace06",
   "metadata": {},
   "source": [
    "## Plot compare outputs"
   ]
  },
  {
   "cell_type": "code",
   "execution_count": null,
   "id": "94cb1f2b-2acc-4aec-bc0c-20d5b8509309",
   "metadata": {},
   "outputs": [],
   "source": [
    "tn = np.linspace(0,angle_R_ankle.shape[0],num=angle_R_ankle.shape[0])"
   ]
  },
  {
   "cell_type": "code",
   "execution_count": null,
   "id": "9d6b9cce-a234-45e1-aae2-7ff50ae97aa6",
   "metadata": {},
   "outputs": [],
   "source": [
    "# Import foot angles calculated in Matlab\n",
    "fn_f_matlab = os.path.join(pathname, 'r_foot_angle_R.txt')\n",
    "angf_matlab = np.loadtxt(fn_f_matlab) * (np.pi/180)"
   ]
  },
  {
   "cell_type": "code",
   "execution_count": null,
   "id": "b80b1d35-0298-4a9e-bd08-69e9b5b980c9",
   "metadata": {},
   "outputs": [],
   "source": [
    "fig, axs = plt.subplots(1,3, figsize=(10,6))\n",
    "fig.suptitle('Comparison of foot angles between methods')\n",
    "axs[0].plot(angle_R_foot[:,0], 'b', label='Python')\n",
    "axs[0].plot(tn[0::5],angf_matlab[0::5,0], 'bo', label='Matlab')\n",
    "axs[0].grid('on')\n",
    "axs[1].plot(angle_R_foot[:,1], 'r', label='Python')\n",
    "axs[1].plot(tn[0::5],angf_matlab[0::5,1], 'ro', label='Matlab')\n",
    "axs[1].grid('on')\n",
    "axs[2].plot(angle_R_foot[:,2], 'g', label='Python')\n",
    "axs[2].plot(tn[0::5],angf_matlab[0::5,2], 'go', label='Matlab')\n",
    "axs[2].grid('on')\n",
    "plt.show()"
   ]
  },
  {
   "cell_type": "code",
   "execution_count": null,
   "id": "be3b6dda-ed7b-46c5-af39-e6179b37f441",
   "metadata": {},
   "outputs": [],
   "source": [
    "# Import Pelvis angles calculated in Matlab\n",
    "fn_p_matlab = os.path.join(pathname, 'r_pelvis_angle.txt')\n",
    "angp_matlab = np.loadtxt(fn_p_matlab) * (np.pi/180)"
   ]
  },
  {
   "cell_type": "code",
   "execution_count": null,
   "id": "f6c3208e-fce5-4ab7-9121-9dc9813f672c",
   "metadata": {},
   "outputs": [],
   "source": [
    "fig, axs = plt.subplots(1,3, figsize=(10,6))\n",
    "fig.suptitle('Comparison of foot angles between methods')\n",
    "axs[0].plot(angle_Pelvis[:,0], 'b', label='Python')\n",
    "axs[0].plot(tn[0::5],angp_matlab[0::5,0], 'bo', label='Matlab')\n",
    "axs[0].grid('on')\n",
    "axs[1].plot(angle_Pelvis[:,1], 'r', label='Python')\n",
    "axs[1].plot(tn[0::5],angp_matlab[0::5,1], 'ro', label='Matlab')\n",
    "axs[1].grid('on')\n",
    "axs[2].plot(angle_Pelvis[:,2], 'g', label='Python')\n",
    "axs[2].plot(tn[0::5],angp_matlab[0::5,2], 'go', label='Matlab')\n",
    "axs[2].grid('on')\n",
    "plt.show()"
   ]
  },
  {
   "cell_type": "code",
   "execution_count": null,
   "id": "70848d88-fe27-4f2d-a2ba-76c735981d47",
   "metadata": {},
   "outputs": [],
   "source": [
    "# Import ankle angles calculated in Matlab\n",
    "fn_a_matlab = os.path.join(pathname, 'r_ankle_angle_R.txt')\n",
    "anga_matlab = np.loadtxt(fn_a_matlab)\n",
    "anga_matlab = anga_matlab"
   ]
  },
  {
   "cell_type": "code",
   "execution_count": null,
   "id": "e9e00eda-ae72-486e-8baa-e1f906d9db58",
   "metadata": {},
   "outputs": [],
   "source": []
  },
  {
   "cell_type": "code",
   "execution_count": null,
   "id": "868faba1-234f-42c6-924b-f035043a6259",
   "metadata": {
    "tags": []
   },
   "outputs": [],
   "source": [
    "fig, axs = plt.subplots(3, figsize=(10,6))\n",
    "fig.suptitle('Comparison of ankle angles between methods')\n",
    "axs[0].plot(angle_R_ankle[:,0], 'b', label='Python')\n",
    "axs[0].plot(tn[0::5],anga_matlab[0::5,0], 'b*', label='Matlab')\n",
    "axs[0].grid('on')\n",
    "axs[1].plot(angle_R_ankle[:,1], 'r', label='Python')\n",
    "axs[1].plot(tn[0::5],anga_matlab[0::5,1], 'r*', label='Matlab')\n",
    "axs[1].grid('on')\n",
    "axs[2].plot(angle_R_ankle[:,2], 'g', label='Python')\n",
    "axs[2].plot(tn[0::5],anga_matlab[0::5,2], 'g*', label='Matlab')\n",
    "axs[2].grid('on')\n",
    "plt.show()"
   ]
  },
  {
   "cell_type": "code",
   "execution_count": null,
   "id": "ee220a22-43d2-4a5f-90c0-50b7a6540d72",
   "metadata": {},
   "outputs": [],
   "source": [
    "# Import ankle angles calculated in Matlab\n",
    "fn_k_matlab = os.path.join(pathname, 'r_knee_angle_R.txt')\n",
    "angk_matlab = np.loadtxt(fn_k_matlab)\n",
    "angk_matlab = angk_matlab"
   ]
  },
  {
   "cell_type": "code",
   "execution_count": null,
   "id": "2e67e112-93c2-411c-b23c-9b12b8fe7c4e",
   "metadata": {
    "tags": []
   },
   "outputs": [],
   "source": [
    "fig, axs = plt.subplots(3, figsize=(10,6))\n",
    "fig.suptitle('Comparison of knee angles between methods')\n",
    "axs[0].plot(angle_R_knee[:,0], 'b', label='Python')\n",
    "axs[0].plot(tn[0::5],angk_matlab[0::5,0], 'b*', label='Matlab')\n",
    "axs[0].grid('on')\n",
    "axs[1].plot(angle_R_knee[:,1], 'r', label='Python')\n",
    "axs[1].plot(tn[0::5],angk_matlab[0::5,1], 'r*', label='Matlab')\n",
    "axs[1].grid('on')\n",
    "axs[2].plot(angle_R_knee[:,2], 'g', label='Python')\n",
    "axs[2].plot(tn[0::5],angk_matlab[0::5,2], 'g*', label='Matlab')\n",
    "axs[2].grid('on')\n",
    "plt.show()"
   ]
  },
  {
   "cell_type": "code",
   "execution_count": null,
   "id": "b5de1186-8b38-4ede-9e4e-cefa2b9c03fd",
   "metadata": {},
   "outputs": [],
   "source": [
    "# Import ankle angles calculated in Matlab\n",
    "fn_h_matlab = os.path.join(pathname, 'r_hip_angle_R.txt')\n",
    "angh_matlab = np.loadtxt(fn_h_matlab)\n",
    "angh_matlab = angh_matlab"
   ]
  },
  {
   "cell_type": "code",
   "execution_count": null,
   "id": "3d03992a-e056-492e-a6e2-f515972e84c8",
   "metadata": {
    "tags": []
   },
   "outputs": [],
   "source": [
    "fig, axs = plt.subplots(3, figsize=(10,6))\n",
    "fig.suptitle('Comparison of knee angles between methods')\n",
    "axs[0].plot(tn,angle_R_hip[:,0], 'b', label='Python')\n",
    "axs[0].plot(tn[0::5],angh_matlab[0::5,0], 'bo', label='Matlab')\n",
    "axs[0].grid('on')\n",
    "axs[1].plot(angle_R_hip[:,1], 'r', label='Python')\n",
    "axs[1].plot(tn[0::5],angh_matlab[0::5,1], 'ro', label='Matlab')\n",
    "axs[1].grid('on')\n",
    "axs[2].plot(angle_R_hip[:,2], 'g', label='Python')\n",
    "axs[2].plot(tn[0::5],angh_matlab[0::5,2], 'go', label='Matlab')\n",
    "axs[2].grid('on')\n",
    "plt.show()"
   ]
  },
  {
   "cell_type": "code",
   "execution_count": null,
   "id": "39c543f1-d1f6-4ab4-9739-6be79483527d",
   "metadata": {},
   "outputs": [],
   "source": []
  },
  {
   "cell_type": "code",
   "execution_count": null,
   "id": "46bb950a-71da-4b83-8456-6dbe0d7f1e04",
   "metadata": {},
   "outputs": [],
   "source": []
  },
  {
   "cell_type": "code",
   "execution_count": null,
   "id": "747867f1",
   "metadata": {},
   "outputs": [],
   "source": []
  }
 ],
 "metadata": {
  "kernelspec": {
   "display_name": "Python 3 (ipykernel)",
   "language": "python",
   "name": "python3"
  },
  "language_info": {
   "codemirror_mode": {
    "name": "ipython",
    "version": 3
   },
   "file_extension": ".py",
   "mimetype": "text/x-python",
   "name": "python",
   "nbconvert_exporter": "python",
   "pygments_lexer": "ipython3",
   "version": "3.9.16"
  }
 },
 "nbformat": 4,
 "nbformat_minor": 5
}
