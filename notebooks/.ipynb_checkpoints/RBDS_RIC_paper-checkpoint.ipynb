{
 "cells": [
  {
   "cell_type": "markdown",
   "id": "b12e57ac",
   "metadata": {},
   "source": [
    "# Inter-laboratory comparison of 3D running kinematics\n",
    "\n",
    "Reginaldo K Fukuchi \n",
    "\n",
    "This NB does the following:\n",
    "* Descriptive and inferential stats of demographics\n",
    "* SPM and RMSE analyses between centres\n",
    "* Create ensemble time series curves for the groups\n",
    "* Batch process calculation of time normalized 3D kinematics of pelvis and lower-extremity joints"
   ]
  },
  {
   "cell_type": "code",
   "execution_count": 1,
   "id": "7f4e9cc6",
   "metadata": {},
   "outputs": [],
   "source": [
    "# Prepare environment\n",
    "import os, sys\n",
    "import numpy as np\n",
    "import pandas as pd\n",
    "import matplotlib.pyplot as plt\n",
    "from tqdm.notebook import tqdm\n",
    "import pingouin as pg\n",
    "\n",
    "%matplotlib inline\n",
    "\n",
    "import sys\n",
    "sys.path.insert(1, r'../functions')\n",
    "\n",
    "pd.set_option(\"display.precision\", 2)"
   ]
  },
  {
   "cell_type": "markdown",
   "id": "4022c054-eb81-4204-8054-093b436d27f3",
   "metadata": {},
   "source": [
    "## Supporting stats functions"
   ]
  },
  {
   "cell_type": "code",
   "execution_count": 2,
   "id": "724cf981-30b0-456b-b58f-13e141778b43",
   "metadata": {},
   "outputs": [],
   "source": [
    "def ttest(df, var, factor, levels=None, alpha=0.05):\n",
    "    \"\"\"t-test statistcs for dataframe columns using the pingouin library.\n",
    "    \"\"\"\n",
    "    stats = pd.DataFrame()\n",
    "    if levels is None:\n",
    "        levels = df[factor].unique()\n",
    "    if len(levels) != 2:\n",
    "        raise Exception('Incorrect number of levels: {}'.format(len(levels)))\n",
    "    for v in var:\n",
    "        x = df[df[factor] == levels[0]][v]\n",
    "        y = df[df[factor] == levels[1]][v]\n",
    "        stat = pg.ttest(x, y)\n",
    "        stat.index = [v]\n",
    "        stats = pd.concat([stats, stat], axis=0)\n",
    "    stats.drop(columns=['BF10', 'power'], inplace=True)\n",
    "    stats.index.name = '{}-{}'.format(*levels)\n",
    "    display(stats.style.format({'p-val': '{:.3f}'}).apply(sig_red, subset='p-val', axis=1))\n",
    "    return stats\n",
    "\n",
    "def normality(df):\n",
    "    \"\"\"Get the p-val of the normality test using the pingouin library.\n",
    "    \"\"\"\n",
    "    return pg.normality(df)['pval']\n",
    "\n",
    "def sig_red(col, alpha=0.05):\n",
    "    \"\"\"Returns string 'color: red' for `col` < `alpha`, black otherwise.\n",
    "    \"\"\"\n",
    "    is_sig = col < alpha\n",
    "    return ['color: red' if x else 'color: black' for x in is_sig]\n",
    "\n",
    "def describe(df, by, var=['count', 'mean', 'std', 'min', 'max', normality]):\n",
    "    \"\"\"Descriptive statistics for dataframe columns.\n",
    "    \"\"\"\n",
    "    x = df.groupby(by).agg(var).stack().transpose()\n",
    "    display(x.style.apply(sig_red,\n",
    "                          subset=[col for col in x.columns if col[1] == 'normality']))    \n",
    "    return x"
   ]
  },
  {
   "cell_type": "code",
   "execution_count": 3,
   "id": "5529672e-06a6-4630-abb7-82d590d9d61f",
   "metadata": {},
   "outputs": [],
   "source": [
    "# File directories \n",
    "dir_data = r'../data' "
   ]
  },
  {
   "cell_type": "markdown",
   "id": "14313d74-5c21-4ba2-9459-96d1d2cac5c8",
   "metadata": {},
   "source": [
    "## Prepare metadata for the paper"
   ]
  },
  {
   "cell_type": "code",
   "execution_count": 4,
   "id": "5a9d3c8a-56b1-465c-be3b-1122e3d3a259",
   "metadata": {},
   "outputs": [],
   "source": [
    "info_both = pd.read_csv(os.path.join(dir_data, 'info_both.csv'), \n",
    "                        usecols = ['sub_id', 'filename', 'speed', 'Age', 'Height', \n",
    "                                   'Mass', 'group'])\n",
    "\n",
    "info_both['group'] = info_both['group'].replace('RBDS','BMC')\n",
    "\n",
    "nRBDS = info_both[info_both['group']=='BMC'].shape[0] #Nsubjects\n",
    "nRIC  = info_both[info_both['group']=='RIC'].shape[0]\n",
    "\n",
    "RBDS_ids = ['BMC'+'{:02d}'.format(s+1) for s in range(nRBDS)]\n",
    "RIC_ids  = ['RIC'+'{:02d}'.format(s+1) for s in range(nRIC)]\n",
    "sub_id = RBDS_ids + RIC_ids # list of IDs\n",
    "\n",
    "fnames = [fn+'angs.txt' for fn in sub_id] # list of filenames\n",
    "\n",
    "info_both['ID'] = sub_id\n",
    "info_both['filename'] = fnames\n",
    "\n",
    "info = info_both.drop('sub_id', axis=1) # drop sub_id column\n",
    "info = info[['ID', 'filename', 'speed', 'Age', 'Height', 'Mass', 'group']] # reorder columns\n",
    "#info.to_csv(os.path.join(dir_data,'metadata.csv')) # export file"
   ]
  },
  {
   "cell_type": "markdown",
   "id": "0aa26341-eb67-47c2-b5a4-844446137414",
   "metadata": {},
   "source": [
    "## Descriptive stats\n",
    "### Age, height and mass"
   ]
  },
  {
   "cell_type": "code",
   "execution_count": 5,
   "id": "ed565bd9-aff4-424f-ac94-bf3bae5531b5",
   "metadata": {},
   "outputs": [],
   "source": [
    "info_both = pd.read_csv(os.path.join(dir_data, 'info_both.csv'), \n",
    "                        usecols = ['sub_id', 'filename', 'speed', 'Age', 'Height', \n",
    "                                   'Mass', 'group'])"
   ]
  },
  {
   "cell_type": "code",
   "execution_count": 6,
   "id": "69ecd77f-5bc6-4703-81d8-7844bbc74062",
   "metadata": {},
   "outputs": [
    {
     "data": {
      "text/html": [
       "<style type=\"text/css\">\n",
       "#T_3a0b4_row0_col3, #T_3a0b4_row0_col7, #T_3a0b4_row1_col3, #T_3a0b4_row1_col7, #T_3a0b4_row2_col3, #T_3a0b4_row2_col7 {\n",
       "  color: black;\n",
       "}\n",
       "</style>\n",
       "<table id=\"T_3a0b4\">\n",
       "  <thead>\n",
       "    <tr>\n",
       "      <th class=\"index_name level0\" >group</th>\n",
       "      <th id=\"T_3a0b4_level0_col0\" class=\"col_heading level0 col0\" colspan=\"4\">RBDS</th>\n",
       "      <th id=\"T_3a0b4_level0_col4\" class=\"col_heading level0 col4\" colspan=\"4\">RIC</th>\n",
       "    </tr>\n",
       "    <tr>\n",
       "      <th class=\"blank level1\" >&nbsp;</th>\n",
       "      <th id=\"T_3a0b4_level1_col0\" class=\"col_heading level1 col0\" >count</th>\n",
       "      <th id=\"T_3a0b4_level1_col1\" class=\"col_heading level1 col1\" >mean</th>\n",
       "      <th id=\"T_3a0b4_level1_col2\" class=\"col_heading level1 col2\" >std</th>\n",
       "      <th id=\"T_3a0b4_level1_col3\" class=\"col_heading level1 col3\" >normality</th>\n",
       "      <th id=\"T_3a0b4_level1_col4\" class=\"col_heading level1 col4\" >count</th>\n",
       "      <th id=\"T_3a0b4_level1_col5\" class=\"col_heading level1 col5\" >mean</th>\n",
       "      <th id=\"T_3a0b4_level1_col6\" class=\"col_heading level1 col6\" >std</th>\n",
       "      <th id=\"T_3a0b4_level1_col7\" class=\"col_heading level1 col7\" >normality</th>\n",
       "    </tr>\n",
       "  </thead>\n",
       "  <tbody>\n",
       "    <tr>\n",
       "      <th id=\"T_3a0b4_level0_row0\" class=\"row_heading level0 row0\" >Age</th>\n",
       "      <td id=\"T_3a0b4_row0_col0\" class=\"data row0 col0\" >23.000000</td>\n",
       "      <td id=\"T_3a0b4_row0_col1\" class=\"data row0 col1\" >34.956522</td>\n",
       "      <td id=\"T_3a0b4_row0_col2\" class=\"data row0 col2\" >6.160566</td>\n",
       "      <td id=\"T_3a0b4_row0_col3\" class=\"data row0 col3\" >0.748268</td>\n",
       "      <td id=\"T_3a0b4_row0_col4\" class=\"data row0 col4\" >23.000000</td>\n",
       "      <td id=\"T_3a0b4_row0_col5\" class=\"data row0 col5\" >34.260870</td>\n",
       "      <td id=\"T_3a0b4_row0_col6\" class=\"data row0 col6\" >4.402658</td>\n",
       "      <td id=\"T_3a0b4_row0_col7\" class=\"data row0 col7\" >0.148932</td>\n",
       "    </tr>\n",
       "    <tr>\n",
       "      <th id=\"T_3a0b4_level0_row1\" class=\"row_heading level0 row1\" >Height</th>\n",
       "      <td id=\"T_3a0b4_row1_col0\" class=\"data row1 col0\" >23.000000</td>\n",
       "      <td id=\"T_3a0b4_row1_col1\" class=\"data row1 col1\" >176.913043</td>\n",
       "      <td id=\"T_3a0b4_row1_col2\" class=\"data row1 col2\" >6.684943</td>\n",
       "      <td id=\"T_3a0b4_row1_col3\" class=\"data row1 col3\" >0.197702</td>\n",
       "      <td id=\"T_3a0b4_row1_col4\" class=\"data row1 col4\" >23.000000</td>\n",
       "      <td id=\"T_3a0b4_row1_col5\" class=\"data row1 col5\" >177.339130</td>\n",
       "      <td id=\"T_3a0b4_row1_col6\" class=\"data row1 col6\" >3.178727</td>\n",
       "      <td id=\"T_3a0b4_row1_col7\" class=\"data row1 col7\" >0.185934</td>\n",
       "    </tr>\n",
       "    <tr>\n",
       "      <th id=\"T_3a0b4_level0_row2\" class=\"row_heading level0 row2\" >Mass</th>\n",
       "      <td id=\"T_3a0b4_row2_col0\" class=\"data row2 col0\" >23.000000</td>\n",
       "      <td id=\"T_3a0b4_row2_col1\" class=\"data row2 col1\" >70.015217</td>\n",
       "      <td id=\"T_3a0b4_row2_col2\" class=\"data row2 col2\" >7.968695</td>\n",
       "      <td id=\"T_3a0b4_row2_col3\" class=\"data row2 col3\" >0.149924</td>\n",
       "      <td id=\"T_3a0b4_row2_col4\" class=\"data row2 col4\" >23.000000</td>\n",
       "      <td id=\"T_3a0b4_row2_col5\" class=\"data row2 col5\" >78.365217</td>\n",
       "      <td id=\"T_3a0b4_row2_col6\" class=\"data row2 col6\" >7.348569</td>\n",
       "      <td id=\"T_3a0b4_row2_col7\" class=\"data row2 col7\" >0.592423</td>\n",
       "    </tr>\n",
       "  </tbody>\n",
       "</table>\n"
      ],
      "text/plain": [
       "<pandas.io.formats.style.Styler at 0x23167b2dfa0>"
      ]
     },
     "metadata": {},
     "output_type": "display_data"
    }
   ],
   "source": [
    "var = ['group', 'Age', 'Height', 'Mass']\n",
    "describe(info_both[var], 'group', var=['count', 'mean', 'std', normality]);"
   ]
  },
  {
   "cell_type": "code",
   "execution_count": 7,
   "id": "0c3e4594-e4a3-4402-93f0-28320a2a2b3e",
   "metadata": {},
   "outputs": [
    {
     "data": {
      "text/html": [
       "<style type=\"text/css\">\n",
       "#T_aa540_row0_col3, #T_aa540_row1_col3 {\n",
       "  color: black;\n",
       "}\n",
       "#T_aa540_row2_col3 {\n",
       "  color: red;\n",
       "}\n",
       "</style>\n",
       "<table id=\"T_aa540\">\n",
       "  <thead>\n",
       "    <tr>\n",
       "      <th class=\"blank level0\" >&nbsp;</th>\n",
       "      <th id=\"T_aa540_level0_col0\" class=\"col_heading level0 col0\" >T</th>\n",
       "      <th id=\"T_aa540_level0_col1\" class=\"col_heading level0 col1\" >dof</th>\n",
       "      <th id=\"T_aa540_level0_col2\" class=\"col_heading level0 col2\" >alternative</th>\n",
       "      <th id=\"T_aa540_level0_col3\" class=\"col_heading level0 col3\" >p-val</th>\n",
       "      <th id=\"T_aa540_level0_col4\" class=\"col_heading level0 col4\" >CI95%</th>\n",
       "      <th id=\"T_aa540_level0_col5\" class=\"col_heading level0 col5\" >cohen-d</th>\n",
       "    </tr>\n",
       "    <tr>\n",
       "      <th class=\"index_name level0\" >RBDS-RIC</th>\n",
       "      <th class=\"blank col0\" >&nbsp;</th>\n",
       "      <th class=\"blank col1\" >&nbsp;</th>\n",
       "      <th class=\"blank col2\" >&nbsp;</th>\n",
       "      <th class=\"blank col3\" >&nbsp;</th>\n",
       "      <th class=\"blank col4\" >&nbsp;</th>\n",
       "      <th class=\"blank col5\" >&nbsp;</th>\n",
       "    </tr>\n",
       "  </thead>\n",
       "  <tbody>\n",
       "    <tr>\n",
       "      <th id=\"T_aa540_level0_row0\" class=\"row_heading level0 row0\" >Age</th>\n",
       "      <td id=\"T_aa540_row0_col0\" class=\"data row0 col0\" >0.440598</td>\n",
       "      <td id=\"T_aa540_row0_col1\" class=\"data row0 col1\" >44</td>\n",
       "      <td id=\"T_aa540_row0_col2\" class=\"data row0 col2\" >two-sided</td>\n",
       "      <td id=\"T_aa540_row0_col3\" class=\"data row0 col3\" >0.662</td>\n",
       "      <td id=\"T_aa540_row0_col4\" class=\"data row0 col4\" >[-2.49  3.88]</td>\n",
       "      <td id=\"T_aa540_row0_col5\" class=\"data row0 col5\" >0.129925</td>\n",
       "    </tr>\n",
       "    <tr>\n",
       "      <th id=\"T_aa540_level0_row1\" class=\"row_heading level0 row1\" >Height</th>\n",
       "      <td id=\"T_aa540_row1_col0\" class=\"data row1 col0\" >-0.276058</td>\n",
       "      <td id=\"T_aa540_row1_col1\" class=\"data row1 col1\" >44</td>\n",
       "      <td id=\"T_aa540_row1_col2\" class=\"data row1 col2\" >two-sided</td>\n",
       "      <td id=\"T_aa540_row1_col3\" class=\"data row1 col3\" >0.784</td>\n",
       "      <td id=\"T_aa540_row1_col4\" class=\"data row1 col4\" >[-3.54  2.68]</td>\n",
       "      <td id=\"T_aa540_row1_col5\" class=\"data row1 col5\" >0.081405</td>\n",
       "    </tr>\n",
       "    <tr>\n",
       "      <th id=\"T_aa540_level0_row2\" class=\"row_heading level0 row2\" >Mass</th>\n",
       "      <td id=\"T_aa540_row2_col0\" class=\"data row2 col0\" >-3.694270</td>\n",
       "      <td id=\"T_aa540_row2_col1\" class=\"data row2 col1\" >44</td>\n",
       "      <td id=\"T_aa540_row2_col2\" class=\"data row2 col2\" >two-sided</td>\n",
       "      <td id=\"T_aa540_row2_col3\" class=\"data row2 col3\" >0.001</td>\n",
       "      <td id=\"T_aa540_row2_col4\" class=\"data row2 col4\" >[-12.91  -3.79]</td>\n",
       "      <td id=\"T_aa540_row2_col5\" class=\"data row2 col5\" >1.089381</td>\n",
       "    </tr>\n",
       "  </tbody>\n",
       "</table>\n"
      ],
      "text/plain": [
       "<pandas.io.formats.style.Styler at 0x23167b960d0>"
      ]
     },
     "metadata": {},
     "output_type": "display_data"
    }
   ],
   "source": [
    "stats = ttest(info_both, var[1:], 'group', levels=['RBDS', 'RIC'])"
   ]
  },
  {
   "cell_type": "markdown",
   "id": "4e3464d3-3caa-4aad-b5a7-498e80ea15c4",
   "metadata": {},
   "source": [
    "## Ensemble time-series, SPM and RMSE\n",
    "* Create ensemble time-series curves of hip, knee and ankle joint throughout the gait cycle for each group (RBDS and RIC). \n",
    "* Perform a time-series analysis using [Statistical Parametric Mapping](http://www.scholarpedia.org/article/Statistical_parametric_mapping)\n",
    "* Calculate the Root mean square error between groups to estimate the differences"
   ]
  },
  {
   "cell_type": "code",
   "execution_count": 8,
   "id": "753992d1-5b53-4b40-bbd4-540aeec663c9",
   "metadata": {},
   "outputs": [],
   "source": [
    "joints = ['hip','knee','ankle']\n",
    "axes = ['X','Y','Z']"
   ]
  },
  {
   "cell_type": "code",
   "execution_count": 9,
   "id": "4251dfc8-a6eb-4b90-b2df-3cf2debb4b1c",
   "metadata": {},
   "outputs": [],
   "source": [
    "#L_ang_RBDSall = np.load(os.path.join(dir_data, 'L_angs_RBDSall.npy'))\n",
    "R_ang_RBDSall = np.load(os.path.join(dir_data, 'R_angs_RBDSall.npy'))\n",
    "#L_ang_RICall  = np.load(os.path.join(dir_data, 'L_angs_RICall.npy'))\n",
    "R_ang_RICall  = np.load(os.path.join(dir_data, 'R_angs_RICall.npy'))"
   ]
  },
  {
   "cell_type": "code",
   "execution_count": null,
   "id": "046eb580-44a2-4be0-9f48-4501c7b0baa7",
   "metadata": {},
   "outputs": [],
   "source": [
    "# Export txt parameters\n",
    "# header and format for file\n",
    "jts = [j+'_'+eixo for j in joints for eixo in axes]\n",
    "header = \"\"\n",
    "for j in jts:\n",
    "    header = header+j+'\\t'\n",
    "header = header[:-1] # Delete last tab sep\n",
    "fmt = '\\t%.6f'*9"
   ]
  },
  {
   "cell_type": "code",
   "execution_count": null,
   "id": "40fe34cf-05e4-4a1d-ad9b-2ea86bc3d719",
   "metadata": {},
   "outputs": [],
   "source": [
    "R_ang_RBDS = np.empty(shape=(101,15,R_ang_RBDSall.shape[3])) * np.NaN\n",
    "for s in range(R_ang_RBDSall.shape[3]):\n",
    "    angs_temp_R = R_ang_RBDSall[:,:,:,s]\n",
    "    R_angs = angs_temp_R[:,~np.isnan(angs_temp_R).all(axis=0)].reshape((101,15,-1))\n",
    "    angs = R_angs[:,6:,:]\n",
    "    angs = np.reshape(angs,(101,angs.shape[1]*angs.shape[2]), order='F')\n",
    "    # Export txt file\n",
    "    header2 = (header+'\\t')*(int(angs.shape[1]/9))\n",
    "    header2 = header2[:-1]\n",
    "    fmt2 = fmt*(int(angs.shape[1]/9))\n",
    "    fn_RBDS = os.path.join(dir_data,'BMC'+'{:02d}'.format(s+1)+'angs_raw.txt')\n",
    "    # save data\n",
    "    # np.savetxt(fname=fn_RBDS, X=angs, fmt=fmt2, delimiter='\\t', \n",
    "    #            header=header2, comments='')\n",
    "    R_ang_RBDS[:,:,s] = np.median(R_angs, axis=2)"
   ]
  },
  {
   "cell_type": "code",
   "execution_count": null,
   "id": "798d7817-62f1-4754-84f8-ad477faf242a",
   "metadata": {},
   "outputs": [],
   "source": [
    "R_ang_RIC = np.empty(shape=(101,15,R_ang_RICall.shape[3])) * np.NaN\n",
    "for s in range(R_ang_RICall.shape[3]):\n",
    "    angs_temp_R = R_ang_RICall[:,:,:,s]\n",
    "    R_angs = angs_temp_R[:,~np.isnan(angs_temp_R).all(axis=0)].reshape((101,15,-1))\n",
    "    angs = R_angs[:,6:,:]\n",
    "    angs = np.reshape(angs,(101,angs.shape[1]*angs.shape[2]), order='F')\n",
    "    # Export txt file\n",
    "    header2 = (header+'\\t')*(int(angs.shape[1]/9))\n",
    "    header2 = header2[:-1]\n",
    "    fmt2 = fmt*(int(angs.shape[1]/9))\n",
    "    fn_RIC = os.path.join(dir_data,'RIC'+'{:02d}'.format(s+1)+'angs_raw.txt')\n",
    "    # save data\n",
    "    # np.savetxt(fname=fn_RIC, X=angs, fmt=fmt2, delimiter='\\t', \n",
    "    #            header=header2, comments='')\n",
    "    R_ang_RIC[:,:,s] = np.median(R_angs, axis=2)"
   ]
  },
  {
   "cell_type": "code",
   "execution_count": null,
   "id": "033ddc94-7406-4bdd-b224-6156901c50de",
   "metadata": {},
   "outputs": [],
   "source": [
    "# Consider only hip, knee and ankle\n",
    "R_ang_RBDS, R_ang_RIC = R_ang_RBDS[:,6:,:], R_ang_RIC[:,6:,:]"
   ]
  },
  {
   "cell_type": "markdown",
   "id": "d150beb8-3c1f-4f11-a157-bb0f44323b8a",
   "metadata": {},
   "source": [
    "### Export text files for each subject"
   ]
  },
  {
   "cell_type": "code",
   "execution_count": null,
   "id": "37b37942-50f8-4da0-8324-f9617c58e826",
   "metadata": {},
   "outputs": [],
   "source": [
    "for s in range(R_ang_RBDS.shape[2]):\n",
    "    RBDSangs, RICangs = R_ang_RBDS[:,:,s], R_ang_RIC[:,:,s]\n",
    "    # Export txt file\n",
    "    fn_RBDS = os.path.join(dir_data,'BMC'+'{:02d}'.format(s+1)+'angs.txt')\n",
    "    fn_RIC  = os.path.join(dir_data,'RIC'+'{:02d}'.format(s+1)+'angs.txt')\n",
    "    # save sensors data\n",
    "    # np.savetxt(fname=fn_RBDS, X=RBDSangs, fmt=fmt, delimiter='\\t', \n",
    "    #            header=header, comments='')\n",
    "    # np.savetxt(fname=fn_RIC, X=RICangs, fmt=fmt, delimiter='\\t', \n",
    "    #            header=header, comments='')"
   ]
  },
  {
   "cell_type": "markdown",
   "id": "0e39c57e-a5a0-44de-b172-23cdae3d0ad4",
   "metadata": {},
   "source": [
    "## RMSE"
   ]
  },
  {
   "cell_type": "code",
   "execution_count": null,
   "id": "b7b2f52f-723e-482c-841c-bc3a9e692cf7",
   "metadata": {},
   "outputs": [],
   "source": [
    "RMSEme = np.sqrt(np.square(np.subtract(R_ang_RBDS,R_ang_RIC)).mean(axis=0)).mean(axis=1)\n",
    "RMSEsd = np.sqrt(np.square(np.subtract(R_ang_RBDS,R_ang_RIC)).mean(axis=0)).std(axis=1)"
   ]
  },
  {
   "cell_type": "code",
   "execution_count": null,
   "id": "6379e0c0-8b0f-4e76-9e5b-0cf941f4a7b2",
   "metadata": {},
   "outputs": [],
   "source": [
    "# Create lists for the plot\n",
    "ang_xyz_lbls = [i+'_'+j for i in joints for j in axes]\n",
    "x_pos = np.arange(len(ang_xyz_lbls))"
   ]
  },
  {
   "cell_type": "code",
   "execution_count": null,
   "id": "99b3fdea-7fa9-4c1e-9826-021ab6db3757",
   "metadata": {},
   "outputs": [],
   "source": [
    "# Build the plot\n",
    "fig, ax = plt.subplots(1,figsize=(10,6))\n",
    "ax.bar(x_pos, RMSEme, yerr=RMSEsd, align='center', alpha=0.5, ecolor='black', \n",
    "       capsize=10, color=['r','g','b'] * 3)\n",
    "ax.set_ylabel('RMSE [deg]')\n",
    "ax.set_xticks(x_pos)\n",
    "ax.set_xticklabels(ang_xyz_lbls)\n",
    "ax.set_title('Root Mean Sq Error Values')\n",
    "ax.yaxis.grid(True)\n",
    "plt.show()"
   ]
  },
  {
   "cell_type": "code",
   "execution_count": null,
   "id": "609d9bba-4421-439e-a062-21d101276e55",
   "metadata": {},
   "outputs": [],
   "source": [
    "# Save the figure and show\n",
    "# fig.savefig(os.path.join(dir_data, 'RMSe.png'), bbox_inches='tight')"
   ]
  },
  {
   "cell_type": "code",
   "execution_count": null,
   "id": "1ae1be53-cd4d-4dea-8a29-0c655856809a",
   "metadata": {},
   "outputs": [],
   "source": [
    "# Right side\n",
    "R_ang_RBDSme, R_ang_RBDSsd= np.mean(R_ang_RBDS, axis=2), np.std(R_ang_RBDS, axis=2)\n",
    "R_ang_RICme, R_ang_RICsd  = np.mean(R_ang_RIC, axis=2), np.std(R_ang_RIC, axis=2)\n",
    "# Left side\n",
    "# L_ang_RBDSme, L_ang_RBDSsd= np.mean(L_ang_RBDS, axis=2), np.std(L_ang_RBDS, axis=2)\n",
    "# L_ang_RICme, L_ang_RICsd  = np.mean(L_ang_RIC, axis=2), np.std(L_ang_RIC, axis=2)"
   ]
  },
  {
   "cell_type": "markdown",
   "id": "a50cab23-a353-4bd0-a608-e0b683b11df9",
   "metadata": {},
   "source": [
    "## SPM stats\n",
    "Access inference objects\n",
    "https://spm1d.org/doc/Stats1D/outputs.html#label-spmobject-details"
   ]
  },
  {
   "cell_type": "code",
   "execution_count": null,
   "id": "758ee9c2-bffc-4963-a399-ce8b940feeba",
   "metadata": {},
   "outputs": [],
   "source": [
    "import spm1d"
   ]
  },
  {
   "cell_type": "markdown",
   "id": "10b351c6-720f-46ad-a55e-d34832f395df",
   "metadata": {
    "tags": []
   },
   "source": [
    "## Plot angles"
   ]
  },
  {
   "cell_type": "code",
   "execution_count": null,
   "id": "d3fdf1fc-21d0-42fa-a1c2-762c02dd0cbe",
   "metadata": {},
   "outputs": [],
   "source": [
    "tn = np.linspace(0,100,101)"
   ]
  },
  {
   "cell_type": "code",
   "execution_count": null,
   "id": "0cd88daa-d222-45b8-b918-d8a862a9e23f",
   "metadata": {},
   "outputs": [],
   "source": [
    "fig, axs = plt.subplots(6,3, figsize=(15,20))\n",
    "fig.suptitle('Hip, knee and ankle angles-RIGHT')\n",
    "diff_max = np.empty(len(joints)*len(axes)) * np.NaN\n",
    "for j, joint in enumerate(joints):\n",
    "    for xyz, eixo in enumerate(axes):\n",
    "        #axs[j,xyz].plot(tn,angsR3[:,3*j+xyz,:])\n",
    "        axs[2*j,xyz].errorbar(tn,R_ang_RBDSme[:,3*j+xyz],R_ang_RBDSsd[:,3*j+xyz],\n",
    "                           color = [0, 0, 1, 0.5], capsize=0, errorevery=2, lw=4)\n",
    "        axs[2*j,xyz].errorbar(tn,R_ang_RICme[:,3*j+xyz],R_ang_RICsd[:,3*j+xyz],\n",
    "                           color = [1, 0, 0, 0.5], capsize=0, errorevery=2, lw=4)\n",
    "        axs[2*j,xyz].set_ylabel(joint+'_'+eixo)\n",
    "        axs[2*j,xyz].set_xlim([0,101])\n",
    "        axs[2*j,xyz].grid('on')\n",
    "        \n",
    "        # SPM calculation\n",
    "        Ymen = R_ang_RBDS[:, 3*j+xyz, :]\n",
    "        Yfem = R_ang_RIC[:, 3*j+xyz, :]\n",
    "        t_j  = spm1d.stats.ttest2(Ymen.T, Yfem.T, \n",
    "                            equal_var=False)\n",
    "        ti_j = t_j.inference(alpha=0.05, two_tailed=True, interp=True)\n",
    "        ti_j.plot(ax=axs[2*j+1,xyz])\n",
    "        ti_j.plot_threshold_label(ax=axs[2*j+1,xyz])\n",
    "        ti_j.plot_p_values(ax=axs[2*j+1,xyz], size=10, offsets=[(0,0.3)])\n",
    "        \n",
    "        # Calculate maximum difference in the curve based on SPM suprathreshold clusters\n",
    "        x1m = Ymen.mean(axis=1)\n",
    "        x2m = Yfem.mean(axis=1)\n",
    "        if ti_j.clusters:# if cluster is not empty\n",
    "            max_dif = np.empty(len(ti_j.clusters))\n",
    "            for i in range(len(ti_j.clusters)):\n",
    "                # Get initial and end indices of suprathreshold clusters\n",
    "                inds = list(map(int,map(np.ceil, ti_j.clusters[i].endpoints)))\n",
    "                dif_X_Y = np.abs(x1m[inds[0]:inds[1]] - x2m[inds[0]:inds[1]])\n",
    "                max_dif[i] = np.max(dif_X_Y)\n",
    "            if len(max_dif) > 1:\n",
    "                max_dif = np.max(max_dif)\n",
    "            diff_max[3*j+xyz] = max_dif\n",
    "        \n",
    "        if j==2:\n",
    "            axs[5,xyz].set_xlabel('Gait cycle [%]')\n",
    "fig.legend(['RBDS','RIC'], loc='lower center', ncol=2)\n",
    "plt.show()"
   ]
  },
  {
   "cell_type": "markdown",
   "id": "245529d0-9599-4716-b48a-a2014460ee7c",
   "metadata": {},
   "source": [
    "## Maximum angle difference between centres\n",
    "Considering the areas of the curve where suprathreshold clusters occured"
   ]
  },
  {
   "cell_type": "code",
   "execution_count": null,
   "id": "a3d54c67-f5c5-40a4-86ec-8b28f32d949b",
   "metadata": {},
   "outputs": [],
   "source": [
    "diff_max"
   ]
  },
  {
   "cell_type": "code",
   "execution_count": null,
   "id": "662d7080-9bb8-417e-b53b-6391ae2de133",
   "metadata": {},
   "outputs": [],
   "source": [
    "#fig.savefig(os.path.join(dir_data, 'SPM_compare_plot_.png'), bbox_inches='tight')"
   ]
  },
  {
   "cell_type": "markdown",
   "id": "8ba3539a-0ea5-48a5-bb48-ef90c8074c7c",
   "metadata": {
    "tags": []
   },
   "source": [
    "## Batch process datasets\n",
    "Run the cells below in case one wants to re-calculate the time normalized angles and store them in arrays to be saved."
   ]
  },
  {
   "cell_type": "code",
   "execution_count": null,
   "id": "4e74c99a-5475-4144-b511-193eb72fd1db",
   "metadata": {},
   "outputs": [],
   "source": [
    "# Support functions\n",
    "import parse_gait_kinematics as parse_gait\n",
    "from gait_steps import gait_steps\n",
    "from gait3d_angles import gait3d_angles\n",
    "from tnorma import tnorma"
   ]
  },
  {
   "cell_type": "markdown",
   "id": "0594b2da-db71-45e7-ad00-5efcd66877e9",
   "metadata": {},
   "source": [
    "## Import data"
   ]
  },
  {
   "cell_type": "code",
   "execution_count": null,
   "id": "1231df72-ea23-4c24-a0e4-138ccb1430c4",
   "metadata": {},
   "outputs": [],
   "source": [
    "method = 'RBDS'"
   ]
  },
  {
   "cell_type": "code",
   "execution_count": null,
   "id": "adfee942-5bf4-477f-8158-cb4ebb506ee8",
   "metadata": {},
   "outputs": [],
   "source": [
    "if method=='RIC':\n",
    "    RIC_df=info_both[info_both['group']=='RIC']\n",
    "    # RIC list of subjects and files\n",
    "    RIC_dir = r'C:\\Users\\Reginaldo\\OneDrive - University of Calgary\\data\\Figshare_SciData\\new_unzip'\n",
    "    sub_ids = RIC_df['sub_id'].tolist()\n",
    "    fn_RIC  = RIC_df['filename'].tolist()    \n",
    "else:# RBDS\n",
    "    RBDS_df=info_both[info_both['group']=='RBDS']\n",
    "    RBDS_dir = r'C:\\Users\\Reginaldo\\Documents\\data\\CNPq\\RBDS_v2\\Figshare'\n",
    "    sub_ids  = [f[:-10] for f in RBDS_df['filename'].tolist()]"
   ]
  },
  {
   "cell_type": "markdown",
   "id": "6d50ccb3-4be8-426c-b094-0a6ec64aa8b9",
   "metadata": {
    "tags": []
   },
   "source": [
    "RBDS too about 8 minutes [08:07<00:00, 18.19s/it]"
   ]
  },
  {
   "cell_type": "code",
   "execution_count": null,
   "id": "42d7e28d-1b12-4d64-8b27-6d73f3300123",
   "metadata": {},
   "outputs": [],
   "source": [
    "# Import JSON files\n",
    "angsR2  = np.empty(shape=(101,15,len(sub_ids)))*np.NaN\n",
    "angsL2  = np.empty(shape=(101,15,len(sub_ids)))*np.NaN\n",
    "angsRall= np.empty(shape=(101,15,100,len(sub_ids)))*np.NaN\n",
    "angsLall= np.empty(shape=(101,15,100,len(sub_ids)))*np.NaN\n",
    "for s, subject in tqdm(enumerate(sub_ids), desc='Loading...', leave=True):\n",
    "    if method=='RIC':\n",
    "        # Running Injury Clinic data set\n",
    "        fn_json=os.path.join(RIC_dir, str(sub_ids[s]), fn_RIC[s])\n",
    "        neutral, joints, gait, hz = parse_gait.parse_RIC(fn_json)\n",
    "    else:\n",
    "        fn_static = os.path.join(RBDS_dir,subject+'static.c3d')\n",
    "        fn_gait = os.path.join(RBDS_dir,subject+'runT25.c3d')\n",
    "        neutral, joints, gait, hz = parse_gait.parse_RBDS(fn_static, fn_gait, filt=True)\n",
    "\n",
    "    # Calculate joint angles\n",
    "    virt_mkrs, angles = gait3d_angles(neutral, joints, gait)\n",
    "\n",
    "    # Convert dict in arrays\n",
    "    L_ankle_ang, R_ankle_ang = angles['L_ankle_ang'], angles['R_ankle_ang']\n",
    "    L_knee_ang, R_knee_ang = angles['L_knee_ang'], angles['R_knee_ang']\n",
    "    L_hip_ang, R_hip_ang = angles['L_hip_ang'], angles['R_hip_ang']\n",
    "    L_foot_ang, R_foot_ang = angles['L_foot_ang'], angles['R_foot_ang']\n",
    "    pelvis_ang = angles['pelvis_ang']\n",
    "\n",
    "    # Convert angles in degrees\n",
    "    L_ankle_ang, R_ankle_ang = L_ankle_ang * (180/np.pi), R_ankle_ang * (180/np.pi)\n",
    "    L_knee_ang, R_knee_ang = L_knee_ang * (180/np.pi), R_knee_ang * (180/np.pi)\n",
    "    L_hip_ang, R_hip_ang = L_hip_ang * (180/np.pi), R_hip_ang * (180/np.pi)\n",
    "    L_foot_ang, R_foot_ang = L_foot_ang * (180/np.pi), R_foot_ang * (180/np.pi)\n",
    "    pelvis_ang = pelvis_ang * (180/np.pi)\n",
    "\n",
    "    # Structure the data to be input into gait_steps\n",
    "    joints_lbls = ['pelvis','L_foot','R_foot','L_hip','R_hip','L_knee','R_knee',\n",
    "                   'L_ankle','R_ankle']\n",
    "    xyz = list('XYZ')*len(joints_lbls)\n",
    "    joints_lbls = [ele for ele in joints_lbls for i in range(3)]\n",
    "    joints_lbls = [joints_lbls[i]+'_'+xyz[i] for i in range(len(xyz))]\n",
    "\n",
    "    # Create a pandas df with angles\n",
    "    angs = np.hstack([pelvis_ang, L_foot_ang, R_foot_ang, \n",
    "                      L_hip_ang, R_hip_ang, L_knee_ang, R_knee_ang, \n",
    "                      L_ankle_ang, R_ankle_ang])\n",
    "    angles = pd.DataFrame(data=angs, columns=joints_lbls)\n",
    "\n",
    "    # Detect gait events using gait_steps.py\n",
    "    L_TD_RIC, L_TO_RIC, R_TD_RIC, R_TO_RIC, eventsflag_RIC, label_RIC = gait_steps(neutral, gait, angles, hz)\n",
    "    RTD_RIC, RTO_RIC = R_TD_RIC.astype(int).tolist(), R_TO_RIC.astype(int).tolist()\n",
    "    LTD_RIC, LTO_RIC = L_TD_RIC.astype(int).tolist(), L_TO_RIC.astype(int).tolist()\n",
    "\n",
    "    # Right side \n",
    "    anglesR = angles.loc[:, angles.columns.str.contains('|'.join(['R_', 'pelvis']))]\n",
    "    angsR = np.empty(shape=(101,anglesR.shape[1],len(RTD_RIC)-1))\n",
    "    for iR in range(len(RTD_RIC)-1):\n",
    "        angsR[:,:,iR], tn, indie = tnorma(anglesR.values[RTD_RIC[iR]:RTD_RIC[iR+1],:], \n",
    "                                          k=1, smooth=0, mask=None, show=False)\n",
    "\n",
    "    # Left side\n",
    "    anglesL = angles.loc[:, angles.columns.str.contains('|'.join(['L_', 'pelvis']))]\n",
    "    angsL = np.empty(shape=(101,anglesL.shape[1],len(LTD_RIC)-1))\n",
    "    for iL in range(len(LTD_RIC)-1):\n",
    "        angsL[:,:,iL], tn, indie = tnorma(anglesL.values[LTD_RIC[iL]:LTD_RIC[iL+1],:], \n",
    "                                          k=1, smooth=0, mask=None, show=False)\n",
    "    # Store avg of each subject\n",
    "    angsR2[:, :, s] = np.mean(angsR, axis=2)\n",
    "    angsL2[:, :, s] = np.mean(angsL, axis=2)\n",
    "    \n",
    "    # Store all gait cycles\n",
    "    angsRall[:,:,:len(RTD_RIC)-1,s] = angsR\n",
    "    angsLall[:,:,:len(LTD_RIC)-1,s] = angsL\n",
    "    #print(str(sub_ids[s])+ ' and ' + fn_RIC[s])"
   ]
  },
  {
   "cell_type": "code",
   "execution_count": null,
   "id": "003908bd-e3e5-4dbb-9c96-135249621cdf",
   "metadata": {},
   "outputs": [],
   "source": [
    "# np.save(os.path.join(dir_data, 'R_angs_'+method+'all.npy'), angsRall)\n",
    "# np.save(os.path.join(dir_data, 'L_angs_'+method+'all.npy'), angsLall)\n",
    "# np.save(os.path.join(dir_data, 'R_angs_'+method+'.npy'), angsR2)\n",
    "# np.save(os.path.join(dir_data, 'L_angs_'+method+'.npy'), angsL2)"
   ]
  },
  {
   "cell_type": "code",
   "execution_count": null,
   "id": "f7013eb8-83ef-42af-8d4e-32526421ec2f",
   "metadata": {},
   "outputs": [],
   "source": []
  },
  {
   "cell_type": "code",
   "execution_count": null,
   "id": "f2cad6c8-945b-406f-9bf4-eb2cd47e5909",
   "metadata": {},
   "outputs": [],
   "source": []
  }
 ],
 "metadata": {
  "kernelspec": {
   "display_name": "Python 3 (ipykernel)",
   "language": "python",
   "name": "python3"
  },
  "language_info": {
   "codemirror_mode": {
    "name": "ipython",
    "version": 3
   },
   "file_extension": ".py",
   "mimetype": "text/x-python",
   "name": "python",
   "nbconvert_exporter": "python",
   "pygments_lexer": "ipython3",
   "version": "3.9.16"
  }
 },
 "nbformat": 4,
 "nbformat_minor": 5
}
