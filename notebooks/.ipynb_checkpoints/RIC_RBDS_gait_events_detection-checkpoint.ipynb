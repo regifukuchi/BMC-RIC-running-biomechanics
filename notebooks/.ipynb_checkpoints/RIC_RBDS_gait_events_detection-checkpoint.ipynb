{
 "cells": [
  {
   "cell_type": "markdown",
   "id": "b12e57ac",
   "metadata": {},
   "source": [
    "# RIC and RBDS gait event detection\n",
    "\n",
    "Reginaldo K Fukuchi reginaldo.fukuchi@ufabc.edu.br\n",
    "\n",
    "This NB implements the \"gait_steps.m\" Sean Osis method to detect gait events."
   ]
  },
  {
   "cell_type": "code",
   "execution_count": null,
   "id": "7f4e9cc6",
   "metadata": {},
   "outputs": [],
   "source": [
    "# Prepare environment\n",
    "import os\n",
    "import scipy.io as spio\n",
    "import numpy as np\n",
    "import pandas as pd\n",
    "import seaborn as sns\n",
    "import matplotlib.pyplot as plt\n",
    "%matplotlib notebook"
   ]
  },
  {
   "cell_type": "code",
   "execution_count": null,
   "id": "0a83576f",
   "metadata": {},
   "outputs": [],
   "source": [
    "# Import data\n",
    "pathname = r'../data'"
   ]
  },
  {
   "cell_type": "markdown",
   "id": "5a40dae9",
   "metadata": {},
   "source": [
    "## Choose RIC or RBDS data set"
   ]
  },
  {
   "cell_type": "code",
   "execution_count": null,
   "id": "3e6d7ead",
   "metadata": {},
   "outputs": [],
   "source": [
    "db_name = 'RIC'"
   ]
  },
  {
   "cell_type": "code",
   "execution_count": null,
   "id": "565cc91c",
   "metadata": {},
   "outputs": [],
   "source": [
    "if db_name=='RIC':\n",
    "    fname_out_S = os.path.join(pathname, 'RIC_static.csv')\n",
    "    fname_out_R = os.path.join(pathname, 'RIC_run.csv')\n",
    "else:\n",
    "    fname_out_S = os.path.join(pathname, 'RBDS_static.csv')\n",
    "    fname_out_R = os.path.join(pathname, 'RBDS_run.csv')\n",
    "    \n",
    "print('Static trial filename: ' + fname_out_S)\n",
    "print('Running trial filename: ' + fname_out_R)"
   ]
  },
  {
   "cell_type": "code",
   "execution_count": null,
   "id": "e91fab1a",
   "metadata": {},
   "outputs": [],
   "source": [
    "df_s = pd.read_csv(fname_out_S, delimiter=',', index_col='Time')"
   ]
  },
  {
   "cell_type": "code",
   "execution_count": null,
   "id": "19d753a8",
   "metadata": {},
   "outputs": [],
   "source": [
    "df_s.head()"
   ]
  },
  {
   "cell_type": "markdown",
   "id": "0be00c9e",
   "metadata": {},
   "source": [
    "### Calculate hip joint center\n",
    "* https://c-motion.com/v3dwiki/index.php?title=Coda_Pelvis\n",
    "* RHJC=(-0.19*ASIS_Distance,-0.3*ASIS_Distance,0.36*ASIS_Distance)"
   ]
  },
  {
   "cell_type": "code",
   "execution_count": null,
   "id": "b6b15e4a",
   "metadata": {},
   "outputs": [],
   "source": [
    "RASI = df_s[['RASI_X','RASI_Y','RASI_Z']].values.mean(axis=0)\n",
    "LASI = df_s[['LASI_X','LASI_Y','LASI_Z']].values.mean(axis=0)\n",
    "ASIS_distance_S = np.linalg.norm(RASI-LASI)\n",
    "rhjc_S = np.array([RASI[0]-0.19*ASIS_distance_S, RASI[1]-0.3*ASIS_distance_S, \n",
    "                   RASI[2]-0.36*ASIS_distance_S])"
   ]
  },
  {
   "cell_type": "code",
   "execution_count": null,
   "id": "4528f590",
   "metadata": {},
   "outputs": [],
   "source": [
    "# Shank reference system\n",
    "rkjc_S = (df_s[['RKNL_X','RKNL_Y','RKNL_Z']].values.mean(axis=0)+\n",
    "        df_s[['RKNM_X','RKNM_Y','RKNM_Z']].values.mean(axis=0))/2\n",
    "rajc_S = (df_s[['RMAL_X','RMAL_Y','RMAL_Z']].values.mean(axis=0)+\n",
    "        df_s[['RMAM_X','RMAM_Y','RMAM_Z']].values.mean(axis=0))/2\n",
    "\n",
    "v2 = rkjc_S - rajc_S\n",
    "v1 = np.cross(v2, df_s[['RMAL_X','RMAL_Y','RMAL_Z']].values.mean(axis=0) - rajc_S)\n",
    "v3 = np.cross(v1, v2)\n",
    "\n",
    "print('Versors of the shank:')\n",
    "v1 = v1/np.linalg.norm(v1)\n",
    "print('v1 =', v1)\n",
    "v2 = v2/np.linalg.norm(v2)\n",
    "print('v2 =', v2)\n",
    "v3 = v3/np.linalg.norm(v3)\n",
    "print('v3 =', v3)\n",
    "\n",
    "bs = np.array([v1, v2, v3])"
   ]
  },
  {
   "cell_type": "code",
   "execution_count": null,
   "id": "f1579d80",
   "metadata": {},
   "outputs": [],
   "source": [
    "# Thigh reference system\n",
    "v2t = rhjc_S-rkjc_S\n",
    "v1t = np.cross(v2t,df_s[['RKNL_X','RKNL_Y','RKNL_Z']].values.mean(axis=0)-rkjc_S)\n",
    "v3t = np.cross(v2t,v1t)\n",
    "\n",
    "print('Versors of the thigh:')\n",
    "v1t = v1t/np.linalg.norm(v1t)\n",
    "print('v1t =', v1t)\n",
    "v2t = v2t/np.linalg.norm(v2t)\n",
    "print('v2t =', v2t)\n",
    "v3t = v3t/np.linalg.norm(v3t)\n",
    "print('v3t =', v3t)\n",
    "\n",
    "bt = np.array([v1t,v2t,v3t])"
   ]
  },
  {
   "cell_type": "markdown",
   "id": "30734d61",
   "metadata": {},
   "source": [
    "## Calculate knee joint angle according to Grood & Suntay (1983)"
   ]
  },
  {
   "cell_type": "code",
   "execution_count": null,
   "id": "660b9913",
   "metadata": {},
   "outputs": [],
   "source": [
    "def kneeang(proxrf, distalrf):\n",
    "    \"\"\"\n",
    "    Calculate 3D knee joint angle in degrees\n",
    "    \"\"\"\n",
    "    angk = np.empty(shape=(3,))\n",
    "    proxrf = bt\n",
    "    distalrf = bs\n",
    "    yk = bs[1,:];\n",
    "    zk = bt[2,:];\n",
    "    fk = np.cross(yk,zk); #floating axis\n",
    "    fk = fk/np.linalg.norm(fk)\n",
    "    bk =np.array([fk, yk, zk]);\n",
    "    zs_t = bs[2,:];\n",
    "    \n",
    "    # knee angle\n",
    "    angk[0] = -(np.pi/2 - np.arccos(np.sum(bt[1]*fk)))*180/np.pi # Flexion/Extension\n",
    "    angk[1] = (-np.pi/2 - np.arccos(np.sum(yk*bt[2])))*180/np.pi + 180 #Abduction/aduction\n",
    "    angk[2] = (np.pi/2 - np.arccos(np.sum(zs_t*fk)))*180/np.pi #Internal/external rotation\n",
    "    \n",
    "    return angk"
   ]
  },
  {
   "cell_type": "markdown",
   "id": "6c8cbc12",
   "metadata": {},
   "source": [
    "# Running data"
   ]
  },
  {
   "cell_type": "code",
   "execution_count": null,
   "id": "8bf91e3c",
   "metadata": {},
   "outputs": [],
   "source": [
    "df_r = pd.read_csv(fname_out_R, delimiter=',', index_col='Time')"
   ]
  },
  {
   "cell_type": "code",
   "execution_count": null,
   "id": "ef4dc573",
   "metadata": {},
   "outputs": [],
   "source": [
    "df_r.head()"
   ]
  },
  {
   "cell_type": "markdown",
   "id": "a0d4d0f3",
   "metadata": {},
   "source": [
    "# Gait event detection [https://c-motion.com/v3dwiki/index.php?title=Events:Example_6]\n",
    "\n",
    "\n",
    "\n",
    "* Zeni JA, Richards JG, Higginson JS (2008) Two simple methods for determining gait events during treadmill and overground walking using kinematic data. Gait & Posture 27, 710-714\n",
    "\n",
    "### Create signals necessary to replicate the methods"
   ]
  },
  {
   "cell_type": "code",
   "execution_count": null,
   "id": "0ba761a0",
   "metadata": {},
   "outputs": [],
   "source": []
  },
  {
   "cell_type": "markdown",
   "id": "85774f73",
   "metadata": {},
   "source": [
    "# Transform markers into pelvic coordinate system"
   ]
  },
  {
   "cell_type": "code",
   "execution_count": null,
   "id": "654819cd",
   "metadata": {},
   "outputs": [],
   "source": [
    "import sys\n",
    "sys.path.insert(1, r'./../functions')\n",
    "from svdt import svdt"
   ]
  },
  {
   "cell_type": "markdown",
   "id": "9f7813bc",
   "metadata": {},
   "source": [
    "## Handle lack of RASI and LASI markers in RIC protocol; and RTOE in RBDS protocol"
   ]
  },
  {
   "cell_type": "code",
   "execution_count": null,
   "id": "fd70f37a",
   "metadata": {},
   "outputs": [],
   "source": [
    "RPSIr = df_r[['RPSI_X','RPSI_Y','RPSI_Z']].values\n",
    "LPSIr = df_r[['LPSI_X','LPSI_Y','LPSI_Z']].values\n",
    "if db_name=='RIC':\n",
    "    # Pelvic segment\n",
    "    Ap = df_s[['RPSI_X','RPSI_Y','RPSI_Z','LPSI_X','LPSI_Y','LPSI_Z',\n",
    "               'VSAC_X','VSAC_Y','VSAC_Z']].values.mean(axis=0)\n",
    "    Bp = df_r[['RPSI_X','RPSI_Y','RPSI_Z','LPSI_X','LPSI_Y','LPSI_Z',\n",
    "               'VSAC_X','VSAC_Y','VSAC_Z']].values\n",
    "    \n",
    "    # Reconstructed markers based on technical clusters\n",
    "    Rp, Lp, RMSEp = svdt(Ap, Bp)    \n",
    "    RASIs = df_s[['RASI_X','RASI_Y','RASI_Z']].values.mean(axis=0)\n",
    "    LASIs = df_s[['LASI_X','LASI_Y','LASI_Z']].values.mean(axis=0)\n",
    "    RASIr = np.dot(Rp,RASIs)  + Lp\n",
    "    LASIr = np.dot(Rp,LASIs)  + Lp\n",
    "    VSACr = df_r[['VSAC_X','VSAC_Y','VSAC_Z']].values\n",
    "    RTOEr = df_r[['RTOE_X','RTOE_Y','RTOE_Z']].values\n",
    "else:\n",
    "    RASIr = df_r[['RASI_X','RASI_Y','RASI_Z']].values\n",
    "    LASIr = df_r[['LASI_X','LASI_Y','LASI_Z']].values\n",
    "    VSACr  = (RPSIr+LPSIr)/2\n",
    "    RTOEr = df_r[['RMH1_X','RMH1_Y','RMH1_Z']].values"
   ]
  },
  {
   "cell_type": "code",
   "execution_count": null,
   "id": "579f55de",
   "metadata": {},
   "outputs": [],
   "source": [
    "db_name"
   ]
  },
  {
   "cell_type": "code",
   "execution_count": null,
   "id": "46cc6588",
   "metadata": {},
   "outputs": [],
   "source": [
    "RHEPr = df_r[['RHEP_X','RHEP_Y','RHEP_Z']].values\n",
    "RHEDr = df_r[['RHED_X','RHED_Y','RHED_Z']].values"
   ]
  },
  {
   "cell_type": "code",
   "execution_count": null,
   "id": "1992fd67",
   "metadata": {},
   "outputs": [],
   "source": [
    "def pelvisCS(RASIr, LASIr, VSACr):\n",
    "    # Pelvic reference system\n",
    "    midASIS = (RASIr+LASIr)/2\n",
    "    \n",
    "    v2p = np.cross(RASIr-VSACr,LASIr-VSACr)\n",
    "    v3p = RASIr-midASIS\n",
    "    v1p = np.cross(v2p,v3p)\n",
    "\n",
    "    v1p = v1p/np.linalg.norm(v1p)\n",
    "    v2p = v2p/np.linalg.norm(v2p)\n",
    "    v3p = v3p/np.linalg.norm(v3p)\n",
    "\n",
    "    bp = np.array([v1p,v2p,v3p])\n",
    "    \n",
    "    return bp"
   ]
  },
  {
   "cell_type": "code",
   "execution_count": null,
   "id": "f240c732",
   "metadata": {},
   "outputs": [],
   "source": [
    "LAB = np.array([[1,0,0],[0,1,0],[0,0,1]])"
   ]
  },
  {
   "cell_type": "code",
   "execution_count": null,
   "id": "b21e9b61",
   "metadata": {},
   "outputs": [],
   "source": [
    "RHEDr_pelvis = np.empty(shape=RHEDr.shape)\n",
    "RTOEr_pelvis = np.empty(shape=RTOEr.shape)\n",
    "bp = np.empty(shape=(RTOEr.shape[0],9))\n",
    "for i in range(RASIr.shape[0]):\n",
    "    pp = pelvisCS(RASIr[i,:], LASIr[i,:], VSACr[i,:])\n",
    "    #pp = midASIS+pp\n",
    "    bp[i,:] = pp.reshape((9,))\n",
    "    #Rp, Lp, RMSEp = svdt(LAB, bp)"
   ]
  },
  {
   "cell_type": "code",
   "execution_count": null,
   "id": "1fc5a350",
   "metadata": {},
   "outputs": [],
   "source": [
    "Rp, Lp, RMSEp = svdt(LAB, bp)"
   ]
  },
  {
   "cell_type": "code",
   "execution_count": null,
   "id": "f33a167e",
   "metadata": {},
   "outputs": [],
   "source": [
    "for ix in range(RHEDr.shape[0]):\n",
    "    RHEDr_pelvis[ix,:] = np.dot(Rp[ix,:,:],RHEDr[ix,:]) + Lp[ix,:]\n",
    "    RTOEr_pelvis[ix,:] = np.dot(Rp[ix,:,:],RTOEr[ix,:]) + Lp[ix,:]"
   ]
  },
  {
   "cell_type": "code",
   "execution_count": null,
   "id": "6bf2a787",
   "metadata": {},
   "outputs": [],
   "source": [
    "from detecta import detect_peaks"
   ]
  },
  {
   "cell_type": "code",
   "execution_count": null,
   "id": "a6ad289b",
   "metadata": {},
   "outputs": [],
   "source": [
    "iTD = detect_peaks(RHEDr_pelvis[:,0], mph=None, mpd=70, valley=False, show=False)\n",
    "iTD"
   ]
  },
  {
   "cell_type": "code",
   "execution_count": null,
   "id": "39a1496e",
   "metadata": {},
   "outputs": [],
   "source": [
    "iTO = detect_peaks(RTOEr_pelvis[:,0], mph=None, mpd=70, valley=True, show=False)\n",
    "iTO"
   ]
  },
  {
   "cell_type": "markdown",
   "id": "579b7027",
   "metadata": {},
   "source": [
    "# TRIMM DATA AND CHECAR ANGLES"
   ]
  },
  {
   "cell_type": "code",
   "execution_count": null,
   "id": "2d4cbe3d",
   "metadata": {},
   "outputs": [],
   "source": []
  },
  {
   "cell_type": "code",
   "execution_count": null,
   "id": "9a77ef32",
   "metadata": {},
   "outputs": [],
   "source": []
  },
  {
   "cell_type": "code",
   "execution_count": null,
   "id": "4946bfb1",
   "metadata": {},
   "outputs": [],
   "source": []
  },
  {
   "cell_type": "markdown",
   "id": "8a373355",
   "metadata": {},
   "source": [
    "### STATIC"
   ]
  },
  {
   "cell_type": "code",
   "execution_count": null,
   "id": "b4690006",
   "metadata": {},
   "outputs": [],
   "source": [
    "fname_c3d = os.path.join(pathname,'RBDS001static.c3d')\n",
    "c = c3d(fname_c3d)"
   ]
  },
  {
   "cell_type": "code",
   "execution_count": null,
   "id": "3c98240b",
   "metadata": {},
   "outputs": [],
   "source": [
    "point_data = c['data']['points']\n",
    "points_residuals = c['data']['meta_points']['residuals']\n",
    "analog_data = c['data']['analogs']"
   ]
  },
  {
   "cell_type": "code",
   "execution_count": null,
   "id": "21856c33",
   "metadata": {},
   "outputs": [],
   "source": [
    "mkr_S_labels_RBDS = c['parameters']['POINT']['LABELS']['value']\n",
    "print(mkr_S_labels_RBDS)"
   ]
  },
  {
   "cell_type": "code",
   "execution_count": null,
   "id": "bfceacbb",
   "metadata": {},
   "outputs": [],
   "source": [
    "mkr_S_labels_RBDSm=['LMAL', 'LMAM', 'LASI', 'LGTR', 'LHED', 'LHEL', 'LHEP', \n",
    "                    'LFIB', 'LIC', 'LKNL', 'LKNM', 'LMH1', 'LTOE', 'LMH5', 'LPSI', 'LSBL', \n",
    "                    'LSBM', 'LSTL', 'LSTM', 'LTBL', 'LTBM', \n",
    "                    'LTTL', 'LTTM', 'LTUB', 'RMAL', 'RMAM', 'RASI', 'RGTR', 'RHED', \n",
    "                    'RHEL', 'RHEP', 'RFIB', 'RIC', 'RKNL', 'RKNM', 'RMH1', 'RTOE', 'RMH5', 'RPSI', \n",
    "                    'RSBL', 'RSBM', 'RSTL', 'RSTM', 'RTBL', \n",
    "                    'RTBM', 'RTTL', 'RTTM', 'RTUB']"
   ]
  },
  {
   "cell_type": "code",
   "execution_count": null,
   "id": "0232cbb9",
   "metadata": {},
   "outputs": [],
   "source": [
    "mkr_S_data_RBDS = np.empty(shape=(point_data.shape[2],3*len(mkr_S_labels_RBDSm)))\n",
    "for m, marker in enumerate(mkr_S_labels_RBDSm):\n",
    "    mkr_S_data_RBDS[:,3*m:3*m+3] = point_data[:3, m, :].T"
   ]
  },
  {
   "cell_type": "code",
   "execution_count": null,
   "id": "82414fbd",
   "metadata": {},
   "outputs": [],
   "source": [
    "xyz = list('XYZ')*len(mkr_S_labels_RBDSm)\n",
    "mkr_S_labels_RBDS_2 = [ele for ele in mkr_S_labels_RBDSm for i in range(3)]\n",
    "mkr_S_labels_RBDS_3 = [mkr_S_labels_RBDS_2[i]+'_'+xyz[i] for i in range(len(xyz))]"
   ]
  },
  {
   "cell_type": "code",
   "execution_count": null,
   "id": "9cad10ce",
   "metadata": {},
   "outputs": [],
   "source": [
    "df_S_RBDS = pd.DataFrame(data=mkr_S_data_RBDS, columns=mkr_S_labels_RBDS_3)"
   ]
  },
  {
   "cell_type": "code",
   "execution_count": null,
   "id": "a8901963",
   "metadata": {},
   "outputs": [],
   "source": [
    "duration  = int(c['parameters']['POINT']['RATE']['value'][0])/point_data.shape[2]\n",
    "timeStamps= np.linspace(0, duration, mkr_S_data_RBDS.shape[0])"
   ]
  },
  {
   "cell_type": "code",
   "execution_count": null,
   "id": "e090e439",
   "metadata": {},
   "outputs": [],
   "source": [
    "df_S_RBDS['Time'] = timeStamps\n",
    "df_S_RBDS.set_index('Time', inplace=True)\n",
    "df_S_RBDS.index.name = 'Time'"
   ]
  },
  {
   "cell_type": "code",
   "execution_count": null,
   "id": "c917d495",
   "metadata": {
    "scrolled": true
   },
   "outputs": [],
   "source": [
    "df_S_RBDS.head()"
   ]
  },
  {
   "cell_type": "code",
   "execution_count": null,
   "id": "bed16070",
   "metadata": {},
   "outputs": [],
   "source": [
    "ids"
   ]
  },
  {
   "cell_type": "markdown",
   "id": "1f37d4c3",
   "metadata": {},
   "source": [
    "# PENDING\n",
    "* Find who is who. \n",
    "Find the subjects in Figshare RBDSinfo.txt with the corresponding ID in RBA spreadsheet"
   ]
  },
  {
   "cell_type": "code",
   "execution_count": null,
   "id": "b428eac2",
   "metadata": {},
   "outputs": [],
   "source": []
  },
  {
   "cell_type": "code",
   "execution_count": null,
   "id": "9ba10900",
   "metadata": {},
   "outputs": [],
   "source": []
  },
  {
   "cell_type": "markdown",
   "id": "bb644726",
   "metadata": {},
   "source": [
    "# Another method of Gait event detection [https://pubmed.ncbi.nlm.nih.gov/27814970/]\n",
    "\n",
    "The touchdown window started when the anterior-posterior velocity of the Heel first dropped below 1.5 m/s and ended at the next minima in vertical Heel position. The toe-off window started 100 ms after touchdown, and ended when the vertical Toe position either exceeded 0.1 m or reached a maximum (Fig. 1b). Notably, these cut-off values were able to successfully define TD and TO windows across the full range of ground contact times and, by implication, running speeds in this study.\n",
    "\n",
    "To conclude, when estimating GCEs during running in the absence of a force platform, an algorithm that uses the first occurring of the vertical acceleration peaks of the Heel and Met to identify touchdown and the vertical jerk peak of the Toe to identify\n",
    "toe-off is recommended. This algorithm requires an initial windowing step to identify reduced time windows containing touchdown and toe-off.\n",
    "\n",
    "* Handsaker, J. C., Forrester, S. E., Folland, J. P., Black, M. I., & Allen, S. J. (2016). A kinematic algorithm to identify gait events during running at different speeds and with different footstrike types. Journal of biomechanics, 49(16), 4128–4133.\n",
    "\n",
    "### Create signals necessary to replicate the methods Handsaker et al. (2016)"
   ]
  },
  {
   "cell_type": "code",
   "execution_count": null,
   "id": "79d81337",
   "metadata": {},
   "outputs": [],
   "source": [
    "RHEPr = df_R_RICm[['RHEP_X','RHEP_Y','RHEP_Z']].values/1000\n",
    "RHEDr = df_R_RICm[['RHED_X','RHED_Y','RHED_Z']].values/1000\n",
    "RTOEr = df_R_RICm[['RTOE_X','RTOE_Y','RTOE_Z']].values/1000"
   ]
  },
  {
   "cell_type": "code",
   "execution_count": null,
   "id": "4ef24219",
   "metadata": {},
   "outputs": [],
   "source": [
    "from scipy.signal import butter, filtfilt"
   ]
  },
  {
   "cell_type": "code",
   "execution_count": null,
   "id": "f2f8ebdd",
   "metadata": {},
   "outputs": [],
   "source": [
    "RHEDr_f = np.empty(shape=(RHEDr.shape))\n",
    "RTOEr_f = np.empty(shape=(RTOEr.shape))\n",
    "# Butterworth filter\n",
    "freq = data['out']['hz_r']\n",
    "b, a = butter(2, (10/(freq/2)))\n",
    "\n",
    "for i in range(3):\n",
    "    RHEDr_f[:,i] = filtfilt(b, a, RHEDr[:,i])\n",
    "    RTOEr_f[:,i] = filtfilt(b, a, RTOEr[:,i])"
   ]
  },
  {
   "cell_type": "code",
   "execution_count": null,
   "id": "5dd818ab",
   "metadata": {},
   "outputs": [],
   "source": [
    "RHEDr=RHEDr_f\n",
    "RTOEr=RTOEr_f"
   ]
  },
  {
   "cell_type": "code",
   "execution_count": null,
   "id": "550f54cd",
   "metadata": {},
   "outputs": [],
   "source": [
    "# Calculating velocity and acceleration\n",
    "time = df_R_RIC.index.values\n",
    "dt = np.mean(np.diff(time))\n",
    "# Velocity\n",
    "# RHED\n",
    "RHEDr_vel_X = (RHEDr[2:,0]-RHEDr[:-2,0])/(2*dt)\n",
    "RHEDr_vel_X = np.hstack((RHEDr[1,0]-RHEDr[0,0], RHEDr_vel_X, RHEDr[-2,0]-RHEDr[-1,0]))\n",
    "RHEDr_vel_Y = (RHEDr[2:,1]-RHEDr[:-2,1])/(2*dt)\n",
    "RHEDr_vel_Y = np.hstack((RHEDr[1,1]-RHEDr[0,1], RHEDr_vel_Y, RHEDr[-2,1]-RHEDr[-1,1]))\n",
    "# RTOE\n",
    "RTOEr_vel_Y = (RTOEr[2:,1]-RTOEr[:-2,1])/(2*dt)\n",
    "RTOEr_vel_Y = np.hstack((RTOEr[1,1]-RTOEr[0,1], RTOEr_vel_Y, RTOEr[-2,1]-RTOEr[-1,1]))\n",
    "\n",
    "# Acceleration\n",
    "RHEDr_acc_Y = (RHEDr_vel_Y[2:]-RHEDr_vel_Y[:-2])/(2*dt)\n",
    "RHEDr_acc_Y = np.hstack((RHEDr_vel_Y[1]-RHEDr_vel_Y[0], RHEDr_acc_Y, RHEDr_vel_Y[-2]-RHEDr_vel_Y[-1]))\n",
    "# RTOE\n",
    "RTOEr_acc_Y = (RTOEr_vel_Y[2:]-RTOEr_vel_Y[:-2])/(2*dt)\n",
    "RTOEr_acc_Y = np.hstack((RTOEr_vel_Y[1]-RTOEr_vel_Y[0], RTOEr_acc_Y, RTOEr_vel_Y[-2]-RTOEr_vel_Y[-1]))\n",
    "\n",
    "# Jerk\n",
    "RTOEr_jkr_Y = (RTOEr_acc_Y[2:]-RTOEr_acc_Y[:-2])/(2*dt)\n",
    "RTOEr_jkr_Y = np.hstack((RTOEr_acc_Y[1]-RTOEr_acc_Y[0], RTOEr_jkr_Y, RTOEr_acc_Y[-2]-RTOEr_acc_Y[-1]))"
   ]
  },
  {
   "cell_type": "code",
   "execution_count": null,
   "id": "5df4dcfc",
   "metadata": {},
   "outputs": [],
   "source": [
    "from detecta import detect_onset\n",
    "from detecta import detect_peaks"
   ]
  },
  {
   "cell_type": "markdown",
   "id": "6abbf7f9",
   "metadata": {},
   "source": [
    "## Touch-down determination"
   ]
  },
  {
   "cell_type": "code",
   "execution_count": null,
   "id": "551f060f",
   "metadata": {},
   "outputs": [],
   "source": [
    "# Detect event where the RHED AP velocity signal is below threshold 1.5 m/s\n",
    "iRHED_AP_VEL = detect_onset(-RHEDr_vel_X, 1.5, n_above=10, n_below=0, show=False)"
   ]
  },
  {
   "cell_type": "code",
   "execution_count": null,
   "id": "54495a9a",
   "metadata": {},
   "outputs": [],
   "source": [
    "TD_window_1 = iRHED_AP_VEL[:,0]"
   ]
  },
  {
   "cell_type": "code",
   "execution_count": null,
   "id": "d99e2da5",
   "metadata": {},
   "outputs": [],
   "source": [
    "# Detect min vertical RHED position\n",
    "TD_window_2 = detect_peaks(RHEDr[:,1], mph=None, mpd=70, valley=True, show=False)"
   ]
  },
  {
   "cell_type": "code",
   "execution_count": null,
   "id": "1d3cfee1",
   "metadata": {},
   "outputs": [],
   "source": [
    "# Detect touch-down\n",
    "iTD = np.empty(shape=(TD_window_2.shape[0]), dtype=np.int64)\n",
    "for ip in range(TD_window_2.shape[0]):\n",
    "    ind_p = detect_peaks(RHEDr_acc_Y[TD_window_1[0]:TD_window_2[0]], \n",
    "                                     mph=None, mpd=20, valley=False, show=False)\n",
    "    iTD[ip] = TD_window_1[ip] + ind_p"
   ]
  },
  {
   "cell_type": "code",
   "execution_count": null,
   "id": "e6106358",
   "metadata": {},
   "outputs": [],
   "source": [
    "iTD"
   ]
  },
  {
   "cell_type": "markdown",
   "id": "a3e1a538",
   "metadata": {},
   "source": [
    "## Toe-off determination\n",
    "The toe-off window started 100 ms after touchdown, and ended when the vertical Toe position either exceeded 0.1 m or reached a maximum (Fig. 1b). "
   ]
  },
  {
   "cell_type": "code",
   "execution_count": null,
   "id": "e77f1e66",
   "metadata": {},
   "outputs": [],
   "source": [
    "time[iTD[0]] + 0.1"
   ]
  },
  {
   "cell_type": "code",
   "execution_count": null,
   "id": "fdffa6f9",
   "metadata": {},
   "outputs": [],
   "source": [
    "TO_window_1 = (np.abs(time - (time[iTD[0]] + 0.1))).argmin()\n",
    "TO_window_1"
   ]
  },
  {
   "cell_type": "markdown",
   "id": "82e81ad5",
   "metadata": {},
   "source": [
    "# Animation to understand"
   ]
  },
  {
   "cell_type": "code",
   "execution_count": null,
   "id": "b57d7b73",
   "metadata": {},
   "outputs": [],
   "source": [
    "# Detect touchdown\n",
    "plt.figure(figsize=(10,6))\n",
    "plt.plot(RHEDr[:,0],RHEDr[:,1],'b')\n",
    "plt.grid('on')\n",
    "plt.show()"
   ]
  },
  {
   "cell_type": "code",
   "execution_count": null,
   "id": "e5376da8",
   "metadata": {},
   "outputs": [],
   "source": []
  },
  {
   "cell_type": "markdown",
   "id": "be94de0f",
   "metadata": {},
   "source": [
    "# Make animation to understand the phenomenon"
   ]
  },
  {
   "cell_type": "code",
   "execution_count": null,
   "id": "e0512bfe",
   "metadata": {},
   "outputs": [],
   "source": [
    "from matplotlib.animation import FuncAnimation"
   ]
  },
  {
   "cell_type": "code",
   "execution_count": null,
   "id": "396a2778",
   "metadata": {},
   "outputs": [],
   "source": [
    "fig, ax = plt.subplots()\n",
    "line, = ax.plot([], marker=\"o\" , ls=\"-\")     # A tuple unpacking to unpack the only plot\n",
    "ax.set_xlim(-1, 0.5)\n",
    "ax.set_ylim(0, 1)\n",
    "\n",
    "def animate(frame_num):\n",
    "    x = [RHEDr[:,0],RTOEr[:,0]]\n",
    "    y = [RHEDr[:,1],RTOEr[:,1]]\n",
    "    line.set_data((x, y))\n",
    "    return line\n",
    "\n",
    "anim = FuncAnimation(fig, animate, frames=100, interval=5)\n",
    "plt.show()"
   ]
  },
  {
   "cell_type": "code",
   "execution_count": null,
   "id": "56ff2f8e",
   "metadata": {},
   "outputs": [],
   "source": [
    "# Detect touchdown\n",
    "plt.figure(figsize=(10,6))\n",
    "plt.plot([RHEDr[iTD[0],0],RTOEr[iTD[0],0]], [RHEDr[iTD[0],1],RTOEr[iTD[0],1]],'bo-')\n",
    "plt.plot([RHEDr[120,0],RTOEr[120,0]], [RHEDr[120,1],RTOEr[120,1]],'ro-')\n",
    "plt.grid('on')\n",
    "plt.show()"
   ]
  },
  {
   "cell_type": "code",
   "execution_count": null,
   "id": "680bb81f",
   "metadata": {},
   "outputs": [],
   "source": []
  },
  {
   "cell_type": "code",
   "execution_count": null,
   "id": "c8691483",
   "metadata": {},
   "outputs": [],
   "source": [
    "# Detect event where the RTOE vertical position exceeded threshold of 0.1 meters\n",
    "TO_window_2 = detect_onset(RTOEr[:,1], 0.1, n_above=10, n_below=0, show=True)"
   ]
  },
  {
   "cell_type": "code",
   "execution_count": null,
   "id": "55cb8493",
   "metadata": {},
   "outputs": [],
   "source": [
    "TO_window_2[:,0]"
   ]
  },
  {
   "cell_type": "code",
   "execution_count": null,
   "id": "ab8ad20c",
   "metadata": {},
   "outputs": [],
   "source": [
    "# Detect touchdown\n",
    "plt.figure()\n",
    "plt.plot(time[:1000], RTOEr[:1000,1])\n",
    "plt.grid('on')\n",
    "plt.show()"
   ]
  },
  {
   "cell_type": "code",
   "execution_count": null,
   "id": "8c20efe8",
   "metadata": {},
   "outputs": [],
   "source": [
    "TD_window_1"
   ]
  },
  {
   "cell_type": "code",
   "execution_count": null,
   "id": "fc787a64",
   "metadata": {},
   "outputs": [],
   "source": [
    "iRHEDr_acc_Y_peak"
   ]
  },
  {
   "cell_type": "code",
   "execution_count": null,
   "id": "49c1c624",
   "metadata": {},
   "outputs": [],
   "source": [
    "TD_window_2"
   ]
  },
  {
   "cell_type": "code",
   "execution_count": null,
   "id": "bdb08269",
   "metadata": {},
   "outputs": [],
   "source": [
    "# Detect touchdown\n",
    "plt.figure()\n",
    "plt.plot(time[:1000], RHEDr_acc_Y[:1000])\n",
    "plt.plot(time[int(TD_window_1[0]):int(TD_window_2[0])],\n",
    "         RHEDr_acc_Y[int(TD_window_1[0]):int(TD_window_2[0])],'r')\n",
    "plt.grid('on')\n",
    "plt.show()"
   ]
  },
  {
   "cell_type": "code",
   "execution_count": null,
   "id": "c4e91136",
   "metadata": {},
   "outputs": [],
   "source": [
    "TD_window_1 = list(TD_window_1)\n",
    "TD_window_2 = list(TD_window_2)"
   ]
  },
  {
   "cell_type": "code",
   "execution_count": null,
   "id": "6d28706f",
   "metadata": {},
   "outputs": [],
   "source": []
  },
  {
   "cell_type": "code",
   "execution_count": null,
   "id": "86e1d2d9",
   "metadata": {},
   "outputs": [],
   "source": [
    "fig, axs = plt.subplots(4)\n",
    "fig.suptitle('Vertically stacked subplots')\n",
    "axs[0].plot(time,RHEDr[:,1])\n",
    "axs[0].grid('on')\n",
    "axs[0].set_ylabel('RHED vertical position')\n",
    "axs[1].plot(time[:-1],RHEDr_vel[:,0])\n",
    "axs[1].grid('on')\n",
    "axs[1].set_ylabel('RHED A-P velocity')\n",
    "axs[2].plot(time,RTOEr[:,1])\n",
    "axs[2].grid('on')\n",
    "axs[2].set_ylabel('RTOE vertical position')\n",
    "axs[3].plot(time[:-2],RHEDr_acc[:,1])\n",
    "axs[3].grid('on')\n",
    "axs[3].set_ylabel('RHED vertical acceleration')\n",
    "plt.show()"
   ]
  },
  {
   "cell_type": "code",
   "execution_count": null,
   "id": "a70e3250",
   "metadata": {},
   "outputs": [],
   "source": [
    "dx = [x(2,:)-x(1,:); (diff(x(1:end-1,:)) + diff(x(2:end,:)))/2; x(end,:)-x(end-1,:)];"
   ]
  },
  {
   "cell_type": "markdown",
   "id": "a0a3cc7d",
   "metadata": {},
   "source": []
  },
  {
   "cell_type": "code",
   "execution_count": null,
   "id": "45ef0c9d",
   "metadata": {},
   "outputs": [],
   "source": [
    "# forward difference algorithm:\n",
    "vx, vy = np.diff(x)/dt,  np.diff(y)/dt\n",
    "ax, ay = np.diff(vx)/dt, np.diff(vy)/dt\n",
    "# central difference algorithm:\n",
    "vx2, vy2 = (x[2:]-x[:-2])/(2*dt),     (y[2:]-y[:-2])/(2*dt)\n",
    "ax2, ay2 = (vx2[2:]-vx2[:-2])/(2*dt), (vy2[2:]-vy2[:-2])/(2*dt)"
   ]
  },
  {
   "cell_type": "code",
   "execution_count": null,
   "id": "1ed1b899",
   "metadata": {},
   "outputs": [],
   "source": [
    "fig, axs = plt.subplots(2)\n",
    "fig.suptitle('Vertically stacked subplots')\n",
    "axs[0].plot(time,RHEDr_acc_Y)\n",
    "axs[0].grid('on')\n",
    "axs[0].set_ylabel('RHED vertical acceleration')\n",
    "axs[1].plot(time,RTOEr_jkr_Y)\n",
    "axs[1].grid('on')\n",
    "axs[1].set_ylabel('RTOE vertical jerk')\n",
    "plt.show()"
   ]
  },
  {
   "cell_type": "code",
   "execution_count": null,
   "id": "8441cce1",
   "metadata": {},
   "outputs": [],
   "source": [
    "fig, axs = plt.subplots(4)\n",
    "fig.suptitle('Vertically stacked subplots')\n",
    "axs[0].plot(time,RHEDr[:,1])\n",
    "axs[0].grid('on')\n",
    "axs[0].set_ylabel('RHED vertical position')\n",
    "axs[1].plot(time[:-1],RHEDr_vel[:,0])\n",
    "axs[1].grid('on')\n",
    "axs[1].set_ylabel('RHED A-P velocity')\n",
    "axs[2].plot(time,RTOEr[:,1])\n",
    "axs[2].grid('on')\n",
    "axs[2].set_ylabel('RTOE vertical position')\n",
    "axs[3].plot(time[:-2],RHEDr_acc[:,1])\n",
    "axs[3].grid('on')\n",
    "axs[3].set_ylabel('RHED vertical acceleration')\n",
    "plt.show()"
   ]
  },
  {
   "cell_type": "markdown",
   "id": "c2e2f67d",
   "metadata": {},
   "source": [
    "# <font color='red'>PENDING</font>\n",
    "Now after filtering it appears the acc and jerk are reasonable\n",
    "* FIND TOUCH-DOWN USING ACCELERATION WITHIN WINDOW\n",
    "* FIND WINDOW FOR SEEKING TOEOFF\n",
    "* FIND TOEOFF\n",
    "* MAKE A FUNCTION\n",
    "* USE EVENTS TO NORMALIZE ANGLES"
   ]
  },
  {
   "cell_type": "code",
   "execution_count": null,
   "id": "aea7e76a",
   "metadata": {},
   "outputs": [],
   "source": [
    "# Gait event detection [https://pubmed.ncbi.nlm.nih.gov/27814970/]\n",
    "\n",
    "The touchdown window started when the anterior-posterior velocity of the Heel first dropped below 1.5 m/s and ended at the next minima in vertical Heel position. The toe-off window started 100 ms after touchdown, and ended when the vertical Toe position either exceeded 0.1 m or reached a maximum (Fig. 1b). Notably, these cut-off values were able to successfully define TD and TO windows across the full range of ground contact times and, by implication, running speeds in this study.\n",
    "\n",
    "To conclude, when estimating GCEs during running in the absence of a force platform, an algorithm that uses the first occurring of the vertical acceleration peaks of the Heel and Met to identify touchdown and the vertical jerk peak of the Toe to identify\n",
    "toe-off is recommended. This algorithm requires an initial windowing step to identify reduced time windows containing touchdown and toe-off.\n",
    "\n",
    "* Handsaker, J. C., Forrester, S. E., Folland, J. P., Black, M. I., & Allen, S. J. (2016). A kinematic algorithm to identify gait events during running at different speeds and with different footstrike types. Journal of biomechanics, 49(16), 4128–4133.\n",
    "\n",
    "### Create signals necessary to replicate the methods Handsaker et al. (2016)\n",
    "\n",
    "RHEPr = df_R_RICm[['RHEP_X','RHEP_Y','RHEP_Z']].values/1000\n",
    "RHEDr = df_R_RICm[['RHED_X','RHED_Y','RHED_Z']].values/1000\n",
    "RTOEr = df_R_RICm[['RTOE_X','RTOE_Y','RTOE_Z']].values/1000\n",
    "\n",
    "from scipy.signal import butter, filtfilt\n",
    "\n",
    "RHEDr_f = np.empty(shape=(RHEDr.shape))\n",
    "RTOEr_f = np.empty(shape=(RTOEr.shape))\n",
    "# Butterworth filter\n",
    "freq = data['out']['hz_r']\n",
    "b, a = butter(2, (10/(freq/2)))\n",
    "\n",
    "for i in range(3):\n",
    "    RHEDr_f[:,i] = filtfilt(b, a, RHEDr[:,i])\n",
    "    RTOEr_f[:,i] = filtfilt(b, a, RTOEr[:,i])\n",
    "\n",
    "RHEDr=RHEDr_f\n",
    "RTOEr=RTOEr_f\n",
    "\n",
    "# Calculating velocity and acceleration\n",
    "time = df_R_RIC.index.values\n",
    "dt = np.mean(np.diff(time))\n",
    "# Velocity\n",
    "# RHED\n",
    "RHEDr_vel_X = (RHEDr[2:,0]-RHEDr[:-2,0])/(2*dt)\n",
    "RHEDr_vel_X = np.hstack((RHEDr[1,0]-RHEDr[0,0], RHEDr_vel_X, RHEDr[-2,0]-RHEDr[-1,0]))\n",
    "RHEDr_vel_Y = (RHEDr[2:,1]-RHEDr[:-2,1])/(2*dt)\n",
    "RHEDr_vel_Y = np.hstack((RHEDr[1,1]-RHEDr[0,1], RHEDr_vel_Y, RHEDr[-2,1]-RHEDr[-1,1]))\n",
    "# RTOE\n",
    "RTOEr_vel_Y = (RTOEr[2:,1]-RTOEr[:-2,1])/(2*dt)\n",
    "RTOEr_vel_Y = np.hstack((RTOEr[1,1]-RTOEr[0,1], RTOEr_vel_Y, RTOEr[-2,1]-RTOEr[-1,1]))\n",
    "\n",
    "# Acceleration\n",
    "RHEDr_acc_Y = (RHEDr_vel_Y[2:]-RHEDr_vel_Y[:-2])/(2*dt)\n",
    "RHEDr_acc_Y = np.hstack((RHEDr_vel_Y[1]-RHEDr_vel_Y[0], RHEDr_acc_Y, RHEDr_vel_Y[-2]-RHEDr_vel_Y[-1]))\n",
    "# RTOE\n",
    "RTOEr_acc_Y = (RTOEr_vel_Y[2:]-RTOEr_vel_Y[:-2])/(2*dt)\n",
    "RTOEr_acc_Y = np.hstack((RTOEr_vel_Y[1]-RTOEr_vel_Y[0], RTOEr_acc_Y, RTOEr_vel_Y[-2]-RTOEr_vel_Y[-1]))\n",
    "\n",
    "# Jerk\n",
    "RTOEr_jkr_Y = (RTOEr_acc_Y[2:]-RTOEr_acc_Y[:-2])/(2*dt)\n",
    "RTOEr_jkr_Y = np.hstack((RTOEr_acc_Y[1]-RTOEr_acc_Y[0], RTOEr_jkr_Y, RTOEr_acc_Y[-2]-RTOEr_acc_Y[-1]))\n",
    "\n",
    "from detecta import detect_onset\n",
    "from detecta import detect_peaks\n",
    "\n",
    "## Touch-down determination\n",
    "\n",
    "# Detect event where the RHED AP velocity signal is below threshold 1.5 m/s\n",
    "iRHED_AP_VEL = detect_onset(-RHEDr_vel_X, 1.5, n_above=10, n_below=0, show=False)\n",
    "\n",
    "TD_window_1 = iRHED_AP_VEL[:,0]\n",
    "\n",
    "# Detect min vertical RHED position\n",
    "TD_window_2 = detect_peaks(RHEDr[:,1], mph=None, mpd=70, valley=True, show=False)\n",
    "\n",
    "# Detect touch-down\n",
    "iTD = np.empty(shape=(TD_window_2.shape[0]), dtype=np.int64)\n",
    "for ip in range(TD_window_2.shape[0]):\n",
    "    ind_p = detect_peaks(RHEDr_acc_Y[TD_window_1[0]:TD_window_2[0]], \n",
    "                                     mph=None, mpd=20, valley=False, show=False)\n",
    "    iTD[ip] = TD_window_1[ip] + ind_p\n",
    "\n",
    "iTD\n",
    "\n",
    "## Toe-off determination\n",
    "The toe-off window started 100 ms after touchdown, and ended when the vertical Toe position either exceeded 0.1 m or reached a maximum (Fig. 1b). \n",
    "\n",
    "time[iTD[0]] + 0.1\n",
    "\n",
    "TO_window_1 = (np.abs(time - (time[iTD[0]] + 0.1))).argmin()\n",
    "TO_window_1\n",
    "\n",
    "# Animation to understand\n",
    "\n",
    "# Detect touchdown\n",
    "plt.figure(figsize=(10,6))\n",
    "plt.plot(RHEDr[:,0],RHEDr[:,1],'b')\n",
    "plt.grid('on')\n",
    "plt.show()\n",
    "\n",
    "\n",
    "\n",
    "# Make animation to understand the phenomenon\n",
    "\n",
    "from matplotlib.animation import FuncAnimation\n",
    "\n",
    "fig, ax = plt.subplots()\n",
    "line, = ax.plot([], marker=\"o\" , ls=\"-\")     # A tuple unpacking to unpack the only plot\n",
    "ax.set_xlim(-1, 0.5)\n",
    "ax.set_ylim(0, 1)\n",
    "\n",
    "def animate(frame_num):\n",
    "    x = [RHEDr[:,0],RTOEr[:,0]]\n",
    "    y = [RHEDr[:,1],RTOEr[:,1]]\n",
    "    line.set_data((x, y))\n",
    "    return line\n",
    "\n",
    "anim = FuncAnimation(fig, animate, frames=100, interval=5)\n",
    "plt.show()\n",
    "\n",
    "# Detect touchdown\n",
    "plt.figure(figsize=(10,6))\n",
    "plt.plot([RHEDr[iTD[0],0],RTOEr[iTD[0],0]], [RHEDr[iTD[0],1],RTOEr[iTD[0],1]],'bo-')\n",
    "plt.plot([RHEDr[120,0],RTOEr[120,0]], [RHEDr[120,1],RTOEr[120,1]],'ro-')\n",
    "plt.grid('on')\n",
    "plt.show()\n",
    "\n",
    "\n",
    "\n",
    "# Detect event where the RTOE vertical position exceeded threshold of 0.1 meters\n",
    "TO_window_2 = detect_onset(RTOEr[:,1], 0.1, n_above=10, n_below=0, show=True)\n",
    "\n",
    "TO_window_2[:,0]\n",
    "\n",
    "# Detect touchdown\n",
    "plt.figure()\n",
    "plt.plot(time[:1000], RTOEr[:1000,1])\n",
    "plt.grid('on')\n",
    "plt.show()\n",
    "\n",
    "TD_window_1\n",
    "\n",
    "iRHEDr_acc_Y_peak\n",
    "\n",
    "TD_window_2\n",
    "\n",
    "# Detect touchdown\n",
    "plt.figure()\n",
    "plt.plot(time[:1000], RHEDr_acc_Y[:1000])\n",
    "plt.plot(time[int(TD_window_1[0]):int(TD_window_2[0])],\n",
    "         RHEDr_acc_Y[int(TD_window_1[0]):int(TD_window_2[0])],'r')\n",
    "plt.grid('on')\n",
    "plt.show()\n",
    "\n",
    "TD_window_1 = list(TD_window_1)\n",
    "TD_window_2 = list(TD_window_2)\n",
    "\n",
    "\n",
    "\n",
    "fig, axs = plt.subplots(4)\n",
    "fig.suptitle('Vertically stacked subplots')\n",
    "axs[0].plot(time,RHEDr[:,1])\n",
    "axs[0].grid('on')\n",
    "axs[0].set_ylabel('RHED vertical position')\n",
    "axs[1].plot(time[:-1],RHEDr_vel[:,0])\n",
    "axs[1].grid('on')\n",
    "axs[1].set_ylabel('RHED A-P velocity')\n",
    "axs[2].plot(time,RTOEr[:,1])\n",
    "axs[2].grid('on')\n",
    "axs[2].set_ylabel('RTOE vertical position')\n",
    "axs[3].plot(time[:-2],RHEDr_acc[:,1])\n",
    "axs[3].grid('on')\n",
    "axs[3].set_ylabel('RHED vertical acceleration')\n",
    "plt.show()\n",
    "\n",
    "dx = [x(2,:)-x(1,:); (diff(x(1:end-1,:)) + diff(x(2:end,:)))/2; x(end,:)-x(end-1,:)];\n",
    "\n",
    "\n",
    "\n",
    "# forward difference algorithm:\n",
    "vx, vy = np.diff(x)/dt,  np.diff(y)/dt\n",
    "ax, ay = np.diff(vx)/dt, np.diff(vy)/dt\n",
    "# central difference algorithm:\n",
    "vx2, vy2 = (x[2:]-x[:-2])/(2*dt),     (y[2:]-y[:-2])/(2*dt)\n",
    "ax2, ay2 = (vx2[2:]-vx2[:-2])/(2*dt), (vy2[2:]-vy2[:-2])/(2*dt)\n",
    "\n",
    "fig, axs = plt.subplots(2)\n",
    "fig.suptitle('Vertically stacked subplots')\n",
    "axs[0].plot(time,RHEDr_acc_Y)\n",
    "axs[0].grid('on')\n",
    "axs[0].set_ylabel('RHED vertical acceleration')\n",
    "axs[1].plot(time,RTOEr_jkr_Y)\n",
    "axs[1].grid('on')\n",
    "axs[1].set_ylabel('RTOE vertical jerk')\n",
    "plt.show()\n",
    "\n",
    "fig, axs = plt.subplots(4)\n",
    "fig.suptitle('Vertically stacked subplots')\n",
    "axs[0].plot(time,RHEDr[:,1])\n",
    "axs[0].grid('on')\n",
    "axs[0].set_ylabel('RHED vertical position')\n",
    "axs[1].plot(time[:-1],RHEDr_vel[:,0])\n",
    "axs[1].grid('on')\n",
    "axs[1].set_ylabel('RHED A-P velocity')\n",
    "axs[2].plot(time,RTOEr[:,1])\n",
    "axs[2].grid('on')\n",
    "axs[2].set_ylabel('RTOE vertical position')\n",
    "axs[3].plot(time[:-2],RHEDr_acc[:,1])\n",
    "axs[3].grid('on')\n",
    "axs[3].set_ylabel('RHED vertical acceleration')\n",
    "plt.show()\n",
    "\n",
    "# <font color='red'>PENDING</font>\n",
    "Now after filtering it appears the acc and jerk are reasonable\n",
    "* FIND TOUCH-DOWN USING ACCELERATION WITHIN WINDOW\n",
    "* FIND WINDOW FOR SEEKING TOEOFF\n",
    "* FIND TOEOFF\n",
    "* MAKE A FUNCTION\n",
    "* USE EVENTS TO NORMALIZE ANGLES"
   ]
  },
  {
   "cell_type": "code",
   "execution_count": null,
   "id": "747867f1",
   "metadata": {},
   "outputs": [],
   "source": []
  }
 ],
 "metadata": {
  "kernelspec": {
   "display_name": "Python 3 (ipykernel)",
   "language": "python",
   "name": "python3"
  },
  "language_info": {
   "codemirror_mode": {
    "name": "ipython",
    "version": 3
   },
   "file_extension": ".py",
   "mimetype": "text/x-python",
   "name": "python",
   "nbconvert_exporter": "python",
   "pygments_lexer": "ipython3",
   "version": "3.9.16"
  }
 },
 "nbformat": 4,
 "nbformat_minor": 5
}
