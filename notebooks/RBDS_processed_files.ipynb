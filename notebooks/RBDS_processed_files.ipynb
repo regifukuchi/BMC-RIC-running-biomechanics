{
 "cells": [
  {
   "cell_type": "markdown",
   "id": "b12e57ac",
   "metadata": {
    "id": "b12e57ac"
   },
   "source": [
    "# Running Biomechanics Data Set processed files\n",
    "\n",
    "Reginaldo K Fukuchi, Jan 2023, reginaldo.fukuchi@ufabc.edu.br\n",
    "\n",
    "This NB prepares data to e exported as RBDSxxxxprocessed.txt"
   ]
  },
  {
   "cell_type": "code",
   "execution_count": null,
   "id": "7f4e9cc6",
   "metadata": {
    "executionInfo": {
     "elapsed": 1550,
     "status": "ok",
     "timestamp": 1674166207034,
     "user": {
      "displayName": "Reginaldo Fukuchi",
      "userId": "10593265862496095759"
     },
     "user_tz": 420
    },
    "id": "7f4e9cc6"
   },
   "outputs": [],
   "source": [
    "# Prepare environment\n",
    "import os\n",
    "import numpy as np\n",
    "import pandas as pd\n",
    "import seaborn as sns\n",
    "import matplotlib.pyplot as plt\n",
    "%matplotlib notebook"
   ]
  },
  {
   "cell_type": "code",
   "execution_count": null,
   "id": "0a83576f",
   "metadata": {
    "executionInfo": {
     "elapsed": 210,
     "status": "ok",
     "timestamp": 1674166213240,
     "user": {
      "displayName": "Reginaldo Fukuchi",
      "userId": "10593265862496095759"
     },
     "user_tz": 420
    },
    "id": "0a83576f"
   },
   "outputs": [],
   "source": [
    "# Import data\n",
    "pathname = r'../data'"
   ]
  },
  {
   "cell_type": "markdown",
   "id": "e22015e5",
   "metadata": {
    "id": "e22015e5"
   },
   "source": [
    "## Import C3D RBDS file using EZC3D\n",
    "https://github.com/pyomeca/ezc3d"
   ]
  },
  {
   "cell_type": "code",
   "execution_count": null,
   "id": "vS5VEF0WG_uG",
   "metadata": {
    "id": "vS5VEF0WG_uG"
   },
   "outputs": [],
   "source": [
    "import sys\n",
    "sys.path.insert(1, r'../functions')\n",
    "from svdt import svdt"
   ]
  },
  {
   "cell_type": "code",
   "execution_count": null,
   "id": "2fd77eb0",
   "metadata": {},
   "outputs": [],
   "source": [
    "from ezc3d import c3d"
   ]
  },
  {
   "cell_type": "code",
   "execution_count": null,
   "id": "30b5aeb9",
   "metadata": {},
   "outputs": [],
   "source": [
    "subject = 'RBDS0041'\n",
    "task = 'runT252'"
   ]
  },
  {
   "cell_type": "code",
   "execution_count": null,
   "id": "b4690006",
   "metadata": {
    "id": "b4690006"
   },
   "outputs": [],
   "source": [
    "fname_c3d = os.path.join(pathname,task + '.c3d')\n",
    "c = c3d(fname_c3d, extract_forceplat_data=True)"
   ]
  },
  {
   "cell_type": "code",
   "execution_count": null,
   "id": "88596033",
   "metadata": {},
   "outputs": [],
   "source": [
    "pf_1 = c[\"data\"][\"platform\"][1]  # Select the second platform\n",
    "# Force platform signals matching existing RBDS\n",
    "fp1_forces = pf_1['force'].T # Forces\n",
    "fp1_cop    = pf_1['center_of_pressure'].T # Centre of pressure\n",
    "fp1_Ty     = pf_1['Tz'][1,:] # Free moment about vertical axis"
   ]
  },
  {
   "cell_type": "code",
   "execution_count": null,
   "id": "7fe06f3a",
   "metadata": {},
   "outputs": [],
   "source": [
    "fp1_Ty = np.expand_dims(fp1_Ty,axis=1)"
   ]
  },
  {
   "cell_type": "code",
   "execution_count": null,
   "id": "263be7a1",
   "metadata": {},
   "outputs": [],
   "source": [
    "# Concatenate signals\n",
    "force_signals = np.hstack([fp1_forces, fp1_cop, fp1_Ty])"
   ]
  },
  {
   "cell_type": "code",
   "execution_count": null,
   "id": "6e2f0d91",
   "metadata": {},
   "outputs": [],
   "source": [
    "force_sigs_labels = ['Fx', 'Fy', 'Fz', 'COPx', 'COPy', 'COPz', 'Ty']"
   ]
  },
  {
   "cell_type": "code",
   "execution_count": null,
   "id": "ad4bd1ab",
   "metadata": {},
   "outputs": [],
   "source": [
    "df_forces = pd.DataFrame(data=force_signals, columns=force_sigs_labels)"
   ]
  },
  {
   "cell_type": "code",
   "execution_count": null,
   "id": "d5ceb99b",
   "metadata": {},
   "outputs": [],
   "source": [
    "df_forces['Time'] = list(range(1,force_signals.shape[0]+1))\n",
    "df_forces.set_index('Time', inplace=True)\n",
    "df_forces.index.name = 'Time'"
   ]
  },
  {
   "cell_type": "code",
   "execution_count": null,
   "id": "0c24e280",
   "metadata": {},
   "outputs": [],
   "source": [
    "df_forces = df_forces.round(2)"
   ]
  },
  {
   "cell_type": "code",
   "execution_count": null,
   "id": "60c490cf",
   "metadata": {},
   "outputs": [],
   "source": [
    "df_forces.head()"
   ]
  },
  {
   "cell_type": "code",
   "execution_count": null,
   "id": "4ae2993f",
   "metadata": {},
   "outputs": [],
   "source": [
    "# Export to CSV\n",
    "fname_forces_txt = os.path.join(pathname, subject+task+'forces.txt')\n",
    "df_forces.to_csv(fname_forces_txt, sep='\\t')"
   ]
  },
  {
   "cell_type": "code",
   "execution_count": null,
   "id": "ccce20b4",
   "metadata": {},
   "outputs": [],
   "source": []
  },
  {
   "cell_type": "code",
   "execution_count": null,
   "id": "1924d713",
   "metadata": {},
   "outputs": [],
   "source": []
  },
  {
   "cell_type": "markdown",
   "id": "e2369e5f",
   "metadata": {},
   "source": [
    "## Import txt file from RBDS to see its structure"
   ]
  },
  {
   "cell_type": "code",
   "execution_count": null,
   "id": "e1bde632",
   "metadata": {},
   "outputs": [],
   "source": [
    "fname_R = os.path.join(pathname, 'RBDS001runT25forces.txt')\n",
    "df_R = pd.read_csv(fname_R, delimiter='\\t', index_col='Time')"
   ]
  },
  {
   "cell_type": "code",
   "execution_count": null,
   "id": "57027668",
   "metadata": {},
   "outputs": [],
   "source": [
    "df_R.head()"
   ]
  },
  {
   "cell_type": "code",
   "execution_count": null,
   "id": "fc0e3b9e",
   "metadata": {},
   "outputs": [],
   "source": [
    "from ordered_set import OrderedSet"
   ]
  },
  {
   "cell_type": "code",
   "execution_count": null,
   "id": "cbc35b85",
   "metadata": {},
   "outputs": [],
   "source": [
    "# RBDS\n",
    "ls = df_R.columns.tolist()\n",
    "ls"
   ]
  },
  {
   "cell_type": "code",
   "execution_count": null,
   "id": "6a31f8c9",
   "metadata": {},
   "outputs": [],
   "source": []
  },
  {
   "cell_type": "code",
   "execution_count": null,
   "id": "faf849b7",
   "metadata": {},
   "outputs": [],
   "source": []
  }
 ],
 "metadata": {
  "colab": {
   "provenance": [
    {
     "file_id": "12luz4qIj4aJAqD4vp22sjEJ6-fjui0Jq",
     "timestamp": 1674165986202
    }
   ]
  },
  "kernelspec": {
   "display_name": "Python 3 (ipykernel)",
   "language": "python",
   "name": "python3"
  },
  "language_info": {
   "codemirror_mode": {
    "name": "ipython",
    "version": 3
   },
   "file_extension": ".py",
   "mimetype": "text/x-python",
   "name": "python",
   "nbconvert_exporter": "python",
   "pygments_lexer": "ipython3",
   "version": "3.10.8"
  }
 },
 "nbformat": 4,
 "nbformat_minor": 5
}
