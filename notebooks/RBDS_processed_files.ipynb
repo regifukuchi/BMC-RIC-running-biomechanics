{
 "cells": [
  {
   "cell_type": "markdown",
   "id": "b12e57ac",
   "metadata": {
    "id": "b12e57ac"
   },
   "source": [
    "# Running Biomechanics Data Set processed files\n",
    "\n",
    "Reginaldo K Fukuchi, Jan 2023, reginaldo.fukuchi@ufabc.edu.br\n",
    "\n",
    "This NB prepares data to e exported as RBDSxxxxprocessed.txt"
   ]
  },
  {
   "cell_type": "code",
   "execution_count": 1,
   "id": "7f4e9cc6",
   "metadata": {
    "executionInfo": {
     "elapsed": 1550,
     "status": "ok",
     "timestamp": 1674166207034,
     "user": {
      "displayName": "Reginaldo Fukuchi",
      "userId": "10593265862496095759"
     },
     "user_tz": 420
    },
    "id": "7f4e9cc6"
   },
   "outputs": [],
   "source": [
    "# Prepare environment\n",
    "import os\n",
    "import numpy as np\n",
    "import pandas as pd\n",
    "import seaborn as sns\n",
    "import matplotlib.pyplot as plt\n",
    "%matplotlib notebook"
   ]
  },
  {
   "cell_type": "code",
   "execution_count": 3,
   "id": "0a83576f",
   "metadata": {
    "executionInfo": {
     "elapsed": 210,
     "status": "ok",
     "timestamp": 1674166213240,
     "user": {
      "displayName": "Reginaldo Fukuchi",
      "userId": "10593265862496095759"
     },
     "user_tz": 420
    },
    "id": "0a83576f"
   },
   "outputs": [],
   "source": [
    "# Import data\n",
    "pathDir = r'C:\\Users\\Reginaldo\\Documents\\data\\CNPq\\RBDS_v2\\RBA\\SUB0041';"
   ]
  },
  {
   "cell_type": "code",
   "execution_count": 4,
   "id": "909e8c9f",
   "metadata": {},
   "outputs": [],
   "source": [
    "speed = [25,35,45];\n",
    "side   = ['R','L'];\n",
    "joints = ['pelvis','hip','knee','ankle'];\n",
    "varListRBA = ['Stride_Length','Strides_Per_Minute','Stride_Width'];"
   ]
  },
  {
   "cell_type": "code",
   "execution_count": 6,
   "id": "ade4e009",
   "metadata": {},
   "outputs": [
    {
     "data": {
      "text/plain": [
       "'C:\\\\Users\\\\Reginaldo\\\\Documents\\\\data\\\\CNPq\\\\RBDS_v2\\\\RBA\\\\SUB0041\\\\RUNT25tempSpatGaitParams.txt'"
      ]
     },
     "execution_count": 6,
     "metadata": {},
     "output_type": "execute_result"
    }
   ],
   "source": [
    "os.path.join(pathDir,'RUNT'+str(speed[0])+'tempSpatGaitParams.txt')"
   ]
  },
  {
   "cell_type": "code",
   "execution_count": 31,
   "id": "9b67f604",
   "metadata": {},
   "outputs": [
    {
     "data": {
      "text/plain": [
       "array([4.00000000e+01, 7.35000000e-01, 6.36100000e-03, 4.00000000e+01,\n",
       "       2.61167000e-01, 5.20500000e-03, 4.00000000e+01, 9.02721000e-01,\n",
       "       1.68100000e-02, 4.00000000e+01, 3.66500000e-01, 5.33500000e-03,\n",
       "       4.00000000e+01, 1.63744598e+02, 2.38368000e+00, 4.00000000e+01,\n",
       "       1.83580200e+00, 2.05660000e-02, 4.00000000e+01, 8.16385960e+01,\n",
       "       7.04394000e-01, 4.00000000e+01, 4.73833000e-01, 5.92200000e-03,\n",
       "       4.00000000e+01, 7.35167000e-01, 8.26700000e-03, 0.00000000e+00,\n",
       "                  nan,            nan, 4.00000000e+01, 2.61500000e-01,\n",
       "       4.88900000e-03, 4.10000000e+01, 9.33290000e-01, 1.71650000e-02,\n",
       "       4.10000000e+01, 3.68455000e-01, 6.50200000e-03, 4.10000000e+01,\n",
       "       1.62891602e+02, 2.87977500e+00, 4.00000000e+01, 1.83654300e+00,\n",
       "       2.03560000e-02, 4.00000000e+01, 8.16242450e+01, 9.21204000e-01,\n",
       "       4.00000000e+01, 4.73667000e-01, 7.83700000e-03, 0.00000000e+00,\n",
       "                  nan,            nan, 2.49791100e+00, 8.00000000e+01,\n",
       "       1.30615000e-01, 1.07140000e-02])"
      ]
     },
     "execution_count": 31,
     "metadata": {},
     "output_type": "execute_result"
    }
   ],
   "source": [
    "data_SPTparams.values[0,1:]"
   ]
  },
  {
   "cell_type": "code",
   "execution_count": 32,
   "id": "a4ac67ce",
   "metadata": {},
   "outputs": [
    {
     "ename": "ValueError",
     "evalue": "Shape of passed values is (58, 1), indices imply (58, 58)",
     "output_type": "error",
     "traceback": [
      "\u001b[1;31m---------------------------------------------------------------------------\u001b[0m",
      "\u001b[1;31mValueError\u001b[0m                                Traceback (most recent call last)",
      "\u001b[1;32m~\\AppData\\Local\\Temp\\ipykernel_24396\\1431807347.py\u001b[0m in \u001b[0;36m<module>\u001b[1;34m\u001b[0m\n\u001b[0;32m      7\u001b[0m \u001b[0mdata_SPTparams\u001b[0m \u001b[1;33m=\u001b[0m \u001b[0mpd\u001b[0m\u001b[1;33m.\u001b[0m\u001b[0mread_csv\u001b[0m\u001b[1;33m(\u001b[0m\u001b[0mfilename\u001b[0m\u001b[1;33m,\u001b[0m \u001b[0mdelimiter\u001b[0m\u001b[1;33m=\u001b[0m\u001b[1;34m'\\t'\u001b[0m\u001b[1;33m,\u001b[0m \u001b[0mskiprows\u001b[0m\u001b[1;33m=\u001b[0m\u001b[1;36m4\u001b[0m\u001b[1;33m)\u001b[0m\u001b[1;33m\u001b[0m\u001b[1;33m\u001b[0m\u001b[0m\n\u001b[0;32m      8\u001b[0m \u001b[1;31m# Create another df\u001b[0m\u001b[1;33m\u001b[0m\u001b[1;33m\u001b[0m\u001b[0m\n\u001b[1;32m----> 9\u001b[1;33m \u001b[0mdf_SPT\u001b[0m \u001b[1;33m=\u001b[0m \u001b[0mpd\u001b[0m\u001b[1;33m.\u001b[0m\u001b[0mDataFrame\u001b[0m\u001b[1;33m(\u001b[0m\u001b[0mdata\u001b[0m\u001b[1;33m=\u001b[0m\u001b[0mdata_SPTparams\u001b[0m\u001b[1;33m.\u001b[0m\u001b[0mvalues\u001b[0m\u001b[1;33m[\u001b[0m\u001b[1;36m0\u001b[0m\u001b[1;33m,\u001b[0m\u001b[1;36m1\u001b[0m\u001b[1;33m:\u001b[0m\u001b[1;33m]\u001b[0m\u001b[1;33m,\u001b[0m \u001b[0mcolumns\u001b[0m\u001b[1;33m=\u001b[0m\u001b[0mSPTparams_labels\u001b[0m\u001b[1;33m[\u001b[0m\u001b[1;36m1\u001b[0m\u001b[1;33m:\u001b[0m\u001b[1;33m]\u001b[0m\u001b[1;33m)\u001b[0m\u001b[1;33m\u001b[0m\u001b[1;33m\u001b[0m\u001b[0m\n\u001b[0m",
      "\u001b[1;32m~\\anaconda3\\lib\\site-packages\\pandas\\core\\frame.py\u001b[0m in \u001b[0;36m__init__\u001b[1;34m(self, data, index, columns, dtype, copy)\u001b[0m\n\u001b[0;32m    692\u001b[0m                 )\n\u001b[0;32m    693\u001b[0m             \u001b[1;32melse\u001b[0m\u001b[1;33m:\u001b[0m\u001b[1;33m\u001b[0m\u001b[1;33m\u001b[0m\u001b[0m\n\u001b[1;32m--> 694\u001b[1;33m                 mgr = ndarray_to_mgr(\n\u001b[0m\u001b[0;32m    695\u001b[0m                     \u001b[0mdata\u001b[0m\u001b[1;33m,\u001b[0m\u001b[1;33m\u001b[0m\u001b[1;33m\u001b[0m\u001b[0m\n\u001b[0;32m    696\u001b[0m                     \u001b[0mindex\u001b[0m\u001b[1;33m,\u001b[0m\u001b[1;33m\u001b[0m\u001b[1;33m\u001b[0m\u001b[0m\n",
      "\u001b[1;32m~\\anaconda3\\lib\\site-packages\\pandas\\core\\internals\\construction.py\u001b[0m in \u001b[0;36mndarray_to_mgr\u001b[1;34m(values, index, columns, dtype, copy, typ)\u001b[0m\n\u001b[0;32m    349\u001b[0m     )\n\u001b[0;32m    350\u001b[0m \u001b[1;33m\u001b[0m\u001b[0m\n\u001b[1;32m--> 351\u001b[1;33m     \u001b[0m_check_values_indices_shape_match\u001b[0m\u001b[1;33m(\u001b[0m\u001b[0mvalues\u001b[0m\u001b[1;33m,\u001b[0m \u001b[0mindex\u001b[0m\u001b[1;33m,\u001b[0m \u001b[0mcolumns\u001b[0m\u001b[1;33m)\u001b[0m\u001b[1;33m\u001b[0m\u001b[1;33m\u001b[0m\u001b[0m\n\u001b[0m\u001b[0;32m    352\u001b[0m \u001b[1;33m\u001b[0m\u001b[0m\n\u001b[0;32m    353\u001b[0m     \u001b[1;32mif\u001b[0m \u001b[0mtyp\u001b[0m \u001b[1;33m==\u001b[0m \u001b[1;34m\"array\"\u001b[0m\u001b[1;33m:\u001b[0m\u001b[1;33m\u001b[0m\u001b[1;33m\u001b[0m\u001b[0m\n",
      "\u001b[1;32m~\\anaconda3\\lib\\site-packages\\pandas\\core\\internals\\construction.py\u001b[0m in \u001b[0;36m_check_values_indices_shape_match\u001b[1;34m(values, index, columns)\u001b[0m\n\u001b[0;32m    420\u001b[0m         \u001b[0mpassed\u001b[0m \u001b[1;33m=\u001b[0m \u001b[0mvalues\u001b[0m\u001b[1;33m.\u001b[0m\u001b[0mshape\u001b[0m\u001b[1;33m\u001b[0m\u001b[1;33m\u001b[0m\u001b[0m\n\u001b[0;32m    421\u001b[0m         \u001b[0mimplied\u001b[0m \u001b[1;33m=\u001b[0m \u001b[1;33m(\u001b[0m\u001b[0mlen\u001b[0m\u001b[1;33m(\u001b[0m\u001b[0mindex\u001b[0m\u001b[1;33m)\u001b[0m\u001b[1;33m,\u001b[0m \u001b[0mlen\u001b[0m\u001b[1;33m(\u001b[0m\u001b[0mcolumns\u001b[0m\u001b[1;33m)\u001b[0m\u001b[1;33m)\u001b[0m\u001b[1;33m\u001b[0m\u001b[1;33m\u001b[0m\u001b[0m\n\u001b[1;32m--> 422\u001b[1;33m         \u001b[1;32mraise\u001b[0m \u001b[0mValueError\u001b[0m\u001b[1;33m(\u001b[0m\u001b[1;34mf\"Shape of passed values is {passed}, indices imply {implied}\"\u001b[0m\u001b[1;33m)\u001b[0m\u001b[1;33m\u001b[0m\u001b[1;33m\u001b[0m\u001b[0m\n\u001b[0m\u001b[0;32m    423\u001b[0m \u001b[1;33m\u001b[0m\u001b[0m\n\u001b[0;32m    424\u001b[0m \u001b[1;33m\u001b[0m\u001b[0m\n",
      "\u001b[1;31mValueError\u001b[0m: Shape of passed values is (58, 1), indices imply (58, 58)"
     ]
    }
   ],
   "source": [
    "# Import Temporal Distance Gait Parameters\n",
    "# Read columns\n",
    "filename = os.path.join(pathDir,'RUNT'+str(speed[0])+'tempSpatGaitParams.txt')\n",
    "head_SPTparams = pd.read_csv(filename, delimiter='\\t', header=1)\n",
    "SPTparams_labels = head_SPTparams.columns.tolist()\n",
    "# Read data only\n",
    "data_SPTparams = pd.read_csv(filename, delimiter='\\t', skiprows=4)\n",
    "# Create another df\n",
    "df_SPT = pd.DataFrame(data=data_SPTparams.values[0,1:], columns=SPTparams_labels[1:])"
   ]
  },
  {
   "cell_type": "code",
   "execution_count": 22,
   "id": "1fcacc48",
   "metadata": {},
   "outputs": [
    {
     "data": {
      "text/plain": [
       "['Left_Cycle_Time_Count',\n",
       " 'Left_Cycle_Time_Mean',\n",
       " 'Left_Cycle_Time_StdDev',\n",
       " 'Left_Stance_Time_Count',\n",
       " 'Left_Stance_Time_Mean',\n",
       " 'Left_Stance_Time_StdDev',\n",
       " 'Left_Step_Length_Count',\n",
       " 'Left_Step_Length_Mean',\n",
       " 'Left_Step_Length_StdDev',\n",
       " 'Left_Step_Time_Count',\n",
       " 'Left_Step_Time_Mean',\n",
       " 'Left_Step_Time_StdDev',\n",
       " 'Left_Steps_Per_Minute_Count',\n",
       " 'Left_Steps_Per_Minute_Mean',\n",
       " 'Left_Steps_Per_Minute_StdDev',\n",
       " 'Left_Stride_Length_Count',\n",
       " 'Left_Stride_Length_Mean',\n",
       " 'Left_Stride_Length_StdDev',\n",
       " 'Left_Strides_Per_Minute_Count',\n",
       " 'Left_Strides_Per_Minute_Mean',\n",
       " 'Left_Strides_Per_Minute_StdDev',\n",
       " 'Left_Swing_Time_Count',\n",
       " 'Left_Swing_Time_Mean',\n",
       " 'Left_Swing_Time_StdDev',\n",
       " 'Right_Cycle_Time_Count',\n",
       " 'Right_Cycle_Time_Mean',\n",
       " 'Right_Cycle_Time_StdDev',\n",
       " 'Right_Initial_Double_Limb_Support_Time_Count',\n",
       " 'Right_Initial_Double_Limb_Support_Time_Mean',\n",
       " 'Right_Initial_Double_Limb_Support_Time_StdDev',\n",
       " 'Right_Stance_Time_Count',\n",
       " 'Right_Stance_Time_Mean',\n",
       " 'Right_Stance_Time_StdDev',\n",
       " 'Right_Step_Length_Count',\n",
       " 'Right_Step_Length_Mean',\n",
       " 'Right_Step_Length_StdDev',\n",
       " 'Right_Step_Time_Count',\n",
       " 'Right_Step_Time_Mean',\n",
       " 'Right_Step_Time_StdDev',\n",
       " 'Right_Steps_Per_Minute_Count',\n",
       " 'Right_Steps_Per_Minute_Mean',\n",
       " 'Right_Steps_Per_Minute_StdDev',\n",
       " 'Right_Stride_Length_Count',\n",
       " 'Right_Stride_Length_Mean',\n",
       " 'Right_Stride_Length_StdDev',\n",
       " 'Right_Strides_Per_Minute_Count',\n",
       " 'Right_Strides_Per_Minute_Mean',\n",
       " 'Right_Strides_Per_Minute_StdDev',\n",
       " 'Right_Swing_Time_Count',\n",
       " 'Right_Swing_Time_Mean',\n",
       " 'Right_Swing_Time_StdDev',\n",
       " 'Right_Terminal_Double_Limb_Support_Time_Count',\n",
       " 'Right_Terminal_Double_Limb_Support_Time_Mean',\n",
       " 'Right_Terminal_Double_Limb_Support_Time_StdDev',\n",
       " 'Speed',\n",
       " 'Stride_Width_Count',\n",
       " 'Stride_Width_Mean',\n",
       " 'Stride_Width_StdDev']"
      ]
     },
     "execution_count": 22,
     "metadata": {},
     "output_type": "execute_result"
    }
   ],
   "source": [
    "df_SPT"
   ]
  },
  {
   "cell_type": "code",
   "execution_count": null,
   "id": "5eb4cf59",
   "metadata": {},
   "outputs": [],
   "source": [
    "for gs = 1:3\n",
    "        # Import Temporal Distance Gait Parameters\n",
    "        filename = [dirPath filesep 'RUNT' num2str(speed(gs)*10) 'tempSpatGaitParams.txt'];\n",
    "        xX = importdata(filename);\n",
    "        t=xX.textdata{2,1}; %assumes your header is in the last row\n",
    "        h=regexp(t,'\\t','split');\n",
    "\n",
    "        % Variable names\n",
    "        varnames = h(2:end); % 21 variables\n",
    "\n",
    "        % Data\n",
    "        vdata = xX.data(2,:);\n",
    "\n",
    "        for s = 1:length(side)\n",
    "\n",
    "            % Temporal Distance Gait Parameters\n",
    "            for ix = 1:length(varListRBA)\n",
    "                if ix==3\n",
    "                    varFullName = [varListRBA{ix} '_Mean'];\n",
    "                else\n",
    "                    if s==1, lado='Right'; else lado = 'Left';end\n",
    "\n",
    "                    varFullName = [lado '_' varListRBA{ix} '_Mean'];\n",
    "                end\n",
    "                % Index of the corresponding variables in the big list\n",
    "                idx = find(ismember(varnames,varFullName));\n",
    "\n",
    "                xData = vdata(idx);\n",
    "                % Structure containing the Temp Spatial Variables\n",
    "                rba(sub).([side{s} varListRBA{ix} 'RUN' num2str(speed(gs)*10)]) = xData;\n",
    "            end\n",
    "\n",
    "\n",
    "            for j = 1:length(joints)\n",
    "\n",
    "                if j==1\n",
    "                    varType={'Ang'};\n",
    "                else\n",
    "                    varType = {'Ang','Mom','Pow'};\n",
    "                end\n",
    "\n",
    "                for v = 1:length(varType)\n",
    "\n",
    "\n",
    "                    % File directory pathname\n",
    "                    filename = [dirPath filesep 'RUN' num2str(speed(gs)*10) side{s} joints{j} varType{v} '.txt'];\n",
    "\n",
    "                    X = importdata(filename);\n",
    "\n",
    "                    rba(sub).([side{s} joints{j} varType{v} 'RUN' num2str(speed(gs)*10)]) = X.data(:,2:end);\n",
    "                end\n",
    "\n",
    "            end\n",
    "\n",
    "            % Including ground reaction forces\n",
    "            filename = [dirPath filesep 'RUN' num2str(speed(gs)*10) side{s} 'grf.txt'];\n",
    "\n",
    "            X = importdata(filename);\n",
    "\n",
    "            rba(sub).([side{s} 'grf' 'RUN' num2str(speed(gs)*10)]) = X.data(:,2:end);\n",
    "\n",
    "\n",
    "        end\n",
    "    end"
   ]
  },
  {
   "cell_type": "code",
   "execution_count": null,
   "id": "798d0973",
   "metadata": {},
   "outputs": [],
   "source": [
    "    \n",
    "    %\n",
    "    for sub = 1:length(subjs)\n",
    "        \n",
    "        if subjs(sub) < 10\n",
    "            dirPath = [pathDir '\\SUB000' num2str(subjs(sub))];\n",
    "        else\n",
    "            dirPath = [pathDir '\\SUB00' num2str(subjs(sub))];\n",
    "        end\n",
    "        \n",
    "        \n",
    "        for gs = 1:3\n",
    "            % Import Temporal Distance Gait Parameters\n",
    "            filename = [dirPath filesep 'RUNT' num2str(speed(gs)*10) 'tempSpatGaitParams.txt'];\n",
    "            xX = importdata(filename);\n",
    "            t=xX.textdata{2,1}; %assumes your header is in the last row\n",
    "            h=regexp(t,'\\t','split');\n",
    "            \n",
    "            % Variable names\n",
    "            varnames = h(2:end); % 21 variables\n",
    "            \n",
    "            % Data\n",
    "            vdata = xX.data(2,:);\n",
    "            \n",
    "            for s = 1:length(side)\n",
    "                \n",
    "                % Temporal Distance Gait Parameters\n",
    "                for ix = 1:length(varListRBA)\n",
    "                    if ix==3\n",
    "                        varFullName = [varListRBA{ix} '_Mean'];\n",
    "                    else\n",
    "                        if s==1, lado='Right'; else lado = 'Left';end\n",
    "                        \n",
    "                        varFullName = [lado '_' varListRBA{ix} '_Mean'];\n",
    "                    end\n",
    "                    % Index of the corresponding variables in the big list\n",
    "                    idx = find(ismember(varnames,varFullName));\n",
    "                    \n",
    "                    xData = vdata(idx);\n",
    "                    % Structure containing the Temp Spatial Variables\n",
    "                    rba(sub).([side{s} varListRBA{ix} 'RUN' num2str(speed(gs)*10)]) = xData;\n",
    "                end\n",
    "                \n",
    "                \n",
    "                for j = 1:length(joints)\n",
    "                    \n",
    "                    if j==1\n",
    "                        varType={'Ang'};\n",
    "                    else\n",
    "                        varType = {'Ang','Mom','Pow'};\n",
    "                    end\n",
    "                    \n",
    "                    for v = 1:length(varType)\n",
    "                        \n",
    "                        \n",
    "                        % File directory pathname\n",
    "                        filename = [dirPath filesep 'RUN' num2str(speed(gs)*10) side{s} joints{j} varType{v} '.txt'];\n",
    "                        \n",
    "                        X = importdata(filename);\n",
    "                        \n",
    "                        rba(sub).([side{s} joints{j} varType{v} 'RUN' num2str(speed(gs)*10)]) = X.data(:,2:end);\n",
    "                    end\n",
    "                    \n",
    "                end\n",
    "                \n",
    "                % Including ground reaction forces\n",
    "                filename = [dirPath filesep 'RUN' num2str(speed(gs)*10) side{s} 'grf.txt'];\n",
    "                \n",
    "                X = importdata(filename);\n",
    "                \n",
    "                rba(sub).([side{s} 'grf' 'RUN' num2str(speed(gs)*10)]) = X.data(:,2:end);\n",
    "                \n",
    "                \n",
    "            end\n",
    "        end\n",
    "        \n",
    "        % Subjects indices\n",
    "        rba(sub).idxSubj = ['Subject ' num2str(subjs(sub))];\n",
    "        \n",
    "        disp('************************************************************')\n",
    "        disp(['SUBJECT ' num2str(subjs(sub)) ' DONE!'])\n",
    "        \n",
    "    end\n",
    "    \n",
    "    % Saving the non-scalar structure variable with all the data (trials and subjects) in a file\n",
    "    % save([pathDir '\\Data\\rba2.mat'],'rba') % Including Temporal Spatial Params now"
   ]
  },
  {
   "cell_type": "code",
   "execution_count": null,
   "id": "1b56321c",
   "metadata": {},
   "outputs": [],
   "source": []
  },
  {
   "cell_type": "code",
   "execution_count": null,
   "id": "bb8fda89",
   "metadata": {},
   "outputs": [],
   "source": []
  },
  {
   "cell_type": "markdown",
   "id": "e22015e5",
   "metadata": {
    "id": "e22015e5"
   },
   "source": [
    "## Import C3D RBDS file using EZC3D\n",
    "https://github.com/pyomeca/ezc3d"
   ]
  },
  {
   "cell_type": "code",
   "execution_count": null,
   "id": "vS5VEF0WG_uG",
   "metadata": {
    "id": "vS5VEF0WG_uG"
   },
   "outputs": [],
   "source": [
    "import sys\n",
    "sys.path.insert(1, r'../functions')\n",
    "from svdt import svdt"
   ]
  },
  {
   "cell_type": "code",
   "execution_count": null,
   "id": "2fd77eb0",
   "metadata": {},
   "outputs": [],
   "source": [
    "from ezc3d import c3d"
   ]
  },
  {
   "cell_type": "code",
   "execution_count": null,
   "id": "30b5aeb9",
   "metadata": {},
   "outputs": [],
   "source": [
    "subject = 'RBDS0041'\n",
    "task = 'runT252'"
   ]
  },
  {
   "cell_type": "code",
   "execution_count": null,
   "id": "b4690006",
   "metadata": {
    "id": "b4690006"
   },
   "outputs": [],
   "source": [
    "fname_c3d = os.path.join(pathname,task + '.c3d')\n",
    "c = c3d(fname_c3d, extract_forceplat_data=True)"
   ]
  },
  {
   "cell_type": "code",
   "execution_count": null,
   "id": "88596033",
   "metadata": {},
   "outputs": [],
   "source": [
    "pf_1 = c[\"data\"][\"platform\"][1]  # Select the second platform\n",
    "# Force platform signals matching existing RBDS\n",
    "fp1_forces = pf_1['force'].T # Forces\n",
    "fp1_cop    = pf_1['center_of_pressure'].T # Centre of pressure\n",
    "fp1_Ty     = pf_1['Tz'][1,:] # Free moment about vertical axis"
   ]
  },
  {
   "cell_type": "code",
   "execution_count": null,
   "id": "7fe06f3a",
   "metadata": {},
   "outputs": [],
   "source": [
    "fp1_Ty = np.expand_dims(fp1_Ty,axis=1)"
   ]
  },
  {
   "cell_type": "code",
   "execution_count": null,
   "id": "263be7a1",
   "metadata": {},
   "outputs": [],
   "source": [
    "# Concatenate signals\n",
    "force_signals = np.hstack([fp1_forces, fp1_cop, fp1_Ty])"
   ]
  },
  {
   "cell_type": "code",
   "execution_count": null,
   "id": "6e2f0d91",
   "metadata": {},
   "outputs": [],
   "source": [
    "force_sigs_labels = ['Fx', 'Fy', 'Fz', 'COPx', 'COPy', 'COPz', 'Ty']"
   ]
  },
  {
   "cell_type": "code",
   "execution_count": null,
   "id": "ad4bd1ab",
   "metadata": {},
   "outputs": [],
   "source": [
    "df_forces = pd.DataFrame(data=force_signals, columns=force_sigs_labels)"
   ]
  },
  {
   "cell_type": "code",
   "execution_count": null,
   "id": "d5ceb99b",
   "metadata": {},
   "outputs": [],
   "source": [
    "df_forces['Time'] = list(range(1,force_signals.shape[0]+1))\n",
    "df_forces.set_index('Time', inplace=True)\n",
    "df_forces.index.name = 'Time'"
   ]
  },
  {
   "cell_type": "code",
   "execution_count": null,
   "id": "0c24e280",
   "metadata": {},
   "outputs": [],
   "source": [
    "df_forces = df_forces.round(2)"
   ]
  },
  {
   "cell_type": "code",
   "execution_count": null,
   "id": "60c490cf",
   "metadata": {},
   "outputs": [],
   "source": [
    "df_forces.head()"
   ]
  },
  {
   "cell_type": "code",
   "execution_count": null,
   "id": "4ae2993f",
   "metadata": {},
   "outputs": [],
   "source": [
    "# Export to CSV\n",
    "fname_forces_txt = os.path.join(pathname, subject+task+'forces.txt')\n",
    "df_forces.to_csv(fname_forces_txt, sep='\\t')"
   ]
  },
  {
   "cell_type": "code",
   "execution_count": null,
   "id": "ccce20b4",
   "metadata": {},
   "outputs": [],
   "source": []
  },
  {
   "cell_type": "code",
   "execution_count": null,
   "id": "1924d713",
   "metadata": {},
   "outputs": [],
   "source": []
  },
  {
   "cell_type": "markdown",
   "id": "e2369e5f",
   "metadata": {},
   "source": [
    "## Import txt file from RBDS to see its structure"
   ]
  },
  {
   "cell_type": "code",
   "execution_count": null,
   "id": "e1bde632",
   "metadata": {},
   "outputs": [],
   "source": [
    "fname_R = os.path.join(pathname, 'RBDS001runT25forces.txt')\n",
    "df_R = pd.read_csv(fname_R, delimiter='\\t', index_col='Time')"
   ]
  },
  {
   "cell_type": "code",
   "execution_count": null,
   "id": "57027668",
   "metadata": {},
   "outputs": [],
   "source": [
    "df_R.head()"
   ]
  },
  {
   "cell_type": "code",
   "execution_count": null,
   "id": "fc0e3b9e",
   "metadata": {},
   "outputs": [],
   "source": [
    "from ordered_set import OrderedSet"
   ]
  },
  {
   "cell_type": "code",
   "execution_count": null,
   "id": "cbc35b85",
   "metadata": {},
   "outputs": [],
   "source": [
    "# RBDS\n",
    "ls = df_R.columns.tolist()\n",
    "ls"
   ]
  },
  {
   "cell_type": "code",
   "execution_count": null,
   "id": "6a31f8c9",
   "metadata": {},
   "outputs": [],
   "source": []
  },
  {
   "cell_type": "code",
   "execution_count": null,
   "id": "faf849b7",
   "metadata": {},
   "outputs": [],
   "source": []
  }
 ],
 "metadata": {
  "colab": {
   "provenance": [
    {
     "file_id": "12luz4qIj4aJAqD4vp22sjEJ6-fjui0Jq",
     "timestamp": 1674165986202
    }
   ]
  },
  "kernelspec": {
   "display_name": "Python 3 (ipykernel)",
   "language": "python",
   "name": "python3"
  },
  "language_info": {
   "codemirror_mode": {
    "name": "ipython",
    "version": 3
   },
   "file_extension": ".py",
   "mimetype": "text/x-python",
   "name": "python",
   "nbconvert_exporter": "python",
   "pygments_lexer": "ipython3",
   "version": "3.9.16"
  }
 },
 "nbformat": 4,
 "nbformat_minor": 5
}
