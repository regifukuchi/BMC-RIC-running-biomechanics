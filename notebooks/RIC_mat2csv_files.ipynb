{
 "cells": [
  {
   "cell_type": "markdown",
   "id": "b12e57ac",
   "metadata": {
    "id": "b12e57ac"
   },
   "source": [
    "# Running Injury Clinic data\n",
    "\n",
    "Reginaldo K Fukuchi, Feb 2023, reginaldo.fukuchi@ufabc.edu.br\n",
    "\n",
    "This NB imports mat file containing joint angle data and save as txt files"
   ]
  },
  {
   "cell_type": "code",
   "execution_count": 1,
   "id": "7f4e9cc6",
   "metadata": {
    "executionInfo": {
     "elapsed": 1276,
     "status": "ok",
     "timestamp": 1674148668221,
     "user": {
      "displayName": "Reginaldo Fukuchi",
      "userId": "10593265862496095759"
     },
     "user_tz": 420
    },
    "id": "7f4e9cc6"
   },
   "outputs": [],
   "source": [
    "# Prepare environment\n",
    "import os, glob\n",
    "import scipy.io as spio\n",
    "import numpy as np\n",
    "import pandas as pd\n",
    "import seaborn as sns\n",
    "import matplotlib.pyplot as plt\n",
    "%matplotlib notebook"
   ]
  },
  {
   "cell_type": "code",
   "execution_count": 2,
   "id": "0a83576f",
   "metadata": {
    "executionInfo": {
     "elapsed": 253,
     "status": "ok",
     "timestamp": 1674148669703,
     "user": {
      "displayName": "Reginaldo Fukuchi",
      "userId": "10593265862496095759"
     },
     "user_tz": 420
    },
    "id": "0a83576f"
   },
   "outputs": [
    {
     "name": "stdout",
     "output_type": "stream",
     "text": [
      "N= 22 subjects\n"
     ]
    }
   ],
   "source": [
    "# Import data\n",
    "dir_path = r'C:\\Users\\Reginaldo\\Documents\\data\\CNPq\\MCR_run'\n",
    "fnames = glob.glob(os.path.join(dir_path,'*.mat'))\n",
    "print('N= '+str(len(fnames))+' subjects')"
   ]
  },
  {
   "cell_type": "markdown",
   "id": "32cf7043",
   "metadata": {
    "id": "32cf7043"
   },
   "source": [
    "## Import mat file data\n",
    "### Helper functions to prepare data\n",
    "https://stackoverflow.com/questions/7008608/scipy-io-loadmat-nested-structures-i-e-dictionaries"
   ]
  },
  {
   "cell_type": "code",
   "execution_count": 4,
   "id": "429bb1c1",
   "metadata": {
    "executionInfo": {
     "elapsed": 321,
     "status": "ok",
     "timestamp": 1674148671350,
     "user": {
      "displayName": "Reginaldo Fukuchi",
      "userId": "10593265862496095759"
     },
     "user_tz": 420
    },
    "id": "429bb1c1"
   },
   "outputs": [],
   "source": [
    "def loadmat(filename):\n",
    "    '''\n",
    "    this function should be called instead of direct spio.loadmat\n",
    "    as it cures the problem of not properly recovering python dictionaries\n",
    "    from mat files. It calls the function check keys to cure all entries\n",
    "    which are still mat-objects\n",
    "    '''\n",
    "    def _check_keys(d):\n",
    "        '''\n",
    "        checks if entries in dictionary are mat-objects. If yes\n",
    "        todict is called to change them to nested dictionaries\n",
    "        '''\n",
    "        for key in d:\n",
    "            if isinstance(d[key], spio.matlab.mat_struct):\n",
    "                d[key] = _todict(d[key])\n",
    "        return d\n",
    "\n",
    "    def _todict(matobj):\n",
    "        '''\n",
    "        A recursive function which constructs from matobjects nested dictionaries\n",
    "        '''\n",
    "        d = {}\n",
    "        for strg in matobj._fieldnames:\n",
    "            elem = matobj.__dict__[strg]\n",
    "            if isinstance(elem, spio.matlab.mat_struct):\n",
    "                d[strg] = _todict(elem)\n",
    "            elif isinstance(elem, np.ndarray):\n",
    "                d[strg] = _tolist(elem)\n",
    "            else:\n",
    "                d[strg] = elem\n",
    "        return d\n",
    "\n",
    "    def _tolist(ndarray):\n",
    "        '''\n",
    "        A recursive function which constructs lists from cellarrays\n",
    "        (which are loaded as numpy ndarrays), recursing into the elements\n",
    "        if they contain matobjects.\n",
    "        '''\n",
    "        elem_list = []\n",
    "        for sub_elem in ndarray:\n",
    "            if isinstance(sub_elem, spio.matlab.mat_struct):\n",
    "                elem_list.append(_todict(sub_elem))\n",
    "            elif isinstance(sub_elem, np.ndarray):\n",
    "                elem_list.append(_tolist(sub_elem))\n",
    "            else:\n",
    "                elem_list.append(sub_elem)\n",
    "        return elem_list\n",
    "    data = spio.loadmat(filename, struct_as_record=False, squeeze_me=True)\n",
    "    return _check_keys(data)"
   ]
  },
  {
   "cell_type": "markdown",
   "id": "52e9376b",
   "metadata": {},
   "source": [
    "## Change index of subject"
   ]
  },
  {
   "cell_type": "code",
   "execution_count": 248,
   "id": "e95c3930",
   "metadata": {},
   "outputs": [
    {
     "ename": "IndexError",
     "evalue": "list index out of range",
     "output_type": "error",
     "traceback": [
      "\u001b[1;31m---------------------------------------------------------------------------\u001b[0m",
      "\u001b[1;31mIndexError\u001b[0m                                Traceback (most recent call last)",
      "\u001b[1;32m~\\AppData\\Local\\Temp\\ipykernel_18440\\3221755246.py\u001b[0m in \u001b[0;36m<module>\u001b[1;34m\u001b[0m\n\u001b[1;32m----> 1\u001b[1;33m \u001b[0mfname\u001b[0m \u001b[1;33m=\u001b[0m \u001b[0mfnames\u001b[0m\u001b[1;33m[\u001b[0m\u001b[1;36m22\u001b[0m\u001b[1;33m]\u001b[0m\u001b[1;33m\u001b[0m\u001b[1;33m\u001b[0m\u001b[0m\n\u001b[0m\u001b[0;32m      2\u001b[0m \u001b[0mprint\u001b[0m\u001b[1;33m(\u001b[0m\u001b[1;34m'Running...'\u001b[0m\u001b[1;33m)\u001b[0m\u001b[1;33m\u001b[0m\u001b[1;33m\u001b[0m\u001b[0m\n\u001b[0;32m      3\u001b[0m \u001b[0mfname\u001b[0m\u001b[1;33m\u001b[0m\u001b[1;33m\u001b[0m\u001b[0m\n",
      "\u001b[1;31mIndexError\u001b[0m: list index out of range"
     ]
    }
   ],
   "source": [
    "fname = fnames[22]\n",
    "print('Running...')\n",
    "fname"
   ]
  },
  {
   "cell_type": "markdown",
   "id": "9225c220",
   "metadata": {
    "id": "9225c220"
   },
   "source": [
    "### Import mat file data"
   ]
  },
  {
   "cell_type": "code",
   "execution_count": null,
   "id": "ccaabefc",
   "metadata": {
    "executionInfo": {
     "elapsed": 6234,
     "status": "ok",
     "timestamp": 1674148679890,
     "user": {
      "displayName": "Reginaldo Fukuchi",
      "userId": "10593265862496095759"
     },
     "user_tz": 420
    },
    "id": "ccaabefc"
   },
   "outputs": [],
   "source": [
    "# Import data\n",
    "data = loadmat(fname)"
   ]
  },
  {
   "cell_type": "code",
   "execution_count": null,
   "id": "VQFChHSbCed-",
   "metadata": {
    "colab": {
     "base_uri": "https://localhost:8080/"
    },
    "executionInfo": {
     "elapsed": 12,
     "status": "ok",
     "timestamp": 1674148718827,
     "user": {
      "displayName": "Reginaldo Fukuchi",
      "userId": "10593265862496095759"
     },
     "user_tz": 420
    },
    "id": "VQFChHSbCed-",
    "outputId": "cfedf42b-5cc8-43db-b4b0-8c8d930bb9aa"
   },
   "outputs": [],
   "source": [
    "data['out'].keys()"
   ]
  },
  {
   "cell_type": "code",
   "execution_count": null,
   "id": "6702b9a2",
   "metadata": {},
   "outputs": [],
   "source": [
    "joints = list(data['out']['r_norm_ang'].keys())\n",
    "joints = ['hip','knee','ankle']\n",
    "axes = ['X','Y','Z']"
   ]
  },
  {
   "cell_type": "code",
   "execution_count": null,
   "id": "5338accc",
   "metadata": {},
   "outputs": [],
   "source": [
    "events = data['out']['r_events']\n",
    "max_stride_time_R = np.max(np.diff(events, axis=0)[:,2])"
   ]
  },
  {
   "cell_type": "markdown",
   "id": "5c8fd2f3",
   "metadata": {},
   "source": [
    "## PENDING\n",
    "* TIME NORMALIZE DATA\n",
    "* AVERAGE ACROSS TRIALS\n",
    "* SAVE AS TXT\n",
    "* PICK SIMILAR SUBJECTS IN RBDS\n",
    "* COMPARE THEM"
   ]
  },
  {
   "cell_type": "code",
   "execution_count": null,
   "id": "cfa0fd48",
   "metadata": {},
   "outputs": [],
   "source": [
    "from tnorma import tnorma"
   ]
  },
  {
   "cell_type": "code",
   "execution_count": null,
   "id": "ba48d52b",
   "metadata": {},
   "outputs": [],
   "source": [
    "angs_R = np.empty(shape=(101, len(events)-1, len(joints), len(axes))) * np.NaN\n",
    "\n",
    "for j, joint in enumerate(joints):\n",
    "    angs = np.array(data['out']['r_angles']['R_'+joint])\n",
    "    ang = np.empty(shape=(max_stride_time_R, len(events)-1))\n",
    "    for i in range(len(events)-1):\n",
    "        yn, tn, indie = tnorma(angs[events[i][2]:events[i+1][2], :], k=1,\n",
    "                               smooth=0, mask=None, show=False)\n",
    "        angs_R[:, i, j, :] = yn"
   ]
  },
  {
   "cell_type": "markdown",
   "id": "73e469f1",
   "metadata": {},
   "source": [
    "### Plotting"
   ]
  },
  {
   "cell_type": "code",
   "execution_count": null,
   "id": "9e79a7df",
   "metadata": {
    "scrolled": false
   },
   "outputs": [],
   "source": [
    "angs_Rm= np.empty(shape=(101, len(joints)*len(axes))) * np.NaN\n",
    "\n",
    "fig, axs = plt.subplots(nrows=len(joints), ncols=len(axes), figsize=(10, 6))\n",
    "plt.subplots_adjust(hspace=0.5)\n",
    "fig.suptitle(\"Right Joint Angles\", fontsize=18, y=0.95)\n",
    "for j, joint in enumerate(joints):\n",
    "    for xyz, eixos in enumerate(axes):\n",
    "        axs[j, xyz].plot(tn, angs_R[:, :, j, xyz])\n",
    "        axs[j, xyz].set_ylabel(joint)\n",
    "        \n",
    "    angs_Rm[:,3*j:3*(j+1)] = np.mean(angs_R[:, :, j, :], axis=1)# mean\n",
    "    \n",
    "plt.show()"
   ]
  },
  {
   "cell_type": "markdown",
   "id": "2e257a02",
   "metadata": {},
   "source": [
    "## Create pandas df"
   ]
  },
  {
   "cell_type": "code",
   "execution_count": null,
   "id": "b3a1d7ce",
   "metadata": {},
   "outputs": [],
   "source": [
    "columns = [joint+'_'+eixo for joint in joints for eixo in axes]\n",
    "dv_R = pd.DataFrame(data=angs_Rm, columns=columns)"
   ]
  },
  {
   "cell_type": "code",
   "execution_count": null,
   "id": "9cb555c6",
   "metadata": {},
   "outputs": [],
   "source": [
    "dv_R['Frame']=tn\n",
    "dv_R.set_index('Frame', inplace=True)\n",
    "dv_R.head()"
   ]
  },
  {
   "cell_type": "code",
   "execution_count": null,
   "id": "5bffeecb",
   "metadata": {},
   "outputs": [],
   "source": [
    "# Export to txt\n",
    "dv_R.to_csv(os.path.join(dir_path, fname[-19:-4]+'.txt'), sep='\\t')"
   ]
  },
  {
   "cell_type": "code",
   "execution_count": null,
   "id": "747867f1",
   "metadata": {
    "id": "747867f1"
   },
   "outputs": [],
   "source": []
  },
  {
   "cell_type": "code",
   "execution_count": null,
   "id": "850f5a7c",
   "metadata": {},
   "outputs": [],
   "source": []
  }
 ],
 "metadata": {
  "colab": {
   "provenance": []
  },
  "kernelspec": {
   "display_name": "Python 3 (ipykernel)",
   "language": "python",
   "name": "python3"
  },
  "language_info": {
   "codemirror_mode": {
    "name": "ipython",
    "version": 3
   },
   "file_extension": ".py",
   "mimetype": "text/x-python",
   "name": "python",
   "nbconvert_exporter": "python",
   "pygments_lexer": "ipython3",
   "version": "3.9.16"
  }
 },
 "nbformat": 4,
 "nbformat_minor": 5
}
